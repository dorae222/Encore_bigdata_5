{
 "cells": [
  {
   "cell_type": "markdown",
   "id": "674d2468-6fb1-4324-ada5-3078d412ae3d",
   "metadata": {},
   "source": [
    "# 백준 용어 및 파이썬 코드"
   ]
  },
  {
   "cell_type": "markdown",
   "id": "60f7fb41-3f94-40c7-8bd0-ead5f24556fc",
   "metadata": {
    "tags": []
   },
   "source": [
    "## 입력\n",
    "- 입력은 사용자의 입력을 의미합니다\n",
    "- 코드가 실행된 다음 사용자가 직접 입력할 수 있도록 할 수 있게 코딩해야하고\n",
    "- 파이썬에서는 input()을 기본적으로 사용합니다\n",
    "- 성능향상이 필요한 경우는 sys.stdin.readline()을 사용합니다.\n",
    "- 브론즈 하위~중위 수준에서는 input 만으로도 풀리니 우선 input()만 쓰겠습니다"
   ]
  },
  {
   "cell_type": "code",
   "execution_count": null,
   "id": "40ca42e3-30a2-43c1-81d7-48b4a0fc0c2f",
   "metadata": {},
   "outputs": [],
   "source": []
  },
  {
   "cell_type": "code",
   "execution_count": 2,
   "id": "4ac324fd-2b52-4c47-b5b4-23b050927b67",
   "metadata": {},
   "outputs": [
    {
     "name": "stdin",
     "output_type": "stream",
     "text": [
      "변수 넣기:  성동구\n"
     ]
    },
    {
     "name": "stdout",
     "output_type": "stream",
     "text": [
      "성동구\n"
     ]
    }
   ],
   "source": [
    "# input()의 좌변에 변수를 대입받으면, 사용자가 입력한 자료가\n",
    "# 해당 변수에 대입됩니다\n",
    "test = input(\"변수 넣기: \")\n",
    "print(test)"
   ]
  },
  {
   "cell_type": "code",
   "execution_count": 3,
   "id": "161c1e09-f5f1-4bf4-acea-3b88597e494d",
   "metadata": {},
   "outputs": [
    {
     "name": "stdin",
     "output_type": "stream",
     "text": [
      " 123\n",
      " 456\n"
     ]
    },
    {
     "name": "stdout",
     "output_type": "stream",
     "text": [
      "123456\n"
     ]
    }
   ],
   "source": [
    "A = input()\n",
    "B = input()\n",
    "print(A+B)"
   ]
  },
  {
   "cell_type": "code",
   "execution_count": 4,
   "id": "78e0c65e-1035-4918-a260-fd88ae487521",
   "metadata": {},
   "outputs": [
    {
     "name": "stdin",
     "output_type": "stream",
     "text": [
      " 123\n",
      " 456\n"
     ]
    },
    {
     "name": "stdout",
     "output_type": "stream",
     "text": [
      "579\n"
     ]
    }
   ],
   "source": [
    "# unput()으로 들어오는 자료를 숫자로 변경하기 위해서는\n",
    "# int()로 input()을 감싸 int(input()) 형태로 만들어주면 됩니다\n",
    "A = int(input())\n",
    "B = int(input())\n",
    "print(A+B)"
   ]
  },
  {
   "cell_type": "code",
   "execution_count": 1,
   "id": "ba336184-bd9b-41df-b9f2-3eba450c2959",
   "metadata": {},
   "outputs": [
    {
     "name": "stdin",
     "output_type": "stream",
     "text": [
      " 5 10\n"
     ]
    },
    {
     "name": "stdout",
     "output_type": "stream",
     "text": [
      "15\n"
     ]
    }
   ],
   "source": [
    "a,b = map(int,input().split())\n",
    "print(a+b)"
   ]
  },
  {
   "cell_type": "code",
   "execution_count": null,
   "id": "be62656c-cb0f-45d1-a2b5-f99ec49db47a",
   "metadata": {},
   "outputs": [],
   "source": [
    "import sys\n",
    "\n",
    "A,B = map(int,sys.stdin.readline().split())\n",
    "print(A*B)"
   ]
  }
 ],
 "metadata": {
  "kernelspec": {
   "display_name": "Python 3 (ipykernel)",
   "language": "python",
   "name": "python3"
  },
  "language_info": {
   "codemirror_mode": {
    "name": "ipython",
    "version": 3
   },
   "file_extension": ".py",
   "mimetype": "text/x-python",
   "name": "python",
   "nbconvert_exporter": "python",
   "pygments_lexer": "ipython3",
   "version": "3.7.13"
  },
  "toc-autonumbering": true
 },
 "nbformat": 4,
 "nbformat_minor": 5
}
