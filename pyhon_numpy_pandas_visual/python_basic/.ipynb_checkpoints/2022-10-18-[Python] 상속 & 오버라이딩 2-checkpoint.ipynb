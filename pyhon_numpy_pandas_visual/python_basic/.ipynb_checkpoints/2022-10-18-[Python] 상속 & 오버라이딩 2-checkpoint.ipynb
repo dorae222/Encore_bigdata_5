{
 "cells": [
  {
   "cell_type": "markdown",
   "id": "0ccf3c8f",
   "metadata": {},
   "source": [
    "# \"[Python] 상속 & 오버라이딩 2\"\n",
    "> \"상속과 오버라이딩 개념\"\n",
    "\n",
    "- toc: true\n",
    "- branch: master\n",
    "- badges: true\n",
    "- comments: true\n",
    "- categories: [상속,오버라이딩]\n",
    "- author: 도형준"
   ]
  },
  {
   "cell_type": "markdown",
   "id": "7289ef55",
   "metadata": {},
   "source": [
    "# 함수도 상속이 되는걸까?"
   ]
  },
  {
   "cell_type": "code",
   "execution_count": 1,
   "id": "84a24b04",
   "metadata": {},
   "outputs": [],
   "source": [
    "class Person:\n",
    "    name = \"\"\n",
    "    age = 0\n",
    "    height = 0\n",
    "    \n",
    "    def get_info(self):\n",
    "        print((\"name: %s, age: %s세, height: %scm\")%(self.name,self.age,self.height))"
   ]
  },
  {
   "cell_type": "code",
   "execution_count": 2,
   "id": "f1b5b804",
   "metadata": {},
   "outputs": [
    {
     "name": "stdout",
     "output_type": "stream",
     "text": [
      "name: 홍길동, age: 20세, height: 170cm\n"
     ]
    }
   ],
   "source": [
    "p1 = Person()\n",
    "p1.name = \"홍길동\"\n",
    "p1.age = 20\n",
    "p1.height = 170\n",
    "p1.get_info()"
   ]
  },
  {
   "cell_type": "code",
   "execution_count": 3,
   "id": "8775f2da",
   "metadata": {},
   "outputs": [],
   "source": [
    "class Student(Person):\n",
    "    major = \"\""
   ]
  },
  {
   "cell_type": "code",
   "execution_count": 4,
   "id": "b9c5dac1",
   "metadata": {},
   "outputs": [
    {
     "name": "stdout",
     "output_type": "stream",
     "text": [
      "name: 홍길동, age: 20세, height: 170cm\n"
     ]
    }
   ],
   "source": [
    "s1 = Student()\n",
    "s1.name = \"홍길동\"\n",
    "s1.age = 20\n",
    "s1.height = 170\n",
    "s1.major = '빅데이터'\n",
    "# 상속된 메서드도 자식쪽에서 호출 가능하다.\n",
    "s1.get_info()"
   ]
  },
  {
   "cell_type": "markdown",
   "id": "0bc61e14",
   "metadata": {},
   "source": [
    "## 예시"
   ]
  },
  {
   "cell_type": "code",
   "execution_count": 5,
   "id": "3808db8b",
   "metadata": {},
   "outputs": [],
   "source": [
    "class Salaryman(Person):\n",
    "    job = \"\"\n",
    "    income = 0"
   ]
  },
  {
   "cell_type": "code",
   "execution_count": 6,
   "id": "34fc8f5d",
   "metadata": {},
   "outputs": [
    {
     "name": "stdout",
     "output_type": "stream",
     "text": [
      "name: 도형준, age: 24세, height: 175cm\n"
     ]
    }
   ],
   "source": [
    "me = Salaryman()\n",
    "me.job = \"DS\"\n",
    "me.income = 100000\n",
    "me.name = \"도형준\"\n",
    "me.age = 24\n",
    "me.height = 175\n",
    "me.get_info()"
   ]
  },
  {
   "cell_type": "markdown",
   "id": "da8e4aee",
   "metadata": {},
   "source": [
    "# 오버라이딩"
   ]
  },
  {
   "cell_type": "markdown",
   "id": "8b08f70c",
   "metadata": {},
   "source": [
    "- 오버라이딩이란 부모가 물려준 메서드를 자식쪽에서 고쳐쓰는 것(재정의)을 의미합니다.\n",
    "- 위와 같이 부모쪽에서 이미 특정 메서드가 생성되었지만,\n",
    "- 자식 쪽에서 추가된 사항을 따로 반영하지 못한다던지하는 이슈가 발생했을 때\n",
    "- 자식 쪽에서 물려받은 메서드를 고쳐서 현재 객체 상황에 맞게 쓰는 것을 '오버라이딩'이라고 합니다\n",
    "- 방법은 자식쪽 클래스 설계 부분에 부모쪽과 동일한 메서드를 작성하고\n",
    "- 코드내용을 새롭게 작성하면 됩니다"
   ]
  },
  {
   "cell_type": "markdown",
   "id": "ba9c2c77",
   "metadata": {},
   "source": [
    "## 예시2.1 - 일반 비행기(속도 900)"
   ]
  },
  {
   "cell_type": "markdown",
   "id": "10e6cef9",
   "metadata": {},
   "source": [
    "- 더 많은 예외상황들을 추가해야되지만, 오버라이딩 개념을 위해서 간략하게 만듦"
   ]
  },
  {
   "cell_type": "code",
   "execution_count": 7,
   "id": "58222054",
   "metadata": {},
   "outputs": [],
   "source": [
    "class Airplane:\n",
    "    velocity = 0\n",
    "    gas = 0\n",
    "    flight_number = \"\"\n",
    "    \n",
    "    # 생성자 만들기\n",
    "    # 위 3개 변수를 모두 입력해야 생성됩니다.\n",
    "    def __init__(self,velocity, gas, flight_number):\n",
    "        self.velocity = velocity\n",
    "        self.gas = gas\n",
    "        self.flight_number = flight_number\n",
    "        \n",
    "    # 비행기의 비행기능 만들기\n",
    "    def fly(self):\n",
    "        # if문을 이용해서 최대 속도를 900으로 맞추기\n",
    "        # 이와 더불어 연료가 0이면 작동 X\n",
    "        if (self.gas <= 0):\n",
    "            print(\"연료가 없습니다\")\n",
    "            return # break문처럼 함수를 즉시 종료시킴\n",
    "        if ((self.velocity+200) > 900):\n",
    "            self.velocity = 900\n",
    "        else:\n",
    "            self.velocity += 200\n",
    "        self.gas -= 100\n",
    "                \n",
    "    # 비행기의 브레이크 기능 만들기\n",
    "    # 실행시 연료는 소비하지 않지만 속도가 200씩 차감됨\n",
    "    \n",
    "    def stop(self):\n",
    "        # 최저 속도를 0으로 만들기\n",
    "        if (self.velocity < 0):\n",
    "            print('속도를 올려주세요')\n",
    "            self.velocity = 0\n",
    "            return\n",
    "        else:\n",
    "            self.velocity -= 200\n",
    "    \n",
    "    # 비행기의 현재 상태\n",
    "    def get_info(self):\n",
    "        print((\"현재 속도: %skm/h, 현재 연료량: %s:, 편명: %s\")%(self.velocity,self.gas,self.flight_number))"
   ]
  },
  {
   "cell_type": "code",
   "execution_count": 8,
   "id": "31453ffa",
   "metadata": {},
   "outputs": [
    {
     "name": "stdout",
     "output_type": "stream",
     "text": [
      "현재 속도: 0km/h, 현재 연료량: 5000:, 편명: KE889\n"
     ]
    }
   ],
   "source": [
    "a1 = Airplane(0,5000,\"KE889\")\n",
    "a1.get_info()"
   ]
  },
  {
   "cell_type": "markdown",
   "id": "0049d591",
   "metadata": {},
   "source": [
    "- fly()"
   ]
  },
  {
   "cell_type": "code",
   "execution_count": 9,
   "id": "8ad541f2",
   "metadata": {},
   "outputs": [
    {
     "name": "stdout",
     "output_type": "stream",
     "text": [
      "현재 속도: 900km/h, 현재 연료량: 100:, 편명: KE889\n"
     ]
    }
   ],
   "source": [
    "for i in range(49):\n",
    "    a1.fly()\n",
    "a1.get_info()"
   ]
  },
  {
   "cell_type": "code",
   "execution_count": 10,
   "id": "85783df1",
   "metadata": {},
   "outputs": [
    {
     "name": "stdout",
     "output_type": "stream",
     "text": [
      "현재 속도: 900km/h, 현재 연료량: 0:, 편명: KE889\n"
     ]
    }
   ],
   "source": [
    "a1.fly()\n",
    "a1.get_info()"
   ]
  },
  {
   "cell_type": "code",
   "execution_count": 11,
   "id": "c5ff5c42",
   "metadata": {
    "scrolled": false
   },
   "outputs": [
    {
     "name": "stdout",
     "output_type": "stream",
     "text": [
      "연료가 없습니다\n",
      "현재 속도: 900km/h, 현재 연료량: 0:, 편명: KE889\n"
     ]
    }
   ],
   "source": [
    "a1.fly()\n",
    "a1.get_info()"
   ]
  },
  {
   "cell_type": "markdown",
   "id": "dd4b6d95",
   "metadata": {},
   "source": [
    "- stop()"
   ]
  },
  {
   "cell_type": "code",
   "execution_count": 12,
   "id": "a76eaac9",
   "metadata": {},
   "outputs": [
    {
     "name": "stdout",
     "output_type": "stream",
     "text": [
      "현재 속도: 0km/h, 현재 연료량: 5000:, 편명: KE889\n"
     ]
    }
   ],
   "source": [
    "a1 = Airplane(0,5000,\"KE889\")\n",
    "a1.get_info()"
   ]
  },
  {
   "cell_type": "code",
   "execution_count": 13,
   "id": "bc2c2651",
   "metadata": {},
   "outputs": [],
   "source": [
    "a1.stop()"
   ]
  },
  {
   "cell_type": "markdown",
   "id": "121d795e",
   "metadata": {},
   "source": [
    "## 예시2.2 - 초음속 비행기(속도 2000)"
   ]
  },
  {
   "cell_type": "code",
   "execution_count": 14,
   "id": "b24816d7",
   "metadata": {},
   "outputs": [],
   "source": [
    "class SupersonicAirplane(Airplane):\n",
    "    # 오버라이딩은 부모에게 물려받은 메서드가 조건에 부합하지 않을 때\n",
    "    # 새롭게 정의하는 것을 의미한다.\n",
    "    # 같은 이름, 같은 파라미터 선언으로 정의하면 된다.\n",
    "    def fly(self):\n",
    "        # 메서드명과 파라미터는 동일하나 코드가 바뀜\n",
    "        if (self.gas <= 0):\n",
    "            print(\"연료가 없습니다\")\n",
    "            return # break문처럼 함수를 즉시 종료시킴\n",
    "        if ((self.velocity+200) > 2000):\n",
    "            self.velocity = 2000\n",
    "        else:\n",
    "            self.velocity += 200\n",
    "        self.gas -= 100"
   ]
  },
  {
   "cell_type": "code",
   "execution_count": 15,
   "id": "88b6f60f",
   "metadata": {},
   "outputs": [
    {
     "name": "stdout",
     "output_type": "stream",
     "text": [
      "현재 속도: 900km/h, 현재 연료량: 4500:, 편명: KE889\n"
     ]
    }
   ],
   "source": [
    "# 비행기 a2를 만들어서 최대시속 over로 fly를 호출(5번 이상)해서\n",
    "# 900을 넘지 않음을 확인\n",
    "a2 = Airplane(0,5000,\"KE889\")\n",
    "for i in range(5):\n",
    "    a2.fly()\n",
    "a2.get_info()"
   ]
  }
 ],
 "metadata": {
  "kernelspec": {
   "display_name": "Python 3 (ipykernel)",
   "language": "python",
   "name": "python3"
  },
  "language_info": {
   "codemirror_mode": {
    "name": "ipython",
    "version": 3
   },
   "file_extension": ".py",
   "mimetype": "text/x-python",
   "name": "python",
   "nbconvert_exporter": "python",
   "pygments_lexer": "ipython3",
   "version": "3.9.12"
  },
  "toc": {
   "base_numbering": 1,
   "nav_menu": {},
   "number_sections": true,
   "sideBar": true,
   "skip_h1_title": false,
   "title_cell": "Table of Contents",
   "title_sidebar": "Contents",
   "toc_cell": false,
   "toc_position": {},
   "toc_section_display": true,
   "toc_window_display": false
  }
 },
 "nbformat": 4,
 "nbformat_minor": 5
}
