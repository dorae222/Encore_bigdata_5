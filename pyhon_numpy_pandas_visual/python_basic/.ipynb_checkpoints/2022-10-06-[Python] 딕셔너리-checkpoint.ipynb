{
 "cells": [
  {
   "cell_type": "markdown",
   "id": "5773ff43",
   "metadata": {},
   "source": [
    "# \"[Python] 딕셔너리\"\n",
    "> \" \"\n",
    "\n",
    "- toc: true\n",
    "- branch: master\n",
    "- badges: true\n",
    "- comments: true\n",
    "- categories: [jupyter,python,딕셔너리]\n",
    "- author: 도형준"
   ]
  },
  {
   "cell_type": "markdown",
   "id": "8b6256f6",
   "metadata": {},
   "source": [
    "# 딕셔너리(Dictionary)\n",
    "- 앞쪽_화살표: 문법 기호/함수 : {key1 : value1, key2 : value2, key3 : value3 ... } / 함수 : dict()\n",
    "- 앞쪽_화살표: key로 가질 수 있는 데이터 타입 : 문자, 숫자, 튜플(Tuple)\n",
    "- 앞쪽_화살표: value로 가질 수 있는 데이터 타입 : 문자, 숫자, 리스트(List), 딕셔너리(Dict) ...\n",
    "- 앞쪽_화살표: 아이템 = key&value 하나의 쌍\n",
    "- 앞쪽_화살표: 종류\n",
    "     * 아이템이 없는 딕셔너리\n",
    "     * 1차원 딕셔너리\n",
    "     * 다차원 딕셔너리\n",
    "- 앞쪽_화살표: 특징\n",
    "     * key, value의 차이점\n",
    "     * 인덱스 번호를 가지지 않는다."
   ]
  },
  {
   "cell_type": "markdown",
   "id": "533fbc7b",
   "metadata": {},
   "source": [
    "## 생성하기"
   ]
  },
  {
   "cell_type": "code",
   "execution_count": 1,
   "id": "b47ab5db",
   "metadata": {},
   "outputs": [
    {
     "data": {
      "text/plain": [
       "dict"
      ]
     },
     "execution_count": 1,
     "metadata": {},
     "output_type": "execute_result"
    }
   ],
   "source": [
    "# 딕셔너리 생성하기\n",
    "# 문법기호: {k1:v1, k2:v2 ...}\n",
    "d1 = {1:10, 2:20, 3:30}\n",
    "type(d1)"
   ]
  },
  {
   "cell_type": "code",
   "execution_count": 2,
   "id": "0b7e93cd",
   "metadata": {},
   "outputs": [
    {
     "data": {
      "text/plain": [
       "{}"
      ]
     },
     "execution_count": 2,
     "metadata": {},
     "output_type": "execute_result"
    }
   ],
   "source": [
    "# dict()를 이용해서 생성할 수도 있다.\n",
    "d2 = dict()\n",
    "d2"
   ]
  },
  {
   "cell_type": "code",
   "execution_count": 3,
   "id": "aef5e9b0",
   "metadata": {},
   "outputs": [],
   "source": [
    "# 2차원 자료를 이용해 딕셔너리로 변환 가능\n",
    "x = [['a','b'],\n",
    "    ['a1','b1'],\n",
    "    ['a2','b2']]"
   ]
  },
  {
   "cell_type": "code",
   "execution_count": 4,
   "id": "863c2f88",
   "metadata": {},
   "outputs": [
    {
     "data": {
      "text/plain": [
       "{'a': 'b', 'a1': 'b1', 'a2': 'b2'}"
      ]
     },
     "execution_count": 4,
     "metadata": {},
     "output_type": "execute_result"
    }
   ],
   "source": [
    "# 딕셔너리로 변환\n",
    "dict(x)"
   ]
  },
  {
   "cell_type": "code",
   "execution_count": 5,
   "id": "e4e81e64",
   "metadata": {},
   "outputs": [
    {
     "data": {
      "text/plain": [
       "{1: [1, 2, 3], 2: {'a': 'b'}}"
      ]
     },
     "execution_count": 5,
     "metadata": {},
     "output_type": "execute_result"
    }
   ],
   "source": [
    "# 딕셔너리의 value값에 들어갈 수 있는 자료에는 제약이 없다\n",
    "{1:[1,2,3],2:{'a':'b'}}"
   ]
  },
  {
   "cell_type": "code",
   "execution_count": 6,
   "id": "3a077e90",
   "metadata": {},
   "outputs": [
    {
     "data": {
      "text/plain": [
       "{'name': '임꺽정', 'name2': '임꺽정'}"
      ]
     },
     "execution_count": 6,
     "metadata": {},
     "output_type": "execute_result"
    }
   ],
   "source": [
    "# key와 value 차이\n",
    "# key값에는 중복된 자료가 못 들어가며\n",
    "# 만약 선언단계에서 중복된 key로 선언시 가장 마지막 하나만 반영된다\n",
    "{\"name\":'홍길동',\"name\":'임꺽정',\"name2\":\"임꺽정\"}"
   ]
  },
  {
   "cell_type": "markdown",
   "id": "e90a8746",
   "metadata": {},
   "source": [
    "## 인덱싱"
   ]
  },
  {
   "cell_type": "markdown",
   "id": "c76a051a",
   "metadata": {},
   "source": [
    "- 인덱싱 문법 기호\n",
    "- 일차원 vs 다차원 인덱싱\n",
    "- 딕셔너리 내장함수로 인덱싱"
   ]
  },
  {
   "cell_type": "code",
   "execution_count": 20,
   "id": "83445509",
   "metadata": {},
   "outputs": [
    {
     "data": {
      "text/plain": [
       "1"
      ]
     },
     "execution_count": 20,
     "metadata": {},
     "output_type": "execute_result"
    }
   ],
   "source": [
    "# 기존의 인덱싱 방법 : 객체[인덱싱번호]\n",
    "a = [1, 2, 3]\n",
    "a[0]"
   ]
  },
  {
   "cell_type": "code",
   "execution_count": 21,
   "id": "10d262a6",
   "metadata": {},
   "outputs": [],
   "source": [
    "# 문자, 리스트타입 인덱싱과의 차이점 : 기준값이 인덱스번호가 아닌 key값을 사용\n",
    "d1 = {'a':10, 'b':20, 'c':30}"
   ]
  },
  {
   "cell_type": "code",
   "execution_count": 22,
   "id": "8b166cc9",
   "metadata": {},
   "outputs": [
    {
     "data": {
      "text/plain": [
       "30"
      ]
     },
     "execution_count": 22,
     "metadata": {},
     "output_type": "execute_result"
    }
   ],
   "source": [
    "# 인덱싱 방식 : 없는 key값을 조회하면 에러\n",
    "d1['c']"
   ]
  },
  {
   "cell_type": "code",
   "execution_count": 23,
   "id": "ce2b1188",
   "metadata": {},
   "outputs": [],
   "source": [
    "# 내장함수 .get()을 사용하면, 없는 키값으로 조회해도 에러가 나지 않는다.\n",
    "d1.get('bd')"
   ]
  },
  {
   "cell_type": "code",
   "execution_count": 24,
   "id": "c6c327b5",
   "metadata": {},
   "outputs": [
    {
     "ename": "TypeError",
     "evalue": "unhashable type: 'slice'",
     "output_type": "error",
     "traceback": [
      "\u001b[1;31m---------------------------------------------------------------------------\u001b[0m",
      "\u001b[1;31mTypeError\u001b[0m                                 Traceback (most recent call last)",
      "\u001b[1;32m~\\AppData\\Local\\Temp\\ipykernel_25176\\3011818499.py\u001b[0m in \u001b[0;36m<module>\u001b[1;34m\u001b[0m\n\u001b[0;32m      1\u001b[0m \u001b[1;31m# 딕셔너리는 슬라이싱이 불가능하다.\u001b[0m\u001b[1;33m\u001b[0m\u001b[1;33m\u001b[0m\u001b[1;33m\u001b[0m\u001b[0m\n\u001b[0;32m      2\u001b[0m \u001b[1;31m# 슬라이싱 대신 반복문을 사용해야 한다.\u001b[0m\u001b[1;33m\u001b[0m\u001b[1;33m\u001b[0m\u001b[1;33m\u001b[0m\u001b[0m\n\u001b[1;32m----> 3\u001b[1;33m \u001b[0md1\u001b[0m\u001b[1;33m[\u001b[0m\u001b[1;34m'a'\u001b[0m\u001b[1;33m:\u001b[0m\u001b[1;34m'c'\u001b[0m\u001b[1;33m]\u001b[0m\u001b[1;33m\u001b[0m\u001b[1;33m\u001b[0m\u001b[0m\n\u001b[0m",
      "\u001b[1;31mTypeError\u001b[0m: unhashable type: 'slice'"
     ]
    }
   ],
   "source": [
    "# 딕셔너리는 슬라이싱이 불가능하다.\n",
    "# 슬라이싱 대신 반복문을 사용해야 한다.\n",
    "d1['a':'c']"
   ]
  },
  {
   "cell_type": "markdown",
   "id": "bee5e841",
   "metadata": {},
   "source": [
    "### << 연습문제 >>\n",
    "아래와 같은 다차원 딕셔너리를 만들고 제시한 값을 출력해보세요.\n",
    "    {'a' : [1, 2, 3], 'b' : 100, 'c' : {'key1' : ['파인애플', '포도', '바나나'], 'key2' : (55, 66)}}\n",
    "* 1) 3 출력하기\n",
    "* 2) ['파인애플', '포도', '바나나']\n",
    "* 3) 포도 출력하기\n",
    "* 4) 55 출력하기"
   ]
  },
  {
   "cell_type": "code",
   "execution_count": 7,
   "id": "1550e2fb",
   "metadata": {},
   "outputs": [],
   "source": [
    "d1= {'a' : [1, 2, 3],\n",
    "     'b' : 100,\n",
    "     'c' : {'key1' : ['파인애플', '포도', '바나나'],\n",
    "            'key2' : (55, 66)}}"
   ]
  },
  {
   "cell_type": "code",
   "execution_count": 8,
   "id": "6ff082bf",
   "metadata": {},
   "outputs": [
    {
     "data": {
      "text/plain": [
       "3"
      ]
     },
     "execution_count": 8,
     "metadata": {},
     "output_type": "execute_result"
    }
   ],
   "source": [
    "# 1. 3 출력하기\n",
    "d1['a'][2]"
   ]
  },
  {
   "cell_type": "code",
   "execution_count": 9,
   "id": "bebbdc60",
   "metadata": {},
   "outputs": [
    {
     "data": {
      "text/plain": [
       "['파인애플', '포도', '바나나']"
      ]
     },
     "execution_count": 9,
     "metadata": {},
     "output_type": "execute_result"
    }
   ],
   "source": [
    "# 2. ['파인애플','포도','바나나']\n",
    "d1['c']['key1']"
   ]
  },
  {
   "cell_type": "code",
   "execution_count": 10,
   "id": "176dcd59",
   "metadata": {},
   "outputs": [
    {
     "data": {
      "text/plain": [
       "'포도'"
      ]
     },
     "execution_count": 10,
     "metadata": {},
     "output_type": "execute_result"
    }
   ],
   "source": [
    "# 3. 포도 출력하기\n",
    "d1['c']['key1'][1]"
   ]
  },
  {
   "cell_type": "code",
   "execution_count": 11,
   "id": "4dffb5b4",
   "metadata": {
    "scrolled": true
   },
   "outputs": [
    {
     "data": {
      "text/plain": [
       "55"
      ]
     },
     "execution_count": 11,
     "metadata": {},
     "output_type": "execute_result"
    }
   ],
   "source": [
    "# 4. 55출력하기\n",
    "d1['c']['key2'][0]"
   ]
  },
  {
   "cell_type": "markdown",
   "id": "4710d92e",
   "metadata": {},
   "source": [
    "## item 추가하기"
   ]
  },
  {
   "cell_type": "markdown",
   "id": "49e56524",
   "metadata": {},
   "source": [
    "- 인덱싱 방식으로 새로운 아이템 추가하기\n",
    "- 메서드: update()"
   ]
  },
  {
   "cell_type": "markdown",
   "id": "ee20fd60",
   "metadata": {},
   "source": [
    "### 인덱싱"
   ]
  },
  {
   "cell_type": "code",
   "execution_count": 12,
   "id": "57f2d19c",
   "metadata": {},
   "outputs": [],
   "source": [
    "d1 = {'a':1,'b':2,'c':3}"
   ]
  },
  {
   "cell_type": "code",
   "execution_count": 13,
   "id": "40bf6beb",
   "metadata": {},
   "outputs": [
    {
     "data": {
      "text/plain": [
       "{'a': 1, 'b': 2, 'c': 3, 'd': 4}"
      ]
     },
     "execution_count": 13,
     "metadata": {},
     "output_type": "execute_result"
    }
   ],
   "source": [
    "# 새로운 key값(인덱싱)에 value값을 할당하여 아이템 추가\n",
    "d1['d'] = 4\n",
    "d1"
   ]
  },
  {
   "cell_type": "code",
   "execution_count": 14,
   "id": "11b03c38",
   "metadata": {},
   "outputs": [
    {
     "data": {
      "text/plain": [
       "{'a': 10, 'b': 2, 'c': 3, 'd': 4}"
      ]
     },
     "execution_count": 14,
     "metadata": {},
     "output_type": "execute_result"
    }
   ],
   "source": [
    "# 기존에 존재하는 key값에 대해서 value를 할당하면 값이 새롭게 갱신됨\n",
    "d1['a'] = 10\n",
    "d1"
   ]
  },
  {
   "cell_type": "markdown",
   "id": "3418f187",
   "metadata": {},
   "source": [
    "### .update()"
   ]
  },
  {
   "cell_type": "code",
   "execution_count": 15,
   "id": "bdd08881",
   "metadata": {},
   "outputs": [
    {
     "data": {
      "text/plain": [
       "{'a': 10, 'b': 2, 'c': 3, 'd': 4, 'e': 10, 'z': 40, 'v': 100}"
      ]
     },
     "execution_count": 15,
     "metadata": {},
     "output_type": "execute_result"
    }
   ],
   "source": [
    "# 하나 이상의 아이팀(key&value) 추가/수정: 딕셔너리자료.update()\n",
    "# 추가할 아이템 타입: 딕셔너리를 직접 넣어줘도 되고\n",
    "# 딕셔너리로 변환이 가능한 리스트를 넣어줘도 됩니다\n",
    "d1.update({'e':10,'z':40,'v':100})\n",
    "d1"
   ]
  },
  {
   "cell_type": "code",
   "execution_count": 16,
   "id": "5e81df6b",
   "metadata": {},
   "outputs": [],
   "source": [
    "# 리스트로 처리하기\n",
    "d2 = {'a':10,'b':2,'c':3,'d':4}"
   ]
  },
  {
   "cell_type": "code",
   "execution_count": 17,
   "id": "3915cc55",
   "metadata": {},
   "outputs": [
    {
     "data": {
      "text/plain": [
       "{'a': 10, 'b': 10, 'c': 3, 'd': 4, 'e': 50, 'f': 100}"
      ]
     },
     "execution_count": 17,
     "metadata": {},
     "output_type": "execute_result"
    }
   ],
   "source": [
    "data = [['b',10],\n",
    "       ['e',50],\n",
    "       ['f',100]]\n",
    "d2.update(data)\n",
    "d2"
   ]
  },
  {
   "cell_type": "code",
   "execution_count": 18,
   "id": "892ce63e",
   "metadata": {},
   "outputs": [
    {
     "data": {
      "text/plain": [
       "{'b': 10, 'e': 50, 'f': 100}"
      ]
     },
     "execution_count": 18,
     "metadata": {},
     "output_type": "execute_result"
    }
   ],
   "source": [
    "# 딕셔너리로 변환되는 리스트 형식이기 때문에 가능합니다.\n",
    "dict(data)"
   ]
  },
  {
   "cell_type": "code",
   "execution_count": 19,
   "id": "561f9f5d",
   "metadata": {},
   "outputs": [
    {
     "data": {
      "text/plain": [
       "['a', 'b', 'c', 'd', 'e', 'f']"
      ]
     },
     "execution_count": 19,
     "metadata": {},
     "output_type": "execute_result"
    }
   ],
   "source": [
    "# 딕셔너리를 리스트로 돌릴때는 키값만 복원됩니다\n",
    "list(d2)"
   ]
  }
 ],
 "metadata": {
  "kernelspec": {
   "display_name": "Python 3 (ipykernel)",
   "language": "python",
   "name": "python3"
  },
  "language_info": {
   "codemirror_mode": {
    "name": "ipython",
    "version": 3
   },
   "file_extension": ".py",
   "mimetype": "text/x-python",
   "name": "python",
   "nbconvert_exporter": "python",
   "pygments_lexer": "ipython3",
   "version": "3.7.13"
  },
  "toc": {
   "base_numbering": 1,
   "nav_menu": {},
   "number_sections": true,
   "sideBar": true,
   "skip_h1_title": false,
   "title_cell": "Table of Contents",
   "title_sidebar": "Contents",
   "toc_cell": false,
   "toc_position": {
    "height": "calc(100% - 180px)",
    "left": "10px",
    "top": "150px",
    "width": "228.2px"
   },
   "toc_section_display": true,
   "toc_window_display": true
  },
  "varInspector": {
   "cols": {
    "lenName": 16,
    "lenType": 16,
    "lenVar": 40
   },
   "kernels_config": {
    "python": {
     "delete_cmd_postfix": "",
     "delete_cmd_prefix": "del ",
     "library": "var_list.py",
     "varRefreshCmd": "print(var_dic_list())"
    },
    "r": {
     "delete_cmd_postfix": ") ",
     "delete_cmd_prefix": "rm(",
     "library": "var_list.r",
     "varRefreshCmd": "cat(var_dic_list()) "
    }
   },
   "position": {
    "height": "144.844px",
    "left": "907.646px",
    "right": "20px",
    "top": "118px",
    "width": "350px"
   },
   "types_to_exclude": [
    "module",
    "function",
    "builtin_function_or_method",
    "instance",
    "_Feature"
   ],
   "window_display": false
  }
 },
 "nbformat": 4,
 "nbformat_minor": 5
}
