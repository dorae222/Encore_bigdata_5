{
 "cells": [
  {
   "cell_type": "markdown",
   "id": "a6afd67a",
   "metadata": {},
   "source": [
    "# [Python] 웹 크롤링\n",
    "> \"Selenium\"\n",
    "\n",
    "- toc: true\n",
    "- branch: master\n",
    "- badges: true\n",
    "- comments: true\n",
    "- categories: [함수(def),매개변수,가변인자]\n",
    "- author: 도형준"
   ]
  },
  {
   "cell_type": "code",
   "execution_count": null,
   "id": "00ef95f1",
   "metadata": {},
   "outputs": [],
   "source": []
  }
 ],
 "metadata": {
  "kernelspec": {
   "display_name": "Python 3 (ipykernel)",
   "language": "python",
   "name": "python3"
  },
  "language_info": {
   "codemirror_mode": {
    "name": "ipython",
    "version": 3
   },
   "file_extension": ".py",
   "mimetype": "text/x-python",
   "name": "python",
   "nbconvert_exporter": "python",
   "pygments_lexer": "ipython3",
   "version": "3.9.12"
  }
 },
 "nbformat": 4,
 "nbformat_minor": 5
}
