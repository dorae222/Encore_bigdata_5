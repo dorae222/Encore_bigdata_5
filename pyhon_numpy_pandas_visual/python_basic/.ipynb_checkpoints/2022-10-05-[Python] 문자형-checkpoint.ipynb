{
 "cells": [
  {
   "cell_type": "markdown",
   "id": "91ce1783",
   "metadata": {},
   "source": [
    "# \"[Python] 문자형\"\n",
    "> \" \"\n",
    "\n",
    "- toc: true\n",
    "- branch: master\n",
    "- badges: true\n",
    "- comments: true\n",
    "- categories: [jupyter,python,문자형]\n",
    "- author: 도형준"
   ]
  },
  {
   "cell_type": "markdown",
   "id": "6c203fc4",
   "metadata": {
    "jp-MarkdownHeadingCollapsed": true,
    "tags": []
   },
   "source": [
    "# 데이터 타입(문자)"
   ]
  },
  {
   "cell_type": "markdown",
   "id": "b550643e",
   "metadata": {},
   "source": [
    "- 전화번호를 끊어서 읽는 것처럼, 파이썬도 문자와 숫자를 구분한다"
   ]
  },
  {
   "cell_type": "code",
   "execution_count": 1,
   "id": "90151d60",
   "metadata": {},
   "outputs": [
    {
     "data": {
      "text/plain": [
       "-627"
      ]
     },
     "execution_count": 1,
     "metadata": {},
     "output_type": "execute_result"
    }
   ],
   "source": [
    "1373-2000"
   ]
  },
  {
   "cell_type": "markdown",
   "id": "5b818d57",
   "metadata": {
    "tags": []
   },
   "source": [
    "# 생성하기\n",
    "- 여닫는 따옴표는 반드시 문자의 앞 뒤에서 한 쌍으로 완성해야 한다."
   ]
  },
  {
   "cell_type": "markdown",
   "id": "0c40282a",
   "metadata": {},
   "source": [
    "## 1) 한 줄 문자열 : ' , \""
   ]
  },
  {
   "cell_type": "code",
   "execution_count": 2,
   "id": "022decad",
   "metadata": {},
   "outputs": [
    {
     "data": {
      "text/plain": [
       "'123'"
      ]
     },
     "execution_count": 2,
     "metadata": {},
     "output_type": "execute_result"
    }
   ],
   "source": [
    "# 숫자가 아닌 문자\n",
    "\"123\""
   ]
  },
  {
   "cell_type": "code",
   "execution_count": 3,
   "id": "539f0d34",
   "metadata": {},
   "outputs": [
    {
     "name": "stdout",
     "output_type": "stream",
     "text": [
      "안녕 \n",
      "반가워\n"
     ]
    }
   ],
   "source": [
    "a = '안녕 \\n반가워'\n",
    "print(a)"
   ]
  },
  {
   "cell_type": "markdown",
   "id": "d94f5220",
   "metadata": {},
   "source": [
    "## 2) 여러 줄 문자열: \\n, ''' ''', \"\"\" \"\"\"\n",
    "\n",
    "- print() 했을 때 enter(줄바꿈)이 그대로 반영되는 문자열로 처리 가능.\n",
    "- 단 화면에서 보기를 화면(print 없이 주피터 노트북 결과로 보면)\n",
    "- 줄바꿈이 바로 나타나지 않고 \\n 처리 된다"
   ]
  },
  {
   "cell_type": "code",
   "execution_count": 4,
   "id": "43b5bc4c",
   "metadata": {},
   "outputs": [
    {
     "name": "stdout",
     "output_type": "stream",
     "text": [
      "안녕\n",
      "반가워\n"
     ]
    }
   ],
   "source": [
    "a=\"\"\"안녕\n",
    "반가워\"\"\"\n",
    "print(a)"
   ]
  },
  {
   "cell_type": "code",
   "execution_count": 5,
   "id": "458080b2",
   "metadata": {},
   "outputs": [
    {
     "data": {
      "text/plain": [
       "'안녕\\n반가워'"
      ]
     },
     "execution_count": 5,
     "metadata": {},
     "output_type": "execute_result"
    }
   ],
   "source": [
    "a"
   ]
  },
  {
   "cell_type": "markdown",
   "id": "c6ec938d",
   "metadata": {},
   "source": [
    "## 3) 문자 속에 문자열 기호 사용하기\n",
    "- 문자열에서 자주 쓰는 기호: ', \""
   ]
  },
  {
   "cell_type": "code",
   "execution_count": 6,
   "id": "ce67d008",
   "metadata": {},
   "outputs": [
    {
     "name": "stdout",
     "output_type": "stream",
     "text": [
      "She's happy\n"
     ]
    }
   ],
   "source": [
    "# 언어, 문자에서 많이 쓰이는 기호: she's, \"설렁탕을 사러왔는데 왜 먹지를 못하나...\"\n",
    "# a = 'She's happy'\n",
    "a = \"She's happy\"\n",
    "print(a)"
   ]
  },
  {
   "cell_type": "code",
   "execution_count": 7,
   "id": "a5663e47",
   "metadata": {},
   "outputs": [
    {
     "name": "stdout",
     "output_type": "stream",
     "text": [
      "오늘은 \"미세먼지\" 좋음.\n"
     ]
    }
   ],
   "source": [
    "title = '오늘은 \"미세먼지\" 좋음.'\n",
    "print(title)"
   ]
  },
  {
   "cell_type": "code",
   "execution_count": 8,
   "id": "3cb85b13",
   "metadata": {},
   "outputs": [
    {
     "name": "stdout",
     "output_type": "stream",
     "text": [
      "\"He's sad.\"\n"
     ]
    }
   ],
   "source": [
    "# 같은 종류의 따옴표 내부에서 문자 따옴표를 쓸 때는\n",
    "# 따옴표 왼쪽에 \\를 붙여 해당 따옴표가 여닫는 용도로 쓰이지 않았음을 보여줘도 된다.\n",
    "b=\"\\\"He's sad.\\\"\"\n",
    "print(b)"
   ]
  },
  {
   "cell_type": "code",
   "execution_count": 9,
   "id": "8be35972",
   "metadata": {},
   "outputs": [
    {
     "name": "stdout",
     "output_type": "stream",
     "text": [
      "aaaaaaaaaaaaaaaaaaaaaaaaaaaaaaaaaaaaaaaaaaaaaaaaaaaaaaaaaaaaaaaaaaaaaaaaaaaaaaaaaaaaaaaaaaaaaaaaaaaaaaaaaaaaaaaaaaaaaaaaaaaaaaaaaaaaaaaaaaaaa\n"
     ]
    }
   ],
   "source": [
    "#  만약 문자열이 너무 길어서 보는데 불편한 경우, \\만 써 주고 엔터로 줄을 넘기면\n",
    "# 표기상으로는 두 줄이지만 실제 개념적으로는 한줄로 인식되는 문자열이 됩니다.\n",
    "c='aaaaaaaaaaaaaaaaaaaaaaaaaaaaaaaaaaaaaaaaaaaaaaaaaaaaaaaaaaaaaaaaaaaaaaaaaaaaaaaaaaaaaaaaaaaaaaaaaaaaaaaaaaaaaaaaaaaaaaaaaaaaaaaaaaaaaaaaaaaaa'\n",
    "print(c)"
   ]
  },
  {
   "cell_type": "code",
   "execution_count": 10,
   "id": "c1b0bd10",
   "metadata": {},
   "outputs": [
    {
     "name": "stdout",
     "output_type": "stream",
     "text": [
      "aaaaaaaaaaaaaaaaaaaaaaaaaaaaaaaaaaaaaaaaaaaaaaaaaaaaaaaaaaaaaaaaaaaaaaaaaaaaaaaaaaaaaaaaaaaaaaaaaaaaaaaaaaaaaaaaaaaaaaaaaaaaaaaaaaaaaaaaaaaaa\n"
     ]
    }
   ],
   "source": [
    "c='aaaaaaaaaaaaaaaaaaaaaaaaaaaaaaaaaaaaaaaaaaaaaaaaaaaa\\\n",
    "aaaaaaaaaaaaaaaaaaaaaaaaaaaaaaaaaaaaaaaaaaaaaaaaaaaaaaaa\\\n",
    "aaaaaaaaaaaaaaaaaaaaaaaaaaaaaaaaa'\n",
    "print(c)"
   ]
  },
  {
   "cell_type": "markdown",
   "id": "e82b8fbd",
   "metadata": {},
   "source": [
    "## 연습문제"
   ]
  },
  {
   "cell_type": "markdown",
   "id": "d4e0aa4d",
   "metadata": {},
   "source": [
    "### 아래와 같은 여러 줄의 문장을 문자열로 만들어서 lines라는 변수에 할당하세요\n",
    "- 파이썬도 배우고\n",
    "- 장고도 배우고\n",
    "- 할게 너무 많아\n",
    "    - 방법1) 여러 줄 문자열 활용하기 (lines 변수에 할당)\n",
    "    - 방법2) 한 줄 문자열 내부에서 \\n 사이사이에 활용하기. (line 변수에 할당)"
   ]
  },
  {
   "cell_type": "code",
   "execution_count": 11,
   "id": "ce47c32f",
   "metadata": {},
   "outputs": [
    {
     "name": "stdout",
     "output_type": "stream",
     "text": [
      "파이썬도 배우고\n",
      "장고도 배우고\n",
      "할게 너무 많아\n"
     ]
    }
   ],
   "source": [
    "# 방법1)\n",
    "lines = \"\"\"파이썬도 배우고\n",
    "장고도 배우고\n",
    "할게 너무 많아\"\"\"\n",
    "print(lines)"
   ]
  },
  {
   "cell_type": "code",
   "execution_count": 12,
   "id": "40bb2aa4",
   "metadata": {},
   "outputs": [
    {
     "name": "stdout",
     "output_type": "stream",
     "text": [
      "파이썬도 배우고\n",
      "장고도 배우고\n",
      "할게 너무 많아\n"
     ]
    }
   ],
   "source": [
    "# 방법2)\n",
    "line = \"\"\"파이썬도 배우고\\n장고도 배우고\\n할게 너무 많아\"\"\"\n",
    "print(line)"
   ]
  },
  {
   "cell_type": "markdown",
   "id": "fcc90dbc",
   "metadata": {
    "tags": []
   },
   "source": [
    "# 연산하기\n",
    "### 1) 산술연산자: 문자, 숫자를 함께 연산하기\n",
    "\n",
    "- 문자와 문자를 연결\n",
    "- 동일한 문자를 반복해서 연결"
   ]
  },
  {
   "cell_type": "code",
   "execution_count": 13,
   "id": "d57009f8",
   "metadata": {},
   "outputs": [
    {
     "data": {
      "text/plain": [
       "'가나'"
      ]
     },
     "execution_count": 13,
     "metadata": {},
     "output_type": "execute_result"
    }
   ],
   "source": [
    "# 문자와 문자를 연결: +\n",
    "\"가\" + \"나\""
   ]
  },
  {
   "cell_type": "code",
   "execution_count": 14,
   "id": "e8af59a6",
   "metadata": {},
   "outputs": [
    {
     "name": "stdout",
     "output_type": "stream",
     "text": [
      "가 나\n",
      "가 나\n"
     ]
    }
   ],
   "source": [
    "print(\"가\" + \" 나\")\n",
    "print(\"가\" + \" \"+\"나\")"
   ]
  },
  {
   "cell_type": "code",
   "execution_count": 15,
   "id": "ee4c3839",
   "metadata": {},
   "outputs": [
    {
     "ename": "TypeError",
     "evalue": "can only concatenate str (not \"int\") to str",
     "output_type": "error",
     "traceback": [
      "\u001b[1;31m---------------------------------------------------------------------------\u001b[0m",
      "\u001b[1;31mTypeError\u001b[0m                                 Traceback (most recent call last)",
      "\u001b[1;32m~\\AppData\\Local\\Temp\\ipykernel_2740\\3496203294.py\u001b[0m in \u001b[0;36m<module>\u001b[1;34m\u001b[0m\n\u001b[0;32m      1\u001b[0m \u001b[1;31m# 파이썬의 더하기는 양변 자료가 같거나 논리적으로 비슷하다고 인정되어야 함\u001b[0m\u001b[1;33m\u001b[0m\u001b[1;33m\u001b[0m\u001b[1;33m\u001b[0m\u001b[0m\n\u001b[0;32m      2\u001b[0m \u001b[1;31m# 2. 문자 + 숫자 = Error\u001b[0m\u001b[1;33m\u001b[0m\u001b[1;33m\u001b[0m\u001b[1;33m\u001b[0m\u001b[0m\n\u001b[1;32m----> 3\u001b[1;33m \u001b[1;34m'가'\u001b[0m \u001b[1;33m+\u001b[0m \u001b[1;36m1\u001b[0m\u001b[1;33m\u001b[0m\u001b[1;33m\u001b[0m\u001b[0m\n\u001b[0m",
      "\u001b[1;31mTypeError\u001b[0m: can only concatenate str (not \"int\") to str"
     ]
    }
   ],
   "source": [
    "# 파이썬의 더하기는 양변 자료가 같거나 논리적으로 비슷하다고 인정되어야 함\n",
    "# 2. 문자 + 숫자 = Error\n",
    "'가' + 1"
   ]
  },
  {
   "cell_type": "code",
   "execution_count": 16,
   "id": "61f49816",
   "metadata": {},
   "outputs": [
    {
     "data": {
      "text/plain": [
       "'abcabcabc'"
      ]
     },
     "execution_count": 16,
     "metadata": {},
     "output_type": "execute_result"
    }
   ],
   "source": [
    "#3. 문자를 여러 번 반복하기: *\n",
    "# 동일한 문자열을 여러 번 반복 연결시켜줌\n",
    "'abc'*3"
   ]
  },
  {
   "cell_type": "code",
   "execution_count": 17,
   "id": "f7a5ce23",
   "metadata": {},
   "outputs": [
    {
     "ename": "TypeError",
     "evalue": "can't multiply sequence by non-int of type 'str'",
     "output_type": "error",
     "traceback": [
      "\u001b[1;31m---------------------------------------------------------------------------\u001b[0m",
      "\u001b[1;31mTypeError\u001b[0m                                 Traceback (most recent call last)",
      "\u001b[1;32m~\\AppData\\Local\\Temp\\ipykernel_2740\\2640704479.py\u001b[0m in \u001b[0;36m<module>\u001b[1;34m\u001b[0m\n\u001b[0;32m      1\u001b[0m \u001b[1;31m# 문자 * 문자 = Error\u001b[0m\u001b[1;33m\u001b[0m\u001b[1;33m\u001b[0m\u001b[1;33m\u001b[0m\u001b[0m\n\u001b[1;32m----> 2\u001b[1;33m \u001b[1;34m'abc'\u001b[0m \u001b[1;33m*\u001b[0m \u001b[1;34m'a'\u001b[0m\u001b[1;33m\u001b[0m\u001b[1;33m\u001b[0m\u001b[0m\n\u001b[0m",
      "\u001b[1;31mTypeError\u001b[0m: can't multiply sequence by non-int of type 'str'"
     ]
    }
   ],
   "source": [
    "# 문자 * 문자 = Error\n",
    "'abc' * 'a'"
   ]
  },
  {
   "cell_type": "markdown",
   "id": "74824b7e",
   "metadata": {},
   "source": [
    "### 2) 비교연산자: 문자의 크기를 비교하기 위한 문법 기호\n",
    "\n",
    "- 문자의비교\n",
    "    * 대문자 vs 소문자: 대문자 < 소문자 크기가 더 크다\n",
    "    * 알파벳: 알파벳 순서가 뒤에 있을수록 크기가 더 크다\n",
    "    * 문자 길이: 문자열의 길이가 길 수록 크기가 더 크다\n",
    "        - ASCII코드 => 문자마다 숫자를 부여\n",
    "        - A = 65, a = 97 [소문자 값이 더 크다]\n",
    "        - '0' = 48 ...\n",
    "        - '띄워쓰기' = 32, NULL = 0"
   ]
  },
  {
   "cell_type": "code",
   "execution_count": 18,
   "id": "61da5071",
   "metadata": {},
   "outputs": [
    {
     "data": {
      "text/plain": [
       "True"
      ]
     },
     "execution_count": 18,
     "metadata": {},
     "output_type": "execute_result"
    }
   ],
   "source": [
    "# 대문자 vs 소문자 : 비교연산자(==,!=,<,>)로 확인\n",
    "'A' < 'a'"
   ]
  },
  {
   "cell_type": "code",
   "execution_count": 19,
   "id": "52eb16f2",
   "metadata": {},
   "outputs": [
    {
     "name": "stdout",
     "output_type": "stream",
     "text": [
      "False\n",
      "True\n"
     ]
    }
   ],
   "source": [
    "# 문자열을 대상으로 할 때에는 무조건 첫 글자끼리만 비교\n",
    "# 문자열의 길이는 실제 크기 비교에 영향을 미치지 않늗다.\n",
    "print('b' < 'BUS') # 98 < 66+7~+8~ 일까?\n",
    "# 맨 앞글자가 같을시 두 번째 글자 비교\n",
    "print('b' < 'bUS')"
   ]
  },
  {
   "cell_type": "code",
   "execution_count": 20,
   "id": "e3649b77",
   "metadata": {},
   "outputs": [
    {
     "data": {
      "text/plain": [
       "True"
      ]
     },
     "execution_count": 20,
     "metadata": {},
     "output_type": "execute_result"
    }
   ],
   "source": [
    "# 영문자 이외의 다른 문자와 비교는 무조건 영문자가 작게 나온다\n",
    "# ascii코드 vs unicode\n",
    "'B' < '가'"
   ]
  },
  {
   "cell_type": "code",
   "execution_count": 21,
   "id": "0d354e75",
   "metadata": {},
   "outputs": [
    {
     "data": {
      "text/plain": [
       "44032"
      ]
     },
     "execution_count": 21,
     "metadata": {},
     "output_type": "execute_result"
    }
   ],
   "source": [
    "# 문자에 배정된 코드값을 확인하는 방법\n",
    "ord('가')"
   ]
  },
  {
   "cell_type": "code",
   "execution_count": 22,
   "id": "764b913b",
   "metadata": {},
   "outputs": [
    {
     "data": {
      "text/plain": [
       "8"
      ]
     },
     "execution_count": 22,
     "metadata": {},
     "output_type": "execute_result"
    }
   ],
   "source": [
    "# 해당 문자열이 몇글자인지는 len(문자열)으로 찍어서 확인 가능\n",
    "len('나는 배가 고파')"
   ]
  },
  {
   "cell_type": "markdown",
   "id": "b176dd92",
   "metadata": {
    "tags": []
   },
   "source": [
    "# 인덱스\n",
    "- 아이템(대상이 가지고 있는 최소 단위의 값)의 위치를 나타내는 고유한 번호\n",
    "- 첫번째 위치는 0부터 시작\n",
    "- 마지막 위치는 -1부터 시작"
   ]
  },
  {
   "cell_type": "markdown",
   "id": "7f0ce094",
   "metadata": {
    "tags": []
   },
   "source": [
    "### 1) 인덱싱(indexing): 특정 위치의 하나의 아이템에 접근하기\n",
    "- 인덱싱 문법기호: 객체[인덱스 번호]"
   ]
  },
  {
   "cell_type": "code",
   "execution_count": 23,
   "id": "e3c76792",
   "metadata": {},
   "outputs": [
    {
     "data": {
      "text/plain": [
       "'b'"
      ]
     },
     "execution_count": 23,
     "metadata": {},
     "output_type": "execute_result"
    }
   ],
   "source": [
    "# banana라는 문자열에서 첫 번째 아이템 = 0번째 인덱서 번호로 접근\n",
    "# 인덱싱 문법: 객체(대상: 값, 자료형)[인덱스 번호]\n",
    "a='banana'\n",
    "a[0]"
   ]
  },
  {
   "cell_type": "code",
   "execution_count": 24,
   "id": "d7b404b1",
   "metadata": {},
   "outputs": [
    {
     "data": {
      "text/plain": [
       "'a'"
      ]
     },
     "execution_count": 24,
     "metadata": {},
     "output_type": "execute_result"
    }
   ],
   "source": [
    "# 마지막 요소인 a에 접근\n",
    "a[-1]"
   ]
  },
  {
   "cell_type": "markdown",
   "id": "ca8fa18b",
   "metadata": {
    "tags": []
   },
   "source": [
    "### 2) 슬라이싱: 연속된 범위의 여러 아이템에 접근\n",
    "\n",
    "- 대상객체[처음인덱스:마지막인덱스(:간격)]\n",
    "- 처음 인덱스 번호는 포함(n부터~)\n",
    "- 마지막 인덱스 번호는 포함하지 않음(~n-1까지)\n",
    "- 간격조정은 할 수도 있고 하지 않을 수도 있음(기본 1씩 증가)"
   ]
  },
  {
   "cell_type": "code",
   "execution_count": 25,
   "id": "1735d518",
   "metadata": {},
   "outputs": [],
   "source": [
    "# 문자열 생성\n",
    "text = \"hello python world\""
   ]
  },
  {
   "cell_type": "code",
   "execution_count": 26,
   "id": "71a369e0",
   "metadata": {},
   "outputs": [
    {
     "data": {
      "text/plain": [
       "'hello python'"
      ]
     },
     "execution_count": 26,
     "metadata": {},
     "output_type": "execute_result"
    }
   ],
   "source": [
    "# 처음부터 특정 위치까지: ~python\n",
    "# 처음 인덱스: 0\n",
    "# 마지막 인덱스: -7(뒤에서 7번째까지 가져와야 하므로 실제로는 -6까지를 타겟으로)\n",
    "# 간격 기본값(1)\n",
    "text[0:-6]"
   ]
  },
  {
   "cell_type": "code",
   "execution_count": 27,
   "id": "70535f3a",
   "metadata": {},
   "outputs": [
    {
     "data": {
      "text/plain": [
       "'python'"
      ]
     },
     "execution_count": 27,
     "metadata": {},
     "output_type": "execute_result"
    }
   ],
   "source": [
    "# 특정 위치부터 마지막 아이템까지 : python\n",
    "# 처음 인덱스 : 6\n",
    "# 마지막 인덱스 : 11 or -6\n",
    "# 간격: 기본값(1)\n",
    "text[6:-6]"
   ]
  },
  {
   "cell_type": "code",
   "execution_count": 28,
   "id": "39f97195",
   "metadata": {},
   "outputs": [
    {
     "data": {
      "text/plain": [
       "'hello python world'"
      ]
     },
     "execution_count": 28,
     "metadata": {},
     "output_type": "execute_result"
    }
   ],
   "source": [
    "# 전체 범위 지정: 처음 인덱스와 마지막 인덱스를 모두 쓰지 않으면 전체 지정\n",
    "# 처음 인덱스 기본값: 0 자동입력\n",
    "# 마지막 인덱스 기본값: 마지막 까지로 자동 입력\n",
    "text[:]"
   ]
  },
  {
   "cell_type": "code",
   "execution_count": 29,
   "id": "9fc22a22",
   "metadata": {},
   "outputs": [
    {
     "data": {
      "text/plain": [
       "'hlopto ol'"
      ]
     },
     "execution_count": 29,
     "metadata": {},
     "output_type": "execute_result"
    }
   ],
   "source": [
    "# 전체 범위 지정 + 간격을 2로 넣었을 때\n",
    "text[::2]"
   ]
  },
  {
   "cell_type": "code",
   "execution_count": 30,
   "id": "97d4cd38",
   "metadata": {},
   "outputs": [
    {
     "data": {
      "text/plain": [
       "'dlrow nohtyp olleh'"
      ]
     },
     "execution_count": 30,
     "metadata": {},
     "output_type": "execute_result"
    }
   ],
   "source": [
    "# 간격을 음수로 주면 뒤에서부터 셉니다\n",
    "text[::-1]"
   ]
  },
  {
   "cell_type": "markdown",
   "id": "4fbb4cbe",
   "metadata": {},
   "source": [
    "## 연습문제\n",
    "\n",
    "- 20221004미세먼지양호함\n",
    "- 위의 문장을 weather 변수에 저장한 다음\n",
    "- 날짜는 date 변수에 슬라이싱으로 받아오고,\n",
    "- dust 변수에 미세먼지 정도를 슬라이싱으로 받아오도록 만들어서 출력해주세요\n",
    "\n",
    "출력양식 <br>\n",
    "날짜 : 20221005 <br>\n",
    "날씨 : 미세먼지양호함"
   ]
  },
  {
   "cell_type": "code",
   "execution_count": 31,
   "id": "fec62711",
   "metadata": {},
   "outputs": [
    {
     "name": "stdout",
     "output_type": "stream",
     "text": [
      "날짜: 20221005\n",
      "날씨: 미세먼지양호함\n"
     ]
    }
   ],
   "source": [
    "weather = '20221005미세먼지양호함'\n",
    "date = weather[:8]\n",
    "dust = weather[8:]\n",
    "print('날짜:',date)\n",
    "print('날씨:',dust)"
   ]
  },
  {
   "cell_type": "markdown",
   "id": "722ec140",
   "metadata": {
    "tags": []
   },
   "source": [
    "# 포매팅(Formatting)\n",
    "\n",
    "- 특정값만 바뀌고 일정한  형식을 가지는 문자열을 작성할 수 있는 기법"
   ]
  },
  {
   "cell_type": "markdown",
   "id": "76b23f4a",
   "metadata": {},
   "source": [
    "## % 포메팅\n",
    "- 데이터 타입에 따른 분류: 정수, 실수, 문자\n",
    "- 옵션: 문자열 길이, 표현할 아이템 개수, 공백"
   ]
  },
  {
   "cell_type": "markdown",
   "id": "63246dbf",
   "metadata": {
    "tags": []
   },
   "source": [
    "### 숫자 값 대입\n",
    "- 1.가변자료가 들어갈 자리(땡땡...에 해당하는)에 구멍(%자료형)을 낸다.\n",
    "- 2.구멍이 뚫린 문자열을 뒤에 %로 연결한 다음 집어넣을 값을 적는다"
   ]
  },
  {
   "cell_type": "code",
   "execution_count": 32,
   "id": "22f465a1",
   "metadata": {},
   "outputs": [
    {
     "data": {
      "text/plain": [
       "'오늘은 5일입니다'"
      ]
     },
     "execution_count": 32,
     "metadata": {},
     "output_type": "execute_result"
    }
   ],
   "source": [
    "# 정수 값 포매팅 : 정수(int) -> %d (digit)\n",
    "'오늘은 %d일입니다'%5"
   ]
  },
  {
   "cell_type": "code",
   "execution_count": 33,
   "id": "477d45d5",
   "metadata": {},
   "outputs": [
    {
     "data": {
      "text/plain": [
       "'오늘은 5일입니다'"
      ]
     },
     "execution_count": 33,
     "metadata": {},
     "output_type": "execute_result"
    }
   ],
   "source": [
    "# 정수 자리의 의미: 지금 집어넣은 자료를 정수로 변환해 출력해주세요 라는 의미\n",
    "# 실수를 제공하면, 정수로 강제로 바꿔서 출력합니다(소수점 아래를 버림, 반올림 아님)\n",
    "'오늘은 %d일입니다'%5.7"
   ]
  },
  {
   "cell_type": "code",
   "execution_count": 34,
   "id": "654e57ca",
   "metadata": {},
   "outputs": [
    {
     "data": {
      "text/plain": [
       "'15.000000표기'"
      ]
     },
     "execution_count": 34,
     "metadata": {},
     "output_type": "execute_result"
    }
   ],
   "source": [
    "# 실수(float)값 포매팅\n",
    "# %f를 이용하여 값에 대한 구멍을 낸다\n",
    "# %f는 기본적으로 소수점 6자리까지 표현\n",
    "\"%f표기\"%15"
   ]
  },
  {
   "cell_type": "code",
   "execution_count": 35,
   "id": "d4950049",
   "metadata": {},
   "outputs": [
    {
     "data": {
      "text/plain": [
       "'1.123457 표기'"
      ]
     },
     "execution_count": 35,
     "metadata": {},
     "output_type": "execute_result"
    }
   ],
   "source": [
    "# 실수값 포매팅2: %f에 실수 적용시\n",
    "# 소수점 아래 7자리에서 반올림이 일어납니다\n",
    "\"%f 표기\"%1.123456789"
   ]
  },
  {
   "cell_type": "code",
   "execution_count": 36,
   "id": "7879cec9",
   "metadata": {},
   "outputs": [
    {
     "data": {
      "text/plain": [
       "'1.123 표기'"
      ]
     },
     "execution_count": 36,
     "metadata": {},
     "output_type": "execute_result"
    }
   ],
   "source": [
    "# 옵션: 소수점 아래 자리를 몇 자리까지 출력할지 정할 수 있음\n",
    "# %0.nf: 소수점 아래 n자리 까지만 표현하는 실수\n",
    "\"%0.3f 표기\"%1.123456789"
   ]
  },
  {
   "cell_type": "code",
   "execution_count": 37,
   "id": "0c0d2242",
   "metadata": {},
   "outputs": [
    {
     "data": {
      "text/plain": [
       "'오늘은 10월 5일입니다.'"
      ]
     },
     "execution_count": 37,
     "metadata": {},
     "output_type": "execute_result"
    }
   ],
   "source": [
    "# 가변자료를 2개이상 넣는 케이스\n",
    "# 집어 넣는 값은 왼쪽부터 하나씩 전달 됨\n",
    "# 2개 이상을 집어넣는 경우는 %(첫번째 값, 두번째값,...) 과 같이 괄호로 전달한다\n",
    "'오늘은 %d월 %d일입니다.'%(10,5)"
   ]
  },
  {
   "cell_type": "code",
   "execution_count": 38,
   "id": "6add5c64",
   "metadata": {},
   "outputs": [
    {
     "ename": "TypeError",
     "evalue": "must be real number, not str",
     "output_type": "error",
     "traceback": [
      "\u001b[1;31m---------------------------------------------------------------------------\u001b[0m",
      "\u001b[1;31mTypeError\u001b[0m                                 Traceback (most recent call last)",
      "\u001b[1;32m~\\AppData\\Local\\Temp\\ipykernel_2740\\2091584728.py\u001b[0m in \u001b[0;36m<module>\u001b[1;34m\u001b[0m\n\u001b[0;32m      1\u001b[0m \u001b[1;31m# %d, %f에 숫자가 아닌 자료를 넣으면 에러 발생\u001b[0m\u001b[1;33m\u001b[0m\u001b[1;33m\u001b[0m\u001b[1;33m\u001b[0m\u001b[0m\n\u001b[1;32m----> 2\u001b[1;33m \u001b[1;34m'%f'\u001b[0m\u001b[1;33m%\u001b[0m\u001b[1;34m'1'\u001b[0m\u001b[1;33m\u001b[0m\u001b[1;33m\u001b[0m\u001b[0m\n\u001b[0m",
      "\u001b[1;31mTypeError\u001b[0m: must be real number, not str"
     ]
    }
   ],
   "source": [
    "# %d, %f에 숫자가 아닌 자료를 넣으면 에러 발생\n",
    "'%f'%'1'"
   ]
  },
  {
   "cell_type": "markdown",
   "id": "272a0b08",
   "metadata": {},
   "source": [
    "### 문자 대입\n",
    "\n",
    "- %s로 구멍 뚫기\n",
    "- 집어넣는 값에 대해서는 제한이 없다\n",
    "- 만능 포매팅"
   ]
  },
  {
   "cell_type": "code",
   "execution_count": 39,
   "id": "b79d3ebf",
   "metadata": {},
   "outputs": [
    {
     "data": {
      "text/plain": [
       "'도형준님 접속을 환영합니다'"
      ]
     },
     "execution_count": 39,
     "metadata": {},
     "output_type": "execute_result"
    }
   ],
   "source": [
    "# 집어넣는 값 : 문자타입\n",
    "'%s님 접속을 환영합니다'%'도형준'"
   ]
  },
  {
   "cell_type": "code",
   "execution_count": 40,
   "id": "46432b57",
   "metadata": {},
   "outputs": [
    {
     "data": {
      "text/plain": [
       "'100, 숫자도 입력 가능'"
      ]
     },
     "execution_count": 40,
     "metadata": {},
     "output_type": "execute_result"
    }
   ],
   "source": [
    "# 문자 이외의 타입도 가능\n",
    "'%s, 숫자도 입력 가능'%100"
   ]
  },
  {
   "cell_type": "markdown",
   "id": "291a15b1",
   "metadata": {},
   "source": [
    "# 문자열 내장함수* = 문자열 메서드\n",
    "    └≫ 내장함수 : 특정 데이터 타입이 자체적으로 가지고 있는 속성으로 존재하는 함수\n",
    "    └≫ 문법 : 변수(데이터타입값).함수명()\n",
    "* count( ) : 특정 문자의 개수\n",
    "* find( ) :특정 문자의 인덱스 번호(위치)\n",
    "* join( ) : 특정 기호를 문자열 아이템 사이에 입력\n",
    "* upper( ) : 문자열을 대문자로 변경\n",
    "* lower( ) : 문자열을 소문자로 변경\n",
    "* capitalize( ) : 문자열의 첫 글자를 대문자로\n",
    "* swapcase( ) : 대문자는 소문자로, 소문자는 대문자로 전환\n",
    "* lstrip( ) / rstrip( ) / strip( ) : 좌 / 우 / 앞뒤 공백(기본) 및 특정 문자 지우기\n",
    "* replace( ) : 기존 문자를 새로운 문자로 바꾸기\n",
    "* split( ) : 특정 기호를 기준으로 문자열을 아이템 단위로 나누어 리스트로 반환\n",
    "* center( ) : 문자열 길이를 지정하여 대상 문자열을 중앙 정렬\n",
    "* ljust( ) : 문자열 길이를 지정하여 대상 문자열을 왼쪽 정렬\n",
    "* rjust( ) : 문자열 길이를 지정하여 대상 문자열을 오른쪽 정렬"
   ]
  },
  {
   "cell_type": "markdown",
   "id": "6d8a2059-844e-4088-9442-88a38afdb13c",
   "metadata": {
    "tags": []
   },
   "source": [
    "## .count()"
   ]
  },
  {
   "cell_type": "code",
   "execution_count": 41,
   "id": "6decfb42",
   "metadata": {},
   "outputs": [],
   "source": [
    "# 문자열 생성\n",
    "text = 'tomato juice'"
   ]
  },
  {
   "cell_type": "code",
   "execution_count": 42,
   "id": "41112c2a",
   "metadata": {},
   "outputs": [
    {
     "data": {
      "text/plain": [
       "1"
      ]
     },
     "execution_count": 42,
     "metadata": {},
     "output_type": "execute_result"
    }
   ],
   "source": [
    "# text문자열에서의 a의 개수\n",
    "text.count('a')"
   ]
  },
  {
   "cell_type": "code",
   "execution_count": 43,
   "id": "27dde789",
   "metadata": {},
   "outputs": [
    {
     "data": {
      "text/plain": [
       "2"
      ]
     },
     "execution_count": 43,
     "metadata": {},
     "output_type": "execute_result"
    }
   ],
   "source": [
    "# .count()는 2글자 이상에 대해서도 집계가 가능합니다\n",
    "text.count('to')"
   ]
  },
  {
   "cell_type": "markdown",
   "id": "4867e52e-5072-4528-a711-f4a46c4374c2",
   "metadata": {
    "tags": []
   },
   "source": [
    "## .find(): 특정 값의 인덱스 번호를 반환"
   ]
  },
  {
   "cell_type": "code",
   "execution_count": 44,
   "id": "db4071a0",
   "metadata": {},
   "outputs": [
    {
     "data": {
      "text/plain": [
       "4"
      ]
     },
     "execution_count": 44,
     "metadata": {},
     "output_type": "execute_result"
    }
   ],
   "source": [
    "# txt 문자열에서의 a의 인덱스 번호\n",
    "# .find('찾을자료',시작번호)입력으로 0번이 아닌 이후 번호를 시작점으로 지정 가능\n",
    "text.find('to',1)"
   ]
  },
  {
   "cell_type": "markdown",
   "id": "59cf1959-b403-4c71-8ebd-1454640625a4",
   "metadata": {
    "tags": []
   },
   "source": [
    "## .upper()"
   ]
  },
  {
   "cell_type": "code",
   "execution_count": 45,
   "id": "e25ad100",
   "metadata": {},
   "outputs": [
    {
     "data": {
      "text/plain": [
       "'TOMATO JUICE'"
      ]
     },
     "execution_count": 45,
     "metadata": {},
     "output_type": "execute_result"
    }
   ],
   "source": [
    "# 소문자를 전부 대문자로(대문자는 변동 벗음0\n",
    "# 변경된 결과를 시뮬레이션 해서 보여줌(원본자료는 대문자화 되지 않음)\n",
    "text.upper()"
   ]
  },
  {
   "cell_type": "code",
   "execution_count": 46,
   "id": "3c3e4852",
   "metadata": {},
   "outputs": [
    {
     "data": {
      "text/plain": [
       "'tomato juice'"
      ]
     },
     "execution_count": 46,
     "metadata": {},
     "output_type": "execute_result"
    }
   ],
   "source": [
    "text"
   ]
  },
  {
   "cell_type": "markdown",
   "id": "e9688856-3d61-4220-8ae9-37d51cc93fd8",
   "metadata": {
    "tags": []
   },
   "source": [
    "## .lower()"
   ]
  },
  {
   "cell_type": "code",
   "execution_count": 47,
   "id": "21157284",
   "metadata": {},
   "outputs": [
    {
     "data": {
      "text/plain": [
       "'TOMATO JUICE'"
      ]
     },
     "execution_count": 47,
     "metadata": {},
     "output_type": "execute_result"
    }
   ],
   "source": [
    "# 대문자를 전부 소문자로(소문자는 변동 없음)\n",
    "text2=text.upper()\n",
    "text2"
   ]
  },
  {
   "cell_type": "code",
   "execution_count": 48,
   "id": "f0c1f485-5465-41d1-b388-7fa44c963c60",
   "metadata": {},
   "outputs": [
    {
     "data": {
      "text/plain": [
       "'tomato juice'"
      ]
     },
     "execution_count": 48,
     "metadata": {},
     "output_type": "execute_result"
    }
   ],
   "source": [
    "text2.lower()"
   ]
  },
  {
   "cell_type": "code",
   "execution_count": 49,
   "id": "ddf51e6f-5d12-44f2-9743-9c48814a740a",
   "metadata": {},
   "outputs": [
    {
     "data": {
      "text/plain": [
       "'TOMATO JUICE'"
      ]
     },
     "execution_count": 49,
     "metadata": {},
     "output_type": "execute_result"
    }
   ],
   "source": [
    "text2"
   ]
  },
  {
   "cell_type": "markdown",
   "id": "42946cbc-242c-4e4f-9b68-3efcce385bbe",
   "metadata": {
    "tags": []
   },
   "source": [
    "## .strip()"
   ]
  },
  {
   "cell_type": "code",
   "execution_count": 50,
   "id": "dafc8aa5-5328-4f7a-a79a-287694ca0f37",
   "metadata": {},
   "outputs": [],
   "source": [
    "text = '          123          123          '"
   ]
  },
  {
   "cell_type": "code",
   "execution_count": 51,
   "id": "c4fbcfde-f7bb-4401-a532-fea32a834134",
   "metadata": {},
   "outputs": [
    {
     "data": {
      "text/plain": [
       "'123          123          '"
      ]
     },
     "execution_count": 51,
     "metadata": {},
     "output_type": "execute_result"
    }
   ],
   "source": [
    "# .lstrip()\n",
    "# 문자열의 왼쪽에 있는 공백 전부 제거(가운데는 제거 안함)\n",
    "# 시뮬레이션 결과만 보여줌\n",
    "text.lstrip()"
   ]
  },
  {
   "cell_type": "code",
   "execution_count": 52,
   "id": "622817db-7946-4760-9b0d-1c29babffe15",
   "metadata": {},
   "outputs": [
    {
     "data": {
      "text/plain": [
       "'          123          123'"
      ]
     },
     "execution_count": 52,
     "metadata": {},
     "output_type": "execute_result"
    }
   ],
   "source": [
    "# .rstrip()\n",
    "text.rstrip()"
   ]
  },
  {
   "cell_type": "code",
   "execution_count": 53,
   "id": "8bb5cff7-9c7f-43a3-bc19-2c8b3f889be5",
   "metadata": {},
   "outputs": [
    {
     "data": {
      "text/plain": [
       "'123          123'"
      ]
     },
     "execution_count": 53,
     "metadata": {},
     "output_type": "execute_result"
    }
   ],
   "source": [
    "# .strip()\n",
    "# 양쪽 다 없애줌\n",
    "text.strip()"
   ]
  },
  {
   "cell_type": "markdown",
   "id": "1a39a824-61b7-4475-9633-39b973853c4f",
   "metadata": {
    "tags": []
   },
   "source": [
    "## replace(old, new)"
   ]
  },
  {
   "cell_type": "code",
   "execution_count": 54,
   "id": "5206de92-bb7c-44fc-a3da-4e17d6035faf",
   "metadata": {},
   "outputs": [
    {
     "data": {
      "text/plain": [
       "'          456          456          '"
      ]
     },
     "execution_count": 54,
     "metadata": {},
     "output_type": "execute_result"
    }
   ],
   "source": [
    "# 찾아바꾸기, 문자열 내에서 old에 해당하는 문자를 찾아 new\n",
    "# 공백 찾아 없애기에 쓸 수 있음\n",
    "# 역시 원본자료에는 영향을 미치지 않고 일시적으로 변경\n",
    "text.replace(\"123\",\"456\")"
   ]
  },
  {
   "cell_type": "code",
   "execution_count": 55,
   "id": "1564df59-52aa-475a-b628-e0d22fdee074",
   "metadata": {},
   "outputs": [
    {
     "data": {
      "text/plain": [
       "'          123          123          '"
      ]
     },
     "execution_count": 55,
     "metadata": {},
     "output_type": "execute_result"
    }
   ],
   "source": [
    "text"
   ]
  },
  {
   "cell_type": "code",
   "execution_count": 56,
   "id": "ab1cd283-a6bc-4dc5-9ed4-5909ea5e3978",
   "metadata": {},
   "outputs": [
    {
     "data": {
      "text/plain": [
       "'123123'"
      ]
     },
     "execution_count": 56,
     "metadata": {},
     "output_type": "execute_result"
    }
   ],
   "source": [
    "text.replace(\" \",\"\")"
   ]
  },
  {
   "cell_type": "markdown",
   "id": "cd2338b7-48e4-4774-9391-54d40a63dfff",
   "metadata": {},
   "source": [
    "## .split(\"기준\")"
   ]
  },
  {
   "cell_type": "markdown",
   "id": "3e4f0ca1-dbf5-4f19-b11e-d221db75da96",
   "metadata": {},
   "source": [
    "- 쪼개기\n",
    "- 기준 입력시 기준점을 기준으로 쪼개고\n",
    "- 입력 안하면 ' ', \\n, \\t 등을 기준으로 쪼개줌"
   ]
  },
  {
   "cell_type": "code",
   "execution_count": 57,
   "id": "39df76ef-884b-4096-9e04-6b1c9d677466",
   "metadata": {},
   "outputs": [],
   "source": [
    "text2='a b c'"
   ]
  },
  {
   "cell_type": "code",
   "execution_count": 58,
   "id": "444ada32-53e4-4405-bf1f-a3bae06b9ff9",
   "metadata": {},
   "outputs": [
    {
     "data": {
      "text/plain": [
       "['a', 'b', 'c']"
      ]
     },
     "execution_count": 58,
     "metadata": {},
     "output_type": "execute_result"
    }
   ],
   "source": [
    "text2.split()"
   ]
  },
  {
   "cell_type": "code",
   "execution_count": 59,
   "id": "975bcfcd-961a-44e4-8b43-283029501baa",
   "metadata": {},
   "outputs": [
    {
     "data": {
      "text/plain": [
       "['a ', ' c']"
      ]
     },
     "execution_count": 59,
     "metadata": {},
     "output_type": "execute_result"
    }
   ],
   "source": [
    "text2.split('b')"
   ]
  },
  {
   "cell_type": "code",
   "execution_count": 60,
   "id": "b3ee0f76-0d2f-47aa-a31c-a28b04c3365d",
   "metadata": {},
   "outputs": [],
   "source": [
    "# 두 글자 이상도 쪼개기의 기준이 될 수 있음\n",
    "text3 = 'a,b,c,ddes'"
   ]
  },
  {
   "cell_type": "code",
   "execution_count": 61,
   "id": "b67ec309-fdeb-48b3-acd7-5a6e5568f1b0",
   "metadata": {},
   "outputs": [
    {
     "data": {
      "text/plain": [
       "['a,b,c,', 's']"
      ]
     },
     "execution_count": 61,
     "metadata": {},
     "output_type": "execute_result"
    }
   ],
   "source": [
    "text3.split('dde')"
   ]
  },
  {
   "cell_type": "markdown",
   "id": "5baa8a9e-966b-4c47-a31a-2c54d7913392",
   "metadata": {},
   "source": [
    "## .join()"
   ]
  },
  {
   "cell_type": "markdown",
   "id": "b5c0fd37-1cdc-47a7-a791-0bef660a0d14",
   "metadata": {},
   "source": [
    "- 왼쪽에 있는 요소를 .join(자료)의\n",
    "- 자료 인덱스 사이사이에 입력해줌\n",
    "- || -> 회사들은 ,가 이름에 들어가는 경우가 있어서 ||를 사용하는 케이스도 존재함"
   ]
  },
  {
   "cell_type": "code",
   "execution_count": 62,
   "id": "919a99b4-2962-48d8-98b0-8a2598be3ede",
   "metadata": {},
   "outputs": [
    {
     "data": {
      "text/plain": [
       "'a,b,c'"
      ]
     },
     "execution_count": 62,
     "metadata": {},
     "output_type": "execute_result"
    }
   ],
   "source": [
    "text='abc'\n",
    "\",\".join(text)"
   ]
  },
  {
   "cell_type": "code",
   "execution_count": 63,
   "id": "7c7ae8fe-fd58-4778-9bb1-a765bab5544d",
   "metadata": {},
   "outputs": [],
   "source": [
    "# 마지막 인덱스 번호 가변적으로 구하기\n",
    "# len(문자열) -1\n",
    "x = 'abcdefghijklnmopqrstuvwxyz'"
   ]
  },
  {
   "cell_type": "code",
   "execution_count": 64,
   "id": "7145c39a-346e-4978-bc56-2fab6e26a490",
   "metadata": {},
   "outputs": [
    {
     "data": {
      "text/plain": [
       "26"
      ]
     },
     "execution_count": 64,
     "metadata": {},
     "output_type": "execute_result"
    }
   ],
   "source": [
    "len(x)"
   ]
  },
  {
   "cell_type": "code",
   "execution_count": 65,
   "id": "da5ca58c-6b56-46ba-b623-a3825fb1f929",
   "metadata": {},
   "outputs": [
    {
     "data": {
      "text/plain": [
       "25"
      ]
     },
     "execution_count": 65,
     "metadata": {},
     "output_type": "execute_result"
    }
   ],
   "source": [
    "# 마지막 인덱스 번호는 0부터 시작이므로 길이는 -1\n",
    "len(x)-1"
   ]
  },
  {
   "cell_type": "code",
   "execution_count": 66,
   "id": "d3def636-0269-4844-800d-544ebcf6699b",
   "metadata": {},
   "outputs": [
    {
     "data": {
      "text/plain": [
       "'z'"
      ]
     },
     "execution_count": 66,
     "metadata": {},
     "output_type": "execute_result"
    }
   ],
   "source": [
    "# x의 마지막 글자를 len()을 활용한 인덱싱으로 출력해보기\n",
    "x[len(x)-1:]"
   ]
  }
 ],
 "metadata": {
  "kernelspec": {
   "display_name": "Python 3 (ipykernel)",
   "language": "python",
   "name": "python3"
  },
  "language_info": {
   "codemirror_mode": {
    "name": "ipython",
    "version": 3
   },
   "file_extension": ".py",
   "mimetype": "text/x-python",
   "name": "python",
   "nbconvert_exporter": "python",
   "pygments_lexer": "ipython3",
   "version": "3.7.13"
  },
  "toc": {
   "base_numbering": 1,
   "nav_menu": {},
   "number_sections": true,
   "sideBar": true,
   "skip_h1_title": false,
   "title_cell": "Table of Contents",
   "title_sidebar": "Contents",
   "toc_cell": false,
   "toc_position": {
    "height": "calc(100% - 180px)",
    "left": "10px",
    "top": "150px",
    "width": "233.196px"
   },
   "toc_section_display": true,
   "toc_window_display": true
  },
  "toc-autonumbering": true,
  "varInspector": {
   "cols": {
    "lenName": 16,
    "lenType": 16,
    "lenVar": 40
   },
   "kernels_config": {
    "python": {
     "delete_cmd_postfix": "",
     "delete_cmd_prefix": "del ",
     "library": "var_list.py",
     "varRefreshCmd": "print(var_dic_list())"
    },
    "r": {
     "delete_cmd_postfix": ") ",
     "delete_cmd_prefix": "rm(",
     "library": "var_list.r",
     "varRefreshCmd": "cat(var_dic_list()) "
    }
   },
   "types_to_exclude": [
    "module",
    "function",
    "builtin_function_or_method",
    "instance",
    "_Feature"
   ],
   "window_display": false
  }
 },
 "nbformat": 4,
 "nbformat_minor": 5
}
