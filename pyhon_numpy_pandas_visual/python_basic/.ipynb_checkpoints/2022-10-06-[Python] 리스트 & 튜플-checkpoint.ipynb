{
 "cells": [
  {
   "cell_type": "markdown",
   "id": "ba688d23",
   "metadata": {},
   "source": [
    "# \"[Python] 리스트 & 튜플\"\n",
    "> \" \"\n",
    "\n",
    "- toc: true\n",
    "- branch: master\n",
    "- badges: true\n",
    "- comments: true\n",
    "- categories: [jupyter,python,리스트, 튜플]\n",
    "- author: 도형준"
   ]
  },
  {
   "cell_type": "markdown",
   "id": "5999165c-af26-43e4-8468-7807ed47dccd",
   "metadata": {
    "jp-MarkdownHeadingCollapsed": true,
    "tags": []
   },
   "source": [
    "> # 리스트"
   ]
  },
  {
   "cell_type": "markdown",
   "id": "364edfde",
   "metadata": {},
   "source": [
    "- 여러 개의 아이템들을 저장하는 객체 = 여러 개의 값(데이터타입)을 저장하는 그릇\n",
    "- 앞쪽_화살표: 문법 기호 : [아이템1, 아이템2, 아이템3 .... ]\n",
    "- 앞쪽_화살표: 용어 : 아이템 = 요소\n",
    "- 앞쪽_화살표: 아이템으로 가질 수 있는 데이터 타입 : 문자, 숫자, 리스트, 딕셔너리 ...\n",
    "- 앞쪽_화살표: 종류\n",
    "     * 아이템이 없는 리스트\n",
    "     * 1차원 리스트\n",
    "     * 다차원 리스트\n",
    "- 앞쪽_화살표: 특징\n",
    "     * 인덱스 활용\n",
    "     * 다차원 리스트의 구조에 대한 이해"
   ]
  },
  {
   "cell_type": "markdown",
   "id": "1ea9e5ba-f6dc-4a54-92ef-0a98dce5da4b",
   "metadata": {},
   "source": [
    "## 생성하기"
   ]
  },
  {
   "cell_type": "code",
   "execution_count": 1,
   "id": "49f61e64-4b9b-4729-a9f2-9cb0a8754ece",
   "metadata": {},
   "outputs": [
    {
     "name": "stdout",
     "output_type": "stream",
     "text": [
      "<class 'list'> <class 'list'>\n",
      "[] []\n"
     ]
    }
   ],
   "source": [
    "# 빈 리스트 생성하기 = 아이템이 없는 리스트\n",
    "# 문법 기호: []\n",
    "# 함수: list()\n",
    "a=[]\n",
    "a2=list()\n",
    "\n",
    "print(type(a),type(a2))\n",
    "print(a,a2)"
   ]
  },
  {
   "cell_type": "code",
   "execution_count": 2,
   "id": "3103680f-3b2c-4de4-861b-c96ea0e5fadc",
   "metadata": {},
   "outputs": [],
   "source": [
    "# 모든 데이터타입을 아이템으로 가질 수 있다\n",
    "a3 = ['a',\n",
    "      19,\n",
    "      1.1,\n",
    "      [1,23.1,'a']]"
   ]
  },
  {
   "cell_type": "code",
   "execution_count": 3,
   "id": "e373e5ec-cb05-4aa0-aa8e-66c24e901d2b",
   "metadata": {},
   "outputs": [
    {
     "data": {
      "text/plain": [
       "'a'"
      ]
     },
     "execution_count": 3,
     "metadata": {},
     "output_type": "execute_result"
    }
   ],
   "source": [
    "a3[0]"
   ]
  },
  {
   "cell_type": "code",
   "execution_count": 4,
   "id": "b7cca45f-bf1f-47ee-b139-02377ba0893c",
   "metadata": {},
   "outputs": [
    {
     "data": {
      "text/plain": [
       "'a'"
      ]
     },
     "execution_count": 4,
     "metadata": {},
     "output_type": "execute_result"
    }
   ],
   "source": [
    "# 2차원 데이터는 마치 좌표처럼 데이터를 지목해 출력할 수 있다\n",
    "a3[3][2]"
   ]
  },
  {
   "cell_type": "markdown",
   "id": "37749e07-5958-47ce-8e58-31e53add895f",
   "metadata": {},
   "source": [
    "## 인덱싱, 슬라이싱"
   ]
  },
  {
   "cell_type": "markdown",
   "id": "0746789f-ed67-4395-aefa-3f6b88efa44a",
   "metadata": {},
   "source": [
    "- 리스트를 인덱스 번호로 접근하면 해당하는 위치의 값(아이템)을 가져온다."
   ]
  },
  {
   "cell_type": "markdown",
   "id": "5f7045b3-64bd-43bd-8563-8fa581870fec",
   "metadata": {},
   "source": [
    "### 인덱싱(Indexing)"
   ]
  },
  {
   "cell_type": "markdown",
   "id": "5fac1f76-303c-4c79-bdee-7f1572436f80",
   "metadata": {},
   "source": [
    "- 특정 위치에 있는 하나의 아이템에 접근한다 = 하나의 값을 출력한다"
   ]
  },
  {
   "cell_type": "code",
   "execution_count": 5,
   "id": "1f4531bc-594d-4fa2-afa8-25850429fa14",
   "metadata": {},
   "outputs": [],
   "source": [
    "# 리스트 생성하기\n",
    "a = [1,2,3,4,5,6,7,8,9]"
   ]
  },
  {
   "cell_type": "code",
   "execution_count": 6,
   "id": "bf8fff9e-fb8f-46f0-907e-6559b9d9f7d6",
   "metadata": {},
   "outputs": [
    {
     "data": {
      "text/plain": [
       "6"
      ]
     },
     "execution_count": 6,
     "metadata": {},
     "output_type": "execute_result"
    }
   ],
   "source": [
    "# 첫 번째 아이템 인덱스 번호: 0 \n",
    "# 인덱싱 문법: 객체[인덱스 번호]\n",
    "a[5]"
   ]
  },
  {
   "cell_type": "code",
   "execution_count": 7,
   "id": "2dd645b4-e1bb-4b3b-ac3a-dfdd71a44a83",
   "metadata": {},
   "outputs": [
    {
     "name": "stdout",
     "output_type": "stream",
     "text": [
      "방법1: 9\n",
      "방법2: 9\n"
     ]
    }
   ],
   "source": [
    "# 리스트 마지막 값 확인하기\n",
    "print('방법1:',a[len(a)-1])\n",
    "print('방법2:',a[-1])"
   ]
  },
  {
   "cell_type": "code",
   "execution_count": 8,
   "id": "9ddb8567-8346-4cf6-8000-8d7eb1fe9065",
   "metadata": {},
   "outputs": [
    {
     "data": {
      "text/plain": [
       "9"
      ]
     },
     "execution_count": 8,
     "metadata": {},
     "output_type": "execute_result"
    }
   ],
   "source": [
    "# len()은 인덱스 번호를 가지는 모든 자료의 길이를 확인합니다\n",
    "len(a)"
   ]
  },
  {
   "cell_type": "markdown",
   "id": "13dbf402-c4b9-40d2-8e80-13cb8a9e652a",
   "metadata": {},
   "source": [
    "### 슬라이싱(Slicing)"
   ]
  },
  {
   "cell_type": "markdown",
   "id": "2c1000bb-51f9-4031-9f7c-dfa07da0a8e5",
   "metadata": {},
   "source": [
    "- 정의 복습: 연속된 범위에 있는 하나 혹은 하나 이상의 여러 개 아이템에 접근한다\n",
    "- 문법 기호: 리스트[시작번호:끝번호(:간격)] => 역시 마지막번호 -1까지만 접근"
   ]
  },
  {
   "cell_type": "code",
   "execution_count": 9,
   "id": "387d7710-fa65-4a34-a667-e449d292b843",
   "metadata": {},
   "outputs": [
    {
     "data": {
      "text/plain": [
       "[1, 2, 3, 4, 5, 6, 7, 8, 9]"
      ]
     },
     "execution_count": 9,
     "metadata": {},
     "output_type": "execute_result"
    }
   ],
   "source": [
    "a"
   ]
  },
  {
   "cell_type": "code",
   "execution_count": 10,
   "id": "24ac29bc-99b8-4c21-a874-4b28aa3ec700",
   "metadata": {},
   "outputs": [
    {
     "data": {
      "text/plain": [
       "[1, 2, 3]"
      ]
     },
     "execution_count": 10,
     "metadata": {},
     "output_type": "execute_result"
    }
   ],
   "source": [
    "# 리스트의 0~2번째 아이템까지 확인하기\n",
    "# 시작번호: 0 \n",
    "# 끝번호: 2-> 3\n",
    "a[0:3]"
   ]
  },
  {
   "cell_type": "code",
   "execution_count": 11,
   "id": "f5adfa3b-7b59-4c2f-adb5-d19dc2017ef3",
   "metadata": {},
   "outputs": [
    {
     "data": {
      "text/plain": [
       "[4, 5, 6, 7, 8, 9]"
      ]
     },
     "execution_count": 11,
     "metadata": {},
     "output_type": "execute_result"
    }
   ],
   "source": [
    "# 리스트의 3번째부터 마지막 아이템까지 확인하기\n",
    "a[3:]"
   ]
  },
  {
   "cell_type": "markdown",
   "id": "16afad28-66c1-4249-92e0-c873239ab50a",
   "metadata": {},
   "source": [
    "## 아이템 추가하기"
   ]
  },
  {
   "cell_type": "markdown",
   "id": "dace572f-2797-4aba-8758-4a4ab8abf110",
   "metadata": {},
   "source": [
    "- 연산자와 함수를 이용한 리스트 아이템 추가\n",
    "- 1) 산술연산자: +, *\n",
    "- 2) 리스트의 함수(메서드): .append(),.extend(), .insert()"
   ]
  },
  {
   "cell_type": "markdown",
   "id": "fb090e04-3ac4-4620-8b0c-3e8a2d394211",
   "metadata": {},
   "source": [
    "### 산술연산자: +, *"
   ]
  },
  {
   "cell_type": "markdown",
   "id": "b2750cbc-4bf7-4d88-8356-f33a227090b1",
   "metadata": {},
   "source": [
    "- 특징: 원본에 반영되지 않는다(시뮬레이션)"
   ]
  },
  {
   "cell_type": "code",
   "execution_count": 12,
   "id": "86cce46f-c57f-4420-9636-e0c308bb70ba",
   "metadata": {},
   "outputs": [],
   "source": [
    "# 리스트끼리 연결\n",
    "a = [1,2,3]\n",
    "b = [4,5,6]"
   ]
  },
  {
   "cell_type": "code",
   "execution_count": 13,
   "id": "2e055fc8-e600-4205-88c8-c33770d160e2",
   "metadata": {},
   "outputs": [
    {
     "data": {
      "text/plain": [
       "[1, 2, 3, 4, 5, 6]"
      ]
     },
     "execution_count": 13,
     "metadata": {},
     "output_type": "execute_result"
    }
   ],
   "source": [
    "a+b"
   ]
  },
  {
   "cell_type": "code",
   "execution_count": 14,
   "id": "55fcb0e2-744c-4457-bb69-c639e47e2703",
   "metadata": {
    "scrolled": true
   },
   "outputs": [
    {
     "data": {
      "text/plain": [
       "[1, 2, 3, 1, 2, 3, 1, 2, 3]"
      ]
     },
     "execution_count": 14,
     "metadata": {},
     "output_type": "execute_result"
    }
   ],
   "source": [
    "a*3"
   ]
  },
  {
   "cell_type": "markdown",
   "id": "46a33738",
   "metadata": {},
   "source": [
    "### 리스트 요소간의 합"
   ]
  },
  {
   "cell_type": "markdown",
   "id": "4280f8b3",
   "metadata": {},
   "source": [
    "- zip()"
   ]
  },
  {
   "cell_type": "code",
   "execution_count": 15,
   "id": "f474ee5b",
   "metadata": {},
   "outputs": [
    {
     "name": "stdout",
     "output_type": "stream",
     "text": [
      "[5, 7, 9]\n"
     ]
    }
   ],
   "source": [
    "a=[1,2,3]\n",
    "b=[4,5,6]\n",
    "c= [i+j for i,j in zip(a,b)]\n",
    "print(c) #[5, 7, 9]"
   ]
  },
  {
   "cell_type": "markdown",
   "id": "10da5dc1",
   "metadata": {},
   "source": [
    "- index 사용"
   ]
  },
  {
   "cell_type": "code",
   "execution_count": 16,
   "id": "82d15c85",
   "metadata": {},
   "outputs": [
    {
     "name": "stdout",
     "output_type": "stream",
     "text": [
      "[5, 7, 9]\n"
     ]
    }
   ],
   "source": [
    "a=[1,2,3]\n",
    "b=[4,5,6]\n",
    "c= [a[i] + b[i] for i in range(len(a))]\n",
    "print(c) #[5, 7, 9]"
   ]
  },
  {
   "cell_type": "markdown",
   "id": "77a719b9-1cba-423e-9660-857a7d717ee0",
   "metadata": {},
   "source": [
    "## 리스트 타입의 함수 (method)\n",
    "* 종류\n",
    "    - 리스트.append(추가할 아이템) : 인자값을 통채로 리스트의 마지막 아이템으로 추가, 인자값은 1개만 받음 = 1개의 아이템만 추가 가능\n",
    "    - 리스트.extend(추가할 아이템) : 인자값의 아이템을 뽑아서 리스트의 마지막 아이템으로 추가, 인자값은 1개만 받음, 단 여러 개의 아이템 추가 가능\n",
    "    - 리스트.insert(인덱스번호, 추가할 아이템) : 위치를 지정해서 아이템을 삽입할 수 있음, 통채로 아이템을 추가\n",
    "    - 특징 : 원본에 바로 적용이 됨\n",
    "* 참고 연산자 : in 연산자 (결과값은 bool type)"
   ]
  },
  {
   "cell_type": "markdown",
   "id": "d8b975f4",
   "metadata": {},
   "source": [
    "- 메서드 = class 내부에 있는 함수"
   ]
  },
  {
   "cell_type": "code",
   "execution_count": 17,
   "id": "8d9d790d",
   "metadata": {},
   "outputs": [
    {
     "data": {
      "text/plain": [
       "[1, 2, 3]"
      ]
     },
     "execution_count": 17,
     "metadata": {},
     "output_type": "execute_result"
    }
   ],
   "source": [
    "# 리스트 생성하기\n",
    "a = [1, 2, 3]\n",
    "a"
   ]
  },
  {
   "cell_type": "markdown",
   "id": "9b447fad",
   "metadata": {},
   "source": [
    "### .append()"
   ]
  },
  {
   "cell_type": "code",
   "execution_count": 18,
   "id": "c6977fe5",
   "metadata": {},
   "outputs": [
    {
     "data": {
      "text/plain": [
       "[1, 2, 3, 4]"
      ]
     },
     "execution_count": 18,
     "metadata": {},
     "output_type": "execute_result"
    }
   ],
   "source": [
    "# append()\n",
    "# 문법 : 리스트.append(추가할 아이템)\n",
    "a.append(4)\n",
    "a"
   ]
  },
  {
   "cell_type": "code",
   "execution_count": 19,
   "id": "b4293aa8",
   "metadata": {},
   "outputs": [
    {
     "data": {
      "text/plain": [
       "[1, 2, 3, 4, [5, 6]]"
      ]
     },
     "execution_count": 19,
     "metadata": {},
     "output_type": "execute_result"
    }
   ],
   "source": [
    "# 추가할 자료로 [5,6]을 제공한다면?\n",
    "a.append([5,6])\n",
    "a"
   ]
  },
  {
   "cell_type": "code",
   "execution_count": 20,
   "id": "80ea2de6",
   "metadata": {},
   "outputs": [
    {
     "data": {
      "text/plain": [
       "[5, 6]"
      ]
     },
     "execution_count": 20,
     "metadata": {},
     "output_type": "execute_result"
    }
   ],
   "source": [
    "a[4]"
   ]
  },
  {
   "cell_type": "markdown",
   "id": "6a857052",
   "metadata": {},
   "source": [
    "### .extend()"
   ]
  },
  {
   "cell_type": "code",
   "execution_count": 21,
   "id": "a718df32",
   "metadata": {},
   "outputs": [
    {
     "data": {
      "text/plain": [
       "[1, 2, 3, 4, [5, 6], 7, 8, 9]"
      ]
     },
     "execution_count": 21,
     "metadata": {},
     "output_type": "execute_result"
    }
   ],
   "source": [
    "# .extend()\n",
    "# 문법: 대상리스트.extend(리스트만 입력 가능)\n",
    "# append()와의 차이: 추가 대상으로 리스트만 받을 수 있다\n",
    "# 리스트 길이만큼 인덱스가 연장된다(append는 무조건 1만큼만 연장됨)\n",
    "a.extend([7,8,9])\n",
    "a"
   ]
  },
  {
   "cell_type": "code",
   "execution_count": 22,
   "id": "48a005c3",
   "metadata": {},
   "outputs": [
    {
     "data": {
      "text/plain": [
       "[1, 2, 3, 4, [5, 6], 7, 8, 9, 10]"
      ]
     },
     "execution_count": 22,
     "metadata": {},
     "output_type": "execute_result"
    }
   ],
   "source": [
    "# extend는 설령 하나의 인덱스만 연장해도 무조건 리스트로 추가해야 됨\n",
    "a.extend([10])\n",
    "a"
   ]
  },
  {
   "cell_type": "markdown",
   "id": "91348dc8",
   "metadata": {},
   "source": [
    "### .insert()"
   ]
  },
  {
   "cell_type": "code",
   "execution_count": 23,
   "id": "71ea5363",
   "metadata": {},
   "outputs": [
    {
     "data": {
      "text/plain": [
       "[100, 1, 2, 3, 4, [5, 6], 7, 8, 9, 10]"
      ]
     },
     "execution_count": 23,
     "metadata": {},
     "output_type": "execute_result"
    }
   ],
   "source": [
    "# insert()\n",
    "# 문법: 대상리스트.insert(인덱스 번호, 추가할 아이템)\n",
    "# 다른 함수와의 차이점: 아이템 추가가 지정인덱스에 실행됨\n",
    "# append와의 유사점: 하나의 인덱스 번호에 모든 자료를 때려박음\n",
    "# 교체가 아닌 추가이기 때문에 실제로 소실되는 자료는 없음\n",
    "a.insert(0,100)\n",
    "a"
   ]
  },
  {
   "cell_type": "code",
   "execution_count": 24,
   "id": "c0d9f360",
   "metadata": {},
   "outputs": [
    {
     "data": {
      "text/plain": [
       "True"
      ]
     },
     "execution_count": 24,
     "metadata": {},
     "output_type": "execute_result"
    }
   ],
   "source": [
    "# in 키워드는 특정 요소가 리스트 내에 있는지 없는지 여부를 물어봅니다.\n",
    "# 값 in 리스트\n",
    "# 100이 a 리스트 내에 존재하나요? => 100 in a\n",
    "100 in a"
   ]
  },
  {
   "cell_type": "code",
   "execution_count": 25,
   "id": "590033dc",
   "metadata": {},
   "outputs": [
    {
     "data": {
      "text/plain": [
       "False"
      ]
     },
     "execution_count": 25,
     "metadata": {},
     "output_type": "execute_result"
    }
   ],
   "source": [
    "5 in a"
   ]
  },
  {
   "cell_type": "code",
   "execution_count": 26,
   "id": "ab2c800a",
   "metadata": {},
   "outputs": [
    {
     "data": {
      "text/plain": [
       "True"
      ]
     },
     "execution_count": 26,
     "metadata": {},
     "output_type": "execute_result"
    }
   ],
   "source": [
    "5 in a[5]"
   ]
  },
  {
   "cell_type": "code",
   "execution_count": 27,
   "id": "df62a27e",
   "metadata": {},
   "outputs": [
    {
     "data": {
      "text/plain": [
       "False"
      ]
     },
     "execution_count": 27,
     "metadata": {},
     "output_type": "execute_result"
    }
   ],
   "source": [
    "# not in 키워드는 특정 요소가 리스트 내부에 없는지를 물어봅니다\n",
    "# 값 not in 리스트\n",
    "# 50이 a 리스트에 없습니까? => 50 not in a\n",
    "10 not in a"
   ]
  },
  {
   "cell_type": "markdown",
   "id": "ae138a39",
   "metadata": {},
   "source": [
    "### 연습문제 \n",
    "아래의 순서에 맞추어 직접 실행해보세요.\n",
    "- 1) 빈 리스트 생성\n",
    "- 2) 1번 리스트에 숫자 1,2,3 을 아이템으로 추가\n",
    "- 3) 2번 리스트의 3번째 위치에 문자 100 을 아이템으로 추가\n",
    "- 4) 3번 리스트의 마지막에 문자 A, B를 아이템으로 가진 리스트를 아이템으로 추가\n",
    "- 5) 4번 리스트의 아이템을 2번 반복해서 가지는 리스트를 출력"
   ]
  },
  {
   "cell_type": "code",
   "execution_count": 28,
   "id": "b7f06c27",
   "metadata": {},
   "outputs": [
    {
     "data": {
      "text/plain": [
       "[1, 2, 100, 3, ['A', 'B'], 1, 2, 100, 3, ['A', 'B']]"
      ]
     },
     "execution_count": 28,
     "metadata": {},
     "output_type": "execute_result"
    }
   ],
   "source": [
    "#1\n",
    "empty_list=[]\n",
    "# empty_list=list()\n",
    "#2\n",
    "empty_list.append(1)\n",
    "empty_list.append(2)\n",
    "empty_list.append(3)\n",
    "#3\n",
    "empty_list.insert(2,100)\n",
    "#4\n",
    "empty_list.append(['A','B'])\n",
    "#5\n",
    "empty_list*2"
   ]
  },
  {
   "cell_type": "markdown",
   "id": "4a36f651",
   "metadata": {},
   "source": [
    "## 아이템 수정하기"
   ]
  },
  {
   "cell_type": "markdown",
   "id": "b65b87ac",
   "metadata": {},
   "source": [
    "- 인덱싱, 슬라이싱을 이용해서 아이템을 수정할 수 있다"
   ]
  },
  {
   "cell_type": "code",
   "execution_count": 29,
   "id": "120340ba",
   "metadata": {},
   "outputs": [],
   "source": [
    "# 리스트 생성하기\n",
    "a = [1,2,3,4]"
   ]
  },
  {
   "cell_type": "code",
   "execution_count": 30,
   "id": "ec124287",
   "metadata": {},
   "outputs": [
    {
     "data": {
      "text/plain": [
       "[[10, 20], 2, 3, 4]"
      ]
     },
     "execution_count": 30,
     "metadata": {},
     "output_type": "execute_result"
    }
   ],
   "source": [
    "# 하나의 아이템 수정하기\n",
    "# 0번 인덱스에 있는 값을 [10,20]으로 수정하기\n",
    "# 결과 : [[10,20],2,3,4]\n",
    "a[0] = [10,20]\n",
    "a"
   ]
  },
  {
   "cell_type": "code",
   "execution_count": 31,
   "id": "b42edcac",
   "metadata": {},
   "outputs": [
    {
     "data": {
      "text/plain": [
       "[10, 20, 2, 3, 4]"
      ]
     },
     "execution_count": 31,
     "metadata": {},
     "output_type": "execute_result"
    }
   ],
   "source": [
    "# 연속된 범위에 있는 여러개의 아이템 수정하기\n",
    "# 0번 인덱스만 선택 <= 슬라이싱\n",
    "a2 = [1,2,3,4]\n",
    "a2[:1]=[10,20]\n",
    "a2\n",
    "# extend처럼 작동함"
   ]
  },
  {
   "cell_type": "code",
   "execution_count": 32,
   "id": "3d85598f",
   "metadata": {},
   "outputs": [
    {
     "data": {
      "text/plain": [
       "[100, 20, 2, 3, 4]"
      ]
     },
     "execution_count": 32,
     "metadata": {},
     "output_type": "execute_result"
    }
   ],
   "source": [
    "# 슬라이싱으로 값을 할당할 때의 주의점: 전달하는 값은 1개여도 리스트로\n",
    "# 동작원리가 extend()와 동일하기 때문\n",
    "a2[0:1]=[100]\n",
    "# a2[0:1]=100 => 오류 발생\n",
    "a2"
   ]
  },
  {
   "cell_type": "markdown",
   "id": "e4660bd1",
   "metadata": {},
   "source": [
    "### 연습문제\n",
    "아래 조건에 맞추어 리스트를 수정하세요.\n",
    "- [ 10, 99, 3, '사과', 73, '바나나' ]\n",
    "- 조건1)  '사과'를 'apple'로 수정\n",
    "- 조건2)  99, 3 을 9, 33으로 수정\n",
    "- 조건3)  73 을 [ 73, 74 ] 로 수정"
   ]
  },
  {
   "cell_type": "code",
   "execution_count": 33,
   "id": "d0a87430",
   "metadata": {},
   "outputs": [],
   "source": [
    "a = [ 10, 99, 3, '사과', 73, '바나나' ]"
   ]
  },
  {
   "cell_type": "code",
   "execution_count": 34,
   "id": "4418c907",
   "metadata": {},
   "outputs": [
    {
     "data": {
      "text/plain": [
       "[10, 9, 33, 'apple', [73, 74], '바나나']"
      ]
     },
     "execution_count": 34,
     "metadata": {},
     "output_type": "execute_result"
    }
   ],
   "source": [
    "#1\n",
    "a[3] = 'apple'\n",
    "#2\n",
    "a[1:3] = [9, 33]\n",
    "#3\n",
    "a[4] = [ 73, 74 ]\n",
    "a"
   ]
  },
  {
   "cell_type": "markdown",
   "id": "8c5104ff",
   "metadata": {},
   "source": [
    "## 아이템 삭제하기\n",
    "\n",
    "- 슬라이싱\n",
    "- del 키워드 + 인덱싱/슬라이싱\n",
    "- remove 메서드: 값을 기준으로 적용\n",
    "- pop()\n",
    "    - 인자값에 아무것도 입력하지 않거나 -1을 입력하면 마지막 인덱스를 삭제\n",
    "    - 특정 인덱스를 지정해 삭제할 수도 있음"
   ]
  },
  {
   "cell_type": "code",
   "execution_count": 35,
   "id": "cd8d88b9",
   "metadata": {},
   "outputs": [],
   "source": [
    "# 리스트 생성하기\n",
    "a1 = [10,20,30,40,50]\n",
    "a2 = [10,20,30,40,50]"
   ]
  },
  {
   "cell_type": "markdown",
   "id": "0d88d981",
   "metadata": {},
   "source": [
    "### 슬라이싱 + 빈 리스트"
   ]
  },
  {
   "cell_type": "code",
   "execution_count": 36,
   "id": "0758a5a0",
   "metadata": {},
   "outputs": [
    {
     "data": {
      "text/plain": [
       "[20, 30, 40, 50]"
      ]
     },
     "execution_count": 36,
     "metadata": {},
     "output_type": "execute_result"
    }
   ],
   "source": [
    "# 0번 인덱스 값을 삭제\n",
    "a1[:1]=[]\n",
    "a1"
   ]
  },
  {
   "cell_type": "code",
   "execution_count": 37,
   "id": "1d95876a",
   "metadata": {},
   "outputs": [
    {
     "data": {
      "text/plain": [
       "[[], 20, 30, 40, 50]"
      ]
     },
     "execution_count": 37,
     "metadata": {},
     "output_type": "execute_result"
    }
   ],
   "source": [
    "# 만약 슬라이싱이 아닌 인덱싱 지정 후 빈 리스트 대입시\n",
    "a2[0] = []\n",
    "a2"
   ]
  },
  {
   "cell_type": "markdown",
   "id": "5361a042",
   "metadata": {},
   "source": [
    "### del 키워드 + 인덱싱"
   ]
  },
  {
   "cell_type": "code",
   "execution_count": 38,
   "id": "2853e7e4",
   "metadata": {},
   "outputs": [
    {
     "data": {
      "text/plain": [
       "[20, 30, 40]"
      ]
     },
     "execution_count": 38,
     "metadata": {},
     "output_type": "execute_result"
    }
   ],
   "source": [
    "del a1[-1]\n",
    "a1"
   ]
  },
  {
   "cell_type": "code",
   "execution_count": 39,
   "id": "c4612c46",
   "metadata": {},
   "outputs": [],
   "source": [
    "# 만약 인덱싱 없이 del키워드를 쓴다면...\n",
    "# 특정 리스트 전체를 통째로 삭제해버림\n",
    "del a2\n",
    "#a2"
   ]
  },
  {
   "cell_type": "markdown",
   "id": "3ba19511",
   "metadata": {},
   "source": [
    "### remove()메서드"
   ]
  },
  {
   "cell_type": "markdown",
   "id": "c77d2cbf",
   "metadata": {},
   "source": [
    "- 문법: 리스트.remove(삭제할자료(인덱스 아님!!!))"
   ]
  },
  {
   "cell_type": "code",
   "execution_count": 40,
   "id": "5154ac35",
   "metadata": {},
   "outputs": [],
   "source": [
    "# 리스트 생성\n",
    "a = [1,2,3,3,3,4,5]"
   ]
  },
  {
   "cell_type": "code",
   "execution_count": 41,
   "id": "608c4efc",
   "metadata": {},
   "outputs": [
    {
     "data": {
      "text/plain": [
       "[1, 2, 3, 3, 3, 4]"
      ]
     },
     "execution_count": 41,
     "metadata": {},
     "output_type": "execute_result"
    }
   ],
   "source": [
    "# 5라는 값을 삭제\n",
    "a.remove(5)\n",
    "a"
   ]
  },
  {
   "cell_type": "code",
   "execution_count": 42,
   "id": "30cbe649",
   "metadata": {},
   "outputs": [
    {
     "data": {
      "text/plain": [
       "[1, 2, 3, 3, 4]"
      ]
     },
     "execution_count": 42,
     "metadata": {},
     "output_type": "execute_result"
    }
   ],
   "source": [
    "# 중복된 아이템이 존재하면 가장 앞서는 인덱스 자료 하나만 삭제\n",
    "a.remove(3)\n",
    "a"
   ]
  },
  {
   "cell_type": "code",
   "execution_count": 43,
   "id": "455f49e4",
   "metadata": {},
   "outputs": [
    {
     "data": {
      "text/plain": [
       "[1, 2]"
      ]
     },
     "execution_count": 43,
     "metadata": {},
     "output_type": "execute_result"
    }
   ],
   "source": [
    "# del 키워드는 단일 자료 뿐만 아니라 연속된 범위(슬라이싱) 자료 삭제도 가능하다\n",
    "del a[2:]\n",
    "a"
   ]
  },
  {
   "cell_type": "markdown",
   "id": "f993a4b3",
   "metadata": {},
   "source": [
    "### pop()메서드"
   ]
  },
  {
   "cell_type": "code",
   "execution_count": 44,
   "id": "0e0df0bc",
   "metadata": {},
   "outputs": [
    {
     "data": {
      "text/plain": [
       "[1, 2, 3, 4, 5, 6]"
      ]
     },
     "execution_count": 44,
     "metadata": {},
     "output_type": "execute_result"
    }
   ],
   "source": [
    "# 마지막에 위치한 값이 몇이었는지 확인시켜주고 삭제함\n",
    "a=[1,2,3,4,5]\n",
    "a.append(6)\n",
    "a"
   ]
  },
  {
   "cell_type": "code",
   "execution_count": 45,
   "id": "4a3eec46",
   "metadata": {},
   "outputs": [
    {
     "data": {
      "text/plain": [
       "6"
      ]
     },
     "execution_count": 45,
     "metadata": {},
     "output_type": "execute_result"
    }
   ],
   "source": [
    "a.pop() # 인덱스 번호 미기입시 마지막 인덱스 자료 삭제(현재 기준으로는 6삭제)"
   ]
  },
  {
   "cell_type": "code",
   "execution_count": 46,
   "id": "18886896",
   "metadata": {},
   "outputs": [
    {
     "data": {
      "text/plain": [
       "[1, 2, 3, 4, 5]"
      ]
     },
     "execution_count": 46,
     "metadata": {},
     "output_type": "execute_result"
    }
   ],
   "source": [
    "a"
   ]
  },
  {
   "cell_type": "code",
   "execution_count": 47,
   "id": "4c253775",
   "metadata": {},
   "outputs": [
    {
     "data": {
      "text/plain": [
       "3"
      ]
     },
     "execution_count": 47,
     "metadata": {},
     "output_type": "execute_result"
    }
   ],
   "source": [
    "# 삭제하려는 인덱스 번호를 지정하면 마지막이 아닌 입력된 인덱스 위치 자료를 삭제합니다.\n",
    "a.pop(2)"
   ]
  },
  {
   "cell_type": "code",
   "execution_count": 48,
   "id": "1fa967a9",
   "metadata": {},
   "outputs": [
    {
     "data": {
      "text/plain": [
       "[1, 2, 4, 5]"
      ]
     },
     "execution_count": 48,
     "metadata": {},
     "output_type": "execute_result"
    }
   ],
   "source": [
    "a"
   ]
  },
  {
   "cell_type": "markdown",
   "id": "84813c04",
   "metadata": {},
   "source": [
    "## 아이템 정렬하기"
   ]
  },
  {
   "cell_type": "markdown",
   "id": "3b011bce",
   "metadata": {},
   "source": [
    "- 함수\n",
    "    - sort(): 기본동작 = 오름차순정렬(작은 값이 먼저오고 큰 값이  나중에)\n",
    "    - reverse(): 기존 리스트의 처음과 마지막 순서를 뒤집어서 나열"
   ]
  },
  {
   "cell_type": "code",
   "execution_count": 49,
   "id": "7039c395",
   "metadata": {},
   "outputs": [],
   "source": [
    "# 리스트 생성\n",
    "a = [10, -30, 57, -33, 71, 1, 34, -2]"
   ]
  },
  {
   "cell_type": "markdown",
   "id": "ac0fef9c",
   "metadata": {},
   "source": [
    "### .sort()"
   ]
  },
  {
   "cell_type": "code",
   "execution_count": 50,
   "id": "b3faf1a2",
   "metadata": {},
   "outputs": [
    {
     "data": {
      "text/plain": [
       "[-33, -30, -2, 1, 10, 34, 57, 71]"
      ]
     },
     "execution_count": 50,
     "metadata": {},
     "output_type": "execute_result"
    }
   ],
   "source": [
    "# 값을 오름차순으로 정렬: sort() 기본동작/ sort(reverse=False)\n",
    "# 원본 리스트 변경 됨\n",
    "a.sort() # reverse=False\n",
    "a"
   ]
  },
  {
   "cell_type": "code",
   "execution_count": 51,
   "id": "3feee4b6",
   "metadata": {},
   "outputs": [
    {
     "data": {
      "text/plain": [
       "[71, 57, 34, 10, 1, -2, -30, -33]"
      ]
     },
     "execution_count": 51,
     "metadata": {},
     "output_type": "execute_result"
    }
   ],
   "source": [
    "# 값을 오름차순이 아닌 내림차순으로 정렬하는 경우: .sort(reverse = True)\n",
    "a.sort(reverse = True)\n",
    "a"
   ]
  },
  {
   "cell_type": "markdown",
   "id": "e502b656",
   "metadata": {},
   "source": [
    "### .reverse()"
   ]
  },
  {
   "cell_type": "code",
   "execution_count": 52,
   "id": "5ff2e782",
   "metadata": {},
   "outputs": [],
   "source": [
    "# 값을 인덱스기준으로 반대로 뒤집기: reverse()\n",
    "b = [10, 71, 32, 46, 5, 95]"
   ]
  },
  {
   "cell_type": "code",
   "execution_count": 53,
   "id": "166254b1",
   "metadata": {},
   "outputs": [
    {
     "data": {
      "text/plain": [
       "[95, 5, 46, 32, 71, 10]"
      ]
     },
     "execution_count": 53,
     "metadata": {},
     "output_type": "execute_result"
    }
   ],
   "source": [
    "b.reverse()\n",
    "b"
   ]
  },
  {
   "cell_type": "markdown",
   "id": "7c4dafa1",
   "metadata": {},
   "source": [
    "## 아이템 개수 세기"
   ]
  },
  {
   "cell_type": "markdown",
   "id": "44e26aae",
   "metadata": {},
   "source": [
    "- 함수\n",
    "    - 리스트.count(값): 조회값이 리스트 내부에 몇 개 있는지 개수를 보여줌\n",
    "    - len(): 파이썬 내장함수로 리스트 내부에 전체 아이템이 몇 개 있는지 보여줌"
   ]
  },
  {
   "cell_type": "code",
   "execution_count": 54,
   "id": "ae8d6423",
   "metadata": {},
   "outputs": [],
   "source": [
    "a = [1,2,3,3,4,5,6]"
   ]
  },
  {
   "cell_type": "code",
   "execution_count": 55,
   "id": "5484d1dc",
   "metadata": {},
   "outputs": [
    {
     "data": {
      "text/plain": [
       "1"
      ]
     },
     "execution_count": 55,
     "metadata": {},
     "output_type": "execute_result"
    }
   ],
   "source": [
    "# 특정 아이템의 개수: count()\n",
    "a.count(6)"
   ]
  },
  {
   "cell_type": "code",
   "execution_count": 56,
   "id": "1b864e91",
   "metadata": {},
   "outputs": [
    {
     "data": {
      "text/plain": [
       "7"
      ]
     },
     "execution_count": 56,
     "metadata": {},
     "output_type": "execute_result"
    }
   ],
   "source": [
    "# 전체 아이템의 개수: len()\n",
    "len(a)"
   ]
  },
  {
   "cell_type": "markdown",
   "id": "e7a3cfba",
   "metadata": {},
   "source": [
    "## 리스트 복사하기 ★★★"
   ]
  },
  {
   "attachments": {
    "image.png": {
     "image/png": "[encoded data removed]"
    }
   },
   "cell_type": "markdown",
   "id": "b0e5ed36",
   "metadata": {},
   "source": [
    "- [스택] => 좁아서 스캔이 빠르다, 단 데이터를 많이 넣지 못한다\n",
    "- 기본형 변수: 단일형 데이터를 넣는 경우\n",
    "    * x =10\n",
    "- [힙] => 스택과 반대라고 생각\n",
    "- 참조형 변수: 다변량 데이터를 넣는 경우\n",
    "    * y=[1,2,3]\n",
    "![image.png](attachment:image.png)"
   ]
  },
  {
   "cell_type": "markdown",
   "id": "0f7d1451",
   "metadata": {},
   "source": [
    "- 얕은 복사\n",
    "- 깊은 복사"
   ]
  },
  {
   "cell_type": "markdown",
   "id": "8b4fb5d5",
   "metadata": {},
   "source": [
    "### 할당기호(=)"
   ]
  },
  {
   "cell_type": "code",
   "execution_count": 57,
   "id": "f5423cd2",
   "metadata": {},
   "outputs": [],
   "source": [
    "a = [1,2,3,4,5]\n",
    "b = a"
   ]
  },
  {
   "cell_type": "code",
   "execution_count": 58,
   "id": "b455209c",
   "metadata": {},
   "outputs": [
    {
     "name": "stdout",
     "output_type": "stream",
     "text": [
      "[1, 2, 3, 4, 5] [1, 2, 3, 4, 5]\n"
     ]
    }
   ],
   "source": [
    "print(a,b)"
   ]
  },
  {
   "cell_type": "code",
   "execution_count": 59,
   "id": "850c912a",
   "metadata": {},
   "outputs": [
    {
     "name": "stdout",
     "output_type": "stream",
     "text": [
      "2699834398152 2699834398152\n"
     ]
    }
   ],
   "source": [
    "# 주소를 찍고 싶다면, id(변수)를 쓰면 해당 자료가 저장된 주소를 조회할 수 있습니다.\n",
    "print(id(a),id(b))"
   ]
  },
  {
   "cell_type": "code",
   "execution_count": 60,
   "id": "b58bfdca",
   "metadata": {},
   "outputs": [],
   "source": [
    "# = 을 이용해 복사한 요소는 동일한 지점을 가르키는 복사이다.\n",
    "a[0] = 10 # 주소[2190110361928]는 이제 10이다."
   ]
  },
  {
   "cell_type": "code",
   "execution_count": 61,
   "id": "37d61564",
   "metadata": {},
   "outputs": [
    {
     "data": {
      "text/plain": [
       "[10, 2, 3, 4, 5]"
      ]
     },
     "execution_count": 61,
     "metadata": {},
     "output_type": "execute_result"
    }
   ],
   "source": [
    "# a와 b는 동일한 지점을 가리키고 있기에(참조한 주소가 같기에) 값이 같이 바뀐 것을 볼 수 있다\n",
    "b"
   ]
  },
  {
   "cell_type": "markdown",
   "id": "4ac8d19b",
   "metadata": {},
   "source": [
    "### copy()메서드"
   ]
  },
  {
   "cell_type": "code",
   "execution_count": 62,
   "id": "e425ea87",
   "metadata": {},
   "outputs": [],
   "source": [
    "# 새로운 주소에 a 주소 값을 대입\n",
    "c = a.copy()"
   ]
  },
  {
   "cell_type": "code",
   "execution_count": 63,
   "id": "d048b2a5",
   "metadata": {},
   "outputs": [
    {
     "name": "stdout",
     "output_type": "stream",
     "text": [
      "2699834398152 2699834397192\n"
     ]
    }
   ],
   "source": [
    "# id를 이용해 a,b\n",
    "# 그리고 a,c 주소를 각각 print로 묶어서 찍어보세요\n",
    "print(id(a),id(c))"
   ]
  },
  {
   "cell_type": "code",
   "execution_count": 64,
   "id": "5f9a9d10",
   "metadata": {},
   "outputs": [
    {
     "name": "stdout",
     "output_type": "stream",
     "text": [
      "[10, 2, 3, 4, 5] [10, 2, 3, 4, 5]\n"
     ]
    }
   ],
   "source": [
    "print(a,c)"
   ]
  },
  {
   "cell_type": "code",
   "execution_count": 65,
   "id": "b622e00c",
   "metadata": {},
   "outputs": [
    {
     "name": "stdout",
     "output_type": "stream",
     "text": [
      "[10, 2, 20, 4, 5] [10, 2, 20, 4, 5] [10, 2, 3, 4, 5]\n"
     ]
    }
   ],
   "source": [
    "# a를 변경해도 c는 영향을 받지 않는다\n",
    "a[2]=20\n",
    "print(a,b,c)"
   ]
  },
  {
   "cell_type": "markdown",
   "id": "371557bb",
   "metadata": {},
   "source": [
    "### list()"
   ]
  },
  {
   "cell_type": "code",
   "execution_count": 66,
   "id": "eb7fcd67",
   "metadata": {},
   "outputs": [
    {
     "name": "stdout",
     "output_type": "stream",
     "text": [
      "[10, 2, 3, 4, 5] [10, 2, 3, 4, 5]\n"
     ]
    }
   ],
   "source": [
    "# list(자료)를 넣으면 그 자료를 새로 할당해 리스트화해준다.\n",
    "d= list(c)\n",
    "print(c,d)"
   ]
  },
  {
   "cell_type": "code",
   "execution_count": 67,
   "id": "31d107e9",
   "metadata": {},
   "outputs": [
    {
     "name": "stdout",
     "output_type": "stream",
     "text": [
      "2699834397192 2699834658440\n"
     ]
    }
   ],
   "source": [
    "# c, d도 주소가 다릅니다(깊은 복사)\n",
    "print(id(c),id(d))"
   ]
  },
  {
   "cell_type": "markdown",
   "id": "6fc2e1e7",
   "metadata": {},
   "source": [
    "### 슬라이싱"
   ]
  },
  {
   "cell_type": "markdown",
   "id": "0a865432",
   "metadata": {},
   "source": [
    "- 전체 범위 지정 대입시에도 깊은 복사"
   ]
  },
  {
   "cell_type": "code",
   "execution_count": 68,
   "id": "0dff911a",
   "metadata": {},
   "outputs": [
    {
     "name": "stdout",
     "output_type": "stream",
     "text": [
      "2699834658440 2699834408328\n"
     ]
    }
   ],
   "source": [
    "e=d[:]\n",
    "print(id(d),id(e))"
   ]
  },
  {
   "cell_type": "code",
   "execution_count": 69,
   "id": "bdf5c3c8",
   "metadata": {},
   "outputs": [
    {
     "name": "stdout",
     "output_type": "stream",
     "text": [
      "[10, 2, 3, 4, 5] [10, 2, 3, 4, 5]\n"
     ]
    }
   ],
   "source": [
    "print(d,e)"
   ]
  },
  {
   "cell_type": "markdown",
   "id": "d55b280c",
   "metadata": {},
   "source": [
    "# Tuple"
   ]
  },
  {
   "cell_type": "markdown",
   "id": "5ecdb3a4",
   "metadata": {},
   "source": [
    "- 생성 문법 기호 : ( )\n",
    "- <span class=\"mark\">아이템을 수정/삭제할 수 없기 때문에 실수로 데이터가 변경되거나 삭제되는 위험이 적다.</span>\n",
    "- 객체를 저장하는데 더 적은 메모리를 사용한다.\n",
    "- dictionay 자료형의 key로 활용할 수 있다.\n",
    "- 함수의 인자는 tuple 자료형으로 전달된다."
   ]
  },
  {
   "cell_type": "markdown",
   "id": "4bde3c8d",
   "metadata": {},
   "source": [
    "## 생성하기"
   ]
  },
  {
   "cell_type": "code",
   "execution_count": 70,
   "id": "fe51bea2",
   "metadata": {},
   "outputs": [
    {
     "data": {
      "text/plain": [
       "list"
      ]
     },
     "execution_count": 70,
     "metadata": {},
     "output_type": "execute_result"
    }
   ],
   "source": [
    "# 하나의 아이템을 가진 리스트\n",
    "a = [1]\n",
    "type(a)"
   ]
  },
  {
   "cell_type": "code",
   "execution_count": 71,
   "id": "2e6f3afd",
   "metadata": {},
   "outputs": [
    {
     "data": {
      "text/plain": [
       "int"
      ]
     },
     "execution_count": 71,
     "metadata": {},
     "output_type": "execute_result"
    }
   ],
   "source": [
    "# 문법기호: 소괄호는 작성해도 되고 생략해도 됨. 대신 쉼표는 무조건 1개이상 들어감\n",
    "tu = (1)\n",
    "type(tu)"
   ]
  },
  {
   "cell_type": "code",
   "execution_count": 72,
   "id": "975938de",
   "metadata": {},
   "outputs": [
    {
     "data": {
      "text/plain": [
       "tuple"
      ]
     },
     "execution_count": 72,
     "metadata": {},
     "output_type": "execute_result"
    }
   ],
   "source": [
    "tu = (1,)\n",
    "type(tu)"
   ]
  },
  {
   "cell_type": "code",
   "execution_count": 73,
   "id": "2dca11be",
   "metadata": {},
   "outputs": [
    {
     "name": "stdout",
     "output_type": "stream",
     "text": [
      "<class 'list'> <class 'tuple'>\n",
      "[1] (1,)\n"
     ]
    }
   ],
   "source": [
    "# tuple(리스트)로 처리하려면 리스트를 튜플로 교환할 수 있다.\n",
    "b = tuple(a)\n",
    "print(type(a),type(b))\n",
    "print(a,b)"
   ]
  },
  {
   "cell_type": "code",
   "execution_count": 74,
   "id": "b5087f00",
   "metadata": {},
   "outputs": [
    {
     "name": "stdout",
     "output_type": "stream",
     "text": [
      "(56, 78, 29, 100)\n",
      "<class 'tuple'>\n"
     ]
    }
   ],
   "source": [
    "# 변수 하나에 여러 값을 ,로 나열해 대입해도 튜플로 간주된다.\n",
    "x = 56, 78, 29, 100\n",
    "print(x)\n",
    "print(type(x))"
   ]
  },
  {
   "cell_type": "code",
   "execution_count": 75,
   "id": "8fd2f1d9",
   "metadata": {},
   "outputs": [
    {
     "name": "stdout",
     "output_type": "stream",
     "text": [
      "1\n",
      "2\n",
      "3\n"
     ]
    }
   ],
   "source": [
    "# 튜플 내부의 자료 개수만큼 변수를 대입해주면 하나씩 나눠서 값을 받는다\n",
    "x1, x2, x3 = 1, 2, 3\n",
    "print(x1)\n",
    "print(x2)\n",
    "print(x3)"
   ]
  },
  {
   "cell_type": "markdown",
   "id": "b8ce88f0",
   "metadata": {},
   "source": [
    "## 인덱싱"
   ]
  },
  {
   "cell_type": "code",
   "execution_count": 76,
   "id": "1ac0404c",
   "metadata": {},
   "outputs": [
    {
     "data": {
      "text/plain": [
       "56"
      ]
     },
     "execution_count": 76,
     "metadata": {},
     "output_type": "execute_result"
    }
   ],
   "source": [
    "x[0]"
   ]
  },
  {
   "cell_type": "markdown",
   "id": "0d438590",
   "metadata": {},
   "source": [
    "## 슬라이싱"
   ]
  },
  {
   "cell_type": "code",
   "execution_count": 77,
   "id": "87e4bd82",
   "metadata": {},
   "outputs": [
    {
     "data": {
      "text/plain": [
       "(56, 78, 29)"
      ]
     },
     "execution_count": 77,
     "metadata": {},
     "output_type": "execute_result"
    }
   ],
   "source": [
    "x[:3]"
   ]
  },
  {
   "cell_type": "markdown",
   "id": "16b1eb41",
   "metadata": {},
   "source": [
    "## 튜플 연산자"
   ]
  },
  {
   "cell_type": "markdown",
   "id": "ce1e60fc",
   "metadata": {},
   "source": [
    "- 산술 연산자: +. *"
   ]
  },
  {
   "cell_type": "code",
   "execution_count": 78,
   "id": "a1adef7e",
   "metadata": {},
   "outputs": [
    {
     "data": {
      "text/plain": [
       "(56, 78, 29, 100, 56, 78, 29, 100)"
      ]
     },
     "execution_count": 78,
     "metadata": {},
     "output_type": "execute_result"
    }
   ],
   "source": [
    "# 여러 개의 튜플의 아이템을 합쳐서 새로운 튜플 만들기: +\n",
    "x + x"
   ]
  },
  {
   "cell_type": "code",
   "execution_count": 79,
   "id": "2ab31f43",
   "metadata": {},
   "outputs": [
    {
     "data": {
      "text/plain": [
       "(56, 78, 29, 100)"
      ]
     },
     "execution_count": 79,
     "metadata": {},
     "output_type": "execute_result"
    }
   ],
   "source": [
    "# 원본에 영향이 없으므로 해당 로직을 실행하는데 논리적 문제가 없음\n",
    "x"
   ]
  },
  {
   "cell_type": "code",
   "execution_count": 80,
   "id": "2794f3b1",
   "metadata": {},
   "outputs": [
    {
     "data": {
      "text/plain": [
       "(56, 78, 29, 100, 56, 78, 29, 100, 56, 78, 29, 100)"
      ]
     },
     "execution_count": 80,
     "metadata": {},
     "output_type": "execute_result"
    }
   ],
   "source": [
    "# 한 개의 튜플을 반복해서 확장해서 새로운 튜플 만들기: *\n",
    "x * 3"
   ]
  },
  {
   "cell_type": "code",
   "execution_count": 81,
   "id": "f899c5c3",
   "metadata": {},
   "outputs": [
    {
     "data": {
      "text/plain": [
       "(56, 78, 29, 100)"
      ]
     },
     "execution_count": 81,
     "metadata": {},
     "output_type": "execute_result"
    }
   ],
   "source": [
    "x"
   ]
  },
  {
   "cell_type": "markdown",
   "id": "503a0529",
   "metadata": {},
   "source": [
    "## 수정/삭제 할 수 없는 튜플"
   ]
  },
  {
   "cell_type": "code",
   "execution_count": 82,
   "id": "5cf01f3e",
   "metadata": {},
   "outputs": [],
   "source": [
    "# 수정하기 -> 인덱싱으로 하나의 아이템에 접근해서 수정\n",
    "#x[0] = 0 # TypeError"
   ]
  },
  {
   "cell_type": "code",
   "execution_count": 83,
   "id": "56e05390",
   "metadata": {},
   "outputs": [],
   "source": [
    "# 삭제하기 -> del 키워드 + 인덱싱\n",
    "#del x[0] # TypeError"
   ]
  },
  {
   "cell_type": "markdown",
   "id": "678c735d",
   "metadata": {},
   "source": [
    "### << 연습문제 >>\n",
    "1. a 리스트를 이용하여 다음과 같은 문자열을 출력하시오.\n",
    "- a = ['Life', 'is', 'too', 'short', 'you', 'need', 'python']\n",
    "- 출력문 : you too"
   ]
  },
  {
   "cell_type": "code",
   "execution_count": 84,
   "id": "9eba5f01",
   "metadata": {},
   "outputs": [
    {
     "name": "stdout",
     "output_type": "stream",
     "text": [
      "you too\n"
     ]
    }
   ],
   "source": [
    "a = ['Life', 'is', 'too', 'short', 'you', 'need', 'python']\n",
    "print(a[4],a[2])"
   ]
  },
  {
   "cell_type": "markdown",
   "id": "b269eff5",
   "metadata": {},
   "source": [
    "- 2. a 리스트의 길이를 구하세요"
   ]
  },
  {
   "cell_type": "code",
   "execution_count": 85,
   "id": "bc505578",
   "metadata": {
    "scrolled": true
   },
   "outputs": [
    {
     "data": {
      "text/plain": [
       "7"
      ]
     },
     "execution_count": 85,
     "metadata": {},
     "output_type": "execute_result"
    }
   ],
   "source": [
    "len(a)"
   ]
  },
  {
   "cell_type": "markdown",
   "id": "7245d75b",
   "metadata": {},
   "source": [
    "- 3. a 리스트의 첫번째 아이템에 길이를 추가하세요."
   ]
  },
  {
   "cell_type": "code",
   "execution_count": 86,
   "id": "54d857e3",
   "metadata": {},
   "outputs": [
    {
     "data": {
      "text/plain": [
       "[7, 'Life', 'is', 'too', 'short', 'you', 'need', 'python']"
      ]
     },
     "execution_count": 86,
     "metadata": {},
     "output_type": "execute_result"
    }
   ],
   "source": [
    "a.insert(0,len(a))\n",
    "a"
   ]
  },
  {
   "cell_type": "markdown",
   "id": "71eefcbf",
   "metadata": {},
   "source": [
    "- 4.아래와 같이 크기 순서가 없는 리스트를 만들고 내림차순 정렬로 바꿔보세요.\n",
    "- [1, 4, 9, 2, 6, 10]\n",
    "- ( 결과 )  [10, 9, 6, 4, 2, 1]"
   ]
  },
  {
   "cell_type": "code",
   "execution_count": 87,
   "id": "a1e2aab3",
   "metadata": {},
   "outputs": [
    {
     "data": {
      "text/plain": [
       "[10, 9, 6, 4, 2, 1]"
      ]
     },
     "execution_count": 87,
     "metadata": {},
     "output_type": "execute_result"
    }
   ],
   "source": [
    "b = [1, 4, 9, 2, 6, 10]\n",
    "b.sort(reverse=True)\n",
    "b"
   ]
  }
 ],
 "metadata": {
  "gist": {
   "data": {
    "description": "2022-10-06-[Python] 리스트.md",
    "public": false
   },
   "id": ""
  },
  "kernelspec": {
   "display_name": "Python 3 (ipykernel)",
   "language": "python",
   "name": "python3"
  },
  "language_info": {
   "codemirror_mode": {
    "name": "ipython",
    "version": 3
   },
   "file_extension": ".py",
   "mimetype": "text/x-python",
   "name": "python",
   "nbconvert_exporter": "python",
   "pygments_lexer": "ipython3",
   "version": "3.7.13"
  },
  "toc": {
   "base_numbering": 1,
   "nav_menu": {
    "height": "535px",
    "width": "528.991px"
   },
   "number_sections": true,
   "sideBar": true,
   "skip_h1_title": false,
   "title_cell": "Table of Contents",
   "title_sidebar": "Contents",
   "toc_cell": false,
   "toc_position": {
    "height": "calc(100% - 180px)",
    "left": "10px",
    "top": "150px",
    "width": "251.163px"
   },
   "toc_section_display": true,
   "toc_window_display": true
  },
  "varInspector": {
   "cols": {
    "lenName": 16,
    "lenType": 16,
    "lenVar": 40
   },
   "kernels_config": {
    "python": {
     "delete_cmd_postfix": "",
     "delete_cmd_prefix": "del ",
     "library": "var_list.py",
     "varRefreshCmd": "print(var_dic_list())"
    },
    "r": {
     "delete_cmd_postfix": ") ",
     "delete_cmd_prefix": "rm(",
     "library": "var_list.r",
     "varRefreshCmd": "cat(var_dic_list()) "
    }
   },
   "position": {
    "height": "416.888px",
    "left": "1207.38px",
    "right": "20px",
    "top": "85.925px",
    "width": "310.975px"
   },
   "types_to_exclude": [
    "module",
    "function",
    "builtin_function_or_method",
    "instance",
    "_Feature"
   ],
   "window_display": true
  }
 },
 "nbformat": 4,
 "nbformat_minor": 5
}
