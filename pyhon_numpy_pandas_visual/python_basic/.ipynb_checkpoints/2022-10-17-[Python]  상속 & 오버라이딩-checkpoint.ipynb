{
 "cells": [
  {
   "cell_type": "markdown",
   "id": "4c002e2c",
   "metadata": {},
   "source": [
    "# \"[Python] 상속 & 오버라이딩\"\n",
    "> \"상속과 오버라이딩 개념\"\n",
    "\n",
    "- toc: true\n",
    "- branch: master\n",
    "- badges: true\n",
    "- comments: true\n",
    "- categories: [상속,오버라이딩]\n",
    "- author: 도형준"
   ]
  },
  {
   "cell_type": "markdown",
   "id": "039d0ca1",
   "metadata": {},
   "source": [
    "# 상속"
   ]
  },
  {
   "cell_type": "markdown",
   "id": "57723b05",
   "metadata": {},
   "source": [
    "##  개념"
   ]
  },
  {
   "cell_type": "markdown",
   "id": "d8675a89",
   "metadata": {},
   "source": [
    "- 상속은 부모 클래스의 정보를 활용해 자식 클래스를 이끌어내는 것을 의미합니다.\n",
    "- 문법은\n",
    ">    class 클래스명(부모클래스):\n",
    "        내부 정의\n",
    "- 현실에서의 상속과 마찬가지로 프로그래밍의 상속에서도 부모는 자식에게 자신이 가진 요소를 물려줍니다(변수, 메서드)\n",
    "- 현실과 다른 점은 프로그래밍의 상속은 자식이 부모를 지목해 이뤄지며\n",
    "- 부모쪽에서 물려받은 변수, 메서드 및 자식 쪽에서 새로 정의한 변수, 메서드\n",
    "- 그리고 물려받은 메서드를 재정의(오버라이딩)해 사용할 수 있습니다."
   ]
  },
  {
   "cell_type": "code",
   "execution_count": 1,
   "id": "dd4737bb",
   "metadata": {},
   "outputs": [],
   "source": [
    "class Person:\n",
    "    name = \"\"\n",
    "    age = 0\n",
    "    height = 0"
   ]
  },
  {
   "cell_type": "code",
   "execution_count": 2,
   "id": "75ec44f5",
   "metadata": {},
   "outputs": [
    {
     "name": "stdout",
     "output_type": "stream",
     "text": [
      "홍길동 20 170\n"
     ]
    }
   ],
   "source": [
    "p1 = Person()\n",
    "p1.name = \"홍길동\"\n",
    "p1.age = 20\n",
    "p1.height = 170\n",
    "print(p1.name,p1.age,p1.height)"
   ]
  },
  {
   "cell_type": "code",
   "execution_count": 3,
   "id": "448b1a60",
   "metadata": {},
   "outputs": [],
   "source": [
    "# Student는 Person의 상속을 받았음\n",
    "class Student(Person):\n",
    "    major = \"\"\n",
    "    grade = 0\n",
    "    \n",
    "    def save_info(self,n,s,a,p,q):\n",
    "        self.name = n\n",
    "        self.age = s\n",
    "        self.height = a\n",
    "        self.major = p\n",
    "        self.grade = q\n",
    "        \n",
    "    def get_info(self):\n",
    "        print((\"name: %s, age: %s세, height: %scm, major: %s, grade:%s학년\")%(self.name,self.age,self.height,self.major,self.grade))"
   ]
  },
  {
   "cell_type": "code",
   "execution_count": 4,
   "id": "0c85bc50",
   "metadata": {},
   "outputs": [
    {
     "name": "stdout",
     "output_type": "stream",
     "text": [
      "name: 가나다, age: 21세, height: 175cm, major: 빅데이터, grade:1학년\n"
     ]
    }
   ],
   "source": [
    "s1 = Student()\n",
    "s1.save_info(\"가나다\",21,175,\"빅데이터\",1)\n",
    "s1.get_info()"
   ]
  },
  {
   "cell_type": "code",
   "execution_count": 5,
   "id": "5bd98e09",
   "metadata": {},
   "outputs": [],
   "source": [
    "# 샐러리맨을 선언해주세요\n",
    "# 샐러리맨은 연봉을 가집니다.\n",
    "class Salaryman(Person):\n",
    "    job = \"\"\n",
    "    income = 0\n",
    "    \n",
    "    def save_my_info(self,x,z):\n",
    "        self.job = x\n",
    "        self.income = z\n",
    "    def get_my_info(self):\n",
    "        print((\"이름:%s, 나이:%s세, 키:%scm, 직업:%s, 수입:$%s\")%(self.name,self.age,self.height,self.job,self.income))"
   ]
  },
  {
   "cell_type": "code",
   "execution_count": 6,
   "id": "92180bd2",
   "metadata": {},
   "outputs": [
    {
     "name": "stdout",
     "output_type": "stream",
     "text": [
      "이름:도형준, 나이:24세, 키:175cm, 직업:DS, 수입:$100000\n"
     ]
    }
   ],
   "source": [
    "me = Salaryman()\n",
    "me.save_my_info(\"DS\",100000)\n",
    "me.name = \"도형준\"\n",
    "me.age = 24\n",
    "me.height = 175\n",
    "me.get_my_info()"
   ]
  },
  {
   "cell_type": "markdown",
   "id": "3092f287",
   "metadata": {},
   "source": [
    "## 파이썬에서는 다중 상속 가능함"
   ]
  },
  {
   "cell_type": "markdown",
   "id": "2f57e2ea",
   "metadata": {},
   "source": [
    "- 하지만 보통 다중 상속을 하지 않음.(특히, JAVA or C)"
   ]
  },
  {
   "cell_type": "code",
   "execution_count": 7,
   "id": "67aa2cb7",
   "metadata": {
    "code_folding": []
   },
   "outputs": [
    {
     "name": "stdout",
     "output_type": "stream",
     "text": [
      "안녕하세요.\n",
      "학점 관리\n",
      "공부하기\n"
     ]
    }
   ],
   "source": [
    "class Person:\n",
    "    def greeting(self):\n",
    "        print('안녕하세요.')\n",
    " \n",
    "class University:\n",
    "    def manage_credit(self):\n",
    "        print('학점 관리')\n",
    " \n",
    "class Undergraduate(Person, University):\n",
    "    def study(self):\n",
    "        print('공부하기')\n",
    " \n",
    "james = Undergraduate()\n",
    "james.greeting()         # 안녕하세요.: 기반 클래스 Person의 메서드 호출\n",
    "james.manage_credit()    # 학점 관리: 기반 클래스 University의 메서드 호출\n",
    "james.study()            # 공부하기: 파생 클래스 Undergraduate에 추가한 study 메서드"
   ]
  }
 ],
 "metadata": {
  "kernelspec": {
   "display_name": "Python 3 (ipykernel)",
   "language": "python",
   "name": "python3"
  },
  "language_info": {
   "codemirror_mode": {
    "name": "ipython",
    "version": 3
   },
   "file_extension": ".py",
   "mimetype": "text/x-python",
   "name": "python",
   "nbconvert_exporter": "python",
   "pygments_lexer": "ipython3",
   "version": "3.9.12"
  },
  "toc": {
   "base_numbering": 1,
   "nav_menu": {},
   "number_sections": true,
   "sideBar": true,
   "skip_h1_title": false,
   "title_cell": "Table of Contents",
   "title_sidebar": "Contents",
   "toc_cell": false,
   "toc_position": {},
   "toc_section_display": true,
   "toc_window_display": false
  }
 },
 "nbformat": 4,
 "nbformat_minor": 5
}
