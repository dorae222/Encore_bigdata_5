{
 "cells": [
  {
   "cell_type": "markdown",
   "id": "aaa7bb04",
   "metadata": {},
   "source": [
    "# [Python] 함수(def)\n",
    "> \"함수(def),매개변수,가변인자\"\n",
    "\n",
    "- toc: true\n",
    "- branch: master\n",
    "- badges: true\n",
    "- comments: true\n",
    "- categories: [함수(def),매개변수,가변인자]\n",
    "- author: 도형준"
   ]
  },
  {
   "cell_type": "markdown",
   "id": "77ec9cdd",
   "metadata": {},
   "source": [
    "반복적으로 사용하는 기능을 묶어서 함수로 정의하면 간편하게 사용할 수 있다.<br>\n",
    "> 기본 문법<br>\n",
    "\n",
    "    def 함수이름(매개변수) :\n",
    "        <수행할 내용1>\n",
    "        <수행할 내용2>\n",
    "        <수행할 내용3>\n",
    "        return\n",
    "\n",
    "> 매개변수<br>\n",
    "\n",
    "        - 함수 안에서 사용할 값을 전달하는 변수로 <수행할 내용> 문장에서 변수로 사용된다.<br>\n",
    "        - 함수 정의문에서는 매개변수로서 선언되며 실제로 함수를 호출할 때는 인자값으로 전달된다.<br>\n",
    "> 용어<br>\n",
    "\n",
    "        - def : 함수를 정의할 때 사용하는 키워드<br>\n",
    "        - return : 함수의 결과값을 반환하는 키워드<br>\n",
    "        - 입력값 = 인수, 입력 인수, 인자<br>\n",
    "        - 결과값 = 출력값, 리턴값, 돌려주는 값, 반환 값"
   ]
  },
  {
   "cell_type": "code",
   "execution_count": 1,
   "id": "6b62d95d",
   "metadata": {},
   "outputs": [],
   "source": [
    "# 기본적인 함수의 예제(완전한 실행문)\n",
    "def 디귿춤():\n",
    "    print(\"팔을 얼굴 앞으로\")\n",
    "    print(\"관절을 역으로 꺾고\")\n",
    "    print(\"디귿자 모양으로 만듭니다.\")"
   ]
  },
  {
   "cell_type": "code",
   "execution_count": 2,
   "id": "6bc392ad",
   "metadata": {},
   "outputs": [
    {
     "name": "stdout",
     "output_type": "stream",
     "text": [
      "팔을 얼굴 앞으로\n",
      "관절을 역으로 꺾고\n",
      "디귿자 모양으로 만듭니다.\n"
     ]
    }
   ],
   "source": [
    "print(\"팔을 얼굴 앞으로\")\n",
    "print(\"관절을 역으로 꺾고\")\n",
    "print(\"디귿자 모양으로 만듭니다.\")"
   ]
  },
  {
   "cell_type": "code",
   "execution_count": 3,
   "id": "60fda398",
   "metadata": {},
   "outputs": [
    {
     "name": "stdout",
     "output_type": "stream",
     "text": [
      "팔을 얼굴 앞으로\n",
      "관절을 역으로 꺾고\n",
      "디귿자 모양으로 만듭니다.\n"
     ]
    }
   ],
   "source": [
    "디귿춤()"
   ]
  },
  {
   "cell_type": "code",
   "execution_count": 4,
   "id": "489a756d",
   "metadata": {},
   "outputs": [],
   "source": [
    "# 기본적인 함수의 예제(불완전한 실행문)\n",
    "def plus(a):\n",
    "    print(a+1)"
   ]
  },
  {
   "cell_type": "code",
   "execution_count": 5,
   "id": "25eef7c5",
   "metadata": {},
   "outputs": [
    {
     "name": "stdout",
     "output_type": "stream",
     "text": [
      "11\n"
     ]
    }
   ],
   "source": [
    "plus(10)"
   ]
  },
  {
   "cell_type": "code",
   "execution_count": 6,
   "id": "89173313",
   "metadata": {},
   "outputs": [],
   "source": [
    "# 함수 내부에 선언된 변수는 함수 외부에서 호출할 수 없습니다\n",
    "# 함수나 기타 블록 내부에 선언된 변수를 \"지역변수\"라고 부릅니다\n",
    "# 지역화폐가 해당 지역내에서만 통용되듯, 지역변수도 다른 지역에서 호출할 수 없습니다"
   ]
  },
  {
   "cell_type": "code",
   "execution_count": 7,
   "id": "1ff22e62",
   "metadata": {},
   "outputs": [
    {
     "name": "stdout",
     "output_type": "stream",
     "text": [
      "6\n",
      "None\n"
     ]
    }
   ],
   "source": [
    "# plus를 호출했을 때 a + 1이 콘솔에 찍힙니다\n",
    "print(plus(5))"
   ]
  },
  {
   "cell_type": "code",
   "execution_count": 8,
   "id": "9bd632de",
   "metadata": {},
   "outputs": [],
   "source": [
    "# return 구문은 함수 내 마지막 지점에 사용할 수 있습니다\n",
    "# return 구문이 실행되면, 함수가 종료되며 동시에 해당 함수의 결과값이\n",
    "# 호출한 위치에 할당됩니다"
   ]
  },
  {
   "cell_type": "code",
   "execution_count": 9,
   "id": "ae80ac6e",
   "metadata": {},
   "outputs": [
    {
     "name": "stdout",
     "output_type": "stream",
     "text": [
      "6\n",
      "None\n",
      "first func\n",
      "6\n",
      "second func\n"
     ]
    }
   ],
   "source": [
    "def plus2(a):\n",
    "    return a + 1\n",
    "print(plus(5))\n",
    "print(\"first func\")\n",
    "print(plus2(5))\n",
    "print(\"second func\")"
   ]
  },
  {
   "cell_type": "markdown",
   "id": "67990bf5",
   "metadata": {},
   "source": [
    "## (참고)매개변수와 인수"
   ]
  },
  {
   "cell_type": "markdown",
   "id": "c685455f",
   "metadata": {},
   "source": [
    "> 매개변수(parameter, 입력인자, 입력값)\n",
    "- 함수에 전달된 값을 저장하는 변수\n",
    "- 함수를 선언할 때 정의하는 변수"
   ]
  },
  {
   "cell_type": "markdown",
   "id": "d64af19a",
   "metadata": {},
   "source": [
    "> 인수/인자(argument)\n",
    "- 함수를 호출(=사용)할 때 전달하는 입력 값"
   ]
  },
  {
   "cell_type": "markdown",
   "id": "18efa195",
   "metadata": {},
   "source": [
    "## 매개변수를 2개 이상 받는 케이스"
   ]
  },
  {
   "cell_type": "code",
   "execution_count": 10,
   "id": "5d936c1e",
   "metadata": {},
   "outputs": [
    {
     "data": {
      "text/plain": [
       "3"
      ]
     },
     "execution_count": 10,
     "metadata": {},
     "output_type": "execute_result"
    }
   ],
   "source": [
    "# sum_func이라는 이름으로 함수를 선언해주세요.\n",
    "# 이 함수는 num1, num2 2개의 변수를 입력받고\n",
    "# 둘을 합산한 값을 리턴합니다.\n",
    "def sum_func(num1,num2):\n",
    "    return(num1+num2)\n",
    "sum_func(1,2)"
   ]
  },
  {
   "cell_type": "markdown",
   "id": "0bd75957",
   "metadata": {},
   "source": [
    "## 매개변수 있는 함수"
   ]
  },
  {
   "cell_type": "markdown",
   "id": "0a32f44d",
   "metadata": {},
   "source": [
    "- 인자 값을 전달할 때 값만 입력하면 순서대로 매개변수에 할당된다\n",
    "- 매개변수명을 지정하여 전달할 수 있다"
   ]
  },
  {
   "cell_type": "code",
   "execution_count": 11,
   "id": "e25a5a9e",
   "metadata": {},
   "outputs": [
    {
     "name": "stdout",
     "output_type": "stream",
     "text": [
      "Num1: 1 Num2: 2 Num3: 3\n"
     ]
    },
    {
     "data": {
      "text/plain": [
       "6"
      ]
     },
     "execution_count": 11,
     "metadata": {},
     "output_type": "execute_result"
    }
   ],
   "source": [
    "# 매개변수가 3개인 함수를 설정해주세요.\n",
    "# 매개변수명 3개는 자율적으로 만들어주세요\n",
    "# print()로 매개변수 3개가 뭐였는지 콘솔에 찍어준다음\n",
    "# result 변수에 3개의 합을 저장한 뒤 리턴합니다\n",
    "# 함수명은 test1입니다.\n",
    "\n",
    "def test1(x,y,z):\n",
    "    result = x+y+z\n",
    "    print('Num1:',x,'Num2:',y,'Num3:',z)\n",
    "    return result\n",
    "test1(1,2,3)"
   ]
  },
  {
   "cell_type": "code",
   "execution_count": 12,
   "id": "69e96456",
   "metadata": {},
   "outputs": [
    {
     "name": "stdout",
     "output_type": "stream",
     "text": [
      "Num1: 30 Num2: 10 Num3: 20\n"
     ]
    },
    {
     "data": {
      "text/plain": [
       "60"
      ]
     },
     "execution_count": 12,
     "metadata": {},
     "output_type": "execute_result"
    }
   ],
   "source": [
    "# 매개변수에 순서를 다르게 전달하고 싶다면 매개변수를 지목해 대입한다\n",
    "test1(x=30,z=20,y=10)"
   ]
  },
  {
   "cell_type": "markdown",
   "id": "a3a60ac9",
   "metadata": {},
   "source": [
    "## 매개변수 초기 값 설정"
   ]
  },
  {
   "cell_type": "markdown",
   "id": "903ecd4c",
   "metadata": {},
   "source": [
    "- 함수 정의문에서 매개변수 값을 할당하면 초기값으로 설정\n",
    "- 함수 호출 시 값을 입력하지 않으면 초기 값으로 사용\n",
    "- 초기화시키고 싶은 매개변수들을 항상 뒤쪽에 위치<br>\n",
    "(참고) 포맷팅함수에서 인덱스 번호, 변수명 사용했던 규칙과 유사"
   ]
  },
  {
   "cell_type": "code",
   "execution_count": 13,
   "id": "5f883689",
   "metadata": {},
   "outputs": [],
   "source": [
    "# 디폴트 값 선언을 사용한 예시\n",
    "def test2(a=1,b=2,c=3):\n",
    "    result = a+b+c\n",
    "    return result"
   ]
  },
  {
   "cell_type": "code",
   "execution_count": 14,
   "id": "6adcf191",
   "metadata": {},
   "outputs": [
    {
     "data": {
      "text/plain": [
       "6"
      ]
     },
     "execution_count": 14,
     "metadata": {},
     "output_type": "execute_result"
    }
   ],
   "source": [
    "test2()"
   ]
  },
  {
   "cell_type": "code",
   "execution_count": 15,
   "id": "678eec98",
   "metadata": {},
   "outputs": [
    {
     "data": {
      "text/plain": [
       "15"
      ]
     },
     "execution_count": 15,
     "metadata": {},
     "output_type": "execute_result"
    }
   ],
   "source": [
    "test2(10) # a = 10"
   ]
  },
  {
   "cell_type": "code",
   "execution_count": 16,
   "id": "8ac96e8b",
   "metadata": {},
   "outputs": [],
   "source": [
    "# 디폴트 값 설정은 반드시 오른쪽 요소부터 지정한다\n",
    "def test3(a,b=1,c=2):\n",
    "    result = a+b+c\n",
    "    return result"
   ]
  },
  {
   "cell_type": "code",
   "execution_count": 17,
   "id": "8d5bcefa",
   "metadata": {},
   "outputs": [
    {
     "data": {
      "text/plain": [
       "13"
      ]
     },
     "execution_count": 17,
     "metadata": {},
     "output_type": "execute_result"
    }
   ],
   "source": [
    "test3(10)"
   ]
  },
  {
   "cell_type": "markdown",
   "id": "8e612258",
   "metadata": {},
   "source": [
    "## 가변인자 리스트👌"
   ]
  },
  {
   "cell_type": "markdown",
   "id": "93d230dc",
   "metadata": {},
   "source": [
    "- 입력할 파라미터의 개수가 몇 개인지 모를 때 사용함\n",
    "- 파라미터명 왼쪽에 *을 붙인다"
   ]
  },
  {
   "cell_type": "code",
   "execution_count": 18,
   "id": "8f1fd7d0",
   "metadata": {},
   "outputs": [
    {
     "name": "stdout",
     "output_type": "stream",
     "text": [
      "10월 11일 1 300 asdf\n"
     ]
    }
   ],
   "source": [
    "print(\"10월 11일\",1,300,\"asdf\")"
   ]
  },
  {
   "cell_type": "code",
   "execution_count": 19,
   "id": "9deec97f",
   "metadata": {},
   "outputs": [],
   "source": [
    "def get_member_list(p1):\n",
    "    print(\"출석학생은 %s님 입니다.\"%p1)"
   ]
  },
  {
   "cell_type": "code",
   "execution_count": 20,
   "id": "93f0fa28",
   "metadata": {},
   "outputs": [
    {
     "name": "stdout",
     "output_type": "stream",
     "text": [
      "출석학생은 도형준님 입니다.\n"
     ]
    }
   ],
   "source": [
    "get_member_list('도형준')"
   ]
  },
  {
   "cell_type": "code",
   "execution_count": 21,
   "id": "9a6f21b0",
   "metadata": {},
   "outputs": [],
   "source": [
    "def get_member_list2(p1,p2):\n",
    "    print(\"출석학생은 %s님, %s님 입니다.\"%(p1,p2))"
   ]
  },
  {
   "cell_type": "code",
   "execution_count": 22,
   "id": "30432a19",
   "metadata": {},
   "outputs": [
    {
     "name": "stdout",
     "output_type": "stream",
     "text": [
      "출석학생은 도형준님, 도래님 입니다.\n"
     ]
    }
   ],
   "source": [
    "get_member_list2(\"도형준\",\"도래\")"
   ]
  },
  {
   "cell_type": "code",
   "execution_count": 23,
   "id": "6c8cab50",
   "metadata": {},
   "outputs": [],
   "source": [
    "def get_members(*stu):\n",
    "    print(stu)\n",
    "    print(type(stu))"
   ]
  },
  {
   "cell_type": "code",
   "execution_count": 24,
   "id": "e88d4e47",
   "metadata": {},
   "outputs": [
    {
     "name": "stdout",
     "output_type": "stream",
     "text": [
      "('사람1', '사람2', '사람3', '사람4', '사람5', '사람6', '사람7', '사람8', '사람9', '사람10')\n",
      "<class 'tuple'>\n"
     ]
    }
   ],
   "source": [
    "get_members('사람1','사람2','사람3','사람4','사람5','사람6','사람7','사람8','사람9','사람10')"
   ]
  },
  {
   "cell_type": "code",
   "execution_count": 25,
   "id": "3d2f64c4",
   "metadata": {},
   "outputs": [],
   "source": [
    "# 가변 파라미터(*변수명)을 이용해서 학생들의 점수를 입력받는 대로 다 저장했다가\n",
    "# 총점을 얻어서 평균값을 구해 리턴하도록 코드를 작성해주세요.\n",
    "\n",
    "def get_average(*score):\n",
    "    # 들어온 데이터 체크\n",
    "    print(score)\n",
    "    total = 0\n",
    "    for num in score:\n",
    "        total += num\n",
    "    average = total/len(score)\n",
    "    return \"총점: %s, 평균 %s\" % (total, average)"
   ]
  },
  {
   "cell_type": "code",
   "execution_count": 26,
   "id": "0ac89c94",
   "metadata": {},
   "outputs": [
    {
     "name": "stdout",
     "output_type": "stream",
     "text": [
      "(10, 20, 30, 40, 50)\n"
     ]
    },
    {
     "data": {
      "text/plain": [
       "'총점: 150, 평균 30.0'"
      ]
     },
     "execution_count": 26,
     "metadata": {},
     "output_type": "execute_result"
    }
   ],
   "source": [
    "get_average(10,20,30,40,50)"
   ]
  },
  {
   "cell_type": "markdown",
   "id": "d73ac99a",
   "metadata": {},
   "source": [
    "## 키워드 파라미터 kwargs(keyword arguments)"
   ]
  },
  {
   "cell_type": "markdown",
   "id": "ddf1edaa",
   "metadata": {},
   "source": [
    "- 딕셔너리 형태로 저장되는 매개변수로 정의"
   ]
  },
  {
   "cell_type": "code",
   "execution_count": 27,
   "id": "d0cc54cd",
   "metadata": {},
   "outputs": [],
   "source": [
    "# ** 두 개가 붙으면 딕셔너리 형태로 가변인자를 받습니다\n",
    "# 이 경우, 변수명 = 값 형식으로 호출해야 전달됩니다.\n",
    "def test4(**kwargs):\n",
    "    return kwargs"
   ]
  },
  {
   "cell_type": "code",
   "execution_count": 28,
   "id": "d3528581",
   "metadata": {},
   "outputs": [
    {
     "data": {
      "text/plain": [
       "{'name': '홍길동', 'age': 19, 'gender': 'male'}"
      ]
     },
     "execution_count": 28,
     "metadata": {},
     "output_type": "execute_result"
    }
   ],
   "source": [
    "test4(name='홍길동', age = 19, gender = 'male')"
   ]
  },
  {
   "cell_type": "markdown",
   "id": "809d28d1",
   "metadata": {},
   "source": [
    "## 함수의 결과 값"
   ]
  },
  {
   "cell_type": "markdown",
   "id": "2633da97",
   "metadata": {},
   "source": [
    "- 함수의 결과 값은 항상 1개\n",
    "- 여러 개의 결과를 가질 수 있지만 하나의 튜플로 전달<br>\n",
    "▶ 기본 문법\n",
    "          def 함수이름(매개변수이름):\n",
    "             return 결과값 1 , 결과값 2"
   ]
  },
  {
   "cell_type": "code",
   "execution_count": 29,
   "id": "a864f265",
   "metadata": {},
   "outputs": [],
   "source": [
    "# return 키워드는 전달받은 결과들을 하나의 '튜플'로 묶어서 반환\n",
    "# 최종적으로 '하나의 변수'에 담을 수 있는 '하나의 값'으로 처리된다.\n",
    "\n",
    "def test(a,b):\n",
    "    sum_ = a+b\n",
    "    mul = a*b\n",
    "    return sum_, mul"
   ]
  },
  {
   "cell_type": "code",
   "execution_count": 30,
   "id": "043b0dfe",
   "metadata": {},
   "outputs": [
    {
     "name": "stdout",
     "output_type": "stream",
     "text": [
      "(7, 12)\n"
     ]
    }
   ],
   "source": [
    "# 결과를 통째로 가져오기\n",
    "a = test(3,4)\n",
    "print(a)"
   ]
  },
  {
   "cell_type": "code",
   "execution_count": 31,
   "id": "7328a0a4",
   "metadata": {},
   "outputs": [
    {
     "name": "stdout",
     "output_type": "stream",
     "text": [
      "11\n",
      "30\n"
     ]
    }
   ],
   "source": [
    "# 결과를 개별 변수에 쪼개서 가져오기\n",
    "# 튜플 리턴시 좌변에 튜플 내부요소 개수만큼 변수를 선언하면 따로따로 저장받습니다\n",
    "s, m = test(5,6)\n",
    "print(s)\n",
    "print(m)"
   ]
  },
  {
   "cell_type": "code",
   "execution_count": 32,
   "id": "0c8211fa",
   "metadata": {},
   "outputs": [],
   "source": [
    "# 리스트로 입력 받은 수들에 대해 양수만 필터링하여 반환해주는 함수를 작성해보세요\n",
    "# 조건1. 입력값은 인자값으로 가변인자 리스트를 전달\n",
    "# 조건2. 결과값은 양수로만 구성된 새로운 리스트\n",
    "\n",
    "def positive_number(*numbers):\n",
    "    positive = []\n",
    "    for num in numbers:\n",
    "        if num > 0:\n",
    "            positive.append(num)\n",
    "        else:\n",
    "            pass\n",
    "    return positive"
   ]
  },
  {
   "cell_type": "code",
   "execution_count": 33,
   "id": "94527572",
   "metadata": {},
   "outputs": [
    {
     "data": {
      "text/plain": [
       "[10, 20, 30]"
      ]
     },
     "execution_count": 33,
     "metadata": {},
     "output_type": "execute_result"
    }
   ],
   "source": [
    "positive_number(10,-10,20,-20,30,-30)"
   ]
  }
 ],
 "metadata": {
  "kernelspec": {
   "display_name": "Python 3 (ipykernel)",
   "language": "python",
   "name": "python3"
  },
  "language_info": {
   "codemirror_mode": {
    "name": "ipython",
    "version": 3
   },
   "file_extension": ".py",
   "mimetype": "text/x-python",
   "name": "python",
   "nbconvert_exporter": "python",
   "pygments_lexer": "ipython3",
   "version": "3.7.13"
  },
  "toc": {
   "base_numbering": 1,
   "nav_menu": {},
   "number_sections": true,
   "sideBar": true,
   "skip_h1_title": false,
   "title_cell": "Table of Contents",
   "title_sidebar": "Contents",
   "toc_cell": false,
   "toc_position": {
    "height": "calc(100% - 180px)",
    "left": "10px",
    "top": "150px",
    "width": "196px"
   },
   "toc_section_display": true,
   "toc_window_display": true
  },
  "varInspector": {
   "cols": {
    "lenName": 16,
    "lenType": 16,
    "lenVar": 40
   },
   "kernels_config": {
    "python": {
     "delete_cmd_postfix": "",
     "delete_cmd_prefix": "del ",
     "library": "var_list.py",
     "varRefreshCmd": "print(var_dic_list())"
    },
    "r": {
     "delete_cmd_postfix": ") ",
     "delete_cmd_prefix": "rm(",
     "library": "var_list.r",
     "varRefreshCmd": "cat(var_dic_list()) "
    }
   },
   "types_to_exclude": [
    "module",
    "function",
    "builtin_function_or_method",
    "instance",
    "_Feature"
   ],
   "window_display": false
  }
 },
 "nbformat": 4,
 "nbformat_minor": 5
}
