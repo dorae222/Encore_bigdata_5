{
 "cells": [
  {
   "cell_type": "markdown",
   "id": "a0111bf5",
   "metadata": {},
   "source": [
    "# << 제어문 >>\n",
    "\n",
    "\n",
    "\n",
    "## 2-1. while 반복문(+조건문)\n",
    "\n",
    "주어진 조건을 판단하여 조건이 참일 동안 특정한 명령문을 반복적으로 수행하는 것\n",
    "\n",
    "▶ 기본 문법 \n",
    "\n",
    "        while 조건문:\n",
    "            반복적으로 수행할 문장1\n",
    "            반복적으로 수행할 문장2\n",
    "            ...\n",
    "            \n",
    "\n",
    "▶ 주의해야할 문법 : \n",
    "\n",
    "- 조건문 뒤에 반드시 콜론(:)을 써야 한다.\n",
    "\n",
    "\n",
    "- 조건문이 있는 문장 하위에 속하는 실행문장들은 반드시 한 번 들여쓰기 되어야 한다. ( 자동 / tab / space 4번)\n",
    "\n",
    "\n",
    "- 무한반복문에 대한 이해와 관련된 키워드(break, continue 등)를 활용할 수 있어야 한다.\n",
    "\n",
    "\n",
    "\n",
    "\n",
    "▶ 무한반복문 : 조건문이 무조건 참인 경우, while 반복문은 무한히 반복된다.\n",
    "\n",
    "- break 키워드 : 특정 조건을 만족할 경우 제어문을 빠져나가 반복을 종료한다.\n",
    "\n",
    "\n",
    "- continue : 특정 조건을 만족할 경우 반복문을 종료하는 것이 아니라 반복문의 시작으로 돌아간다. (참고) pass"
   ]
  },
  {
   "cell_type": "markdown",
   "id": "0564b0b3",
   "metadata": {},
   "source": [
    "아래 코드 돌아가는 원리를 직접 설명한 영상\n",
    "https://youtu.be/PSvnlDD9ogY"
   ]
  },
  {
   "cell_type": "code",
   "execution_count": 1,
   "id": "f1f171aa",
   "metadata": {},
   "outputs": [
    {
     "name": "stdout",
     "output_type": "stream",
     "text": [
      "Hello world\n",
      "Hello world\n",
      "Hello world\n"
     ]
    }
   ],
   "source": [
    "# Hello world 3번 출력\n",
    "loop = 0\n",
    "while loop <= 2:\n",
    "    loop += 1\n",
    "    print(\"Hello world\") "
   ]
  },
  {
   "cell_type": "code",
   "execution_count": 3,
   "id": "d8c923f2",
   "metadata": {},
   "outputs": [
    {
     "name": "stdout",
     "output_type": "stream",
     "text": [
      "무한루프 1\n",
      "무한루프 2\n",
      "무한루프 3\n"
     ]
    }
   ],
   "source": [
    "# while문의 조건식이 무조건 참으로만 판단되는 경우 무한루프가 된다.\n",
    "# 이 경우 보통 break문을 조합해 종료시킨다.\n",
    "a = 1\n",
    "while True:\n",
    "    print(\"무한루프\", a)\n",
    "    if a > 2:\n",
    "        break\n",
    "    a += 1"
   ]
  },
  {
   "cell_type": "code",
   "execution_count": 4,
   "id": "d8ea164c",
   "metadata": {},
   "outputs": [
    {
     "name": "stdout",
     "output_type": "stream",
     "text": [
      "3\n",
      "5\n",
      "7\n",
      "9\n"
     ]
    }
   ],
   "source": [
    "# 돌던 바퀴만 스킵하고, 전체 반복문 실행은 유지하고 싶다면 continue를 사용한다.\n",
    "a = 1\n",
    "while a < 10:\n",
    "    a += 1\n",
    "    if a % 2 == 0:\n",
    "        continue\n",
    "    print(a)"
   ]
  },
  {
   "cell_type": "markdown",
   "id": "36ae7531",
   "metadata": {},
   "source": [
    "# 연습문제\n",
    "\n",
    "초기식에는 score 변수에 100을 저장하고, 이후 while문에서 score가 60점 이상인 경우에만\n",
    "\n",
    "다시 score에 input()으로 새 점수를 받고, \n",
    "\n",
    "입력받은 점수들은 리스트 자료형인 score_list에 저장하는 코드를 작성해주세요.\n",
    "\n",
    "60점 미만의 점수가 score에 저장되면 반복문을 탈출하고\n",
    "\n",
    "이후 score_list에 저장된 점수는 모두 내림차순 정렬해서 보여주면 됩니다."
   ]
  },
  {
   "cell_type": "code",
   "execution_count": null,
   "id": "84476a7e",
   "metadata": {},
   "outputs": [],
   "source": [
    "score = 100\n",
    "score_list = []"
   ]
  }
 ],
 "metadata": {
  "kernelspec": {
   "display_name": "Python 3 (ipykernel)",
   "language": "python",
   "name": "python3"
  },
  "language_info": {
   "codemirror_mode": {
    "name": "ipython",
    "version": 3
   },
   "file_extension": ".py",
   "mimetype": "text/x-python",
   "name": "python",
   "nbconvert_exporter": "python",
   "pygments_lexer": "ipython3",
   "version": "3.9.12"
  }
 },
 "nbformat": 4,
 "nbformat_minor": 5
}
