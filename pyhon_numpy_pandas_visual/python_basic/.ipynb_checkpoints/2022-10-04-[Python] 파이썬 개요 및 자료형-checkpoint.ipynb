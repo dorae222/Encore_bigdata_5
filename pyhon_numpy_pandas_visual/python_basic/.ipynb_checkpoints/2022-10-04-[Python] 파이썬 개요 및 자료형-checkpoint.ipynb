{
 "cells": [
  {
   "cell_type": "markdown",
   "id": "5328f2d9",
   "metadata": {},
   "source": [
    "# \"[Python] 파이썬 개요 및 자료형\"\n",
    "> \"숫자형 & 연산자\"\n",
    "\n",
    "- toc: true\n",
    "- branch: master\n",
    "- badges: true\n",
    "- comments: true\n",
    "- categories: [jupyter,python,숫자형]\n",
    "- author: 도형준"
   ]
  },
  {
   "cell_type": "markdown",
   "id": "a60defb1-a418-4a0c-90be-a2f07e134b76",
   "metadata": {
    "jp-MarkdownHeadingCollapsed": true,
    "tags": []
   },
   "source": [
    "# 주피터 노트북 사용법"
   ]
  },
  {
   "cell_type": "markdown",
   "id": "1a9771e9-337d-4a13-9481-c20a3e857bdf",
   "metadata": {},
   "source": [
    "> 셀을 클릭하면 녹색으로 선택 영역이 지정됨\n",
    "- 녹색으로 선택된 셀에는 키보드 입력시 코드/입력문이 직접 입력됨.\n",
    "- 녹색으로 선택된 셀에 esc키를 입력하거나 셀 바깥쪽 클릭시 파란색으로 전환됨.\n",
    "\n",
    "> 파란색으로 선택된 셀에\n",
    "- b 입력 => 선택된 셀 아래에 입력용 셀 추가\n",
    "- a 입력 => 선택된 셀 위에 입력용 셀 추가\n",
    "- dd(두 번) 입력 => 선택된 셀 삭제\n",
    "\n",
    "> 코드, 마크다운 변환\n",
    "- m => 선택된 셀을 코드 입력용이 아닌 필기용으로 전환\n",
    "- y => 선택된 셀을 필기용에서 코드 입력용으로 전환\n",
    "\n",
    "> ctrl + enter 혹은 shift + enter 입력시 필기용 셀은 필기가 박제되고\n",
    "코드 실행용 셀은 내부 문자를 인식해 명령을 수행합니다.\n",
    "- html에서 줄바꿈시, 문장 끝에 꺽쇠 br<br>"
   ]
  },
  {
   "cell_type": "markdown",
   "id": "8b355afd-6740-45e2-bd09-1889670b1102",
   "metadata": {},
   "source": [
    "## 주피터 노트북 필기"
   ]
  },
  {
   "cell_type": "markdown",
   "id": "5c866d9c-1709-4381-9a50-3023b125c89c",
   "metadata": {},
   "source": [
    "'#': 제목 <br>\n",
    "'-': 소제목 <br>\n",
    "'>': 깔끔하게 나옴 <br>\n",
    "'tab': 들여쓰기"
   ]
  },
  {
   "cell_type": "markdown",
   "id": "2cb183b7",
   "metadata": {
    "tags": []
   },
   "source": [
    "# 파이썬 개요 및 자료형"
   ]
  },
  {
   "cell_type": "markdown",
   "id": "5f03e6f2-b91c-4125-b865-cb4d9a5d5518",
   "metadata": {
    "tags": []
   },
   "source": [
    "## 숫자형"
   ]
  },
  {
   "cell_type": "markdown",
   "id": "586659d8-2970-4603-b6d6-a6829970f993",
   "metadata": {
    "tags": []
   },
   "source": [
    "- 정수: 0, 양수, 음수\n",
    "- 실수: 소수점을 포함하는 숫자\n",
    "- 8진수(0o 또는 00(대문자o)으로 시작): 0o34, 0o25\n",
    "- 16진수(0x로 시작): 0x2A,0xFF\n",
    "- 2진수(0b로 시작): 0b10, 0b11"
   ]
  },
  {
   "cell_type": "markdown",
   "id": "0492c7b6-d6a5-4963-b355-b81e8879dd9e",
   "metadata": {
    "jp-MarkdownHeadingCollapsed": true,
    "tags": []
   },
   "source": [
    "### 정수형"
   ]
  },
  {
   "cell_type": "code",
   "execution_count": 1,
   "id": "be9c989d-1e23-4e69-95c0-fe50180c0571",
   "metadata": {},
   "outputs": [],
   "source": [
    "# 양수, 음수, 0\n",
    "\n",
    "a = 10\n",
    "b = -20\n",
    "c = 0"
   ]
  },
  {
   "cell_type": "code",
   "execution_count": 2,
   "id": "c7098f98-d14c-43e8-9987-3836484d3f23",
   "metadata": {},
   "outputs": [
    {
     "name": "stdout",
     "output_type": "stream",
     "text": [
      "10\n"
     ]
    }
   ],
   "source": [
    "print(a)"
   ]
  },
  {
   "cell_type": "code",
   "execution_count": 3,
   "id": "27567be5-3851-4390-93e9-3b9caea3813e",
   "metadata": {},
   "outputs": [
    {
     "name": "stdout",
     "output_type": "stream",
     "text": [
      "a\n"
     ]
    }
   ],
   "source": [
    "print('a')"
   ]
  },
  {
   "cell_type": "code",
   "execution_count": 4,
   "id": "97fb8954-b42d-4309-b729-0669f12858d4",
   "metadata": {},
   "outputs": [
    {
     "name": "stdout",
     "output_type": "stream",
     "text": [
      "Hello world!\n"
     ]
    }
   ],
   "source": [
    "print(\"Hello world!\")"
   ]
  },
  {
   "cell_type": "code",
   "execution_count": 5,
   "id": "bbe7e0a4-81a7-491a-92fd-c97cea4f8774",
   "metadata": {},
   "outputs": [
    {
     "data": {
      "text/plain": [
       "int"
      ]
     },
     "execution_count": 5,
     "metadata": {},
     "output_type": "execute_result"
    }
   ],
   "source": [
    "type(a)"
   ]
  },
  {
   "cell_type": "code",
   "execution_count": 6,
   "id": "11807efd-7bcd-48d0-801c-2a91e18237e3",
   "metadata": {},
   "outputs": [
    {
     "data": {
      "text/plain": [
       "str"
      ]
     },
     "execution_count": 6,
     "metadata": {},
     "output_type": "execute_result"
    }
   ],
   "source": [
    "type('a')"
   ]
  },
  {
   "cell_type": "markdown",
   "id": "def40415-8bff-4402-a206-90f24714d813",
   "metadata": {
    "jp-MarkdownHeadingCollapsed": true,
    "tags": []
   },
   "source": [
    "### 실수형"
   ]
  },
  {
   "cell_type": "code",
   "execution_count": 7,
   "id": "f2f8a8ac-d86c-4eed-9a75-2f6df4fa68e8",
   "metadata": {},
   "outputs": [],
   "source": [
    "# 양의 실수, 음의 실수: float\n",
    "a = 1.3\n",
    "b = -2.4\n",
    "c = 0.0"
   ]
  },
  {
   "cell_type": "code",
   "execution_count": 8,
   "id": "0bd173fd-f710-4f40-9c75-bfc6c600be0b",
   "metadata": {},
   "outputs": [
    {
     "name": "stdout",
     "output_type": "stream",
     "text": [
      "1.3\n"
     ]
    }
   ],
   "source": [
    "print(a)"
   ]
  },
  {
   "cell_type": "code",
   "execution_count": 9,
   "id": "2d19f400-05bc-43f0-8ed5-2a3fd7f53095",
   "metadata": {},
   "outputs": [
    {
     "data": {
      "text/plain": [
       "float"
      ]
     },
     "execution_count": 9,
     "metadata": {},
     "output_type": "execute_result"
    }
   ],
   "source": [
    "type(c)"
   ]
  },
  {
   "cell_type": "code",
   "execution_count": 10,
   "id": "ac4e05fd-6b53-4941-b0eb-b83b78e33334",
   "metadata": {},
   "outputs": [
    {
     "data": {
      "text/plain": [
       "float"
      ]
     },
     "execution_count": 10,
     "metadata": {},
     "output_type": "execute_result"
    }
   ],
   "source": [
    "# 파이썬은 정수에 대한 사칙연산은 실수로 계산\n",
    "# 자바,C 등 대다수 언어는 그대로 정수로 계산\n",
    "type(3/3)"
   ]
  },
  {
   "cell_type": "markdown",
   "id": "0b6bfbd3-9adf-4c79-8694-0806d358fb87",
   "metadata": {},
   "source": [
    "- 정수와 실수가 다른 숫자로 인식되는 이유\n",
    "    - 2의 보수방식, 실수 이진수 표현 2개 키워드로 검색하면 확인 가능\n",
    "    - ex. 3은 11으로 표현, 10은 1010으로 표현"
   ]
  },
  {
   "cell_type": "markdown",
   "id": "e6205ba4-0023-46d4-aff1-a2ba5de3728b",
   "metadata": {},
   "source": [
    "## 연산자"
   ]
  },
  {
   "cell_type": "markdown",
   "id": "8cc7da54-ceb7-477a-a758-f4138c514ce5",
   "metadata": {},
   "source": [
    "- 산술연산자: +, -, *, /, //(몫), %(나머지)\n",
    "- 비교연산자: ==, !=, <=, >=, >, <\n",
    "- 논리연산자: and, or\n",
    "- 할당: =, +=, -=,*=,/=(몫만 남기기), %=(나머지만 남기기)"
   ]
  },
  {
   "cell_type": "markdown",
   "id": "0d8e0902-1f3b-42fe-8cda-b1254770e901",
   "metadata": {
    "jp-MarkdownHeadingCollapsed": true,
    "tags": []
   },
   "source": [
    "### 산술 연산자"
   ]
  },
  {
   "cell_type": "markdown",
   "id": "be081f61-5e46-4fdd-b599-d45764dbbdfa",
   "metadata": {},
   "source": [
    "-숫자를 계산하기 위한 방법"
   ]
  },
  {
   "cell_type": "code",
   "execution_count": 11,
   "id": "a486259f-2c2a-4352-ab53-045e96100e29",
   "metadata": {},
   "outputs": [
    {
     "data": {
      "text/plain": [
       "13"
      ]
     },
     "execution_count": 11,
     "metadata": {},
     "output_type": "execute_result"
    }
   ],
   "source": [
    "# 정수\n",
    "10+3"
   ]
  },
  {
   "cell_type": "code",
   "execution_count": 12,
   "id": "e7ce5c77-35b7-4d85-947d-12315e5a6200",
   "metadata": {},
   "outputs": [
    {
     "data": {
      "text/plain": [
       "12.700000000000001"
      ]
     },
     "execution_count": 12,
     "metadata": {},
     "output_type": "execute_result"
    }
   ],
   "source": [
    "# 실수\n",
    "10.3 + 2.4"
   ]
  },
  {
   "cell_type": "code",
   "execution_count": 13,
   "id": "6062d57e-cd36-4d21-917a-da204db47182",
   "metadata": {},
   "outputs": [
    {
     "name": "stdout",
     "output_type": "stream",
     "text": [
      "13.7\n",
      "<class 'float'>\n"
     ]
    }
   ],
   "source": [
    "# 정수 + 실수\n",
    "print(10+3.7)\n",
    "print(type(10+3.7))"
   ]
  },
  {
   "cell_type": "code",
   "execution_count": 14,
   "id": "f3698848-8555-4fdd-afb5-394942158efd",
   "metadata": {},
   "outputs": [
    {
     "name": "stdout",
     "output_type": "stream",
     "text": [
      "2\n",
      "-2\n"
     ]
    }
   ],
   "source": [
    "# 몫\n",
    "print(7//3)\n",
    "print(-4//3)"
   ]
  },
  {
   "cell_type": "code",
   "execution_count": 15,
   "id": "e000d3d7-7532-489a-92d0-a7f5954d2f12",
   "metadata": {},
   "outputs": [
    {
     "data": {
      "text/plain": [
       "1"
      ]
     },
     "execution_count": 15,
     "metadata": {},
     "output_type": "execute_result"
    }
   ],
   "source": [
    "# 나머지\n",
    "7%3"
   ]
  },
  {
   "cell_type": "code",
   "execution_count": 16,
   "id": "25bb5352-4f5a-45d2-a1c6-0b8a4bdd10b8",
   "metadata": {},
   "outputs": [
    {
     "name": "stdout",
     "output_type": "stream",
     "text": [
      "8\n",
      "1.4142135623730951\n"
     ]
    }
   ],
   "source": [
    "# 지수\n",
    "print(2 ** 3)\n",
    "# 제곱근\n",
    "print(2 ** 0.5)"
   ]
  },
  {
   "cell_type": "markdown",
   "id": "a863fa7e-54f1-4c04-9f51-11b9c27ca581",
   "metadata": {
    "jp-MarkdownHeadingCollapsed": true,
    "tags": []
   },
   "source": [
    "### 비교 연산자"
   ]
  },
  {
   "cell_type": "markdown",
   "id": "e12a3e95-a8bf-4337-90c3-a7ce088c44e0",
   "metadata": {},
   "source": [
    "- 자료를 비교하기 위한 문법 기호\n",
    "- bool type\n",
    "    - True: 0이 아닌 숫자, 참인 조건식 등\n",
    "    - False: 0인 숫자, 거짓인 조건식 등\n",
    "- 값에 대한 비교: ==, !=\n",
    "- 크기에 대한 비교: >,<,>=,<="
   ]
  },
  {
   "cell_type": "code",
   "execution_count": 17,
   "id": "952352b0-43fa-4fe5-89c4-f4df5b95b792",
   "metadata": {},
   "outputs": [
    {
     "name": "stdout",
     "output_type": "stream",
     "text": [
      "값 비교: True\n",
      "자료타입 비교: False\n"
     ]
    }
   ],
   "source": [
    "# 두 값이 같은지 비교\n",
    "print('값 비교:',0 == 0.0) # 파이썬의 불규칙 문법\n",
    "print('자료타입 비교:',type(0) == type(0.0))"
   ]
  },
  {
   "cell_type": "code",
   "execution_count": 18,
   "id": "c47b780e-033d-4d2b-be36-989397df24fc",
   "metadata": {},
   "outputs": [
    {
     "name": "stdout",
     "output_type": "stream",
     "text": [
      "값 비교: False\n",
      "자료타입 비교: True\n"
     ]
    }
   ],
   "source": [
    "# 두 값이 다른지 비교\n",
    "print('값 비교:',0 != 0.0) # 파이썬의 불규칙 문법\n",
    "print('자료타입 비교:',type(0) != type(0.0))"
   ]
  },
  {
   "cell_type": "code",
   "execution_count": 19,
   "id": "f12e3b9a-5ac2-44cc-bbc0-26c7f544d3a9",
   "metadata": {},
   "outputs": [
    {
     "name": "stdout",
     "output_type": "stream",
     "text": [
      "두 값 크기 비교(10>=3): True\n"
     ]
    }
   ],
   "source": [
    "# 두 값의 크기를 비교\n",
    "print('두 값 크기 비교(10>=3):',10>=3)"
   ]
  },
  {
   "cell_type": "markdown",
   "id": "2dc46e16-5aa3-446c-8b4e-931a8b88bafe",
   "metadata": {
    "jp-MarkdownHeadingCollapsed": true,
    "tags": []
   },
   "source": [
    "### 논리 연산자"
   ]
  },
  {
   "cell_type": "markdown",
   "id": "854d7f21-3283-437d-a9da-6e82d72b5be3",
   "metadata": {},
   "source": [
    "- 여러 개의 조건식을 활용하기 위한 명령어\n",
    "- bool type 결과 반환: True, False"
   ]
  },
  {
   "cell_type": "markdown",
   "id": "0a9056a0-ac3c-4036-8d2a-efc6d246b8f3",
   "metadata": {},
   "source": [
    "- and 연산자: 조건식1 and 조건식2\n",
    "    - 조건식1과 조건식2 모두 True면 최종결과는 True\n",
    "    - 둘 중 하나만 False여도 최종결과는 False\n",
    "    - 둘 다 False이면 최종결과는 False"
   ]
  },
  {
   "cell_type": "code",
   "execution_count": 20,
   "id": "637a2361-9f06-4a27-a12a-4293a2409b57",
   "metadata": {},
   "outputs": [
    {
     "name": "stdout",
     "output_type": "stream",
     "text": [
      "and 연산자(10 <12 and 0 < -3): False\n"
     ]
    }
   ],
   "source": [
    "print('and 연산자(10 <12 and 0 < -3):',10 <12 and 0 < -3)"
   ]
  },
  {
   "cell_type": "code",
   "execution_count": 21,
   "id": "16fea6a8-7af7-4114-88ed-bb258b47bc4e",
   "metadata": {},
   "outputs": [
    {
     "name": "stdout",
     "output_type": "stream",
     "text": [
      "and 연산자(10 < 12 or 0 < -3): True\n"
     ]
    }
   ],
   "source": [
    "print('and 연산자(10 < 12 or 0 < -3):',10 < 12 or 0 < -3)"
   ]
  },
  {
   "cell_type": "markdown",
   "id": "91e48f8f-10c8-4fdd-bac1-56e67fcc089f",
   "metadata": {},
   "source": [
    "- bool(자료)는 해당 자료의 참, 거짓을 판단해준다\n",
    "    - 단독 숫자 등도 판단이 가능하고, 0이 아닌 모든 숫자는 True"
   ]
  },
  {
   "cell_type": "code",
   "execution_count": 22,
   "id": "b18d068d-e901-4217-89e8-5d2dce8e0b38",
   "metadata": {},
   "outputs": [
    {
     "data": {
      "text/plain": [
       "True"
      ]
     },
     "execution_count": 22,
     "metadata": {},
     "output_type": "execute_result"
    }
   ],
   "source": [
    "bool(10) # 0이 아닌 수이기에 True"
   ]
  },
  {
   "cell_type": "code",
   "execution_count": 23,
   "id": "2d22bcfe-2109-45b7-90a5-a7e8d1221d1f",
   "metadata": {},
   "outputs": [
    {
     "data": {
      "text/plain": [
       "False"
      ]
     },
     "execution_count": 23,
     "metadata": {},
     "output_type": "execute_result"
    }
   ],
   "source": [
    "bool(0)"
   ]
  },
  {
   "cell_type": "markdown",
   "id": "7fb66145-0e05-4890-851b-e41a6d3ed6ec",
   "metadata": {
    "jp-MarkdownHeadingCollapsed": true,
    "tags": []
   },
   "source": [
    "### 할당 연산자"
   ]
  },
  {
   "cell_type": "markdown",
   "id": "6a823fb9-a41e-4612-be3e-11caa829b9b6",
   "metadata": {},
   "source": [
    "- 변수 할당\n",
    "- 누적 연산"
   ]
  },
  {
   "cell_type": "markdown",
   "id": "dab88328-d3ff-4960-901f-c090172f267a",
   "metadata": {},
   "source": [
    "- 변수명(왼쪽)에 변수값(오른쪽)을 할당/선언/저장 : =\n",
    "- x에 10을 대입해주세요"
   ]
  },
  {
   "cell_type": "code",
   "execution_count": 24,
   "id": "cf5ab297-58fd-49c6-ae1e-f20fb9ec14e6",
   "metadata": {},
   "outputs": [
    {
     "data": {
      "text/plain": [
       "10"
      ]
     },
     "execution_count": 24,
     "metadata": {},
     "output_type": "execute_result"
    }
   ],
   "source": [
    "x=10\n",
    "x"
   ]
  },
  {
   "cell_type": "markdown",
   "id": "d035f1f1-45a7-4fe0-b02c-d755a5e55b59",
   "metadata": {},
   "source": [
    "- 숫자형의 누적 합계: +=\n",
    "- result라는 변수에 누적합을 저장하기"
   ]
  },
  {
   "cell_type": "code",
   "execution_count": 25,
   "id": "d0099242-4e81-41f0-bc77-7e1869bde314",
   "metadata": {},
   "outputs": [
    {
     "data": {
      "text/plain": [
       "1"
      ]
     },
     "execution_count": 25,
     "metadata": {},
     "output_type": "execute_result"
    }
   ],
   "source": [
    "result = 0\n",
    "result+=1 # result = result + 1\n",
    "result"
   ]
  },
  {
   "cell_type": "markdown",
   "id": "cab46f9e-f72e-49f7-b7cf-c01a9c254bc9",
   "metadata": {},
   "source": [
    "- 숫자형의 누적차: -="
   ]
  },
  {
   "cell_type": "code",
   "execution_count": 26,
   "id": "de65b752-f587-4673-88ca-682b65b83269",
   "metadata": {},
   "outputs": [
    {
     "data": {
      "text/plain": [
       "-1"
      ]
     },
     "execution_count": 26,
     "metadata": {},
     "output_type": "execute_result"
    }
   ],
   "source": [
    "result = 0\n",
    "result -= 1\n",
    "result"
   ]
  },
  {
   "cell_type": "markdown",
   "id": "cc6e327c-b679-4c53-a0b4-4c61a69419b1",
   "metadata": {},
   "source": [
    "- 숫자형의 누적곱: *=\n",
    "- result를 2배로 곱해서 저장해주세요"
   ]
  },
  {
   "cell_type": "code",
   "execution_count": 27,
   "id": "0af6bb47-b2cd-44f6-b0c4-180defd16c69",
   "metadata": {},
   "outputs": [
    {
     "data": {
      "text/plain": [
       "6"
      ]
     },
     "execution_count": 27,
     "metadata": {},
     "output_type": "execute_result"
    }
   ],
   "source": [
    "result = 3\n",
    "result *= 2\n",
    "result"
   ]
  },
  {
   "cell_type": "markdown",
   "id": "ec4f0cd4-3a0a-48a7-bbf8-98b6bb966353",
   "metadata": {
    "tags": []
   },
   "source": [
    "### 문제"
   ]
  },
  {
   "cell_type": "markdown",
   "id": "1a548048-ec6c-42e7-a722-1af3d4a25bbd",
   "metadata": {},
   "source": [
    "1. 홍길동의 시험 성적 평균을 구하세요\n",
    "    - 영어: 80\n",
    "    - 국어: 72\n",
    "    - 수학: 90\n",
    "    - 사회 66"
   ]
  },
  {
   "cell_type": "code",
   "execution_count": 28,
   "id": "ff2d4da1-ec8f-4feb-a1db-365d46e56e32",
   "metadata": {},
   "outputs": [],
   "source": [
    "eng = 80\n",
    "kor = 72\n",
    "math = 90\n",
    "social = 66"
   ]
  },
  {
   "cell_type": "code",
   "execution_count": 29,
   "id": "4f9dc4bb-4f6c-4734-b163-83e8b4aab0c8",
   "metadata": {},
   "outputs": [
    {
     "name": "stdout",
     "output_type": "stream",
     "text": [
      "total: 308\n"
     ]
    }
   ],
   "source": [
    "total = eng + kor + math + social\n",
    "print('total:', total)"
   ]
  },
  {
   "cell_type": "code",
   "execution_count": 30,
   "id": "318e0465-31d2-4d3f-b322-d182c52909e3",
   "metadata": {},
   "outputs": [
    {
     "name": "stdout",
     "output_type": "stream",
     "text": [
      "avg: 77.0\n"
     ]
    }
   ],
   "source": [
    "avg = total/4\n",
    "print('avg:', avg)"
   ]
  },
  {
   "cell_type": "code",
   "execution_count": 31,
   "id": "cc7a3fa5-9843-4395-a36a-df689b921c68",
   "metadata": {},
   "outputs": [
    {
     "name": "stdout",
     "output_type": "stream",
     "text": [
      "total: 308 avg: 77.0\n"
     ]
    }
   ],
   "source": [
    "print('total:', total,'avg:', avg)"
   ]
  }
 ],
 "metadata": {
  "kernelspec": {
   "display_name": "Python 3 (ipykernel)",
   "language": "python",
   "name": "python3"
  },
  "language_info": {
   "codemirror_mode": {
    "name": "ipython",
    "version": 3
   },
   "file_extension": ".py",
   "mimetype": "text/x-python",
   "name": "python",
   "nbconvert_exporter": "python",
   "pygments_lexer": "ipython3",
   "version": "3.7.13"
  },
  "toc": {
   "base_numbering": 1,
   "nav_menu": {},
   "number_sections": true,
   "sideBar": true,
   "skip_h1_title": false,
   "title_cell": "Table of Contents",
   "title_sidebar": "Contents",
   "toc_cell": false,
   "toc_position": {},
   "toc_section_display": true,
   "toc_window_display": false
  },
  "toc-autonumbering": true,
  "toc-showmarkdowntxt": false,
  "toc-showtags": false,
  "varInspector": {
   "cols": {
    "lenName": 16,
    "lenType": 16,
    "lenVar": 40
   },
   "kernels_config": {
    "python": {
     "delete_cmd_postfix": "",
     "delete_cmd_prefix": "del ",
     "library": "var_list.py",
     "varRefreshCmd": "print(var_dic_list())"
    },
    "r": {
     "delete_cmd_postfix": ") ",
     "delete_cmd_prefix": "rm(",
     "library": "var_list.r",
     "varRefreshCmd": "cat(var_dic_list()) "
    }
   },
   "types_to_exclude": [
    "module",
    "function",
    "builtin_function_or_method",
    "instance",
    "_Feature"
   ],
   "window_display": false
  }
 },
 "nbformat": 4,
 "nbformat_minor": 5
}
