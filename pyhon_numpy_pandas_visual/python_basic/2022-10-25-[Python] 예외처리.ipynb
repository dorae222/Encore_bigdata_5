{
 "cells": [
  {
   "cell_type": "markdown",
   "id": "4d679a69",
   "metadata": {},
   "source": [
    "# \"[Python] 예외처리\"\n",
    "> \"예외처리,try,except\"\n",
    "\n",
    "- toc: true\n",
    "- branch: master\n",
    "- badges: true\n",
    "- comments: true\n",
    "- categories: [예외처리,try,except]\n",
    "- author: 도형준"
   ]
  },
  {
   "cell_type": "markdown",
   "id": "5228411f",
   "metadata": {},
   "source": [
    "# 에러와 예외"
   ]
  },
  {
   "cell_type": "markdown",
   "id": "6de9cf9e",
   "metadata": {},
   "source": [
    "- 에러는 물리적인 이유로 발생하는(인터넷 안잡고 접속하기 등) 것\n",
    "- 예외는 논리적인 이유로 발생하는 것\n",
    "    - 예외가 발생하면 코드가 그 즉시 정지되며 다음 로직으로 진행할 수 없음\n",
    "    - 그러나 크롤링 등을 하다보면 종종 모종의 이유로 특정 단계에서 발생한 예외를 무시하고\n",
    "    - 다음 단계로 넘어가야할 수 있기 때문에\n",
    "    - 'try~except'구문 사용"
   ]
  },
  {
   "cell_type": "markdown",
   "id": "0181f785",
   "metadata": {
    "heading_collapsed": true
   },
   "source": [
    "## 에러 상황과 예외상황"
   ]
  },
  {
   "cell_type": "code",
   "execution_count": 1,
   "id": "ca98eb7f",
   "metadata": {
    "hidden": true
   },
   "outputs": [
    {
     "ename": "TypeError",
     "evalue": "unsupported operand type(s) for +: 'int' and 'str'",
     "output_type": "error",
     "traceback": [
      "\u001b[1;31m---------------------------------------------------------------------------\u001b[0m",
      "\u001b[1;31mTypeError\u001b[0m                                 Traceback (most recent call last)",
      "Input \u001b[1;32mIn [1]\u001b[0m, in \u001b[0;36m<cell line: 2>\u001b[1;34m()\u001b[0m\n\u001b[0;32m      1\u001b[0m \u001b[38;5;66;03m# 에러 상황: 문법이 틀렸거나 틀린 구문을 사용시\u001b[39;00m\n\u001b[1;32m----> 2\u001b[0m \u001b[38;5;28mprint\u001b[39m(\u001b[38;5;241;43m1\u001b[39;49m\u001b[38;5;241;43m+\u001b[39;49m\u001b[38;5;124;43m\"\u001b[39;49m\u001b[38;5;124;43m가나다\u001b[39;49m\u001b[38;5;124;43m\"\u001b[39;49m)\n",
      "\u001b[1;31mTypeError\u001b[0m: unsupported operand type(s) for +: 'int' and 'str'"
     ]
    }
   ],
   "source": [
    "# 에러 상황: 문법이 틀렸거나 틀린 구문을 사용시\n",
    "print(1+\"가나다\")"
   ]
  },
  {
   "cell_type": "code",
   "execution_count": 2,
   "id": "1d37d6c4",
   "metadata": {
    "hidden": true
   },
   "outputs": [
    {
     "ename": "ZeroDivisionError",
     "evalue": "division by zero",
     "output_type": "error",
     "traceback": [
      "\u001b[1;31m---------------------------------------------------------------------------\u001b[0m",
      "\u001b[1;31mZeroDivisionError\u001b[0m                         Traceback (most recent call last)",
      "Input \u001b[1;32mIn [2]\u001b[0m, in \u001b[0;36m<cell line: 2>\u001b[1;34m()\u001b[0m\n\u001b[0;32m      1\u001b[0m \u001b[38;5;66;03m# 예외 상황: 문법도 맞고 논리적으로도 맞지만 연산이 불가능한 경우\u001b[39;00m\n\u001b[1;32m----> 2\u001b[0m \u001b[38;5;241;43m2\u001b[39;49m\u001b[38;5;241;43m/\u001b[39;49m\u001b[38;5;241;43m0\u001b[39;49m\n",
      "\u001b[1;31mZeroDivisionError\u001b[0m: division by zero"
     ]
    }
   ],
   "source": [
    "# 예외 상황: 문법도 맞고 논리적으로도 맞지만 연산이 불가능한 경우\n",
    "2/0"
   ]
  },
  {
   "cell_type": "markdown",
   "id": "5e5cd944",
   "metadata": {
    "heading_collapsed": true
   },
   "source": [
    "## 예외 상황에 대한 처리1: if문을 통한 검사"
   ]
  },
  {
   "cell_type": "code",
   "execution_count": 3,
   "id": "39f34d1d",
   "metadata": {
    "hidden": true
   },
   "outputs": [
    {
     "name": "stdout",
     "output_type": "stream",
     "text": [
      "나눗셈에 사용할 분자를 입력해주세요: 10\n",
      "나눗셈에 사용할 분모를 입력해주세요: 2\n",
      "5.0\n",
      "연산이 끝났습니다\n"
     ]
    }
   ],
   "source": [
    "# 예외 상황에 대한 처리1: if문을 통한 검사\n",
    "a = int(input('나눗셈에 사용할 분자를 입력해주세요: '))\n",
    "b = int(input('나눗셈에 사용할 분모를 입력해주세요: '))\n",
    "print(a/b)\n",
    "print('연산이 끝났습니다')"
   ]
  },
  {
   "cell_type": "code",
   "execution_count": 4,
   "id": "9eb238ae",
   "metadata": {
    "hidden": true
   },
   "outputs": [
    {
     "name": "stdout",
     "output_type": "stream",
     "text": [
      "나눗셈에 사용할 분자를 입력해주세요: 10\n",
      "나눗셈에 사용할 분모를 입력해주세요: 0\n"
     ]
    },
    {
     "ename": "ZeroDivisionError",
     "evalue": "division by zero",
     "output_type": "error",
     "traceback": [
      "\u001b[1;31m---------------------------------------------------------------------------\u001b[0m",
      "\u001b[1;31mZeroDivisionError\u001b[0m                         Traceback (most recent call last)",
      "Input \u001b[1;32mIn [4]\u001b[0m, in \u001b[0;36m<cell line: 4>\u001b[1;34m()\u001b[0m\n\u001b[0;32m      2\u001b[0m a \u001b[38;5;241m=\u001b[39m \u001b[38;5;28mint\u001b[39m(\u001b[38;5;28minput\u001b[39m(\u001b[38;5;124m'\u001b[39m\u001b[38;5;124m나눗셈에 사용할 분자를 입력해주세요: \u001b[39m\u001b[38;5;124m'\u001b[39m))\n\u001b[0;32m      3\u001b[0m b \u001b[38;5;241m=\u001b[39m \u001b[38;5;28mint\u001b[39m(\u001b[38;5;28minput\u001b[39m(\u001b[38;5;124m'\u001b[39m\u001b[38;5;124m나눗셈에 사용할 분모를 입력해주세요: \u001b[39m\u001b[38;5;124m'\u001b[39m))\n\u001b[1;32m----> 4\u001b[0m \u001b[38;5;28mprint\u001b[39m(\u001b[43ma\u001b[49m\u001b[38;5;241;43m/\u001b[39;49m\u001b[43mb\u001b[49m)\n\u001b[0;32m      5\u001b[0m \u001b[38;5;28mprint\u001b[39m(\u001b[38;5;124m'\u001b[39m\u001b[38;5;124m연산이 끝났습니다\u001b[39m\u001b[38;5;124m'\u001b[39m)\n",
      "\u001b[1;31mZeroDivisionError\u001b[0m: division by zero"
     ]
    }
   ],
   "source": [
    "# 예외 상황에 대한 처리1: if문을 통한 검사\n",
    "a = int(input('나눗셈에 사용할 분자를 입력해주세요: '))\n",
    "b = int(input('나눗셈에 사용할 분모를 입력해주세요: '))\n",
    "print(a/b)\n",
    "print('연산이 끝났습니다')"
   ]
  },
  {
   "cell_type": "code",
   "execution_count": 5,
   "id": "c595a975",
   "metadata": {
    "hidden": true
   },
   "outputs": [
    {
     "name": "stdout",
     "output_type": "stream",
     "text": [
      "나눗셈에 사용할 분자를 입력해주세요: 10\n",
      "나눗셈에 사용할 분모를 입력해주세요: 0\n",
      "0으로 값을 나눌 수 없습니다\n",
      "연산이 끝났습니다\n"
     ]
    }
   ],
   "source": [
    "# 예외 상황에 대한 처리1: if문을 통한 ㄱ검사\n",
    "a = int(input('나눗셈에 사용할 분자를 입력해주세요: '))\n",
    "b = int(input('나눗셈에 사용할 분모를 입력해주세요: '))\n",
    "# 위 숫자를 검사해서 나눗셈이 가능하면\n",
    "# 값을 콘솔에 띄우고\n",
    "# 나눗셈이 불가능한 경우\n",
    "# print(\"0으로 나눌수가 없습니다\")\n",
    "\n",
    "if b != 0:\n",
    "    print(a/b)\n",
    "else:\n",
    "    print('0으로 값을 나눌 수 없습니다')\n",
    "\n",
    "print('연산이 끝났습니다')"
   ]
  },
  {
   "cell_type": "markdown",
   "id": "cdb8de55",
   "metadata": {},
   "source": [
    "## 예외 상황에 대한 처리2: try문을 통한 검사"
   ]
  },
  {
   "cell_type": "code",
   "execution_count": 6,
   "id": "5045c04f",
   "metadata": {
    "scrolled": true
   },
   "outputs": [
    {
     "name": "stdout",
     "output_type": "stream",
     "text": [
      "나눗셈에 사용할 분자를 입력해주세요: 10\n",
      "나눗셈에 사용할 분모를 입력해주세요: 0\n",
      "분모를 0을 넣으면 안됩니다\n",
      "연산이 끝났습니다\n"
     ]
    }
   ],
   "source": [
    "# try ~ except\n",
    "# try에는 예외가 발생할지도 모르는 구문을 넣기\n",
    "# except는 예외가 발생해서 구문이 멈췄을 때 이어서 실행할 내용 적기\n",
    "a = int(input('나눗셈에 사용할 분자를 입력해주세요: '))\n",
    "b = int(input('나눗셈에 사용할 분모를 입력해주세요: '))\n",
    "try:\n",
    "    print(a/b) #b에 0이 들어오면 except로 자동 이동\n",
    "except:\n",
    "    print(\"분모를 0을 넣으면 안됩니다\")\n",
    "print(\"연산이 끝났습니다\")"
   ]
  },
  {
   "cell_type": "code",
   "execution_count": 8,
   "id": "0f5b09de",
   "metadata": {},
   "outputs": [
    {
     "name": "stdout",
     "output_type": "stream",
     "text": [
      "나눗셈에 사용할 분자를 입력해주세요: ㄱ\n",
      "분모를 0을 넣으면 안됩니다, input에 숫자가 아닌 문자를 넣으면 안됩니다\n",
      "연산이 끝났습니다\n"
     ]
    }
   ],
   "source": [
    "# try ~ except\n",
    "# try에는 예외가 발생할지도 모르는 구문을 넣기\n",
    "# except는 예외가 발생해서 구문이 멈췄을 때 이어서 실행할 내용 적기\n",
    "try:\n",
    "    a = int(input('나눗셈에 사용할 분자를 입력해주세요: '))\n",
    "    b = int(input('나눗셈에 사용할 분모를 입력해주세요: '))\n",
    "    print(a/b) #b에 0이 들어오면 except로 자동 이동\n",
    "except:\n",
    "    print(\"분모를 0을 넣으면 안됩니다, input에 숫자가 아닌 문자를 넣으면 안됩니다\")\n",
    "print(\"연산이 끝났습니다\")"
   ]
  }
 ],
 "metadata": {
  "kernelspec": {
   "display_name": "Python 3 (ipykernel)",
   "language": "python",
   "name": "python3"
  },
  "language_info": {
   "codemirror_mode": {
    "name": "ipython",
    "version": 3
   },
   "file_extension": ".py",
   "mimetype": "text/x-python",
   "name": "python",
   "nbconvert_exporter": "python",
   "pygments_lexer": "ipython3",
   "version": "3.9.12"
  },
  "toc": {
   "base_numbering": 1,
   "nav_menu": {},
   "number_sections": true,
   "sideBar": true,
   "skip_h1_title": false,
   "title_cell": "Table of Contents",
   "title_sidebar": "Contents",
   "toc_cell": false,
   "toc_position": {},
   "toc_section_display": true,
   "toc_window_display": false
  }
 },
 "nbformat": 4,
 "nbformat_minor": 5
}
