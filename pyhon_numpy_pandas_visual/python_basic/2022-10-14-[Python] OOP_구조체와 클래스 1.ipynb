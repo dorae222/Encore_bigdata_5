{
 "cells": [
  {
   "cell_type": "markdown",
   "id": "09ed8e02",
   "metadata": {
    "heading_collapsed": true
   },
   "source": [
    "# \"[Python] OOP_구조체와 클래스 1\"\n",
    "> \"OOP,클래스,구조체\"\n",
    "\n",
    "- toc: true\n",
    "- branch: master\n",
    "- badges: true\n",
    "- comments: true\n",
    "- categories: [OOP,클래스,class,구조체]\n",
    "- author: 도형준"
   ]
  },
  {
   "cell_type": "markdown",
   "id": "925be9c7",
   "metadata": {},
   "source": [
    "# 구조체"
   ]
  },
  {
   "cell_type": "markdown",
   "id": "91854f92",
   "metadata": {},
   "source": [
    "- 클래스 이전에 구조체를 먼저 공부하는 이유는 클래스가 C언어의 구조체에서 확장된 개념이기 때문이다.\n",
    "- 구조체란 배열과 달리 인덱스가 아닌 '변수명'으로 특정 대상을 프로그래밍적으로 묘사하기 위해 사용한다."
   ]
  },
  {
   "cell_type": "markdown",
   "id": "f9f66336",
   "metadata": {
    "heading_collapsed": true
   },
   "source": [
    "## 변수로 나누는 분류"
   ]
  },
  {
   "cell_type": "markdown",
   "id": "3aa23c8a",
   "metadata": {
    "hidden": true
   },
   "source": [
    "- 동적 변수 언어: 변수자료형을 전하지 않아서 넣고 싶은 자료형을 마음껏 넣을 수 있음\n",
    "    * name = \"가나다라마\" => 자동으로 문자로 인식\n",
    "- 정적 변수 언어: 변수자료형을 정해서 선언하면 그 때부터는 선언한 자료형으로만 저장 할 수 있음\n",
    "    * String name = \"가나다라마\";(JAVA) => 자료형을 선언해줌\n",
    "- 무엇이 좋다기 보다는 각각의 장단점이 존재함"
   ]
  },
  {
   "cell_type": "markdown",
   "id": "618fcde5",
   "metadata": {
    "heading_collapsed": true
   },
   "source": [
    "## 추상화"
   ]
  },
  {
   "cell_type": "markdown",
   "id": "f4db4c19",
   "metadata": {
    "hidden": true
   },
   "source": [
    "- 추상화는 대상을 간단하게 표현하는 것을 의미합니다.(=실제와는 다름)\n",
    "- 이를 테면, 사람을 만약 컴퓨터적으로 표현한다면 원래대로라면 표현해야하는 요소가 너무 많습니다\n",
    "- 그렇지만 프로그램적으로 표현 요소를 줄이고 줄여서 필수적인 요소만 표현하는 것이 개발에 유리하기에 추상화를 하게 됩니다"
   ]
  },
  {
   "cell_type": "markdown",
   "id": "f78e8f59",
   "metadata": {
    "heading_collapsed": true,
    "hidden": true
   },
   "source": [
    "### 추상화 예시1"
   ]
  },
  {
   "cell_type": "markdown",
   "id": "6f72b973",
   "metadata": {
    "hidden": true
   },
   "source": [
    "- 고양이의 요소: 털 색깔, 수염 모수, 몸무게, 품종, 이름, 나이 등\n",
    "- 동물 병원에 등록하는데 필요한 요소는 부분적이다.\n",
    "> 개발시에는 개발자가 고려할 수 있는(혹은 기능이 요구하는 최소한의) 사항만을 정의합니다."
   ]
  },
  {
   "cell_type": "code",
   "execution_count": 1,
   "id": "eb3c96d2",
   "metadata": {
    "hidden": true
   },
   "outputs": [],
   "source": [
    "# 클래스(구조체) 구현 문법\n",
    "# 설계도처럼 작용하기 때문에 실제로 변수를 생성하기 전까지는\n",
    "# 아래 적힌 코드는 따로 기능하지 않습니다.\n",
    "class Cat:\n",
    "    name = \"\"\n",
    "    age = 0\n",
    "    cat_type = \"\"\n",
    "    owner = \"\""
   ]
  },
  {
   "cell_type": "code",
   "execution_count": 2,
   "id": "fcfa7c11",
   "metadata": {
    "hidden": true
   },
   "outputs": [],
   "source": [
    "# 실제로는 생성을 해 줘야 기능합니다.\n",
    "# 클래스 생성을 저장받은 변수를 객체(object) 혹은 인스턴스(instance)라고 호칭합니다.\n",
    "cat1 = Cat()\n",
    "cat2 = Cat()"
   ]
  },
  {
   "cell_type": "code",
   "execution_count": 3,
   "id": "dd9b4e75",
   "metadata": {
    "hidden": true
   },
   "outputs": [
    {
     "name": "stdout",
     "output_type": "stream",
     "text": [
      "<__main__.Cat object at 0x00000284F02B3AF0>\n",
      "<__main__.Cat object at 0x00000284F02B3910>\n"
     ]
    }
   ],
   "source": [
    "print(cat1)\n",
    "print(cat2)"
   ]
  },
  {
   "cell_type": "code",
   "execution_count": 4,
   "id": "2d504aea",
   "metadata": {
    "hidden": true
   },
   "outputs": [],
   "source": [
    "cat1.name = \"룰루\"\n",
    "cat1.age = 2\n",
    "cat1.cat_type = \"스코티시 폴드\"\n",
    "cat1.owner = '도형준'"
   ]
  },
  {
   "cell_type": "code",
   "execution_count": 5,
   "id": "66974c5a",
   "metadata": {
    "hidden": true
   },
   "outputs": [
    {
     "name": "stdout",
     "output_type": "stream",
     "text": [
      "룰루\n",
      "\n"
     ]
    }
   ],
   "source": [
    "print(cat1.name)\n",
    "print(cat2.name)"
   ]
  },
  {
   "cell_type": "code",
   "execution_count": 6,
   "id": "93a6ad9a",
   "metadata": {
    "hidden": true
   },
   "outputs": [],
   "source": [
    "cat2.name = \"나비\"\n",
    "cat2.age = 5\n",
    "cat2.cat_type = \"길냥이\"\n",
    "cat2.owner = '도형준2'"
   ]
  },
  {
   "cell_type": "code",
   "execution_count": 7,
   "id": "1d05a390",
   "metadata": {
    "hidden": true
   },
   "outputs": [
    {
     "name": "stdout",
     "output_type": "stream",
     "text": [
      "룰루\n",
      "나비\n"
     ]
    }
   ],
   "source": [
    "print(cat1.name)\n",
    "print(cat2.name)"
   ]
  },
  {
   "cell_type": "markdown",
   "id": "47499882",
   "metadata": {
    "heading_collapsed": true,
    "hidden": true
   },
   "source": [
    "### 추상화 예시 2"
   ]
  },
  {
   "cell_type": "code",
   "execution_count": 8,
   "id": "65302789",
   "metadata": {
    "code_folding": [],
    "hidden": true
   },
   "outputs": [],
   "source": [
    "class Customer:\n",
    "    Recency =\"\"\n",
    "    Frequency  = \"\"\n",
    "    Monetary  = \"\""
   ]
  },
  {
   "cell_type": "code",
   "execution_count": 9,
   "id": "a9581c14",
   "metadata": {
    "hidden": true
   },
   "outputs": [
    {
     "name": "stdout",
     "output_type": "stream",
     "text": [
      "\n"
     ]
    }
   ],
   "source": [
    "customer1 = Customer()\n",
    "customer2= Customer()\n",
    "print(customer1.Recency)"
   ]
  },
  {
   "cell_type": "code",
   "execution_count": 10,
   "id": "c0a1c2d4",
   "metadata": {
    "hidden": true
   },
   "outputs": [
    {
     "name": "stdout",
     "output_type": "stream",
     "text": [
      "2 month\n",
      "4 month\n"
     ]
    }
   ],
   "source": [
    "customer1.Recency = \"2 month\"\n",
    "customer1.Frequency = 2\n",
    "customer1.Monetary =  50000\n",
    "\n",
    "customer2.Recency = \"4 month\"\n",
    "customer2.Frequency = 3\n",
    "customer2.Monetary =  40000\n",
    "\n",
    "print(customer1.Recency)\n",
    "print(customer2.Recency)"
   ]
  },
  {
   "cell_type": "markdown",
   "id": "8e5e0218",
   "metadata": {},
   "source": [
    "## 구조체와 전용 함수"
   ]
  },
  {
   "cell_type": "markdown",
   "id": "e30490b1",
   "metadata": {},
   "source": [
    "- 위에서 cat에 대한 정보를 기입했을 때, 하나하나 print()구문으로 이름과 나이, 품종을 조사해야해서 불편합니다.\n",
    "- 이럴 때 함수를 선언해두면 편하게 조회할 수 있습니다"
   ]
  },
  {
   "cell_type": "markdown",
   "id": "f3119369",
   "metadata": {
    "heading_collapsed": true
   },
   "source": [
    "### 예시 한 번 더 생성"
   ]
  },
  {
   "cell_type": "code",
   "execution_count": 11,
   "id": "5a2fa33e",
   "metadata": {
    "hidden": true
   },
   "outputs": [],
   "source": [
    "# 이름, 나이, 주인, 품종까지 모두 기입\n",
    "\n",
    "class Cat():\n",
    "    이름 = ''\n",
    "    나이 = 2\n",
    "    주인 = ''\n",
    "    품종 = ''\n",
    "    \n",
    "cat3 = Cat()\n",
    "cat3.이름 = '떼껄룩'\n",
    "cat3.나이 = 4\n",
    "cat3.품종 = '길냥이'\n",
    "cat3.주인 = '도형준'"
   ]
  },
  {
   "cell_type": "markdown",
   "id": "9917df18",
   "metadata": {
    "heading_collapsed": true
   },
   "source": [
    "### 방법1(print문)"
   ]
  },
  {
   "cell_type": "code",
   "execution_count": 12,
   "id": "c28f7110",
   "metadata": {
    "hidden": true
   },
   "outputs": [
    {
     "name": "stdout",
     "output_type": "stream",
     "text": [
      "이름: 떼껄룩, 나이: 4, 품종: 길냥이, 주인: 도형준\n"
     ]
    }
   ],
   "source": [
    "print(\"이름: %s, 나이: %s, 품종: %s, 주인: %s\"%(cat3.이름,cat3.나이,cat3.품종,cat3.주인))"
   ]
  },
  {
   "cell_type": "markdown",
   "id": "c0727b6c",
   "metadata": {
    "heading_collapsed": true
   },
   "source": [
    "### 방법2(전용 함수)"
   ]
  },
  {
   "cell_type": "code",
   "execution_count": 13,
   "id": "7e941116",
   "metadata": {
    "hidden": true
   },
   "outputs": [
    {
     "name": "stdout",
     "output_type": "stream",
     "text": [
      "이름: 떼껄룩, 나이: 4, 품종: 길냥이, 주인: 도형준\n"
     ]
    }
   ],
   "source": [
    "# Cat 자료형의 전용 함수\n",
    "def show_cat_info(cat):\n",
    "    print(\"이름: %s, 나이: %s, 품종: %s, 주인: %s\"\n",
    "          %(cat3.이름,cat3.나이,cat3.품종,cat3.주인))\n",
    "show_cat_info(cat3)"
   ]
  },
  {
   "cell_type": "markdown",
   "id": "88d046f1",
   "metadata": {},
   "source": [
    "### 전용 함수인지 비교할 수 있도록 새로운 예시 생성"
   ]
  },
  {
   "cell_type": "code",
   "execution_count": 14,
   "id": "768f9396",
   "metadata": {},
   "outputs": [],
   "source": [
    "# dog 선언\n",
    "class Dog:\n",
    "    이름 =\"\"\n",
    "    나이 = 2\n",
    "    품종 = \"\"\n",
    "    주소 = \"\" # 체크\n",
    "    \n",
    "dog1 = Dog()\n",
    "dog1.이름 = \"껌정이\"\n",
    "dog1.나이 = 3\n",
    "dog1.품종 = \"허스키\"\n",
    "dog1.주소 = \"서울시 성동구\""
   ]
  },
  {
   "cell_type": "code",
   "execution_count": 15,
   "id": "82836465",
   "metadata": {},
   "outputs": [],
   "source": [
    "def show_dog_info(dog):\n",
    "    print(\"이름: %s, 나이: %s, 품종: %s, 주소: %s\"\n",
    "          %(dog.이름,dog.나이,dog.품종,dog.주소))"
   ]
  },
  {
   "cell_type": "code",
   "execution_count": 16,
   "id": "6a85d168",
   "metadata": {},
   "outputs": [
    {
     "name": "stdout",
     "output_type": "stream",
     "text": [
      "이름: 떼껄룩, 나이: 4, 품종: 길냥이, 주인: 도형준\n",
      "cat 전용함수 None\n",
      "이름: 껌정이, 나이: 3, 품종: 허스키, 주소: 서울시 성동구\n",
      "dog 전용함수 None\n"
     ]
    }
   ],
   "source": [
    "print('cat 전용함수',show_cat_info(dog1))\n",
    "print('dog 전용함수',show_dog_info(dog1))"
   ]
  },
  {
   "cell_type": "markdown",
   "id": "ae215af5",
   "metadata": {
    "heading_collapsed": true
   },
   "source": [
    "#### 연습"
   ]
  },
  {
   "cell_type": "markdown",
   "id": "3aaf05e1",
   "metadata": {
    "hidden": true
   },
   "source": [
    "- 예시2로 만든 클래스를 이용해 생성한 변수(객체)의 정보를 콘솔에 찍을 수 있는 전용 함수를 생성하고 실제로 사용까지 해주세요."
   ]
  },
  {
   "cell_type": "code",
   "execution_count": 17,
   "id": "c00e0715",
   "metadata": {
    "hidden": true
   },
   "outputs": [],
   "source": [
    "def RFM_info(customer):\n",
    "    return \"Recency: %s, Frequency: %s, Monetary: %s\"%(customer.Recency,customer.Frequency,customer.Monetary)"
   ]
  },
  {
   "cell_type": "code",
   "execution_count": 18,
   "id": "b31582ec",
   "metadata": {
    "hidden": true
   },
   "outputs": [
    {
     "name": "stdout",
     "output_type": "stream",
     "text": [
      "RFM_info: Recency: 4 month, Frequency: 3, Monetary: 40000\n"
     ]
    }
   ],
   "source": [
    "print('RFM_info:',RFM_info(customer2))"
   ]
  },
  {
   "cell_type": "markdown",
   "id": "439da0e0",
   "metadata": {},
   "source": [
    "# 클래스(Class)"
   ]
  },
  {
   "cell_type": "markdown",
   "id": "96e1b617",
   "metadata": {},
   "source": [
    "## 특정 구조체 전용 함수를 외부에 선언할 필요가 있는가?"
   ]
  },
  {
   "cell_type": "markdown",
   "id": "7c4767a9",
   "metadata": {},
   "source": [
    "* 특정 구조체에서만 사용할 함수를, 굳이 외부에 빼서 혼란을 야기할 필요가 없다는 결론을 낼 수 있음\n",
    "    * 그래서 클래스에서는 이제 변수와 함께 함수를 같은 소속을 선언합니다.\n",
    "    * 이렇게 클래스 내부에 선언된 함수를 가리켜 '메서드'라고 부릅니다."
   ]
  },
  {
   "cell_type": "code",
   "execution_count": 19,
   "id": "249387b6",
   "metadata": {
    "code_folding": []
   },
   "outputs": [],
   "source": [
    "class Computer:\n",
    "    cpu = ''\n",
    "    ram = ''\n",
    "    ssd = ''\n",
    "    \n",
    "    # 메서드는 기본적으로 대부분의 경우 self를 파라미터로 선언해줘야 한다.\n",
    "    # 변수 지칭시에도 self.변수명을 사용합니다.\n",
    "    def get_info(self):\n",
    "        print(\"cpu: %s, ram: %sGb, ssd:%sGb\"%(self.cpu,self.ram,self.ssd))"
   ]
  },
  {
   "cell_type": "code",
   "execution_count": 20,
   "id": "0c0b8b27",
   "metadata": {},
   "outputs": [
    {
     "name": "stdout",
     "output_type": "stream",
     "text": [
      "cpu: i9, ram: 64Gb, ssd:1000Gb\n"
     ]
    }
   ],
   "source": [
    "# Computer 객체를 생성하고, (cpu, ram, ssd)에 임의의 값을 지정\n",
    "# 그 다음, 메서드 호출로 콘솔에 정보를 출력해보기\n",
    "\n",
    "my_computer = Computer()\n",
    "my_computer.cpu = 'i9'\n",
    "my_computer.ram = '64'\n",
    "my_computer.ssd = '1000'\n",
    "\n",
    "my_computer.get_info()"
   ]
  },
  {
   "cell_type": "code",
   "execution_count": 21,
   "id": "af8957d4",
   "metadata": {},
   "outputs": [],
   "source": [
    "class Car:\n",
    "    brand = ''\n",
    "    year = 1\n",
    "    odometer = 4000\n",
    "    def car_info(self):\n",
    "        print(\"brand: %s, year: %s년식, odometer:%sKm\"%(self.brand,self.year,self.odometer))"
   ]
  },
  {
   "cell_type": "code",
   "execution_count": 24,
   "id": "30923c93",
   "metadata": {},
   "outputs": [
    {
     "name": "stdout",
     "output_type": "stream",
     "text": [
      "brand: 현대, year: 2021년식, odometer:7000Km\n"
     ]
    }
   ],
   "source": [
    "my_car = Car()\n",
    "my_car.brand = '현대'\n",
    "my_car.year = 2021\n",
    "my_car.odometer = 7000\n",
    "\n",
    "my_car.car_info()"
   ]
  }
 ],
 "metadata": {
  "kernelspec": {
   "display_name": "Python 3 (ipykernel)",
   "language": "python",
   "name": "python3"
  },
  "language_info": {
   "codemirror_mode": {
    "name": "ipython",
    "version": 3
   },
   "file_extension": ".py",
   "mimetype": "text/x-python",
   "name": "python",
   "nbconvert_exporter": "python",
   "pygments_lexer": "ipython3",
   "version": "3.9.12"
  },
  "toc": {
   "base_numbering": 1,
   "nav_menu": {
    "height": "145.988px",
    "width": "304.975px"
   },
   "number_sections": true,
   "sideBar": true,
   "skip_h1_title": false,
   "title_cell": "Table of Contents",
   "title_sidebar": "Contents",
   "toc_cell": false,
   "toc_position": {
    "height": "calc(100% - 180px)",
    "left": "10px",
    "top": "150px",
    "width": "165px"
   },
   "toc_section_display": true,
   "toc_window_display": false
  }
 },
 "nbformat": 4,
 "nbformat_minor": 5
}
