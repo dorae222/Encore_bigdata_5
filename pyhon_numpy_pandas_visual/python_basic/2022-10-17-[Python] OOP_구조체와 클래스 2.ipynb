{
 "cells": [
  {
   "cell_type": "markdown",
   "id": "401cbed9",
   "metadata": {},
   "source": [
    "# \"[Python] OOP_구조체와 클래스 2\"\n",
    "> \"self, 생성자 함수\"\n",
    "\n",
    "- toc: true\n",
    "- branch: master\n",
    "- badges: true\n",
    "- comments: true\n",
    "- categories: [OOP,클래스,class,구조체, self, 생성자 함수]\n",
    "- author: 도형준"
   ]
  },
  {
   "cell_type": "markdown",
   "id": "5e7a59ee",
   "metadata": {},
   "source": [
    "# self 키워드\n",
    "\n",
    "- self는 클래스로 생성한 변수(=인스턴스) 자신의 주소를 나타내는 키워드 입니다.\n",
    "- 이렇게 자신의 주소를 나타내야하는 이유는, 인스턴스는 양식은 같지만 내용물은 독립적으로 저장되기 때문입니다."
   ]
  },
  {
   "cell_type": "code",
   "execution_count": 1,
   "id": "ade14230",
   "metadata": {},
   "outputs": [],
   "source": [
    "class Computer:\n",
    "    cpu = ''\n",
    "    ram = ''\n",
    "    ssd = ''\n",
    "    \n",
    "    # 메서드는 기본적으로 대부분의 경우 self를 파라미터로 선언해줘야 한다.\n",
    "    # 변수 지칭시에도 self.변수명을 사용합니다.\n",
    "    def get_info(self):\n",
    "        print(\"cpu: %s, ram: %sGb, ssd:%sGb\"%(self.cpu,self.ram,self.ssd))\n",
    "    def get_self_add(self):\n",
    "        print(self)"
   ]
  },
  {
   "cell_type": "code",
   "execution_count": 2,
   "id": "4451dfa7",
   "metadata": {},
   "outputs": [
    {
     "name": "stdout",
     "output_type": "stream",
     "text": [
      "cpu: i9, ram: 64Gb, ssd:1000Gb\n"
     ]
    }
   ],
   "source": [
    "# Computer 객체를 생성하고, (cpu, ram, ssd)에 임의의 값을 지정\n",
    "# 그 다음, 메서드 호출로 콘솔에 정보를 출력해보기\n",
    "\n",
    "my_computer = Computer()\n",
    "my_computer.cpu = 'i9'\n",
    "my_computer.ram = '64'\n",
    "my_computer.ssd = '1000'\n",
    "\n",
    "my_computer.get_info()"
   ]
  },
  {
   "cell_type": "code",
   "execution_count": 3,
   "id": "8d353a65",
   "metadata": {},
   "outputs": [
    {
     "name": "stdout",
     "output_type": "stream",
     "text": [
      "<__main__.Computer object at 0x0000022956403A90>\n"
     ]
    }
   ],
   "source": [
    "my_computer.get_self_add()"
   ]
  },
  {
   "cell_type": "markdown",
   "id": "f7ed0e49",
   "metadata": {},
   "source": [
    "## class 초기화"
   ]
  },
  {
   "cell_type": "code",
   "execution_count": 4,
   "id": "988d7f2c",
   "metadata": {},
   "outputs": [],
   "source": [
    "# 내용물을 좀 더 편하게 초기화시킬 수 있도록 클래스를 다시 정의합니다\n",
    "class Teacher:\n",
    "    name = ''\n",
    "    subject = ''\n",
    "    age = 0\n",
    "    \n",
    "    # 위 3개 변수에 값을 한 줄로 넣어주는 메서드(함수)\n",
    "    def get_info(self):\n",
    "        print(\"name: %s, subject: %s과목, age:%s세\"%(self.name,self.subject,self.age))"
   ]
  },
  {
   "cell_type": "code",
   "execution_count": 5,
   "id": "d5d9200a",
   "metadata": {},
   "outputs": [
    {
     "name": "stdout",
     "output_type": "stream",
     "text": [
      "name: 도형준, subject: 빅데이터과목, age:25세\n"
     ]
    }
   ],
   "source": [
    "# 새로운 객체 생성\n",
    "my_teacher = Teacher()\n",
    "my_teacher.name = '도형준'\n",
    "my_teacher.subject = '빅데이터'\n",
    "my_teacher.age = 25\n",
    "\n",
    "my_teacher.get_info()"
   ]
  },
  {
   "cell_type": "code",
   "execution_count": 6,
   "id": "fe14f82b",
   "metadata": {},
   "outputs": [],
   "source": [
    "# 내용물을 좀 더 편하게 초기화시킬 수 있도록 클래스를 다시 정의합니다\n",
    "class Teacher:\n",
    "    name = ''\n",
    "    subject = ''\n",
    "    age = 0\n",
    "    \n",
    "    # 내용물 편하게 전달\n",
    "    def save_info(self,n,s,a):\n",
    "        self.name = n\n",
    "        self.subject = s\n",
    "        self.age = a"
   ]
  },
  {
   "cell_type": "code",
   "execution_count": 7,
   "id": "7948d039",
   "metadata": {},
   "outputs": [
    {
     "name": "stdout",
     "output_type": "stream",
     "text": [
      "도형준 빅데이터 25\n"
     ]
    }
   ],
   "source": [
    "my_teacher = Teacher()\n",
    "my_teacher.save_info(\"도형준\",\"빅데이터\",25)\n",
    "print(my_teacher.name,my_teacher.subject,my_teacher.age)"
   ]
  },
  {
   "cell_type": "markdown",
   "id": "cca1ec1c",
   "metadata": {},
   "source": [
    "# 생성자 함수"
   ]
  },
  {
   "cell_type": "markdown",
   "id": "fb89a6c4",
   "metadata": {},
   "source": [
    "- 클래스 내부에 __init__ 이라는 명칭으로 선언한 함수는 생성자 함수가 됩니다.\n",
    "- 생성자 함수를 정의하면 사용자가 클래스의 인스턴스를 생성할 때 반드시 입력해야 하는 요소를\n",
    "- 강제로 입력해야만 하는 상황을 만들어 줄 수 있습니다."
   ]
  },
  {
   "cell_type": "code",
   "execution_count": 8,
   "id": "d540afae",
   "metadata": {},
   "outputs": [],
   "source": [
    "class Cat:\n",
    "    name = \"\"\n",
    "    weight = 0\n",
    "    color = \"\"\n",
    "    gender = \"\"\n",
    "    \n",
    "    # 아래 함수는 생성자 함수로 생성시 자동으로 한 번만 호출되는 함수\n",
    "    def __init__(self, name, weight, color, gender):\n",
    "        self.name = name\n",
    "        self.weight = weight\n",
    "        self.color = color\n",
    "        self.gender = gender"
   ]
  },
  {
   "cell_type": "code",
   "execution_count": 9,
   "id": "1e032525",
   "metadata": {},
   "outputs": [
    {
     "name": "stdout",
     "output_type": "stream",
     "text": [
      "떼껄룩 10 노랑 수컷\n"
     ]
    }
   ],
   "source": [
    "cat1 = Cat(\"떼껄룩\",'10',\"노랑\",\"수컷\")\n",
    "print(cat1.name,cat1.weight,cat1.color,cat1.gender)"
   ]
  },
  {
   "cell_type": "markdown",
   "id": "d55c9934",
   "metadata": {},
   "source": [
    "## 연습 1"
   ]
  },
  {
   "cell_type": "code",
   "execution_count": 15,
   "id": "0b115742",
   "metadata": {},
   "outputs": [],
   "source": [
    "# cat1에 대해서 상세 정보를 조회할 수 있는 함수 get_info와\n",
    "# print(\"야옹\")을 실행해주는 함수 meow()를 정의하고 호출하기\n",
    "\n",
    "class Cat:\n",
    "    name = \"\"\n",
    "    weight = 0\n",
    "    color = \"\"\n",
    "    gender = \"\"\n",
    "    \n",
    "    # 아래 함수는 생성자 함수로 생성시 자동으로 한 번만 호출되는 함수\n",
    "    def __init__(self, name, weight, color, gender):\n",
    "        self.name = name\n",
    "        self.weight = weight\n",
    "        self.color = color\n",
    "        self.gender = gender\n",
    "    def get_info(self):\n",
    "        print(\"name: %s, weight: %skg, color:%s, gender:%s\"%(self.name, self.weight, self.color, self.gender))\n",
    "    def meow(self):\n",
    "        print(\"야옹\")"
   ]
  },
  {
   "cell_type": "code",
   "execution_count": 17,
   "id": "788fbd3d",
   "metadata": {},
   "outputs": [
    {
     "name": "stdout",
     "output_type": "stream",
     "text": [
      "name: 떼껄룩, weight: 10kg, color:노랑, gender:수컷\n",
      "야옹\n"
     ]
    }
   ],
   "source": [
    "cat1 = Cat(\"떼껄룩\",'10',\"노랑\",\"수컷\")\n",
    "cat1.get_info()\n",
    "cat1.meow()"
   ]
  },
  {
   "cell_type": "markdown",
   "id": "4c07c09b",
   "metadata": {},
   "source": [
    "## 연습 2"
   ]
  },
  {
   "cell_type": "code",
   "execution_count": 33,
   "id": "6596cccc",
   "metadata": {
    "code_folding": []
   },
   "outputs": [],
   "source": [
    "class Computer:\n",
    "    # 변수는 특정 대상의 '상태'\n",
    "    cpu = ''\n",
    "    ram = ''\n",
    "    ssd = ''\n",
    "    graphic = ''\n",
    "    \n",
    "    # 메서드는 특정 대상의 행동이며, 결과는 상태(변수)값에 따라 달라진다.\n",
    "    # 아래 함수는 생성자 함수로 생성시 자동으로 한 번만 호출되는 함수\n",
    "    def __init__(self, cpu, ram, ssd, graphic):\n",
    "        self.cpu = cpu\n",
    "        self.ram = ram\n",
    "        self.ssd = ssd\n",
    "        self.graphic = graphic\n",
    "    def get_info(self):\n",
    "        print(\"cpu: %s, ram: %sGb, ssd:%sGb, graphic:%s\"%(self.cpu,self.ram,self.ssd,self.graphic))\n",
    "    def state(self):\n",
    "        print('위 컴퓨터는 %s개의 작업이 동시 실행가능합니다'%(int(self.ram)/4))"
   ]
  },
  {
   "cell_type": "code",
   "execution_count": 34,
   "id": "a4fc239d",
   "metadata": {},
   "outputs": [
    {
     "name": "stdout",
     "output_type": "stream",
     "text": [
      "cpu: i9, ram: 64Gb, ssd:1000Gb, graphic:3080Ti\n",
      "위 컴퓨터는 16.0개의 작업이 동시 실행가능합니다\n"
     ]
    }
   ],
   "source": [
    "computer1 = Computer(\"i9\",'64',\"1000\",\"3080Ti\")\n",
    "computer1.get_info()\n",
    "computer1.state()"
   ]
  }
 ],
 "metadata": {
  "kernelspec": {
   "display_name": "Python 3 (ipykernel)",
   "language": "python",
   "name": "python3"
  },
  "language_info": {
   "codemirror_mode": {
    "name": "ipython",
    "version": 3
   },
   "file_extension": ".py",
   "mimetype": "text/x-python",
   "name": "python",
   "nbconvert_exporter": "python",
   "pygments_lexer": "ipython3",
   "version": "3.9.12"
  },
  "toc": {
   "base_numbering": 1,
   "nav_menu": {
    "height": "76px",
    "width": "318px"
   },
   "number_sections": true,
   "sideBar": true,
   "skip_h1_title": false,
   "title_cell": "Table of Contents",
   "title_sidebar": "Contents",
   "toc_cell": false,
   "toc_position": {},
   "toc_section_display": true,
   "toc_window_display": false
  }
 },
 "nbformat": 4,
 "nbformat_minor": 5
}
