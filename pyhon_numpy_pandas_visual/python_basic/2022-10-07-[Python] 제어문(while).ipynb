{
 "cells": [
  {
   "cell_type": "markdown",
   "id": "a0111bf5",
   "metadata": {},
   "source": [
    "# 제어문"
   ]
  },
  {
   "cell_type": "markdown",
   "id": "2127108a",
   "metadata": {},
   "source": [
    "## while 반복문(+조건문)\n",
    "\n",
    "주어진 조건을 판단하여 조건이 참일 동안 특정한 명령문을 반복적으로 수행하는 것\n",
    "\n",
    "▶ 기본 문법 \n",
    "\n",
    "        while 조건문:\n",
    "            반복적으로 수행할 문장1\n",
    "            반복적으로 수행할 문장2\n",
    "            ...\n",
    "            \n",
    "\n",
    "▶ 주의해야할 문법 : \n",
    "\n",
    "- 조건문 뒤에 반드시 콜론(:)을 써야 한다.\n",
    "\n",
    "\n",
    "- 조건문이 있는 문장 하위에 속하는 실행문장들은 반드시 한 번 들여쓰기 되어야 한다. ( 자동 / tab / space 4번)\n",
    "\n",
    "\n",
    "- 무한반복문에 대한 이해와 관련된 키워드(break, continue 등)를 활용할 수 있어야 한다.\n",
    "\n",
    "\n",
    "\n",
    "\n",
    "▶ 무한반복문 : 조건문이 무조건 참인 경우, while 반복문은 무한히 반복된다.\n",
    "\n",
    "- break 키워드 : 특정 조건을 만족할 경우 제어문을 빠져나가 반복을 종료한다.\n",
    "\n",
    "\n",
    "- continue : 특정 조건을 만족할 경우 반복문을 종료하는 것이 아니라 반복문의 시작으로 돌아간다. (참고) pass"
   ]
  },
  {
   "cell_type": "markdown",
   "id": "0564b0b3",
   "metadata": {},
   "source": [
    "아래 코드 돌아가는 원리를 직접 설명한 영상\n",
    "https://youtu.be/PSvnlDD9ogY"
   ]
  },
  {
   "cell_type": "code",
   "execution_count": 1,
   "id": "f1f171aa",
   "metadata": {},
   "outputs": [
    {
     "name": "stdout",
     "output_type": "stream",
     "text": [
      "Hello world\n",
      "Hello world\n",
      "Hello world\n"
     ]
    }
   ],
   "source": [
    "# Hello world 3번 출력\n",
    "loop = 0\n",
    "while loop <= 2:\n",
    "    loop += 1\n",
    "    print(\"Hello world\") "
   ]
  },
  {
   "cell_type": "code",
   "execution_count": 2,
   "id": "d8c923f2",
   "metadata": {},
   "outputs": [
    {
     "name": "stdout",
     "output_type": "stream",
     "text": [
      "무한루프 1\n",
      "무한루프 2\n",
      "무한루프 3\n"
     ]
    }
   ],
   "source": [
    "# while문의 조건식이 무조건 참으로만 판단되는 경우 무한루프가 된다.\n",
    "# 이 경우 보통 break문을 조합해 종료시킨다.\n",
    "a = 1\n",
    "while True:\n",
    "    print(\"무한루프\", a)\n",
    "    if a > 2:\n",
    "        break\n",
    "    a += 1"
   ]
  },
  {
   "cell_type": "code",
   "execution_count": 3,
   "id": "d8ea164c",
   "metadata": {},
   "outputs": [
    {
     "name": "stdout",
     "output_type": "stream",
     "text": [
      "3\n",
      "5\n",
      "7\n",
      "9\n"
     ]
    }
   ],
   "source": [
    "# 돌던 바퀴만 스킵하고, 전체 반복문 실행은 유지하고 싶다면 continue를 사용한다.\n",
    "a = 1\n",
    "while a < 10:\n",
    "    a += 1\n",
    "    if a % 2 == 0:\n",
    "        continue\n",
    "    print(a)"
   ]
  },
  {
   "cell_type": "markdown",
   "id": "36ae7531",
   "metadata": {},
   "source": [
    "## 연습문제\n",
    "\n",
    "초기식에는 score 변수에 100을 저장하고, 이후 while문에서 score가 60점 이상인 경우에만\n",
    "\n",
    "다시 score에 input()으로 새 점수를 받고, \n",
    "\n",
    "입력받은 점수들은 리스트 자료형인 score_list에 저장하는 코드를 작성해주세요.\n",
    "\n",
    "60점 미만의 점수가 score에 저장되면 반복문을 탈출하고\n",
    "\n",
    "이후 score_list에 저장된 점수는 모두 내림차순 정렬해서 보여주면 됩니다."
   ]
  },
  {
   "cell_type": "code",
   "execution_count": 4,
   "id": "84476a7e",
   "metadata": {},
   "outputs": [
    {
     "name": "stdout",
     "output_type": "stream",
     "text": [
      "수를 입력해주세요: 100\n",
      "수를 입력해주세요: 90\n",
      "수를 입력해주세요: 80\n",
      "수를 입력해주세요: 70\n",
      "수를 입력해주세요: 60\n",
      "수를 입력해주세요: 50\n"
     ]
    }
   ],
   "source": [
    "score = 100\n",
    "score_list = []\n",
    "while True:\n",
    "    score = int(input('수를 입력해주세요: '))\n",
    "    if score >= 60:\n",
    "        score_list.append(score)\n",
    "    else:\n",
    "        break"
   ]
  },
  {
   "cell_type": "code",
   "execution_count": 5,
   "id": "fc8d65a1",
   "metadata": {},
   "outputs": [
    {
     "data": {
      "text/plain": [
       "[100, 90, 80, 70, 60]"
      ]
     },
     "execution_count": 5,
     "metadata": {},
     "output_type": "execute_result"
    }
   ],
   "source": [
    "score_list.sort(reverse = True)\n",
    "score_list"
   ]
  },
  {
   "cell_type": "markdown",
   "id": "20d5b20e",
   "metadata": {},
   "source": [
    "## for 반복문"
   ]
  },
  {
   "cell_type": "markdown",
   "id": "6b6a7d97",
   "metadata": {},
   "source": [
    "자료형(리스트, 튜플, 문자열)의 모든 아이템에 때하여 처음부터 마지막까지 차례대로 접근하여 실행문을 적용한다.\n",
    "\n",
    "▶ 기본 문법 \n",
    "\n",
    "        for 임시변수 in 자료형:\n",
    "            수행할 문장1\n",
    "            수행할 문장2\n",
    "            ...\n",
    "▶ 임시변수 \n",
    "\n",
    "        - for 반복문이 실행되면 자료형의 아이템이 차례대로 임시변수에 할당된다.\n",
    "        - 기본젂으로 변수는 할당문이 존재해야 하지만 임시변수는 할당문이 필요 없는 객체이다."
   ]
  },
  {
   "cell_type": "code",
   "execution_count": 6,
   "id": "ccc6aa70",
   "metadata": {},
   "outputs": [
    {
     "name": "stdout",
     "output_type": "stream",
     "text": [
      "Hello world\n",
      "Hello world\n",
      "Hello world\n"
     ]
    }
   ],
   "source": [
    "# 하나의 아이템에 접근: 리스트 자료형\n",
    "a = [1,2,3]\n",
    "for i in a:\n",
    "    print(\"Hello world\")"
   ]
  },
  {
   "cell_type": "markdown",
   "id": "fce069d0",
   "metadata": {},
   "source": [
    "## 중첩 반복문"
   ]
  },
  {
   "cell_type": "markdown",
   "id": "a6c9acb2",
   "metadata": {},
   "source": [
    "- 반복문 내부에 반복문을 작성하는 것을 중첩 반복문이라고 합니다.\n",
    "- 반복 횟수는 안쪽 반복문 * 바깥쪽 반복문입니다.\n",
    "- 동작 이해가 상당히 어렵기 때문에 여러변 연습할 필요가 있다."
   ]
  },
  {
   "cell_type": "code",
   "execution_count": 7,
   "id": "d2dd2c19",
   "metadata": {},
   "outputs": [
    {
     "name": "stdout",
     "output_type": "stream",
     "text": [
      "좌\n",
      "우\n",
      "좌\n",
      "우\n",
      "좌\n",
      "우\n",
      "좌\n",
      "우\n",
      "좌\n",
      "우\n",
      "끝났습니다\n"
     ]
    }
   ],
   "source": [
    "# 인터벌을 한 세트 도는 케이스\n",
    "for i in range(5): # i블럭\n",
    "    print('좌')\n",
    "    print('우')\n",
    "print('끝났습니다')    "
   ]
  },
  {
   "cell_type": "code",
   "execution_count": 8,
   "id": "3f33755d",
   "metadata": {},
   "outputs": [
    {
     "name": "stdout",
     "output_type": "stream",
     "text": [
      "좌\n",
      "우\n",
      "좌\n",
      "우\n",
      "좌\n",
      "우\n",
      "좌\n",
      "우\n",
      "좌\n",
      "우\n",
      "한세트가 끝났습니다\n",
      "좌\n",
      "우\n",
      "좌\n",
      "우\n",
      "좌\n",
      "우\n",
      "좌\n",
      "우\n",
      "좌\n",
      "우\n",
      "한세트가 끝났습니다\n",
      "좌\n",
      "우\n",
      "좌\n",
      "우\n",
      "좌\n",
      "우\n",
      "좌\n",
      "우\n",
      "좌\n",
      "우\n",
      "한세트가 끝났습니다\n",
      "좌\n",
      "우\n",
      "좌\n",
      "우\n",
      "좌\n",
      "우\n",
      "좌\n",
      "우\n",
      "좌\n",
      "우\n",
      "한세트가 끝났습니다\n",
      "좌\n",
      "우\n",
      "좌\n",
      "우\n",
      "좌\n",
      "우\n",
      "좌\n",
      "우\n",
      "좌\n",
      "우\n",
      "한세트가 끝났습니다\n",
      "좌\n",
      "우\n",
      "좌\n",
      "우\n",
      "좌\n",
      "우\n",
      "좌\n",
      "우\n",
      "좌\n",
      "우\n",
      "한세트가 끝났습니다\n",
      "좌\n",
      "우\n",
      "좌\n",
      "우\n",
      "좌\n",
      "우\n",
      "좌\n",
      "우\n",
      "좌\n",
      "우\n",
      "한세트가 끝났습니다\n",
      "좌\n",
      "우\n",
      "좌\n",
      "우\n",
      "좌\n",
      "우\n",
      "좌\n",
      "우\n",
      "좌\n",
      "우\n",
      "한세트가 끝났습니다\n",
      "좌\n",
      "우\n",
      "좌\n",
      "우\n",
      "좌\n",
      "우\n",
      "좌\n",
      "우\n",
      "좌\n",
      "우\n",
      "한세트가 끝났습니다\n",
      "좌\n",
      "우\n",
      "좌\n",
      "우\n",
      "좌\n",
      "우\n",
      "좌\n",
      "우\n",
      "좌\n",
      "우\n",
      "한세트가 끝났습니다\n",
      "모든 세트가 끝났습니다\n"
     ]
    }
   ],
   "source": [
    "for j in range(10): # j블럭\n",
    "    for i in range(5): # i블럭\n",
    "        print('좌')\n",
    "        print('우')\n",
    "    print('한세트가 끝났습니다')\n",
    "print('모든 세트가 끝났습니다')"
   ]
  },
  {
   "cell_type": "code",
   "execution_count": 9,
   "id": "125b3926",
   "metadata": {},
   "outputs": [
    {
     "name": "stdout",
     "output_type": "stream",
     "text": [
      "a b \n",
      "c d "
     ]
    }
   ],
   "source": [
    "# end=\"\" 옵션으로 다음줄로 안 내려간 상태에서 다시 내리고 싶다면\n",
    "# 그냥 print()를 한 번 더 써줍니다.\n",
    "print('a',end = \" \")\n",
    "print('b',end = \" \")\n",
    "print()\n",
    "print('c',end = \" \")\n",
    "print('d',end = \" \")"
   ]
  },
  {
   "cell_type": "markdown",
   "id": "8af1c3fb",
   "metadata": {},
   "source": [
    "## for 반복문 문제\n",
    "학생들의 점수가 저장되어 있는 리스트에서 50점 이상인 학생의 점수만 합한 결과를 출력하세요.\n",
    "\n",
    "score = [20, 55, 67, 82, 45, 33, 90, 87, 100, 25]"
   ]
  },
  {
   "cell_type": "code",
   "execution_count": 1,
   "id": "06a8e299",
   "metadata": {},
   "outputs": [
    {
     "data": {
      "text/plain": [
       "481"
      ]
     },
     "execution_count": 1,
     "metadata": {},
     "output_type": "execute_result"
    }
   ],
   "source": [
    "score_list = [20, 55, 67, 82, 45, 33, 90, 87, 100, 25]\n",
    "final_score=0\n",
    "for score in score_list:\n",
    "    if score >= 50:\n",
    "        final_score+=score\n",
    "final_score"
   ]
  }
 ],
 "metadata": {
  "kernelspec": {
   "display_name": "Python 3 (ipykernel)",
   "language": "python",
   "name": "python3"
  },
  "language_info": {
   "codemirror_mode": {
    "name": "ipython",
    "version": 3
   },
   "file_extension": ".py",
   "mimetype": "text/x-python",
   "name": "python",
   "nbconvert_exporter": "python",
   "pygments_lexer": "ipython3",
   "version": "3.7.13"
  },
  "toc": {
   "base_numbering": 1,
   "nav_menu": {},
   "number_sections": true,
   "sideBar": true,
   "skip_h1_title": false,
   "title_cell": "Table of Contents",
   "title_sidebar": "Contents",
   "toc_cell": false,
   "toc_position": {
    "height": "calc(100% - 180px)",
    "left": "10px",
    "top": "150px",
    "width": "184.675px"
   },
   "toc_section_display": true,
   "toc_window_display": true
  },
  "varInspector": {
   "cols": {
    "lenName": 16,
    "lenType": 16,
    "lenVar": 40
   },
   "kernels_config": {
    "python": {
     "delete_cmd_postfix": "",
     "delete_cmd_prefix": "del ",
     "library": "var_list.py",
     "varRefreshCmd": "print(var_dic_list())"
    },
    "r": {
     "delete_cmd_postfix": ") ",
     "delete_cmd_prefix": "rm(",
     "library": "var_list.r",
     "varRefreshCmd": "cat(var_dic_list()) "
    }
   },
   "types_to_exclude": [
    "module",
    "function",
    "builtin_function_or_method",
    "instance",
    "_Feature"
   ],
   "window_display": false
  }
 },
 "nbformat": 4,
 "nbformat_minor": 5
}
