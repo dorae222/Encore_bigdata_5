{
 "cells": [
  {
   "cell_type": "markdown",
   "id": "e25a02d4",
   "metadata": {},
   "source": [
    "# \"[DA] Numpy 기본 4\"\n",
    "> \"Numpy 변환(정렬, 참조, 복사)\"\n",
    "\n",
    "- toc: true\n",
    "- branch: master\n",
    "- badges: true\n",
    "- comments: true\n",
    "- categories: [numpy]\n",
    "- author: 도형준"
   ]
  },
  {
   "cell_type": "markdown",
   "id": "8cdf6966",
   "metadata": {},
   "source": [
    "# Numpy 변환(정렬, 참조, 복사)"
   ]
  },
  {
   "cell_type": "markdown",
   "id": "ed655088",
   "metadata": {
    "heading_collapsed": true
   },
   "source": [
    "## 벡터 연산"
   ]
  },
  {
   "cell_type": "markdown",
   "id": "beac8065",
   "metadata": {
    "hidden": true
   },
   "source": [
    "- 요소들에 대한 연산을 벡터 연산으로 처리하면 일반적인 for반복문으로 연산작업을 처리하는 것 보다 월등히 뛰어난 처리 속도로 효율적인 작업 가능"
   ]
  },
  {
   "cell_type": "code",
   "execution_count": 1,
   "id": "4546a821",
   "metadata": {
    "hidden": true
   },
   "outputs": [
    {
     "data": {
      "text/plain": [
       "array([       0,        1,        2, ..., 99999997, 99999998, 99999999])"
      ]
     },
     "execution_count": 1,
     "metadata": {},
     "output_type": "execute_result"
    }
   ],
   "source": [
    "# 0부터 시작하여 10000000요소를 가진 배열 생성\n",
    "import numpy as np\n",
    "\n",
    "x = np.arange(100000000)\n",
    "x"
   ]
  },
  {
   "cell_type": "code",
   "execution_count": 2,
   "id": "9a574f7a",
   "metadata": {
    "hidden": true
   },
   "outputs": [
    {
     "name": "stderr",
     "output_type": "stream",
     "text": [
      "<timed exec>:8: RuntimeWarning: overflow encountered in long_scalars\n"
     ]
    },
    {
     "name": "stdout",
     "output_type": "stream",
     "text": [
      "887459712\n",
      "CPU times: total: 2.3 s\n",
      "Wall time: 8.7 s\n"
     ]
    }
   ],
   "source": [
    "%%time\n",
    "# 해당 셀을 수행하는데 소요된 시간을 표기해주는 주피터 노트북 명렁어\n",
    "# 셀의 가장 상단에 위치해야함(주석 포함해서 가장 상단에 위치해야 함)\n",
    "\n",
    "# 반복문을 통한 합계(x변수에 저장한 넘파이 배열 총합 구하기)\n",
    "# 시간단위 1s = 1000ms = 100000㎛\n",
    "loop_result = 0\n",
    "for i in x:\n",
    "    loop_result +=i\n",
    "print(loop_result)"
   ]
  },
  {
   "cell_type": "code",
   "execution_count": 3,
   "id": "82583c8c",
   "metadata": {
    "hidden": true
   },
   "outputs": [
    {
     "name": "stdout",
     "output_type": "stream",
     "text": [
      "CPU times: total: 0 ns\n",
      "Wall time: 41.8 ms\n"
     ]
    },
    {
     "data": {
      "text/plain": [
       "887459712"
      ]
     },
     "execution_count": 3,
     "metadata": {},
     "output_type": "execute_result"
    }
   ],
   "source": [
    "%%time\n",
    "x.sum()"
   ]
  },
  {
   "cell_type": "code",
   "execution_count": 4,
   "id": "8bdc292f",
   "metadata": {
    "hidden": true
   },
   "outputs": [],
   "source": [
    "# (공통) 라이브러리 불러오기 및 사용자 함수 정의\n",
    "def np_print(nparr):\n",
    "    print('''\n",
    "    type : {}\n",
    "    shape : {}\n",
    "    dimension : {}\n",
    "    dtype : {}\n",
    "    data :\\n {}\n",
    "    '''.format(type(nparr), nparr.shape, nparr.ndim, nparr.dtype, nparr))"
   ]
  },
  {
   "cell_type": "markdown",
   "id": "11dea68a",
   "metadata": {
    "heading_collapsed": true
   },
   "source": [
    "## 배열 정렬"
   ]
  },
  {
   "cell_type": "markdown",
   "id": "ba424495",
   "metadata": {
    "hidden": true
   },
   "source": [
    "- sort(axis = -1) 메서드 : axis를 기준으로 요소를 오름차순 정렬\n",
    "    - 기본값(axis = -1) : 현재 배열의 마지막 axis\n",
    "    - axis = 0 : 열 단위 정렬\n",
    "    - axis = 1 : 행 단위 정렬\n",
    "    - 원본 객체에 정렬 결과가 반영됨\n",
    "- np.sort(axis = -1) : axis를 기준으로 요소를 오름차순 정렬\n",
    "    - 기본값(axis = -1) : 현재 배열의 마지막 axis\n",
    "    - axis = 0 : 열 단위 정렬\n",
    "    - axis = 1 : 행 단위 정렬\n",
    "    - 정렬된 새로운 배열을 반환함\n",
    "- np.argsort(arr) : 정렬 순서를 반환\n",
    "    - 기본값(axis = -1) : 현재 배열의 마지막 axis\n",
    "    - axis = 0 : 열 단위 정렬\n",
    "    - axis = 1 : 행 단위 정렬"
   ]
  },
  {
   "cell_type": "code",
   "execution_count": 5,
   "id": "7268f1bf",
   "metadata": {
    "hidden": true
   },
   "outputs": [
    {
     "name": "stdout",
     "output_type": "stream",
     "text": [
      "\n",
      "    type : <class 'numpy.ndarray'>\n",
      "    shape : (5,)\n",
      "    dimension : 1\n",
      "    dtype : int32\n",
      "    data :\n",
      " [0 1 2 3 4]\n",
      "    \n"
     ]
    }
   ],
   "source": [
    "# 1차원 배열 생성\n",
    "x = np.arange(0,5)\n",
    "np_print(x)"
   ]
  },
  {
   "cell_type": "code",
   "execution_count": 6,
   "id": "ab36a986",
   "metadata": {
    "hidden": true
   },
   "outputs": [
    {
     "data": {
      "text/plain": [
       "array([4, 3, 2, 1, 0])"
      ]
     },
     "execution_count": 6,
     "metadata": {},
     "output_type": "execute_result"
    }
   ],
   "source": [
    "# 기본 파이썬 문법으로 순번 뒤집기\n",
    "x[::-1]"
   ]
  },
  {
   "cell_type": "code",
   "execution_count": 7,
   "id": "1d988b22",
   "metadata": {
    "hidden": true
   },
   "outputs": [],
   "source": [
    "# 난수 패턴 고정\n",
    "np.random.seed(20)"
   ]
  },
  {
   "cell_type": "code",
   "execution_count": 8,
   "id": "a05f7f1a",
   "metadata": {
    "hidden": true
   },
   "outputs": [
    {
     "name": "stdout",
     "output_type": "stream",
     "text": [
      "\n",
      "    type : <class 'numpy.ndarray'>\n",
      "    shape : (5,)\n",
      "    dimension : 1\n",
      "    dtype : int32\n",
      "    data :\n",
      " [3 9 4 6 7]\n",
      "    \n"
     ]
    }
   ],
   "source": [
    "# 오름차순 정렬\n",
    "a = np.random.randint(0,10,5)\n",
    "np_print(a)"
   ]
  },
  {
   "cell_type": "markdown",
   "id": "53bb9bba",
   "metadata": {
    "hidden": true
   },
   "source": [
    "### np.sort(자료) -> 원본에 반영되지 않음"
   ]
  },
  {
   "cell_type": "code",
   "execution_count": 9,
   "id": "bc57178f",
   "metadata": {
    "hidden": true
   },
   "outputs": [
    {
     "data": {
      "text/plain": [
       "array([3, 4, 6, 7, 9])"
      ]
     },
     "execution_count": 9,
     "metadata": {},
     "output_type": "execute_result"
    }
   ],
   "source": [
    "np.sort(a)"
   ]
  },
  {
   "cell_type": "code",
   "execution_count": 10,
   "id": "c96aa639",
   "metadata": {
    "hidden": true
   },
   "outputs": [
    {
     "data": {
      "text/plain": [
       "array([3, 9, 4, 6, 7])"
      ]
     },
     "execution_count": 10,
     "metadata": {},
     "output_type": "execute_result"
    }
   ],
   "source": [
    "a"
   ]
  },
  {
   "cell_type": "markdown",
   "id": "8cb197db",
   "metadata": {
    "hidden": true
   },
   "source": [
    "### arr.sort() -> 원본자료 변경"
   ]
  },
  {
   "cell_type": "code",
   "execution_count": 11,
   "id": "e6b376e4",
   "metadata": {
    "hidden": true
   },
   "outputs": [
    {
     "data": {
      "text/plain": [
       "array([3, 4, 6, 7, 9])"
      ]
     },
     "execution_count": 11,
     "metadata": {},
     "output_type": "execute_result"
    }
   ],
   "source": [
    "a.sort()\n",
    "a"
   ]
  },
  {
   "cell_type": "code",
   "execution_count": 12,
   "id": "b4998f17",
   "metadata": {
    "hidden": true
   },
   "outputs": [
    {
     "data": {
      "text/plain": [
       "array([3, 4, 6, 7, 9])"
      ]
     },
     "execution_count": 12,
     "metadata": {},
     "output_type": "execute_result"
    }
   ],
   "source": [
    "a"
   ]
  },
  {
   "cell_type": "markdown",
   "id": "e65b24e4",
   "metadata": {
    "hidden": true
   },
   "source": [
    "### np.argsort()"
   ]
  },
  {
   "cell_type": "markdown",
   "id": "2ed42def",
   "metadata": {
    "hidden": true
   },
   "source": [
    "- np.argsort(자료)는 내부의 아이템을 오름차순으로 정렬하기 위해서\n",
    "- 현재 몇 번 인덱스에 있는 자료를 어디에 배치해야하는지  보여줌"
   ]
  },
  {
   "cell_type": "code",
   "execution_count": 13,
   "id": "d4cc80c1",
   "metadata": {
    "hidden": true
   },
   "outputs": [
    {
     "name": "stdout",
     "output_type": "stream",
     "text": [
      "\n",
      "    type : <class 'numpy.ndarray'>\n",
      "    shape : (5,)\n",
      "    dimension : 1\n",
      "    dtype : int32\n",
      "    data :\n",
      " [2 0 6 8 5]\n",
      "    \n"
     ]
    }
   ],
   "source": [
    "b = np.random.randint(0,10,5)\n",
    "np_print(b)"
   ]
  },
  {
   "cell_type": "code",
   "execution_count": 14,
   "id": "0434f8ce",
   "metadata": {
    "hidden": true
   },
   "outputs": [
    {
     "data": {
      "text/plain": [
       "array([1, 0, 4, 2, 3], dtype=int64)"
      ]
     },
     "execution_count": 14,
     "metadata": {},
     "output_type": "execute_result"
    }
   ],
   "source": [
    "np.argsort(b)"
   ]
  },
  {
   "cell_type": "code",
   "execution_count": 15,
   "id": "89a4418e",
   "metadata": {
    "hidden": true
   },
   "outputs": [
    {
     "name": "stdout",
     "output_type": "stream",
     "text": [
      "\n",
      "    type : <class 'numpy.ndarray'>\n",
      "    shape : (3, 3)\n",
      "    dimension : 2\n",
      "    dtype : float64\n",
      "    data :\n",
      " [[0.65795147 0.19385022 0.2723164 ]\n",
      " [0.71860593 0.78300361 0.85032764]\n",
      " [0.77524489 0.03666431 0.11669374]]\n",
      "    \n",
      "\n",
      "    type : <class 'numpy.ndarray'>\n",
      "    shape : (3, 3)\n",
      "    dimension : 2\n",
      "    dtype : float64\n",
      "    data :\n",
      " [[0.7512807  0.23921822 0.25480601]\n",
      " [0.85762553 0.94977903 0.56168686]\n",
      " [0.17878052 0.77025193 0.49238104]]\n",
      "    \n"
     ]
    }
   ],
   "source": [
    "# 0이상 1미만의 범위에서 무작위로 실수값을 가지는 3행3열의 배열 2개 생성\n",
    "a = np.random.rand(3,3)\n",
    "b = np.random.rand(3,3)\n",
    "np_print(a)\n",
    "np_print(b)"
   ]
  },
  {
   "cell_type": "markdown",
   "id": "10c9b73a",
   "metadata": {
    "hidden": true
   },
   "source": [
    "### axis = -1 (행별 정렬)\n",
    "- 기본값 axis = -1 <br>\n",
    "- 현재 배열의 axis = 0, 1 <br>\n",
    "- 마지막 axis = 1 (행별 정렬)\n",
    "![sortaxis1](https://user-images.githubusercontent.com/105966480/196830939-fb85b998-c77a-48a5-89ab-cb51f8f8a076.jpg)"
   ]
  },
  {
   "cell_type": "code",
   "execution_count": 16,
   "id": "3808f613",
   "metadata": {
    "hidden": true
   },
   "outputs": [
    {
     "name": "stdout",
     "output_type": "stream",
     "text": [
      "\n",
      "    type : <class 'numpy.ndarray'>\n",
      "    shape : (3, 3)\n",
      "    dimension : 2\n",
      "    dtype : float64\n",
      "    data :\n",
      " [[0.65795147 0.19385022 0.2723164 ]\n",
      " [0.71860593 0.78300361 0.85032764]\n",
      " [0.77524489 0.03666431 0.11669374]]\n",
      "    \n"
     ]
    },
    {
     "data": {
      "text/plain": [
       "array([[0.19385022, 0.2723164 , 0.65795147],\n",
       "       [0.71860593, 0.78300361, 0.85032764],\n",
       "       [0.03666431, 0.11669374, 0.77524489]])"
      ]
     },
     "execution_count": 16,
     "metadata": {},
     "output_type": "execute_result"
    }
   ],
   "source": [
    "# -1번방향(axis = -1 )-> 행별 정렬\n",
    "np_print(a)\n",
    "np.sort(a,axis=-1)"
   ]
  },
  {
   "cell_type": "markdown",
   "id": "f8e27b4d",
   "metadata": {
    "hidden": true
   },
   "source": [
    "### axis = 0 (열별 정렬)\n",
    "![sortaxis0](https://user-images.githubusercontent.com/105966480/196830944-b20e3c87-4dd4-46aa-adf2-9e8a340e3027.jpg)"
   ]
  },
  {
   "cell_type": "code",
   "execution_count": 17,
   "id": "eab86dae",
   "metadata": {
    "hidden": true
   },
   "outputs": [
    {
     "name": "stdout",
     "output_type": "stream",
     "text": [
      "\n",
      "    type : <class 'numpy.ndarray'>\n",
      "    shape : (3, 3)\n",
      "    dimension : 2\n",
      "    dtype : float64\n",
      "    data :\n",
      " [[0.65795147 0.19385022 0.2723164 ]\n",
      " [0.71860593 0.78300361 0.85032764]\n",
      " [0.77524489 0.03666431 0.11669374]]\n",
      "    \n"
     ]
    },
    {
     "data": {
      "text/plain": [
       "array([[0.65795147, 0.03666431, 0.11669374],\n",
       "       [0.71860593, 0.19385022, 0.2723164 ],\n",
       "       [0.77524489, 0.78300361, 0.85032764]])"
      ]
     },
     "execution_count": 17,
     "metadata": {},
     "output_type": "execute_result"
    }
   ],
   "source": [
    "# -1번방향(axis = -1 )-> 컬럼별 정렬\n",
    "np_print(a)\n",
    "np.sort(a,axis = 0)"
   ]
  },
  {
   "cell_type": "markdown",
   "id": "5a304ddc",
   "metadata": {
    "heading_collapsed": true
   },
   "source": [
    "## 인덱싱(Indexing), 슬라이싱(Slicing)"
   ]
  },
  {
   "cell_type": "markdown",
   "id": "e353c976",
   "metadata": {
    "heading_collapsed": true,
    "hidden": true
   },
   "source": [
    "### 인덱싱 : 하나의 요소에 대해 참조"
   ]
  },
  {
   "cell_type": "markdown",
   "id": "84f58dd9",
   "metadata": {
    "hidden": true
   },
   "source": [
    "- 각 차원에 따라 배열이 참조하는 인덱스의 개수가 다름\n",
    "    - 1차원 배열 : 인덱스 1개\n",
    "    - 2차원 배열 : 인덱스 2개\n",
    "    - 3차원 배열 : 인덱스 3개\n",
    "- 인덱싱으로 참조한 요소에 대해 수정 가능\n",
    "- 인덱스 배열을 전달하여 여러 개의 요소 참조"
   ]
  },
  {
   "cell_type": "markdown",
   "id": "5e457e41",
   "metadata": {
    "heading_collapsed": true,
    "hidden": true
   },
   "source": [
    "#### 1차원 배열"
   ]
  },
  {
   "cell_type": "code",
   "execution_count": 18,
   "id": "66055f92",
   "metadata": {
    "hidden": true
   },
   "outputs": [
    {
     "name": "stdout",
     "output_type": "stream",
     "text": [
      "\n",
      "    type : <class 'numpy.ndarray'>\n",
      "    shape : (24,)\n",
      "    dimension : 1\n",
      "    dtype : int32\n",
      "    data :\n",
      " [ 0  1  2  3  4  5  6  7  8  9 10 11 12 13 14 15 16 17 18 19 20 21 22 23]\n",
      "    \n"
     ]
    }
   ],
   "source": [
    "# 0부터 23까지 1씩 증가하는 값을 아이템으로 가지는 1차원 배열 생성\n",
    "arr1 = np.arange(0,24)\n",
    "np_print(arr1)"
   ]
  },
  {
   "cell_type": "code",
   "execution_count": 19,
   "id": "460473ea",
   "metadata": {
    "hidden": true
   },
   "outputs": [
    {
     "data": {
      "text/plain": [
       "1"
      ]
     },
     "execution_count": 19,
     "metadata": {},
     "output_type": "execute_result"
    }
   ],
   "source": [
    "# 1차원 배열 인덱싱: 1번 인덱스 요소 접근\n",
    "arr1[1]"
   ]
  },
  {
   "cell_type": "code",
   "execution_count": 20,
   "id": "ca6bdee2",
   "metadata": {
    "hidden": true
   },
   "outputs": [
    {
     "data": {
      "text/plain": [
       "23"
      ]
     },
     "execution_count": 20,
     "metadata": {},
     "output_type": "execute_result"
    }
   ],
   "source": [
    "# 1차원 배열 인덱싱: 마지막 요소 접근\n",
    "arr1[-1]"
   ]
  },
  {
   "cell_type": "code",
   "execution_count": 21,
   "id": "66808fc8",
   "metadata": {
    "hidden": true
   },
   "outputs": [
    {
     "data": {
      "text/plain": [
       "array([  0,   1,   2,   3,   4,   5,   6,   7,   8,   9,  10,  11,  12,\n",
       "        13,  14,  15,  16,  17,  18,  19,  20,  21,  22, 100])"
      ]
     },
     "execution_count": 21,
     "metadata": {},
     "output_type": "execute_result"
    }
   ],
   "source": [
    "# 1차원 배열 인덱싱을 통한 값 수정\n",
    "arr1[-1] = 100\n",
    "arr1"
   ]
  },
  {
   "cell_type": "markdown",
   "id": "ba1fa98a",
   "metadata": {
    "heading_collapsed": true,
    "hidden": true
   },
   "source": [
    "#### 2차원 배열"
   ]
  },
  {
   "cell_type": "code",
   "execution_count": 22,
   "id": "4c19d8fd",
   "metadata": {
    "hidden": true
   },
   "outputs": [
    {
     "name": "stdout",
     "output_type": "stream",
     "text": [
      "\n",
      "    type : <class 'numpy.ndarray'>\n",
      "    shape : (4, 6)\n",
      "    dimension : 2\n",
      "    dtype : int32\n",
      "    data :\n",
      " [[  0   1   2   3   4   5]\n",
      " [  6   7   8   9  10  11]\n",
      " [ 12  13  14  15  16  17]\n",
      " [ 18  19  20  21  22 100]]\n",
      "    \n"
     ]
    }
   ],
   "source": [
    "# 배열 arr1을 이용해 4x6 형태의 2차원 배열 arr2만들기\n",
    "arr2 = arr1.reshape(4,6)\n",
    "np_print(arr2)"
   ]
  },
  {
   "cell_type": "code",
   "execution_count": 23,
   "id": "392a9e05",
   "metadata": {
    "hidden": true
   },
   "outputs": [
    {
     "data": {
      "text/plain": [
       "array([0, 1, 2, 3, 4, 5])"
      ]
     },
     "execution_count": 23,
     "metadata": {},
     "output_type": "execute_result"
    }
   ],
   "source": [
    "# 2차원 배열 인덱싱: 2차원배열[행인덱스,(열인덱스)]\n",
    "# 하나의 행에 접근: 1행\n",
    "arr2[0]"
   ]
  },
  {
   "cell_type": "code",
   "execution_count": 24,
   "id": "f8d1666b",
   "metadata": {
    "hidden": true
   },
   "outputs": [
    {
     "data": {
      "text/plain": [
       "9"
      ]
     },
     "execution_count": 24,
     "metadata": {},
     "output_type": "execute_result"
    }
   ],
   "source": [
    "arr2[1][3]"
   ]
  },
  {
   "cell_type": "code",
   "execution_count": 25,
   "id": "dd2a4314",
   "metadata": {
    "hidden": true
   },
   "outputs": [
    {
     "name": "stdout",
     "output_type": "stream",
     "text": [
      "[[  0   1   2   3   4   5]\n",
      " [  6   7   8   9  10  11]\n",
      " [ 12  13  14  15  16  17]\n",
      " [ 18  19  20  21  22 100]] \n",
      "\n",
      "[ 1  7 13 19]\n"
     ]
    }
   ],
   "source": [
    "# 하나의 열에 접근: 모든 행에 대해서 하나의 열에 접근\n",
    "# 반환값: 1d array\n",
    "print(arr2,'\\n')\n",
    "print(arr2[:,1])"
   ]
  },
  {
   "cell_type": "code",
   "execution_count": 26,
   "id": "56acda87",
   "metadata": {
    "hidden": true
   },
   "outputs": [
    {
     "name": "stdout",
     "output_type": "stream",
     "text": [
      "[[  0   1   2   3   4   5]\n",
      " [  6   7   8   9  10  11]\n",
      " [ 12  13  14  15  16  17]\n",
      " [ 18  19  20  21  22 100]] \n",
      "\n",
      "14\n",
      "14\n"
     ]
    }
   ],
   "source": [
    "# 하나의 값에 접근\n",
    "print(arr2,'\\n')\n",
    "print(arr2[2][2])\n",
    "print(arr2[2,2])"
   ]
  },
  {
   "cell_type": "code",
   "execution_count": 27,
   "id": "946b6e6b",
   "metadata": {
    "hidden": true
   },
   "outputs": [
    {
     "name": "stdout",
     "output_type": "stream",
     "text": [
      "[[  0   1   2   3   4   5]\n",
      " [  6   7   8   9  10  11]\n",
      " [ 12  13  14  15  16  17]\n",
      " [ 18  19  20  21  22 100]] \n",
      "\n",
      "[[  0   1   2   3   4   5]\n",
      " [ 18  19  20  21  22 100]]\n"
     ]
    }
   ],
   "source": [
    "# 여러개의 행 조회\n",
    "print(arr2,'\\n')\n",
    "print(arr2[[0,3]])"
   ]
  },
  {
   "cell_type": "code",
   "execution_count": 28,
   "id": "baeb6658",
   "metadata": {
    "hidden": true
   },
   "outputs": [
    {
     "name": "stdout",
     "output_type": "stream",
     "text": [
      "[[  0   1   2   3   4   5]\n",
      " [  6   7   8   9  10  11]\n",
      " [ 12  13  14  15  16  17]\n",
      " [ 18  19  20  21  22 100]] \n",
      "\n",
      "[[ 0  2]\n",
      " [ 6  8]\n",
      " [12 14]\n",
      " [18 20]]\n"
     ]
    }
   ],
   "source": [
    "# 여러개의 열 조회\n",
    "print(arr2,'\\n')\n",
    "print(arr2[:,[0,2]])"
   ]
  },
  {
   "cell_type": "code",
   "execution_count": 29,
   "id": "ecc2280b",
   "metadata": {
    "hidden": true,
    "scrolled": true
   },
   "outputs": [
    {
     "name": "stdout",
     "output_type": "stream",
     "text": [
      "[[  0   1   2   3   4   5]\n",
      " [  6   7   8   9  10  11]\n",
      " [ 12  13  14  15  16  17]\n",
      " [ 18  19  20  21  22 100]] \n",
      "\n",
      "[[ 3  5]\n",
      " [15 17]] \n",
      "\n",
      "[[ 3  5]\n",
      " [15 17]]\n"
     ]
    }
   ],
   "source": [
    "# 0번째, 2번째 로우의 3번째, 5번째 컬럼을 가져오기\n",
    "print(arr2,'\\n')\n",
    "print(arr2[[0,2],[[3,3],[5,5]]].T,'\\n')\n",
    "print(arr2[[0,2]][:,[3,5]])"
   ]
  },
  {
   "cell_type": "code",
   "execution_count": 30,
   "id": "9ffd1e8e",
   "metadata": {
    "hidden": true
   },
   "outputs": [
    {
     "data": {
      "text/plain": [
       "array([[  0,   1,   2,   3,   4,   5],\n",
       "       [  6,   7,   8,   9,  10,  11],\n",
       "       [  9,   9,   9,   9,   9,   9],\n",
       "       [ 18,  19,  20,  21,  22, 100]])"
      ]
     },
     "execution_count": 30,
     "metadata": {},
     "output_type": "execute_result"
    }
   ],
   "source": [
    "# 2차원 배열 인덱싱을 통한 값 수정\n",
    "# 하나의 행/열에 대해 모두 동일한 값으로 수정: 전달하는 값을 스칼라 값으로 전달\n",
    "# 서로 다른 값을 수정: 배열 구조에 맞춰서 자료 전달\n",
    "# 하나의 값을 수정하는 예시\n",
    "arr2[2] = 9\n",
    "arr2"
   ]
  },
  {
   "cell_type": "code",
   "execution_count": 31,
   "id": "2c83f14f",
   "metadata": {
    "hidden": true
   },
   "outputs": [
    {
     "data": {
      "text/plain": [
       "array([[  0,   1,   2,   3,   4,   5],\n",
       "       [  9,   9,   9,  99,  99,  99],\n",
       "       [  9,   9,   9,   9,   9,   9],\n",
       "       [ 18,  19,  20,  21,  22, 100]])"
      ]
     },
     "execution_count": 31,
     "metadata": {},
     "output_type": "execute_result"
    }
   ],
   "source": [
    "# 단일 값이 아닌 여러 값을 대입하고 싶을 때는\n",
    "arr2[1] = [9,9,9,99,99,99]\n",
    "arr2"
   ]
  },
  {
   "cell_type": "markdown",
   "id": "18fdb2a3",
   "metadata": {
    "hidden": true
   },
   "source": [
    "#### 3차원 배열"
   ]
  },
  {
   "cell_type": "code",
   "execution_count": 32,
   "id": "4700405a",
   "metadata": {
    "hidden": true
   },
   "outputs": [
    {
     "name": "stdout",
     "output_type": "stream",
     "text": [
      "\n",
      "    type : <class 'numpy.ndarray'>\n",
      "    shape : (2, 4, 3)\n",
      "    dimension : 3\n",
      "    dtype : int32\n",
      "    data :\n",
      " [[[ 0  1  2]\n",
      "  [ 3  4  5]\n",
      "  [ 6  7  8]\n",
      "  [ 9 10 11]]\n",
      "\n",
      " [[12 13 14]\n",
      "  [15 16 17]\n",
      "  [18 19 20]\n",
      "  [21 22 23]]]\n",
      "    \n"
     ]
    }
   ],
   "source": [
    "# 3차원 배열 생성\n",
    "# 구조: 2개의 층(페이지, 면), 4행 3열\n",
    "# np.arange() => 24개의 size\n",
    "arr3 = np.arange(0,24).reshape(2,4,3)\n",
    "np_print(arr3)"
   ]
  },
  {
   "cell_type": "code",
   "execution_count": 33,
   "id": "cccd93e7",
   "metadata": {
    "hidden": true
   },
   "outputs": [
    {
     "data": {
      "text/plain": [
       "array([[ 0,  1,  2],\n",
       "       [ 3,  4,  5],\n",
       "       [ 6,  7,  8],\n",
       "       [ 9, 10, 11]])"
      ]
     },
     "execution_count": 33,
     "metadata": {},
     "output_type": "execute_result"
    }
   ],
   "source": [
    "# 3차원 배열 인덱싱: arr[면,행,열]\n",
    "# 0번째 면(페이지) 접근\n",
    "arr3[0]"
   ]
  },
  {
   "cell_type": "code",
   "execution_count": 34,
   "id": "bc8daf40",
   "metadata": {
    "hidden": true
   },
   "outputs": [
    {
     "data": {
      "text/plain": [
       "array([3, 4, 5])"
      ]
     },
     "execution_count": 34,
     "metadata": {},
     "output_type": "execute_result"
    }
   ],
   "source": [
    "# 첫번째(0)면, 1번행 접근\n",
    "arr3[0,1]"
   ]
  },
  {
   "cell_type": "code",
   "execution_count": 35,
   "id": "c1b5ad52",
   "metadata": {
    "hidden": true
   },
   "outputs": [
    {
     "data": {
      "text/plain": [
       "3"
      ]
     },
     "execution_count": 35,
     "metadata": {},
     "output_type": "execute_result"
    }
   ],
   "source": [
    "# 첫번째 면, 1번 행, 0번 열에 접근\n",
    "arr3[0,1,0]"
   ]
  },
  {
   "cell_type": "code",
   "execution_count": 36,
   "id": "5b3b3a30",
   "metadata": {
    "hidden": true
   },
   "outputs": [
    {
     "data": {
      "text/plain": [
       "array([[[ 0,  1,  2],\n",
       "        [ 3,  4,  5],\n",
       "        [ 6,  7,  8],\n",
       "        [ 9, 10, 11]],\n",
       "\n",
       "       [[ 0,  0,  0],\n",
       "        [ 0,  0,  0],\n",
       "        [ 0,  0,  0],\n",
       "        [ 0,  0,  0]]])"
      ]
     },
     "execution_count": 36,
     "metadata": {},
     "output_type": "execute_result"
    }
   ],
   "source": [
    "# 3차원 배열 역시 배열 인덱싱으로 값 수정이 가능하다\n",
    "# 스칼라 연산을 통한 동일한 값으로 수정\n",
    "# arr3의 2번면(1번 인덱스)를 0으로 일괄 변경하기\n",
    "arr3[1] = 0\n",
    "arr3"
   ]
  },
  {
   "cell_type": "code",
   "execution_count": 37,
   "id": "2ac01ee6",
   "metadata": {
    "hidden": true
   },
   "outputs": [
    {
     "data": {
      "text/plain": [
       "array([[[ 0,  1,  2],\n",
       "        [ 1,  2,  3],\n",
       "        [ 6,  7,  8],\n",
       "        [ 9, 10, 11]],\n",
       "\n",
       "       [[ 0,  0,  0],\n",
       "        [ 0,  0,  0],\n",
       "        [ 0,  0,  0],\n",
       "        [ 0,  0,  0]]])"
      ]
     },
     "execution_count": 37,
     "metadata": {},
     "output_type": "execute_result"
    }
   ],
   "source": [
    "# 하나의 면에 대해 서로 다른 값으로 수정: 1번면, 1번행을 [1,2,3]으로 바꾸기\n",
    "arr3[0,1] = [1,2,3]\n",
    "arr3"
   ]
  },
  {
   "cell_type": "code",
   "execution_count": 38,
   "id": "c27782cf",
   "metadata": {
    "hidden": true
   },
   "outputs": [
    {
     "data": {
      "text/plain": [
       "array([[[10, 20, 30],\n",
       "        [40, 50, 60],\n",
       "        [ 0,  0,  0],\n",
       "        [ 0,  0,  0]],\n",
       "\n",
       "       [[ 0,  0,  0],\n",
       "        [ 0,  0,  0],\n",
       "        [ 0,  0,  0],\n",
       "        [ 0,  0,  0]]])"
      ]
     },
     "execution_count": 38,
     "metadata": {},
     "output_type": "execute_result"
    }
   ],
   "source": [
    "# 아니면 아예 3*4형식으로대입을 해버리는 방법도 있다\n",
    "arr3[0] = [[10,20,30],\n",
    "          [40,50,60],\n",
    "          [0,0,0],\n",
    "          [0,0,0]]\n",
    "arr3"
   ]
  },
  {
   "cell_type": "code",
   "execution_count": 39,
   "id": "be3d01e7",
   "metadata": {
    "hidden": true
   },
   "outputs": [
    {
     "data": {
      "text/plain": [
       "10"
      ]
     },
     "execution_count": 39,
     "metadata": {},
     "output_type": "execute_result"
    }
   ],
   "source": [
    "# 인덱스 배열을 전달하여 여러 개의 요소 참조\n",
    "# (기존 인덱싱 방법)0번째 장 0행 0열, 1행 1열, 2행 2열 요소에 접근\n",
    "arr3[0,0,0] #10\n",
    "# arr3[0,1,1] #50\n",
    "# arr3[0,2,2] #0"
   ]
  },
  {
   "cell_type": "code",
   "execution_count": 40,
   "id": "ef376f6e",
   "metadata": {
    "hidden": true
   },
   "outputs": [
    {
     "data": {
      "text/plain": [
       "array([[[10, 20, 30],\n",
       "        [40, 50, 60],\n",
       "        [ 0,  0,  0]],\n",
       "\n",
       "       [[10, 20, 30],\n",
       "        [40, 50, 60],\n",
       "        [ 0,  0,  0]],\n",
       "\n",
       "       [[10, 20, 30],\n",
       "        [ 0,  0,  0],\n",
       "        [ 0,  0,  0]]])"
      ]
     },
     "execution_count": 40,
     "metadata": {},
     "output_type": "execute_result"
    }
   ],
   "source": [
    "# 여러 개의 인덱싱을 배열로 전달\n",
    "# (행0,열0),(행1,열1),(행2,열2)\n",
    "# 3차원 배열일 경우에: [페이지,[[0,1,2],[0,1,2]]]\n",
    "# arr3[면,행,열] -> 만약 여러 단위를 조회할때는 이중리스트로 입력\n",
    "# 삼중리스트 입력시 이중리스트 요소를 반복\n",
    "arr3[0,[[0,1,2],[0,1,2],[0,2,3]]]"
   ]
  },
  {
   "cell_type": "code",
   "execution_count": 41,
   "id": "6063042b",
   "metadata": {
    "hidden": true
   },
   "outputs": [
    {
     "data": {
      "text/plain": [
       "array([[[10, 20, 30],\n",
       "        [40, 50, 60],\n",
       "        [ 0,  0,  0]],\n",
       "\n",
       "       [[ 0,  0,  0],\n",
       "        [ 0,  0,  0],\n",
       "        [ 0,  0,  0]]])"
      ]
     },
     "execution_count": 41,
     "metadata": {},
     "output_type": "execute_result"
    }
   ],
   "source": [
    "arr3[0:,[0,1,2]]"
   ]
  },
  {
   "cell_type": "markdown",
   "id": "3dccd6cc",
   "metadata": {
    "heading_collapsed": true,
    "hidden": true
   },
   "source": [
    "### 슬라이싱 : 여러 개의 요소에 대해 참조"
   ]
  },
  {
   "cell_type": "markdown",
   "id": "639b4aed",
   "metadata": {
    "hidden": true
   },
   "source": [
    "- axis 별로 범위 지정\n",
    "    - from_index : 시작 인덱스(포함), 0일 경우 생략 가능\n",
    "    - to_index : 종료 인덱스(미포함), 마지막 인덱스일 경우 생략 가능\n",
    "    - step : 연속되지 않은 범위의 경우 간격 지정\n",
    "- 열만 조회하는 경우 : 전체 행에 슬라이싱으로 접근 후 특정 열을 조회"
   ]
  },
  {
   "cell_type": "markdown",
   "id": "9d7df882",
   "metadata": {
    "heading_collapsed": true,
    "hidden": true
   },
   "source": [
    "### 1차원 배열"
   ]
  },
  {
   "cell_type": "code",
   "execution_count": 42,
   "id": "8754fdd8",
   "metadata": {
    "hidden": true
   },
   "outputs": [
    {
     "name": "stdout",
     "output_type": "stream",
     "text": [
      "\n",
      "    type : <class 'numpy.ndarray'>\n",
      "    shape : (24,)\n",
      "    dimension : 1\n",
      "    dtype : int32\n",
      "    data :\n",
      " [ 0  1  2  3  4  5  6  7  8  9 10 11 12 13 14 15 16 17 18 19 20 21 22 23]\n",
      "    \n"
     ]
    }
   ],
   "source": [
    "# 0부터 23까지 1씩 증가하는 정수값을 가지는 1차원 배열 생성\n",
    "a = np.arange(0,24)\n",
    "np_print(a)"
   ]
  },
  {
   "cell_type": "code",
   "execution_count": 43,
   "id": "574f86a6",
   "metadata": {
    "hidden": true
   },
   "outputs": [
    {
     "data": {
      "text/plain": [
       "array([1, 2, 3, 4])"
      ]
     },
     "execution_count": 43,
     "metadata": {},
     "output_type": "execute_result"
    }
   ],
   "source": [
    "# 1차원 배열 슬라이싱: 1번부터 4번까지 접근\n",
    "a[1:5]"
   ]
  },
  {
   "cell_type": "code",
   "execution_count": 44,
   "id": "c0a6d505",
   "metadata": {
    "hidden": true
   },
   "outputs": [
    {
     "data": {
      "text/plain": [
       "array([ 1,  3,  5,  7,  9, 11, 13])"
      ]
     },
     "execution_count": 44,
     "metadata": {},
     "output_type": "execute_result"
    }
   ],
   "source": [
    "# 1번째 인덱스로부터 14번째 인덱스까지 2개씩 건너뛰며 접근\n",
    "a[1:15:2]"
   ]
  },
  {
   "cell_type": "markdown",
   "id": "b965f76c",
   "metadata": {
    "heading_collapsed": true,
    "hidden": true
   },
   "source": [
    "### 2차원 배열"
   ]
  },
  {
   "cell_type": "code",
   "execution_count": 45,
   "id": "01f84cd9",
   "metadata": {
    "hidden": true
   },
   "outputs": [
    {
     "name": "stdout",
     "output_type": "stream",
     "text": [
      "\n",
      "    type : <class 'numpy.ndarray'>\n",
      "    shape : (6, 4)\n",
      "    dimension : 2\n",
      "    dtype : int32\n",
      "    data :\n",
      " [[ 0  1  2  3]\n",
      " [ 4  5  6  7]\n",
      " [ 8  9 10 11]\n",
      " [12 13 14 15]\n",
      " [16 17 18 19]\n",
      " [20 21 22 23]]\n",
      "    \n"
     ]
    }
   ],
   "source": [
    "# 2차원 배열 생성\n",
    "b = a.reshape(6,4)\n",
    "np_print(b)"
   ]
  },
  {
   "cell_type": "code",
   "execution_count": 46,
   "id": "102a47f2",
   "metadata": {
    "hidden": true
   },
   "outputs": [
    {
     "data": {
      "text/plain": [
       "array([[ 0,  1,  2,  3],\n",
       "       [ 4,  5,  6,  7],\n",
       "       [ 8,  9, 10, 11],\n",
       "       [12, 13, 14, 15]])"
      ]
     },
     "execution_count": 46,
     "metadata": {},
     "output_type": "execute_result"
    }
   ],
   "source": [
    "# 2차원 배열 슬라이싱: 1행부터 4행까지 접근\n",
    "# 2d_array[행,(:열:간격)]\n",
    "b[0:4]"
   ]
  },
  {
   "cell_type": "code",
   "execution_count": 47,
   "id": "66a5fbdd",
   "metadata": {
    "hidden": true
   },
   "outputs": [
    {
     "data": {
      "text/plain": [
       "array([[ 6,  7],\n",
       "       [10, 11],\n",
       "       [14, 15],\n",
       "       [18, 19]])"
      ]
     },
     "execution_count": 47,
     "metadata": {},
     "output_type": "execute_result"
    }
   ],
   "source": [
    "# 1행부터 4행에 대해서, 2열부터 3열까지 접근\n",
    "b[1:5,2:4]"
   ]
  },
  {
   "cell_type": "code",
   "execution_count": 48,
   "id": "d85c3eb3",
   "metadata": {
    "hidden": true
   },
   "outputs": [
    {
     "data": {
      "text/plain": [
       "array([[ 6,  7],\n",
       "       [10, 11],\n",
       "       [14, 15],\n",
       "       [18, 19]])"
      ]
     },
     "execution_count": 48,
     "metadata": {},
     "output_type": "execute_result"
    }
   ],
   "source": [
    "# 2차원 배열 슬라이싱을 통한 값 수정\n",
    "# 1행부터 4행에 대해 2열부터 3열까지의 모든 배열에 대해서 수정\n",
    "s_arr =  b[1:5,2:4]\n",
    "s_arr"
   ]
  },
  {
   "cell_type": "code",
   "execution_count": 49,
   "id": "38562fae",
   "metadata": {
    "hidden": true
   },
   "outputs": [
    {
     "data": {
      "text/plain": [
       "array([[ 6,  7],\n",
       "       [99, 11],\n",
       "       [99, 15],\n",
       "       [99, 19]])"
      ]
     },
     "execution_count": 49,
     "metadata": {},
     "output_type": "execute_result"
    }
   ],
   "source": [
    "# 0번째 행과 마지막 열을 제외한 모든 값을 99로 수정\n",
    "s_arr[1:,:-1] = 99\n",
    "s_arr"
   ]
  },
  {
   "cell_type": "code",
   "execution_count": 50,
   "id": "ab85281b",
   "metadata": {
    "hidden": true
   },
   "outputs": [
    {
     "data": {
      "text/plain": [
       "array([[ 0,  1,  2,  3],\n",
       "       [ 4,  5,  6,  7],\n",
       "       [ 8,  9, 99, 11],\n",
       "       [12, 13, 99, 15],\n",
       "       [16, 17, 99, 19],\n",
       "       [20, 21, 22, 23]])"
      ]
     },
     "execution_count": 50,
     "metadata": {},
     "output_type": "execute_result"
    }
   ],
   "source": [
    "# 얕은 복사로 인한 원본배열의 변경\n",
    "b"
   ]
  },
  {
   "cell_type": "code",
   "execution_count": 51,
   "id": "4c242199",
   "metadata": {
    "hidden": true
   },
   "outputs": [
    {
     "data": {
      "text/plain": [
       "array([[ 1,  3],\n",
       "       [ 5,  7],\n",
       "       [ 9, 11],\n",
       "       [13, 15],\n",
       "       [17, 19],\n",
       "       [21, 23]])"
      ]
     },
     "execution_count": 51,
     "metadata": {},
     "output_type": "execute_result"
    }
   ],
   "source": [
    "# 2차원 배열 슬라이싱: 연속되지 않은 범위의 열에 대한 인덱싱\n",
    "# step1. 전체 행에 대해서 접근\n",
    "# step2. 여러 개의 열 인덱싱 배열 전달\n",
    "# b의 전체팽 +1,3번째 열\n",
    "# b[행,열]\n",
    "b[:,[1,3]]"
   ]
  },
  {
   "cell_type": "markdown",
   "id": "5614fe93",
   "metadata": {
    "heading_collapsed": true,
    "hidden": true
   },
   "source": [
    "### 연습문제"
   ]
  },
  {
   "cell_type": "markdown",
   "id": "4a4cf4e5",
   "metadata": {
    "hidden": true
   },
   "source": [
    "- 아래 정보는 학생들의 학번, 영어 성적, 국어 성적, 수학 성적 정보 입니다.\n",
    "- 해당 정보를 첫번째 행(row)에 학번, 두번째 행에 영어 성적, 세번째 행에 국어 성적, 네번째 행에 수학 성적을 저장한 배열로 만들고 학생별로 영어 성적을 오름차순 기준으로 각 열(column)을 정렬하세요.\n",
    "![sort_q1](https://user-images.githubusercontent.com/105966480/196847887-85caffe3-5a38-4991-bdf5-61db7683a405.PNG)"
   ]
  },
  {
   "cell_type": "code",
   "execution_count": 52,
   "id": "b4fff922",
   "metadata": {
    "hidden": true,
    "scrolled": true
   },
   "outputs": [
    {
     "data": {
      "text/plain": [
       "array([[ 1,  2,  3,  4],\n",
       "       [70, 97, 45, 56],\n",
       "       [87, 84, 33, 67],\n",
       "       [46, 80, 75, 78]])"
      ]
     },
     "execution_count": 52,
     "metadata": {},
     "output_type": "execute_result"
    }
   ],
   "source": [
    "data = [[1, 2, 3, 4],\n",
    "       [70, 97, 45, 56],\n",
    "       [87, 84, 33, 67],\n",
    "       [46, 80, 75, 78]]\n",
    "arr = np.array(data)\n",
    "arr"
   ]
  },
  {
   "cell_type": "code",
   "execution_count": 53,
   "id": "ac9dc476",
   "metadata": {
    "hidden": true
   },
   "outputs": [
    {
     "data": {
      "text/plain": [
       "array([[ 3,  4,  1,  2],\n",
       "       [45, 56, 70, 97],\n",
       "       [33, 67, 87, 84],\n",
       "       [75, 78, 46, 80]])"
      ]
     },
     "execution_count": 53,
     "metadata": {},
     "output_type": "execute_result"
    }
   ],
   "source": [
    "arr[:, arr[1].argsort()]"
   ]
  },
  {
   "cell_type": "markdown",
   "id": "cbeb99bc",
   "metadata": {
    "heading_collapsed": true
   },
   "source": [
    "## 조건색인(Boolean Indexing)"
   ]
  },
  {
   "cell_type": "markdown",
   "id": "1dff566f",
   "metadata": {
    "hidden": true
   },
   "source": [
    "- 배열의 요소에 대해 조건을 적용하여 True, False로 조건에 대한 결과 반환\n",
    "- True에 해당하는 요소만 조회하여 조건을 만족하는 결과 반환"
   ]
  },
  {
   "cell_type": "code",
   "execution_count": 54,
   "id": "d45bbe04",
   "metadata": {
    "hidden": true,
    "scrolled": true
   },
   "outputs": [
    {
     "data": {
      "text/plain": [
       "array([[ 0,  1,  2,  3],\n",
       "       [ 4,  5,  6,  7],\n",
       "       [ 8,  9, 99, 11],\n",
       "       [12, 13, 99, 15],\n",
       "       [16, 17, 99, 19],\n",
       "       [20, 21, 22, 23]])"
      ]
     },
     "execution_count": 54,
     "metadata": {},
     "output_type": "execute_result"
    }
   ],
   "source": [
    "b"
   ]
  },
  {
   "cell_type": "code",
   "execution_count": 55,
   "id": "749c7c03",
   "metadata": {
    "hidden": true
   },
   "outputs": [
    {
     "data": {
      "text/plain": [
       "array([[False, False, False, False],\n",
       "       [False, False, False, False],\n",
       "       [False, False,  True,  True],\n",
       "       [ True,  True,  True,  True],\n",
       "       [ True,  True,  True,  True],\n",
       "       [ True,  True,  True,  True]])"
      ]
     },
     "execution_count": 55,
     "metadata": {},
     "output_type": "execute_result"
    }
   ],
   "source": [
    "# 스칼라 연산을 이용해 10보다 큰 요소 조회하기\n",
    "b > 10"
   ]
  },
  {
   "cell_type": "code",
   "execution_count": 56,
   "id": "0b7b6c46",
   "metadata": {
    "hidden": true
   },
   "outputs": [
    {
     "data": {
      "text/plain": [
       "array([99, 11, 12, 13, 99, 15, 16, 17, 99, 19, 20, 21, 22, 23])"
      ]
     },
     "execution_count": 56,
     "metadata": {},
     "output_type": "execute_result"
    }
   ],
   "source": [
    "# 조건색인 방법\n",
    "# 자료[자료를 포함한 조건식]\n",
    "b[b>10]"
   ]
  },
  {
   "cell_type": "code",
   "execution_count": 57,
   "id": "6c4bf50b",
   "metadata": {
    "hidden": true
   },
   "outputs": [
    {
     "data": {
      "text/plain": [
       "array([ 2,  4,  6,  8, 12, 16, 20, 22])"
      ]
     },
     "execution_count": 57,
     "metadata": {},
     "output_type": "execute_result"
    }
   ],
   "source": [
    "# 조건 색인을 이용해 b에서 짝수인 것만 남기기\n",
    "# 조건 색인에 2개 이상의 조건을 걸고 싶을 때는 각 조건 하나하나마다 ()로 감싸주고\n",
    "# 조건 사이를 and인 경우 &로, or인 경우 |로 연결해준다.\n",
    "b[(b%2==0)&(b>0)]"
   ]
  },
  {
   "cell_type": "markdown",
   "id": "6699fcd3",
   "metadata": {
    "hidden": true
   },
   "source": [
    "### 연습문제"
   ]
  },
  {
   "cell_type": "markdown",
   "id": "bb3560d2",
   "metadata": {
    "hidden": true
   },
   "source": [
    "- 조건색인을 활용해 공무원시험의 합격자 평균을 구해주세요.\n",
    "- 합격점수는 60점 이상입니다.\n",
    "- 아래는 시험 점수 결과입니다.\n",
    "- [31, 30, 55, 34, 83, 75, 86, 60, 94, 80, 42, 37, 73, 80, 30, 65, 34, 55, 56, 51]"
   ]
  },
  {
   "cell_type": "code",
   "execution_count": 58,
   "id": "4eadf128",
   "metadata": {
    "hidden": true
   },
   "outputs": [
    {
     "data": {
      "text/plain": [
       "77.33333333333333"
      ]
     },
     "execution_count": 58,
     "metadata": {},
     "output_type": "execute_result"
    }
   ],
   "source": [
    "test_score = np.array([31, 30, 55, 34, 83, 75, 86, 60, 94, 80, 42, 37, 73, 80, 30, 65, 34, 55, 56, 51])\n",
    "test_score[test_score>=60].mean()"
   ]
  },
  {
   "cell_type": "markdown",
   "id": "eab0802a",
   "metadata": {
    "heading_collapsed": true
   },
   "source": [
    "## 배열 복사"
   ]
  },
  {
   "cell_type": "markdown",
   "id": "15ec290a",
   "metadata": {
    "hidden": true
   },
   "source": [
    "- 인덱싱, 슬라이싱을 통해 반환된 배열은 원본 배열에 대해 독립적인 새로운 객체가 아닌 원본 배열과 종속적인 객체\n",
    "- 원본과 독립적인 복사본인 배열을 생성: arr.copy()/np.copy(arr)"
   ]
  },
  {
   "cell_type": "code",
   "execution_count": 59,
   "id": "6fde7d68",
   "metadata": {
    "hidden": true
   },
   "outputs": [],
   "source": [
    "a = [1,2,3]\n",
    "a2 =[1,2,3]"
   ]
  },
  {
   "cell_type": "code",
   "execution_count": 60,
   "id": "9918a8b8",
   "metadata": {
    "hidden": true
   },
   "outputs": [],
   "source": [
    "# 얕은 복사\n",
    "b = a"
   ]
  },
  {
   "cell_type": "code",
   "execution_count": 61,
   "id": "5bb89b32",
   "metadata": {
    "hidden": true
   },
   "outputs": [],
   "source": [
    "# 깊은 복사 1\n",
    "c = a2[:]"
   ]
  },
  {
   "cell_type": "code",
   "execution_count": 62,
   "id": "93eb5f94",
   "metadata": {
    "hidden": true
   },
   "outputs": [
    {
     "name": "stdout",
     "output_type": "stream",
     "text": [
      "1\n",
      "1\n"
     ]
    }
   ],
   "source": [
    "print(b[0])\n",
    "print(c[0])"
   ]
  },
  {
   "cell_type": "code",
   "execution_count": 63,
   "id": "80e1943c",
   "metadata": {
    "hidden": true
   },
   "outputs": [],
   "source": [
    "b[0]=10\n",
    "c[0]=10"
   ]
  },
  {
   "cell_type": "code",
   "execution_count": 64,
   "id": "a788dc4b",
   "metadata": {
    "hidden": true
   },
   "outputs": [
    {
     "name": "stdout",
     "output_type": "stream",
     "text": [
      "[10, 2, 3] [1, 2, 3]\n"
     ]
    }
   ],
   "source": [
    "print(a,a2)"
   ]
  },
  {
   "cell_type": "code",
   "execution_count": 65,
   "id": "0c9032cc",
   "metadata": {
    "hidden": true
   },
   "outputs": [
    {
     "name": "stdout",
     "output_type": "stream",
     "text": [
      "\n",
      "    type : <class 'numpy.ndarray'>\n",
      "    shape : (2, 2)\n",
      "    dimension : 2\n",
      "    dtype : int32\n",
      "    data :\n",
      " [[0 1]\n",
      " [2 3]]\n",
      "    \n"
     ]
    }
   ],
   "source": [
    "# 0부터 3까지 범위로 1씩 증가하는 2*2구조 배열 생성\n",
    "arr1 = np.arange(0,4).reshape(2,2)\n",
    "np_print(arr1)"
   ]
  },
  {
   "cell_type": "code",
   "execution_count": 66,
   "id": "3a1dfcd5",
   "metadata": {
    "hidden": true
   },
   "outputs": [],
   "source": [
    "# 깊은 복사2\n",
    "arr2 = arr1.copy()"
   ]
  },
  {
   "cell_type": "code",
   "execution_count": 67,
   "id": "2fc1fe24",
   "metadata": {
    "hidden": true
   },
   "outputs": [],
   "source": [
    "# 얕은복사\n",
    "arr3 = arr1"
   ]
  },
  {
   "cell_type": "code",
   "execution_count": 68,
   "id": "5c8317dc",
   "metadata": {
    "hidden": true
   },
   "outputs": [],
   "source": [
    "arr2[0,0] = 100"
   ]
  },
  {
   "cell_type": "code",
   "execution_count": 69,
   "id": "ce3f814d",
   "metadata": {
    "hidden": true
   },
   "outputs": [
    {
     "name": "stdout",
     "output_type": "stream",
     "text": [
      "[[100   1]\n",
      " [  2   3]] \n",
      "\n",
      "[[0 1]\n",
      " [2 3]]\n"
     ]
    }
   ],
   "source": [
    "print(arr2,'\\n') # 깊은복사\n",
    "print(arr1) # 얕은복사"
   ]
  },
  {
   "cell_type": "markdown",
   "id": "09aba064",
   "metadata": {
    "heading_collapsed": true
   },
   "source": [
    "## 배열 변환"
   ]
  },
  {
   "cell_type": "markdown",
   "id": "e330a6b4",
   "metadata": {
    "hidden": true
   },
   "source": [
    "### 전치(Transpose)"
   ]
  },
  {
   "cell_type": "markdown",
   "id": "e412dfc2",
   "metadata": {
    "hidden": true
   },
   "source": [
    "- 배열의 행/열 인덱스가 바뀌는 변환\n",
    "- 배열객체.T : 행/열 인덱스가 바뀐 새로운 배열을 반환하며 원본은 변경되지 않음\n",
    "![transpose](https://user-images.githubusercontent.com/105966480/196864428-fe61594a-94c1-4991-8a6d-727d9f1b76e3.PNG)"
   ]
  },
  {
   "cell_type": "code",
   "execution_count": 70,
   "id": "9582cbcf",
   "metadata": {
    "hidden": true
   },
   "outputs": [
    {
     "name": "stdout",
     "output_type": "stream",
     "text": [
      "\n",
      "    type : <class 'numpy.ndarray'>\n",
      "    shape : (3, 4)\n",
      "    dimension : 2\n",
      "    dtype : int32\n",
      "    data :\n",
      " [[ 1  2  3  4]\n",
      " [ 5  6  7  8]\n",
      " [ 9 10 11 12]]\n",
      "    \n"
     ]
    }
   ],
   "source": [
    "# 1이상 12이하의 값을 가지는 3*4 구조의 배열 생성\n",
    "arr1 = np.arange(1,13).reshape(3,4)\n",
    "np_print(arr1)"
   ]
  },
  {
   "cell_type": "code",
   "execution_count": 71,
   "id": "e8ea1737",
   "metadata": {
    "hidden": true
   },
   "outputs": [
    {
     "name": "stdout",
     "output_type": "stream",
     "text": [
      "\n",
      "    type : <class 'numpy.ndarray'>\n",
      "    shape : (4, 3)\n",
      "    dimension : 2\n",
      "    dtype : int32\n",
      "    data :\n",
      " [[ 1  5  9]\n",
      " [ 2  6 10]\n",
      " [ 3  7 11]\n",
      " [ 4  8 12]]\n",
      "    \n"
     ]
    },
    {
     "data": {
      "text/plain": [
       "array([[ 1,  2,  3,  4],\n",
       "       [ 5,  6,  7,  8],\n",
       "       [ 9, 10, 11, 12]])"
      ]
     },
     "execution_count": 71,
     "metadata": {},
     "output_type": "execute_result"
    }
   ],
   "source": [
    "np_print(arr1.T) # 원본에 영향 없음\n",
    "arr1"
   ]
  },
  {
   "cell_type": "markdown",
   "id": "d47745b6",
   "metadata": {
    "heading_collapsed": true
   },
   "source": [
    "## 배열 형태 변경"
   ]
  },
  {
   "cell_type": "markdown",
   "id": "3bdd53e0",
   "metadata": {
    "hidden": true
   },
   "source": [
    "- arr.ravel(), np.ravel(arr)\n",
    "    - 다차원 배열을 1차원 배열로 변환\n",
    "    - np.ravel() : 1차원으로 변환되는 결과는 원본 배열에 반영되지 않음\n",
    "    - arr.ravel() : 1차원으로 변환하는 배열의 요소가 변경되면 원본 배열에도 반영됨\n",
    "- arr.reshape(new_shape), np.reshape(arr, new_shape)\n",
    "    - 원본 배열 객체의 구조(shape)를 변경\n",
    "    - 변경하려는 구조의 전체 요소 개수와 원본 배열의 전체 요소 개수가 동일해야 함\n",
    "    - 변경하려는 구조의 튜플 중 하나의 원소는 -1로 대체할 수 있고 다른 하나의 원소를 기준으로 계산되어 사용됨\n",
    "    - reshape() 메서드가 반환하는 배열의 요소가 변경되면 원본 배열에도 반영됨"
   ]
  },
  {
   "cell_type": "code",
   "execution_count": 72,
   "id": "05ffbd8c",
   "metadata": {
    "hidden": true
   },
   "outputs": [],
   "source": [
    "# 다차원 배열을 1차원 배열로 변환\n",
    "arr2 = arr1.ravel()"
   ]
  },
  {
   "cell_type": "code",
   "execution_count": 73,
   "id": "2536ca45",
   "metadata": {
    "hidden": true
   },
   "outputs": [
    {
     "name": "stdout",
     "output_type": "stream",
     "text": [
      "[[ 1  2  3  4]\n",
      " [ 5  6  7  8]\n",
      " [ 9 10 11 12]] \n",
      "\n",
      "[ 1  2  3  4  5  6  7  8  9 10 11 12]\n"
     ]
    }
   ],
   "source": [
    "print(arr1,'\\n')\n",
    "print(arr2)"
   ]
  },
  {
   "cell_type": "code",
   "execution_count": 74,
   "id": "8ed4a988",
   "metadata": {
    "hidden": true
   },
   "outputs": [],
   "source": [
    "# 변환 후 값 수정, 원본과 비교\n",
    "arr2[0] = 10"
   ]
  },
  {
   "cell_type": "code",
   "execution_count": 75,
   "id": "b371e970",
   "metadata": {
    "hidden": true
   },
   "outputs": [
    {
     "name": "stdout",
     "output_type": "stream",
     "text": [
      "[[10  2  3  4]\n",
      " [ 5  6  7  8]\n",
      " [ 9 10 11 12]] \n",
      "\n",
      "[10  2  3  4  5  6  7  8  9 10 11 12]\n"
     ]
    }
   ],
   "source": [
    "print(arr1,'\\n')\n",
    "print(arr2)"
   ]
  },
  {
   "cell_type": "code",
   "execution_count": 76,
   "id": "32526c2c",
   "metadata": {
    "hidden": true
   },
   "outputs": [
    {
     "data": {
      "text/plain": [
       "array([[10,  2],\n",
       "       [ 3,  4],\n",
       "       [ 5,  6],\n",
       "       [ 7,  8],\n",
       "       [ 9, 10],\n",
       "       [11, 12]])"
      ]
     },
     "execution_count": 76,
     "metadata": {},
     "output_type": "execute_result"
    }
   ],
   "source": [
    "# arr1을 6*2로 바꾸되 하나의 축에 대해-1을 사용\n",
    "arr3 = arr1.reshape(-1,2)\n",
    "arr3"
   ]
  },
  {
   "cell_type": "code",
   "execution_count": 77,
   "id": "08a1a0ef",
   "metadata": {
    "hidden": true
   },
   "outputs": [],
   "source": [
    "# 변환 후 값 수정, 원본과 비교\n",
    "arr3[0] = [100,200]"
   ]
  },
  {
   "cell_type": "code",
   "execution_count": 78,
   "id": "3629ed40",
   "metadata": {
    "hidden": true
   },
   "outputs": [
    {
     "data": {
      "text/plain": [
       "array([[100, 200,   3,   4],\n",
       "       [  5,   6,   7,   8],\n",
       "       [  9,  10,  11,  12]])"
      ]
     },
     "execution_count": 78,
     "metadata": {},
     "output_type": "execute_result"
    }
   ],
   "source": [
    "arr1"
   ]
  },
  {
   "cell_type": "markdown",
   "id": "236b459c",
   "metadata": {
    "heading_collapsed": true
   },
   "source": [
    "## 요소 변경, 추가, 삭제"
   ]
  },
  {
   "cell_type": "markdown",
   "id": "4fa7986c",
   "metadata": {
    "heading_collapsed": true,
    "hidden": true
   },
   "source": [
    "### 요소 변경"
   ]
  },
  {
   "cell_type": "markdown",
   "id": "4bbabbeb",
   "metadata": {
    "hidden": true
   },
   "source": [
    "- arr.resize(new_shape), np.resize(arr, new_shape)\n",
    "    - 배열 메서드를 사용하면 원본 변경, np 함수를 사용하면 새로운 배열 반환\n",
    "    - 배열의 구조(shape)를 변경하며 원본 배열의 요소 수와 동일하지 않아도 변경 가능\n",
    "    - 변경되는 배열의 요소 수가 동일할 경우 : reshape() 메서드와 동일한 결과\n",
    "    - 변경되는 배열의 요소 수가 더 많을 경우\n",
    "        - np.resize(arr, new_shape) : 원본을 변경하지 않고, 모자란 부분을 기존 배열 값에서 복사해서 추가\n",
    "        - arr.resize(new_shape) : 원본을 변경하고, 모자란 부분을 0으로 채움\n",
    "        - 공통적으로 new_shape은 튜플로 추가\n",
    "    - 변경되는 배열의 요소 수가 더 작을 경우 : 마지막 남은 요소 삭제"
   ]
  },
  {
   "cell_type": "code",
   "execution_count": 79,
   "id": "b1846ea5",
   "metadata": {
    "hidden": true
   },
   "outputs": [
    {
     "name": "stdout",
     "output_type": "stream",
     "text": [
      "\n",
      "    type : <class 'numpy.ndarray'>\n",
      "    shape : (3, 5)\n",
      "    dimension : 2\n",
      "    dtype : int32\n",
      "    data :\n",
      " [[3 4 2 9 1]\n",
      " [3 8 7 7 9]\n",
      " [3 2 4 3 7]]\n",
      "    \n"
     ]
    }
   ],
   "source": [
    "# 1이상 10미만의 범위의 랜덤 정수값으로 3*5 구조를 가진 배열 생성\n",
    "arr = np.random.randint(1,10,(3,5))\n",
    "np_print(arr)"
   ]
  },
  {
   "cell_type": "code",
   "execution_count": 80,
   "id": "5dab45c4",
   "metadata": {
    "hidden": true
   },
   "outputs": [
    {
     "name": "stdout",
     "output_type": "stream",
     "text": [
      "\n",
      "    type : <class 'numpy.ndarray'>\n",
      "    shape : (3, 5)\n",
      "    dimension : 2\n",
      "    dtype : int32\n",
      "    data :\n",
      " [[5 7 5 9 7]\n",
      " [3 4 2 6 3]\n",
      " [2 9 3 5 5]]\n",
      "    \n"
     ]
    }
   ],
   "source": [
    "arr2 = np.random.randint(1,10,(3,5))\n",
    "np_print(arr2)"
   ]
  },
  {
   "cell_type": "code",
   "execution_count": 81,
   "id": "e3b7e6fe",
   "metadata": {
    "hidden": true
   },
   "outputs": [],
   "source": [
    "# 변경되는 배열의 요소 수가 동일한 경우: reshape()와 동일하게 동작함\n",
    "arr.resize(5,3)"
   ]
  },
  {
   "cell_type": "code",
   "execution_count": 82,
   "id": "6909bd21",
   "metadata": {
    "hidden": true
   },
   "outputs": [
    {
     "data": {
      "text/plain": [
       "array([[3, 4, 2],\n",
       "       [9, 1, 3],\n",
       "       [8, 7, 7],\n",
       "       [9, 3, 2],\n",
       "       [4, 3, 7]])"
      ]
     },
     "execution_count": 82,
     "metadata": {},
     "output_type": "execute_result"
    }
   ],
   "source": [
    "arr"
   ]
  },
  {
   "cell_type": "code",
   "execution_count": 83,
   "id": "dd824964",
   "metadata": {
    "hidden": true
   },
   "outputs": [
    {
     "name": "stdout",
     "output_type": "stream",
     "text": [
      "\n",
      "    type : <class 'numpy.ndarray'>\n",
      "    shape : (6, 3)\n",
      "    dimension : 2\n",
      "    dtype : int32\n",
      "    data :\n",
      " [[5 7 5]\n",
      " [9 7 3]\n",
      " [4 2 6]\n",
      " [3 2 9]\n",
      " [3 5 5]\n",
      " [5 7 5]]\n",
      "    \n"
     ]
    }
   ],
   "source": [
    "# 변경 후 배열의 요소 갯수가 더 많은 경우\n",
    "# n번 번 더 반복\n",
    "arr3 = np.resize(arr2,(6,3))\n",
    "np_print(arr3)"
   ]
  },
  {
   "cell_type": "code",
   "execution_count": 84,
   "id": "74d46b6b",
   "metadata": {
    "hidden": true
   },
   "outputs": [
    {
     "name": "stdout",
     "output_type": "stream",
     "text": [
      "\n",
      "    type : <class 'numpy.ndarray'>\n",
      "    shape : (6, 3)\n",
      "    dimension : 2\n",
      "    dtype : int32\n",
      "    data :\n",
      " [[3 4 2]\n",
      " [9 1 3]\n",
      " [8 7 7]\n",
      " [9 3 2]\n",
      " [4 3 7]\n",
      " [0 0 0]]\n",
      "    \n"
     ]
    }
   ],
   "source": [
    "# refcheck = False인 경우만 크기가 다를 때 남는 자리를 0으로 채워줌\n",
    "arr.resize((6,3),refcheck = False)\n",
    "np_print(arr)"
   ]
  },
  {
   "cell_type": "code",
   "execution_count": 85,
   "id": "fd528a20",
   "metadata": {
    "hidden": true
   },
   "outputs": [
    {
     "ename": "ValueError",
     "evalue": "cannot resize an array that references or is referenced\nby another array in this way.\nUse the np.resize function or refcheck=False",
     "output_type": "error",
     "traceback": [
      "\u001b[1;31m---------------------------------------------------------------------------\u001b[0m",
      "\u001b[1;31mValueError\u001b[0m                                Traceback (most recent call last)",
      "Input \u001b[1;32mIn [85]\u001b[0m, in \u001b[0;36m<cell line: 3>\u001b[1;34m()\u001b[0m\n\u001b[0;32m      1\u001b[0m \u001b[38;5;66;03m# 변경되는 배열의 요소 수가 더 적은 경우: 마지막 남은 요소를 삭제\u001b[39;00m\n\u001b[0;32m      2\u001b[0m \u001b[38;5;66;03m# 크기가 원본과 resize를 이용했을 때 다르다면 refcheck = False를 반드시 넣는다\u001b[39;00m\n\u001b[1;32m----> 3\u001b[0m \u001b[43marr\u001b[49m\u001b[38;5;241;43m.\u001b[39;49m\u001b[43mresize\u001b[49m\u001b[43m(\u001b[49m\u001b[43m(\u001b[49m\u001b[38;5;241;43m3\u001b[39;49m\u001b[43m,\u001b[49m\u001b[38;5;241;43m3\u001b[39;49m\u001b[43m)\u001b[49m\u001b[43m)\u001b[49m\n\u001b[0;32m      4\u001b[0m np_print(arr)\n",
      "\u001b[1;31mValueError\u001b[0m: cannot resize an array that references or is referenced\nby another array in this way.\nUse the np.resize function or refcheck=False"
     ]
    }
   ],
   "source": [
    "# 변경되는 배열의 요소 수가 더 적은 경우: 마지막 남은 요소를 삭제\n",
    "# 크기가 원본과 resize를 이용했을 때 다르다면 refcheck = False를 반드시 넣는다\n",
    "arr.resize((3,3))\n",
    "np_print(arr)"
   ]
  },
  {
   "cell_type": "code",
   "execution_count": 86,
   "id": "6e906f32",
   "metadata": {
    "hidden": true
   },
   "outputs": [
    {
     "name": "stdout",
     "output_type": "stream",
     "text": [
      "\n",
      "    type : <class 'numpy.ndarray'>\n",
      "    shape : (3, 3)\n",
      "    dimension : 2\n",
      "    dtype : int32\n",
      "    data :\n",
      " [[3 4 2]\n",
      " [9 1 3]\n",
      " [8 7 7]]\n",
      "    \n"
     ]
    }
   ],
   "source": [
    "arr.resize((3,3),refcheck=False)\n",
    "np_print(arr)"
   ]
  },
  {
   "cell_type": "markdown",
   "id": "c04dd08c",
   "metadata": {
    "heading_collapsed": true,
    "hidden": true
   },
   "source": [
    "### 요소 추가"
   ]
  },
  {
   "cell_type": "markdown",
   "id": "6a0e2651",
   "metadata": {
    "hidden": true
   },
   "source": [
    "#### np.append(arr, values, axis=None)"
   ]
  },
  {
   "cell_type": "markdown",
   "id": "f745bb00",
   "metadata": {
    "hidden": true
   },
   "source": [
    "- np.append(arr, values, axis=None)\n",
    "    - arr 마지막에 values를 추가\n",
    "    - axis 지정하지 않는 경우(기본값) : 1차원 배열로 변형되어 결합\n",
    "    - axis = 0 : 행 방향으로 결합 (단, 열의 개수가 동일해야 함)\n",
    "    - axis = 1 : 열 방향으로 결합 (단, 행의 개수가 동일해야 함)\n",
    "    - 원본 배열들에 반영되지 않음"
   ]
  },
  {
   "cell_type": "code",
   "execution_count": 87,
   "id": "5c6d04d6",
   "metadata": {
    "hidden": true
   },
   "outputs": [
    {
     "name": "stdout",
     "output_type": "stream",
     "text": [
      "\n",
      "    type : <class 'numpy.ndarray'>\n",
      "    shape : (3, 3)\n",
      "    dimension : 2\n",
      "    dtype : int32\n",
      "    data :\n",
      " [[1 2 3]\n",
      " [4 5 6]\n",
      " [7 8 9]]\n",
      "    \n",
      "\n",
      "    type : <class 'numpy.ndarray'>\n",
      "    shape : (3, 3)\n",
      "    dimension : 2\n",
      "    dtype : int32\n",
      "    data :\n",
      " [[10 11 12]\n",
      " [13 14 15]\n",
      " [16 17 18]]\n",
      "    \n"
     ]
    }
   ],
   "source": [
    "# 1이상 10미만의 범위에서 1씩 증가하는 숫자로 3*3 구조의 배열 a 생성\n",
    "# 10이상 19미만의 범위에서 1씩 증가하는 숫자로 3*3 구조의 배열 b 생성\n",
    "a = np.arange(1,10).reshape(3,3)\n",
    "b = np.arange(10,19).reshape(3,3)\n",
    "np_print(a)\n",
    "np_print(b)"
   ]
  },
  {
   "cell_type": "code",
   "execution_count": 88,
   "id": "6ab95df6",
   "metadata": {
    "hidden": true
   },
   "outputs": [
    {
     "data": {
      "text/plain": [
       "array([ 1,  2,  3,  4,  5,  6,  7,  8,  9, 10, 11, 12, 13, 14, 15, 16, 17,\n",
       "       18])"
      ]
     },
     "execution_count": 88,
     "metadata": {},
     "output_type": "execute_result"
    }
   ],
   "source": [
    "# 2개의 배열 결합\n",
    "# axis를 지정하지 않는 경우: np.append(arr1,arr2) => axis = None\n",
    "# arr1, arr2 모두 1차원으로 변형해서 추가함\n",
    "np.append(a,b)"
   ]
  },
  {
   "cell_type": "code",
   "execution_count": 89,
   "id": "26d64d7b",
   "metadata": {
    "hidden": true
   },
   "outputs": [
    {
     "data": {
      "text/plain": [
       "array([[ 1,  2,  3],\n",
       "       [ 4,  5,  6],\n",
       "       [ 7,  8,  9],\n",
       "       [10, 11, 12],\n",
       "       [13, 14, 15],\n",
       "       [16, 17, 18]])"
      ]
     },
     "execution_count": 89,
     "metadata": {},
     "output_type": "execute_result"
    }
   ],
   "source": [
    "# 2개의 배열 결합\n",
    "# axis = 0: 행 단위 결합: 열 개수는 3개로 동일\n",
    "np.append(a,b,axis = 0)"
   ]
  },
  {
   "cell_type": "code",
   "execution_count": 90,
   "id": "4dda9c85",
   "metadata": {
    "hidden": true
   },
   "outputs": [
    {
     "data": {
      "text/plain": [
       "array([[ 1,  2,  3, 10, 11, 12],\n",
       "       [ 4,  5,  6, 13, 14, 15],\n",
       "       [ 7,  8,  9, 16, 17, 18]])"
      ]
     },
     "execution_count": 90,
     "metadata": {},
     "output_type": "execute_result"
    }
   ],
   "source": [
    "# 2개의 배열 결합\n",
    "# axis = 1: 열 단위 결합: 열 개수는 6개로 동일\n",
    "np.append(a,b,axis = 1)"
   ]
  },
  {
   "cell_type": "code",
   "execution_count": 91,
   "id": "7433c98b",
   "metadata": {
    "hidden": true
   },
   "outputs": [
    {
     "name": "stdout",
     "output_type": "stream",
     "text": [
      "[ 1  2  3  4  5  6  7  8  9 10  2  3] \n",
      "\n"
     ]
    }
   ],
   "source": [
    "# a,c 결합하기\n",
    "# 방향 바꿔서 에러나는 것 확인해보기\n",
    "print(np.append(a,c),'\\n')"
   ]
  },
  {
   "cell_type": "code",
   "execution_count": 92,
   "id": "354a12a9",
   "metadata": {
    "hidden": true,
    "scrolled": true
   },
   "outputs": [
    {
     "ename": "ValueError",
     "evalue": "all the input arrays must have same number of dimensions, but the array at index 0 has 2 dimension(s) and the array at index 1 has 1 dimension(s)",
     "output_type": "error",
     "traceback": [
      "\u001b[1;31m---------------------------------------------------------------------------\u001b[0m",
      "\u001b[1;31mValueError\u001b[0m                                Traceback (most recent call last)",
      "Input \u001b[1;32mIn [92]\u001b[0m, in \u001b[0;36m<cell line: 1>\u001b[1;34m()\u001b[0m\n\u001b[1;32m----> 1\u001b[0m \u001b[38;5;28mprint\u001b[39m(\u001b[38;5;124m'\u001b[39m\u001b[38;5;124maxis=0\u001b[39m\u001b[38;5;124m'\u001b[39m,\u001b[38;5;124m'\u001b[39m\u001b[38;5;130;01m\\n\u001b[39;00m\u001b[38;5;124m'\u001b[39m,\u001b[43mnp\u001b[49m\u001b[38;5;241;43m.\u001b[39;49m\u001b[43mappend\u001b[49m\u001b[43m(\u001b[49m\u001b[43ma\u001b[49m\u001b[43m,\u001b[49m\u001b[43mc\u001b[49m\u001b[43m,\u001b[49m\u001b[43maxis\u001b[49m\u001b[38;5;241;43m=\u001b[39;49m\u001b[38;5;241;43m0\u001b[39;49m\u001b[43m)\u001b[49m)\n",
      "File \u001b[1;32m<__array_function__ internals>:5\u001b[0m, in \u001b[0;36mappend\u001b[1;34m(*args, **kwargs)\u001b[0m\n",
      "File \u001b[1;32m~\\anaconda3\\lib\\site-packages\\numpy\\lib\\function_base.py:4817\u001b[0m, in \u001b[0;36mappend\u001b[1;34m(arr, values, axis)\u001b[0m\n\u001b[0;32m   4815\u001b[0m     values \u001b[38;5;241m=\u001b[39m ravel(values)\n\u001b[0;32m   4816\u001b[0m     axis \u001b[38;5;241m=\u001b[39m arr\u001b[38;5;241m.\u001b[39mndim\u001b[38;5;241m-\u001b[39m\u001b[38;5;241m1\u001b[39m\n\u001b[1;32m-> 4817\u001b[0m \u001b[38;5;28;01mreturn\u001b[39;00m \u001b[43mconcatenate\u001b[49m\u001b[43m(\u001b[49m\u001b[43m(\u001b[49m\u001b[43marr\u001b[49m\u001b[43m,\u001b[49m\u001b[43m \u001b[49m\u001b[43mvalues\u001b[49m\u001b[43m)\u001b[49m\u001b[43m,\u001b[49m\u001b[43m \u001b[49m\u001b[43maxis\u001b[49m\u001b[38;5;241;43m=\u001b[39;49m\u001b[43maxis\u001b[49m\u001b[43m)\u001b[49m\n",
      "File \u001b[1;32m<__array_function__ internals>:5\u001b[0m, in \u001b[0;36mconcatenate\u001b[1;34m(*args, **kwargs)\u001b[0m\n",
      "\u001b[1;31mValueError\u001b[0m: all the input arrays must have same number of dimensions, but the array at index 0 has 2 dimension(s) and the array at index 1 has 1 dimension(s)"
     ]
    }
   ],
   "source": [
    "print('axis=0','\\n',np.append(a,c,axis=0))"
   ]
  },
  {
   "cell_type": "code",
   "execution_count": 93,
   "id": "e9929c50",
   "metadata": {
    "hidden": true,
    "scrolled": true
   },
   "outputs": [
    {
     "ename": "ValueError",
     "evalue": "all the input arrays must have same number of dimensions, but the array at index 0 has 2 dimension(s) and the array at index 1 has 1 dimension(s)",
     "output_type": "error",
     "traceback": [
      "\u001b[1;31m---------------------------------------------------------------------------\u001b[0m",
      "\u001b[1;31mValueError\u001b[0m                                Traceback (most recent call last)",
      "Input \u001b[1;32mIn [93]\u001b[0m, in \u001b[0;36m<cell line: 1>\u001b[1;34m()\u001b[0m\n\u001b[1;32m----> 1\u001b[0m \u001b[38;5;28mprint\u001b[39m(\u001b[38;5;124m'\u001b[39m\u001b[38;5;124maxis=1\u001b[39m\u001b[38;5;124m'\u001b[39m,\u001b[38;5;124m'\u001b[39m\u001b[38;5;130;01m\\n\u001b[39;00m\u001b[38;5;124m'\u001b[39m,\u001b[43mnp\u001b[49m\u001b[38;5;241;43m.\u001b[39;49m\u001b[43mappend\u001b[49m\u001b[43m(\u001b[49m\u001b[43ma\u001b[49m\u001b[43m,\u001b[49m\u001b[43mc\u001b[49m\u001b[43m,\u001b[49m\u001b[43maxis\u001b[49m\u001b[38;5;241;43m=\u001b[39;49m\u001b[38;5;241;43m1\u001b[39;49m\u001b[43m)\u001b[49m)\n",
      "File \u001b[1;32m<__array_function__ internals>:5\u001b[0m, in \u001b[0;36mappend\u001b[1;34m(*args, **kwargs)\u001b[0m\n",
      "File \u001b[1;32m~\\anaconda3\\lib\\site-packages\\numpy\\lib\\function_base.py:4817\u001b[0m, in \u001b[0;36mappend\u001b[1;34m(arr, values, axis)\u001b[0m\n\u001b[0;32m   4815\u001b[0m     values \u001b[38;5;241m=\u001b[39m ravel(values)\n\u001b[0;32m   4816\u001b[0m     axis \u001b[38;5;241m=\u001b[39m arr\u001b[38;5;241m.\u001b[39mndim\u001b[38;5;241m-\u001b[39m\u001b[38;5;241m1\u001b[39m\n\u001b[1;32m-> 4817\u001b[0m \u001b[38;5;28;01mreturn\u001b[39;00m \u001b[43mconcatenate\u001b[49m\u001b[43m(\u001b[49m\u001b[43m(\u001b[49m\u001b[43marr\u001b[49m\u001b[43m,\u001b[49m\u001b[43m \u001b[49m\u001b[43mvalues\u001b[49m\u001b[43m)\u001b[49m\u001b[43m,\u001b[49m\u001b[43m \u001b[49m\u001b[43maxis\u001b[49m\u001b[38;5;241;43m=\u001b[39;49m\u001b[43maxis\u001b[49m\u001b[43m)\u001b[49m\n",
      "File \u001b[1;32m<__array_function__ internals>:5\u001b[0m, in \u001b[0;36mconcatenate\u001b[1;34m(*args, **kwargs)\u001b[0m\n",
      "\u001b[1;31mValueError\u001b[0m: all the input arrays must have same number of dimensions, but the array at index 0 has 2 dimension(s) and the array at index 1 has 1 dimension(s)"
     ]
    }
   ],
   "source": [
    "print('axis=1','\\n',np.append(a,c,axis=1))"
   ]
  },
  {
   "cell_type": "code",
   "execution_count": 94,
   "id": "fb914155",
   "metadata": {
    "hidden": true
   },
   "outputs": [
    {
     "ename": "AttributeError",
     "evalue": "'list' object has no attribute 'resize'",
     "output_type": "error",
     "traceback": [
      "\u001b[1;31m---------------------------------------------------------------------------\u001b[0m",
      "\u001b[1;31mAttributeError\u001b[0m                            Traceback (most recent call last)",
      "Input \u001b[1;32mIn [94]\u001b[0m, in \u001b[0;36m<cell line: 2>\u001b[1;34m()\u001b[0m\n\u001b[0;32m      1\u001b[0m \u001b[38;5;66;03m# 행 단위로 결합할 수 있는 구조로 변경(resize 활용)\u001b[39;00m\n\u001b[1;32m----> 2\u001b[0m \u001b[43mc\u001b[49m\u001b[38;5;241;43m.\u001b[39;49m\u001b[43mresize\u001b[49m((\u001b[38;5;241m5\u001b[39m,\u001b[38;5;241m3\u001b[39m))\n\u001b[0;32m      3\u001b[0m c\n",
      "\u001b[1;31mAttributeError\u001b[0m: 'list' object has no attribute 'resize'"
     ]
    }
   ],
   "source": [
    "# 행 단위로 결합할 수 있는 구조로 변경(resize 활용)\n",
    "c.resize((5,3))\n",
    "c"
   ]
  },
  {
   "cell_type": "code",
   "execution_count": null,
   "id": "0dc9c045",
   "metadata": {
    "hidden": true
   },
   "outputs": [],
   "source": [
    "np.append(a,c,axis=0)"
   ]
  },
  {
   "cell_type": "code",
   "execution_count": 95,
   "id": "229564e1",
   "metadata": {
    "hidden": true
   },
   "outputs": [
    {
     "name": "stdout",
     "output_type": "stream",
     "text": [
      "\n",
      "    type : <class 'numpy.ndarray'>\n",
      "    shape : (4, 3)\n",
      "    dimension : 2\n",
      "    dtype : int32\n",
      "    data :\n",
      " [[ 90  91  92]\n",
      " [ 93  94  95]\n",
      " [ 96  97  98]\n",
      " [ 99 100 101]]\n",
      "    \n"
     ]
    }
   ],
   "source": [
    "# 행 개수가 다른 배열과의 결합\n",
    "d = np.arange(90,102).reshape(4,3)\n",
    "np_print(d)"
   ]
  },
  {
   "cell_type": "code",
   "execution_count": 96,
   "id": "ff24d7b8",
   "metadata": {
    "hidden": true
   },
   "outputs": [
    {
     "data": {
      "text/plain": [
       "array([[10, 11, 12],\n",
       "       [13, 14, 15],\n",
       "       [16, 17, 18]])"
      ]
     },
     "execution_count": 96,
     "metadata": {},
     "output_type": "execute_result"
    }
   ],
   "source": [
    "b"
   ]
  },
  {
   "cell_type": "code",
   "execution_count": 97,
   "id": "0f0de372",
   "metadata": {
    "hidden": true
   },
   "outputs": [
    {
     "data": {
      "text/plain": [
       "array([[ 10,  11,  12],\n",
       "       [ 13,  14,  15],\n",
       "       [ 16,  17,  18],\n",
       "       [ 90,  91,  92],\n",
       "       [ 93,  94,  95],\n",
       "       [ 96,  97,  98],\n",
       "       [ 99, 100, 101]])"
      ]
     },
     "execution_count": 97,
     "metadata": {},
     "output_type": "execute_result"
    }
   ],
   "source": [
    "# 가로\n",
    "np.append(b,d,axis=0)"
   ]
  },
  {
   "cell_type": "code",
   "execution_count": 102,
   "id": "0458b8c0",
   "metadata": {
    "hidden": true
   },
   "outputs": [
    {
     "data": {
      "text/plain": [
       "array([[ 10,  11,  12,  90,  91,  92,  93],\n",
       "       [ 13,  14,  15,  94,  95,  96,  97],\n",
       "       [ 16,  17,  18,  98,  99, 100, 101]])"
      ]
     },
     "execution_count": 102,
     "metadata": {},
     "output_type": "execute_result"
    }
   ],
   "source": [
    "# 세로\n",
    "np.append(b,d.reshape(3,4),axis=1)"
   ]
  },
  {
   "cell_type": "markdown",
   "id": "0bd0c14d",
   "metadata": {
    "hidden": true
   },
   "source": [
    "#### np.insert(arr, idx, values, axis=None)"
   ]
  },
  {
   "cell_type": "markdown",
   "id": "6e465618",
   "metadata": {
    "hidden": true
   },
   "source": [
    "- np.insert(arr, idx, values, axis=None)\n",
    "    - 지정한 인덱스(idx)에 value를 추가\n",
    "    - axis 지정하지 않는 경우(기본값) : 1차원 배열의 변형되고 해당 인덱스에 추가\n",
    "    - axis = 0 : 행 방향으로 n번째 행에 추가\n",
    "    - axis = 1 : 열 방향으로 n번째 열에 추가\n",
    "    - 원본 배열에 반영되지 않음"
   ]
  },
  {
   "cell_type": "code",
   "execution_count": 103,
   "id": "226213f3",
   "metadata": {
    "hidden": true
   },
   "outputs": [
    {
     "name": "stdout",
     "output_type": "stream",
     "text": [
      "\n",
      "    type : <class 'numpy.ndarray'>\n",
      "    shape : (3, 3)\n",
      "    dimension : 2\n",
      "    dtype : int32\n",
      "    data :\n",
      " [[1 2 3]\n",
      " [4 5 6]\n",
      " [7 8 9]]\n",
      "    \n"
     ]
    }
   ],
   "source": [
    "# 1이상 10미만 범위에서 1씩 증가하는 숫자로 3x3 구조의 배열 생성\n",
    "arr = np.arange(1,10).reshape(3,3)\n",
    "np_print(arr)"
   ]
  },
  {
   "cell_type": "code",
   "execution_count": 104,
   "id": "98bb8d13",
   "metadata": {
    "hidden": true
   },
   "outputs": [
    {
     "data": {
      "text/plain": [
       "array([  1, 100,   2,   3,   4,   5,   6,   7,   8,   9])"
      ]
     },
     "execution_count": 104,
     "metadata": {},
     "output_type": "execute_result"
    }
   ],
   "source": [
    "# axis 지정하지 않는 경우: arr를 1차원 배열로 변형한 후\n",
    "# 변형된 배열의 지정 index에 값 추가\n",
    "# 2d array를 1d array로 변형, 1번 인덱스에 100추가\n",
    "np.insert(arr,1,100)"
   ]
  },
  {
   "cell_type": "code",
   "execution_count": 105,
   "id": "b4dc5bf7",
   "metadata": {
    "hidden": true
   },
   "outputs": [
    {
     "data": {
      "text/plain": [
       "array([[1, 2, 3],\n",
       "       [4, 5, 6],\n",
       "       [7, 8, 9]])"
      ]
     },
     "execution_count": 105,
     "metadata": {},
     "output_type": "execute_result"
    }
   ],
   "source": [
    "# 원본 배열은 유지\n",
    "arr"
   ]
  },
  {
   "cell_type": "code",
   "execution_count": 107,
   "id": "62da3486",
   "metadata": {
    "hidden": true
   },
   "outputs": [
    {
     "data": {
      "text/plain": [
       "array([[  1,   2,   3],\n",
       "       [100, 100, 100],\n",
       "       [  4,   5,   6],\n",
       "       [  7,   8,   9]])"
      ]
     },
     "execution_count": 107,
     "metadata": {},
     "output_type": "execute_result"
    }
   ],
   "source": [
    "# axis=0: 행 방향으로 index번째 행을 추가\n",
    "# a배열의 1번 인덱스 행에 100을 추가 => 행의 요소 개수(열 개수)만큼 100이 추가됨\n",
    "np.insert(arr,1,100,axis=0)"
   ]
  },
  {
   "cell_type": "code",
   "execution_count": 109,
   "id": "0b1ecfcb",
   "metadata": {
    "hidden": true
   },
   "outputs": [
    {
     "data": {
      "text/plain": [
       "array([[  1,   2, 200,   3],\n",
       "       [  4,   5, 200,   6],\n",
       "       [  7,   8, 200,   9]])"
      ]
     },
     "execution_count": 109,
     "metadata": {},
     "output_type": "execute_result"
    }
   ],
   "source": [
    "# axis=1: 열 방향으로 index번째 행을 추가\n",
    "# a배열의 22번 인덱스 열에 200추가\n",
    "np.insert(arr,2,200,axis=1)"
   ]
  },
  {
   "cell_type": "code",
   "execution_count": 110,
   "id": "2ddbefee",
   "metadata": {
    "hidden": true
   },
   "outputs": [
    {
     "data": {
      "text/plain": [
       "array([[ 1,  2, 10,  3],\n",
       "       [ 4,  5, 20,  6],\n",
       "       [ 7,  8, 30,  9]])"
      ]
     },
     "execution_count": 110,
     "metadata": {},
     "output_type": "execute_result"
    }
   ],
   "source": [
    "# 요소마다 다른 값으로 행/열 추가하기\n",
    "# 요소의 개수를 동일하게 작성 -> 축을 기준으로 요소 개수 설정 -> axis로 축설정\n",
    "np.insert(arr,2,[10,20,30],axis=1)"
   ]
  },
  {
   "cell_type": "markdown",
   "id": "423f7561",
   "metadata": {
    "heading_collapsed": true,
    "hidden": true
   },
   "source": [
    "### 요소 삭제"
   ]
  },
  {
   "cell_type": "markdown",
   "id": "9f115d54",
   "metadata": {
    "hidden": true
   },
   "source": [
    "- np.delete(arr, idx, axis=None)\n",
    "    - 지정한 인덱스(idx)에 해당하는 요소를 삭제\n",
    "    - axis 지정하지 않는 경우(기본값) : 1차원 배열로 변형되어 해당 인덱스에 해당하는 요소를 삭제\n",
    "    - axis = 0 : 행 방향으로 n번째 행을 삭제\n",
    "    - axis = 1 : 열 방향으로 n번째 열을 삭제\n",
    "    - 원본 배열에 반영되지 않음"
   ]
  },
  {
   "cell_type": "code",
   "execution_count": 111,
   "id": "71843eea",
   "metadata": {
    "hidden": true
   },
   "outputs": [
    {
     "data": {
      "text/plain": [
       "array([[1, 2, 3],\n",
       "       [4, 5, 6],\n",
       "       [7, 8, 9]])"
      ]
     },
     "execution_count": 111,
     "metadata": {},
     "output_type": "execute_result"
    }
   ],
   "source": [
    "a"
   ]
  },
  {
   "cell_type": "code",
   "execution_count": 112,
   "id": "e32d7974",
   "metadata": {
    "hidden": true
   },
   "outputs": [
    {
     "data": {
      "text/plain": [
       "array([1, 2, 3, 4, 5, 6, 7, 8, 9])"
      ]
     },
     "execution_count": 112,
     "metadata": {},
     "output_type": "execute_result"
    }
   ],
   "source": [
    "# a.reshape(9)\n",
    "np.ravel(a)"
   ]
  },
  {
   "cell_type": "code",
   "execution_count": 113,
   "id": "6a2b450a",
   "metadata": {
    "hidden": true
   },
   "outputs": [
    {
     "data": {
      "text/plain": [
       "array([1, 3, 4, 5, 6, 7, 8, 9])"
      ]
     },
     "execution_count": 113,
     "metadata": {},
     "output_type": "execute_result"
    }
   ],
   "source": [
    "# axis를 지정 안 하는 경우: 1차원 배열로 변환 -> 지정한 index에 해당하는 요소를 삭제\n",
    "# a배열에 대해 1번 인덱스 요소를 삭제\n",
    "np.delete(a,1)"
   ]
  },
  {
   "cell_type": "code",
   "execution_count": 114,
   "id": "cd1e77c3",
   "metadata": {
    "hidden": true
   },
   "outputs": [
    {
     "data": {
      "text/plain": [
       "array([[1, 2, 3],\n",
       "       [4, 5, 6],\n",
       "       [7, 8, 9]])"
      ]
     },
     "execution_count": 114,
     "metadata": {},
     "output_type": "execute_result"
    }
   ],
   "source": [
    "# 원본 배열은 변경되지 않음\n",
    "a"
   ]
  },
  {
   "cell_type": "code",
   "execution_count": 118,
   "id": "557622d8",
   "metadata": {
    "hidden": true
   },
   "outputs": [
    {
     "data": {
      "text/plain": [
       "array([[4, 5, 6],\n",
       "       [7, 8, 9]])"
      ]
     },
     "execution_count": 118,
     "metadata": {},
     "output_type": "execute_result"
    }
   ],
   "source": [
    "# a배열 세로축으로 0번째 삭제\n",
    "np.delete(a,0,axis=0)"
   ]
  },
  {
   "cell_type": "code",
   "execution_count": 119,
   "id": "9510b21e",
   "metadata": {
    "hidden": true
   },
   "outputs": [
    {
     "data": {
      "text/plain": [
       "array([[2, 3],\n",
       "       [5, 6],\n",
       "       [8, 9]])"
      ]
     },
     "execution_count": 119,
     "metadata": {},
     "output_type": "execute_result"
    }
   ],
   "source": [
    "# a배열 가로축으로 0번째 삭제\n",
    "np.delete(a,0,axis=1)"
   ]
  },
  {
   "cell_type": "markdown",
   "id": "14ae0bb2",
   "metadata": {
    "heading_collapsed": true
   },
   "source": [
    "## 배열 결합"
   ]
  },
  {
   "cell_type": "markdown",
   "id": "a5e260cc",
   "metadata": {
    "hidden": true
   },
   "source": [
    "- np.concatenate((arr1, arr2, ...), axis=0)\n",
    "    - axis = 0(기본값) : 행 방향으로 두 배열 결합 (단, 열의 개수가 동일)\n",
    "    - axis = 1 : 열 방향으로 두 배열 결합 (단, 행의 개수가 동일)\n",
    "    - 원본 배열들은 변경되지 않음"
   ]
  },
  {
   "cell_type": "code",
   "execution_count": 120,
   "id": "1e357b32",
   "metadata": {
    "hidden": true
   },
   "outputs": [
    {
     "name": "stdout",
     "output_type": "stream",
     "text": [
      "[[1 2 3]\n",
      " [4 5 6]] \n",
      "\n",
      "[[ 7  8  9]\n",
      " [10 11 12]] \n",
      "\n",
      "[[13 14 15 16 17]\n",
      " [18 19 20 21 22]] \n",
      "\n",
      "[[23 24 25]\n",
      " [26 27 28]\n",
      " [29 30 31]\n",
      " [32 33 34]\n",
      " [35 36 37]]\n"
     ]
    }
   ],
   "source": [
    " # 1이상 7미만의 범위에서 1씩 증가하는 숫자로 2 x 3 구조의 배열 a 생성\n",
    "# 7이상 13미만의 범위에서 1씩 증가하는 숫자로 2 x 3 구조의 배열 b 생성\n",
    "# 13이상 23미만의 범위에서 1씩 증가하는 숫자로 2 x 5 구조의 배열 c 생성(열개수 다름)\n",
    "# 23이상 38미만의 범위에서 1씩 증가하는 숫자로 5 x 3 구조읩 배열 d 생성(행개수 다름)\n",
    "a = np.arange(1, 7).reshape(2, 3)\n",
    "b = np.arange(7, 13).reshape(2, 3)\n",
    "c = np.arange(13, 23).reshape(2, 5)\n",
    "d = np.arange(23, 38).reshape(5, 3)\n",
    "\n",
    "print(a,'\\n')\n",
    "print(b,'\\n')\n",
    "print(c,'\\n')\n",
    "print(d)"
   ]
  },
  {
   "cell_type": "code",
   "execution_count": 122,
   "id": "15bb1ab1",
   "metadata": {
    "hidden": true
   },
   "outputs": [
    {
     "name": "stdout",
     "output_type": "stream",
     "text": [
      "[ 1  2  3  4  5  6  7  8  9 10 11 12] \n",
      "\n",
      "[[ 1  2  3]\n",
      " [ 4  5  6]\n",
      " [ 7  8  9]\n",
      " [10 11 12]]\n"
     ]
    }
   ],
   "source": [
    "# axis=0(기본값): 행 방향으로 두 배열 결합\n",
    "# np.append(a,b)\n",
    "# [1,2,3,4,5,6,7,8,9,10,11,12]\n",
    "print(np.append(a,b),'\\n')\n",
    "print(np.concatenate((a,b)))"
   ]
  },
  {
   "cell_type": "code",
   "execution_count": 123,
   "id": "d09842d6",
   "metadata": {
    "hidden": true
   },
   "outputs": [
    {
     "name": "stdout",
     "output_type": "stream",
     "text": [
      "[ 1  2  3  4  5  6  7  8  9 10 11 12] \n",
      "\n",
      "[[ 1  2  3  7  8  9]\n",
      " [ 4  5  6 10 11 12]]\n"
     ]
    }
   ],
   "source": [
    "# axis=1: 열 방향을 두 배열 결합\n",
    "print(np.append(a,b),'\\n')\n",
    "print(np.concatenate((a,b),axis=1))"
   ]
  },
  {
   "cell_type": "code",
   "execution_count": 124,
   "id": "185c7150",
   "metadata": {
    "hidden": true
   },
   "outputs": [
    {
     "ename": "ValueError",
     "evalue": "all the input array dimensions for the concatenation axis must match exactly, but along dimension 1, the array at index 0 has size 3 and the array at index 1 has size 5",
     "output_type": "error",
     "traceback": [
      "\u001b[1;31m---------------------------------------------------------------------------\u001b[0m",
      "\u001b[1;31mValueError\u001b[0m                                Traceback (most recent call last)",
      "Input \u001b[1;32mIn [124]\u001b[0m, in \u001b[0;36m<cell line: 2>\u001b[1;34m()\u001b[0m\n\u001b[0;32m      1\u001b[0m \u001b[38;5;66;03m# 행 방향으로 결합: 열 개수가 동일해야 함\u001b[39;00m\n\u001b[1;32m----> 2\u001b[0m \u001b[43mnp\u001b[49m\u001b[38;5;241;43m.\u001b[39;49m\u001b[43mconcatenate\u001b[49m\u001b[43m(\u001b[49m\u001b[43m(\u001b[49m\u001b[43ma\u001b[49m\u001b[43m,\u001b[49m\u001b[43mc\u001b[49m\u001b[43m)\u001b[49m\u001b[43m)\u001b[49m\n",
      "File \u001b[1;32m<__array_function__ internals>:5\u001b[0m, in \u001b[0;36mconcatenate\u001b[1;34m(*args, **kwargs)\u001b[0m\n",
      "\u001b[1;31mValueError\u001b[0m: all the input array dimensions for the concatenation axis must match exactly, but along dimension 1, the array at index 0 has size 3 and the array at index 1 has size 5"
     ]
    }
   ],
   "source": [
    "# 행 방향으로 결합: 열 개수가 동일해야 함\n",
    "np.concatenate((a,c))"
   ]
  },
  {
   "cell_type": "code",
   "execution_count": 125,
   "id": "ebd8f2e3",
   "metadata": {
    "hidden": true
   },
   "outputs": [
    {
     "data": {
      "text/plain": [
       "array([[ 1,  2,  3, 13, 14, 15, 16, 17],\n",
       "       [ 4,  5,  6, 18, 19, 20, 21, 22]])"
      ]
     },
     "execution_count": 125,
     "metadata": {},
     "output_type": "execute_result"
    }
   ],
   "source": [
    "np.concatenate((a,c),axis=1)"
   ]
  },
  {
   "cell_type": "code",
   "execution_count": 126,
   "id": "c206fb20",
   "metadata": {
    "hidden": true
   },
   "outputs": [
    {
     "ename": "ValueError",
     "evalue": "all the input array dimensions for the concatenation axis must match exactly, but along dimension 0, the array at index 0 has size 2 and the array at index 1 has size 5",
     "output_type": "error",
     "traceback": [
      "\u001b[1;31m---------------------------------------------------------------------------\u001b[0m",
      "\u001b[1;31mValueError\u001b[0m                                Traceback (most recent call last)",
      "Input \u001b[1;32mIn [126]\u001b[0m, in \u001b[0;36m<cell line: 2>\u001b[1;34m()\u001b[0m\n\u001b[0;32m      1\u001b[0m \u001b[38;5;66;03m# 열 방향으로 결합: 행 개수 동일\u001b[39;00m\n\u001b[1;32m----> 2\u001b[0m \u001b[43mnp\u001b[49m\u001b[38;5;241;43m.\u001b[39;49m\u001b[43mconcatenate\u001b[49m\u001b[43m(\u001b[49m\u001b[43m(\u001b[49m\u001b[43ma\u001b[49m\u001b[43m,\u001b[49m\u001b[43md\u001b[49m\u001b[43m)\u001b[49m\u001b[43m,\u001b[49m\u001b[43maxis\u001b[49m\u001b[38;5;241;43m=\u001b[39;49m\u001b[38;5;241;43m1\u001b[39;49m\u001b[43m)\u001b[49m\n",
      "File \u001b[1;32m<__array_function__ internals>:5\u001b[0m, in \u001b[0;36mconcatenate\u001b[1;34m(*args, **kwargs)\u001b[0m\n",
      "\u001b[1;31mValueError\u001b[0m: all the input array dimensions for the concatenation axis must match exactly, but along dimension 0, the array at index 0 has size 2 and the array at index 1 has size 5"
     ]
    }
   ],
   "source": [
    "# 열 방향으로 결합: 행 개수 동일\n",
    "np.concatenate((a,d),axis=1)"
   ]
  },
  {
   "cell_type": "code",
   "execution_count": 127,
   "id": "af25c682",
   "metadata": {
    "hidden": true
   },
   "outputs": [
    {
     "data": {
      "text/plain": [
       "array([[ 1,  2,  3],\n",
       "       [ 4,  5,  6],\n",
       "       [23, 24, 25],\n",
       "       [26, 27, 28],\n",
       "       [29, 30, 31],\n",
       "       [32, 33, 34],\n",
       "       [35, 36, 37]])"
      ]
     },
     "execution_count": 127,
     "metadata": {},
     "output_type": "execute_result"
    }
   ],
   "source": [
    "np.concatenate((a,d),axis=0)"
   ]
  },
  {
   "cell_type": "markdown",
   "id": "0355c7dd",
   "metadata": {},
   "source": [
    "## 배열 분리"
   ]
  },
  {
   "cell_type": "markdown",
   "id": "0f0a2449",
   "metadata": {},
   "source": [
    "- np.split(arr, indices_or_sections, axis=0)\n",
    "    - axis = 0(기본값) : 행 단위로 분리\n",
    "    - axis = 1 : 열 단위로 분리\n",
    "    - 원본 배열은 변경되지 않음"
   ]
  },
  {
   "cell_type": "code",
   "execution_count": 128,
   "id": "82283755",
   "metadata": {},
   "outputs": [
    {
     "data": {
      "text/plain": [
       "array([[ 1,  2,  3,  4,  5,  6],\n",
       "       [ 7,  8,  9, 10, 11, 12],\n",
       "       [13, 14, 15, 16, 17, 18],\n",
       "       [19, 20, 21, 22, 23, 24],\n",
       "       [25, 26, 27, 28, 29, 30],\n",
       "       [31, 32, 33, 34, 35, 36]])"
      ]
     },
     "execution_count": 128,
     "metadata": {},
     "output_type": "execute_result"
    }
   ],
   "source": [
    "a = np.arange(1,37).reshape(6,6)\n",
    "a"
   ]
  },
  {
   "cell_type": "code",
   "execution_count": 129,
   "id": "1f2f38d5",
   "metadata": {},
   "outputs": [
    {
     "data": {
      "text/plain": [
       "[array([[1, 2, 3, 4, 5, 6]]),\n",
       " array([[ 7,  8,  9, 10, 11, 12]]),\n",
       " array([[13, 14, 15, 16, 17, 18]]),\n",
       " array([[19, 20, 21, 22, 23, 24],\n",
       "        [25, 26, 27, 28, 29, 30],\n",
       "        [31, 32, 33, 34, 35, 36]])]"
      ]
     },
     "execution_count": 129,
     "metadata": {},
     "output_type": "execute_result"
    }
   ],
   "source": [
    "# 균등하지 않게 행 기준으로 분리\n",
    "# 리스트로 넘기면 위치를 지정합니다.\n",
    "# 스칼라 값을 넘기면 균등하게 개수를 맞춰서 쪼개줍니다\n",
    "np.split(a,[1,2,3],axis=0)"
   ]
  },
  {
   "cell_type": "code",
   "execution_count": 130,
   "id": "ff7c515c",
   "metadata": {},
   "outputs": [
    {
     "ename": "ValueError",
     "evalue": "array split does not result in an equal division",
     "output_type": "error",
     "traceback": [
      "\u001b[1;31m---------------------------------------------------------------------------\u001b[0m",
      "\u001b[1;31mValueError\u001b[0m                                Traceback (most recent call last)",
      "Input \u001b[1;32mIn [130]\u001b[0m, in \u001b[0;36m<cell line: 1>\u001b[1;34m()\u001b[0m\n\u001b[1;32m----> 1\u001b[0m \u001b[43mnp\u001b[49m\u001b[38;5;241;43m.\u001b[39;49m\u001b[43msplit\u001b[49m\u001b[43m(\u001b[49m\u001b[43ma\u001b[49m\u001b[43m,\u001b[49m\u001b[38;5;241;43m4\u001b[39;49m\u001b[43m,\u001b[49m\u001b[43maxis\u001b[49m\u001b[38;5;241;43m=\u001b[39;49m\u001b[38;5;241;43m0\u001b[39;49m\u001b[43m)\u001b[49m\n",
      "File \u001b[1;32m<__array_function__ internals>:5\u001b[0m, in \u001b[0;36msplit\u001b[1;34m(*args, **kwargs)\u001b[0m\n",
      "File \u001b[1;32m~\\anaconda3\\lib\\site-packages\\numpy\\lib\\shape_base.py:872\u001b[0m, in \u001b[0;36msplit\u001b[1;34m(ary, indices_or_sections, axis)\u001b[0m\n\u001b[0;32m    870\u001b[0m     N \u001b[38;5;241m=\u001b[39m ary\u001b[38;5;241m.\u001b[39mshape[axis]\n\u001b[0;32m    871\u001b[0m     \u001b[38;5;28;01mif\u001b[39;00m N \u001b[38;5;241m%\u001b[39m sections:\n\u001b[1;32m--> 872\u001b[0m         \u001b[38;5;28;01mraise\u001b[39;00m \u001b[38;5;167;01mValueError\u001b[39;00m(\n\u001b[0;32m    873\u001b[0m             \u001b[38;5;124m'\u001b[39m\u001b[38;5;124marray split does not result in an equal division\u001b[39m\u001b[38;5;124m'\u001b[39m) \u001b[38;5;28;01mfrom\u001b[39;00m \u001b[38;5;28mNone\u001b[39m\n\u001b[0;32m    874\u001b[0m \u001b[38;5;28;01mreturn\u001b[39;00m array_split(ary, indices_or_sections, axis)\n",
      "\u001b[1;31mValueError\u001b[0m: array split does not result in an equal division"
     ]
    }
   ],
   "source": [
    "# 스칼라값으로 처리시 반드시 나눈 갯수가 정수로 떨어져야 합니다.\n",
    "np.split(a,4,axis=0)"
   ]
  },
  {
   "cell_type": "code",
   "execution_count": 132,
   "id": "ff0ba414",
   "metadata": {},
   "outputs": [
    {
     "data": {
      "text/plain": [
       "[array([[ 1,  2],\n",
       "        [ 7,  8],\n",
       "        [13, 14],\n",
       "        [19, 20],\n",
       "        [25, 26],\n",
       "        [31, 32]]),\n",
       " array([[ 3,  4],\n",
       "        [ 9, 10],\n",
       "        [15, 16],\n",
       "        [21, 22],\n",
       "        [27, 28],\n",
       "        [33, 34]]),\n",
       " array([[ 5,  6],\n",
       "        [11, 12],\n",
       "        [17, 18],\n",
       "        [23, 24],\n",
       "        [29, 30],\n",
       "        [35, 36]])]"
      ]
     },
     "execution_count": 132,
     "metadata": {},
     "output_type": "execute_result"
    }
   ],
   "source": [
    "# 균등한 간격으로 열 기준으로 3개 분리\n",
    "np.split(a,3,axis=1)"
   ]
  }
 ],
 "metadata": {
  "kernelspec": {
   "display_name": "Python 3 (ipykernel)",
   "language": "python",
   "name": "python3"
  },
  "language_info": {
   "codemirror_mode": {
    "name": "ipython",
    "version": 3
   },
   "file_extension": ".py",
   "mimetype": "text/x-python",
   "name": "python",
   "nbconvert_exporter": "python",
   "pygments_lexer": "ipython3",
   "version": "3.9.12"
  },
  "toc": {
   "base_numbering": 1,
   "nav_menu": {},
   "number_sections": true,
   "sideBar": true,
   "skip_h1_title": false,
   "title_cell": "Table of Contents",
   "title_sidebar": "Contents",
   "toc_cell": false,
   "toc_position": {
    "height": "calc(100% - 180px)",
    "left": "10px",
    "top": "150px",
    "width": "349.091px"
   },
   "toc_section_display": true,
   "toc_window_display": false
  }
 },
 "nbformat": 4,
 "nbformat_minor": 5
}
