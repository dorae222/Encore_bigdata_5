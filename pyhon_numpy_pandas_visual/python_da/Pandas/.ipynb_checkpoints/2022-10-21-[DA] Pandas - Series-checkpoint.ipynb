{
 "cells": [
  {
   "cell_type": "markdown",
   "id": "f34cf862",
   "metadata": {
    "heading_collapsed": true
   },
   "source": [
    "# \"[DA] Pandas - Series\"\n",
    "> \"Pandas Series 자료형\"\n",
    "\n",
    "- toc: true\n",
    "- branch: master\n",
    "- badges: true\n",
    "- comments: true\n",
    "- categories: [pandas,Series]\n",
    "- author: 도형준"
   ]
  },
  {
   "cell_type": "markdown",
   "id": "3f3ecd4d",
   "metadata": {},
   "source": [
    "# Pandas"
   ]
  },
  {
   "cell_type": "markdown",
   "id": "03c5da1b",
   "metadata": {},
   "source": [
    "- 데이터 처리 및 분석을 위한 라이브러리\n",
    "- 대용량 데이터를 안정적이면서도 간편하게 처리\n",
    "- 서로 다른 데이터타입으로 열을 구성할 수 있음\n",
    "- (참고) Numpy : 전체 배열 원소를 동일한 타입으로 제한\n",
    "- 주요 기능\n",
    "    - 데이터 입출력 : csv, excel, RDB, JSON 등 다양한 포맷의 데이터를 효율적으로 처리할 수 있는 형식을 사용\n",
    "    - 데이터 가공 : 분리, 결합, 계층, 피봇 등\n",
    "    - 통계 분석 처리"
   ]
  },
  {
   "cell_type": "markdown",
   "id": "a0936076",
   "metadata": {},
   "source": [
    "#### 자료형\n",
    "- Series <br>\n",
    "    - 1차원 배열과 유사한 자료형\n",
    "    - 색인(index) : 행 번호\n",
    "        - 각각의 데이터에 부여하는 속성으로 기본값은 0부터 1씩 증가하는 숫자 지정\n",
    "        - index 파라미터를 통해 새로운 값으로 변경 가능\n",
    "        - 리스트, 튜플 타입으로 새로운 값을 전달해야하며 다차원 자료형은 사용할 수 없음\n",
    "        - 전달하는 색인의 개수와 데이터의 개수가 일치해야 함\n",
    "    - 각각의 색인과 데이터가 매핑되어 있으므로 dictionary 자료형과 유사\n",
    "    - 여러 가지 데이터 타입 사용 가능\n",
    "![series_example](https://user-images.githubusercontent.com/105966480/196884323-2e1d56c1-1ab0-4abb-9c8c-9df38420495d.PNG)"
   ]
  },
  {
   "cell_type": "code",
   "execution_count": 1,
   "id": "bf98e457",
   "metadata": {},
   "outputs": [],
   "source": [
    "# 필요한 라이브러리 및 Series, dataFrame 네임스페이스 불러오기\n",
    "import pandas as pd"
   ]
  },
  {
   "cell_type": "markdown",
   "id": "0b82e37c",
   "metadata": {},
   "source": [
    "## Series 생성 및 속성"
   ]
  },
  {
   "cell_type": "markdown",
   "id": "4b35b1ea",
   "metadata": {},
   "source": [
    "- 하나의 값(숫자, 문자) 또는 자료형(리스트, 튜플, np 배열)으로 데이터 전달\n",
    "- 속성은 소괄호를 붙이지 않음\n",
    "- index : series 객체의 인덱스 배열을 반환\n",
    "- values : series 객체의 데이터(값) 배열을 반환\n",
    "- name : series 객체의 이름을 반환\n",
    "- dtype : series 객체의 데이터 타입을 반환\n",
    "- size : series 객체의 데이터 개수(길이)를 반환\n",
    "- shape : series 객체의 구조(행, 열, 차원)를 반환"
   ]
  },
  {
   "cell_type": "code",
   "execution_count": 2,
   "id": "f7389f69",
   "metadata": {},
   "outputs": [
    {
     "name": "stderr",
     "output_type": "stream",
     "text": [
      "C:\\Users\\dhj98\\AppData\\Local\\Temp\\ipykernel_27080\\1418016953.py:2: FutureWarning: The default dtype for empty Series will be 'object' instead of 'float64' in a future version. Specify a dtype explicitly to silence this warning.\n",
      "  pd.Series()\n"
     ]
    },
    {
     "data": {
      "text/plain": [
       "Series([], dtype: float64)"
      ]
     },
     "execution_count": 2,
     "metadata": {},
     "output_type": "execute_result"
    }
   ],
   "source": [
    "# Series 생성\n",
    "pd.Series()"
   ]
  },
  {
   "cell_type": "markdown",
   "id": "5f3c8813",
   "metadata": {
    "heading_collapsed": true
   },
   "source": [
    "### 숫자"
   ]
  },
  {
   "cell_type": "code",
   "execution_count": 3,
   "id": "d1fc2be0",
   "metadata": {
    "hidden": true
   },
   "outputs": [
    {
     "data": {
      "text/plain": [
       "0    10\n",
       "dtype: int64"
      ]
     },
     "execution_count": 3,
     "metadata": {},
     "output_type": "execute_result"
    }
   ],
   "source": [
    "# 숫자 10을 데이터로 가지고 있는 Series\n",
    "# 결과해석\n",
    "# 왼쪽 0 = 자동으로 생성되는 기본 인덱스번호(0부터 시작)\n",
    "# 오른쪽 1 = 입력한 데이터 값\n",
    "s1 = pd.Series(10)\n",
    "s1"
   ]
  },
  {
   "cell_type": "code",
   "execution_count": 4,
   "id": "a334b13a",
   "metadata": {
    "hidden": true
   },
   "outputs": [
    {
     "data": {
      "text/plain": [
       "10"
      ]
     },
     "execution_count": 4,
     "metadata": {},
     "output_type": "execute_result"
    }
   ],
   "source": [
    "# 값을 얻을때는 인덱싱이나 슬라이싱을 활용함\n",
    "s1[0]"
   ]
  },
  {
   "cell_type": "code",
   "execution_count": 5,
   "id": "060fabc3",
   "metadata": {
    "hidden": true
   },
   "outputs": [
    {
     "data": {
      "text/plain": [
       "array([10], dtype=int64)"
      ]
     },
     "execution_count": 5,
     "metadata": {},
     "output_type": "execute_result"
    }
   ],
   "source": [
    "# 데이터 내부에 저장된 값 확인\n",
    "s1.values"
   ]
  },
  {
   "cell_type": "code",
   "execution_count": 6,
   "id": "c91737e5",
   "metadata": {
    "hidden": true
   },
   "outputs": [
    {
     "data": {
      "text/plain": [
       "RangeIndex(start=0, stop=1, step=1)"
      ]
     },
     "execution_count": 6,
     "metadata": {},
     "output_type": "execute_result"
    }
   ],
   "source": [
    "# 인덱스 번호 확인\n",
    "# RangeIndex: 기본적으로 생성되는 인덱스 번호를 사용하는 경우 부여\n",
    "s1.index"
   ]
  },
  {
   "cell_type": "markdown",
   "id": "7a17b8bf",
   "metadata": {
    "heading_collapsed": true
   },
   "source": [
    "### 문자"
   ]
  },
  {
   "cell_type": "code",
   "execution_count": 7,
   "id": "032d6ec2",
   "metadata": {
    "hidden": true
   },
   "outputs": [
    {
     "data": {
      "text/plain": [
       "0    abc\n",
       "dtype: object"
      ]
     },
     "execution_count": 7,
     "metadata": {},
     "output_type": "execute_result"
    }
   ],
   "source": [
    "# 문자\n",
    "s2 = pd.Series('abc')\n",
    "s2"
   ]
  },
  {
   "cell_type": "code",
   "execution_count": 8,
   "id": "263596e4",
   "metadata": {
    "hidden": true
   },
   "outputs": [
    {
     "data": {
      "text/plain": [
       "array(['abc'], dtype=object)"
      ]
     },
     "execution_count": 8,
     "metadata": {},
     "output_type": "execute_result"
    }
   ],
   "source": [
    "# 데이터 확인\n",
    "s2.values"
   ]
  },
  {
   "cell_type": "code",
   "execution_count": 9,
   "id": "c97521dc",
   "metadata": {
    "hidden": true
   },
   "outputs": [
    {
     "data": {
      "text/plain": [
       "RangeIndex(start=0, stop=1, step=1)"
      ]
     },
     "execution_count": 9,
     "metadata": {},
     "output_type": "execute_result"
    }
   ],
   "source": [
    "# 인덱스 확인\n",
    "s2.index"
   ]
  },
  {
   "cell_type": "markdown",
   "id": "ce749f34",
   "metadata": {
    "heading_collapsed": true
   },
   "source": [
    "### 리스트 자료형"
   ]
  },
  {
   "cell_type": "code",
   "execution_count": 10,
   "id": "9330a2fc",
   "metadata": {
    "hidden": true
   },
   "outputs": [
    {
     "data": {
      "text/plain": [
       "0    10\n",
       "1    20\n",
       "2    30\n",
       "dtype: int64"
      ]
     },
     "execution_count": 10,
     "metadata": {},
     "output_type": "execute_result"
    }
   ],
   "source": [
    "# 리스트 자료형\n",
    "s3 = pd.Series([10,20,30])\n",
    "s3"
   ]
  },
  {
   "cell_type": "code",
   "execution_count": 11,
   "id": "8703a6c5",
   "metadata": {
    "hidden": true
   },
   "outputs": [
    {
     "data": {
      "text/plain": [
       "array([10, 20, 30], dtype=int64)"
      ]
     },
     "execution_count": 11,
     "metadata": {},
     "output_type": "execute_result"
    }
   ],
   "source": [
    "# 데이터 확인\n",
    "s3.values"
   ]
  },
  {
   "cell_type": "code",
   "execution_count": 12,
   "id": "ddce89a0",
   "metadata": {
    "hidden": true
   },
   "outputs": [
    {
     "data": {
      "text/plain": [
       "RangeIndex(start=0, stop=3, step=1)"
      ]
     },
     "execution_count": 12,
     "metadata": {},
     "output_type": "execute_result"
    }
   ],
   "source": [
    "# 인덱스 확인\n",
    "# 0이상 3미만의 RangeIndex: 0, 1, 2\n",
    "s3.index"
   ]
  },
  {
   "cell_type": "markdown",
   "id": "9450620d",
   "metadata": {
    "heading_collapsed": true
   },
   "source": [
    "### 데이터 타입이 서로 다른 리스트 자료형"
   ]
  },
  {
   "cell_type": "code",
   "execution_count": 13,
   "id": "d4c703c7",
   "metadata": {
    "hidden": true
   },
   "outputs": [
    {
     "data": {
      "text/plain": [
       "0         10.3\n",
       "1         test\n",
       "2            2\n",
       "3    [1, 2, 3]\n",
       "dtype: object"
      ]
     },
     "execution_count": 13,
     "metadata": {},
     "output_type": "execute_result"
    }
   ],
   "source": [
    "s4 = pd.Series([10.3,'test',2,[1,2,3]])\n",
    "s4"
   ]
  },
  {
   "cell_type": "code",
   "execution_count": 14,
   "id": "c074bf80",
   "metadata": {
    "hidden": true
   },
   "outputs": [
    {
     "data": {
      "text/plain": [
       "array([10.3, 'test', 2, list([1, 2, 3])], dtype=object)"
      ]
     },
     "execution_count": 14,
     "metadata": {},
     "output_type": "execute_result"
    }
   ],
   "source": [
    "# 데이터 확인\n",
    "s4.values"
   ]
  },
  {
   "cell_type": "code",
   "execution_count": 15,
   "id": "eb045b93",
   "metadata": {
    "hidden": true
   },
   "outputs": [
    {
     "data": {
      "text/plain": [
       "RangeIndex(start=0, stop=4, step=1)"
      ]
     },
     "execution_count": 15,
     "metadata": {},
     "output_type": "execute_result"
    }
   ],
   "source": [
    "# 인덱스 확인\n",
    "s4.index"
   ]
  },
  {
   "cell_type": "markdown",
   "id": "b80998b9",
   "metadata": {},
   "source": [
    "### 딕셔너리 자료형"
   ]
  },
  {
   "cell_type": "markdown",
   "id": "50f2610a",
   "metadata": {},
   "source": [
    "- 자동으로 라벨 부여\n",
    "- key가 index, value가 실제 데이터"
   ]
  },
  {
   "cell_type": "code",
   "execution_count": 16,
   "id": "b7b98ff6",
   "metadata": {},
   "outputs": [
    {
     "data": {
      "text/plain": [
       "a    10\n",
       "b    20\n",
       "c    30\n",
       "dtype: int64"
      ]
     },
     "execution_count": 16,
     "metadata": {},
     "output_type": "execute_result"
    }
   ],
   "source": [
    "s5 = pd.Series({'a':10,'b':20,'c':30})\n",
    "s5"
   ]
  },
  {
   "cell_type": "code",
   "execution_count": 17,
   "id": "59de28c0",
   "metadata": {},
   "outputs": [
    {
     "data": {
      "text/plain": [
       "array([10, 20, 30], dtype=int64)"
      ]
     },
     "execution_count": 17,
     "metadata": {},
     "output_type": "execute_result"
    }
   ],
   "source": [
    "# 데이터 확인\n",
    "s5.values"
   ]
  },
  {
   "cell_type": "code",
   "execution_count": 18,
   "id": "4da8782a",
   "metadata": {},
   "outputs": [
    {
     "data": {
      "text/plain": [
       "Index(['a', 'b', 'c'], dtype='object')"
      ]
     },
     "execution_count": 18,
     "metadata": {},
     "output_type": "execute_result"
    }
   ],
   "source": [
    "# 인덱스 확인\n",
    "s5.index"
   ]
  },
  {
   "cell_type": "code",
   "execution_count": 19,
   "id": "3d97a0cc",
   "metadata": {},
   "outputs": [
    {
     "data": {
      "text/plain": [
       "10"
      ]
     },
     "execution_count": 19,
     "metadata": {},
     "output_type": "execute_result"
    }
   ],
   "source": [
    "# 숫자인덱스도 병행해서 사용 가능\n",
    "s5[0]"
   ]
  },
  {
   "cell_type": "code",
   "execution_count": 20,
   "id": "03888c35",
   "metadata": {},
   "outputs": [
    {
     "data": {
      "text/plain": [
       "10"
      ]
     },
     "execution_count": 20,
     "metadata": {},
     "output_type": "execute_result"
    }
   ],
   "source": [
    "# 문자로도 가능\n",
    "s5['a']"
   ]
  },
  {
   "cell_type": "code",
   "execution_count": 21,
   "id": "6a7fdb9e",
   "metadata": {},
   "outputs": [
    {
     "data": {
      "text/plain": [
       "Index(['a', 'b', 'c'], dtype='object')"
      ]
     },
     "execution_count": 21,
     "metadata": {},
     "output_type": "execute_result"
    }
   ],
   "source": [
    "# 인덱스 새롭게 지정하기\n",
    "# 인덱스 속성(길이)을 참조하여 리스트, 튜플 타입으로 전달\n",
    "# 라벨 인덱스가 없던 경우 => 새롭게 라벨 인덱스 부여\n",
    "# 라벨 인덱스가 있는 경우 => 기존에 있던 라벨 인덱스에 덮어씌우기\n",
    "s5.index"
   ]
  },
  {
   "cell_type": "code",
   "execution_count": 22,
   "id": "64a7e6b9",
   "metadata": {},
   "outputs": [
    {
     "data": {
      "text/plain": [
       "RangeIndex(start=0, stop=4, step=1)"
      ]
     },
     "execution_count": 22,
     "metadata": {},
     "output_type": "execute_result"
    }
   ],
   "source": [
    "s4.index # RangeIndex는 컴퓨터가 자동으로 부여한 인덱스"
   ]
  },
  {
   "cell_type": "code",
   "execution_count": 23,
   "id": "bb943961",
   "metadata": {},
   "outputs": [
    {
     "data": {
      "text/plain": [
       "0    1.0\n",
       "1    2.0\n",
       "2    3.0\n",
       "3    4.0\n",
       "4    5.0\n",
       "dtype: float64"
      ]
     },
     "execution_count": 23,
     "metadata": {},
     "output_type": "execute_result"
    }
   ],
   "source": [
    "# 튜플로도 생성 가능\n",
    "s6 = pd.Series((1,2,3,4,5.0))\n",
    "s6"
   ]
  },
  {
   "cell_type": "code",
   "execution_count": 24,
   "id": "6d411bea",
   "metadata": {},
   "outputs": [
    {
     "data": {
      "text/plain": [
       "2018    1.0\n",
       "2019    2.0\n",
       "2020    3.0\n",
       "2021    4.0\n",
       "2022    5.0\n",
       "dtype: float64"
      ]
     },
     "execution_count": 24,
     "metadata": {},
     "output_type": "execute_result"
    }
   ],
   "source": [
    "# 인덱스를 새롭게 지정할 때는 RangeIndex 범위만큼 길이를 가지는 리스트를 사용\n",
    "# 행 개수(데이터 개수)와 동일한 길이를 전달해야 한다\n",
    "s6.index = [2018,2019,2020,2021,2022]\n",
    "s6"
   ]
  },
  {
   "cell_type": "code",
   "execution_count": 25,
   "id": "571f6ef5",
   "metadata": {},
   "outputs": [
    {
     "name": "stdout",
     "output_type": "stream",
     "text": [
      "Int64Index([2018, 2019, 2020, 2021, 2022], dtype='int64')\n",
      "2021\n"
     ]
    }
   ],
   "source": [
    "# 인덱스를 지정하여 객체 생성\n",
    "# 인덱스 객체에 대해서 아이템 참조는 가능\n",
    "print(s6.index)\n",
    "print(s6.index[3])"
   ]
  },
  {
   "cell_type": "code",
   "execution_count": 26,
   "id": "4aa7c5f1",
   "metadata": {
    "scrolled": true
   },
   "outputs": [
    {
     "ename": "TypeError",
     "evalue": "Index does not support mutable operations",
     "output_type": "error",
     "traceback": [
      "\u001b[1;31m---------------------------------------------------------------------------\u001b[0m",
      "\u001b[1;31mTypeError\u001b[0m                                 Traceback (most recent call last)",
      "Input \u001b[1;32mIn [26]\u001b[0m, in \u001b[0;36m<cell line: 2>\u001b[1;34m()\u001b[0m\n\u001b[0;32m      1\u001b[0m \u001b[38;5;66;03m# 인덱스 객체 내부의 단일 라벨 인덱스만 수정하는 것은 불가능\u001b[39;00m\n\u001b[1;32m----> 2\u001b[0m s6\u001b[38;5;241m.\u001b[39mindex[\u001b[38;5;241m-\u001b[39m\u001b[38;5;241m1\u001b[39m] \u001b[38;5;241m=\u001b[39m \u001b[38;5;241m2023\u001b[39m\n",
      "File \u001b[1;32m~\\anaconda3\\lib\\site-packages\\pandas\\core\\indexes\\base.py:5021\u001b[0m, in \u001b[0;36mIndex.__setitem__\u001b[1;34m(self, key, value)\u001b[0m\n\u001b[0;32m   5019\u001b[0m \u001b[38;5;129m@final\u001b[39m\n\u001b[0;32m   5020\u001b[0m \u001b[38;5;28;01mdef\u001b[39;00m \u001b[38;5;21m__setitem__\u001b[39m(\u001b[38;5;28mself\u001b[39m, key, value):\n\u001b[1;32m-> 5021\u001b[0m     \u001b[38;5;28;01mraise\u001b[39;00m \u001b[38;5;167;01mTypeError\u001b[39;00m(\u001b[38;5;124m\"\u001b[39m\u001b[38;5;124mIndex does not support mutable operations\u001b[39m\u001b[38;5;124m\"\u001b[39m)\n",
      "\u001b[1;31mTypeError\u001b[0m: Index does not support mutable operations"
     ]
    }
   ],
   "source": [
    "# 인덱스 객체 내부의 단일 라벨 인덱스만 수정하는 것은 불가능\n",
    "s6.index[-1] = 2023"
   ]
  },
  {
   "cell_type": "code",
   "execution_count": 27,
   "id": "f73441f9",
   "metadata": {},
   "outputs": [
    {
     "data": {
      "text/plain": [
       "2018    1.0\n",
       "2019    2.0\n",
       "2020    3.0\n",
       "2021    4.0\n",
       "2023    5.0\n",
       "dtype: float64"
      ]
     },
     "execution_count": 27,
     "metadata": {},
     "output_type": "execute_result"
    }
   ],
   "source": [
    "# 인덱스 라벨링 수정시 전체 인덱스를 대입해줘야 한다\n",
    "s6.index = [2018,2019,2020,2021,2023]\n",
    "s6"
   ]
  },
  {
   "cell_type": "code",
   "execution_count": 28,
   "id": "58e90424",
   "metadata": {},
   "outputs": [
    {
     "data": {
      "text/plain": [
       "mon     10\n",
       "tue     20\n",
       "wed     30\n",
       "thur    40\n",
       "dtype: int64"
      ]
     },
     "execution_count": 28,
     "metadata": {},
     "output_type": "execute_result"
    }
   ],
   "source": [
    "# 딕셔너리 없이 시리즈에 라벨 인덱스르 부여하고 싶은 경우\n",
    "# Series() 생성시 index를 파라미터로 줘서 처리할 수 있음\n",
    "# pd.Series(data, index=[...])\n",
    "s7 = pd.Series([10,20,30,40],index=['mon','tue','wed','thur'])\n",
    "s7"
   ]
  },
  {
   "cell_type": "code",
   "execution_count": 29,
   "id": "eb7e1023",
   "metadata": {},
   "outputs": [
    {
     "data": {
      "text/plain": [
       "array([10, 20, 30, 40], dtype=int64)"
      ]
     },
     "execution_count": 29,
     "metadata": {},
     "output_type": "execute_result"
    }
   ],
   "source": [
    "s7.values"
   ]
  },
  {
   "cell_type": "code",
   "execution_count": 30,
   "id": "f784cd64",
   "metadata": {},
   "outputs": [
    {
     "data": {
      "text/plain": [
       "Index(['mon', 'tue', 'wed', 'thur'], dtype='object')"
      ]
     },
     "execution_count": 30,
     "metadata": {},
     "output_type": "execute_result"
    }
   ],
   "source": [
    "s7.index"
   ]
  },
  {
   "cell_type": "code",
   "execution_count": 31,
   "id": "8929d61e",
   "metadata": {},
   "outputs": [
    {
     "name": "stdout",
     "output_type": "stream",
     "text": [
      "40\n",
      "40\n"
     ]
    }
   ],
   "source": [
    "# 자동 부여된 숫자 인덱스도 사용 가능함\n",
    "print(s7[3])\n",
    "print(s7['thur'])"
   ]
  },
  {
   "cell_type": "markdown",
   "id": "ff2a294e",
   "metadata": {},
   "source": [
    "### 딕셔너리 자료형과 유사한 Series 자료형"
   ]
  },
  {
   "cell_type": "code",
   "execution_count": 32,
   "id": "9a502b4b",
   "metadata": {},
   "outputs": [
    {
     "name": "stdout",
     "output_type": "stream",
     "text": [
      "{'서울': 100, '경기': 200, '강원': 300, '부산': 400} \n",
      "\n",
      "서울    100\n",
      "경기    200\n",
      "강원    300\n",
      "부산    400\n",
      "dtype: int64\n"
     ]
    }
   ],
   "source": [
    "# 딕셔너리 자료형으로  Series 생성\n",
    "data = {'서울':100, '경기':200,'강원':300,'부산':400}\n",
    "sample =pd.Series(data)\n",
    "print(data,'\\n')\n",
    "print(sample)"
   ]
  },
  {
   "cell_type": "code",
   "execution_count": 33,
   "id": "38426cdb",
   "metadata": {},
   "outputs": [
    {
     "name": "stdout",
     "output_type": "stream",
     "text": [
      "True \n",
      "\n",
      "True\n"
     ]
    }
   ],
   "source": [
    "# Series 객체와 in연산자\n",
    "# 딕셔너리와 유사: in 연산자를 사용해 내부 요소 검사시\n",
    "# key값에 해당하는 라벨을 이용해 해당 요소가 있는지 없는지 여부를 True, False로 출력\n",
    "print('서울' in data, '\\n')\n",
    "print('서울'in sample)"
   ]
  },
  {
   "cell_type": "code",
   "execution_count": 34,
   "id": "667c162a",
   "metadata": {},
   "outputs": [
    {
     "name": "stdout",
     "output_type": "stream",
     "text": [
      "서울\n",
      "경기\n",
      "강원\n",
      "부산\n",
      "--------\n",
      "100\n",
      "200\n",
      "300\n",
      "400\n"
     ]
    }
   ],
   "source": [
    "# for 문에서 in연산자로 접근: Series의 value값을 참조\n",
    "for key in data:\n",
    "    print(key)\n",
    "print('--------')\n",
    "for value in sample.values:\n",
    "    print(value)"
   ]
  },
  {
   "cell_type": "code",
   "execution_count": 35,
   "id": "d07f25c0",
   "metadata": {},
   "outputs": [
    {
     "data": {
      "text/plain": [
       "서울    100.0\n",
       "경기    200.0\n",
       "강원    300.0\n",
       "제주      NaN\n",
       "dtype: float64"
      ]
     },
     "execution_count": 35,
     "metadata": {},
     "output_type": "execute_result"
    }
   ],
   "source": [
    "# 서울, 경기, 강원, 부산 => 서울, 경기, 강원, 제주로 라벨 인덱싱 변경\n",
    "# 지정한 index 기준으로 Series 생성\n",
    "# 사용하는 인덱스에 없는 값은 Series에 NaN값으로 저장\n",
    "# NaN: Not a Number(결측치) => numpy에서 해당 위치가 비었음을 의미하는 자료(null)\n",
    "# None: 파이썬 기본 자료형에서 값이 없음을 의미하는 자료\n",
    "index2 = ['서울','경기','강원','제주']\n",
    "sample2 = pd.Series(data,index = index2)\n",
    "sample2"
   ]
  },
  {
   "cell_type": "markdown",
   "id": "4ebc0a7b",
   "metadata": {},
   "source": [
    "### 인덱싱(Indexing)"
   ]
  },
  {
   "cell_type": "markdown",
   "id": "0675810d",
   "metadata": {},
   "source": [
    "- 하나의 특정 값을 선택하거나 변경\n",
    "- 참조하는 인덱스: 기본 숫자 인덱스, 라벨 인덱스\n",
    "- 새로운 인덱스를 설정해도 기본 숫자 인덱스 사용 가능"
   ]
  },
  {
   "cell_type": "code",
   "execution_count": 36,
   "id": "862e9caa",
   "metadata": {},
   "outputs": [
    {
     "data": {
      "text/plain": [
       "a    10\n",
       "b    20\n",
       "c    30\n",
       "dtype: int64"
      ]
     },
     "execution_count": 36,
     "metadata": {},
     "output_type": "execute_result"
    }
   ],
   "source": [
    "s6_data = {'a':10,'b':20,'c':30}\n",
    "s6 = pd.Series(s6_data)\n",
    "s6"
   ]
  },
  {
   "cell_type": "code",
   "execution_count": 37,
   "id": "b85a87e4",
   "metadata": {},
   "outputs": [
    {
     "name": "stdout",
     "output_type": "stream",
     "text": [
      "a \n",
      "\n",
      "10\n"
     ]
    }
   ],
   "source": [
    "# Series s6의 첫 번째 데이터 => 인덱스 으로 조회\n",
    "# Series 객체[인덱스번호 or 라벨숫자]\n",
    "print(s6.index[0],'\\n') # 인덱스의 0번째는 'a'\n",
    "print(s6[0]) # s6wkcpdml 0번째 자료는 10"
   ]
  },
  {
   "cell_type": "code",
   "execution_count": 38,
   "id": "36877602",
   "metadata": {},
   "outputs": [
    {
     "data": {
      "text/plain": [
       "10"
      ]
     },
     "execution_count": 38,
     "metadata": {},
     "output_type": "execute_result"
    }
   ],
   "source": [
    "# Series s6의 인덱스 a에 매칭된 데이터 조회\n",
    "s6['a']"
   ]
  },
  {
   "cell_type": "code",
   "execution_count": 39,
   "id": "14e3aee0",
   "metadata": {},
   "outputs": [
    {
     "data": {
      "text/plain": [
       "mon     10\n",
       "tue     20\n",
       "wed     30\n",
       "thur    40\n",
       "dtype: int64"
      ]
     },
     "execution_count": 39,
     "metadata": {},
     "output_type": "execute_result"
    }
   ],
   "source": [
    "# 요일 - 자료 매칭 데이터 조회\n",
    "s7"
   ]
  },
  {
   "cell_type": "code",
   "execution_count": 40,
   "id": "664550e7",
   "metadata": {},
   "outputs": [
    {
     "data": {
      "text/plain": [
       "mon      10\n",
       "tue     700\n",
       "wed      30\n",
       "thur     40\n",
       "dtype: int64"
      ]
     },
     "execution_count": 40,
     "metadata": {},
     "output_type": "execute_result"
    }
   ],
   "source": [
    "# Series s7의 인덱스 tue에 해당하는 데이터 값은 변경\n",
    "# 인덱스(라벨링)은 개별적으로 하나하나 변경 불가능\n",
    "# 인덱스에 매칭된 데이터는 개별 데이터별 변경 가능\n",
    "s7['tue'] = 700\n",
    "s7"
   ]
  },
  {
   "cell_type": "code",
   "execution_count": 41,
   "id": "b559e0b1",
   "metadata": {},
   "outputs": [
    {
     "data": {
      "text/plain": [
       "wed    30\n",
       "mon    10\n",
       "dtype: int64"
      ]
     },
     "execution_count": 41,
     "metadata": {},
     "output_type": "execute_result"
    }
   ],
   "source": [
    "# 시리즈에서 원하는 로우(행)만 조회하기: 조회할 row명을 리스트로 묶어서 전달\n",
    "# Series s7에서 wed, mon 라벨 조회\n",
    "# 이중리스트를 사용해 조회해야함 => s7['wed','mon']\n",
    "s7[['wed','mon']]"
   ]
  },
  {
   "cell_type": "markdown",
   "id": "2b33450b",
   "metadata": {},
   "source": [
    "### 슬라이싱(Slicing)"
   ]
  },
  {
   "cell_type": "markdown",
   "id": "20af05c1",
   "metadata": {},
   "source": [
    "- Series객체[시작인덱스 : 끝인덱스 : 간격]\n",
    "- 특정 범위의 값을 선택하거나 변경\n",
    "- 기본 숫자 인덱스 또는 새로운 인덱스 모두 사용 가능\n",
    "- 기본 숫자 인덱스를 사용해서 슬라이싱 할 때는 끝 인덱스 미포함\n",
    "- 라벨 인덱스를 사용해서 슬라이싱 할 때 끝 인덱스까지 모두 포함"
   ]
  },
  {
   "cell_type": "code",
   "execution_count": 42,
   "id": "9c8a024a",
   "metadata": {},
   "outputs": [
    {
     "data": {
      "text/plain": [
       "a    10\n",
       "b    20\n",
       "c    30\n",
       "d    40\n",
       "e    50\n",
       "dtype: int64"
      ]
     },
     "execution_count": 42,
     "metadata": {},
     "output_type": "execute_result"
    }
   ],
   "source": [
    "# 인덱스 0에서 인덱스 2(포함)까지 조회\n",
    "s1 =pd.Series([10,20,30,40,50],index = list('abcde'))\n",
    "s1"
   ]
  },
  {
   "cell_type": "code",
   "execution_count": 43,
   "id": "dde1ba83",
   "metadata": {},
   "outputs": [
    {
     "data": {
      "text/plain": [
       "a    10\n",
       "b    20\n",
       "dtype: int64"
      ]
     },
     "execution_count": 43,
     "metadata": {},
     "output_type": "execute_result"
    }
   ],
   "source": [
    "# Rangeindex: 0,1\n",
    "s1[0:2]"
   ]
  },
  {
   "cell_type": "code",
   "execution_count": 44,
   "id": "44cd92b7",
   "metadata": {},
   "outputs": [
    {
     "data": {
      "text/plain": [
       "a    10\n",
       "b    20\n",
       "c    30\n",
       "dtype: int64"
      ]
     },
     "execution_count": 44,
     "metadata": {},
     "output_type": "execute_result"
    }
   ],
   "source": [
    "# 라벨 'a'에서 라벨'c'(c포함)\n",
    "s1['a':'c']"
   ]
  },
  {
   "cell_type": "code",
   "execution_count": 45,
   "id": "130e916a",
   "metadata": {},
   "outputs": [
    {
     "data": {
      "text/plain": [
       "a    10\n",
       "c    30\n",
       "dtype: int64"
      ]
     },
     "execution_count": 45,
     "metadata": {},
     "output_type": "execute_result"
    }
   ],
   "source": [
    "# 0~3범위를 2개간격으로 인덱싱\n",
    "s1[0:4:2]"
   ]
  },
  {
   "cell_type": "code",
   "execution_count": 46,
   "id": "bf293bf8",
   "metadata": {},
   "outputs": [
    {
     "data": {
      "text/plain": [
       "b    20\n",
       "d    40\n",
       "dtype: int64"
      ]
     },
     "execution_count": 46,
     "metadata": {},
     "output_type": "execute_result"
    }
   ],
   "source": [
    "# 인덱스 'b'에서 인덱스 'd'(포함)까지 2개 간격으로 조회\n",
    "s1['b':'d':2]"
   ]
  },
  {
   "cell_type": "markdown",
   "id": "3653b209",
   "metadata": {},
   "source": [
    "### 조건 색인(Boolean Indexing)"
   ]
  },
  {
   "cell_type": "markdown",
   "id": "6dfbd85d",
   "metadata": {},
   "source": [
    "- 객체에 벡터와 스칼라 연산을 적용하여 True인 데이터만 반환\n",
    "![conditional_index](https://user-images.githubusercontent.com/105966480/197088355-aac0962e-2df8-429c-84eb-f35ead50153d.PNG)"
   ]
  },
  {
   "cell_type": "code",
   "execution_count": 47,
   "id": "29470a4a",
   "metadata": {
    "scrolled": true
   },
   "outputs": [
    {
     "data": {
      "text/plain": [
       "0     10\n",
       "1     -3\n",
       "2     14\n",
       "3     70\n",
       "4    -44\n",
       "5    -18\n",
       "6     -5\n",
       "7      1\n",
       "8     -2\n",
       "9     12\n",
       "10     5\n",
       "dtype: int64"
      ]
     },
     "execution_count": 47,
     "metadata": {},
     "output_type": "execute_result"
    }
   ],
   "source": [
    "# 양수와 음수 데이터를 저장하고 있는 Series 생성\n",
    "s2 = pd.Series([10, -3, 14, 70, -44, -18, -5, 1, -2, 12, 5])\n",
    "s2"
   ]
  },
  {
   "cell_type": "code",
   "execution_count": 48,
   "id": "acd8d80a",
   "metadata": {},
   "outputs": [
    {
     "data": {
      "text/plain": [
       "0     False\n",
       "1      True\n",
       "2     False\n",
       "3     False\n",
       "4      True\n",
       "5      True\n",
       "6      True\n",
       "7     False\n",
       "8      True\n",
       "9     False\n",
       "10    False\n",
       "dtype: bool"
      ]
     },
     "execution_count": 48,
     "metadata": {},
     "output_type": "execute_result"
    }
   ],
   "source": [
    "# 음수인 데이터는 True로, 양수인 데이터는 False로 만들기\n",
    "s2<0"
   ]
  },
  {
   "cell_type": "code",
   "execution_count": 49,
   "id": "f67ac738",
   "metadata": {},
   "outputs": [
    {
     "data": {
      "text/plain": [
       "1    -3\n",
       "4   -44\n",
       "5   -18\n",
       "6    -5\n",
       "8    -2\n",
       "dtype: int64"
      ]
     },
     "execution_count": 49,
     "metadata": {},
     "output_type": "execute_result"
    }
   ],
   "source": [
    "# 위의 조건식을 이용해 조건색인으로 s2내부데이터 중 음수만 남기기\n",
    "s2[s2<0]"
   ]
  },
  {
   "cell_type": "code",
   "execution_count": 50,
   "id": "b3c88087",
   "metadata": {},
   "outputs": [
    {
     "data": {
      "text/plain": [
       "7     1\n",
       "10    5\n",
       "dtype: int64"
      ]
     },
     "execution_count": 50,
     "metadata": {},
     "output_type": "execute_result"
    }
   ],
   "source": [
    "# 두 개 이상의 조건 병렬형태로 처리하기\n",
    "# 양수이면서 10보다 작은 값만 조건식으로 남기기\n",
    "s2[(0<s2) & (s2<10)]"
   ]
  },
  {
   "cell_type": "markdown",
   "id": "17f8fc90",
   "metadata": {},
   "source": [
    "## 산술연산"
   ]
  },
  {
   "cell_type": "markdown",
   "id": "6d2256aa",
   "metadata": {},
   "source": [
    "- series 객체와 스칼라 값의 산술연산 => BroadCasting\n",
    "- series 객체 간의 산술연산\n",
    "    - 인덱스의 라벨이 동일한 것끼리 연산 수행, 공통으로 존재하지 않는 경우 NaN 반환\n",
    "    - 라벨이 없는 경우 차례대로 연산 수행, 개수가 동일하지 않는 경우 NaN 반환\n",
    "    - fill_value 인자를 통해 NaN이 아닌 특정 값으로 대체 가능\n",
    "    ![series_math](https://user-images.githubusercontent.com/105966480/197089900-6a7231af-a72f-4f75-8ddd-0d73f9ebe4fe.PNG)\n",
    "- 연산의 종류\n",
    "    - 더하기 : +, add() 메서드\n",
    "    - 빼기 : -, sub() 메서드\n",
    "    - 곱하기 : *, mul() 메서드\n",
    "    - 나머지만 반환 : %\n",
    "    - 몫만 반환 : //"
   ]
  },
  {
   "cell_type": "code",
   "execution_count": 51,
   "id": "e8cce5e9",
   "metadata": {},
   "outputs": [],
   "source": [
    "# s1 -> 라벨 : a, b, c, d -> 데이터 4개 [1, 2, 3, 4]\n",
    "# s2 -> 라벨 : a, c, d, e, f, g -> 데이터 6개 [10, 20, 30, 40, 50, 60]\n",
    "s1 = pd.Series([1, 2, 3, 4], index=list('abcd'))\n",
    "s2 = pd.Series([10, 20, 30, 40, 50, 60], index=list('acdefg'))"
   ]
  },
  {
   "cell_type": "code",
   "execution_count": 52,
   "id": "9abc4541",
   "metadata": {},
   "outputs": [
    {
     "data": {
      "text/plain": [
       "a    1\n",
       "b    2\n",
       "c    3\n",
       "d    4\n",
       "dtype: int64"
      ]
     },
     "execution_count": 52,
     "metadata": {},
     "output_type": "execute_result"
    }
   ],
   "source": [
    "s1"
   ]
  },
  {
   "cell_type": "code",
   "execution_count": 53,
   "id": "86056ded",
   "metadata": {},
   "outputs": [
    {
     "data": {
      "text/plain": [
       "a    10\n",
       "c    20\n",
       "d    30\n",
       "e    40\n",
       "f    50\n",
       "g    60\n",
       "dtype: int64"
      ]
     },
     "execution_count": 53,
     "metadata": {},
     "output_type": "execute_result"
    }
   ],
   "source": [
    "s2"
   ]
  },
  {
   "cell_type": "code",
   "execution_count": 54,
   "id": "8e78c7db",
   "metadata": {},
   "outputs": [
    {
     "data": {
      "text/plain": [
       "a     3\n",
       "b     6\n",
       "c     9\n",
       "d    12\n",
       "dtype: int64"
      ]
     },
     "execution_count": 54,
     "metadata": {},
     "output_type": "execute_result"
    }
   ],
   "source": [
    "# Series 객체와 스칼라값의 산순열산\n",
    "s1 * 3"
   ]
  },
  {
   "cell_type": "code",
   "execution_count": 55,
   "id": "f48a3719",
   "metadata": {},
   "outputs": [
    {
     "data": {
      "text/plain": [
       "a    11.0\n",
       "b     NaN\n",
       "c    23.0\n",
       "d    34.0\n",
       "e     NaN\n",
       "f     NaN\n",
       "g     NaN\n",
       "dtype: float64"
      ]
     },
     "execution_count": 55,
     "metadata": {},
     "output_type": "execute_result"
    }
   ],
   "source": [
    "# Series끼리 더하기\n",
    "# 공통라벨인 a,c,d에만 값 부여, 어느 한쪽에만 존재하는 라벨들은 NaN\n",
    "s1+s2"
   ]
  },
  {
   "cell_type": "code",
   "execution_count": 56,
   "id": "cbfdc2a2",
   "metadata": {},
   "outputs": [
    {
     "data": {
      "text/plain": [
       "a    11.0\n",
       "b     NaN\n",
       "c    23.0\n",
       "d    34.0\n",
       "e     NaN\n",
       "f     NaN\n",
       "g     NaN\n",
       "dtype: float64"
      ]
     },
     "execution_count": 56,
     "metadata": {},
     "output_type": "execute_result"
    }
   ],
   "source": [
    "# fill_value 파라미터: 공통으로 존재하지 않는 라벨에 대해서 NaN 값을\n",
    "# 적용하지 않고 특정 값으로 대채해서 사용할 수 있다\n",
    "# Series 메서드를 사용할 때의 파라미터로 입력가능\n",
    "s1.add(s2)"
   ]
  },
  {
   "cell_type": "code",
   "execution_count": 57,
   "id": "3a53f203",
   "metadata": {},
   "outputs": [
    {
     "data": {
      "text/plain": [
       "a    11.0\n",
       "b     2.0\n",
       "c    23.0\n",
       "d    34.0\n",
       "e    40.0\n",
       "f    50.0\n",
       "g    60.0\n",
       "dtype: float64"
      ]
     },
     "execution_count": 57,
     "metadata": {},
     "output_type": "execute_result"
    }
   ],
   "source": [
    "s1.add(s2,fill_value = 0)"
   ]
  },
  {
   "cell_type": "code",
   "execution_count": 58,
   "id": "ef46f7ce",
   "metadata": {},
   "outputs": [
    {
     "data": {
      "text/plain": [
       "a    -9.0\n",
       "b     NaN\n",
       "c   -17.0\n",
       "d   -26.0\n",
       "e     NaN\n",
       "f     NaN\n",
       "g     NaN\n",
       "dtype: float64"
      ]
     },
     "execution_count": 58,
     "metadata": {},
     "output_type": "execute_result"
    }
   ],
   "source": [
    "# Series 객체 간의 빼기 연산\n",
    "s1 - s2"
   ]
  },
  {
   "cell_type": "code",
   "execution_count": 60,
   "id": "13578c48",
   "metadata": {},
   "outputs": [
    {
     "data": {
      "text/plain": [
       "a    -9.0\n",
       "b   -98.0\n",
       "c   -17.0\n",
       "d   -26.0\n",
       "e    60.0\n",
       "f    50.0\n",
       "g    40.0\n",
       "dtype: float64"
      ]
     },
     "execution_count": 60,
     "metadata": {},
     "output_type": "execute_result"
    }
   ],
   "source": [
    "s1.sub(s2,fill_value=100)"
   ]
  },
  {
   "cell_type": "code",
   "execution_count": 61,
   "id": "cca85ce5",
   "metadata": {},
   "outputs": [
    {
     "data": {
      "text/plain": [
       "a     10.0\n",
       "b      NaN\n",
       "c     60.0\n",
       "d    120.0\n",
       "e      NaN\n",
       "f      NaN\n",
       "g      NaN\n",
       "dtype: float64"
      ]
     },
     "execution_count": 61,
     "metadata": {},
     "output_type": "execute_result"
    }
   ],
   "source": [
    "# Series 객체 간의 곱하기 연산\n",
    "s1 * s2"
   ]
  },
  {
   "cell_type": "code",
   "execution_count": 62,
   "id": "b463079d",
   "metadata": {},
   "outputs": [
    {
     "data": {
      "text/plain": [
       "a     10.0\n",
       "b      2.0\n",
       "c     60.0\n",
       "d    120.0\n",
       "e     40.0\n",
       "f     50.0\n",
       "g     60.0\n",
       "dtype: float64"
      ]
     },
     "execution_count": 62,
     "metadata": {},
     "output_type": "execute_result"
    }
   ],
   "source": [
    "s1.mul(s2,fill_value = 1)"
   ]
  },
  {
   "cell_type": "code",
   "execution_count": 63,
   "id": "1897df75",
   "metadata": {},
   "outputs": [
    {
     "data": {
      "text/plain": [
       "a    0.100000\n",
       "b         NaN\n",
       "c    0.150000\n",
       "d    0.133333\n",
       "e         NaN\n",
       "f         NaN\n",
       "g         NaN\n",
       "dtype: float64"
      ]
     },
     "execution_count": 63,
     "metadata": {},
     "output_type": "execute_result"
    }
   ],
   "source": [
    "# Series 객체 간의 나누기 연산\n",
    "s1/s2"
   ]
  },
  {
   "cell_type": "code",
   "execution_count": 64,
   "id": "29f050f7",
   "metadata": {},
   "outputs": [
    {
     "data": {
      "text/plain": [
       "a    0.100000\n",
       "b    2.000000\n",
       "c    0.150000\n",
       "d    0.133333\n",
       "e    0.025000\n",
       "f    0.020000\n",
       "g    0.016667\n",
       "dtype: float64"
      ]
     },
     "execution_count": 64,
     "metadata": {},
     "output_type": "execute_result"
    }
   ],
   "source": [
    "s1.divide(s2,fill_value=1)"
   ]
  },
  {
   "cell_type": "markdown",
   "id": "0608682f",
   "metadata": {},
   "source": [
    "- https://pandas.pydata.org/pandas-docs/stable/reference/series.html\n",
    "- 위 사이트에서 추가적인 fill_value 사용 가능 연산자별 명령어를 확인할 수 있다."
   ]
  },
  {
   "cell_type": "markdown",
   "id": "3dbb9973",
   "metadata": {},
   "source": [
    "### 연습 문제"
   ]
  },
  {
   "cell_type": "markdown",
   "id": "10167cab",
   "metadata": {},
   "source": [
    "- 1. 실습 데이터 생성 : 1 ~ 100(미만) 사이의 랜덤 정수 값을 26개 저장한 Series를 생성하고 A~Z까지의 알파벳으로 라벨링 설정"
   ]
  },
  {
   "cell_type": "code",
   "execution_count": 72,
   "id": "727d9009",
   "metadata": {
    "scrolled": true
   },
   "outputs": [
    {
     "data": {
      "text/plain": [
       "A    18\n",
       "B    66\n",
       "C    34\n",
       "D    34\n",
       "E     8\n",
       "F    25\n",
       "G     6\n",
       "H    14\n",
       "I    70\n",
       "J    73\n",
       "K    72\n",
       "L    85\n",
       "N    20\n",
       "M    35\n",
       "O    84\n",
       "P    69\n",
       "Q     7\n",
       "R    86\n",
       "S    64\n",
       "T     5\n",
       "U    30\n",
       "V    12\n",
       "W    25\n",
       "X    96\n",
       "Y     6\n",
       "Z    44\n",
       "dtype: int32"
      ]
     },
     "execution_count": 72,
     "metadata": {},
     "output_type": "execute_result"
    }
   ],
   "source": [
    "import numpy as np\n",
    "np.random.seed(1021)\n",
    "\n",
    "data = np.random.randint(1,100,size = 26)\n",
    "test = pd.Series(data,index = ['A','B','C','D','E','F','G','H','I','J','K','L','N','M','O','P','Q','R','S','T','U','V','W','X','Y','Z'])\n",
    "#list('ABCDEFGHIJKLNMOPQRSTUVWXYZ')\n",
    "test"
   ]
  },
  {
   "cell_type": "markdown",
   "id": "11d55b27",
   "metadata": {},
   "source": [
    "- 2. 인덱스 라벨이 'K'항목의 값 출력"
   ]
  },
  {
   "cell_type": "code",
   "execution_count": 78,
   "id": "6f179aa6",
   "metadata": {},
   "outputs": [
    {
     "data": {
      "text/plain": [
       "72"
      ]
     },
     "execution_count": 78,
     "metadata": {},
     "output_type": "execute_result"
    }
   ],
   "source": [
    "test['K']"
   ]
  },
  {
   "cell_type": "markdown",
   "id": "3da88676",
   "metadata": {},
   "source": [
    "- 3. 인덱스 라벨이 'A','F','C' 항목의 값 출력"
   ]
  },
  {
   "cell_type": "code",
   "execution_count": 79,
   "id": "d56c6702",
   "metadata": {
    "scrolled": true
   },
   "outputs": [
    {
     "data": {
      "text/plain": [
       "A    18\n",
       "F    25\n",
       "C    34\n",
       "dtype: int32"
      ]
     },
     "execution_count": 79,
     "metadata": {},
     "output_type": "execute_result"
    }
   ],
   "source": [
    "test[['A','F','C']]"
   ]
  },
  {
   "cell_type": "markdown",
   "id": "2cf2146c",
   "metadata": {},
   "source": [
    "- 4. 5번 인덱스부터 15번 인덱스까지의 항목 출력"
   ]
  },
  {
   "cell_type": "code",
   "execution_count": 95,
   "id": "18d674f5",
   "metadata": {
    "scrolled": true
   },
   "outputs": [
    {
     "data": {
      "text/plain": [
       "F    25\n",
       "G     6\n",
       "H    14\n",
       "I    70\n",
       "J    73\n",
       "K    72\n",
       "L    85\n",
       "N    20\n",
       "M    35\n",
       "O    84\n",
       "P    69\n",
       "dtype: int32"
      ]
     },
     "execution_count": 95,
     "metadata": {},
     "output_type": "execute_result"
    }
   ],
   "source": [
    "test[5:16]"
   ]
  },
  {
   "cell_type": "markdown",
   "id": "fd1c7726",
   "metadata": {},
   "source": [
    "- 5. 뒤에서 5개 항목 출력"
   ]
  },
  {
   "cell_type": "code",
   "execution_count": 86,
   "id": "48f7520d",
   "metadata": {},
   "outputs": [
    {
     "data": {
      "text/plain": [
       "V    12\n",
       "W    25\n",
       "X    96\n",
       "Y     6\n",
       "Z    44\n",
       "dtype: int32"
      ]
     },
     "execution_count": 86,
     "metadata": {},
     "output_type": "execute_result"
    }
   ],
   "source": [
    "test[-5:]"
   ]
  },
  {
   "cell_type": "markdown",
   "id": "3a29f147",
   "metadata": {},
   "source": [
    "- 6. data의 항목의 갯수를 출력"
   ]
  },
  {
   "cell_type": "code",
   "execution_count": 94,
   "id": "1987a638",
   "metadata": {},
   "outputs": [
    {
     "data": {
      "text/plain": [
       "26"
      ]
     },
     "execution_count": 94,
     "metadata": {},
     "output_type": "execute_result"
    }
   ],
   "source": [
    "len(test)"
   ]
  },
  {
   "cell_type": "markdown",
   "id": "7216c550",
   "metadata": {},
   "source": [
    "- 7. data 항목 값들의 평균보다 큰 항목만 출력"
   ]
  },
  {
   "cell_type": "code",
   "execution_count": 92,
   "id": "95579417",
   "metadata": {},
   "outputs": [
    {
     "data": {
      "text/plain": [
       "B    66\n",
       "I    70\n",
       "J    73\n",
       "K    72\n",
       "L    85\n",
       "O    84\n",
       "P    69\n",
       "R    86\n",
       "S    64\n",
       "X    96\n",
       "Z    44\n",
       "dtype: int32"
      ]
     },
     "execution_count": 92,
     "metadata": {},
     "output_type": "execute_result"
    }
   ],
   "source": [
    "test[test>test.mean()]"
   ]
  },
  {
   "cell_type": "markdown",
   "id": "163ace40",
   "metadata": {},
   "source": [
    "- 8. data의 항목 값 중에 50이 있는지 확인하여, 있으면 True, 없으면 False를 출력"
   ]
  },
  {
   "cell_type": "code",
   "execution_count": 98,
   "id": "e454827a",
   "metadata": {
    "scrolled": true
   },
   "outputs": [
    {
     "name": "stdout",
     "output_type": "stream",
     "text": [
      "False\n",
      "False\n"
     ]
    }
   ],
   "source": [
    "print(50 in s1)\n",
    "print(50 in s1.values)"
   ]
  }
 ],
 "metadata": {
  "kernelspec": {
   "display_name": "Python 3 (ipykernel)",
   "language": "python",
   "name": "python3"
  },
  "language_info": {
   "codemirror_mode": {
    "name": "ipython",
    "version": 3
   },
   "file_extension": ".py",
   "mimetype": "text/x-python",
   "name": "python",
   "nbconvert_exporter": "python",
   "pygments_lexer": "ipython3",
   "version": "3.9.12"
  },
  "toc": {
   "base_numbering": 1,
   "nav_menu": {},
   "number_sections": true,
   "sideBar": true,
   "skip_h1_title": false,
   "title_cell": "Table of Contents",
   "title_sidebar": "Contents",
   "toc_cell": false,
   "toc_position": {},
   "toc_section_display": true,
   "toc_window_display": false
  }
 },
 "nbformat": 4,
 "nbformat_minor": 5
}
