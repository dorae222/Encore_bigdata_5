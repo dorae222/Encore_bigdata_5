{
 "cells": [
  {
   "cell_type": "markdown",
   "id": "21f04980",
   "metadata": {},
   "source": [
    "# \"[DA] Pandas - DataFrame 4\"\n",
    "> \"주요 통계함수 및 파라미터\"\n",
    "\n",
    "- toc: true\n",
    "- branch: master\n",
    "- badges: true\n",
    "- comments: true\n",
    "- categories: [value_count,describe, count, mean]\n",
    "- author: 도형준"
   ]
  },
  {
   "cell_type": "markdown",
   "id": "f5d96e2d",
   "metadata": {},
   "source": [
    "# 통계"
   ]
  },
  {
   "cell_type": "code",
   "execution_count": 1,
   "id": "cf2c6258",
   "metadata": {},
   "outputs": [],
   "source": [
    "import pandas as pd\n",
    "import numpy as np"
   ]
  },
  {
   "cell_type": "markdown",
   "id": "6af7491d",
   "metadata": {},
   "source": [
    "- 주요 통계 함수\n",
    "    - value_count() : 각 고유값의 중복개수\n",
    "    - count : NaN 값을 제외한 값의 개수\n",
    "    - describe : 각 컬럼에 대한 요약통계 계산(count, mean, std, min, 1사분위수, 중위값, 3사분위수, max)\n",
    "    - min, max : 최소, 최대 값\n",
    "    - sum : 총 합\n",
    "    - cumsum : 누적합\n",
    "    - mean : 평균\n",
    "    - median : 중위값(전체 데이터를 나열 했을 때 중간에 위치한 값)\n",
    "    - var : 분산(데이터가 전체적으로 흩어진 정도, 편차제곱의 평균)\n",
    "    - std : 표준편차 = 분산의 양의 제곱근\n",
    "- 주요 파라미터\n",
    "    - axis : 연산의 기준이 되는 축, axis=0(기본값)이면 행 방향으로 axis=1이면 열 방향으로 적용\n",
    "    - skipna : NaN 값을 제외할지 여부를 설정, 기본값 = True"
   ]
  },
  {
   "cell_type": "markdown",
   "id": "98aa7d46",
   "metadata": {
    "heading_collapsed": true
   },
   "source": [
    "## 개념"
   ]
  },
  {
   "cell_type": "code",
   "execution_count": 2,
   "id": "f68b9b46",
   "metadata": {
    "hidden": true
   },
   "outputs": [],
   "source": [
    "np.random.seed(25)"
   ]
  },
  {
   "cell_type": "code",
   "execution_count": 3,
   "id": "85bc2379",
   "metadata": {
    "hidden": true
   },
   "outputs": [
    {
     "data": {
      "text/html": [
       "<div>\n",
       "<style scoped>\n",
       "    .dataframe tbody tr th:only-of-type {\n",
       "        vertical-align: middle;\n",
       "    }\n",
       "\n",
       "    .dataframe tbody tr th {\n",
       "        vertical-align: top;\n",
       "    }\n",
       "\n",
       "    .dataframe thead tr th {\n",
       "        text-align: left;\n",
       "    }\n",
       "\n",
       "    .dataframe thead tr:last-of-type th {\n",
       "        text-align: right;\n",
       "    }\n",
       "</style>\n",
       "<table border=\"1\" class=\"dataframe\">\n",
       "  <thead>\n",
       "    <tr>\n",
       "      <th>연도</th>\n",
       "      <th colspan=\"2\" halign=\"left\">2016</th>\n",
       "      <th colspan=\"2\" halign=\"left\">2017</th>\n",
       "    </tr>\n",
       "    <tr>\n",
       "      <th>과목</th>\n",
       "      <th>영어</th>\n",
       "      <th>수학</th>\n",
       "      <th>영어</th>\n",
       "      <th>수학</th>\n",
       "    </tr>\n",
       "    <tr>\n",
       "      <th>학생명</th>\n",
       "      <th></th>\n",
       "      <th></th>\n",
       "      <th></th>\n",
       "      <th></th>\n",
       "    </tr>\n",
       "  </thead>\n",
       "  <tbody>\n",
       "    <tr>\n",
       "      <th>Kim</th>\n",
       "      <td>54</td>\n",
       "      <td>76</td>\n",
       "      <td>65</td>\n",
       "      <td>73</td>\n",
       "    </tr>\n",
       "    <tr>\n",
       "      <th>Park</th>\n",
       "      <td>94</td>\n",
       "      <td>58</td>\n",
       "      <td>78</td>\n",
       "      <td>54</td>\n",
       "    </tr>\n",
       "    <tr>\n",
       "      <th>Lee</th>\n",
       "      <td>75</td>\n",
       "      <td>81</td>\n",
       "      <td>55</td>\n",
       "      <td>51</td>\n",
       "    </tr>\n",
       "    <tr>\n",
       "      <th>Jung</th>\n",
       "      <td>89</td>\n",
       "      <td>53</td>\n",
       "      <td>74</td>\n",
       "      <td>53</td>\n",
       "    </tr>\n",
       "    <tr>\n",
       "      <th>Moon</th>\n",
       "      <td>70</td>\n",
       "      <td>95</td>\n",
       "      <td>53</td>\n",
       "      <td>51</td>\n",
       "    </tr>\n",
       "  </tbody>\n",
       "</table>\n",
       "</div>"
      ],
      "text/plain": [
       "연도   2016     2017    \n",
       "과목     영어  수학   영어  수학\n",
       "학생명                   \n",
       "Kim    54  76   65  73\n",
       "Park   94  58   78  54\n",
       "Lee    75  81   55  51\n",
       "Jung   89  53   74  53\n",
       "Moon   70  95   53  51"
      ]
     },
     "execution_count": 3,
     "metadata": {},
     "output_type": "execute_result"
    }
   ],
   "source": [
    "# 샘플 데이터 생성\n",
    "df = pd.DataFrame(np.random.randint(50, 100, (5, 4)),\n",
    "                 index = ['Kim', 'Park', 'Lee', 'Jung', 'Moon'],\n",
    "                 columns = [[2016, 2016, 2017, 2017],\n",
    "                           ['영어', '수학', '영어', '수학']])\n",
    "df.index.set_names('학생명', inplace=True)\n",
    "df.columns.set_names(['연도', '과목'], inplace=True)\n",
    "df"
   ]
  },
  {
   "cell_type": "code",
   "execution_count": 4,
   "id": "ef1baa51",
   "metadata": {
    "hidden": true
   },
   "outputs": [
    {
     "data": {
      "text/html": [
       "<div>\n",
       "<style scoped>\n",
       "    .dataframe tbody tr th:only-of-type {\n",
       "        vertical-align: middle;\n",
       "    }\n",
       "\n",
       "    .dataframe tbody tr th {\n",
       "        vertical-align: top;\n",
       "    }\n",
       "\n",
       "    .dataframe thead tr th {\n",
       "        text-align: left;\n",
       "    }\n",
       "</style>\n",
       "<table border=\"1\" class=\"dataframe\">\n",
       "  <thead>\n",
       "    <tr>\n",
       "      <th>연도</th>\n",
       "      <th colspan=\"2\" halign=\"left\">2016</th>\n",
       "      <th colspan=\"2\" halign=\"left\">2017</th>\n",
       "    </tr>\n",
       "    <tr>\n",
       "      <th>과목</th>\n",
       "      <th>영어</th>\n",
       "      <th>수학</th>\n",
       "      <th>영어</th>\n",
       "      <th>수학</th>\n",
       "    </tr>\n",
       "  </thead>\n",
       "  <tbody>\n",
       "    <tr>\n",
       "      <th>count</th>\n",
       "      <td>5.000000</td>\n",
       "      <td>5.000000</td>\n",
       "      <td>5.000000</td>\n",
       "      <td>5.000000</td>\n",
       "    </tr>\n",
       "    <tr>\n",
       "      <th>mean</th>\n",
       "      <td>76.400000</td>\n",
       "      <td>72.600000</td>\n",
       "      <td>65.000000</td>\n",
       "      <td>56.400000</td>\n",
       "    </tr>\n",
       "    <tr>\n",
       "      <th>std</th>\n",
       "      <td>15.915401</td>\n",
       "      <td>17.184295</td>\n",
       "      <td>11.113055</td>\n",
       "      <td>9.370165</td>\n",
       "    </tr>\n",
       "    <tr>\n",
       "      <th>min</th>\n",
       "      <td>54.000000</td>\n",
       "      <td>53.000000</td>\n",
       "      <td>53.000000</td>\n",
       "      <td>51.000000</td>\n",
       "    </tr>\n",
       "    <tr>\n",
       "      <th>25%</th>\n",
       "      <td>70.000000</td>\n",
       "      <td>58.000000</td>\n",
       "      <td>55.000000</td>\n",
       "      <td>51.000000</td>\n",
       "    </tr>\n",
       "    <tr>\n",
       "      <th>50%</th>\n",
       "      <td>75.000000</td>\n",
       "      <td>76.000000</td>\n",
       "      <td>65.000000</td>\n",
       "      <td>53.000000</td>\n",
       "    </tr>\n",
       "    <tr>\n",
       "      <th>75%</th>\n",
       "      <td>89.000000</td>\n",
       "      <td>81.000000</td>\n",
       "      <td>74.000000</td>\n",
       "      <td>54.000000</td>\n",
       "    </tr>\n",
       "    <tr>\n",
       "      <th>max</th>\n",
       "      <td>94.000000</td>\n",
       "      <td>95.000000</td>\n",
       "      <td>78.000000</td>\n",
       "      <td>73.000000</td>\n",
       "    </tr>\n",
       "  </tbody>\n",
       "</table>\n",
       "</div>"
      ],
      "text/plain": [
       "연도          2016                  2017           \n",
       "과목            영어         수학         영어         수학\n",
       "count   5.000000   5.000000   5.000000   5.000000\n",
       "mean   76.400000  72.600000  65.000000  56.400000\n",
       "std    15.915401  17.184295  11.113055   9.370165\n",
       "min    54.000000  53.000000  53.000000  51.000000\n",
       "25%    70.000000  58.000000  55.000000  51.000000\n",
       "50%    75.000000  76.000000  65.000000  53.000000\n",
       "75%    89.000000  81.000000  74.000000  54.000000\n",
       "max    94.000000  95.000000  78.000000  73.000000"
      ]
     },
     "execution_count": 4,
     "metadata": {},
     "output_type": "execute_result"
    }
   ],
   "source": [
    "# 기술통계, 요약 통계\n",
    "df.describe()"
   ]
  },
  {
   "cell_type": "code",
   "execution_count": 5,
   "id": "2be4e653",
   "metadata": {
    "hidden": true
   },
   "outputs": [
    {
     "data": {
      "text/html": [
       "<div>\n",
       "<style scoped>\n",
       "    .dataframe tbody tr th:only-of-type {\n",
       "        vertical-align: middle;\n",
       "    }\n",
       "\n",
       "    .dataframe tbody tr th {\n",
       "        vertical-align: top;\n",
       "    }\n",
       "\n",
       "    .dataframe thead th {\n",
       "        text-align: right;\n",
       "    }\n",
       "</style>\n",
       "<table border=\"1\" class=\"dataframe\">\n",
       "  <thead>\n",
       "    <tr style=\"text-align: right;\">\n",
       "      <th>과목</th>\n",
       "      <th>영어</th>\n",
       "      <th>수학</th>\n",
       "    </tr>\n",
       "    <tr>\n",
       "      <th>학생명</th>\n",
       "      <th></th>\n",
       "      <th></th>\n",
       "    </tr>\n",
       "  </thead>\n",
       "  <tbody>\n",
       "    <tr>\n",
       "      <th>Kim</th>\n",
       "      <td>65</td>\n",
       "      <td>73</td>\n",
       "    </tr>\n",
       "    <tr>\n",
       "      <th>Park</th>\n",
       "      <td>78</td>\n",
       "      <td>54</td>\n",
       "    </tr>\n",
       "    <tr>\n",
       "      <th>Lee</th>\n",
       "      <td>55</td>\n",
       "      <td>51</td>\n",
       "    </tr>\n",
       "    <tr>\n",
       "      <th>Jung</th>\n",
       "      <td>74</td>\n",
       "      <td>53</td>\n",
       "    </tr>\n",
       "    <tr>\n",
       "      <th>Moon</th>\n",
       "      <td>53</td>\n",
       "      <td>51</td>\n",
       "    </tr>\n",
       "  </tbody>\n",
       "</table>\n",
       "</div>"
      ],
      "text/plain": [
       "과목    영어  수학\n",
       "학생명         \n",
       "Kim   65  73\n",
       "Park  78  54\n",
       "Lee   55  51\n",
       "Jung  74  53\n",
       "Moon  53  51"
      ]
     },
     "execution_count": 5,
     "metadata": {},
     "output_type": "execute_result"
    }
   ],
   "source": [
    "# 2017년도 성적만 분리해서 df2017로 저장(깊은 복사)\n",
    "df2017 = df[2017].copy()\n",
    "df2017"
   ]
  },
  {
   "cell_type": "code",
   "execution_count": 6,
   "id": "e3ef7d93",
   "metadata": {
    "hidden": true
   },
   "outputs": [
    {
     "data": {
      "text/plain": [
       "(5, 2)"
      ]
     },
     "execution_count": 6,
     "metadata": {},
     "output_type": "execute_result"
    }
   ],
   "source": [
    "df2017.shape"
   ]
  },
  {
   "cell_type": "code",
   "execution_count": 7,
   "id": "b62558c4",
   "metadata": {
    "hidden": true
   },
   "outputs": [
    {
     "data": {
      "text/plain": [
       "과목\n",
       "영어    5\n",
       "수학    5\n",
       "dtype: int64"
      ]
     },
     "execution_count": 7,
     "metadata": {},
     "output_type": "execute_result"
    }
   ],
   "source": [
    "# 1) count - NaN을 제외한 데이터의 개수(행 개수)\n",
    "# 축 기준 설정: axis를 통해 행/열 개수 여부 지정 가능\n",
    "# 행 개수: axis=0\n",
    "df2017.count()"
   ]
  },
  {
   "cell_type": "code",
   "execution_count": 8,
   "id": "45aab803",
   "metadata": {
    "hidden": true
   },
   "outputs": [
    {
     "data": {
      "text/plain": [
       "학생명\n",
       "Kim     2\n",
       "Park    2\n",
       "Lee     2\n",
       "Jung    2\n",
       "Moon    2\n",
       "dtype: int64"
      ]
     },
     "execution_count": 8,
     "metadata": {},
     "output_type": "execute_result"
    }
   ],
   "source": [
    "# 열 개수 => axis =1\n",
    "df2017.count(axis=1)"
   ]
  },
  {
   "cell_type": "code",
   "execution_count": 9,
   "id": "50d73249",
   "metadata": {
    "hidden": true,
    "scrolled": true
   },
   "outputs": [
    {
     "data": {
      "text/html": [
       "<div>\n",
       "<style scoped>\n",
       "    .dataframe tbody tr th:only-of-type {\n",
       "        vertical-align: middle;\n",
       "    }\n",
       "\n",
       "    .dataframe tbody tr th {\n",
       "        vertical-align: top;\n",
       "    }\n",
       "\n",
       "    .dataframe thead th {\n",
       "        text-align: right;\n",
       "    }\n",
       "</style>\n",
       "<table border=\"1\" class=\"dataframe\">\n",
       "  <thead>\n",
       "    <tr style=\"text-align: right;\">\n",
       "      <th></th>\n",
       "      <th>도시</th>\n",
       "      <th>자치구</th>\n",
       "      <th>연도</th>\n",
       "      <th>남자인구</th>\n",
       "      <th>여자인구</th>\n",
       "      <th>총인구</th>\n",
       "    </tr>\n",
       "  </thead>\n",
       "  <tbody>\n",
       "    <tr>\n",
       "      <th>0</th>\n",
       "      <td>서울</td>\n",
       "      <td>강남구</td>\n",
       "      <td>2013</td>\n",
       "      <td>73</td>\n",
       "      <td>92</td>\n",
       "      <td>165</td>\n",
       "    </tr>\n",
       "    <tr>\n",
       "      <th>1</th>\n",
       "      <td>서울</td>\n",
       "      <td>강남구</td>\n",
       "      <td>2014</td>\n",
       "      <td>139</td>\n",
       "      <td>55</td>\n",
       "      <td>194</td>\n",
       "    </tr>\n",
       "    <tr>\n",
       "      <th>2</th>\n",
       "      <td>서울</td>\n",
       "      <td>강남구</td>\n",
       "      <td>2015</td>\n",
       "      <td>123</td>\n",
       "      <td>83</td>\n",
       "      <td>206</td>\n",
       "    </tr>\n",
       "    <tr>\n",
       "      <th>3</th>\n",
       "      <td>서울</td>\n",
       "      <td>강남구</td>\n",
       "      <td>2016</td>\n",
       "      <td>147</td>\n",
       "      <td>150</td>\n",
       "      <td>297</td>\n",
       "    </tr>\n",
       "    <tr>\n",
       "      <th>4</th>\n",
       "      <td>서울</td>\n",
       "      <td>강남구</td>\n",
       "      <td>2017</td>\n",
       "      <td>57</td>\n",
       "      <td>133</td>\n",
       "      <td>190</td>\n",
       "    </tr>\n",
       "    <tr>\n",
       "      <th>5</th>\n",
       "      <td>서울</td>\n",
       "      <td>서대문구</td>\n",
       "      <td>2013</td>\n",
       "      <td>95</td>\n",
       "      <td>111</td>\n",
       "      <td>206</td>\n",
       "    </tr>\n",
       "    <tr>\n",
       "      <th>6</th>\n",
       "      <td>서울</td>\n",
       "      <td>서대문구</td>\n",
       "      <td>2014</td>\n",
       "      <td>149</td>\n",
       "      <td>150</td>\n",
       "      <td>299</td>\n",
       "    </tr>\n",
       "    <tr>\n",
       "      <th>7</th>\n",
       "      <td>서울</td>\n",
       "      <td>서대문구</td>\n",
       "      <td>2015</td>\n",
       "      <td>106</td>\n",
       "      <td>77</td>\n",
       "      <td>183</td>\n",
       "    </tr>\n",
       "    <tr>\n",
       "      <th>8</th>\n",
       "      <td>서울</td>\n",
       "      <td>서대문구</td>\n",
       "      <td>2016</td>\n",
       "      <td>56</td>\n",
       "      <td>109</td>\n",
       "      <td>165</td>\n",
       "    </tr>\n",
       "    <tr>\n",
       "      <th>9</th>\n",
       "      <td>서울</td>\n",
       "      <td>서대문구</td>\n",
       "      <td>2017</td>\n",
       "      <td>82</td>\n",
       "      <td>96</td>\n",
       "      <td>178</td>\n",
       "    </tr>\n",
       "    <tr>\n",
       "      <th>10</th>\n",
       "      <td>서울</td>\n",
       "      <td>종로구</td>\n",
       "      <td>2013</td>\n",
       "      <td>121</td>\n",
       "      <td>68</td>\n",
       "      <td>189</td>\n",
       "    </tr>\n",
       "    <tr>\n",
       "      <th>11</th>\n",
       "      <td>서울</td>\n",
       "      <td>종로구</td>\n",
       "      <td>2014</td>\n",
       "      <td>107</td>\n",
       "      <td>55</td>\n",
       "      <td>162</td>\n",
       "    </tr>\n",
       "    <tr>\n",
       "      <th>12</th>\n",
       "      <td>서울</td>\n",
       "      <td>종로구</td>\n",
       "      <td>2015</td>\n",
       "      <td>50</td>\n",
       "      <td>79</td>\n",
       "      <td>129</td>\n",
       "    </tr>\n",
       "    <tr>\n",
       "      <th>13</th>\n",
       "      <td>서울</td>\n",
       "      <td>종로구</td>\n",
       "      <td>2016</td>\n",
       "      <td>100</td>\n",
       "      <td>80</td>\n",
       "      <td>180</td>\n",
       "    </tr>\n",
       "    <tr>\n",
       "      <th>14</th>\n",
       "      <td>서울</td>\n",
       "      <td>종로구</td>\n",
       "      <td>2017</td>\n",
       "      <td>105</td>\n",
       "      <td>91</td>\n",
       "      <td>196</td>\n",
       "    </tr>\n",
       "    <tr>\n",
       "      <th>15</th>\n",
       "      <td>서울</td>\n",
       "      <td>영등포구</td>\n",
       "      <td>2013</td>\n",
       "      <td>146</td>\n",
       "      <td>113</td>\n",
       "      <td>259</td>\n",
       "    </tr>\n",
       "    <tr>\n",
       "      <th>16</th>\n",
       "      <td>서울</td>\n",
       "      <td>영등포구</td>\n",
       "      <td>2014</td>\n",
       "      <td>127</td>\n",
       "      <td>117</td>\n",
       "      <td>244</td>\n",
       "    </tr>\n",
       "    <tr>\n",
       "      <th>17</th>\n",
       "      <td>서울</td>\n",
       "      <td>영등포구</td>\n",
       "      <td>2015</td>\n",
       "      <td>70</td>\n",
       "      <td>72</td>\n",
       "      <td>142</td>\n",
       "    </tr>\n",
       "    <tr>\n",
       "      <th>18</th>\n",
       "      <td>서울</td>\n",
       "      <td>영등포구</td>\n",
       "      <td>2016</td>\n",
       "      <td>141</td>\n",
       "      <td>136</td>\n",
       "      <td>277</td>\n",
       "    </tr>\n",
       "    <tr>\n",
       "      <th>19</th>\n",
       "      <td>서울</td>\n",
       "      <td>영등포구</td>\n",
       "      <td>2017</td>\n",
       "      <td>145</td>\n",
       "      <td>124</td>\n",
       "      <td>269</td>\n",
       "    </tr>\n",
       "    <tr>\n",
       "      <th>20</th>\n",
       "      <td>서울</td>\n",
       "      <td>송파구</td>\n",
       "      <td>2013</td>\n",
       "      <td>90</td>\n",
       "      <td>130</td>\n",
       "      <td>220</td>\n",
       "    </tr>\n",
       "    <tr>\n",
       "      <th>21</th>\n",
       "      <td>서울</td>\n",
       "      <td>송파구</td>\n",
       "      <td>2014</td>\n",
       "      <td>121</td>\n",
       "      <td>66</td>\n",
       "      <td>187</td>\n",
       "    </tr>\n",
       "    <tr>\n",
       "      <th>22</th>\n",
       "      <td>서울</td>\n",
       "      <td>송파구</td>\n",
       "      <td>2015</td>\n",
       "      <td>62</td>\n",
       "      <td>121</td>\n",
       "      <td>183</td>\n",
       "    </tr>\n",
       "    <tr>\n",
       "      <th>23</th>\n",
       "      <td>서울</td>\n",
       "      <td>송파구</td>\n",
       "      <td>2016</td>\n",
       "      <td>80</td>\n",
       "      <td>92</td>\n",
       "      <td>172</td>\n",
       "    </tr>\n",
       "    <tr>\n",
       "      <th>24</th>\n",
       "      <td>서울</td>\n",
       "      <td>송파구</td>\n",
       "      <td>2017</td>\n",
       "      <td>62</td>\n",
       "      <td>150</td>\n",
       "      <td>212</td>\n",
       "    </tr>\n",
       "    <tr>\n",
       "      <th>25</th>\n",
       "      <td>서울</td>\n",
       "      <td>도봉구</td>\n",
       "      <td>2013</td>\n",
       "      <td>113</td>\n",
       "      <td>138</td>\n",
       "      <td>251</td>\n",
       "    </tr>\n",
       "    <tr>\n",
       "      <th>26</th>\n",
       "      <td>서울</td>\n",
       "      <td>도봉구</td>\n",
       "      <td>2014</td>\n",
       "      <td>145</td>\n",
       "      <td>140</td>\n",
       "      <td>285</td>\n",
       "    </tr>\n",
       "    <tr>\n",
       "      <th>27</th>\n",
       "      <td>서울</td>\n",
       "      <td>도봉구</td>\n",
       "      <td>2015</td>\n",
       "      <td>56</td>\n",
       "      <td>139</td>\n",
       "      <td>195</td>\n",
       "    </tr>\n",
       "    <tr>\n",
       "      <th>28</th>\n",
       "      <td>서울</td>\n",
       "      <td>도봉구</td>\n",
       "      <td>2016</td>\n",
       "      <td>60</td>\n",
       "      <td>71</td>\n",
       "      <td>131</td>\n",
       "    </tr>\n",
       "    <tr>\n",
       "      <th>29</th>\n",
       "      <td>서울</td>\n",
       "      <td>도봉구</td>\n",
       "      <td>2017</td>\n",
       "      <td>111</td>\n",
       "      <td>62</td>\n",
       "      <td>173</td>\n",
       "    </tr>\n",
       "    <tr>\n",
       "      <th>30</th>\n",
       "      <td>서울</td>\n",
       "      <td>동작구</td>\n",
       "      <td>2013</td>\n",
       "      <td>120</td>\n",
       "      <td>117</td>\n",
       "      <td>237</td>\n",
       "    </tr>\n",
       "    <tr>\n",
       "      <th>31</th>\n",
       "      <td>서울</td>\n",
       "      <td>동작구</td>\n",
       "      <td>2014</td>\n",
       "      <td>94</td>\n",
       "      <td>108</td>\n",
       "      <td>202</td>\n",
       "    </tr>\n",
       "    <tr>\n",
       "      <th>32</th>\n",
       "      <td>서울</td>\n",
       "      <td>동작구</td>\n",
       "      <td>2015</td>\n",
       "      <td>74</td>\n",
       "      <td>139</td>\n",
       "      <td>213</td>\n",
       "    </tr>\n",
       "    <tr>\n",
       "      <th>33</th>\n",
       "      <td>서울</td>\n",
       "      <td>동작구</td>\n",
       "      <td>2016</td>\n",
       "      <td>87</td>\n",
       "      <td>84</td>\n",
       "      <td>171</td>\n",
       "    </tr>\n",
       "    <tr>\n",
       "      <th>34</th>\n",
       "      <td>서울</td>\n",
       "      <td>동작구</td>\n",
       "      <td>2017</td>\n",
       "      <td>79</td>\n",
       "      <td>134</td>\n",
       "      <td>213</td>\n",
       "    </tr>\n",
       "    <tr>\n",
       "      <th>35</th>\n",
       "      <td>부산</td>\n",
       "      <td>해운대구</td>\n",
       "      <td>2013</td>\n",
       "      <td>124</td>\n",
       "      <td>103</td>\n",
       "      <td>227</td>\n",
       "    </tr>\n",
       "    <tr>\n",
       "      <th>36</th>\n",
       "      <td>부산</td>\n",
       "      <td>해운대구</td>\n",
       "      <td>2014</td>\n",
       "      <td>101</td>\n",
       "      <td>144</td>\n",
       "      <td>245</td>\n",
       "    </tr>\n",
       "    <tr>\n",
       "      <th>37</th>\n",
       "      <td>부산</td>\n",
       "      <td>해운대구</td>\n",
       "      <td>2015</td>\n",
       "      <td>115</td>\n",
       "      <td>70</td>\n",
       "      <td>185</td>\n",
       "    </tr>\n",
       "    <tr>\n",
       "      <th>38</th>\n",
       "      <td>부산</td>\n",
       "      <td>해운대구</td>\n",
       "      <td>2016</td>\n",
       "      <td>134</td>\n",
       "      <td>126</td>\n",
       "      <td>260</td>\n",
       "    </tr>\n",
       "    <tr>\n",
       "      <th>39</th>\n",
       "      <td>부산</td>\n",
       "      <td>해운대구</td>\n",
       "      <td>2017</td>\n",
       "      <td>146</td>\n",
       "      <td>72</td>\n",
       "      <td>218</td>\n",
       "    </tr>\n",
       "    <tr>\n",
       "      <th>40</th>\n",
       "      <td>부산</td>\n",
       "      <td>수영구</td>\n",
       "      <td>2013</td>\n",
       "      <td>134</td>\n",
       "      <td>94</td>\n",
       "      <td>228</td>\n",
       "    </tr>\n",
       "    <tr>\n",
       "      <th>41</th>\n",
       "      <td>부산</td>\n",
       "      <td>수영구</td>\n",
       "      <td>2014</td>\n",
       "      <td>74</td>\n",
       "      <td>138</td>\n",
       "      <td>212</td>\n",
       "    </tr>\n",
       "    <tr>\n",
       "      <th>42</th>\n",
       "      <td>부산</td>\n",
       "      <td>수영구</td>\n",
       "      <td>2015</td>\n",
       "      <td>69</td>\n",
       "      <td>81</td>\n",
       "      <td>150</td>\n",
       "    </tr>\n",
       "    <tr>\n",
       "      <th>43</th>\n",
       "      <td>부산</td>\n",
       "      <td>수영구</td>\n",
       "      <td>2016</td>\n",
       "      <td>81</td>\n",
       "      <td>148</td>\n",
       "      <td>229</td>\n",
       "    </tr>\n",
       "    <tr>\n",
       "      <th>44</th>\n",
       "      <td>부산</td>\n",
       "      <td>수영구</td>\n",
       "      <td>2017</td>\n",
       "      <td>144</td>\n",
       "      <td>98</td>\n",
       "      <td>242</td>\n",
       "    </tr>\n",
       "    <tr>\n",
       "      <th>45</th>\n",
       "      <td>부산</td>\n",
       "      <td>동래구</td>\n",
       "      <td>2013</td>\n",
       "      <td>83</td>\n",
       "      <td>65</td>\n",
       "      <td>148</td>\n",
       "    </tr>\n",
       "    <tr>\n",
       "      <th>46</th>\n",
       "      <td>부산</td>\n",
       "      <td>동래구</td>\n",
       "      <td>2014</td>\n",
       "      <td>139</td>\n",
       "      <td>87</td>\n",
       "      <td>226</td>\n",
       "    </tr>\n",
       "    <tr>\n",
       "      <th>47</th>\n",
       "      <td>부산</td>\n",
       "      <td>동래구</td>\n",
       "      <td>2015</td>\n",
       "      <td>147</td>\n",
       "      <td>115</td>\n",
       "      <td>262</td>\n",
       "    </tr>\n",
       "    <tr>\n",
       "      <th>48</th>\n",
       "      <td>부산</td>\n",
       "      <td>동래구</td>\n",
       "      <td>2016</td>\n",
       "      <td>61</td>\n",
       "      <td>102</td>\n",
       "      <td>163</td>\n",
       "    </tr>\n",
       "    <tr>\n",
       "      <th>49</th>\n",
       "      <td>부산</td>\n",
       "      <td>동래구</td>\n",
       "      <td>2017</td>\n",
       "      <td>132</td>\n",
       "      <td>105</td>\n",
       "      <td>237</td>\n",
       "    </tr>\n",
       "  </tbody>\n",
       "</table>\n",
       "</div>"
      ],
      "text/plain": [
       "    도시   자치구    연도  남자인구  여자인구  총인구\n",
       "0   서울   강남구  2013    73    92  165\n",
       "1   서울   강남구  2014   139    55  194\n",
       "2   서울   강남구  2015   123    83  206\n",
       "3   서울   강남구  2016   147   150  297\n",
       "4   서울   강남구  2017    57   133  190\n",
       "5   서울  서대문구  2013    95   111  206\n",
       "6   서울  서대문구  2014   149   150  299\n",
       "7   서울  서대문구  2015   106    77  183\n",
       "8   서울  서대문구  2016    56   109  165\n",
       "9   서울  서대문구  2017    82    96  178\n",
       "10  서울   종로구  2013   121    68  189\n",
       "11  서울   종로구  2014   107    55  162\n",
       "12  서울   종로구  2015    50    79  129\n",
       "13  서울   종로구  2016   100    80  180\n",
       "14  서울   종로구  2017   105    91  196\n",
       "15  서울  영등포구  2013   146   113  259\n",
       "16  서울  영등포구  2014   127   117  244\n",
       "17  서울  영등포구  2015    70    72  142\n",
       "18  서울  영등포구  2016   141   136  277\n",
       "19  서울  영등포구  2017   145   124  269\n",
       "20  서울   송파구  2013    90   130  220\n",
       "21  서울   송파구  2014   121    66  187\n",
       "22  서울   송파구  2015    62   121  183\n",
       "23  서울   송파구  2016    80    92  172\n",
       "24  서울   송파구  2017    62   150  212\n",
       "25  서울   도봉구  2013   113   138  251\n",
       "26  서울   도봉구  2014   145   140  285\n",
       "27  서울   도봉구  2015    56   139  195\n",
       "28  서울   도봉구  2016    60    71  131\n",
       "29  서울   도봉구  2017   111    62  173\n",
       "30  서울   동작구  2013   120   117  237\n",
       "31  서울   동작구  2014    94   108  202\n",
       "32  서울   동작구  2015    74   139  213\n",
       "33  서울   동작구  2016    87    84  171\n",
       "34  서울   동작구  2017    79   134  213\n",
       "35  부산  해운대구  2013   124   103  227\n",
       "36  부산  해운대구  2014   101   144  245\n",
       "37  부산  해운대구  2015   115    70  185\n",
       "38  부산  해운대구  2016   134   126  260\n",
       "39  부산  해운대구  2017   146    72  218\n",
       "40  부산   수영구  2013   134    94  228\n",
       "41  부산   수영구  2014    74   138  212\n",
       "42  부산   수영구  2015    69    81  150\n",
       "43  부산   수영구  2016    81   148  229\n",
       "44  부산   수영구  2017   144    98  242\n",
       "45  부산   동래구  2013    83    65  148\n",
       "46  부산   동래구  2014   139    87  226\n",
       "47  부산   동래구  2015   147   115  262\n",
       "48  부산   동래구  2016    61   102  163\n",
       "49  부산   동래구  2017   132   105  237"
      ]
     },
     "execution_count": 9,
     "metadata": {},
     "output_type": "execute_result"
    }
   ],
   "source": [
    "# 엑셀 데이터 적재\n",
    "# Os error -> engine='python'\n",
    "# Unicode, Encoding -> encoding='utf-8' or 'cp949'\n",
    "data = pd.read_excel('data/인구수예제.xlsx')\n",
    "data"
   ]
  },
  {
   "cell_type": "code",
   "execution_count": 10,
   "id": "e767b204",
   "metadata": {
    "hidden": true
   },
   "outputs": [
    {
     "data": {
      "text/plain": [
       "강남구     5\n",
       "서대문구    5\n",
       "종로구     5\n",
       "영등포구    5\n",
       "송파구     5\n",
       "도봉구     5\n",
       "동작구     5\n",
       "해운대구    5\n",
       "수영구     5\n",
       "동래구     5\n",
       "Name: 자치구, dtype: int64"
      ]
     },
     "execution_count": 10,
     "metadata": {},
     "output_type": "execute_result"
    }
   ],
   "source": [
    "# value_counts(): 범주형 데이터(문자열 등)에 대한 각 분류값의 개수\n",
    "# 도시, 자치구 데이터 사용(data)\n",
    "data['자치구'].value_counts()"
   ]
  },
  {
   "cell_type": "code",
   "execution_count": 11,
   "id": "356469b7",
   "metadata": {
    "hidden": true
   },
   "outputs": [
    {
     "data": {
      "text/plain": [
       "과목\n",
       "영어    325\n",
       "수학    282\n",
       "dtype: int64"
      ]
     },
     "execution_count": 11,
     "metadata": {},
     "output_type": "execute_result"
    }
   ],
   "source": [
    "# 2) sum(): 해당 컬럼이나 로우의 총합을 계산\n",
    "# 기본 축 방향: 열별 총합\n",
    "# == 과목별 총합\n",
    "# axis = 0\n",
    "df2017.sum()"
   ]
  },
  {
   "cell_type": "code",
   "execution_count": 12,
   "id": "18e21dd3",
   "metadata": {
    "hidden": true
   },
   "outputs": [],
   "source": [
    "# 학생별 점수 총합"
   ]
  },
  {
   "cell_type": "code",
   "execution_count": 13,
   "id": "25c3fbff",
   "metadata": {
    "hidden": true
   },
   "outputs": [
    {
     "data": {
      "text/plain": [
       "학생명\n",
       "Kim     138\n",
       "Park    132\n",
       "Lee     106\n",
       "Jung    127\n",
       "Moon    104\n",
       "dtype: int64"
      ]
     },
     "execution_count": 13,
     "metadata": {},
     "output_type": "execute_result"
    }
   ],
   "source": [
    "df2017.sum(axis=1)"
   ]
  },
  {
   "cell_type": "code",
   "execution_count": 14,
   "id": "fe228651",
   "metadata": {
    "hidden": true
   },
   "outputs": [
    {
     "data": {
      "text/plain": [
       "과목\n",
       "영어    65.0\n",
       "수학    56.4\n",
       "dtype: float64"
      ]
     },
     "execution_count": 14,
     "metadata": {},
     "output_type": "execute_result"
    }
   ],
   "source": [
    "# 3) mean()\n",
    "# 괌고별 평균\n",
    "# axis = 0(default)\n",
    "df2017.mean()"
   ]
  },
  {
   "cell_type": "code",
   "execution_count": 15,
   "id": "0487a30d",
   "metadata": {
    "hidden": true
   },
   "outputs": [
    {
     "data": {
      "text/plain": [
       "학생명\n",
       "Kim     69.0\n",
       "Park    66.0\n",
       "Lee     53.0\n",
       "Jung    63.5\n",
       "Moon    52.0\n",
       "dtype: float64"
      ]
     },
     "execution_count": 15,
     "metadata": {},
     "output_type": "execute_result"
    }
   ],
   "source": [
    "# 학생별 평균\n",
    "df2017.mean(axis=1)"
   ]
  },
  {
   "cell_type": "markdown",
   "id": "4ed07729",
   "metadata": {
    "heading_collapsed": true
   },
   "source": [
    "## 문제 1"
   ]
  },
  {
   "cell_type": "markdown",
   "id": "81c8a590",
   "metadata": {
    "hidden": true
   },
   "source": [
    "- df변수를 이용해서 2016, 2017년도별, 과목별 평균성적 출력"
   ]
  },
  {
   "cell_type": "code",
   "execution_count": 16,
   "id": "37d39b0e",
   "metadata": {
    "hidden": true
   },
   "outputs": [
    {
     "data": {
      "text/plain": [
       "연도    과목\n",
       "2016  영어    76.4\n",
       "      수학    72.6\n",
       "2017  영어    65.0\n",
       "      수학    56.4\n",
       "dtype: float64"
      ]
     },
     "execution_count": 16,
     "metadata": {},
     "output_type": "execute_result"
    }
   ],
   "source": [
    "df.mean()"
   ]
  },
  {
   "cell_type": "markdown",
   "id": "603955ae",
   "metadata": {
    "hidden": true
   },
   "source": [
    "- 위의 년도별, 과목별 평균의 로우가 연도로, 컬럼이 과목이 되도록 수정하기"
   ]
  },
  {
   "cell_type": "code",
   "execution_count": 17,
   "id": "c3ca2721",
   "metadata": {
    "hidden": true
   },
   "outputs": [
    {
     "data": {
      "text/html": [
       "<div>\n",
       "<style scoped>\n",
       "    .dataframe tbody tr th:only-of-type {\n",
       "        vertical-align: middle;\n",
       "    }\n",
       "\n",
       "    .dataframe tbody tr th {\n",
       "        vertical-align: top;\n",
       "    }\n",
       "\n",
       "    .dataframe thead th {\n",
       "        text-align: right;\n",
       "    }\n",
       "</style>\n",
       "<table border=\"1\" class=\"dataframe\">\n",
       "  <thead>\n",
       "    <tr style=\"text-align: right;\">\n",
       "      <th>과목</th>\n",
       "      <th>수학</th>\n",
       "      <th>영어</th>\n",
       "    </tr>\n",
       "    <tr>\n",
       "      <th>연도</th>\n",
       "      <th></th>\n",
       "      <th></th>\n",
       "    </tr>\n",
       "  </thead>\n",
       "  <tbody>\n",
       "    <tr>\n",
       "      <th>2016</th>\n",
       "      <td>72.6</td>\n",
       "      <td>76.4</td>\n",
       "    </tr>\n",
       "    <tr>\n",
       "      <th>2017</th>\n",
       "      <td>56.4</td>\n",
       "      <td>65.0</td>\n",
       "    </tr>\n",
       "  </tbody>\n",
       "</table>\n",
       "</div>"
      ],
      "text/plain": [
       "과목      수학    영어\n",
       "연도              \n",
       "2016  72.6  76.4\n",
       "2017  56.4  65.0"
      ]
     },
     "execution_count": 17,
     "metadata": {},
     "output_type": "execute_result"
    }
   ],
   "source": [
    "df.mean().unstack()"
   ]
  },
  {
   "cell_type": "markdown",
   "id": "734ccefb",
   "metadata": {},
   "source": [
    "## 문제 2"
   ]
  },
  {
   "cell_type": "markdown",
   "id": "8122fa23",
   "metadata": {},
   "source": [
    "- df변수를 이용해서 학생별로 전체 평균을 출력"
   ]
  },
  {
   "cell_type": "code",
   "execution_count": 18,
   "id": "db774316",
   "metadata": {},
   "outputs": [
    {
     "data": {
      "text/plain": [
       "학생명\n",
       "Kim     67.00\n",
       "Park    71.00\n",
       "Lee     65.50\n",
       "Jung    67.25\n",
       "Moon    67.25\n",
       "dtype: float64"
      ]
     },
     "execution_count": 18,
     "metadata": {},
     "output_type": "execute_result"
    }
   ],
   "source": [
    "df.mean(axis=1)"
   ]
  }
 ],
 "metadata": {
  "kernelspec": {
   "display_name": "Python 3 (ipykernel)",
   "language": "python",
   "name": "python3"
  },
  "language_info": {
   "codemirror_mode": {
    "name": "ipython",
    "version": 3
   },
   "file_extension": ".py",
   "mimetype": "text/x-python",
   "name": "python",
   "nbconvert_exporter": "python",
   "pygments_lexer": "ipython3",
   "version": "3.9.12"
  },
  "toc": {
   "base_numbering": 1,
   "nav_menu": {},
   "number_sections": true,
   "sideBar": true,
   "skip_h1_title": false,
   "title_cell": "Table of Contents",
   "title_sidebar": "Contents",
   "toc_cell": false,
   "toc_position": {},
   "toc_section_display": true,
   "toc_window_display": false
  }
 },
 "nbformat": 4,
 "nbformat_minor": 5
}
