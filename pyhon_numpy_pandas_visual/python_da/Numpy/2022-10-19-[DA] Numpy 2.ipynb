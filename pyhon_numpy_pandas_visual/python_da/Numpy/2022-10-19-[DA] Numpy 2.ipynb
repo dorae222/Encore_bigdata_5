{
 "cells": [
  {
   "cell_type": "markdown",
   "id": "216e3d54",
   "metadata": {},
   "source": [
    "# \"[DA] Numpy 기본 2\"\n",
    "> \"Numpy 기본\"\n",
    "\n",
    "- toc: true\n",
    "- branch: master\n",
    "- badges: true\n",
    "- comments: true\n",
    "- categories: [numpy]\n",
    "- author: 도형준"
   ]
  },
  {
   "cell_type": "markdown",
   "id": "46daa138",
   "metadata": {},
   "source": [
    "## Numpy"
   ]
  },
  {
   "cell_type": "markdown",
   "id": "1d59640c",
   "metadata": {
    "heading_collapsed": true
   },
   "source": [
    "### 필요 라이브러리 및 함수 import"
   ]
  },
  {
   "cell_type": "code",
   "execution_count": 1,
   "id": "e3ddcb77",
   "metadata": {
    "hidden": true
   },
   "outputs": [],
   "source": [
    "import numpy as np"
   ]
  },
  {
   "cell_type": "code",
   "execution_count": 3,
   "id": "5a364394",
   "metadata": {
    "hidden": true
   },
   "outputs": [],
   "source": [
    "# Numpy 객체 정보를 좀 더 편하게 확인하기 위한 사용자 함수 정의\n",
    "# 객체타입, 구조, 차원, 데이터타입, 내부자료\n",
    "# 를 확인하기 위해 정의하는 함수\n",
    "def np_print(arr):\n",
    "    text = '''\n",
    "    type : {}\n",
    "    shape : {}\n",
    "    ndim : {}\n",
    "    dtype : {}\n",
    "    array data : \\n {}'''.format(type(arr), arr.shape, arr.ndim, arr.dtype, arr)\n",
    "    print(text)"
   ]
  },
  {
   "cell_type": "markdown",
   "id": "81196e87",
   "metadata": {},
   "source": [
    "### 난수(특정한 순서나 규칙을 가지지 않는 무작위의 수)를 데이터로 가지는 배열을 생성\n",
    "    - np.random.normal()\n",
    "    - np.random.rand()\n",
    "    - np.random.randn()\n",
    "    - np.random.randint()\n",
    "    - np.random.random()"
   ]
  },
  {
   "cell_type": "markdown",
   "id": "f0746a20",
   "metadata": {},
   "source": [
    "#### 분산과 표준편차"
   ]
  },
  {
   "cell_type": "markdown",
   "id": "3b0c1413",
   "metadata": {},
   "source": [
    "     분산: 특정 요소가 평균 값으로부터 얼마나 떨어졌는 지를 나타내는 척도\n",
    "     표준편차: 분산 과정에서 제곱을 하기 때문에 정확한 거리를 구할 수 없으므로 다시 제곱근해 얻어내는 값\n",
    "- 어떤 집단간 평균이 같다고 해서 반드시 분포가 같지는 않다.\n",
    "- 평균에서 어떤 요소가 얼마나 멀리 떨어져있는 지를 나타내는 분산값을 구한 다음\n",
    "- 분산에 제곱근을 씌워 표준편차화 시켜야 비로소 분포가 눈에 보인다."
   ]
  },
  {
   "cell_type": "markdown",
   "id": "ef41f2e0",
   "metadata": {
    "heading_collapsed": true
   },
   "source": [
    "#### np.random.normal(loc=0.0, scale=1.0, size=None)"
   ]
  },
  {
   "cell_type": "markdown",
   "id": "486a44f2",
   "metadata": {
    "hidden": true
   },
   "source": [
    "- 정규 분포 확률 밀도에서 표본을 추출하여 데이터로 가지는 배열을 생성\n",
    "- loc : 정규분포의 평균, 기본값 = 0.0\n",
    "- scale : 정규분포의 표준편차, 기본값 = 1.0\n",
    "- size : (행,열,차원)의 배열 구조, 기본값 = single value(배열이 아닌 하나의 값을 반환)"
   ]
  },
  {
   "cell_type": "code",
   "execution_count": 2,
   "id": "8e40f94e",
   "metadata": {
    "hidden": true
   },
   "outputs": [
    {
     "data": {
      "text/plain": [
       "0.8274704856344464"
      ]
     },
     "execution_count": 2,
     "metadata": {},
     "output_type": "execute_result"
    }
   ],
   "source": [
    "# 기본값\n",
    "v = np.random.normal(0,1) # 평균 0, 표준편차 1로 설정하고 난수 뽑기\n",
    "v"
   ]
  },
  {
   "cell_type": "code",
   "execution_count": 5,
   "id": "fecb40d9",
   "metadata": {
    "hidden": true
   },
   "outputs": [
    {
     "name": "stdout",
     "output_type": "stream",
     "text": [
      "\n",
      "    type : <class 'numpy.ndarray'>\n",
      "    shape : (2, 3)\n",
      "    ndim : 2\n",
      "    dtype : float64\n",
      "    array data : \n",
      " [[-0.80712753 -0.35011752  1.08621937]\n",
      " [ 0.08638849 -0.88020458 -0.01003065]]\n"
     ]
    }
   ],
   "source": [
    "# size 설정: 2행 3열 구조 설정\n",
    "arr = np.random.normal(0,1,size=(2,3))\n",
    "np_print(arr)"
   ]
  },
  {
   "cell_type": "code",
   "execution_count": 8,
   "id": "bd425a9c",
   "metadata": {
    "hidden": true
   },
   "outputs": [
    {
     "name": "stdout",
     "output_type": "stream",
     "text": [
      "\n",
      "    type : <class 'numpy.ndarray'>\n",
      "    shape : (10000,)\n",
      "    ndim : 1\n",
      "    dtype : float64\n",
      "    array data : \n",
      " [11.09085826 11.45989558  8.24413761 ...  9.61992356 10.56703115\n",
      " 11.81088055]\n"
     ]
    }
   ],
   "source": [
    "# 정규분포 데이터로 이루어진 배열에 대한 시각화\n",
    "# 평균 10, 표준편차 2인 정규분포에서 추출한 10000개의 데이터\n",
    "\n",
    "data = np.random.normal(10,2,size = 10000)\n",
    "np_print(data)"
   ]
  },
  {
   "cell_type": "code",
   "execution_count": 11,
   "id": "b677e4e9",
   "metadata": {
    "hidden": true
   },
   "outputs": [],
   "source": [
    "# 100개 구간으로 구분한 분포\n",
    "import matplotlib.pyplot as plt # 시각화 라이브러리"
   ]
  },
  {
   "cell_type": "code",
   "execution_count": 12,
   "id": "a9187190",
   "metadata": {
    "hidden": true,
    "scrolled": true
   },
   "outputs": [
    {
     "data": {
      "text/plain": [
       "(array([  1.,   0.,   1.,   0.,   0.,   1.,   1.,   0.,   3.,   2.,   2.,\n",
       "          4.,   5.,   3.,   5.,   7.,  12.,  15.,   8.,  17.,  17.,  23.,\n",
       "         35.,  27.,  42.,  46.,  58.,  64.,  82.,  90.,  88., 112., 121.,\n",
       "        125., 145., 171., 177., 196., 218., 203., 215., 228., 283., 277.,\n",
       "        313., 290., 326., 316., 304., 309., 294., 305., 303., 332., 312.,\n",
       "        288., 244., 257., 244., 252., 219., 221., 189., 174., 138., 148.,\n",
       "        126., 131., 134.,  98., 101.,  75.,  55.,  78.,  51.,  40.,  36.,\n",
       "         31.,  21.,  23.,  11.,  12.,  12.,  14.,  12.,   9.,   7.,   5.,\n",
       "          2.,   1.,   1.,   0.,   2.,   1.,   1.,   1.,   0.,   0.,   0.,\n",
       "          1.]),\n",
       " array([ 2.16431632,  2.32074402,  2.47717172,  2.63359942,  2.79002712,\n",
       "         2.94645482,  3.10288253,  3.25931023,  3.41573793,  3.57216563,\n",
       "         3.72859333,  3.88502103,  4.04144873,  4.19787644,  4.35430414,\n",
       "         4.51073184,  4.66715954,  4.82358724,  4.98001494,  5.13644264,\n",
       "         5.29287034,  5.44929805,  5.60572575,  5.76215345,  5.91858115,\n",
       "         6.07500885,  6.23143655,  6.38786425,  6.54429195,  6.70071966,\n",
       "         6.85714736,  7.01357506,  7.17000276,  7.32643046,  7.48285816,\n",
       "         7.63928586,  7.79571357,  7.95214127,  8.10856897,  8.26499667,\n",
       "         8.42142437,  8.57785207,  8.73427977,  8.89070747,  9.04713518,\n",
       "         9.20356288,  9.35999058,  9.51641828,  9.67284598,  9.82927368,\n",
       "         9.98570138, 10.14212909, 10.29855679, 10.45498449, 10.61141219,\n",
       "        10.76783989, 10.92426759, 11.08069529, 11.23712299, 11.3935507 ,\n",
       "        11.5499784 , 11.7064061 , 11.8628338 , 12.0192615 , 12.1756892 ,\n",
       "        12.3321169 , 12.4885446 , 12.64497231, 12.80140001, 12.95782771,\n",
       "        13.11425541, 13.27068311, 13.42711081, 13.58353851, 13.73996622,\n",
       "        13.89639392, 14.05282162, 14.20924932, 14.36567702, 14.52210472,\n",
       "        14.67853242, 14.83496012, 14.99138783, 15.14781553, 15.30424323,\n",
       "        15.46067093, 15.61709863, 15.77352633, 15.92995403, 16.08638173,\n",
       "        16.24280944, 16.39923714, 16.55566484, 16.71209254, 16.86852024,\n",
       "        17.02494794, 17.18137564, 17.33780335, 17.49423105, 17.65065875,\n",
       "        17.80708645]),\n",
       " <BarContainer object of 100 artists>)"
      ]
     },
     "execution_count": 12,
     "metadata": {},
     "output_type": "execute_result"
    },
    {
     "data": {
      "image/png": "[encoded data removed]",
      "text/plain": [
       "<Figure size 432x288 with 1 Axes>"
      ]
     },
     "metadata": {
      "needs_background": "light"
     },
     "output_type": "display_data"
    }
   ],
   "source": [
    "plt.hist(data, bins = 100) # bins: 구간의 개수 => 커지면 막대의 폭이 작아짐"
   ]
  },
  {
   "cell_type": "markdown",
   "id": "f4399dd7",
   "metadata": {
    "heading_collapsed": true
   },
   "source": [
    "#### np.random.rand(d0,d1, ..., dn)"
   ]
  },
  {
   "cell_type": "markdown",
   "id": "2c1a5060",
   "metadata": {
    "hidden": true
   },
   "source": [
    "- 지정한 shape(d0, d1...)에 따라 배열을 생성한 후 난수로 초기화\n",
    "- 사용되는 난수는 0이상 1미만의 범위에서 '균등 분포'로 추출"
   ]
  },
  {
   "cell_type": "code",
   "execution_count": 14,
   "id": "ef66b382",
   "metadata": {
    "hidden": true
   },
   "outputs": [
    {
     "name": "stdout",
     "output_type": "stream",
     "text": [
      "\n",
      "    type : <class 'numpy.ndarray'>\n",
      "    shape : (2, 3)\n",
      "    ndim : 2\n",
      "    dtype : float64\n",
      "    array data : \n",
      " [[0.23312746 0.57173022 0.21526269]\n",
      " [0.37086593 0.76226415 0.8057017 ]]\n"
     ]
    }
   ],
   "source": [
    "# 2행 3열의 구조\n",
    "arr = np.random.rand(2,3)\n",
    "np_print(arr)"
   ]
  },
  {
   "cell_type": "code",
   "execution_count": 16,
   "id": "b08745b5",
   "metadata": {
    "hidden": true,
    "scrolled": true
   },
   "outputs": [
    {
     "data": {
      "text/plain": [
       "(array([ 989.,  988., 1043.,  985.,  979.,  965., 1050.,  983., 1001.,\n",
       "        1017.]),\n",
       " array([3.92588658e-05, 1.00007710e-01, 1.99976161e-01, 2.99944611e-01,\n",
       "        3.99913062e-01, 4.99881513e-01, 5.99849964e-01, 6.99818415e-01,\n",
       "        7.99786866e-01, 8.99755316e-01, 9.99723767e-01]),\n",
       " <BarContainer object of 10 artists>)"
      ]
     },
     "execution_count": 16,
     "metadata": {},
     "output_type": "execute_result"
    },
    {
     "data": {
      "image/png": "[encoded data removed]",
      "text/plain": [
       "<Figure size 432x288 with 1 Axes>"
      ]
     },
     "metadata": {
      "needs_background": "light"
     },
     "output_type": "display_data"
    }
   ],
   "source": [
    "# 균등분포 데이터로 이루어진 배열에 대한 시각화\n",
    "# 10000개의 데이터로 이루어진 배열을 10개 구간으로 구분한 분포\n",
    "data = np.random.rand(10000)\n",
    "plt.hist(data, bins = 10)"
   ]
  },
  {
   "cell_type": "code",
   "execution_count": 17,
   "id": "42efc5fc",
   "metadata": {
    "hidden": true
   },
   "outputs": [
    {
     "data": {
      "text/plain": [
       "array([10, 20, 30, 40])"
      ]
     },
     "execution_count": 17,
     "metadata": {},
     "output_type": "execute_result"
    }
   ],
   "source": [
    "# 넘파이 배열은 곱하기를 받았을 때 반복해서 연장하는 것이 아니라\n",
    "# 내장된 데이터 하나하나에 곱해줍니다\n",
    "np.array([1,2,3,4])*10"
   ]
  },
  {
   "cell_type": "markdown",
   "id": "b65d63ba",
   "metadata": {},
   "source": [
    "#### np.random.randn(d0,d1,...,dn)"
   ]
  },
  {
   "cell_type": "markdown",
   "id": "0ff77127",
   "metadata": {},
   "source": [
    "- 지정한 shape(d0,d1,...)에 따라 배열을 생성한 후 난수로 초기화\n",
    "- 사용되는 난수는 표준정규분포에서 추출된 데이터"
   ]
  },
  {
   "cell_type": "code",
   "execution_count": 18,
   "id": "1f538ce7",
   "metadata": {},
   "outputs": [
    {
     "name": "stdout",
     "output_type": "stream",
     "text": [
      "\n",
      "    type : <class 'numpy.ndarray'>\n",
      "    shape : (2, 4)\n",
      "    ndim : 2\n",
      "    dtype : float64\n",
      "    array data : \n",
      " [[-0.62752527 -0.55018855  1.86238411  0.52864149]\n",
      " [-0.33369304  0.65226747 -1.51019704 -0.55837637]]\n"
     ]
    }
   ],
   "source": [
    "arr = np.random.randn(2,4)\n",
    "np_print(arr)"
   ]
  },
  {
   "cell_type": "code",
   "execution_count": 19,
   "id": "52a64c7f",
   "metadata": {
    "scrolled": true
   },
   "outputs": [
    {
     "data": {
      "text/plain": [
       "(array([  1.,   0.,   2.,   1.,   0.,   2.,   3.,   3.,   2.,   5.,   6.,\n",
       "          6.,   1.,   9.,  11.,  13.,  23.,  22.,  21.,  22.,  27.,  36.,\n",
       "         37.,  44.,  55.,  59.,  67.,  79.,  98., 107., 113., 126., 146.,\n",
       "        131., 145., 161., 174., 194., 216., 236., 202., 239., 265., 253.,\n",
       "        261., 297., 277., 296., 284., 277., 269., 278., 295., 295., 263.,\n",
       "        268., 248., 246., 240., 210., 230., 233., 182., 181., 152., 155.,\n",
       "        135., 143., 123., 100.,  94.,  82.,  82.,  74.,  55.,  38.,  46.,\n",
       "         51.,  38.,  23.,  19.,  15.,  20.,  12.,   9.,  10.,   8.,   7.,\n",
       "          3.,   3.,   1.,   2.,   3.,   0.,   0.,   0.,   0.,   1.,   0.,\n",
       "          3.]),\n",
       " array([-3.63343679, -3.56044242, -3.48744806, -3.41445369, -3.34145933,\n",
       "        -3.26846496, -3.1954706 , -3.12247623, -3.04948187, -2.9764875 ,\n",
       "        -2.90349313, -2.83049877, -2.7575044 , -2.68451004, -2.61151567,\n",
       "        -2.53852131, -2.46552694, -2.39253258, -2.31953821, -2.24654385,\n",
       "        -2.17354948, -2.10055512, -2.02756075, -1.95456639, -1.88157202,\n",
       "        -1.80857765, -1.73558329, -1.66258892, -1.58959456, -1.51660019,\n",
       "        -1.44360583, -1.37061146, -1.2976171 , -1.22462273, -1.15162837,\n",
       "        -1.078634  , -1.00563964, -0.93264527, -0.85965091, -0.78665654,\n",
       "        -0.71366217, -0.64066781, -0.56767344, -0.49467908, -0.42168471,\n",
       "        -0.34869035, -0.27569598, -0.20270162, -0.12970725, -0.05671289,\n",
       "         0.01628148,  0.08927584,  0.16227021,  0.23526457,  0.30825894,\n",
       "         0.38125331,  0.45424767,  0.52724204,  0.6002364 ,  0.67323077,\n",
       "         0.74622513,  0.8192195 ,  0.89221386,  0.96520823,  1.03820259,\n",
       "         1.11119696,  1.18419132,  1.25718569,  1.33018005,  1.40317442,\n",
       "         1.47616879,  1.54916315,  1.62215752,  1.69515188,  1.76814625,\n",
       "         1.84114061,  1.91413498,  1.98712934,  2.06012371,  2.13311807,\n",
       "         2.20611244,  2.2791068 ,  2.35210117,  2.42509553,  2.4980899 ,\n",
       "         2.57108427,  2.64407863,  2.717073  ,  2.79006736,  2.86306173,\n",
       "         2.93605609,  3.00905046,  3.08204482,  3.15503919,  3.22803355,\n",
       "         3.30102792,  3.37402228,  3.44701665,  3.52001101,  3.59300538,\n",
       "         3.66599975]),\n",
       " <BarContainer object of 100 artists>)"
      ]
     },
     "execution_count": 19,
     "metadata": {},
     "output_type": "execute_result"
    },
    {
     "data": {
      "image/png": "[encoded data removed]",
      "text/plain": [
       "<Figure size 432x288 with 1 Axes>"
      ]
     },
     "metadata": {
      "needs_background": "light"
     },
     "output_type": "display_data"
    }
   ],
   "source": [
    "# 정규분포 데이터로 이루어진 배열에 대한 시각화\n",
    "# 평균 0, 표준편차 1인 표준정규분포에서 추출한 10000개의 데이터에 대해\n",
    "# 100개의 구간으로 구분판 분포\n",
    "data = np.random.randn(10000)\n",
    "plt.hist(data, bins = 100)"
   ]
  },
  {
   "cell_type": "markdown",
   "id": "cb354f4c",
   "metadata": {},
   "source": [
    "#### np.random.randint(low, high = None, dtype='I')"
   ]
  },
  {
   "cell_type": "markdown",
   "id": "6d0c7469",
   "metadata": {},
   "source": [
    "- low 이상 high 미만의 범위에서 정수로 구성된 데이터를 가지고 지정한 size 배열을 생성\n",
    "- low: high 값이 지정되지 않으면 low값이 최대값(포함하지 않음)으로 설정\n",
    "- high: 최대값(포함하지 않음), 기본값 = None\n",
    "- size: 배열의 구조, 기본값 =None(배열이 아닌 하나의 값으로 반환)"
   ]
  },
  {
   "cell_type": "code",
   "execution_count": 20,
   "id": "6331283c",
   "metadata": {},
   "outputs": [
    {
     "data": {
      "text/plain": [
       "0"
      ]
     },
     "execution_count": 20,
     "metadata": {},
     "output_type": "execute_result"
    }
   ],
   "source": [
    "# 1미만의 양수와 0 중 하나의 값 추출\n",
    "a = np.random.randint(1)\n",
    "a"
   ]
  },
  {
   "cell_type": "code",
   "execution_count": 21,
   "id": "69da875d",
   "metadata": {},
   "outputs": [
    {
     "name": "stdout",
     "output_type": "stream",
     "text": [
      "\n",
      "    type : <class 'numpy.ndarray'>\n",
      "    shape : (10,)\n",
      "    ndim : 1\n",
      "    dtype : int32\n",
      "    array data : \n",
      " [0 0 0 0 0 0 0 0 0 0]\n"
     ]
    }
   ],
   "source": [
    "# 1미만 양수와 0 중 10개 추출\n",
    "arr = np.random.randint(1, size = 10)\n",
    "np_print(arr)"
   ]
  },
  {
   "cell_type": "code",
   "execution_count": 22,
   "id": "0e653c72",
   "metadata": {},
   "outputs": [
    {
     "name": "stdout",
     "output_type": "stream",
     "text": [
      "\n",
      "    type : <class 'numpy.ndarray'>\n",
      "    shape : (10,)\n",
      "    ndim : 1\n",
      "    dtype : int32\n",
      "    array data : \n",
      " [0 0 1 0 2 1 1 1 0 0]\n"
     ]
    }
   ],
   "source": [
    "# 3미만 양수와 0 중 10개 추출\n",
    "arr = np.random.randint(3, size = 10)\n",
    "np_print(arr)"
   ]
  },
  {
   "cell_type": "code",
   "execution_count": 24,
   "id": "2d852812",
   "metadata": {},
   "outputs": [
    {
     "data": {
      "text/plain": [
       "array([[9, 7, 7, 7],\n",
       "       [4, 8, 5, 4]])"
      ]
     },
     "execution_count": 24,
     "metadata": {},
     "output_type": "execute_result"
    }
   ],
   "source": [
    "# 3초과 10미만의 정수로 구성된 2행 4열\n",
    "arr = np.random.randint(4, 10, size = (2,4))\n",
    "arr"
   ]
  },
  {
   "cell_type": "code",
   "execution_count": 26,
   "id": "a6d368ad",
   "metadata": {},
   "outputs": [
    {
     "data": {
      "text/plain": [
       "(array([2000., 2010., 1961., 2012., 2017.]),\n",
       " array([-100.,  -60.,  -20.,   20.,   60.,  100.]),\n",
       " <BarContainer object of 5 artists>)"
      ]
     },
     "execution_count": 26,
     "metadata": {},
     "output_type": "execute_result"
    },
    {
     "data": {
      "image/png": "[encoded data removed]",
      "text/plain": [
       "<Figure size 432x288 with 1 Axes>"
      ]
     },
     "metadata": {
      "needs_background": "light"
     },
     "output_type": "display_data"
    }
   ],
   "source": [
    "# 균등분포로 이루어진 배열에 대한 시각화\n",
    "# -100 ~100의 범위에서 추출한 10000개의 데이터에 대해 5개 구간으로\n",
    "# 히스토그램 그리기\n",
    "arr =  np.random.randint(-100, 101, size = 10000)\n",
    "plt.hist(arr,bins = 5)"
   ]
  },
  {
   "cell_type": "markdown",
   "id": "a34aa4da",
   "metadata": {},
   "source": [
    "### 난수 = 무작위 숫자"
   ]
  },
  {
   "cell_type": "markdown",
   "id": "f5974e5c",
   "metadata": {},
   "source": [
    "- 프로그래밍에서 추출되는 난수는 무작위로 만들어진 것처럼 보이지만 실제로는 고정된 기준(시작점)을 가지고 규칙적으로 생성\n",
    "- 시작점을 설정한다면 동일한 난수를 똑같이 생성 가능\n",
    "- 난수의 시작점 설정: np.random.seed()"
   ]
  },
  {
   "cell_type": "markdown",
   "id": "a4a655cc",
   "metadata": {},
   "source": [
    "#### np.random.seed()"
   ]
  },
  {
   "cell_type": "code",
   "execution_count": 32,
   "id": "6c0ee1bf",
   "metadata": {},
   "outputs": [],
   "source": [
    "# 난수 시작점 설정하기\n",
    "# seed값: 100\n",
    "np.random.seed(100)"
   ]
  },
  {
   "cell_type": "code",
   "execution_count": 33,
   "id": "5c80f8c7",
   "metadata": {},
   "outputs": [
    {
     "data": {
      "text/plain": [
       "array([[0.54340494, 0.27836939, 0.42451759],\n",
       "       [0.84477613, 0.00471886, 0.12156912],\n",
       "       [0.67074908, 0.82585276, 0.13670659]])"
      ]
     },
     "execution_count": 33,
     "metadata": {},
     "output_type": "execute_result"
    }
   ],
   "source": [
    "# 0이상 1미만 범위(고정범위)에서 실수값을 가지는 3행 3열의 난수 생성\n",
    "np.random.random((3,3))"
   ]
  },
  {
   "cell_type": "code",
   "execution_count": 37,
   "id": "d70d438c",
   "metadata": {},
   "outputs": [
    {
     "data": {
      "text/plain": [
       "array([[0, 4],\n",
       "       [3, 4]])"
      ]
     },
     "execution_count": 37,
     "metadata": {},
     "output_type": "execute_result"
    }
   ],
   "source": [
    "# 0이상 5미만 범위(지정범위)에서 정수 값을 가지는 2행 2열의 난수 생성\n",
    "np.random.randint(0,5,size =(2,2))"
   ]
  },
  {
   "cell_type": "code",
   "execution_count": 38,
   "id": "05aadabc",
   "metadata": {},
   "outputs": [],
   "source": [
    "# 시작점 초기화\n",
    "# np.random.seed() 안쪽의 정수를 기입하지 않고 실행하면 초기화\n",
    "np.random.seed()"
   ]
  },
  {
   "cell_type": "code",
   "execution_count": 39,
   "id": "1114a95d",
   "metadata": {},
   "outputs": [
    {
     "data": {
      "text/plain": [
       "array([[0.70070816, 0.97405966, 0.79923018],\n",
       "       [0.31254794, 0.05649637, 0.14232234],\n",
       "       [0.60204022, 0.51746274, 0.76513167]])"
      ]
     },
     "execution_count": 39,
     "metadata": {},
     "output_type": "execute_result"
    }
   ],
   "source": [
    "np.random.random((3,3))"
   ]
  }
 ],
 "metadata": {
  "kernelspec": {
   "display_name": "Python 3 (ipykernel)",
   "language": "python",
   "name": "python3"
  },
  "language_info": {
   "codemirror_mode": {
    "name": "ipython",
    "version": 3
   },
   "file_extension": ".py",
   "mimetype": "text/x-python",
   "name": "python",
   "nbconvert_exporter": "python",
   "pygments_lexer": "ipython3",
   "version": "3.9.12"
  },
  "toc": {
   "base_numbering": 1,
   "nav_menu": {},
   "number_sections": true,
   "sideBar": true,
   "skip_h1_title": false,
   "title_cell": "Table of Contents",
   "title_sidebar": "Contents",
   "toc_cell": false,
   "toc_position": {},
   "toc_section_display": true,
   "toc_window_display": false
  }
 },
 "nbformat": 4,
 "nbformat_minor": 5
}
