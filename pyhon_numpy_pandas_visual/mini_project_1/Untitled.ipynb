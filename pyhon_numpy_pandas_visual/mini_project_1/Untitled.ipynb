{
 "cells": [
  {
   "cell_type": "code",
   "execution_count": 1,
   "id": "c6a96912",
   "metadata": {},
   "outputs": [],
   "source": [
    "from bs4 import BeautifulSoup\n",
    "from selenium import webdriver\n",
    "import requests\n",
    "import time\n",
    "from selenium.webdriver.common.by import By\n",
    "from selenium.webdriver.chrome.service import Service"
   ]
  },
  {
   "cell_type": "code",
   "execution_count": 2,
   "id": "90c5af81",
   "metadata": {},
   "outputs": [],
   "source": [
    "seoul_sigungu = ['강남구','강동구','강북구','강서구','관악구','광진구',\n",
    "        '구로구','금천구','노원구','도봉구','동대문구','동작구',\n",
    "        '마포구','서대문구','서초구','성동구','성북구','송파구',\n",
    "         '양천구','영등포구','용산구','은평구','종로구','중구','중랑구']"
   ]
  },
  {
   "cell_type": "markdown",
   "id": "4290ab09",
   "metadata": {},
   "source": [
    "driver = webdriver.Chrome(\"C:/Users/dhj98/chromedriver.exe\")\n",
    "time.sleep(1)\n",
    "\n",
    "for area in seoul_sigungu:\n",
    "    keyword = area\n",
    "    \n",
    "    driver.get(\"https://www.zigbang.com/home/oneroom/map?mkt_source=google_sa_search_pc&keyword=%EC%A7%81%EB%B0%A9&gclid=Cj0KCQjwkt6aBhDKARIsAAyeLJ01_k_oPUvj6vKWLisBwqzV01favb6zsA6tyWLcKhamCoJfypulEtUaAnQiEALw_wcB\")\n",
    "    time.sleep(2)\n",
    "    select-item "
   ]
  },
  {
   "cell_type": "code",
   "execution_count": 11,
   "id": "d5028c2e",
   "metadata": {},
   "outputs": [],
   "source": [
    "# 자동 스크롤다운 함수\n",
    "def scroll_down(driver):\n",
    "    driver.execute_script(\"window.scrollTo(0,document.body.scrollHeight);\")\n",
    "    time.sleep(2)"
   ]
  },
  {
   "cell_type": "code",
   "execution_count": null,
   "id": "a17bc246",
   "metadata": {},
   "outputs": [],
   "source": [
    "k2 = 1\n",
    "while (k2 <= page_cnt+2):\n",
    "    scroll_down(driver) \n",
    "    k2 += 1"
   ]
  },
  {
   "cell_type": "code",
   "execution_count": 9,
   "id": "7ee91513",
   "metadata": {},
   "outputs": [
    {
     "name": "stderr",
     "output_type": "stream",
     "text": [
      "C:\\Users\\dhj98\\AppData\\Local\\Temp\\ipykernel_3824\\3734992239.py:1: DeprecationWarning: executable_path has been deprecated, please pass in a Service object\n",
      "  driver = webdriver.Chrome(\"C:/Users/dhj98/chromedriver.exe\")\n"
     ]
    }
   ],
   "source": [
    "driver = webdriver.Chrome(\"C:/Users/dhj98/chromedriver.exe\")\n",
    "time.sleep(1)\n",
    "\n",
    "\n",
    "\n",
    "\n",
    "###############################################################################################\n",
    "keyword = '중구'\n",
    "driver.get(\"https://www.zigbang.com/home/oneroom/map?mkt_source=google_sa_search_pc&keyword=%EC%A7%81%EB%B0%A9&gclid=Cj0KCQjwkt6aBhDKARIsAAyeLJ01_k_oPUvj6vKWLisBwqzV01favb6zsA6tyWLcKhamCoJfypulEtUaAnQiEALw_wcB\")\n",
    "time.sleep(1)\n",
    "###############################################################################################\n",
    "search_input=driver.find_element(By.XPATH,'//*[@id=\"__next\"]/div[2]/div/div[1]/div/div[3]/div[1]/div[1]/div/div[1]/input')\n",
    "search_input.send_keys(keyword)\n",
    "time.sleep(1)\n",
    "search_input.send_keys('\\n')\n",
    "search_input.send_keys('\\n')\n",
    "time.sleep(1)\n",
    "###############################################################################################\n",
    "k2 = 1\n",
    "while (k2 <= page_cnt+2):\n",
    "    scroll_down(driver) \n",
    "    k2 += 1\n",
    "###############################################################################################\n",
    "driver.close()"
   ]
  },
  {
   "cell_type": "code",
   "execution_count": null,
   "id": "72d8094c",
   "metadata": {},
   "outputs": [],
   "source": []
  }
 ],
 "metadata": {
  "kernelspec": {
   "display_name": "Python 3 (ipykernel)",
   "language": "python",
   "name": "python3"
  },
  "language_info": {
   "codemirror_mode": {
    "name": "ipython",
    "version": 3
   },
   "file_extension": ".py",
   "mimetype": "text/x-python",
   "name": "python",
   "nbconvert_exporter": "python",
   "pygments_lexer": "ipython3",
   "version": "3.9.12"
  },
  "toc": {
   "base_numbering": 1,
   "nav_menu": {},
   "number_sections": true,
   "sideBar": true,
   "skip_h1_title": false,
   "title_cell": "Table of Contents",
   "title_sidebar": "Contents",
   "toc_cell": false,
   "toc_position": {},
   "toc_section_display": true,
   "toc_window_display": false
  }
 },
 "nbformat": 4,
 "nbformat_minor": 5
}
