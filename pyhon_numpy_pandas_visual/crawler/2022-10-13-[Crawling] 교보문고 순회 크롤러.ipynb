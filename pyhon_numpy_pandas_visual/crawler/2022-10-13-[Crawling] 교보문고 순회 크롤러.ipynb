{
 "cells": [
  {
   "cell_type": "markdown",
   "id": "632c535c",
   "metadata": {},
   "source": [
    "# \"[Crawling] 교보문고 순회 크롤러\"\n",
    "> \"페이지 넘기면서 1000권 정보 가져오기\"\n",
    "\n",
    "- toc: true\n",
    "- branch: master\n",
    "- badges: true\n",
    "- comments: true\n",
    "- categories: [Selenium, BeautifulSoup, 알라딘, 크롤링]\n",
    "- author: 도형준"
   ]
  },
  {
   "cell_type": "markdown",
   "id": "124cfbcb",
   "metadata": {},
   "source": [
    "# 순회 크롤러"
   ]
  },
  {
   "cell_type": "markdown",
   "id": "b4d89377",
   "metadata": {},
   "source": [
    "- 같은 양식의 페이지를 순회하면서 자료를 수집해오는 크롤러\n",
    "- 원 페이지 크롤러를 제작한 다음, 완성된 크롤러를 반복문에 넣어서 만든다\n",
    "- 반복을 어디부터 돌리지에 대한 파악이 제일 중요하다\n",
    "\n",
    "- 목적: 순위가 1000번째까지의 책의 제목, 저자, 가격 정보를 txt로 가져온다.\n",
    "\n",
    "- 코드를 수정하고 싶은 경우\n",
    "    - 자신의 chromedriver저장 경로로 바꿔준다.\n",
    "    - 자신의 txt파일 저장 경로를 바꿔준다.\n",
    "    - 자신의 csv파일 저장 경로를 바꿔준다."
   ]
  },
  {
   "cell_type": "code",
   "execution_count": 1,
   "id": "75b8e704",
   "metadata": {},
   "outputs": [],
   "source": [
    "# 크롤링 작업을 위한 라이브러리 import\n",
    "from bs4 import BeautifulSoup\n",
    "from selenium import webdriver\n",
    "import requests\n",
    "# 코드 진행 지연을 위한 time import\n",
    "import time\n",
    "# 2022년도 7월 이후 selenium 업데이트로 인한 xpath 추적시 import\n",
    "from selenium.webdriver.common.by import By\n",
    "from selenium.webdriver.chrome.service import Service\n",
    "\n",
    "import codecs"
   ]
  },
  {
   "cell_type": "code",
   "execution_count": 2,
   "id": "b11b9c80",
   "metadata": {
    "scrolled": true
   },
   "outputs": [
    {
     "name": "stderr",
     "output_type": "stream",
     "text": [
      "C:\\Users\\dhj98\\AppData\\Local\\Temp\\ipykernel_8356\\3993268019.py:1: DeprecationWarning: executable_path has been deprecated, please pass in a Service object\n",
      "  driver = webdriver.Chrome(\"C:/Users/dhj98/chromedriver.exe\")\n"
     ]
    }
   ],
   "source": [
    "driver = webdriver.Chrome(\"C:/Users/dhj98/chromedriver.exe\")\n",
    "time.sleep(1)\n",
    "\n",
    "driver.get(\"https://product.kyobobook.co.kr/bestseller/online?period=001\")\n",
    "time.sleep(5)\n",
    "\n",
    "kyobo_author_list=[]\n",
    "kyobo_title_list=[]\n",
    "kyobo_price_list=[]\n",
    "\n",
    "for page in range(50): # 최대 50페이지\n",
    "    source = driver.page_source\n",
    "    parsed_source = BeautifulSoup(source, \"html.parser\")\n",
    "    \n",
    "    span_title_list=parsed_source.find_all(\"span\",class_='prod_name')\n",
    "    span_author_list=parsed_source.find_all(\"span\",class_='prod_author')\n",
    "    span_price_list=parsed_source.find_all(\"span\",class_='val')\n",
    "    \n",
    "    \n",
    "    # 페이지별 저자, 제목, 가격 각 리스트에 추가하기\n",
    "    for i,j,k in zip(span_author_list,span_title_list,span_price_list):\n",
    "        kyobo_author_list.append(i.text.split('·')[0])\n",
    "        kyobo_title_list.append(j.text)\n",
    "        kyobo_price_list.append(k.text)\n",
    "    \n",
    "    # 책 순위정보 가져오기\n",
    "    span_book_num = parsed_source.find_all(\"span\",class_='text')[-14].text\n",
    "    \n",
    "    # 책이 1000번째 순위인지 아닌지에 따라 다음 페이지 넘어가는 경우 결정\n",
    "    if span_book_num == ' 1000': # 책 순위가 1000번째일 경우, driver 종료\n",
    "        driver.close()\n",
    "        break\n",
    "    else: # 책 순위가 1000번째가 아닌 경우, 다음 페이지로\n",
    "        driver.find_element(By.XPATH,'//*[@id=\"tabRoot\"]/div[2]/div[1]/button[2]').click()\n",
    "        time.sleep(5)\n",
    "\n",
    "# txt 파일로 정리하기\n",
    "f = codecs.open(\"C:/Users/dhj98/playdata/crawler/교보순회_result.txt\", mode=\"w\")\n",
    "f.write(\"%s,%s,%s,%s\\n\"%('순위','제목','저자','가격'))\n",
    "for i in range(len(kyobo_price_list)):\n",
    "    f.write(\"%s 순위, %s,%s,%s\\n\" % ((i+1),\n",
    "                                                   kyobo_title_list[i].replace(',', ''),\n",
    "                                                   kyobo_author_list[i].replace(',', ''),\n",
    "                                                   kyobo_price_list[i].replace(',', '')))\n",
    "f.close()\n",
    "\n",
    "# txt to csv\n",
    "import pandas as pd\n",
    "\n",
    "df = pd.read_csv(\"C:/Users/dhj98/playdata/crawler/교보순회_result.txt\",encoding='cp949')\n",
    "new_csv_file = df.to_csv(\"C:/Users/dhj98/playdata/crawler/교보순회_result.csv\",encoding='cp949')"
   ]
  },
  {
   "cell_type": "code",
   "execution_count": 3,
   "id": "c6c6f650",
   "metadata": {},
   "outputs": [
    {
     "data": {
      "text/plain": [
       "902"
      ]
     },
     "execution_count": 3,
     "metadata": {},
     "output_type": "execute_result"
    }
   ],
   "source": [
    "len(kyobo_price_list)"
   ]
  },
  {
   "attachments": {},
   "cell_type": "markdown",
   "id": "83c7fe62",
   "metadata": {},
   "source": [
    "- 값이 1000이 되지 않는 이유는 1000위까지의 모든 순위의 책이 있는 것이 아님\n",
    "- 예를 들어, 25위 다음에 26위를 뛰어넘고 27위로 가는 케이스 존재"
   ]
  },
  {
   "cell_type": "markdown",
   "id": "57b39498",
   "metadata": {},
   "source": [
    "## 순위"
   ]
  },
  {
   "cell_type": "markdown",
   "id": "dde027c7",
   "metadata": {},
   "source": [
    "- 순위의 경우, (\"span\",class_='text')에 담겨있습니다.\n",
    "- 하지만 순위 뿐만 아니라 다른 정보들도 함께 포함되어 있습니다.\n",
    "- 이에 따라, 순위만 따로 추출하는 전처리 과정이 필요합니다\n",
    "- 아직 해결 시도중"
   ]
  },
  {
   "cell_type": "code",
   "execution_count": 5,
   "id": "c22f8a46",
   "metadata": {},
   "outputs": [
    {
     "data": {
      "text/plain": [
       "[<span class=\"text\">브랜드 더보기</span>,\n",
       " <span class=\"text\">회원혜택</span>,\n",
       " <span class=\"text\">상세검색</span>,\n",
       " <span class=\"text\">도움말</span>,\n",
       " <span class=\"text\">국내도서 전체</span>,\n",
       " <span class=\"text\">서양도서 전체</span>,\n",
       " <span class=\"text\">일본도서 전체</span>,\n",
       " <span class=\"text\">교보Only 전체</span>,\n",
       " <span class=\"text\">주요서비스</span>,\n",
       " <span class=\"text\">이벤트 / 혜택</span>,\n",
       " <span class=\"text\">브랜드캠페인</span>,\n",
       " <span class=\"text\">문화공간</span>,\n",
       " <span class=\"text\">eBook/sam</span>,\n",
       " <span class=\"text\">웹소설 톡소다</span>,\n",
       " <span class=\"text\">핫트랙스</span>,\n",
       " <span class=\"text\">중고장터</span>,\n",
       " <span class=\"text\">CASTing</span>,\n",
       " <span class=\"text\">북모닝</span>,\n",
       " <span class=\"text\">스토리</span>,\n",
       " <span class=\"text\">회원혜택</span>,\n",
       " <span class=\"text\">고객센터</span>,\n",
       " <span class=\"text\">마이</span>,\n",
       " <span class=\"text\">라이브러리</span>,\n",
       " <span class=\"text\">매장안내</span>,\n",
       " <span class=\"text\">회사소개</span>,\n",
       " <span class=\"text\">협력사여러분</span>,\n",
       " <span class=\"text\">집계기준</span>,\n",
       " <span class=\"text\">전체</span>,\n",
       " <span class=\"text\">전체</span>,\n",
       " <span class=\"text\" data-value=\"01\">문학</span>,\n",
       " <span class=\"text\" data-value=\"03\">취미/실용/여행</span>,\n",
       " <span class=\"text\" data-value=\"05\">생활/요리/건강</span>,\n",
       " <span class=\"text\" data-value=\"07\">예술/건축</span>,\n",
       " <span class=\"text\" data-value=\"09\">인문/사회</span>,\n",
       " <span class=\"text\" data-value=\"11\">경제/경영</span>,\n",
       " <span class=\"text\" data-value=\"13\">과학/기술</span>,\n",
       " <span class=\"text\" data-value=\"14\">어린이ELT</span>,\n",
       " <span class=\"text\" data-value=\"15\">유아/아동/청소년</span>,\n",
       " <span class=\"text\" data-value=\"81\">ELT/수험서</span>,\n",
       " <span class=\"text\">전체</span>,\n",
       " <span class=\"text\" data-value=\"41\">잡지</span>,\n",
       " <span class=\"text\" data-value=\"43\">엔터테인먼트</span>,\n",
       " <span class=\"text\" data-value=\"45\">만화/애니</span>,\n",
       " <span class=\"text\" data-value=\"47\">문학</span>,\n",
       " <span class=\"text\" data-value=\"49\">라이트노벨</span>,\n",
       " <span class=\"text\" data-value=\"51\">문고</span>,\n",
       " <span class=\"text\" data-value=\"53\">신서</span>,\n",
       " <span class=\"text\" data-value=\"55\">아동</span>,\n",
       " <span class=\"text\" data-value=\"57\">실용서/예술</span>,\n",
       " <span class=\"text\" data-value=\"59\">인문/사회</span>,\n",
       " <span class=\"text\" data-value=\"61\">자연/기술과학</span>,\n",
       " <span class=\"text\" data-value=\"63\">어학/학습</span>,\n",
       " <span class=\"text\" data-value=\"67\">중국도서</span>,\n",
       " <span class=\"text\">전체</span>,\n",
       " <span class=\"text\" data-value=\"86\">프랑스도서</span>,\n",
       " <span class=\"text\" data-value=\"88\">독일도서</span>,\n",
       " <span class=\"text\" data-value=\"90\">스페인도서</span>,\n",
       " <span class=\"text\">전체</span>,\n",
       " <span class=\"text\" data-value=\"000006\">뷰티/헬스</span>,\n",
       " <span class=\"text\" data-value=\"000007\">필기구</span>,\n",
       " <span class=\"text\" data-value=\"000020\">디자인문구</span>,\n",
       " <span class=\"text\" data-value=\"000021\">오피스</span>,\n",
       " <span class=\"text\" data-value=\"000022\">디지털/자동차</span>,\n",
       " <span class=\"text\" data-value=\"000023\">여행/취미</span>,\n",
       " <span class=\"text\" data-value=\"000024\">가구/수납</span>,\n",
       " <span class=\"text\" data-value=\"000025\">리빙/생활가전</span>,\n",
       " <span class=\"text\" data-value=\"000026\">키친</span>,\n",
       " <span class=\"text\" data-value=\"000028\">패션잡화</span>,\n",
       " <span class=\"text\" data-value=\"000029\">유아동</span>,\n",
       " <span class=\"text\" data-value=\"000031\">푸드</span>,\n",
       " <span class=\"text\">전체</span>,\n",
       " <span class=\"text\" data-value=\"000300\">가요</span>,\n",
       " <span class=\"text\" data-value=\"000301\">POP</span>,\n",
       " <span class=\"text\" data-value=\"000302\">ROCK</span>,\n",
       " <span class=\"text\" data-value=\"000303\">JAZZ</span>,\n",
       " <span class=\"text\" data-value=\"000304\">J-POP</span>,\n",
       " <span class=\"text\" data-value=\"000305\">O.S.T/MUSICAL</span>,\n",
       " <span class=\"text\" data-value=\"000306\">NEW AGE</span>,\n",
       " <span class=\"text\" data-value=\"000307\">WORLD MUSIC</span>,\n",
       " <span class=\"text\" data-value=\"000308\">CLASSIC</span>,\n",
       " <span class=\"text\" data-value=\"000309\">국악</span>,\n",
       " <span class=\"text\" data-value=\"000310\">유아/아동</span>,\n",
       " <span class=\"text\" data-value=\"000311\">종교음악</span>,\n",
       " <span class=\"text\" data-value=\"000312\">GOODS</span>,\n",
       " <span class=\"text\" data-value=\"000400\">Blu-Ray</span>,\n",
       " <span class=\"text\" data-value=\"000401\">DVD</span>,\n",
       " <span class=\"text\">장바구니</span>,\n",
       " <span class=\"text\">Excel다운로드</span>,\n",
       " <span class=\"text\">필터</span>,\n",
       " <span class=\"text\">적용</span>,\n",
       " <span class=\"text\">새창보기</span>,\n",
       " <span class=\"text\">미리보기</span>,\n",
       " <span class=\"text\"> 999</span>,\n",
       " <span class=\"text\">오늘의 책</span>,\n",
       " <span class=\"text\">MD의 선택</span>,\n",
       " <span class=\"text\">사은품</span>,\n",
       " <span class=\"text\">소득공제</span>,\n",
       " <span class=\"text\">정가</span>,\n",
       " <span class=\"text\">배송일정</span>,\n",
       " <span class=\"text\">장바구니</span>,\n",
       " <span class=\"text\">바로구매</span>,\n",
       " <span class=\"text\">새창보기</span>,\n",
       " <span class=\"text\">미리보기</span>,\n",
       " <span class=\"text\"> 1000</span>,\n",
       " <span class=\"text\">사은품</span>,\n",
       " <span class=\"text\">소득공제</span>,\n",
       " <span class=\"text\">정가</span>,\n",
       " <span class=\"text\">배송일정</span>,\n",
       " <span class=\"text\">장바구니</span>,\n",
       " <span class=\"text\">바로구매</span>,\n",
       " <span class=\"text\">Family Site</span>,\n",
       " <span class=\"text\">전체</span>,\n",
       " <span class=\"text\">상품</span>,\n",
       " <span class=\"text\">기획전</span>,\n",
       " <span class=\"text\">이벤트</span>,\n",
       " <span class=\"text\">브랜드</span>,\n",
       " <span class=\"text\">전체삭제</span>]"
      ]
     },
     "execution_count": 5,
     "metadata": {},
     "output_type": "execute_result"
    }
   ],
   "source": [
    "span_rank_list=parsed_source.find_all(\"span\",class_='text')\n",
    "span_rank_list"
   ]
  },
  {
   "cell_type": "markdown",
   "id": "9fa1f592",
   "metadata": {},
   "source": [
    "## 결과"
   ]
  },
  {
   "attachments": {},
   "cell_type": "markdown",
   "id": "964d702b",
   "metadata": {},
   "source": [
    "- 제목, 저자는 정상적으로 가져오지만\n",
    "- 순위도 어떻게 출력하면 좋을지 고민해보기\n",
    "- span_rank_list에서 try문을 이용해 int형을 가져왔지만, 정상적으로 가져오지 못하는 것을 확인함."
   ]
  }
 ],
 "metadata": {
  "kernelspec": {
   "display_name": "Python 3 (ipykernel)",
   "language": "python",
   "name": "python3"
  },
  "language_info": {
   "codemirror_mode": {
    "name": "ipython",
    "version": 3
   },
   "file_extension": ".py",
   "mimetype": "text/x-python",
   "name": "python",
   "nbconvert_exporter": "python",
   "pygments_lexer": "ipython3",
   "version": "3.9.12"
  }
 },
 "nbformat": 4,
 "nbformat_minor": 5
}
