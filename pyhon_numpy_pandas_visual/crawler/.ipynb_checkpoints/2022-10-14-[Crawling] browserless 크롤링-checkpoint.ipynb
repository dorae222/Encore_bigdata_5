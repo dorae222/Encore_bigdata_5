{
 "cells": [
  {
   "cell_type": "markdown",
   "id": "a24f67be",
   "metadata": {},
   "source": [
    "# \"[Crawling] browserless 크롤링\"\n",
    "> \"requests\"\n",
    "\n",
    "- toc: true\n",
    "- branch: master\n",
    "- badges: true\n",
    "- comments: true\n",
    "- categories: [browserless,request, 크롤링]\n",
    "- author: 도형준"
   ]
  },
  {
   "cell_type": "markdown",
   "id": "7cf87e25",
   "metadata": {},
   "source": [
    "## requests"
   ]
  },
  {
   "cell_type": "markdown",
   "id": "3ea69ed1",
   "metadata": {},
   "source": [
    "- requests는 브라우저 없이 파이썬에서 다이렉트 서버에 http 요청을 넣습니다\n",
    "- 요청을 받은 페이지는 해당 페이지의 소스코드를 파이썬 내부로 전송해줍니다\n",
    "- 단, 버튼 클릭이나 광고 닫기 등의 작업은 애초에 브라우저가 없기 때문에 불가능하거\n",
    "- 오로지 특정 주소로 접속했을 때, 최초에 전송되는 페이지 코드만 가져올 수 있습니다.\n",
    "- 대신 물리 브라우저를 직접 켜지 않고, 명목상으로 요청만 하기 때문에\n",
    "- 속도나 리소스면에서 훨씬 우월합니다"
   ]
  },
  {
   "cell_type": "markdown",
   "id": "7a9a150a",
   "metadata": {},
   "source": [
    "- 1.내가 브라우저로 특정 서버 주소를 쳐서 접속시도를 합니다\n",
    "- 2.서버에 내가 접속한다는 요청이 들어갑니다\n",
    "- 3.서버가 요청에 응답 하면서 response 데이터를 함께 전송합니다\n",
    "- 4.브라우저가 받은 데이터를 해석해서 내 PC에 반영합니다\n",
    "    - 4-1.웹사이트 접속이었으면 소스코드를 받아와서 사람이 볼 수 있도록 자동으로 그려준다(렌더링)\n",
    "    - 4-2.게임이면 해당 명령어가 들어가서 게임 상황에 반영됩니다"
   ]
  },
  {
   "cell_type": "markdown",
   "id": "04fd06bf",
   "metadata": {},
   "source": [
    "### 필요한 라이브러리 import"
   ]
  },
  {
   "cell_type": "code",
   "execution_count": 1,
   "id": "665e7fa9",
   "metadata": {},
   "outputs": [],
   "source": [
    "import requests\n",
    "from bs4 import BeautifulSoup\n",
    "import time\n",
    "import codecs\n",
    "import pandas as pd"
   ]
  },
  {
   "cell_type": "code",
   "execution_count": 2,
   "id": "5403b1cd",
   "metadata": {},
   "outputs": [],
   "source": [
    "# 특정 주소에 대한 요청은 requests.get('주소')로 합니다.\n",
    "# 크롬이 아닌 파이썬을 이용함\n",
    "# 요청에 대한 서버의 응답(response)는 req 변수에 저장되었다.\n",
    "req = requests.get(\"https://www.naver.com\")"
   ]
  },
  {
   "cell_type": "code",
   "execution_count": 3,
   "id": "c245a3d3",
   "metadata": {},
   "outputs": [],
   "source": [
    "# html 소스코드 읽어오기(selenium의 .text와 문법은 같으나 기능이 다름에 주의)\n",
    "# req.text를 이용하면 driver.page_source와 동일한 코드를 받아옵니다\n",
    "source = req.text"
   ]
  },
  {
   "cell_type": "code",
   "execution_count": 4,
   "id": "a74c5847",
   "metadata": {},
   "outputs": [
    {
     "data": {
      "text/plain": [
       "200"
      ]
     },
     "execution_count": 4,
     "metadata": {},
     "output_type": "execute_result"
    }
   ],
   "source": [
    "# http 상태코드 가져오기\n",
    "req.status_code"
   ]
  },
  {
   "cell_type": "markdown",
   "id": "82fa9e0b",
   "metadata": {},
   "source": [
    "## 알라딘 베스트 셀러 7페이지 크롤링"
   ]
  },
  {
   "cell_type": "markdown",
   "id": "154d0f10",
   "metadata": {},
   "source": [
    "### 코드"
   ]
  },
  {
   "cell_type": "code",
   "execution_count": 5,
   "id": "83b41bf3",
   "metadata": {},
   "outputs": [],
   "source": [
    "# requests\n",
    "req = requests.get(\"https://www.aladin.co.kr/shop/common/wbest.aspx?BestType=Bestseller&BranchType=1&CID=0&page=7&cnt=1000&SortOrder=1\")\n",
    "source = req.text"
   ]
  },
  {
   "cell_type": "code",
   "execution_count": 6,
   "id": "60ce5171",
   "metadata": {},
   "outputs": [],
   "source": [
    "# Parsing\n",
    "parsed_source = BeautifulSoup(source, \"html.parser\")"
   ]
  },
  {
   "cell_type": "code",
   "execution_count": 7,
   "id": "20fa9883",
   "metadata": {},
   "outputs": [],
   "source": [
    "aladdin_author_list=[]\n",
    "aladdin_title_list=[]\n",
    "aladdin_price_list=[]\n",
    "\n",
    "span_title_list = parsed_source.find_all(\"a\",class_='bo3')\n",
    "\n",
    "for title in span_title_list:\n",
    "    i = title.text\n",
    "    aladdin_title_list.append(i)\n",
    "\n",
    "# 저자\n",
    "author_list = [] # 저자가 여러명이라 책 별로 분리하기 위해 새로운 빈 리스트 생성\n",
    "for num2 in range(len(parsed_source.find_all(\"div\",class_='ss_book_box'))):\n",
    "    span_author_list = parsed_source.find_all(\"div\",class_='ss_book_box')[num2].find_all(\"li\")[2].find_all(\"a\")[:-1]\n",
    "    for num3 in range(len(span_author_list)):\n",
    "        j = span_author_list[num3]\n",
    "        author = j.text\n",
    "        author_list.append(author)\n",
    "    aladdin_author_list.append(author_list)\n",
    "    author_list = []\n",
    "\n",
    "# 가격\n",
    "for num4 in range(len(parsed_source.find_all(\"div\",class_='ss_book_box'))):\n",
    "    try:\n",
    "        span_price_list =  parsed_source.find_all(\"div\",class_='ss_book_box')[num4].find_all(\"li\")[3].find(\"span\",class_='ss_p2')\n",
    "        k = span_price_list.text\n",
    "        aladdin_price_list.append(k)\n",
    "    except:\n",
    "        span_price_list =  parsed_source.find_all(\"div\",class_='ss_book_box')[num4].find_all(\"li\")[2].find(\"span\",class_='ss_p2')\n",
    "        k = span_price_list.text\n",
    "        aladdin_price_list.append(k)"
   ]
  },
  {
   "cell_type": "code",
   "execution_count": 8,
   "id": "00a71bbb",
   "metadata": {
    "scrolled": false
   },
   "outputs": [
    {
     "name": "stdout",
     "output_type": "stream",
     "text": [
      "50\n",
      "['세상 쉬운 영문법', '어떻게 말해줘야 할까 (60만 부 기념 한정판 리커버)', '브라질에 비가 내리면 스타벅스 주식을 사라', '재수사 2', '뇌, 욕망의 비밀을 풀다', '임신 출산 육아 대백과 (2022~2023년 개정판)', '부동산 경매로 1년 만에 꼬마빌딩주 되다', '사로잡는 얼굴들', '부부 이상, 연인 미만. 1~2 합본판', '그들의 말 혹은 침묵', '데뷔 못 하면 죽는 병 걸림 1부 초판 한정 굿즈박스 세트', '미움받을 용기 (반양장)', '체리새우 : 비밀글입니다', '정의란 무엇인가', '나는 당신이 행복했으면 좋겠습니다', '어디로 가세요 펀자이씨?', '부모의 말', '혼자 공부하는 컴퓨터 구조 + 운영체제', '우리가 빛의 속도로 갈 수 없다면', '당신이 옳다', '2023 선재국어 기출실록 (해설 통합형) 세트 - 전4권', '이게 다 호르몬 때문이야', '지리의 힘', '마지막 몰입', '송사무장의 부동산 경매의 기술', '사랑의 기술', '알고 있다는 착각', '신경 청소 혁명', '영어 감정 표현 사전', '슬로우 미러클 영어 그림책 느리게 100권 읽기의 힘', '토끼전 : 꾀주머니 배 속에 차고 계수나무에 간 달아 놓고', '리틀 라이프 1', '타자들의 생태학', '2023 문동균 한국사 한 권으로 모든 것을 정리하는 빈칸노트', '오늘도 고바야시 서점에 갑니다', '2023 전한길 한국사 3.0 기출문제집 - 전2권', '협력의 유전자', '거꾸로 읽는 세계사', '스파이 패밀리 2', '스파이 패밀리 8', '포켓몬스터 썬&문 포켓몬 전국대도감', '프레임', '법륜 스님의 행복', '나의 히어로 아카데미아 35', '카구야 님은 고백받고 싶어 24', '지극히 사적인 네팔', '2023 심우철 문법 풀이 전략서', '투자에도 순서가 있다', '전쟁과 약, 기나긴 악연의 역사', '사회사상의 역사'] \n",
      "\n",
      "50\n",
      "[['윤여홍'], ['오은영', '차상미'], ['피터 나바로', '이창식', '윤지호'], ['장강명'], ['한스-게오르크 호이젤', '강영옥', '김신종', '한윤진'], ['삼성출판사 편집부'], ['김상준'], ['이사 레슈코', '김민주'], ['카나마루 유키', '송재희'], ['아니 에르노', '정혜용'], ['백덕수'], ['기시미 이치로', '고가 후미타케', '전경아', '김정운'], ['황영미'], ['마이클 샌델', '김명철', '김선욱'], [], ['엄유진'], ['김종원'], ['강민철'], ['김초엽'], ['정혜신'], ['이선재'], ['마쓰무라 게이코', '이은혜'], ['팀 마샬', '김미선'], [], ['송희창'], [], ['질리언 테트', '문희경'], ['구도 치아키', '김은혜'], ['샘 노리스', '정병선'], ['고광윤'], [], [], [], ['문동균'], ['가와카미 데쓰야', '송지현'], ['전한길'], ['니컬라 라이하니', '김정아', '장이권'], [], [], [], [], ['최인철'], [], ['호리코시 코헤이'], ['아카사카 아카'], [], ['심우철'], ['홍춘욱'], ['백승만'], []] \n",
      "\n",
      "50\n",
      "['17,820원', '15,750원', '16,200원', '14,400원', '16,200원', '17,550원', '16,200원', '25,200원', '10,800원', '12,600원', '85,500원', '13,410원', '10,350원', '13,500원', '12,420원', '14,400원', '15,120원', '25,200원', '12,600원', '14,220원', '44,100원', '13,500원', '15,300원', '15,120원', '14,400원', '10,800원', '16,020원', '12,600원', '24,300원', '26,820원', '11,700원', '13,320원', '16,200원', '10,800원', '13,500원', '34,200원', '19,800원', '15,750원', '5,400원', '5,400원', '8,550원', '15,300원', '12,600원', '5,400원', '5,400원', '14,670원', '13,500원', '16,200원', '15,300원', '29,700원']\n"
     ]
    }
   ],
   "source": [
    "print(len(aladdin_title_list))\n",
    "print(aladdin_title_list,'\\n')\n",
    "print(len(aladdin_author_list))\n",
    "print(aladdin_author_list,'\\n')\n",
    "print(len(aladdin_price_list))\n",
    "print(aladdin_price_list)"
   ]
  },
  {
   "cell_type": "markdown",
   "id": "2733fa23",
   "metadata": {},
   "source": [
    "- 저자에서 빈 곳이 생기는 것으로 보아, except 케이스를 더 추가해야 될 것으로 판단 됨"
   ]
  },
  {
   "cell_type": "markdown",
   "id": "8fcee2e0",
   "metadata": {},
   "source": [
    "### txt 파일로 정리하기"
   ]
  },
  {
   "cell_type": "code",
   "execution_count": 9,
   "id": "03b55d16",
   "metadata": {},
   "outputs": [],
   "source": [
    "f = codecs.open(\"C:/Users/dhj98/playdata/crawler/알라딘순회_result.txt\", mode=\"w\")\n",
    "f.write(\"%s,%s,%s,%s\\n\"%('순위','제목','저자','가격'))\n",
    "for i in range(len(aladdin_price_list)):\n",
    "    f.write(\"%s 순위, %s,%s,%s\\n\" % ((i+1),\n",
    "                                                   aladdin_title_list[i].replace(',','/'),\n",
    "                                                   str(aladdin_author_list[i]).replace(',','/'),\n",
    "                                                   aladdin_price_list[i].replace(',', '')))\n",
    "f.close()"
   ]
  },
  {
   "cell_type": "markdown",
   "id": "8bb3ca5d",
   "metadata": {},
   "source": [
    "### txt to df"
   ]
  },
  {
   "cell_type": "code",
   "execution_count": 11,
   "id": "5d117ae6",
   "metadata": {},
   "outputs": [
    {
     "data": {
      "text/html": [
       "<div>\n",
       "<style scoped>\n",
       "    .dataframe tbody tr th:only-of-type {\n",
       "        vertical-align: middle;\n",
       "    }\n",
       "\n",
       "    .dataframe tbody tr th {\n",
       "        vertical-align: top;\n",
       "    }\n",
       "\n",
       "    .dataframe thead th {\n",
       "        text-align: right;\n",
       "    }\n",
       "</style>\n",
       "<table border=\"1\" class=\"dataframe\">\n",
       "  <thead>\n",
       "    <tr style=\"text-align: right;\">\n",
       "      <th></th>\n",
       "      <th>순위</th>\n",
       "      <th>제목</th>\n",
       "      <th>저자</th>\n",
       "      <th>가격</th>\n",
       "    </tr>\n",
       "  </thead>\n",
       "  <tbody>\n",
       "    <tr>\n",
       "      <th>0</th>\n",
       "      <td>1 순위</td>\n",
       "      <td>세상 쉬운 영문법</td>\n",
       "      <td>['윤여홍']</td>\n",
       "      <td>17820원</td>\n",
       "    </tr>\n",
       "    <tr>\n",
       "      <th>1</th>\n",
       "      <td>2 순위</td>\n",
       "      <td>어떻게 말해줘야 할까 (60만 부 기념 한정판 리커버)</td>\n",
       "      <td>['오은영'/ '차상미']</td>\n",
       "      <td>15750원</td>\n",
       "    </tr>\n",
       "    <tr>\n",
       "      <th>2</th>\n",
       "      <td>3 순위</td>\n",
       "      <td>브라질에 비가 내리면 스타벅스 주식을 사라</td>\n",
       "      <td>['피터 나바로'/ '이창식'/ '윤지호']</td>\n",
       "      <td>16200원</td>\n",
       "    </tr>\n",
       "    <tr>\n",
       "      <th>3</th>\n",
       "      <td>4 순위</td>\n",
       "      <td>재수사 2</td>\n",
       "      <td>['장강명']</td>\n",
       "      <td>14400원</td>\n",
       "    </tr>\n",
       "    <tr>\n",
       "      <th>4</th>\n",
       "      <td>5 순위</td>\n",
       "      <td>뇌/ 욕망의 비밀을 풀다</td>\n",
       "      <td>['한스-게오르크 호이젤'/ '강영옥'/ '김신종'/ '한윤진']</td>\n",
       "      <td>16200원</td>\n",
       "    </tr>\n",
       "  </tbody>\n",
       "</table>\n",
       "</div>"
      ],
      "text/plain": [
       "     순위                               제목  \\\n",
       "0  1 순위                        세상 쉬운 영문법   \n",
       "1  2 순위   어떻게 말해줘야 할까 (60만 부 기념 한정판 리커버)   \n",
       "2  3 순위          브라질에 비가 내리면 스타벅스 주식을 사라   \n",
       "3  4 순위                            재수사 2   \n",
       "4  5 순위                    뇌/ 욕망의 비밀을 풀다   \n",
       "\n",
       "                                     저자      가격  \n",
       "0                               ['윤여홍']  17820원  \n",
       "1                        ['오은영'/ '차상미']  15750원  \n",
       "2              ['피터 나바로'/ '이창식'/ '윤지호']  16200원  \n",
       "3                               ['장강명']  14400원  \n",
       "4  ['한스-게오르크 호이젤'/ '강영옥'/ '김신종'/ '한윤진']  16200원  "
      ]
     },
     "execution_count": 11,
     "metadata": {},
     "output_type": "execute_result"
    }
   ],
   "source": [
    "df = pd.read_csv(\"C:/Users/dhj98/playdata/crawler/알라딘_requests_result.txt\",encoding='cp949')\n",
    "df.head()"
   ]
  }
 ],
 "metadata": {
  "kernelspec": {
   "display_name": "Python 3 (ipykernel)",
   "language": "python",
   "name": "python3"
  },
  "language_info": {
   "codemirror_mode": {
    "name": "ipython",
    "version": 3
   },
   "file_extension": ".py",
   "mimetype": "text/x-python",
   "name": "python",
   "nbconvert_exporter": "python",
   "pygments_lexer": "ipython3",
   "version": "3.9.12"
  },
  "toc": {
   "base_numbering": 1,
   "nav_menu": {},
   "number_sections": true,
   "sideBar": true,
   "skip_h1_title": false,
   "title_cell": "Table of Contents",
   "title_sidebar": "Contents",
   "toc_cell": false,
   "toc_position": {
    "height": "calc(100% - 180px)",
    "left": "10px",
    "top": "150px",
    "width": "165px"
   },
   "toc_section_display": true,
   "toc_window_display": false
  }
 },
 "nbformat": 4,
 "nbformat_minor": 5
}
