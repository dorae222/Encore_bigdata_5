{
 "cells": [
  {
   "cell_type": "code",
   "execution_count": 1,
   "id": "fb8c3150",
   "metadata": {},
   "outputs": [],
   "source": [
    "# 크롤링 작업을 위한 라이브러리 import\n",
    "from bs4 import BeautifulSoup\n",
    "from selenium import webdriver\n",
    "import requests\n",
    "# 코드 진행 지연을 위한 time import\n",
    "import time\n",
    "# 2022년도 7월 이후 selenium 업데이트로 인한 xpath 추적시 import\n",
    "from selenium.webdriver.common.by import By\n",
    "from selenium.webdriver.chrome.service import Service\n",
    "\n",
    "import codecs"
   ]
  },
  {
   "cell_type": "code",
   "execution_count": 2,
   "id": "8c716047",
   "metadata": {},
   "outputs": [
    {
     "name": "stderr",
     "output_type": "stream",
     "text": [
      "C:\\Users\\dhj98\\AppData\\Local\\Temp\\ipykernel_25692\\2768264719.py:1: DeprecationWarning: executable_path has been deprecated, please pass in a Service object\n",
      "  driver = webdriver.Chrome(\"C:/Users/dhj98/chromedriver.exe\")\n"
     ]
    }
   ],
   "source": [
    "driver = webdriver.Chrome(\"C:/Users/dhj98/chromedriver.exe\")\n",
    "time.sleep(1)\n",
    "\n",
    "driver.get(\"https://product.kyobobook.co.kr/bestseller/online?period=001\")\n",
    "time.sleep(2)\n",
    "\n",
    "kyobo_author_list=[]\n",
    "kyobo_title_list=[]\n",
    "kyobo_price_list=[]\n",
    "kyobo_rank_list=[]\n",
    "\n",
    "for page in range(50): # 최대 50페이지\n",
    "    source = driver.page_source\n",
    "    parsed_source = BeautifulSoup(source, \"html.parser\")\n",
    "    \n",
    "    span_title_list=parsed_source.find_all(\"span\",class_='prod_name')\n",
    "    span_author_list=parsed_source.find_all(\"span\",class_='prod_author')\n",
    "    span_price_list=parsed_source.find_all(\"span\",class_='val')\n",
    "    span_rank_list=parsed_source.find_all(\"span\",class_='text') # 순위 정보가 text에 들어있음. 순위만 line.26에서 따로 추출\n",
    "    ##############################################################################################################\n",
    "    # 페이지별 저자, 제목, 가격 각 리스트에 추가하기\n",
    "    for i,j,k in zip(span_author_list,span_title_list,span_price_list):\n",
    "        kyobo_author_list.append(i.text.split('·')[0])\n",
    "        kyobo_title_list.append(j.text)\n",
    "        kyobo_price_list.append(k.text)\n",
    "    # 페이지별 순위 리스트에 추가\n",
    "    span_text = []\n",
    "    for k1 in range(len(span_rank_list)):\n",
    "        span_text.append(span_rank_list[k1].text.replace(' ',''))\n",
    "    for k2 in span_text:\n",
    "        try:\n",
    "            if type(int(k2)) == int:\n",
    "                kyobo_rank_list.append(k2)\n",
    "        except:\n",
    "            pass\n",
    "    ##############################################################################################################\n",
    "    # 책이 1000번째 순위인지 아닌지에 따라 다음 페이지 넘어가는 경우 결정\n",
    "    if kyobo_rank_list[-1] == '1000': # 책 순위가 1000번째일 경우, driver 종료\n",
    "        driver.close()\n",
    "        break\n",
    "    else: # 책 순위가 1000번째가 아닌 경우, 다음 페이지로\n",
    "        driver.find_element(By.XPATH,'//*[@id=\"tabRoot\"]/div[2]/div[1]/button[2]').click()\n",
    "        time.sleep(2)\n",
    "##############################################################################################################\n",
    "# txt 파일로 정리하기\n",
    "f = codecs.open(\"C:/Users/dhj98/playdata/crawler/교보순회_result.txt\", mode=\"w\")\n",
    "f.write(\"%s,%s,%s,%s\\n\"%('순위','제목','저자','가격'))\n",
    "for i in range(len(kyobo_price_list)):\n",
    "    f.write(\"%s,%s 순위, %s,%s,%s\\n\" % (          (i+1), # 인덱스\n",
    "                                                   kyobo_rank_list.replace(',', ''), # 순위\n",
    "                                                   kyobo_title_list[i].replace(',', ''), # 제목\n",
    "                                                   kyobo_author_list[i].replace(',', ''), # 저자\n",
    "                                                   kyobo_price_list[i].replace(',', ''))) # 가격\n",
    "f.close()\n",
    "##############################################################################################################\n",
    "# txt to csv\n",
    "import pandas as pd\n",
    "\n",
    "df = pd.read_csv(\"C:/Users/dhj98/playdata/crawler/교보순회_result.txt\",encoding='cp949')\n",
    "new_csv_file = df.to_csv(\"C:/Users/dhj98/playdata/crawler/교보순회_result.csv\")"
   ]
  },
  {
   "cell_type": "code",
   "execution_count": 23,
   "id": "d9f76ef0",
   "metadata": {},
   "outputs": [
    {
     "data": {
      "text/plain": [
       "['999', '1000']"
      ]
     },
     "execution_count": 23,
     "metadata": {},
     "output_type": "execute_result"
    }
   ],
   "source": [
    "# 순위\n",
    "span_text = []\n",
    "rank_list = []\n",
    "\n",
    "span_rank_list=parsed_source.find_all(\"span\",class_='text')\n",
    "\n",
    "for k1 in range(len(span_rank_list)):\n",
    "    span_text.append(span_rank_list[k1].text.replace(' ',''))\n",
    "for k2 in span_text:\n",
    "    try:\n",
    "        if type(int(k2)) == int:\n",
    "            rank_list.append(k2)\n",
    "    except:\n",
    "        pass\n",
    "rank_list"
   ]
  },
  {
   "cell_type": "code",
   "execution_count": 27,
   "id": "a44134c1",
   "metadata": {},
   "outputs": [
    {
     "data": {
      "text/plain": [
       "str"
      ]
     },
     "execution_count": 27,
     "metadata": {},
     "output_type": "execute_result"
    }
   ],
   "source": [
    "type(rank_list[-1])"
   ]
  }
 ],
 "metadata": {
  "kernelspec": {
   "display_name": "Python 3 (ipykernel)",
   "language": "python",
   "name": "python3"
  },
  "language_info": {
   "codemirror_mode": {
    "name": "ipython",
    "version": 3
   },
   "file_extension": ".py",
   "mimetype": "text/x-python",
   "name": "python",
   "nbconvert_exporter": "python",
   "pygments_lexer": "ipython3",
   "version": "3.9.12"
  }
 },
 "nbformat": 4,
 "nbformat_minor": 5
}
