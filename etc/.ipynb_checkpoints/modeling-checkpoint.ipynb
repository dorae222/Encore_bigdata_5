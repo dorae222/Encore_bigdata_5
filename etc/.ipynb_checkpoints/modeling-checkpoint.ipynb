{
 "cells": [
  {
   "cell_type": "markdown",
   "id": "3552b008",
   "metadata": {},
   "source": [
    "# KNN을 이용한 고객 등급 분류"
   ]
  },
  {
   "cell_type": "markdown",
   "id": "d3c465b1",
   "metadata": {},
   "source": [
    "- 고객들의 행동을 예측을 하는게 가장 이상적인 비즈니스 상황이다.\n",
    "- 사실 commerce_data.csv의 시계열을 이용하면, 고객의 잠재성을 예측할 것이라고 기대할 수 있다.\n",
    "- 하지만 예측을 하는 것은 현재 까다롭기도하고, 과제 기간을 고려했을 때는 진행하기 어렵다고 판단된다.\n",
    "- 그렇기에 현재의 고객이든 새로운 고객이든 어느 정도로 우리 비즈니스에 대하여 어느정도의 충성 고객인지 분류해보고자 한다."
   ]
  },
  {
   "cell_type": "code",
   "execution_count": 25,
   "id": "135ce2e1",
   "metadata": {},
   "outputs": [],
   "source": [
    "import pandas as pd\n",
    "import numpy as np"
   ]
  },
  {
   "cell_type": "code",
   "execution_count": 31,
   "id": "70ec5a23",
   "metadata": {},
   "outputs": [
    {
     "data": {
      "text/html": [
       "<div>\n",
       "<style scoped>\n",
       "    .dataframe tbody tr th:only-of-type {\n",
       "        vertical-align: middle;\n",
       "    }\n",
       "\n",
       "    .dataframe tbody tr th {\n",
       "        vertical-align: top;\n",
       "    }\n",
       "\n",
       "    .dataframe thead th {\n",
       "        text-align: right;\n",
       "    }\n",
       "</style>\n",
       "<table border=\"1\" class=\"dataframe\">\n",
       "  <thead>\n",
       "    <tr style=\"text-align: right;\">\n",
       "      <th></th>\n",
       "      <th>최근성_R</th>\n",
       "      <th>빈도_F</th>\n",
       "      <th>총금액_M</th>\n",
       "      <th>RFM_SCORE</th>\n",
       "    </tr>\n",
       "  </thead>\n",
       "  <tbody>\n",
       "    <tr>\n",
       "      <th>12346</th>\n",
       "      <td>0.128689</td>\n",
       "      <td>0.000125</td>\n",
       "      <td>0.015109</td>\n",
       "      <td>1</td>\n",
       "    </tr>\n",
       "    <tr>\n",
       "      <th>12347</th>\n",
       "      <td>0.994979</td>\n",
       "      <td>0.022676</td>\n",
       "      <td>0.030297</td>\n",
       "      <td>3</td>\n",
       "    </tr>\n",
       "    <tr>\n",
       "      <th>12348</th>\n",
       "      <td>0.799037</td>\n",
       "      <td>0.003758</td>\n",
       "      <td>0.021442</td>\n",
       "      <td>2</td>\n",
       "    </tr>\n",
       "    <tr>\n",
       "      <th>12349</th>\n",
       "      <td>0.951425</td>\n",
       "      <td>0.009020</td>\n",
       "      <td>0.021303</td>\n",
       "      <td>2</td>\n",
       "    </tr>\n",
       "    <tr>\n",
       "      <th>12350</th>\n",
       "      <td>0.169530</td>\n",
       "      <td>0.002005</td>\n",
       "      <td>0.016288</td>\n",
       "      <td>1</td>\n",
       "    </tr>\n",
       "  </tbody>\n",
       "</table>\n",
       "</div>"
      ],
      "text/plain": [
       "          최근성_R      빈도_F     총금액_M  RFM_SCORE\n",
       "12346  0.128689  0.000125  0.015109          1\n",
       "12347  0.994979  0.022676  0.030297          3\n",
       "12348  0.799037  0.003758  0.021442          2\n",
       "12349  0.951425  0.009020  0.021303          2\n",
       "12350  0.169530  0.002005  0.016288          1"
      ]
     },
     "execution_count": 31,
     "metadata": {},
     "output_type": "execute_result"
    }
   ],
   "source": [
    "df = pd.read_csv('RFM_SCORE.csv', index_col=0)\n",
    "df.head()"
   ]
  },
  {
   "cell_type": "code",
   "execution_count": 32,
   "id": "b5f01703",
   "metadata": {},
   "outputs": [],
   "source": [
    "from sklearn.model_selection import train_test_split\n",
    "X_train, X_test, y_train, y_test = train_test_split(\n",
    "    df.drop('RFM_SCORE', axis=1),\n",
    "    df.RFM_SCORE, test_size=0.2, random_state=100\n",
    ")"
   ]
  },
  {
   "cell_type": "markdown",
   "id": "1dce7aaf",
   "metadata": {},
   "source": [
    "# 하이퍼파라미터 조정"
   ]
  },
  {
   "cell_type": "code",
   "execution_count": 37,
   "id": "f6fca44c",
   "metadata": {},
   "outputs": [],
   "source": [
    "def tuning(n):\n",
    "    from sklearn.neighbors import KNeighborsClassifier\n",
    "    knn = KNeighborsClassifier(n_neighbors=n)\n",
    "    knn.fit(X_train, y_train)\n",
    "    pred = knn.predict(X_test)\n",
    "    \n",
    "    from sklearn.metrics import accuracy_score\n",
    "    score = accuracy_score(y_test, pred)\n",
    "    return score"
   ]
  },
  {
   "cell_type": "code",
   "execution_count": 41,
   "id": "bcee3e10",
   "metadata": {},
   "outputs": [
    {
     "data": {
      "text/plain": [
       "[(3, 0.9028571428571428),\n",
       " (1, 0.8982857142857142),\n",
       " (5, 0.8937142857142857),\n",
       " (7, 0.8925714285714286),\n",
       " (4, 0.8914285714285715),\n",
       " (2, 0.8902857142857142),\n",
       " (6, 0.8891428571428571),\n",
       " (8, 0.8822857142857143),\n",
       " (9, 0.8788571428571429),\n",
       " (11, 0.8697142857142857),\n",
       " (12, 0.8674285714285714),\n",
       " (10, 0.8662857142857143),\n",
       " (13, 0.8662857142857143),\n",
       " (14, 0.8605714285714285),\n",
       " (17, 0.8582857142857143),\n",
       " (16, 0.8571428571428571),\n",
       " (15, 0.8548571428571429),\n",
       " (19, 0.8491428571428571),\n",
       " (18, 0.8457142857142858),\n",
       " (20, 0.8457142857142858)]"
      ]
     },
     "execution_count": 41,
     "metadata": {},
     "output_type": "execute_result"
    }
   ],
   "source": [
    "scores = [(i, tuning(i)) for i in range(1, 21)]\n",
    "sorted(scores, key=lambda x: x[1], reverse=True)"
   ]
  },
  {
   "cell_type": "markdown",
   "id": "1ff9ff76",
   "metadata": {},
   "source": [
    "# 정확도 가장 좋은 neighbor이 3인 경우로 모델 생성"
   ]
  },
  {
   "cell_type": "code",
   "execution_count": 43,
   "id": "c35ec2e5",
   "metadata": {},
   "outputs": [
    {
     "data": {
      "text/plain": [
       "['loyal_customer_classifier.pkl']"
      ]
     },
     "execution_count": 43,
     "metadata": {},
     "output_type": "execute_result"
    }
   ],
   "source": [
    "model = KNeighborsClassifier(n_neighbors=3)\n",
    "model.fit(X_train, y_train)\n",
    "import joblib\n",
    "\n",
    "joblib.dump(model, 'loyal_customer_classifier.pkl') "
   ]
  },
  {
   "cell_type": "markdown",
   "id": "ed010adf",
   "metadata": {},
   "source": [
    "대체로 인접한 이웃 수를 높일 수록 성능이 떨어지는 것으로 보인다. 그렇기에 추가적으로 이웃 수를 늘려보지 않는다.<br>\n",
    "정확도가 약 90%로 가장 최적인 이웃 수가 3인 케이스로 모델을 형성했다."
   ]
  }
 ],
 "metadata": {
  "kernelspec": {
   "display_name": "Python 3 (ipykernel)",
   "language": "python",
   "name": "python3"
  },
  "language_info": {
   "codemirror_mode": {
    "name": "ipython",
    "version": 3
   },
   "file_extension": ".py",
   "mimetype": "text/x-python",
   "name": "python",
   "nbconvert_exporter": "python",
   "pygments_lexer": "ipython3",
   "version": "3.7.13"
  },
  "varInspector": {
   "cols": {
    "lenName": 16,
    "lenType": 16,
    "lenVar": 40
   },
   "kernels_config": {
    "python": {
     "delete_cmd_postfix": "",
     "delete_cmd_prefix": "del ",
     "library": "var_list.py",
     "varRefreshCmd": "print(var_dic_list())"
    },
    "r": {
     "delete_cmd_postfix": ") ",
     "delete_cmd_prefix": "rm(",
     "library": "var_list.r",
     "varRefreshCmd": "cat(var_dic_list()) "
    }
   },
   "types_to_exclude": [
    "module",
    "function",
    "builtin_function_or_method",
    "instance",
    "_Feature"
   ],
   "window_display": false
  }
 },
 "nbformat": 4,
 "nbformat_minor": 5
}
