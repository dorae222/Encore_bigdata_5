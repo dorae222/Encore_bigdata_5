{
 "cells": [
  {
   "cell_type": "markdown",
   "id": "26cbb65a",
   "metadata": {},
   "source": [
    "# 이 노트북은 모델링이 목적이 아닙니다!"
   ]
  },
  {
   "cell_type": "markdown",
   "id": "c68ce2ab",
   "metadata": {},
   "source": [
    "# 주제 선정 계기"
   ]
  },
  {
   "cell_type": "markdown",
   "id": "aece0171",
   "metadata": {},
   "source": [
    "> 평소 마케팅 분야에 많은 관심을 가지고 있습니다.<br>\n",
    "그래서 고객 데이터를 다뤄보고 싶어 Kaggle에서 ecommerce 데이터셋을 선정하였습니다.<br>\n",
    "고객의 충성도를 평가하기 위해, 마케팅 기법 중 하나인 RFM 모형을 통해 고객 등급을 매겼습니다.\n",
    "* * *"
   ]
  },
  {
   "cell_type": "markdown",
   "id": "03ce3000",
   "metadata": {},
   "source": [
    "# 주제: RFM모형을 이용한 충성고객 판단하기"
   ]
  },
  {
   "cell_type": "markdown",
   "id": "ae3b49bd",
   "metadata": {},
   "source": [
    "> RFM모형이란?\n",
    "- Recency : 얼마나 최근에 구매했는가\n",
    "    - InvoiceDate 컬럼 확인\n",
    "    - 최근성(R)\n",
    "- Frequency : 얼마나 자주 구매했는가\n",
    "    - CustomerID별 합\n",
    "    - 빈도(F)\n",
    "- Monetary : 얼마나 많은 금액을 지출했는가\n",
    "    - CustomerID별 Quantity * UnitPrice => 'PurchaseAmount'로 먼저 정의 예정\n",
    "    - 총금액(M)\n",
    "> R,F,M 점수를 산출하고, 이를 특정 기준에 따라 고객 점수를 산출하는 방식<br>\n",
    "> 이 파일은 차후 웹의 알고리즘으로 활용할 때 참고할 예정\n",
    "* * *"
   ]
  },
  {
   "cell_type": "markdown",
   "id": "ba6a238d",
   "metadata": {},
   "source": [
    "# EDA"
   ]
  },
  {
   "cell_type": "markdown",
   "id": "bf29128a",
   "metadata": {},
   "source": [
    "> 처음보는 고객 데이터로 어떻게 RFM 스코어를 도출 할 수 있을까 고민하고, RFM 스코어를 산출하는 것이 목적\n",
    "raw하게 제가 생각한 과정을 남기기 위해, 깔끔하게 코드를 정리하지 않았습니다."
   ]
  },
  {
   "cell_type": "markdown",
   "id": "8d7196f4",
   "metadata": {},
   "source": [
    "## 데이터 적재"
   ]
  },
  {
   "cell_type": "markdown",
   "id": "a27e86e9",
   "metadata": {},
   "source": [
    "> 자료출처: https://www.kaggle.com/datasets/carrie1/ecommerce-data?resource=download"
   ]
  },
  {
   "cell_type": "code",
   "execution_count": 1,
   "id": "a0d50d84",
   "metadata": {},
   "outputs": [],
   "source": [
    "# 필요한 라이브러리 import\n",
    "import pandas as pd\n",
    "import numpy as np\n",
    "import matplotlib.pyplot as plt\n",
    "import seaborn as sns"
   ]
  },
  {
   "cell_type": "markdown",
   "id": "521f81d6",
   "metadata": {},
   "source": [
    "- Column Info\n",
    "\n",
    ">1.InvoiceNo: Invoice number. Nominal, a 6-digit integral number uniquely assigned to each transaction. If this code starts with letter 'c', it indicates a cancellation.<br>\n",
    "2.StockCode: Product (item) code. Nominal, a 5-digit integral number uniquely assigned to each distinct product.<br>\n",
    "3.Description: Product (item) name. Nominal.<br>\n",
    "4.Quantity: The quantities of each product (item) per transaction. Numeric.<br>\n",
    "5.InvoiceDate: Invice Date and time. Numeric, the day and time when each transaction was generated.<br>\n",
    "6.UnitPrice: Unit price. Numeric, Product price per unit in sterling.<br>\n",
    "7.CustomerID: Customer number. Nominal, a 5-digit integral number uniquely assigned to each customer.<br>\n",
    "8.Country: Country name. Nominal, the name of the country where each customer resides."
   ]
  },
  {
   "cell_type": "code",
   "execution_count": 2,
   "id": "ab346bb5",
   "metadata": {
    "scrolled": false
   },
   "outputs": [
    {
     "data": {
      "text/html": [
       "<div>\n",
       "<style scoped>\n",
       "    .dataframe tbody tr th:only-of-type {\n",
       "        vertical-align: middle;\n",
       "    }\n",
       "\n",
       "    .dataframe tbody tr th {\n",
       "        vertical-align: top;\n",
       "    }\n",
       "\n",
       "    .dataframe thead th {\n",
       "        text-align: right;\n",
       "    }\n",
       "</style>\n",
       "<table border=\"1\" class=\"dataframe\">\n",
       "  <thead>\n",
       "    <tr style=\"text-align: right;\">\n",
       "      <th></th>\n",
       "      <th>InvoiceNo</th>\n",
       "      <th>StockCode</th>\n",
       "      <th>Description</th>\n",
       "      <th>Quantity</th>\n",
       "      <th>InvoiceDate</th>\n",
       "      <th>UnitPrice</th>\n",
       "      <th>CustomerID</th>\n",
       "      <th>Country</th>\n",
       "    </tr>\n",
       "  </thead>\n",
       "  <tbody>\n",
       "    <tr>\n",
       "      <th>0</th>\n",
       "      <td>536365</td>\n",
       "      <td>85123A</td>\n",
       "      <td>WHITE HANGING HEART T-LIGHT HOLDER</td>\n",
       "      <td>6</td>\n",
       "      <td>12/1/2010 8:26</td>\n",
       "      <td>2.55</td>\n",
       "      <td>17850.0</td>\n",
       "      <td>United Kingdom</td>\n",
       "    </tr>\n",
       "    <tr>\n",
       "      <th>1</th>\n",
       "      <td>536365</td>\n",
       "      <td>71053</td>\n",
       "      <td>WHITE METAL LANTERN</td>\n",
       "      <td>6</td>\n",
       "      <td>12/1/2010 8:26</td>\n",
       "      <td>3.39</td>\n",
       "      <td>17850.0</td>\n",
       "      <td>United Kingdom</td>\n",
       "    </tr>\n",
       "    <tr>\n",
       "      <th>2</th>\n",
       "      <td>536365</td>\n",
       "      <td>84406B</td>\n",
       "      <td>CREAM CUPID HEARTS COAT HANGER</td>\n",
       "      <td>8</td>\n",
       "      <td>12/1/2010 8:26</td>\n",
       "      <td>2.75</td>\n",
       "      <td>17850.0</td>\n",
       "      <td>United Kingdom</td>\n",
       "    </tr>\n",
       "    <tr>\n",
       "      <th>3</th>\n",
       "      <td>536365</td>\n",
       "      <td>84029G</td>\n",
       "      <td>KNITTED UNION FLAG HOT WATER BOTTLE</td>\n",
       "      <td>6</td>\n",
       "      <td>12/1/2010 8:26</td>\n",
       "      <td>3.39</td>\n",
       "      <td>17850.0</td>\n",
       "      <td>United Kingdom</td>\n",
       "    </tr>\n",
       "    <tr>\n",
       "      <th>4</th>\n",
       "      <td>536365</td>\n",
       "      <td>84029E</td>\n",
       "      <td>RED WOOLLY HOTTIE WHITE HEART.</td>\n",
       "      <td>6</td>\n",
       "      <td>12/1/2010 8:26</td>\n",
       "      <td>3.39</td>\n",
       "      <td>17850.0</td>\n",
       "      <td>United Kingdom</td>\n",
       "    </tr>\n",
       "  </tbody>\n",
       "</table>\n",
       "</div>"
      ],
      "text/plain": [
       "  InvoiceNo StockCode                          Description  Quantity  \\\n",
       "0    536365    85123A   WHITE HANGING HEART T-LIGHT HOLDER         6   \n",
       "1    536365     71053                  WHITE METAL LANTERN         6   \n",
       "2    536365    84406B       CREAM CUPID HEARTS COAT HANGER         8   \n",
       "3    536365    84029G  KNITTED UNION FLAG HOT WATER BOTTLE         6   \n",
       "4    536365    84029E       RED WOOLLY HOTTIE WHITE HEART.         6   \n",
       "\n",
       "      InvoiceDate  UnitPrice  CustomerID         Country  \n",
       "0  12/1/2010 8:26       2.55     17850.0  United Kingdom  \n",
       "1  12/1/2010 8:26       3.39     17850.0  United Kingdom  \n",
       "2  12/1/2010 8:26       2.75     17850.0  United Kingdom  \n",
       "3  12/1/2010 8:26       3.39     17850.0  United Kingdom  \n",
       "4  12/1/2010 8:26       3.39     17850.0  United Kingdom  "
      ]
     },
     "execution_count": 2,
     "metadata": {},
     "output_type": "execute_result"
    }
   ],
   "source": [
    "df = pd.read_csv(\"commerce_data.csv\")\n",
    "df.head()"
   ]
  },
  {
   "cell_type": "markdown",
   "id": "ba13e64e",
   "metadata": {},
   "source": [
    "* * *"
   ]
  },
  {
   "cell_type": "markdown",
   "id": "c9a9042c",
   "metadata": {},
   "source": [
    "## RFM 모형에 필요한 컬럼 형식으로 전처리 및 변형하기"
   ]
  },
  {
   "cell_type": "code",
   "execution_count": 3,
   "id": "3c51c3ea",
   "metadata": {},
   "outputs": [],
   "source": [
    "# 불필요한 Description, StockCode 컬럼 제거\n",
    "df.drop(columns = ['InvoiceNo','StockCode','Description'],inplace=True)"
   ]
  },
  {
   "cell_type": "code",
   "execution_count": 4,
   "id": "4e6e0afc",
   "metadata": {},
   "outputs": [],
   "source": [
    "# InvoiceDate 컬럼 datetime 타입으로 변경\n",
    "df['InvoiceDate'] = pd.to_datetime(df['InvoiceDate'])"
   ]
  },
  {
   "cell_type": "code",
   "execution_count": 5,
   "id": "dd6312e6",
   "metadata": {},
   "outputs": [
    {
     "data": {
      "text/html": [
       "<div>\n",
       "<style scoped>\n",
       "    .dataframe tbody tr th:only-of-type {\n",
       "        vertical-align: middle;\n",
       "    }\n",
       "\n",
       "    .dataframe tbody tr th {\n",
       "        vertical-align: top;\n",
       "    }\n",
       "\n",
       "    .dataframe thead th {\n",
       "        text-align: right;\n",
       "    }\n",
       "</style>\n",
       "<table border=\"1\" class=\"dataframe\">\n",
       "  <thead>\n",
       "    <tr style=\"text-align: right;\">\n",
       "      <th></th>\n",
       "      <th>InvoiceDate</th>\n",
       "      <th>CustomerID</th>\n",
       "      <th>Country</th>\n",
       "      <th>PurchaseAmount</th>\n",
       "    </tr>\n",
       "  </thead>\n",
       "  <tbody>\n",
       "    <tr>\n",
       "      <th>0</th>\n",
       "      <td>2010-12-01 08:26:00</td>\n",
       "      <td>17850.0</td>\n",
       "      <td>United Kingdom</td>\n",
       "      <td>15.30</td>\n",
       "    </tr>\n",
       "    <tr>\n",
       "      <th>1</th>\n",
       "      <td>2010-12-01 08:26:00</td>\n",
       "      <td>17850.0</td>\n",
       "      <td>United Kingdom</td>\n",
       "      <td>20.34</td>\n",
       "    </tr>\n",
       "    <tr>\n",
       "      <th>2</th>\n",
       "      <td>2010-12-01 08:26:00</td>\n",
       "      <td>17850.0</td>\n",
       "      <td>United Kingdom</td>\n",
       "      <td>22.00</td>\n",
       "    </tr>\n",
       "    <tr>\n",
       "      <th>3</th>\n",
       "      <td>2010-12-01 08:26:00</td>\n",
       "      <td>17850.0</td>\n",
       "      <td>United Kingdom</td>\n",
       "      <td>20.34</td>\n",
       "    </tr>\n",
       "    <tr>\n",
       "      <th>4</th>\n",
       "      <td>2010-12-01 08:26:00</td>\n",
       "      <td>17850.0</td>\n",
       "      <td>United Kingdom</td>\n",
       "      <td>20.34</td>\n",
       "    </tr>\n",
       "  </tbody>\n",
       "</table>\n",
       "</div>"
      ],
      "text/plain": [
       "          InvoiceDate  CustomerID         Country  PurchaseAmount\n",
       "0 2010-12-01 08:26:00     17850.0  United Kingdom           15.30\n",
       "1 2010-12-01 08:26:00     17850.0  United Kingdom           20.34\n",
       "2 2010-12-01 08:26:00     17850.0  United Kingdom           22.00\n",
       "3 2010-12-01 08:26:00     17850.0  United Kingdom           20.34\n",
       "4 2010-12-01 08:26:00     17850.0  United Kingdom           20.34"
      ]
     },
     "execution_count": 5,
     "metadata": {},
     "output_type": "execute_result"
    }
   ],
   "source": [
    "# PurchaseAmount 컬럼 생성(Quantity * UnitPrice)\n",
    "df['PurchaseAmount'] =  df['Quantity'] * df['UnitPrice']\n",
    "df.drop(columns = ['Quantity','UnitPrice'],inplace=True)\n",
    "df.head()"
   ]
  },
  {
   "cell_type": "code",
   "execution_count": 6,
   "id": "9974f95c",
   "metadata": {},
   "outputs": [
    {
     "data": {
      "text/plain": [
       "541909"
      ]
     },
     "execution_count": 6,
     "metadata": {},
     "output_type": "execute_result"
    }
   ],
   "source": [
    "# 구매 금액이 음수인 경우는 어떤 케이스일까?\n",
    "# 환불일 것이라고 예상\n",
    "len(df['PurchaseAmount'] < 0)"
   ]
  },
  {
   "cell_type": "code",
   "execution_count": 7,
   "id": "f4526543",
   "metadata": {},
   "outputs": [
    {
     "name": "stdout",
     "output_type": "stream",
     "text": [
      "<class 'pandas.core.frame.DataFrame'>\n",
      "RangeIndex: 541909 entries, 0 to 541908\n",
      "Data columns (total 4 columns):\n",
      " #   Column          Non-Null Count   Dtype         \n",
      "---  ------          --------------   -----         \n",
      " 0   InvoiceDate     541909 non-null  datetime64[ns]\n",
      " 1   CustomerID      406829 non-null  float64       \n",
      " 2   Country         541909 non-null  object        \n",
      " 3   PurchaseAmount  541909 non-null  float64       \n",
      "dtypes: datetime64[ns](1), float64(2), object(1)\n",
      "memory usage: 16.5+ MB\n"
     ]
    }
   ],
   "source": [
    "df.info()"
   ]
  },
  {
   "cell_type": "code",
   "execution_count": 8,
   "id": "bca54430",
   "metadata": {},
   "outputs": [
    {
     "data": {
      "text/html": [
       "<div>\n",
       "<style scoped>\n",
       "    .dataframe tbody tr th:only-of-type {\n",
       "        vertical-align: middle;\n",
       "    }\n",
       "\n",
       "    .dataframe tbody tr th {\n",
       "        vertical-align: top;\n",
       "    }\n",
       "\n",
       "    .dataframe thead th {\n",
       "        text-align: right;\n",
       "    }\n",
       "</style>\n",
       "<table border=\"1\" class=\"dataframe\">\n",
       "  <thead>\n",
       "    <tr style=\"text-align: right;\">\n",
       "      <th></th>\n",
       "      <th>CustomerID</th>\n",
       "      <th>PurchaseAmount</th>\n",
       "    </tr>\n",
       "  </thead>\n",
       "  <tbody>\n",
       "    <tr>\n",
       "      <th>count</th>\n",
       "      <td>406829.000000</td>\n",
       "      <td>541909.000000</td>\n",
       "    </tr>\n",
       "    <tr>\n",
       "      <th>mean</th>\n",
       "      <td>15287.690570</td>\n",
       "      <td>17.987795</td>\n",
       "    </tr>\n",
       "    <tr>\n",
       "      <th>std</th>\n",
       "      <td>1713.600303</td>\n",
       "      <td>378.810824</td>\n",
       "    </tr>\n",
       "    <tr>\n",
       "      <th>min</th>\n",
       "      <td>12346.000000</td>\n",
       "      <td>-168469.600000</td>\n",
       "    </tr>\n",
       "    <tr>\n",
       "      <th>25%</th>\n",
       "      <td>13953.000000</td>\n",
       "      <td>3.400000</td>\n",
       "    </tr>\n",
       "    <tr>\n",
       "      <th>50%</th>\n",
       "      <td>15152.000000</td>\n",
       "      <td>9.750000</td>\n",
       "    </tr>\n",
       "    <tr>\n",
       "      <th>75%</th>\n",
       "      <td>16791.000000</td>\n",
       "      <td>17.400000</td>\n",
       "    </tr>\n",
       "    <tr>\n",
       "      <th>max</th>\n",
       "      <td>18287.000000</td>\n",
       "      <td>168469.600000</td>\n",
       "    </tr>\n",
       "  </tbody>\n",
       "</table>\n",
       "</div>"
      ],
      "text/plain": [
       "          CustomerID  PurchaseAmount\n",
       "count  406829.000000   541909.000000\n",
       "mean    15287.690570       17.987795\n",
       "std      1713.600303      378.810824\n",
       "min     12346.000000  -168469.600000\n",
       "25%     13953.000000        3.400000\n",
       "50%     15152.000000        9.750000\n",
       "75%     16791.000000       17.400000\n",
       "max     18287.000000   168469.600000"
      ]
     },
     "execution_count": 8,
     "metadata": {},
     "output_type": "execute_result"
    }
   ],
   "source": [
    "# CustomerID를 str로 바꾸면 결측치 확인이 안됨.\n",
    "# 그래서 결측치 제거 후, 타입 변경 예정.\n",
    "df.describe()"
   ]
  },
  {
   "cell_type": "code",
   "execution_count": 9,
   "id": "e8c4a5d0",
   "metadata": {},
   "outputs": [
    {
     "data": {
      "text/plain": [
       "InvoiceDate            0\n",
       "CustomerID        135080\n",
       "Country                0\n",
       "PurchaseAmount         0\n",
       "dtype: int64"
      ]
     },
     "execution_count": 9,
     "metadata": {},
     "output_type": "execute_result"
    }
   ],
   "source": [
    "df.isnull().sum()"
   ]
  },
  {
   "cell_type": "markdown",
   "id": "cb4cd26b",
   "metadata": {},
   "source": [
    "* * *"
   ]
  },
  {
   "cell_type": "markdown",
   "id": "6a3128d5",
   "metadata": {},
   "source": [
    "## 결측치 제거"
   ]
  },
  {
   "cell_type": "markdown",
   "id": "7246c848",
   "metadata": {},
   "source": [
    "- RFM 모형은 고객에 대한 PK가 반드시 필요하다.\n",
    "- 이에 따라 PK가 없는 row는 모두 버린다."
   ]
  },
  {
   "cell_type": "code",
   "execution_count": 10,
   "id": "7429b0e6",
   "metadata": {},
   "outputs": [
    {
     "data": {
      "text/plain": [
       "InvoiceDate       0\n",
       "CustomerID        0\n",
       "Country           0\n",
       "PurchaseAmount    0\n",
       "dtype: int64"
      ]
     },
     "execution_count": 10,
     "metadata": {},
     "output_type": "execute_result"
    }
   ],
   "source": [
    "df = df.dropna(subset=['CustomerID'], how='any', axis=0)\n",
    "df.isnull().sum()"
   ]
  },
  {
   "cell_type": "code",
   "execution_count": 11,
   "id": "c71c7e0e",
   "metadata": {},
   "outputs": [
    {
     "name": "stdout",
     "output_type": "stream",
     "text": [
      "<class 'pandas.core.frame.DataFrame'>\n",
      "Int64Index: 406829 entries, 0 to 541908\n",
      "Data columns (total 4 columns):\n",
      " #   Column          Non-Null Count   Dtype         \n",
      "---  ------          --------------   -----         \n",
      " 0   InvoiceDate     406829 non-null  datetime64[ns]\n",
      " 1   CustomerID      406829 non-null  object        \n",
      " 2   Country         406829 non-null  object        \n",
      " 3   PurchaseAmount  406829 non-null  float64       \n",
      "dtypes: datetime64[ns](1), float64(1), object(2)\n",
      "memory usage: 15.5+ MB\n"
     ]
    }
   ],
   "source": [
    "# CustomerID는 str형으로 변환\n",
    "df['CustomerID']=df['CustomerID'].astype('int').astype('str')\n",
    "df.info()"
   ]
  },
  {
   "cell_type": "code",
   "execution_count": 12,
   "id": "f9344ea2",
   "metadata": {},
   "outputs": [
    {
     "data": {
      "text/html": [
       "<div>\n",
       "<style scoped>\n",
       "    .dataframe tbody tr th:only-of-type {\n",
       "        vertical-align: middle;\n",
       "    }\n",
       "\n",
       "    .dataframe tbody tr th {\n",
       "        vertical-align: top;\n",
       "    }\n",
       "\n",
       "    .dataframe thead th {\n",
       "        text-align: right;\n",
       "    }\n",
       "</style>\n",
       "<table border=\"1\" class=\"dataframe\">\n",
       "  <thead>\n",
       "    <tr style=\"text-align: right;\">\n",
       "      <th></th>\n",
       "      <th>InvoiceDate</th>\n",
       "      <th>CustomerID</th>\n",
       "      <th>Country</th>\n",
       "      <th>PurchaseAmount</th>\n",
       "    </tr>\n",
       "  </thead>\n",
       "  <tbody>\n",
       "    <tr>\n",
       "      <th>541904</th>\n",
       "      <td>2011-12-09 12:50:00</td>\n",
       "      <td>12680</td>\n",
       "      <td>France</td>\n",
       "      <td>10.20</td>\n",
       "    </tr>\n",
       "    <tr>\n",
       "      <th>541905</th>\n",
       "      <td>2011-12-09 12:50:00</td>\n",
       "      <td>12680</td>\n",
       "      <td>France</td>\n",
       "      <td>12.60</td>\n",
       "    </tr>\n",
       "    <tr>\n",
       "      <th>541906</th>\n",
       "      <td>2011-12-09 12:50:00</td>\n",
       "      <td>12680</td>\n",
       "      <td>France</td>\n",
       "      <td>16.60</td>\n",
       "    </tr>\n",
       "    <tr>\n",
       "      <th>541907</th>\n",
       "      <td>2011-12-09 12:50:00</td>\n",
       "      <td>12680</td>\n",
       "      <td>France</td>\n",
       "      <td>16.60</td>\n",
       "    </tr>\n",
       "    <tr>\n",
       "      <th>541908</th>\n",
       "      <td>2011-12-09 12:50:00</td>\n",
       "      <td>12680</td>\n",
       "      <td>France</td>\n",
       "      <td>14.85</td>\n",
       "    </tr>\n",
       "  </tbody>\n",
       "</table>\n",
       "</div>"
      ],
      "text/plain": [
       "               InvoiceDate CustomerID Country  PurchaseAmount\n",
       "541904 2011-12-09 12:50:00      12680  France           10.20\n",
       "541905 2011-12-09 12:50:00      12680  France           12.60\n",
       "541906 2011-12-09 12:50:00      12680  France           16.60\n",
       "541907 2011-12-09 12:50:00      12680  France           16.60\n",
       "541908 2011-12-09 12:50:00      12680  France           14.85"
      ]
     },
     "execution_count": 12,
     "metadata": {},
     "output_type": "execute_result"
    }
   ],
   "source": [
    "df.tail()"
   ]
  },
  {
   "cell_type": "markdown",
   "id": "546ed330",
   "metadata": {},
   "source": [
    "* * *"
   ]
  },
  {
   "cell_type": "markdown",
   "id": "e5729c5a",
   "metadata": {},
   "source": [
    "# 고객별 R,F,M값 산출을 위해 점수화하기"
   ]
  },
  {
   "cell_type": "code",
   "execution_count": 13,
   "id": "7e84ba7b",
   "metadata": {},
   "outputs": [
    {
     "name": "stdout",
     "output_type": "stream",
     "text": [
      "InvoiceDate unique ['2010-12-01T08:26:00.000000000' '2010-12-01T08:28:00.000000000'\n",
      " '2010-12-01T08:34:00.000000000' ... '2011-12-09T12:31:00.000000000'\n",
      " '2011-12-09T12:49:00.000000000' '2011-12-09T12:50:00.000000000'] \n",
      "\n",
      "총 개수:  20460\n"
     ]
    }
   ],
   "source": [
    "# InvoiceDate => 약 1년치의 데이터 확인\n",
    "print('InvoiceDate unique',df['InvoiceDate'].unique(),'\\n')\n",
    "print('총 개수: ',len(df['InvoiceDate'].unique()))"
   ]
  },
  {
   "cell_type": "code",
   "execution_count": 14,
   "id": "d08f3663",
   "metadata": {},
   "outputs": [
    {
     "name": "stdout",
     "output_type": "stream",
     "text": [
      "CustomerID unique ['17850' '13047' '12583' ... '13298' '14569' '12713'] \n",
      "\n",
      "총 개수:  4372\n"
     ]
    }
   ],
   "source": [
    "# 제일 중요한 Customer 수 파악하기 => 총 4372명의 고객 정보가 존재\n",
    "print('CustomerID unique',df['CustomerID'].unique(),'\\n')\n",
    "print('총 개수: ',len(df['CustomerID'].unique()))"
   ]
  },
  {
   "cell_type": "markdown",
   "id": "27dbf40a",
   "metadata": {},
   "source": [
    "### Monetary"
   ]
  },
  {
   "cell_type": "code",
   "execution_count": 15,
   "id": "8eb57b93",
   "metadata": {},
   "outputs": [
    {
     "data": {
      "text/html": [
       "<div>\n",
       "<style scoped>\n",
       "    .dataframe tbody tr th:only-of-type {\n",
       "        vertical-align: middle;\n",
       "    }\n",
       "\n",
       "    .dataframe tbody tr th {\n",
       "        vertical-align: top;\n",
       "    }\n",
       "\n",
       "    .dataframe thead th {\n",
       "        text-align: right;\n",
       "    }\n",
       "</style>\n",
       "<table border=\"1\" class=\"dataframe\">\n",
       "  <thead>\n",
       "    <tr style=\"text-align: right;\">\n",
       "      <th></th>\n",
       "      <th>PurchaseAmount</th>\n",
       "    </tr>\n",
       "    <tr>\n",
       "      <th>CustomerID</th>\n",
       "      <th></th>\n",
       "    </tr>\n",
       "  </thead>\n",
       "  <tbody>\n",
       "    <tr>\n",
       "      <th>12346</th>\n",
       "      <td>0.00</td>\n",
       "    </tr>\n",
       "    <tr>\n",
       "      <th>12347</th>\n",
       "      <td>4310.00</td>\n",
       "    </tr>\n",
       "    <tr>\n",
       "      <th>12348</th>\n",
       "      <td>1797.24</td>\n",
       "    </tr>\n",
       "    <tr>\n",
       "      <th>12349</th>\n",
       "      <td>1757.55</td>\n",
       "    </tr>\n",
       "    <tr>\n",
       "      <th>12350</th>\n",
       "      <td>334.40</td>\n",
       "    </tr>\n",
       "    <tr>\n",
       "      <th>...</th>\n",
       "      <td>...</td>\n",
       "    </tr>\n",
       "    <tr>\n",
       "      <th>18280</th>\n",
       "      <td>180.60</td>\n",
       "    </tr>\n",
       "    <tr>\n",
       "      <th>18281</th>\n",
       "      <td>80.82</td>\n",
       "    </tr>\n",
       "    <tr>\n",
       "      <th>18282</th>\n",
       "      <td>176.60</td>\n",
       "    </tr>\n",
       "    <tr>\n",
       "      <th>18283</th>\n",
       "      <td>2094.88</td>\n",
       "    </tr>\n",
       "    <tr>\n",
       "      <th>18287</th>\n",
       "      <td>1837.28</td>\n",
       "    </tr>\n",
       "  </tbody>\n",
       "</table>\n",
       "<p>4372 rows × 1 columns</p>\n",
       "</div>"
      ],
      "text/plain": [
       "            PurchaseAmount\n",
       "CustomerID                \n",
       "12346                 0.00\n",
       "12347              4310.00\n",
       "12348              1797.24\n",
       "12349              1757.55\n",
       "12350               334.40\n",
       "...                    ...\n",
       "18280               180.60\n",
       "18281                80.82\n",
       "18282               176.60\n",
       "18283              2094.88\n",
       "18287              1837.28\n",
       "\n",
       "[4372 rows x 1 columns]"
      ]
     },
     "execution_count": 15,
     "metadata": {},
     "output_type": "execute_result"
    }
   ],
   "source": [
    "# 고객별 총 구매금액 확인 => Monetary\n",
    "df.groupby('CustomerID')[['PurchaseAmount']].sum()"
   ]
  },
  {
   "cell_type": "markdown",
   "id": "08a74a8a",
   "metadata": {},
   "source": [
    "### Frequency"
   ]
  },
  {
   "cell_type": "code",
   "execution_count": 16,
   "id": "5def73ad",
   "metadata": {},
   "outputs": [
    {
     "data": {
      "text/html": [
       "<div>\n",
       "<style scoped>\n",
       "    .dataframe tbody tr th:only-of-type {\n",
       "        vertical-align: middle;\n",
       "    }\n",
       "\n",
       "    .dataframe tbody tr th {\n",
       "        vertical-align: top;\n",
       "    }\n",
       "\n",
       "    .dataframe thead th {\n",
       "        text-align: right;\n",
       "    }\n",
       "</style>\n",
       "<table border=\"1\" class=\"dataframe\">\n",
       "  <thead>\n",
       "    <tr style=\"text-align: right;\">\n",
       "      <th></th>\n",
       "      <th>PurchaseAmount</th>\n",
       "    </tr>\n",
       "    <tr>\n",
       "      <th>CustomerID</th>\n",
       "      <th></th>\n",
       "    </tr>\n",
       "  </thead>\n",
       "  <tbody>\n",
       "    <tr>\n",
       "      <th>12346</th>\n",
       "      <td>2</td>\n",
       "    </tr>\n",
       "    <tr>\n",
       "      <th>12347</th>\n",
       "      <td>182</td>\n",
       "    </tr>\n",
       "    <tr>\n",
       "      <th>12348</th>\n",
       "      <td>31</td>\n",
       "    </tr>\n",
       "    <tr>\n",
       "      <th>12349</th>\n",
       "      <td>73</td>\n",
       "    </tr>\n",
       "    <tr>\n",
       "      <th>12350</th>\n",
       "      <td>17</td>\n",
       "    </tr>\n",
       "    <tr>\n",
       "      <th>...</th>\n",
       "      <td>...</td>\n",
       "    </tr>\n",
       "    <tr>\n",
       "      <th>18280</th>\n",
       "      <td>10</td>\n",
       "    </tr>\n",
       "    <tr>\n",
       "      <th>18281</th>\n",
       "      <td>7</td>\n",
       "    </tr>\n",
       "    <tr>\n",
       "      <th>18282</th>\n",
       "      <td>13</td>\n",
       "    </tr>\n",
       "    <tr>\n",
       "      <th>18283</th>\n",
       "      <td>756</td>\n",
       "    </tr>\n",
       "    <tr>\n",
       "      <th>18287</th>\n",
       "      <td>70</td>\n",
       "    </tr>\n",
       "  </tbody>\n",
       "</table>\n",
       "<p>4372 rows × 1 columns</p>\n",
       "</div>"
      ],
      "text/plain": [
       "            PurchaseAmount\n",
       "CustomerID                \n",
       "12346                    2\n",
       "12347                  182\n",
       "12348                   31\n",
       "12349                   73\n",
       "12350                   17\n",
       "...                    ...\n",
       "18280                   10\n",
       "18281                    7\n",
       "18282                   13\n",
       "18283                  756\n",
       "18287                   70\n",
       "\n",
       "[4372 rows x 1 columns]"
      ]
     },
     "execution_count": 16,
     "metadata": {},
     "output_type": "execute_result"
    }
   ],
   "source": [
    "# 고객별 구매 횟수 산출 => Frequency\n",
    "df.groupby('CustomerID')[['PurchaseAmount']].count()"
   ]
  },
  {
   "cell_type": "markdown",
   "id": "9f1ff31d",
   "metadata": {},
   "source": [
    "### Recency"
   ]
  },
  {
   "cell_type": "code",
   "execution_count": 17,
   "id": "86579044",
   "metadata": {},
   "outputs": [
    {
     "data": {
      "text/html": [
       "<div>\n",
       "<style scoped>\n",
       "    .dataframe tbody tr th:only-of-type {\n",
       "        vertical-align: middle;\n",
       "    }\n",
       "\n",
       "    .dataframe tbody tr th {\n",
       "        vertical-align: top;\n",
       "    }\n",
       "\n",
       "    .dataframe thead th {\n",
       "        text-align: right;\n",
       "    }\n",
       "</style>\n",
       "<table border=\"1\" class=\"dataframe\">\n",
       "  <thead>\n",
       "    <tr style=\"text-align: right;\">\n",
       "      <th></th>\n",
       "      <th>InvoiceDate</th>\n",
       "    </tr>\n",
       "    <tr>\n",
       "      <th>CustomerID</th>\n",
       "      <th></th>\n",
       "    </tr>\n",
       "  </thead>\n",
       "  <tbody>\n",
       "    <tr>\n",
       "      <th>12346</th>\n",
       "      <td>2011-01-18 10:17:00</td>\n",
       "    </tr>\n",
       "    <tr>\n",
       "      <th>12347</th>\n",
       "      <td>2011-12-07 15:52:00</td>\n",
       "    </tr>\n",
       "    <tr>\n",
       "      <th>12348</th>\n",
       "      <td>2011-09-25 13:13:00</td>\n",
       "    </tr>\n",
       "    <tr>\n",
       "      <th>12349</th>\n",
       "      <td>2011-11-21 09:51:00</td>\n",
       "    </tr>\n",
       "    <tr>\n",
       "      <th>12350</th>\n",
       "      <td>2011-02-02 16:01:00</td>\n",
       "    </tr>\n",
       "    <tr>\n",
       "      <th>...</th>\n",
       "      <td>...</td>\n",
       "    </tr>\n",
       "    <tr>\n",
       "      <th>18280</th>\n",
       "      <td>2011-03-07 09:52:00</td>\n",
       "    </tr>\n",
       "    <tr>\n",
       "      <th>18281</th>\n",
       "      <td>2011-06-12 10:53:00</td>\n",
       "    </tr>\n",
       "    <tr>\n",
       "      <th>18282</th>\n",
       "      <td>2011-12-02 11:43:00</td>\n",
       "    </tr>\n",
       "    <tr>\n",
       "      <th>18283</th>\n",
       "      <td>2011-12-06 12:02:00</td>\n",
       "    </tr>\n",
       "    <tr>\n",
       "      <th>18287</th>\n",
       "      <td>2011-10-28 09:29:00</td>\n",
       "    </tr>\n",
       "  </tbody>\n",
       "</table>\n",
       "<p>4372 rows × 1 columns</p>\n",
       "</div>"
      ],
      "text/plain": [
       "                   InvoiceDate\n",
       "CustomerID                    \n",
       "12346      2011-01-18 10:17:00\n",
       "12347      2011-12-07 15:52:00\n",
       "12348      2011-09-25 13:13:00\n",
       "12349      2011-11-21 09:51:00\n",
       "12350      2011-02-02 16:01:00\n",
       "...                        ...\n",
       "18280      2011-03-07 09:52:00\n",
       "18281      2011-06-12 10:53:00\n",
       "18282      2011-12-02 11:43:00\n",
       "18283      2011-12-06 12:02:00\n",
       "18287      2011-10-28 09:29:00\n",
       "\n",
       "[4372 rows x 1 columns]"
      ]
     },
     "execution_count": 17,
     "metadata": {},
     "output_type": "execute_result"
    }
   ],
   "source": [
    "# 고객별 최근 구매일 산출 => Recency\n",
    "df.groupby('CustomerID')[['InvoiceDate']].max()"
   ]
  },
  {
   "cell_type": "markdown",
   "id": "4159aea0",
   "metadata": {},
   "source": [
    "* * *"
   ]
  },
  {
   "cell_type": "markdown",
   "id": "d40a9130",
   "metadata": {},
   "source": [
    "## R,F,M을 산출한 데이터 프레임(rfm_df) 생성"
   ]
  },
  {
   "cell_type": "markdown",
   "id": "9a5008c1",
   "metadata": {},
   "source": [
    "- 원래 컬럼명을 영어로만 짓는게 낫지만, 이해를 위해 컬럼명을 아래와 같이 생성"
   ]
  },
  {
   "cell_type": "code",
   "execution_count": 18,
   "id": "8e59637f",
   "metadata": {},
   "outputs": [
    {
     "data": {
      "text/html": [
       "<div>\n",
       "<style scoped>\n",
       "    .dataframe tbody tr th:only-of-type {\n",
       "        vertical-align: middle;\n",
       "    }\n",
       "\n",
       "    .dataframe tbody tr th {\n",
       "        vertical-align: top;\n",
       "    }\n",
       "\n",
       "    .dataframe thead th {\n",
       "        text-align: right;\n",
       "    }\n",
       "</style>\n",
       "<table border=\"1\" class=\"dataframe\">\n",
       "  <thead>\n",
       "    <tr style=\"text-align: right;\">\n",
       "      <th></th>\n",
       "      <th>최근성_R</th>\n",
       "      <th>빈도_F</th>\n",
       "      <th>총금액_M</th>\n",
       "    </tr>\n",
       "    <tr>\n",
       "      <th>CustomerID</th>\n",
       "      <th></th>\n",
       "      <th></th>\n",
       "      <th></th>\n",
       "    </tr>\n",
       "  </thead>\n",
       "  <tbody>\n",
       "    <tr>\n",
       "      <th>12346</th>\n",
       "      <td>2011-01-18 10:17:00</td>\n",
       "      <td>2</td>\n",
       "      <td>0.00</td>\n",
       "    </tr>\n",
       "    <tr>\n",
       "      <th>12347</th>\n",
       "      <td>2011-12-07 15:52:00</td>\n",
       "      <td>182</td>\n",
       "      <td>4310.00</td>\n",
       "    </tr>\n",
       "    <tr>\n",
       "      <th>12348</th>\n",
       "      <td>2011-09-25 13:13:00</td>\n",
       "      <td>31</td>\n",
       "      <td>1797.24</td>\n",
       "    </tr>\n",
       "    <tr>\n",
       "      <th>12349</th>\n",
       "      <td>2011-11-21 09:51:00</td>\n",
       "      <td>73</td>\n",
       "      <td>1757.55</td>\n",
       "    </tr>\n",
       "    <tr>\n",
       "      <th>12350</th>\n",
       "      <td>2011-02-02 16:01:00</td>\n",
       "      <td>17</td>\n",
       "      <td>334.40</td>\n",
       "    </tr>\n",
       "  </tbody>\n",
       "</table>\n",
       "</div>"
      ],
      "text/plain": [
       "                         최근성_R  빈도_F    총금액_M\n",
       "CustomerID                                   \n",
       "12346      2011-01-18 10:17:00     2     0.00\n",
       "12347      2011-12-07 15:52:00   182  4310.00\n",
       "12348      2011-09-25 13:13:00    31  1797.24\n",
       "12349      2011-11-21 09:51:00    73  1757.55\n",
       "12350      2011-02-02 16:01:00    17   334.40"
      ]
     },
     "execution_count": 18,
     "metadata": {},
     "output_type": "execute_result"
    }
   ],
   "source": [
    "rfm_df = pd.DataFrame()\n",
    "rfm_df['최근성_R'] = df.groupby('CustomerID')[['InvoiceDate']].max()\n",
    "rfm_df['빈도_F'] = df.groupby('CustomerID')[['PurchaseAmount']].count()\n",
    "rfm_df['총금액_M'] = df.groupby('CustomerID')[['PurchaseAmount']].sum()\n",
    "rfm_df.head()"
   ]
  },
  {
   "cell_type": "markdown",
   "id": "2e841eea",
   "metadata": {},
   "source": [
    "> 여기서 컬럼 R의 datime을 점수화를 하기 위해 datetime을 점수화 해야한다고 생각함"
   ]
  },
  {
   "cell_type": "code",
   "execution_count": 19,
   "id": "83d06d39",
   "metadata": {},
   "outputs": [
    {
     "data": {
      "text/plain": [
       "Timestamp('2011-12-09 12:50:00')"
      ]
     },
     "execution_count": 19,
     "metadata": {},
     "output_type": "execute_result"
    }
   ],
   "source": [
    "# 기준을 잡기 위해 모든 고객들 중 최근 구매일 산출\n",
    "rfm_df['최근성_R'].max()"
   ]
  },
  {
   "cell_type": "code",
   "execution_count": 20,
   "id": "ca78045d",
   "metadata": {},
   "outputs": [
    {
     "data": {
      "text/plain": [
       "Timestamp('2010-12-01 09:53:00')"
      ]
     },
     "execution_count": 20,
     "metadata": {},
     "output_type": "execute_result"
    }
   ],
   "source": [
    "# 고객별 최근 구매일 중 가장 작은 값, 즉 가장 오랫동안 사지 않은 구매일을 기준으로 값 수정\n",
    "rfm_df['최근성_R'].min()"
   ]
  },
  {
   "cell_type": "code",
   "execution_count": 21,
   "id": "31220054",
   "metadata": {},
   "outputs": [
    {
     "data": {
      "text/html": [
       "<div>\n",
       "<style scoped>\n",
       "    .dataframe tbody tr th:only-of-type {\n",
       "        vertical-align: middle;\n",
       "    }\n",
       "\n",
       "    .dataframe tbody tr th {\n",
       "        vertical-align: top;\n",
       "    }\n",
       "\n",
       "    .dataframe thead th {\n",
       "        text-align: right;\n",
       "    }\n",
       "</style>\n",
       "<table border=\"1\" class=\"dataframe\">\n",
       "  <thead>\n",
       "    <tr style=\"text-align: right;\">\n",
       "      <th></th>\n",
       "      <th>최근성_R</th>\n",
       "      <th>빈도_F</th>\n",
       "      <th>총금액_M</th>\n",
       "    </tr>\n",
       "    <tr>\n",
       "      <th>CustomerID</th>\n",
       "      <th></th>\n",
       "      <th></th>\n",
       "      <th></th>\n",
       "    </tr>\n",
       "  </thead>\n",
       "  <tbody>\n",
       "    <tr>\n",
       "      <th>12346</th>\n",
       "      <td>4184220.0</td>\n",
       "      <td>2</td>\n",
       "      <td>0.00</td>\n",
       "    </tr>\n",
       "    <tr>\n",
       "      <th>12347</th>\n",
       "      <td>32111520.0</td>\n",
       "      <td>182</td>\n",
       "      <td>4310.00</td>\n",
       "    </tr>\n",
       "    <tr>\n",
       "      <th>12348</th>\n",
       "      <td>25794780.0</td>\n",
       "      <td>31</td>\n",
       "      <td>1797.24</td>\n",
       "    </tr>\n",
       "    <tr>\n",
       "      <th>12349</th>\n",
       "      <td>30707460.0</td>\n",
       "      <td>73</td>\n",
       "      <td>1757.55</td>\n",
       "    </tr>\n",
       "    <tr>\n",
       "      <th>12350</th>\n",
       "      <td>5500860.0</td>\n",
       "      <td>17</td>\n",
       "      <td>334.40</td>\n",
       "    </tr>\n",
       "  </tbody>\n",
       "</table>\n",
       "</div>"
      ],
      "text/plain": [
       "                 최근성_R  빈도_F    총금액_M\n",
       "CustomerID                           \n",
       "12346        4184220.0     2     0.00\n",
       "12347       32111520.0   182  4310.00\n",
       "12348       25794780.0    31  1797.24\n",
       "12349       30707460.0    73  1757.55\n",
       "12350        5500860.0    17   334.40"
      ]
     },
     "execution_count": 21,
     "metadata": {},
     "output_type": "execute_result"
    }
   ],
   "source": [
    "current_day = pd.to_datetime('20101201') # 가장 빠른 날짜인 20101201을 기준으로 R 값 변경\n",
    "time_diff = rfm_df['최근성_R']-current_day # 최근방문일과 기준 날짜의 시간 차이\n",
    "time_in_seconds = [x.total_seconds() for x in time_diff] # 시간 차이를 초단위로 계산\n",
    "rfm_df['최근성_R'] = time_in_seconds # 변환된 데이터를 다시 삽입한다.\n",
    "rfm_df.head()"
   ]
  },
  {
   "cell_type": "code",
   "execution_count": 22,
   "id": "3bdac740",
   "metadata": {},
   "outputs": [
    {
     "name": "stdout",
     "output_type": "stream",
     "text": [
      "<class 'pandas.core.frame.DataFrame'>\n",
      "Index: 4372 entries, 12346 to 18287\n",
      "Data columns (total 3 columns):\n",
      " #   Column  Non-Null Count  Dtype  \n",
      "---  ------  --------------  -----  \n",
      " 0   최근성_R   4372 non-null   float64\n",
      " 1   빈도_F    4372 non-null   int64  \n",
      " 2   총금액_M   4372 non-null   float64\n",
      "dtypes: float64(2), int64(1)\n",
      "memory usage: 136.6+ KB\n"
     ]
    }
   ],
   "source": [
    "rfm_df.info()"
   ]
  },
  {
   "cell_type": "markdown",
   "id": "a712c7a6",
   "metadata": {},
   "source": [
    "* * *"
   ]
  },
  {
   "cell_type": "markdown",
   "id": "7789326a",
   "metadata": {},
   "source": [
    "# 각 컬럼은 min-max 스켈링 진행 후, 최종 스코어 산출하기"
   ]
  },
  {
   "cell_type": "markdown",
   "id": "c9d66603",
   "metadata": {},
   "source": [
    "> 컬럼별 Min-Man 스케일링으로 점수화를 진행 예정<br>\n",
    "    - 참고) 점수화 RFM SCORE를 20%씩 등급 부여\n",
    "<br>\n",
    "\n",
    "$x_i-min(x)\\over max(x)-min(x)$\n",
    "* $x_i$ : 변수의 i번째 값\n",
    "* $min(x)$ : 최솟값\n",
    "* $max(x)$ : 최댓값"
   ]
  },
  {
   "cell_type": "code",
   "execution_count": 23,
   "id": "f5b86f5b",
   "metadata": {},
   "outputs": [],
   "source": [
    "from sklearn.preprocessing import MinMaxScaler"
   ]
  },
  {
   "cell_type": "code",
   "execution_count": 24,
   "id": "493b6567",
   "metadata": {},
   "outputs": [
    {
     "data": {
      "text/plain": [
       "array([[1.28688602e-01, 1.25281884e-04, 1.51091712e-02],\n",
       "       [9.94978569e-01, 2.26760210e-02, 3.02971721e-02],\n",
       "       [7.99036659e-01, 3.75845653e-03, 2.14424619e-02],\n",
       "       ...,\n",
       "       [9.81114728e-01, 1.50338261e-03, 1.57314917e-02],\n",
       "       [9.91870418e-01, 9.45878226e-02, 2.24913149e-02],\n",
       "       [8.87062463e-01, 8.64445001e-03, 2.15835588e-02]])"
      ]
     },
     "execution_count": 24,
     "metadata": {},
     "output_type": "execute_result"
    }
   ],
   "source": [
    "min_max_scaler = MinMaxScaler()\n",
    "fitted = min_max_scaler.fit_transform(rfm_df)\n",
    "fitted"
   ]
  },
  {
   "cell_type": "code",
   "execution_count": 25,
   "id": "ee50f745",
   "metadata": {},
   "outputs": [
    {
     "data": {
      "text/html": [
       "<div>\n",
       "<style scoped>\n",
       "    .dataframe tbody tr th:only-of-type {\n",
       "        vertical-align: middle;\n",
       "    }\n",
       "\n",
       "    .dataframe tbody tr th {\n",
       "        vertical-align: top;\n",
       "    }\n",
       "\n",
       "    .dataframe thead th {\n",
       "        text-align: right;\n",
       "    }\n",
       "</style>\n",
       "<table border=\"1\" class=\"dataframe\">\n",
       "  <thead>\n",
       "    <tr style=\"text-align: right;\">\n",
       "      <th></th>\n",
       "      <th>최근성_R</th>\n",
       "      <th>빈도_F</th>\n",
       "      <th>총금액_M</th>\n",
       "    </tr>\n",
       "  </thead>\n",
       "  <tbody>\n",
       "    <tr>\n",
       "      <th>12346</th>\n",
       "      <td>0.128689</td>\n",
       "      <td>0.000125</td>\n",
       "      <td>0.015109</td>\n",
       "    </tr>\n",
       "    <tr>\n",
       "      <th>12347</th>\n",
       "      <td>0.994979</td>\n",
       "      <td>0.022676</td>\n",
       "      <td>0.030297</td>\n",
       "    </tr>\n",
       "    <tr>\n",
       "      <th>12348</th>\n",
       "      <td>0.799037</td>\n",
       "      <td>0.003758</td>\n",
       "      <td>0.021442</td>\n",
       "    </tr>\n",
       "    <tr>\n",
       "      <th>12349</th>\n",
       "      <td>0.951425</td>\n",
       "      <td>0.009020</td>\n",
       "      <td>0.021303</td>\n",
       "    </tr>\n",
       "    <tr>\n",
       "      <th>12350</th>\n",
       "      <td>0.169530</td>\n",
       "      <td>0.002005</td>\n",
       "      <td>0.016288</td>\n",
       "    </tr>\n",
       "  </tbody>\n",
       "</table>\n",
       "</div>"
      ],
      "text/plain": [
       "          최근성_R      빈도_F     총금액_M\n",
       "12346  0.128689  0.000125  0.015109\n",
       "12347  0.994979  0.022676  0.030297\n",
       "12348  0.799037  0.003758  0.021442\n",
       "12349  0.951425  0.009020  0.021303\n",
       "12350  0.169530  0.002005  0.016288"
      ]
     },
     "execution_count": 25,
     "metadata": {},
     "output_type": "execute_result"
    }
   ],
   "source": [
    "fit_rfm = pd.DataFrame(fitted, columns=rfm_df.columns, index=list(rfm_df.index.values))\n",
    "fit_rfm.head()"
   ]
  },
  {
   "cell_type": "markdown",
   "id": "0630f30c",
   "metadata": {},
   "source": [
    "> 여기서 파레토 법칙을 적용할 예정<br>\n",
    "파레토 법칙이란 가장 중요한 20 퍼센트가 나머지 80 퍼센트를 결정할 예정<br>\n",
    "한 논문에서 총금액이 가장 중요하다라는 결론에 따라 총금액에 가장 큰 비중을 준다."
   ]
  },
  {
   "cell_type": "code",
   "execution_count": 26,
   "id": "57d3c78e",
   "metadata": {},
   "outputs": [
    {
     "data": {
      "text/plain": [
       "3444.7953043720886"
      ]
     },
     "execution_count": 26,
     "metadata": {},
     "output_type": "execute_result"
    }
   ],
   "source": [
    "total = fit_rfm['최근성_R'].sum()+fit_rfm['빈도_F'].sum()+fit_rfm['총금액_M'].sum()\n",
    "total"
   ]
  },
  {
   "cell_type": "code",
   "execution_count": 27,
   "id": "aed3599f",
   "metadata": {},
   "outputs": [
    {
     "name": "stdout",
     "output_type": "stream",
     "text": [
      "0.9576966288829607\n",
      "0.0146367394374345\n",
      "0.027666631679604706\n"
     ]
    }
   ],
   "source": [
    "print(fit_rfm['최근성_R'].sum()/total)\n",
    "print(fit_rfm['빈도_F'].sum()/total)\n",
    "print(fit_rfm['총금액_M'].sum()/total)"
   ]
  },
  {
   "cell_type": "code",
   "execution_count": 28,
   "id": "9eaad474",
   "metadata": {},
   "outputs": [
    {
     "data": {
      "text/html": [
       "<div>\n",
       "<style scoped>\n",
       "    .dataframe tbody tr th:only-of-type {\n",
       "        vertical-align: middle;\n",
       "    }\n",
       "\n",
       "    .dataframe tbody tr th {\n",
       "        vertical-align: top;\n",
       "    }\n",
       "\n",
       "    .dataframe thead th {\n",
       "        text-align: right;\n",
       "    }\n",
       "</style>\n",
       "<table border=\"1\" class=\"dataframe\">\n",
       "  <thead>\n",
       "    <tr style=\"text-align: right;\">\n",
       "      <th></th>\n",
       "      <th>최근성_R</th>\n",
       "      <th>빈도_F</th>\n",
       "      <th>총금액_M</th>\n",
       "      <th>RFM_SCORE</th>\n",
       "    </tr>\n",
       "  </thead>\n",
       "  <tbody>\n",
       "    <tr>\n",
       "      <th>12346</th>\n",
       "      <td>0.013437</td>\n",
       "      <td>0.000856</td>\n",
       "      <td>0.436892</td>\n",
       "      <td>0.451185</td>\n",
       "    </tr>\n",
       "    <tr>\n",
       "      <th>12347</th>\n",
       "      <td>0.103893</td>\n",
       "      <td>0.154925</td>\n",
       "      <td>0.876064</td>\n",
       "      <td>1.134882</td>\n",
       "    </tr>\n",
       "    <tr>\n",
       "      <th>12348</th>\n",
       "      <td>0.083433</td>\n",
       "      <td>0.025678</td>\n",
       "      <td>0.620024</td>\n",
       "      <td>0.729135</td>\n",
       "    </tr>\n",
       "    <tr>\n",
       "      <th>12349</th>\n",
       "      <td>0.099345</td>\n",
       "      <td>0.061628</td>\n",
       "      <td>0.615980</td>\n",
       "      <td>0.776952</td>\n",
       "    </tr>\n",
       "    <tr>\n",
       "      <th>12350</th>\n",
       "      <td>0.017702</td>\n",
       "      <td>0.013695</td>\n",
       "      <td>0.470966</td>\n",
       "      <td>0.502363</td>\n",
       "    </tr>\n",
       "  </tbody>\n",
       "</table>\n",
       "</div>"
      ],
      "text/plain": [
       "          최근성_R      빈도_F     총금액_M  RFM_SCORE\n",
       "12346  0.013437  0.000856  0.436892   0.451185\n",
       "12347  0.103893  0.154925  0.876064   1.134882\n",
       "12348  0.083433  0.025678  0.620024   0.729135\n",
       "12349  0.099345  0.061628  0.615980   0.776952\n",
       "12350  0.017702  0.013695  0.470966   0.502363"
      ]
     },
     "execution_count": 28,
     "metadata": {},
     "output_type": "execute_result"
    }
   ],
   "source": [
    "fit_rfm['최근성_R'] = (fit_rfm['최근성_R'] * 0.1/(fit_rfm['최근성_R'].sum()/total))\n",
    "fit_rfm['빈도_F'] = (fit_rfm['빈도_F'] *  0.1/(fit_rfm['빈도_F'].sum()/total))\n",
    "fit_rfm['총금액_M'] = (fit_rfm['총금액_M'] *  0.8/(fit_rfm['총금액_M'].sum()/total))\n",
    "fit_rfm['RFM_SCORE'] =fit_rfm['최근성_R'] + fit_rfm['빈도_F'] + fit_rfm['총금액_M']\n",
    "fit_rfm.head()"
   ]
  },
  {
   "cell_type": "code",
   "execution_count": 29,
   "id": "9b87523d",
   "metadata": {},
   "outputs": [
    {
     "data": {
      "text/html": [
       "<div>\n",
       "<style scoped>\n",
       "    .dataframe tbody tr th:only-of-type {\n",
       "        vertical-align: middle;\n",
       "    }\n",
       "\n",
       "    .dataframe tbody tr th {\n",
       "        vertical-align: top;\n",
       "    }\n",
       "\n",
       "    .dataframe thead th {\n",
       "        text-align: right;\n",
       "    }\n",
       "</style>\n",
       "<table border=\"1\" class=\"dataframe\">\n",
       "  <thead>\n",
       "    <tr style=\"text-align: right;\">\n",
       "      <th></th>\n",
       "      <th>최근성_R</th>\n",
       "      <th>빈도_F</th>\n",
       "      <th>총금액_M</th>\n",
       "      <th>RFM_SCORE</th>\n",
       "    </tr>\n",
       "  </thead>\n",
       "  <tbody>\n",
       "    <tr>\n",
       "      <th>12346</th>\n",
       "      <td>0.013437</td>\n",
       "      <td>0.000856</td>\n",
       "      <td>0.436892</td>\n",
       "      <td>0.451185</td>\n",
       "    </tr>\n",
       "    <tr>\n",
       "      <th>12347</th>\n",
       "      <td>0.103893</td>\n",
       "      <td>0.154925</td>\n",
       "      <td>0.876064</td>\n",
       "      <td>1.134882</td>\n",
       "    </tr>\n",
       "    <tr>\n",
       "      <th>12348</th>\n",
       "      <td>0.083433</td>\n",
       "      <td>0.025678</td>\n",
       "      <td>0.620024</td>\n",
       "      <td>0.729135</td>\n",
       "    </tr>\n",
       "    <tr>\n",
       "      <th>12349</th>\n",
       "      <td>0.099345</td>\n",
       "      <td>0.061628</td>\n",
       "      <td>0.615980</td>\n",
       "      <td>0.776952</td>\n",
       "    </tr>\n",
       "    <tr>\n",
       "      <th>12350</th>\n",
       "      <td>0.017702</td>\n",
       "      <td>0.013695</td>\n",
       "      <td>0.470966</td>\n",
       "      <td>0.502363</td>\n",
       "    </tr>\n",
       "  </tbody>\n",
       "</table>\n",
       "</div>"
      ],
      "text/plain": [
       "          최근성_R      빈도_F     총금액_M  RFM_SCORE\n",
       "12346  0.013437  0.000856  0.436892   0.451185\n",
       "12347  0.103893  0.154925  0.876064   1.134882\n",
       "12348  0.083433  0.025678  0.620024   0.729135\n",
       "12349  0.099345  0.061628  0.615980   0.776952\n",
       "12350  0.017702  0.013695  0.470966   0.502363"
      ]
     },
     "execution_count": 29,
     "metadata": {},
     "output_type": "execute_result"
    }
   ],
   "source": [
    "fit_rfm.head()"
   ]
  },
  {
   "cell_type": "code",
   "execution_count": 30,
   "id": "902aceb0",
   "metadata": {},
   "outputs": [
    {
     "data": {
      "text/plain": [
       "array([[1.28688602e-01, 1.25281884e-04, 1.51091712e-02, 1.25919722e-02],\n",
       "       [9.94978569e-01, 2.26760210e-02, 3.02971721e-02, 3.48336072e-02],\n",
       "       [7.99036659e-01, 3.75845653e-03, 2.14424619e-02, 2.16340751e-02],\n",
       "       ...,\n",
       "       [9.81114728e-01, 1.50338261e-03, 1.57314917e-02, 1.63792214e-02],\n",
       "       [9.91870418e-01, 9.45878226e-02, 2.24913149e-02, 4.34633483e-02],\n",
       "       [8.87062463e-01, 8.64445001e-03, 2.15835588e-02, 2.31517653e-02]])"
      ]
     },
     "execution_count": 30,
     "metadata": {},
     "output_type": "execute_result"
    }
   ],
   "source": [
    "min_max_scaler = MinMaxScaler()\n",
    "fitted2 = min_max_scaler.fit_transform(fit_rfm)\n",
    "fitted2"
   ]
  },
  {
   "cell_type": "code",
   "execution_count": 31,
   "id": "41135711",
   "metadata": {},
   "outputs": [
    {
     "data": {
      "text/html": [
       "<div>\n",
       "<style scoped>\n",
       "    .dataframe tbody tr th:only-of-type {\n",
       "        vertical-align: middle;\n",
       "    }\n",
       "\n",
       "    .dataframe tbody tr th {\n",
       "        vertical-align: top;\n",
       "    }\n",
       "\n",
       "    .dataframe thead th {\n",
       "        text-align: right;\n",
       "    }\n",
       "</style>\n",
       "<table border=\"1\" class=\"dataframe\">\n",
       "  <thead>\n",
       "    <tr style=\"text-align: right;\">\n",
       "      <th></th>\n",
       "      <th>최근성_R</th>\n",
       "      <th>빈도_F</th>\n",
       "      <th>총금액_M</th>\n",
       "      <th>RFM_SCORE</th>\n",
       "    </tr>\n",
       "  </thead>\n",
       "  <tbody>\n",
       "    <tr>\n",
       "      <th>12346</th>\n",
       "      <td>0.128689</td>\n",
       "      <td>0.000125</td>\n",
       "      <td>0.015109</td>\n",
       "      <td>1</td>\n",
       "    </tr>\n",
       "    <tr>\n",
       "      <th>12347</th>\n",
       "      <td>0.994979</td>\n",
       "      <td>0.022676</td>\n",
       "      <td>0.030297</td>\n",
       "      <td>3</td>\n",
       "    </tr>\n",
       "    <tr>\n",
       "      <th>12348</th>\n",
       "      <td>0.799037</td>\n",
       "      <td>0.003758</td>\n",
       "      <td>0.021442</td>\n",
       "      <td>2</td>\n",
       "    </tr>\n",
       "    <tr>\n",
       "      <th>12349</th>\n",
       "      <td>0.951425</td>\n",
       "      <td>0.009020</td>\n",
       "      <td>0.021303</td>\n",
       "      <td>2</td>\n",
       "    </tr>\n",
       "    <tr>\n",
       "      <th>12350</th>\n",
       "      <td>0.169530</td>\n",
       "      <td>0.002005</td>\n",
       "      <td>0.016288</td>\n",
       "      <td>1</td>\n",
       "    </tr>\n",
       "  </tbody>\n",
       "</table>\n",
       "</div>"
      ],
      "text/plain": [
       "          최근성_R      빈도_F     총금액_M  RFM_SCORE\n",
       "12346  0.128689  0.000125  0.015109          1\n",
       "12347  0.994979  0.022676  0.030297          3\n",
       "12348  0.799037  0.003758  0.021442          2\n",
       "12349  0.951425  0.009020  0.021303          2\n",
       "12350  0.169530  0.002005  0.016288          1"
      ]
     },
     "execution_count": 31,
     "metadata": {},
     "output_type": "execute_result"
    }
   ],
   "source": [
    "fit_rfm2 = pd.DataFrame(fitted2, columns=fit_rfm.columns, index=list(fit_rfm.index.values))\n",
    "fit_rfm2['RFM_SCORE'] = (fit_rfm2['RFM_SCORE']*100).astype(int)\n",
    "fit_rfm2.head()"
   ]
  },
  {
   "cell_type": "code",
   "execution_count": 32,
   "id": "09ac43da",
   "metadata": {
    "scrolled": true
   },
   "outputs": [
    {
     "data": {
      "text/html": [
       "<div>\n",
       "<style scoped>\n",
       "    .dataframe tbody tr th:only-of-type {\n",
       "        vertical-align: middle;\n",
       "    }\n",
       "\n",
       "    .dataframe tbody tr th {\n",
       "        vertical-align: top;\n",
       "    }\n",
       "\n",
       "    .dataframe thead th {\n",
       "        text-align: right;\n",
       "    }\n",
       "</style>\n",
       "<table border=\"1\" class=\"dataframe\">\n",
       "  <thead>\n",
       "    <tr style=\"text-align: right;\">\n",
       "      <th></th>\n",
       "      <th>최근성_R</th>\n",
       "      <th>빈도_F</th>\n",
       "      <th>총금액_M</th>\n",
       "      <th>RFM_SCORE</th>\n",
       "    </tr>\n",
       "  </thead>\n",
       "  <tbody>\n",
       "    <tr>\n",
       "      <th>count</th>\n",
       "      <td>4372.000000</td>\n",
       "      <td>4372.000000</td>\n",
       "      <td>4372.000000</td>\n",
       "      <td>4372.000000</td>\n",
       "    </tr>\n",
       "    <tr>\n",
       "      <th>mean</th>\n",
       "      <td>0.754590</td>\n",
       "      <td>0.011533</td>\n",
       "      <td>0.021799</td>\n",
       "      <td>1.805124</td>\n",
       "    </tr>\n",
       "    <tr>\n",
       "      <th>std</th>\n",
       "      <td>0.270074</td>\n",
       "      <td>0.029124</td>\n",
       "      <td>0.028964</td>\n",
       "      <td>3.097662</td>\n",
       "    </tr>\n",
       "    <tr>\n",
       "      <th>min</th>\n",
       "      <td>0.000000</td>\n",
       "      <td>0.000000</td>\n",
       "      <td>0.000000</td>\n",
       "      <td>0.000000</td>\n",
       "    </tr>\n",
       "    <tr>\n",
       "      <th>25%</th>\n",
       "      <td>0.617030</td>\n",
       "      <td>0.002005</td>\n",
       "      <td>0.016143</td>\n",
       "      <td>1.000000</td>\n",
       "    </tr>\n",
       "    <tr>\n",
       "      <th>50%</th>\n",
       "      <td>0.866343</td>\n",
       "      <td>0.005137</td>\n",
       "      <td>0.017393</td>\n",
       "      <td>1.000000</td>\n",
       "    </tr>\n",
       "    <tr>\n",
       "      <th>75%</th>\n",
       "      <td>0.956746</td>\n",
       "      <td>0.012653</td>\n",
       "      <td>0.020789</td>\n",
       "      <td>2.000000</td>\n",
       "    </tr>\n",
       "    <tr>\n",
       "      <th>max</th>\n",
       "      <td>1.000000</td>\n",
       "      <td>1.000000</td>\n",
       "      <td>1.000000</td>\n",
       "      <td>99.000000</td>\n",
       "    </tr>\n",
       "  </tbody>\n",
       "</table>\n",
       "</div>"
      ],
      "text/plain": [
       "             최근성_R         빈도_F        총금액_M    RFM_SCORE\n",
       "count  4372.000000  4372.000000  4372.000000  4372.000000\n",
       "mean      0.754590     0.011533     0.021799     1.805124\n",
       "std       0.270074     0.029124     0.028964     3.097662\n",
       "min       0.000000     0.000000     0.000000     0.000000\n",
       "25%       0.617030     0.002005     0.016143     1.000000\n",
       "50%       0.866343     0.005137     0.017393     1.000000\n",
       "75%       0.956746     0.012653     0.020789     2.000000\n",
       "max       1.000000     1.000000     1.000000    99.000000"
      ]
     },
     "execution_count": 32,
     "metadata": {},
     "output_type": "execute_result"
    }
   ],
   "source": [
    "fit_rfm2.describe()"
   ]
  },
  {
   "cell_type": "code",
   "execution_count": 33,
   "id": "29164bed",
   "metadata": {},
   "outputs": [],
   "source": [
    "def get_score(level, data):\n",
    "    '''\n",
    "    Description :\n",
    "    level안에 있는 원소를 기준으로\n",
    "    1 ~ len(level)+ 1 까지 점수를 부여하는 함수\n",
    "    \n",
    "    Parameters :\n",
    "    level = 튜플 또는 리스트 타입의 숫자형 데이터이며 반드시 오름차순으로 정렬되어 있어야함.\n",
    "    예 - [1,2,3,4,5] O, [5,4,3,2,1] X, [1,3,2,10,4] X \n",
    "    data = 점수를 부여할 데이터. 순회가능한(iterable) 데이터 형식\n",
    "    return :\n",
    "    점수를 담고 있는 리스트 반환\n",
    "    '''\n",
    "    score = [] \n",
    "    for j in range(len(data)): \n",
    "        for i in range(len(level)): \n",
    "            if data[j] <= level[i]: \n",
    "                score.append(i+1) \n",
    "                break \n",
    "            elif data[j] > max(level): \n",
    "                score.append(len(level)+1) \n",
    "                break \n",
    "            else: \n",
    "                continue \n",
    "    return score"
   ]
  },
  {
   "cell_type": "code",
   "execution_count": 34,
   "id": "5edee88e",
   "metadata": {},
   "outputs": [],
   "source": [
    "def get_rfm_grade(df, num_class, rfm_tick_point, rfm_col_map, suffix=None):\n",
    "    '''\n",
    "    Description :\n",
    "    개별 고객에 대한 최근방문일/방문횟수/구매금액 데이터가 주어졌을때\n",
    "    최근방문일/방문횟수/구매금액 점수를 계산하여 주어진 데이터 오른쪽에 붙여줍니다.\n",
    "    \n",
    "    Parameters :\n",
    "    df = pandas.DataFrame 데이터\n",
    "    num_class = 등급(점수) 개수\n",
    "    rfm_tick_point = 최근방문일/방문횟수/구매금액에 대해서 등급을 나눌 기준이 되는 값\n",
    "                    'quantile', 'min_max' 또는 리스트를 통하여 직접 값을 정할 수 있음.\n",
    "                    단, 리스트 사용시 원소의 개수는 반드시 num_class - 1 이어야함.\n",
    "                    quatile = 데이터의 분위수를 기준으로 점수를 매김\n",
    "                    min_max = 데이터의 최소값과 최대값을 동일 간격으로 나누어 점수를 매김\n",
    "    rfm_col_map = 최근방문일/방문횟수/구매금액에 대응하는 칼럼명\n",
    "    예 - {'R':'Recency','F':'Frequency','M':'Monetary'}\n",
    "    suffix = 최근방문일/방문횟수/구매금액에 대응하는 칼럼명 뒤에 붙는 접미사\n",
    "    Return : \n",
    "    pandas.DataFrame\n",
    "    '''\n",
    "    ##### 필요모듈 체크\n",
    "    import pandas as pd\n",
    "    import numpy as np\n",
    "    from sklearn import preprocessing\n",
    "    \n",
    "    ##### 파라미터 체크\n",
    "    if not isinstance(df, pd.DataFrame): ## 데이터는 pd.DataFrame이어야 함.\n",
    "        print('데이터는 pandas.DataFrame 객체여야 합니다.')\n",
    "        return\n",
    "    \n",
    "    if isinstance(rfm_tick_point, dict) == False or isinstance(rfm_col_map, dict) == False: ## rfm_tick_point와 rfm_col_map은 모두 딕셔너리\n",
    "        print(f'rfm_tick_point와 rfm_col_map은 모두 딕셔너리여야합니다.')\n",
    "        return\n",
    "    \n",
    "    if len(rfm_col_map) != 3: ## rfm_col_map에는 반드시 3개의 키를 가져아함.\n",
    "        print(f'rfm_col_map인자는 반드시 3개의 키를 가져야합니다. \\n현재 rfm_col_map에는 {len(rfm_col_map)}개의 키가 있습니다.')\n",
    "        return\n",
    "    \n",
    "    if len(rfm_tick_point) != 3: ## rfm_tick_point에는 반드시 3개의 키를 가져아함.\n",
    "        print(f'rfm_tick_point인자는 반드시 3개의 키를 가져야합니다. \\n현재 rfm_col_map에는 {len(rfm_col_map)}개의 키가 있습니다.')\n",
    "        return\n",
    "    \n",
    "    if set(rfm_tick_point.keys()) != set(rfm_col_map.keys()): ## rfm_tick_point와 rfm_col_map은 같은 키를 가져야함.\n",
    "        print(f'rfm_tick_point와 rfm_col_map은 같은 키를 가져야 합니다.')\n",
    "        return\n",
    "    \n",
    "    if not set(rfm_col_map.values()).issubset(set(df.columns)):\n",
    "        not_in_df = set(rfm_col_map.values())-set(df.columns)\n",
    "        print(f'{not_in_df}이 데이터 칼럼에 있어야 합니다.')\n",
    "        return\n",
    "    \n",
    "    for k, v in rfm_tick_point.items():\n",
    "        if isinstance(v, str):\n",
    "            if not v in ['quantile','min_max']:\n",
    "                print(f'{k}의 값은 \"quantile\" 또는 \"min_max\"중에 하나여야 합니다.')\n",
    "                return\n",
    "        elif isinstance(v,list) or isinstance(v,tuple):\n",
    "            if len(v) != num_class-1:\n",
    "                print(f'{k}에 대응하는 리스트(튜플)의 원소는 {num_class-1}개여야 합니다.')\n",
    "                return\n",
    "    \n",
    "    if suffix:\n",
    "        if not isinstance(suffix, str):\n",
    "            print('suffix인자는 문자열이어야합니다.')\n",
    "            return\n",
    "        \n",
    "    ##### 최근방문일/방문횟수/구매금액 점수 부여\n",
    "    for k, v in rfm_tick_point.items():\n",
    "        if isinstance(v,str):\n",
    "            if v == 'quantile':\n",
    "                ## 데이터 변환\n",
    "                scale = preprocessing.StandardScaler() ## 데이터의 범위 조작하기 쉽게 해주는 클래스 \n",
    "                temp_data = np.array(df[rfm_col_map[k]]) ## 데이터를 Numpy 배열로 변환\n",
    "                temp_data = temp_data.reshape((-1,1)) ## scale을 적용하기위해 1차원 배열을 2차원으로 변환\n",
    "                temp_data = scale.fit_transform(temp_data) ## 데이터를 평균은 0, 표준편차는 1을 갖도록 변환 \n",
    "                temp_data = temp_data.squeeze() ## 데이터를 다시 1차원으로 변환\n",
    " \n",
    "                ## 분위수 벡터\n",
    "                quantiles_level = np.linspace(0,1,num_class+1)[1:-1] ## 분위수를 구할 기준값을 지정 0과 1은 제외\n",
    "                quantiles = [] ## 분위수를 담을 리스트\n",
    "                for ql in quantiles_level:\n",
    "                    quantiles.append(np.quantile(temp_data,ql)) ## 분위수를 계산하고 리스트에 삽입\n",
    "            else: ## min_max인 경우\n",
    "                ## 데이터 변환\n",
    "                temp_data = np.array(df[rfm_col_map[k]])\n",
    " \n",
    "                ## 등분점 계산\n",
    "                quantiles = np.linspace(np.min(temp_data),np.max(temp_data),num_class+1)[1:-1] ## 최소값과 최대값을 점수 개수만큼 등간격으로 분할하는 점\n",
    "        else: ## 직접 구분값을 넣어주는 경우\n",
    "            temp_data = np.array(df[rfm_col_map[k]])\n",
    "            quantiles = v ## 직접 구분값을 넣어줌\n",
    "        score = get_score(quantiles, temp_data) ## 구분값을 기준으로 점수를 부여하고 리스트로 저장한다.\n",
    "        new_col_name = rfm_col_map[k]+'_'+k ## 점수값을 담는 변수의 이름\n",
    "        if suffix:\n",
    "            new_col_name = rfm_col_map[k]+'_'+suffix\n",
    "        df[new_col_name] = score ## 기존데이터 옆에 점수 데이터를 추가한다.\n",
    "    return df"
   ]
  },
  {
   "cell_type": "code",
   "execution_count": 35,
   "id": "a7637624",
   "metadata": {},
   "outputs": [],
   "source": [
    "rfm_tick_point={'R':'quantile','F':'quantile','M':'quantile'}\n",
    "rfm_col_map={'R':'최근성_R','F':'빈도_F','M':'총금액_M'}\n",
    " \n",
    "result = get_rfm_grade(df=fit_rfm2, num_class=5, rfm_tick_point=rfm_tick_point, rfm_col_map=rfm_col_map)\n",
    "result.to_csv('result.csv',index=False)"
   ]
  },
  {
   "cell_type": "code",
   "execution_count": 49,
   "id": "435377ae",
   "metadata": {},
   "outputs": [
    {
     "data": {
      "text/html": [
       "<div>\n",
       "<style scoped>\n",
       "    .dataframe tbody tr th:only-of-type {\n",
       "        vertical-align: middle;\n",
       "    }\n",
       "\n",
       "    .dataframe tbody tr th {\n",
       "        vertical-align: top;\n",
       "    }\n",
       "\n",
       "    .dataframe thead th {\n",
       "        text-align: right;\n",
       "    }\n",
       "</style>\n",
       "<table border=\"1\" class=\"dataframe\">\n",
       "  <thead>\n",
       "    <tr style=\"text-align: right;\">\n",
       "      <th></th>\n",
       "      <th>최근성_R</th>\n",
       "      <th>빈도_F</th>\n",
       "      <th>총금액_M</th>\n",
       "      <th>RFM_SCORE</th>\n",
       "      <th>최근성_R_R</th>\n",
       "      <th>빈도_F_F</th>\n",
       "      <th>총금액_M_M</th>\n",
       "      <th>Monetary</th>\n",
       "    </tr>\n",
       "  </thead>\n",
       "  <tbody>\n",
       "    <tr>\n",
       "      <th>12346</th>\n",
       "      <td>0.128689</td>\n",
       "      <td>0.000125</td>\n",
       "      <td>0.015109</td>\n",
       "      <td>1</td>\n",
       "      <td>1</td>\n",
       "      <td>1</td>\n",
       "      <td>1</td>\n",
       "      <td>0.00</td>\n",
       "    </tr>\n",
       "    <tr>\n",
       "      <th>12347</th>\n",
       "      <td>0.994979</td>\n",
       "      <td>0.022676</td>\n",
       "      <td>0.030297</td>\n",
       "      <td>3</td>\n",
       "      <td>5</td>\n",
       "      <td>5</td>\n",
       "      <td>5</td>\n",
       "      <td>4310.00</td>\n",
       "    </tr>\n",
       "    <tr>\n",
       "      <th>12348</th>\n",
       "      <td>0.799037</td>\n",
       "      <td>0.003758</td>\n",
       "      <td>0.021442</td>\n",
       "      <td>2</td>\n",
       "      <td>2</td>\n",
       "      <td>3</td>\n",
       "      <td>4</td>\n",
       "      <td>1797.24</td>\n",
       "    </tr>\n",
       "    <tr>\n",
       "      <th>12349</th>\n",
       "      <td>0.951425</td>\n",
       "      <td>0.009020</td>\n",
       "      <td>0.021303</td>\n",
       "      <td>2</td>\n",
       "      <td>4</td>\n",
       "      <td>4</td>\n",
       "      <td>4</td>\n",
       "      <td>1757.55</td>\n",
       "    </tr>\n",
       "    <tr>\n",
       "      <th>12350</th>\n",
       "      <td>0.169530</td>\n",
       "      <td>0.002005</td>\n",
       "      <td>0.016288</td>\n",
       "      <td>1</td>\n",
       "      <td>1</td>\n",
       "      <td>2</td>\n",
       "      <td>2</td>\n",
       "      <td>334.40</td>\n",
       "    </tr>\n",
       "    <tr>\n",
       "      <th>...</th>\n",
       "      <td>...</td>\n",
       "      <td>...</td>\n",
       "      <td>...</td>\n",
       "      <td>...</td>\n",
       "      <td>...</td>\n",
       "      <td>...</td>\n",
       "      <td>...</td>\n",
       "      <td>...</td>\n",
       "    </tr>\n",
       "    <tr>\n",
       "      <th>18280</th>\n",
       "      <td>0.257286</td>\n",
       "      <td>0.001128</td>\n",
       "      <td>0.015746</td>\n",
       "      <td>1</td>\n",
       "      <td>1</td>\n",
       "      <td>1</td>\n",
       "      <td>1</td>\n",
       "      <td>180.60</td>\n",
       "    </tr>\n",
       "    <tr>\n",
       "      <th>18281</th>\n",
       "      <td>0.517367</td>\n",
       "      <td>0.000752</td>\n",
       "      <td>0.015394</td>\n",
       "      <td>1</td>\n",
       "      <td>1</td>\n",
       "      <td>1</td>\n",
       "      <td>1</td>\n",
       "      <td>80.82</td>\n",
       "    </tr>\n",
       "    <tr>\n",
       "      <th>18282</th>\n",
       "      <td>0.981115</td>\n",
       "      <td>0.001503</td>\n",
       "      <td>0.015731</td>\n",
       "      <td>1</td>\n",
       "      <td>5</td>\n",
       "      <td>1</td>\n",
       "      <td>1</td>\n",
       "      <td>176.60</td>\n",
       "    </tr>\n",
       "    <tr>\n",
       "      <th>18283</th>\n",
       "      <td>0.991870</td>\n",
       "      <td>0.094588</td>\n",
       "      <td>0.022491</td>\n",
       "      <td>4</td>\n",
       "      <td>5</td>\n",
       "      <td>5</td>\n",
       "      <td>5</td>\n",
       "      <td>2094.88</td>\n",
       "    </tr>\n",
       "    <tr>\n",
       "      <th>18287</th>\n",
       "      <td>0.887062</td>\n",
       "      <td>0.008644</td>\n",
       "      <td>0.021584</td>\n",
       "      <td>2</td>\n",
       "      <td>3</td>\n",
       "      <td>4</td>\n",
       "      <td>4</td>\n",
       "      <td>1837.28</td>\n",
       "    </tr>\n",
       "  </tbody>\n",
       "</table>\n",
       "<p>4372 rows × 8 columns</p>\n",
       "</div>"
      ],
      "text/plain": [
       "          최근성_R      빈도_F     총금액_M  RFM_SCORE  최근성_R_R  빈도_F_F  총금액_M_M  \\\n",
       "12346  0.128689  0.000125  0.015109          1        1       1        1   \n",
       "12347  0.994979  0.022676  0.030297          3        5       5        5   \n",
       "12348  0.799037  0.003758  0.021442          2        2       3        4   \n",
       "12349  0.951425  0.009020  0.021303          2        4       4        4   \n",
       "12350  0.169530  0.002005  0.016288          1        1       2        2   \n",
       "...         ...       ...       ...        ...      ...     ...      ...   \n",
       "18280  0.257286  0.001128  0.015746          1        1       1        1   \n",
       "18281  0.517367  0.000752  0.015394          1        1       1        1   \n",
       "18282  0.981115  0.001503  0.015731          1        5       1        1   \n",
       "18283  0.991870  0.094588  0.022491          4        5       5        5   \n",
       "18287  0.887062  0.008644  0.021584          2        3       4        4   \n",
       "\n",
       "       Monetary  \n",
       "12346      0.00  \n",
       "12347   4310.00  \n",
       "12348   1797.24  \n",
       "12349   1757.55  \n",
       "12350    334.40  \n",
       "...         ...  \n",
       "18280    180.60  \n",
       "18281     80.82  \n",
       "18282    176.60  \n",
       "18283   2094.88  \n",
       "18287   1837.28  \n",
       "\n",
       "[4372 rows x 8 columns]"
      ]
     },
     "execution_count": 49,
     "metadata": {},
     "output_type": "execute_result"
    }
   ],
   "source": [
    "result['Monetary'] = rfm_df['총금액_M']\n",
    "result"
   ]
  },
  {
   "cell_type": "code",
   "execution_count": 59,
   "id": "522cc4dc",
   "metadata": {},
   "outputs": [
    {
     "ename": "ValueError",
     "evalue": "Length mismatch: Expected axis has 4 elements, new values have 1 elements",
     "output_type": "error",
     "traceback": [
      "\u001b[1;31m---------------------------------------------------------------------------\u001b[0m",
      "\u001b[1;31mValueError\u001b[0m                                Traceback (most recent call last)",
      "\u001b[1;32m~\\AppData\\Local\\Temp\\ipykernel_29412\\2018350056.py\u001b[0m in \u001b[0;36m<module>\u001b[1;34m\u001b[0m\n\u001b[0;32m      1\u001b[0m \u001b[0mrfm_score\u001b[0m \u001b[1;33m=\u001b[0m \u001b[0mresult\u001b[0m\u001b[1;33m[\u001b[0m\u001b[1;33m[\u001b[0m\u001b[1;34m'최근성_R_R'\u001b[0m\u001b[1;33m,\u001b[0m\u001b[1;34m'빈도_F_F'\u001b[0m\u001b[1;33m,\u001b[0m\u001b[1;34m'총금액_M_M'\u001b[0m\u001b[1;33m,\u001b[0m\u001b[1;34m'Monetary'\u001b[0m\u001b[1;33m]\u001b[0m\u001b[1;33m]\u001b[0m\u001b[1;33m\u001b[0m\u001b[1;33m\u001b[0m\u001b[0m\n\u001b[1;32m----> 2\u001b[1;33m \u001b[0mrfm_score\u001b[0m\u001b[1;33m.\u001b[0m\u001b[0mcolumns\u001b[0m \u001b[1;33m=\u001b[0m \u001b[1;33m[\u001b[0m\u001b[1;33m[\u001b[0m\u001b[1;34m'Recency_R,Frequency_F,Monetary_M,Monetary'\u001b[0m\u001b[1;33m]\u001b[0m\u001b[1;33m]\u001b[0m\u001b[1;33m\u001b[0m\u001b[1;33m\u001b[0m\u001b[0m\n\u001b[0m\u001b[0;32m      3\u001b[0m \u001b[0mrfm_score\u001b[0m\u001b[1;33m\u001b[0m\u001b[1;33m\u001b[0m\u001b[0m\n",
      "\u001b[1;32mC:\\Anaconda3\\lib\\site-packages\\pandas\\core\\generic.py\u001b[0m in \u001b[0;36m__setattr__\u001b[1;34m(self, name, value)\u001b[0m\n\u001b[0;32m   5498\u001b[0m         \u001b[1;32mtry\u001b[0m\u001b[1;33m:\u001b[0m\u001b[1;33m\u001b[0m\u001b[1;33m\u001b[0m\u001b[0m\n\u001b[0;32m   5499\u001b[0m             \u001b[0mobject\u001b[0m\u001b[1;33m.\u001b[0m\u001b[0m__getattribute__\u001b[0m\u001b[1;33m(\u001b[0m\u001b[0mself\u001b[0m\u001b[1;33m,\u001b[0m \u001b[0mname\u001b[0m\u001b[1;33m)\u001b[0m\u001b[1;33m\u001b[0m\u001b[1;33m\u001b[0m\u001b[0m\n\u001b[1;32m-> 5500\u001b[1;33m             \u001b[1;32mreturn\u001b[0m \u001b[0mobject\u001b[0m\u001b[1;33m.\u001b[0m\u001b[0m__setattr__\u001b[0m\u001b[1;33m(\u001b[0m\u001b[0mself\u001b[0m\u001b[1;33m,\u001b[0m \u001b[0mname\u001b[0m\u001b[1;33m,\u001b[0m \u001b[0mvalue\u001b[0m\u001b[1;33m)\u001b[0m\u001b[1;33m\u001b[0m\u001b[1;33m\u001b[0m\u001b[0m\n\u001b[0m\u001b[0;32m   5501\u001b[0m         \u001b[1;32mexcept\u001b[0m \u001b[0mAttributeError\u001b[0m\u001b[1;33m:\u001b[0m\u001b[1;33m\u001b[0m\u001b[1;33m\u001b[0m\u001b[0m\n\u001b[0;32m   5502\u001b[0m             \u001b[1;32mpass\u001b[0m\u001b[1;33m\u001b[0m\u001b[1;33m\u001b[0m\u001b[0m\n",
      "\u001b[1;32mC:\\Anaconda3\\lib\\site-packages\\pandas\\_libs\\properties.pyx\u001b[0m in \u001b[0;36mpandas._libs.properties.AxisProperty.__set__\u001b[1;34m()\u001b[0m\n",
      "\u001b[1;32mC:\\Anaconda3\\lib\\site-packages\\pandas\\core\\generic.py\u001b[0m in \u001b[0;36m_set_axis\u001b[1;34m(self, axis, labels)\u001b[0m\n\u001b[0;32m    764\u001b[0m     \u001b[1;32mdef\u001b[0m \u001b[0m_set_axis\u001b[0m\u001b[1;33m(\u001b[0m\u001b[0mself\u001b[0m\u001b[1;33m,\u001b[0m \u001b[0maxis\u001b[0m\u001b[1;33m:\u001b[0m \u001b[0mint\u001b[0m\u001b[1;33m,\u001b[0m \u001b[0mlabels\u001b[0m\u001b[1;33m:\u001b[0m \u001b[0mIndex\u001b[0m\u001b[1;33m)\u001b[0m \u001b[1;33m->\u001b[0m \u001b[1;32mNone\u001b[0m\u001b[1;33m:\u001b[0m\u001b[1;33m\u001b[0m\u001b[1;33m\u001b[0m\u001b[0m\n\u001b[0;32m    765\u001b[0m         \u001b[0mlabels\u001b[0m \u001b[1;33m=\u001b[0m \u001b[0mensure_index\u001b[0m\u001b[1;33m(\u001b[0m\u001b[0mlabels\u001b[0m\u001b[1;33m)\u001b[0m\u001b[1;33m\u001b[0m\u001b[1;33m\u001b[0m\u001b[0m\n\u001b[1;32m--> 766\u001b[1;33m         \u001b[0mself\u001b[0m\u001b[1;33m.\u001b[0m\u001b[0m_mgr\u001b[0m\u001b[1;33m.\u001b[0m\u001b[0mset_axis\u001b[0m\u001b[1;33m(\u001b[0m\u001b[0maxis\u001b[0m\u001b[1;33m,\u001b[0m \u001b[0mlabels\u001b[0m\u001b[1;33m)\u001b[0m\u001b[1;33m\u001b[0m\u001b[1;33m\u001b[0m\u001b[0m\n\u001b[0m\u001b[0;32m    767\u001b[0m         \u001b[0mself\u001b[0m\u001b[1;33m.\u001b[0m\u001b[0m_clear_item_cache\u001b[0m\u001b[1;33m(\u001b[0m\u001b[1;33m)\u001b[0m\u001b[1;33m\u001b[0m\u001b[1;33m\u001b[0m\u001b[0m\n\u001b[0;32m    768\u001b[0m \u001b[1;33m\u001b[0m\u001b[0m\n",
      "\u001b[1;32mC:\\Anaconda3\\lib\\site-packages\\pandas\\core\\internals\\managers.py\u001b[0m in \u001b[0;36mset_axis\u001b[1;34m(self, axis, new_labels)\u001b[0m\n\u001b[0;32m    214\u001b[0m     \u001b[1;32mdef\u001b[0m \u001b[0mset_axis\u001b[0m\u001b[1;33m(\u001b[0m\u001b[0mself\u001b[0m\u001b[1;33m,\u001b[0m \u001b[0maxis\u001b[0m\u001b[1;33m:\u001b[0m \u001b[0mint\u001b[0m\u001b[1;33m,\u001b[0m \u001b[0mnew_labels\u001b[0m\u001b[1;33m:\u001b[0m \u001b[0mIndex\u001b[0m\u001b[1;33m)\u001b[0m \u001b[1;33m->\u001b[0m \u001b[1;32mNone\u001b[0m\u001b[1;33m:\u001b[0m\u001b[1;33m\u001b[0m\u001b[1;33m\u001b[0m\u001b[0m\n\u001b[0;32m    215\u001b[0m         \u001b[1;31m# Caller is responsible for ensuring we have an Index object.\u001b[0m\u001b[1;33m\u001b[0m\u001b[1;33m\u001b[0m\u001b[1;33m\u001b[0m\u001b[0m\n\u001b[1;32m--> 216\u001b[1;33m         \u001b[0mself\u001b[0m\u001b[1;33m.\u001b[0m\u001b[0m_validate_set_axis\u001b[0m\u001b[1;33m(\u001b[0m\u001b[0maxis\u001b[0m\u001b[1;33m,\u001b[0m \u001b[0mnew_labels\u001b[0m\u001b[1;33m)\u001b[0m\u001b[1;33m\u001b[0m\u001b[1;33m\u001b[0m\u001b[0m\n\u001b[0m\u001b[0;32m    217\u001b[0m         \u001b[0mself\u001b[0m\u001b[1;33m.\u001b[0m\u001b[0maxes\u001b[0m\u001b[1;33m[\u001b[0m\u001b[0maxis\u001b[0m\u001b[1;33m]\u001b[0m \u001b[1;33m=\u001b[0m \u001b[0mnew_labels\u001b[0m\u001b[1;33m\u001b[0m\u001b[1;33m\u001b[0m\u001b[0m\n\u001b[0;32m    218\u001b[0m \u001b[1;33m\u001b[0m\u001b[0m\n",
      "\u001b[1;32mC:\\Anaconda3\\lib\\site-packages\\pandas\\core\\internals\\base.py\u001b[0m in \u001b[0;36m_validate_set_axis\u001b[1;34m(self, axis, new_labels)\u001b[0m\n\u001b[0;32m     56\u001b[0m         \u001b[1;32melif\u001b[0m \u001b[0mnew_len\u001b[0m \u001b[1;33m!=\u001b[0m \u001b[0mold_len\u001b[0m\u001b[1;33m:\u001b[0m\u001b[1;33m\u001b[0m\u001b[1;33m\u001b[0m\u001b[0m\n\u001b[0;32m     57\u001b[0m             raise ValueError(\n\u001b[1;32m---> 58\u001b[1;33m                 \u001b[1;34mf\"Length mismatch: Expected axis has {old_len} elements, new \"\u001b[0m\u001b[1;33m\u001b[0m\u001b[1;33m\u001b[0m\u001b[0m\n\u001b[0m\u001b[0;32m     59\u001b[0m                 \u001b[1;34mf\"values have {new_len} elements\"\u001b[0m\u001b[1;33m\u001b[0m\u001b[1;33m\u001b[0m\u001b[0m\n\u001b[0;32m     60\u001b[0m             )\n",
      "\u001b[1;31mValueError\u001b[0m: Length mismatch: Expected axis has 4 elements, new values have 1 elements"
     ]
    }
   ],
   "source": [
    "rfm_score = result[['최근성_R_R','빈도_F_F','총금액_M_M','Monetary']]\n",
    "rfm_score.columns = [['Recency_R,Frequency_F,Monetary_M,Monetary']]\n",
    "rfm_score"
   ]
  },
  {
   "cell_type": "code",
   "execution_count": 54,
   "id": "22eed63a",
   "metadata": {},
   "outputs": [],
   "source": [
    "from tqdm import tqdm\n",
    "\n",
    "def get_score(level, data, reverse = False):\n",
    "    '''\n",
    "    Description :\n",
    "    level안에 있는 원소를 기준으로\n",
    "    1 ~ len(level)+ 1 까지 점수를 부여하는 함수\n",
    "    \n",
    "    Parameters :\n",
    "    level = 튜플 또는 리스트 타입의 숫자형 데이터이며 반드시 오름차순으로 정렬되어 있어야함.\n",
    "    예 - [1,2,3,4,5] O, [5,4,3,2,1] X, [1,3,2,10,4] X \n",
    "    data = 점수를 부여할 데이터. 순회가능한(iterable) 데이터 형식\n",
    "    reverse = 점수가 높을 때 그에 해당하는 값을 낮게 설정하고 싶을 때 True\n",
    "    return :\n",
    "    점수를 담고 있는 리스트 반환\n",
    "    '''\n",
    "    score = [] \n",
    "    for j in range(len(data)): \n",
    "        for i in range(len(level)): \n",
    "            if data[j] <= level[i]: \n",
    "                score.append(i+1) \n",
    "                break \n",
    "            elif data[j] > max(level): \n",
    "                score.append(len(level)+1) \n",
    "                break \n",
    "            else: \n",
    "                continue\n",
    "    if reverse:\n",
    "        return [len(level)+2-x for x in score]\n",
    "    else:\n",
    "        return score "
   ]
  },
  {
   "cell_type": "code",
   "execution_count": 56,
   "id": "618c1474",
   "metadata": {},
   "outputs": [],
   "source": [
    "grid_number = 100 ## 눈금 개수, 너무 크게 잡으면 메모리 문제가 발생할 수 있음.\n",
    "weights = []\n",
    "for j in range(grid_number+1):\n",
    "    weights += [(i/grid_number,j/grid_number,(grid_number-i-j)/grid_number)\n",
    "                  for i in range(grid_number+1-j)]\n",
    "num_class = 5 ## 클래스 개수\n",
    "class_level = np.linspace(1,5,num_class+1)[1:-1] ## 클래스를 나누는 지점을 정한다.\n",
    "total_amount_of_sales = rfm_score['Monetary'].sum() ## 구매금액 총합 = 총 매출"
   ]
  },
  {
   "cell_type": "code",
   "execution_count": 57,
   "id": "ed5a06fb",
   "metadata": {},
   "outputs": [
    {
     "name": "stderr",
     "output_type": "stream",
     "text": [
      "[Finding Optimal weights]:   0%|                                                              | 0/5151 [00:00<?, ?it/s]\n"
     ]
    },
    {
     "ename": "KeyError",
     "evalue": "'Recency_R'",
     "output_type": "error",
     "traceback": [
      "\u001b[1;31m---------------------------------------------------------------------------\u001b[0m",
      "\u001b[1;31mKeyError\u001b[0m                                  Traceback (most recent call last)",
      "\u001b[1;32mC:\\Anaconda3\\lib\\site-packages\\pandas\\core\\indexes\\base.py\u001b[0m in \u001b[0;36mget_loc\u001b[1;34m(self, key, method, tolerance)\u001b[0m\n\u001b[0;32m   3360\u001b[0m             \u001b[1;32mtry\u001b[0m\u001b[1;33m:\u001b[0m\u001b[1;33m\u001b[0m\u001b[1;33m\u001b[0m\u001b[0m\n\u001b[1;32m-> 3361\u001b[1;33m                 \u001b[1;32mreturn\u001b[0m \u001b[0mself\u001b[0m\u001b[1;33m.\u001b[0m\u001b[0m_engine\u001b[0m\u001b[1;33m.\u001b[0m\u001b[0mget_loc\u001b[0m\u001b[1;33m(\u001b[0m\u001b[0mcasted_key\u001b[0m\u001b[1;33m)\u001b[0m\u001b[1;33m\u001b[0m\u001b[1;33m\u001b[0m\u001b[0m\n\u001b[0m\u001b[0;32m   3362\u001b[0m             \u001b[1;32mexcept\u001b[0m \u001b[0mKeyError\u001b[0m \u001b[1;32mas\u001b[0m \u001b[0merr\u001b[0m\u001b[1;33m:\u001b[0m\u001b[1;33m\u001b[0m\u001b[1;33m\u001b[0m\u001b[0m\n",
      "\u001b[1;32mC:\\Anaconda3\\lib\\site-packages\\pandas\\_libs\\index.pyx\u001b[0m in \u001b[0;36mpandas._libs.index.IndexEngine.get_loc\u001b[1;34m()\u001b[0m\n",
      "\u001b[1;32mC:\\Anaconda3\\lib\\site-packages\\pandas\\_libs\\index.pyx\u001b[0m in \u001b[0;36mpandas._libs.index.IndexEngine.get_loc\u001b[1;34m()\u001b[0m\n",
      "\u001b[1;32mpandas\\_libs\\hashtable_class_helper.pxi\u001b[0m in \u001b[0;36mpandas._libs.hashtable.PyObjectHashTable.get_item\u001b[1;34m()\u001b[0m\n",
      "\u001b[1;32mpandas\\_libs\\hashtable_class_helper.pxi\u001b[0m in \u001b[0;36mpandas._libs.hashtable.PyObjectHashTable.get_item\u001b[1;34m()\u001b[0m\n",
      "\u001b[1;31mKeyError\u001b[0m: 'Recency_R'",
      "\nThe above exception was the direct cause of the following exception:\n",
      "\u001b[1;31mKeyError\u001b[0m                                  Traceback (most recent call last)",
      "\u001b[1;32m~\\AppData\\Local\\Temp\\ipykernel_29412\\2525541846.py\u001b[0m in \u001b[0;36m<module>\u001b[1;34m\u001b[0m\n\u001b[0;32m      3\u001b[0m     \u001b[1;31m## 주어진 가중치에 따른 고객별 점수 계산\u001b[0m\u001b[1;33m\u001b[0m\u001b[1;33m\u001b[0m\u001b[1;33m\u001b[0m\u001b[0m\n\u001b[0;32m      4\u001b[0m     \u001b[0mscore\u001b[0m \u001b[1;33m=\u001b[0m \u001b[0mw\u001b[0m\u001b[1;33m[\u001b[0m\u001b[1;36m0\u001b[0m\u001b[1;33m]\u001b[0m\u001b[1;33m*\u001b[0m\u001b[0mrfm_score\u001b[0m\u001b[1;33m[\u001b[0m\u001b[1;34m'Recency_R'\u001b[0m\u001b[1;33m]\u001b[0m \u001b[1;33m+\u001b[0m\u001b[0;31m \u001b[0m\u001b[0;31m\\\u001b[0m\u001b[1;33m\u001b[0m\u001b[1;33m\u001b[0m\u001b[0m\n\u001b[1;32m----> 5\u001b[1;33m                         \u001b[0mw\u001b[0m\u001b[1;33m[\u001b[0m\u001b[1;36m1\u001b[0m\u001b[1;33m]\u001b[0m\u001b[1;33m*\u001b[0m\u001b[0mrfm_score\u001b[0m\u001b[1;33m[\u001b[0m\u001b[1;34m'Frequency_F'\u001b[0m\u001b[1;33m]\u001b[0m \u001b[1;33m+\u001b[0m\u001b[0;31m \u001b[0m\u001b[0;31m\\\u001b[0m\u001b[1;33m\u001b[0m\u001b[1;33m\u001b[0m\u001b[0m\n\u001b[0m\u001b[0;32m      6\u001b[0m                         \u001b[0mw\u001b[0m\u001b[1;33m[\u001b[0m\u001b[1;36m2\u001b[0m\u001b[1;33m]\u001b[0m\u001b[1;33m*\u001b[0m\u001b[0mrfm_score\u001b[0m\u001b[1;33m[\u001b[0m\u001b[1;34m'Monetary_M'\u001b[0m\u001b[1;33m]\u001b[0m\u001b[1;33m\u001b[0m\u001b[1;33m\u001b[0m\u001b[0m\n\u001b[0;32m      7\u001b[0m     \u001b[0mrfm_score\u001b[0m\u001b[1;33m[\u001b[0m\u001b[1;34m'Class'\u001b[0m\u001b[1;33m]\u001b[0m \u001b[1;33m=\u001b[0m \u001b[0mget_score\u001b[0m\u001b[1;33m(\u001b[0m\u001b[0mclass_level\u001b[0m\u001b[1;33m,\u001b[0m\u001b[0mscore\u001b[0m\u001b[1;33m,\u001b[0m\u001b[1;32mTrue\u001b[0m\u001b[1;33m)\u001b[0m \u001b[1;31m## 점수를 이용하여 고객별 등급 부여\u001b[0m\u001b[1;33m\u001b[0m\u001b[1;33m\u001b[0m\u001b[0m\n",
      "\u001b[1;32mC:\\Anaconda3\\lib\\site-packages\\pandas\\core\\frame.py\u001b[0m in \u001b[0;36m__getitem__\u001b[1;34m(self, key)\u001b[0m\n\u001b[0;32m   3456\u001b[0m             \u001b[1;32mif\u001b[0m \u001b[0mself\u001b[0m\u001b[1;33m.\u001b[0m\u001b[0mcolumns\u001b[0m\u001b[1;33m.\u001b[0m\u001b[0mnlevels\u001b[0m \u001b[1;33m>\u001b[0m \u001b[1;36m1\u001b[0m\u001b[1;33m:\u001b[0m\u001b[1;33m\u001b[0m\u001b[1;33m\u001b[0m\u001b[0m\n\u001b[0;32m   3457\u001b[0m                 \u001b[1;32mreturn\u001b[0m \u001b[0mself\u001b[0m\u001b[1;33m.\u001b[0m\u001b[0m_getitem_multilevel\u001b[0m\u001b[1;33m(\u001b[0m\u001b[0mkey\u001b[0m\u001b[1;33m)\u001b[0m\u001b[1;33m\u001b[0m\u001b[1;33m\u001b[0m\u001b[0m\n\u001b[1;32m-> 3458\u001b[1;33m             \u001b[0mindexer\u001b[0m \u001b[1;33m=\u001b[0m \u001b[0mself\u001b[0m\u001b[1;33m.\u001b[0m\u001b[0mcolumns\u001b[0m\u001b[1;33m.\u001b[0m\u001b[0mget_loc\u001b[0m\u001b[1;33m(\u001b[0m\u001b[0mkey\u001b[0m\u001b[1;33m)\u001b[0m\u001b[1;33m\u001b[0m\u001b[1;33m\u001b[0m\u001b[0m\n\u001b[0m\u001b[0;32m   3459\u001b[0m             \u001b[1;32mif\u001b[0m \u001b[0mis_integer\u001b[0m\u001b[1;33m(\u001b[0m\u001b[0mindexer\u001b[0m\u001b[1;33m)\u001b[0m\u001b[1;33m:\u001b[0m\u001b[1;33m\u001b[0m\u001b[1;33m\u001b[0m\u001b[0m\n\u001b[0;32m   3460\u001b[0m                 \u001b[0mindexer\u001b[0m \u001b[1;33m=\u001b[0m \u001b[1;33m[\u001b[0m\u001b[0mindexer\u001b[0m\u001b[1;33m]\u001b[0m\u001b[1;33m\u001b[0m\u001b[1;33m\u001b[0m\u001b[0m\n",
      "\u001b[1;32mC:\\Anaconda3\\lib\\site-packages\\pandas\\core\\indexes\\base.py\u001b[0m in \u001b[0;36mget_loc\u001b[1;34m(self, key, method, tolerance)\u001b[0m\n\u001b[0;32m   3361\u001b[0m                 \u001b[1;32mreturn\u001b[0m \u001b[0mself\u001b[0m\u001b[1;33m.\u001b[0m\u001b[0m_engine\u001b[0m\u001b[1;33m.\u001b[0m\u001b[0mget_loc\u001b[0m\u001b[1;33m(\u001b[0m\u001b[0mcasted_key\u001b[0m\u001b[1;33m)\u001b[0m\u001b[1;33m\u001b[0m\u001b[1;33m\u001b[0m\u001b[0m\n\u001b[0;32m   3362\u001b[0m             \u001b[1;32mexcept\u001b[0m \u001b[0mKeyError\u001b[0m \u001b[1;32mas\u001b[0m \u001b[0merr\u001b[0m\u001b[1;33m:\u001b[0m\u001b[1;33m\u001b[0m\u001b[1;33m\u001b[0m\u001b[0m\n\u001b[1;32m-> 3363\u001b[1;33m                 \u001b[1;32mraise\u001b[0m \u001b[0mKeyError\u001b[0m\u001b[1;33m(\u001b[0m\u001b[0mkey\u001b[0m\u001b[1;33m)\u001b[0m \u001b[1;32mfrom\u001b[0m \u001b[0merr\u001b[0m\u001b[1;33m\u001b[0m\u001b[1;33m\u001b[0m\u001b[0m\n\u001b[0m\u001b[0;32m   3364\u001b[0m \u001b[1;33m\u001b[0m\u001b[0m\n\u001b[0;32m   3365\u001b[0m         \u001b[1;32mif\u001b[0m \u001b[0mis_scalar\u001b[0m\u001b[1;33m(\u001b[0m\u001b[0mkey\u001b[0m\u001b[1;33m)\u001b[0m \u001b[1;32mand\u001b[0m \u001b[0misna\u001b[0m\u001b[1;33m(\u001b[0m\u001b[0mkey\u001b[0m\u001b[1;33m)\u001b[0m \u001b[1;32mand\u001b[0m \u001b[1;32mnot\u001b[0m \u001b[0mself\u001b[0m\u001b[1;33m.\u001b[0m\u001b[0mhasnans\u001b[0m\u001b[1;33m:\u001b[0m\u001b[1;33m\u001b[0m\u001b[1;33m\u001b[0m\u001b[0m\n",
      "\u001b[1;31mKeyError\u001b[0m: 'Recency_R'"
     ]
    }
   ],
   "source": [
    "max_std = 0 ## 표준편차 초기값\n",
    "for w in tqdm(weights,position=0,desc = '[Finding Optimal weights]'):\n",
    "    ## 주어진 가중치에 따른 고객별 점수 계산\n",
    "    score = w[0]*rfm_score['Recency_R'] + \\\n",
    "                        w[1]*rfm_score['Frequency_F'] + \\\n",
    "                        w[2]*rfm_score['Monetary_M'] \n",
    "    rfm_score['Class'] = get_score(class_level,score,True) ## 점수를 이용하여 고객별 등급 부여\n",
    "    ## 등급별로 구매금액을 집계한다.\n",
    "    grouped_rfm_score = rfm_score.groupby('Class')['Monetary'].sum().reset_index()\n",
    "        \n",
    "    ## 클래스별 구매금액을 총구매금액으로 나누어 클래스별 매출 기여도 계산\n",
    "    grouped_rfm_score['Monetary'] = grouped_rfm_score['Monetary'].map(lambda x : x/total_amount_of_sales)\n",
    "    std_sales = grouped_rfm_score['Monetary'].std() ## 매출 기여도의 표준편차 계산\n",
    "    if max_std <= std_sales:\n",
    "        max_std = std_sales ## 표준편차 최대값 업데이트\n",
    "        optimal_weights = w  ## 가중치 업데이트"
   ]
  }
 ],
 "metadata": {
  "kernelspec": {
   "display_name": "Python 3 (ipykernel)",
   "language": "python",
   "name": "python3"
  },
  "language_info": {
   "codemirror_mode": {
    "name": "ipython",
    "version": 3
   },
   "file_extension": ".py",
   "mimetype": "text/x-python",
   "name": "python",
   "nbconvert_exporter": "python",
   "pygments_lexer": "ipython3",
   "version": "3.7.13"
  },
  "varInspector": {
   "cols": {
    "lenName": 16,
    "lenType": 16,
    "lenVar": 40
   },
   "kernels_config": {
    "python": {
     "delete_cmd_postfix": "",
     "delete_cmd_prefix": "del ",
     "library": "var_list.py",
     "varRefreshCmd": "print(var_dic_list())"
    },
    "r": {
     "delete_cmd_postfix": ") ",
     "delete_cmd_prefix": "rm(",
     "library": "var_list.r",
     "varRefreshCmd": "cat(var_dic_list()) "
    }
   },
   "types_to_exclude": [
    "module",
    "function",
    "builtin_function_or_method",
    "instance",
    "_Feature"
   ],
   "window_display": false
  }
 },
 "nbformat": 4,
 "nbformat_minor": 5
}
