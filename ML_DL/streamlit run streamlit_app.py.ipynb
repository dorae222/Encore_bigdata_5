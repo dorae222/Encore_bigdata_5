{
 "cells": [
  {
   "cell_type": "code",
   "execution_count": null,
   "id": "706f0291",
   "metadata": {},
   "outputs": [],
   "source": [
    "import streamlit as st\n",
    "import joblib\n",
    "import numpy as np\n",
    "\n",
    "# 헤드라인\n",
    "st.write(\"# 보험료 예측\")\n",
    "\n",
    "# 첫번째 행\n",
    "r1_col1, r1_col2, r1_col3 = st.columns(3)\n",
    "\n",
    "age = r1_col1.number_input(\"age\", step=1, value=23)\n",
    "\n",
    "bmi = r1_col2.number_input(\"bmi\", value=34.40)\n",
    "\n",
    "children = r1_col3.number_input(\"children\", step=1, value=0)\n",
    "\n",
    "# 두번째 행\n",
    "r2_col1, r2_col2, r2_col3 = st.columns(3)\n",
    "\n",
    "r2_col1.write(\"smoker\")\n",
    "smoker = r2_col1.checkbox(\"\")\n",
    "\n",
    "sex_option = (\"male\", \"female\")\n",
    "sex = r2_col2.selectbox(\"sex\", sex_option)\n",
    "is_male = sex_option[0] == sex\n",
    "\n",
    "region_option = ('southwest', 'southeast', 'northwest', 'northeast')\n",
    "region = r2_col3.selectbox(\"region\", region_option)\n",
    "is_southwest = region_option[0] == region\n",
    "is_southeast = region_option[1] == region\n",
    "is_northwest = region_option[2] == region\n",
    "\n",
    "# 예측 버튼\n",
    "predict_button = st.button(\"예측\")\n",
    "\n",
    "st.write(\"---\")\n",
    "\n",
    "# 예측 결과\n",
    "if predict_button:\n",
    "    model = joblib.load('first_model.pkl')\n",
    "\n",
    "    pred = model.predict(np.array([[age, bmi, children, smoker * 1,\n",
    "        is_male * 1, is_northwest * 1, is_southeast * 1, is_southwest * 1]]))\n",
    "\n",
    "    st.metric(\"예측 보험료\", pred[0])"
   ]
  }
 ],
 "metadata": {
  "kernelspec": {
   "display_name": "Python 3 (ipykernel)",
   "language": "python",
   "name": "python3"
  },
  "language_info": {
   "codemirror_mode": {
    "name": "ipython",
    "version": 3
   },
   "file_extension": ".py",
   "mimetype": "text/x-python",
   "name": "python",
   "nbconvert_exporter": "python",
   "pygments_lexer": "ipython3",
   "version": "3.9.12"
  }
 },
 "nbformat": 4,
 "nbformat_minor": 5
}
