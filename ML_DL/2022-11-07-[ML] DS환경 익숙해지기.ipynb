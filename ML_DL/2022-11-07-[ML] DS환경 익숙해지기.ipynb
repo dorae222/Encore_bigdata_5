{
 "cells": [
  {
   "cell_type": "markdown",
   "id": "a32e5e1d",
   "metadata": {},
   "source": [
    "# \"[ML] DS환경 익숙해지기\"\n",
    "> \"COLAB환경과 주피터 노트북 환경\"\n",
    "\n",
    "- toc: true\n",
    "- branch: master\n",
    "- badges: true\n",
    "- comments: true\n",
    "- categories: [jupyter, colab]\n",
    "- author: 도형준"
   ]
  },
  {
   "cell_type": "markdown",
   "id": "6a82ad0f",
   "metadata": {},
   "source": [
    "# DS 환경 익숙해지기"
   ]
  },
  {
   "cell_type": "markdown",
   "id": "2a20d167",
   "metadata": {},
   "source": [
    "## Colab에 익숙해지기"
   ]
  },
  {
   "cell_type": "code",
   "execution_count": 1,
   "id": "331326c0",
   "metadata": {},
   "outputs": [
    {
     "name": "stdout",
     "output_type": "stream",
     "text": [
      "Python 3.9.12\n"
     ]
    }
   ],
   "source": [
    "# 리눅스 기반의 경우, !를 사용해 명령어 사용 가능\n",
    "!python --version"
   ]
  },
  {
   "cell_type": "code",
   "execution_count": 2,
   "id": "4f027d95",
   "metadata": {
    "scrolled": true
   },
   "outputs": [
    {
     "name": "stderr",
     "output_type": "stream",
     "text": [
      "\n",
      "Usage:   \n",
      "  pip install [options] <requirement specifier> [package-index-options] ...\n",
      "  pip install [options] -r <requirements file> [package-index-options] ...\n",
      "  pip install [options] [-e] <vcs project url> ...\n",
      "  pip install [options] [-e] <local project path> ...\n",
      "  pip install [options] <archive url/path> ...\n",
      "\n",
      "no such option: --quiet를\n"
     ]
    }
   ],
   "source": [
    "!pip install yfinance --quiet # --quiet를 통해, 불필요한 정보 제거"
   ]
  },
  {
   "cell_type": "code",
   "execution_count": 3,
   "id": "5205091d",
   "metadata": {},
   "outputs": [
    {
     "data": {
      "text/html": [
       "<div>\n",
       "<style scoped>\n",
       "    .dataframe tbody tr th:only-of-type {\n",
       "        vertical-align: middle;\n",
       "    }\n",
       "\n",
       "    .dataframe tbody tr th {\n",
       "        vertical-align: top;\n",
       "    }\n",
       "\n",
       "    .dataframe thead th {\n",
       "        text-align: right;\n",
       "    }\n",
       "</style>\n",
       "<table border=\"1\" class=\"dataframe\">\n",
       "  <thead>\n",
       "    <tr style=\"text-align: right;\">\n",
       "      <th></th>\n",
       "      <th>Open</th>\n",
       "      <th>High</th>\n",
       "      <th>Low</th>\n",
       "      <th>Close</th>\n",
       "      <th>Volume</th>\n",
       "      <th>Dividends</th>\n",
       "      <th>Stock Splits</th>\n",
       "    </tr>\n",
       "    <tr>\n",
       "      <th>Date</th>\n",
       "      <th></th>\n",
       "      <th></th>\n",
       "      <th></th>\n",
       "      <th></th>\n",
       "      <th></th>\n",
       "      <th></th>\n",
       "      <th></th>\n",
       "    </tr>\n",
       "  </thead>\n",
       "  <tbody>\n",
       "    <tr>\n",
       "      <th>2022-10-31 00:00:00-04:00</th>\n",
       "      <td>152.906350</td>\n",
       "      <td>153.984563</td>\n",
       "      <td>151.668398</td>\n",
       "      <td>153.086044</td>\n",
       "      <td>97943200</td>\n",
       "      <td>0.00</td>\n",
       "      <td>0</td>\n",
       "    </tr>\n",
       "    <tr>\n",
       "      <th>2022-11-01 00:00:00-04:00</th>\n",
       "      <td>154.823169</td>\n",
       "      <td>155.192551</td>\n",
       "      <td>148.883026</td>\n",
       "      <td>150.400497</td>\n",
       "      <td>80379300</td>\n",
       "      <td>0.00</td>\n",
       "      <td>0</td>\n",
       "    </tr>\n",
       "    <tr>\n",
       "      <th>2022-11-02 00:00:00-04:00</th>\n",
       "      <td>148.703316</td>\n",
       "      <td>151.917985</td>\n",
       "      <td>144.759861</td>\n",
       "      <td>144.789810</td>\n",
       "      <td>93604600</td>\n",
       "      <td>0.00</td>\n",
       "      <td>0</td>\n",
       "    </tr>\n",
       "    <tr>\n",
       "      <th>2022-11-03 00:00:00-04:00</th>\n",
       "      <td>141.824736</td>\n",
       "      <td>142.563516</td>\n",
       "      <td>138.520220</td>\n",
       "      <td>138.650009</td>\n",
       "      <td>97918500</td>\n",
       "      <td>0.00</td>\n",
       "      <td>0</td>\n",
       "    </tr>\n",
       "    <tr>\n",
       "      <th>2022-11-04 00:00:00-04:00</th>\n",
       "      <td>142.089996</td>\n",
       "      <td>142.669998</td>\n",
       "      <td>134.380005</td>\n",
       "      <td>138.380005</td>\n",
       "      <td>140716700</td>\n",
       "      <td>0.23</td>\n",
       "      <td>0</td>\n",
       "    </tr>\n",
       "  </tbody>\n",
       "</table>\n",
       "</div>"
      ],
      "text/plain": [
       "                                 Open        High         Low       Close  \\\n",
       "Date                                                                        \n",
       "2022-10-31 00:00:00-04:00  152.906350  153.984563  151.668398  153.086044   \n",
       "2022-11-01 00:00:00-04:00  154.823169  155.192551  148.883026  150.400497   \n",
       "2022-11-02 00:00:00-04:00  148.703316  151.917985  144.759861  144.789810   \n",
       "2022-11-03 00:00:00-04:00  141.824736  142.563516  138.520220  138.650009   \n",
       "2022-11-04 00:00:00-04:00  142.089996  142.669998  134.380005  138.380005   \n",
       "\n",
       "                              Volume  Dividends  Stock Splits  \n",
       "Date                                                           \n",
       "2022-10-31 00:00:00-04:00   97943200       0.00             0  \n",
       "2022-11-01 00:00:00-04:00   80379300       0.00             0  \n",
       "2022-11-02 00:00:00-04:00   93604600       0.00             0  \n",
       "2022-11-03 00:00:00-04:00   97918500       0.00             0  \n",
       "2022-11-04 00:00:00-04:00  140716700       0.23             0  "
      ]
     },
     "execution_count": 3,
     "metadata": {},
     "output_type": "execute_result"
    }
   ],
   "source": [
    "import yfinance as yf\n",
    "\n",
    "history = yf.Ticker('AAPL').history()\n",
    "history.tail()"
   ]
  },
  {
   "cell_type": "code",
   "execution_count": 4,
   "id": "b3237390",
   "metadata": {},
   "outputs": [
    {
     "data": {
      "text/html": [
       "<div>\n",
       "<style scoped>\n",
       "    .dataframe tbody tr th:only-of-type {\n",
       "        vertical-align: middle;\n",
       "    }\n",
       "\n",
       "    .dataframe tbody tr th {\n",
       "        vertical-align: top;\n",
       "    }\n",
       "\n",
       "    .dataframe thead th {\n",
       "        text-align: right;\n",
       "    }\n",
       "</style>\n",
       "<table border=\"1\" class=\"dataframe\">\n",
       "  <thead>\n",
       "    <tr style=\"text-align: right;\">\n",
       "      <th></th>\n",
       "      <th>Open</th>\n",
       "      <th>High</th>\n",
       "      <th>Low</th>\n",
       "      <th>Close</th>\n",
       "      <th>Volume</th>\n",
       "      <th>Dividends</th>\n",
       "      <th>Stock Splits</th>\n",
       "    </tr>\n",
       "    <tr>\n",
       "      <th>Date</th>\n",
       "      <th></th>\n",
       "      <th></th>\n",
       "      <th></th>\n",
       "      <th></th>\n",
       "      <th></th>\n",
       "      <th></th>\n",
       "      <th></th>\n",
       "    </tr>\n",
       "  </thead>\n",
       "  <tbody>\n",
       "    <tr>\n",
       "      <th>2022-10-31 00:00:00-04:00</th>\n",
       "      <td>152.91</td>\n",
       "      <td>153.98</td>\n",
       "      <td>151.67</td>\n",
       "      <td>153.09</td>\n",
       "      <td>97943200</td>\n",
       "      <td>0.00</td>\n",
       "      <td>0</td>\n",
       "    </tr>\n",
       "    <tr>\n",
       "      <th>2022-11-01 00:00:00-04:00</th>\n",
       "      <td>154.82</td>\n",
       "      <td>155.19</td>\n",
       "      <td>148.88</td>\n",
       "      <td>150.40</td>\n",
       "      <td>80379300</td>\n",
       "      <td>0.00</td>\n",
       "      <td>0</td>\n",
       "    </tr>\n",
       "    <tr>\n",
       "      <th>2022-11-02 00:00:00-04:00</th>\n",
       "      <td>148.70</td>\n",
       "      <td>151.92</td>\n",
       "      <td>144.76</td>\n",
       "      <td>144.79</td>\n",
       "      <td>93604600</td>\n",
       "      <td>0.00</td>\n",
       "      <td>0</td>\n",
       "    </tr>\n",
       "    <tr>\n",
       "      <th>2022-11-03 00:00:00-04:00</th>\n",
       "      <td>141.82</td>\n",
       "      <td>142.56</td>\n",
       "      <td>138.52</td>\n",
       "      <td>138.65</td>\n",
       "      <td>97918500</td>\n",
       "      <td>0.00</td>\n",
       "      <td>0</td>\n",
       "    </tr>\n",
       "    <tr>\n",
       "      <th>2022-11-04 00:00:00-04:00</th>\n",
       "      <td>142.09</td>\n",
       "      <td>142.67</td>\n",
       "      <td>134.38</td>\n",
       "      <td>138.38</td>\n",
       "      <td>140716700</td>\n",
       "      <td>0.23</td>\n",
       "      <td>0</td>\n",
       "    </tr>\n",
       "  </tbody>\n",
       "</table>\n",
       "</div>"
      ],
      "text/plain": [
       "                            Open   High    Low  Close     Volume  Dividends  \\\n",
       "Date                                                                          \n",
       "2022-10-31 00:00:00-04:00 152.91 153.98 151.67 153.09   97943200       0.00   \n",
       "2022-11-01 00:00:00-04:00 154.82 155.19 148.88 150.40   80379300       0.00   \n",
       "2022-11-02 00:00:00-04:00 148.70 151.92 144.76 144.79   93604600       0.00   \n",
       "2022-11-03 00:00:00-04:00 141.82 142.56 138.52 138.65   97918500       0.00   \n",
       "2022-11-04 00:00:00-04:00 142.09 142.67 134.38 138.38  140716700       0.23   \n",
       "\n",
       "                           Stock Splits  \n",
       "Date                                     \n",
       "2022-10-31 00:00:00-04:00             0  \n",
       "2022-11-01 00:00:00-04:00             0  \n",
       "2022-11-02 00:00:00-04:00             0  \n",
       "2022-11-03 00:00:00-04:00             0  \n",
       "2022-11-04 00:00:00-04:00             0  "
      ]
     },
     "execution_count": 4,
     "metadata": {},
     "output_type": "execute_result"
    }
   ],
   "source": [
    "import pandas as pd\n",
    "pd.options.display.float_format = '{:.2f}'.format\n",
    "history.tail()"
   ]
  },
  {
   "cell_type": "code",
   "execution_count": 5,
   "id": "8aed7d7c",
   "metadata": {},
   "outputs": [
    {
     "data": {
      "text/html": [
       "<div>\n",
       "<style scoped>\n",
       "    .dataframe tbody tr th:only-of-type {\n",
       "        vertical-align: middle;\n",
       "    }\n",
       "\n",
       "    .dataframe tbody tr th {\n",
       "        vertical-align: top;\n",
       "    }\n",
       "\n",
       "    .dataframe thead th {\n",
       "        text-align: right;\n",
       "    }\n",
       "</style>\n",
       "<table border=\"1\" class=\"dataframe\">\n",
       "  <thead>\n",
       "    <tr style=\"text-align: right;\">\n",
       "      <th></th>\n",
       "      <th>Open</th>\n",
       "      <th>High</th>\n",
       "      <th>Low</th>\n",
       "      <th>Close</th>\n",
       "      <th>Volume</th>\n",
       "      <th>Dividends</th>\n",
       "      <th>Stock Splits</th>\n",
       "    </tr>\n",
       "  </thead>\n",
       "  <tbody>\n",
       "    <tr>\n",
       "      <th>2022-10-31</th>\n",
       "      <td>152.91</td>\n",
       "      <td>153.98</td>\n",
       "      <td>151.67</td>\n",
       "      <td>153.09</td>\n",
       "      <td>97943200</td>\n",
       "      <td>0.00</td>\n",
       "      <td>0</td>\n",
       "    </tr>\n",
       "    <tr>\n",
       "      <th>2022-11-01</th>\n",
       "      <td>154.82</td>\n",
       "      <td>155.19</td>\n",
       "      <td>148.88</td>\n",
       "      <td>150.40</td>\n",
       "      <td>80379300</td>\n",
       "      <td>0.00</td>\n",
       "      <td>0</td>\n",
       "    </tr>\n",
       "    <tr>\n",
       "      <th>2022-11-02</th>\n",
       "      <td>148.70</td>\n",
       "      <td>151.92</td>\n",
       "      <td>144.76</td>\n",
       "      <td>144.79</td>\n",
       "      <td>93604600</td>\n",
       "      <td>0.00</td>\n",
       "      <td>0</td>\n",
       "    </tr>\n",
       "    <tr>\n",
       "      <th>2022-11-03</th>\n",
       "      <td>141.82</td>\n",
       "      <td>142.56</td>\n",
       "      <td>138.52</td>\n",
       "      <td>138.65</td>\n",
       "      <td>97918500</td>\n",
       "      <td>0.00</td>\n",
       "      <td>0</td>\n",
       "    </tr>\n",
       "    <tr>\n",
       "      <th>2022-11-04</th>\n",
       "      <td>142.09</td>\n",
       "      <td>142.67</td>\n",
       "      <td>134.38</td>\n",
       "      <td>138.38</td>\n",
       "      <td>140716700</td>\n",
       "      <td>0.23</td>\n",
       "      <td>0</td>\n",
       "    </tr>\n",
       "  </tbody>\n",
       "</table>\n",
       "</div>"
      ],
      "text/plain": [
       "             Open   High    Low  Close     Volume  Dividends  Stock Splits\n",
       "2022-10-31 152.91 153.98 151.67 153.09   97943200       0.00             0\n",
       "2022-11-01 154.82 155.19 148.88 150.40   80379300       0.00             0\n",
       "2022-11-02 148.70 151.92 144.76 144.79   93604600       0.00             0\n",
       "2022-11-03 141.82 142.56 138.52 138.65   97918500       0.00             0\n",
       "2022-11-04 142.09 142.67 134.38 138.38  140716700       0.23             0"
      ]
     },
     "execution_count": 5,
     "metadata": {},
     "output_type": "execute_result"
    }
   ],
   "source": [
    "history.index = history.index.date\n",
    "history.tail()"
   ]
  },
  {
   "cell_type": "code",
   "execution_count": 6,
   "id": "903d07ca",
   "metadata": {},
   "outputs": [
    {
     "name": "stdout",
     "output_type": "stream",
     "text": [
      "<class 'pandas.core.frame.DataFrame'>\n",
      "Index: 23 entries, 2022-10-05 to 2022-11-04\n",
      "Data columns (total 7 columns):\n",
      " #   Column        Non-Null Count  Dtype  \n",
      "---  ------        --------------  -----  \n",
      " 0   Open          23 non-null     float64\n",
      " 1   High          23 non-null     float64\n",
      " 2   Low           23 non-null     float64\n",
      " 3   Close         23 non-null     float64\n",
      " 4   Volume        23 non-null     int64  \n",
      " 5   Dividends     23 non-null     float64\n",
      " 6   Stock Splits  23 non-null     int64  \n",
      "dtypes: float64(5), int64(2)\n",
      "memory usage: 1.4+ KB\n"
     ]
    }
   ],
   "source": [
    "history.info()"
   ]
  },
  {
   "cell_type": "code",
   "execution_count": 7,
   "id": "4ef7b9f6",
   "metadata": {},
   "outputs": [
    {
     "data": {
      "text/plain": [
       "2022-10-31   153.09\n",
       "2022-11-01   150.40\n",
       "2022-11-02   144.79\n",
       "2022-11-03   138.65\n",
       "2022-11-04   138.38\n",
       "Name: Close, dtype: float64"
      ]
     },
     "execution_count": 7,
     "metadata": {},
     "output_type": "execute_result"
    }
   ],
   "source": [
    "history.Close.tail()"
   ]
  },
  {
   "cell_type": "code",
   "execution_count": 8,
   "id": "5c89898e",
   "metadata": {},
   "outputs": [
    {
     "data": {
      "text/plain": [
       "2022-10-31   153.09\n",
       "2022-11-01   150.40\n",
       "2022-11-02   144.79\n",
       "2022-11-03   138.65\n",
       "2022-11-04   138.38\n",
       "Name: Close, dtype: float64"
      ]
     },
     "execution_count": 8,
     "metadata": {},
     "output_type": "execute_result"
    }
   ],
   "source": [
    "history['Close'].tail()"
   ]
  },
  {
   "cell_type": "code",
   "execution_count": 9,
   "id": "07db8809",
   "metadata": {},
   "outputs": [
    {
     "data": {
      "text/plain": [
       "Rolling [window=5,center=False,axis=0,method=single]"
      ]
     },
     "execution_count": 9,
     "metadata": {},
     "output_type": "execute_result"
    }
   ],
   "source": [
    "history.rolling(5)"
   ]
  },
  {
   "cell_type": "code",
   "execution_count": 10,
   "id": "bdaae48d",
   "metadata": {},
   "outputs": [
    {
     "data": {
      "text/html": [
       "<div>\n",
       "<style scoped>\n",
       "    .dataframe tbody tr th:only-of-type {\n",
       "        vertical-align: middle;\n",
       "    }\n",
       "\n",
       "    .dataframe tbody tr th {\n",
       "        vertical-align: top;\n",
       "    }\n",
       "\n",
       "    .dataframe thead th {\n",
       "        text-align: right;\n",
       "    }\n",
       "</style>\n",
       "<table border=\"1\" class=\"dataframe\">\n",
       "  <thead>\n",
       "    <tr style=\"text-align: right;\">\n",
       "      <th></th>\n",
       "      <th>Open</th>\n",
       "      <th>High</th>\n",
       "      <th>Low</th>\n",
       "      <th>Close</th>\n",
       "      <th>Volume</th>\n",
       "      <th>Dividends</th>\n",
       "      <th>Stock Splits</th>\n",
       "    </tr>\n",
       "  </thead>\n",
       "  <tbody>\n",
       "    <tr>\n",
       "      <th>2022-10-31</th>\n",
       "      <td>152.91</td>\n",
       "      <td>157.24</td>\n",
       "      <td>151.67</td>\n",
       "      <td>155.48</td>\n",
       "      <td>164762400.00</td>\n",
       "      <td>0.00</td>\n",
       "      <td>0.00</td>\n",
       "    </tr>\n",
       "    <tr>\n",
       "      <th>2022-11-01</th>\n",
       "      <td>154.82</td>\n",
       "      <td>157.24</td>\n",
       "      <td>151.67</td>\n",
       "      <td>155.48</td>\n",
       "      <td>164762400.00</td>\n",
       "      <td>0.00</td>\n",
       "      <td>0.00</td>\n",
       "    </tr>\n",
       "    <tr>\n",
       "      <th>2022-11-02</th>\n",
       "      <td>154.82</td>\n",
       "      <td>157.24</td>\n",
       "      <td>151.67</td>\n",
       "      <td>155.48</td>\n",
       "      <td>164762400.00</td>\n",
       "      <td>0.00</td>\n",
       "      <td>0.00</td>\n",
       "    </tr>\n",
       "    <tr>\n",
       "      <th>2022-11-03</th>\n",
       "      <td>154.82</td>\n",
       "      <td>157.24</td>\n",
       "      <td>151.67</td>\n",
       "      <td>155.48</td>\n",
       "      <td>164762400.00</td>\n",
       "      <td>0.00</td>\n",
       "      <td>0.00</td>\n",
       "    </tr>\n",
       "    <tr>\n",
       "      <th>2022-11-04</th>\n",
       "      <td>154.82</td>\n",
       "      <td>155.19</td>\n",
       "      <td>151.67</td>\n",
       "      <td>153.09</td>\n",
       "      <td>140716700.00</td>\n",
       "      <td>0.23</td>\n",
       "      <td>0.00</td>\n",
       "    </tr>\n",
       "  </tbody>\n",
       "</table>\n",
       "</div>"
      ],
      "text/plain": [
       "             Open   High    Low  Close       Volume  Dividends  Stock Splits\n",
       "2022-10-31 152.91 157.24 151.67 155.48 164762400.00       0.00          0.00\n",
       "2022-11-01 154.82 157.24 151.67 155.48 164762400.00       0.00          0.00\n",
       "2022-11-02 154.82 157.24 151.67 155.48 164762400.00       0.00          0.00\n",
       "2022-11-03 154.82 157.24 151.67 155.48 164762400.00       0.00          0.00\n",
       "2022-11-04 154.82 155.19 151.67 153.09 140716700.00       0.23          0.00"
      ]
     },
     "execution_count": 10,
     "metadata": {},
     "output_type": "execute_result"
    }
   ],
   "source": [
    "history.rolling(5).max().tail()"
   ]
  },
  {
   "cell_type": "code",
   "execution_count": 11,
   "id": "43b31de4",
   "metadata": {},
   "outputs": [
    {
     "name": "stderr",
     "output_type": "stream",
     "text": [
      "WARNING: Ignoring invalid distribution -lotly (c:\\users\\dhj98\\anaconda3\\lib\\site-packages)\n",
      "WARNING: Ignoring invalid distribution -lotly (c:\\users\\dhj98\\anaconda3\\lib\\site-packages)\n",
      "WARNING: Ignoring invalid distribution -lotly (c:\\users\\dhj98\\anaconda3\\lib\\site-packages)\n",
      "WARNING: Ignoring invalid distribution -lotly (c:\\users\\dhj98\\anaconda3\\lib\\site-packages)\n",
      "WARNING: Ignoring invalid distribution -lotly (c:\\users\\dhj98\\anaconda3\\lib\\site-packages)\n",
      "WARNING: Ignoring invalid distribution -lotly (c:\\users\\dhj98\\anaconda3\\lib\\site-packages)\n"
     ]
    }
   ],
   "source": [
    "!pip install pyupbit --quiet"
   ]
  },
  {
   "cell_type": "code",
   "execution_count": 13,
   "id": "4cd22609",
   "metadata": {},
   "outputs": [
    {
     "data": {
      "text/html": [
       "<div>\n",
       "<style scoped>\n",
       "    .dataframe tbody tr th:only-of-type {\n",
       "        vertical-align: middle;\n",
       "    }\n",
       "\n",
       "    .dataframe tbody tr th {\n",
       "        vertical-align: top;\n",
       "    }\n",
       "\n",
       "    .dataframe thead th {\n",
       "        text-align: right;\n",
       "    }\n",
       "</style>\n",
       "<table border=\"1\" class=\"dataframe\">\n",
       "  <thead>\n",
       "    <tr style=\"text-align: right;\">\n",
       "      <th></th>\n",
       "      <th>open</th>\n",
       "      <th>high</th>\n",
       "      <th>low</th>\n",
       "      <th>close</th>\n",
       "      <th>volume</th>\n",
       "      <th>value</th>\n",
       "    </tr>\n",
       "  </thead>\n",
       "  <tbody>\n",
       "    <tr>\n",
       "      <th>2022-11-03 09:00:00</th>\n",
       "      <td>2157000.00</td>\n",
       "      <td>2207000.00</td>\n",
       "      <td>2156000.00</td>\n",
       "      <td>2176000.00</td>\n",
       "      <td>25689.21</td>\n",
       "      <td>56130564664.83</td>\n",
       "    </tr>\n",
       "    <tr>\n",
       "      <th>2022-11-04 09:00:00</th>\n",
       "      <td>2175000.00</td>\n",
       "      <td>2330000.00</td>\n",
       "      <td>2173000.00</td>\n",
       "      <td>2288000.00</td>\n",
       "      <td>58125.29</td>\n",
       "      <td>131111476196.02</td>\n",
       "    </tr>\n",
       "    <tr>\n",
       "      <th>2022-11-05 09:00:00</th>\n",
       "      <td>2286000.00</td>\n",
       "      <td>2319000.00</td>\n",
       "      <td>2267000.00</td>\n",
       "      <td>2276000.00</td>\n",
       "      <td>25680.01</td>\n",
       "      <td>58829616868.65</td>\n",
       "    </tr>\n",
       "    <tr>\n",
       "      <th>2022-11-06 09:00:00</th>\n",
       "      <td>2276000.00</td>\n",
       "      <td>2291000.00</td>\n",
       "      <td>2207000.00</td>\n",
       "      <td>2213000.00</td>\n",
       "      <td>19443.53</td>\n",
       "      <td>43871761578.05</td>\n",
       "    </tr>\n",
       "    <tr>\n",
       "      <th>2022-11-07 09:00:00</th>\n",
       "      <td>2210000.00</td>\n",
       "      <td>2247000.00</td>\n",
       "      <td>2207000.00</td>\n",
       "      <td>2231000.00</td>\n",
       "      <td>5488.63</td>\n",
       "      <td>12211575349.15</td>\n",
       "    </tr>\n",
       "  </tbody>\n",
       "</table>\n",
       "</div>"
      ],
      "text/plain": [
       "                          open       high        low      close   volume  \\\n",
       "2022-11-03 09:00:00 2157000.00 2207000.00 2156000.00 2176000.00 25689.21   \n",
       "2022-11-04 09:00:00 2175000.00 2330000.00 2173000.00 2288000.00 58125.29   \n",
       "2022-11-05 09:00:00 2286000.00 2319000.00 2267000.00 2276000.00 25680.01   \n",
       "2022-11-06 09:00:00 2276000.00 2291000.00 2207000.00 2213000.00 19443.53   \n",
       "2022-11-07 09:00:00 2210000.00 2247000.00 2207000.00 2231000.00  5488.63   \n",
       "\n",
       "                              value  \n",
       "2022-11-03 09:00:00  56130564664.83  \n",
       "2022-11-04 09:00:00 131111476196.02  \n",
       "2022-11-05 09:00:00  58829616868.65  \n",
       "2022-11-06 09:00:00  43871761578.05  \n",
       "2022-11-07 09:00:00  12211575349.15  "
      ]
     },
     "execution_count": 13,
     "metadata": {},
     "output_type": "execute_result"
    }
   ],
   "source": [
    "import pyupbit\n",
    "pyupbit.get_ohlcv('KRW-ETH').tail()"
   ]
  },
  {
   "cell_type": "markdown",
   "id": "98b5d5c4",
   "metadata": {},
   "source": [
    "- https://pypi.org/ # 파이썬 라이브러리 참고"
   ]
  }
 ],
 "metadata": {
  "kernelspec": {
   "display_name": "Python 3 (ipykernel)",
   "language": "python",
   "name": "python3"
  },
  "language_info": {
   "codemirror_mode": {
    "name": "ipython",
    "version": 3
   },
   "file_extension": ".py",
   "mimetype": "text/x-python",
   "name": "python",
   "nbconvert_exporter": "python",
   "pygments_lexer": "ipython3",
   "version": "3.9.12"
  }
 },
 "nbformat": 4,
 "nbformat_minor": 5
}
