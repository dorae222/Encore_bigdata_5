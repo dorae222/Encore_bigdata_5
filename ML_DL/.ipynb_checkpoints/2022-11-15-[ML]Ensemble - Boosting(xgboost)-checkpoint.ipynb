{
 "cells": [
  {
   "cell_type": "markdown",
   "metadata": {
    "id": "HGsH-m5qC7pe"
   },
   "source": [
    "# \"[ML] Ensemble - Boosting(xgboost)\"\n",
    "> \"커플 성사 여부 예측하기\"\n",
    "\n",
    "- toc: true\n",
    "- branch: master\n",
    "- badges: true\n",
    "- comments: true\n",
    "- categories: [Ensemble,Boosting,xgboost]\n",
    "- author: 도형준"
   ]
  },
  {
   "cell_type": "markdown",
   "metadata": {
    "id": "4GZQE28PC9nY"
   },
   "source": [
    "# 커플 성사 여부 예측하기"
   ]
  },
  {
   "cell_type": "markdown",
   "metadata": {
    "id": "8bKRb52NDG0x"
   },
   "source": [
    "## 데이터 적재"
   ]
  },
  {
   "cell_type": "code",
   "execution_count": 1,
   "metadata": {
    "executionInfo": {
     "elapsed": 403,
     "status": "ok",
     "timestamp": 1668495896965,
     "user": {
      "displayName": "도형준",
      "userId": "02502359465021973562"
     },
     "user_tz": -540
    },
    "id": "itMjDZXSDNuG"
   },
   "outputs": [],
   "source": [
    "import pandas as pd\n",
    "import numpy as np\n",
    "import matplotlib.pyplot as plt\n",
    "import seaborn as sns"
   ]
  },
  {
   "cell_type": "code",
   "execution_count": 2,
   "metadata": {
    "executionInfo": {
     "elapsed": 4,
     "status": "ok",
     "timestamp": 1668495897502,
     "user": {
      "displayName": "도형준",
      "userId": "02502359465021973562"
     },
     "user_tz": -540
    },
    "id": "uiXo1KjpC7SA"
   },
   "outputs": [],
   "source": [
    "file_url = 'https://raw.githubusercontent.com/bigdata-young/bigdata_16th/main/data/dating.csv'\n",
    "df = pd.read_csv(file_url)"
   ]
  },
  {
   "cell_type": "code",
   "execution_count": 3,
   "metadata": {
    "colab": {
     "base_uri": "https://localhost:8080/",
     "height": 386
    },
    "executionInfo": {
     "elapsed": 3,
     "status": "ok",
     "timestamp": 1668495897502,
     "user": {
      "displayName": "도형준",
      "userId": "02502359465021973562"
     },
     "user_tz": -540
    },
    "id": "eP6GOZtfDH8O",
    "outputId": "e88beaa5-7f1b-46ba-f6c9-d90add0a5e84"
   },
   "outputs": [
    {
     "data": {
      "text/html": [
       "<div>\n",
       "<style scoped>\n",
       "    .dataframe tbody tr th:only-of-type {\n",
       "        vertical-align: middle;\n",
       "    }\n",
       "\n",
       "    .dataframe tbody tr th {\n",
       "        vertical-align: top;\n",
       "    }\n",
       "\n",
       "    .dataframe thead th {\n",
       "        text-align: right;\n",
       "    }\n",
       "</style>\n",
       "<table border=\"1\" class=\"dataframe\">\n",
       "  <thead>\n",
       "    <tr style=\"text-align: right;\">\n",
       "      <th></th>\n",
       "      <th>has_null</th>\n",
       "      <th>gender</th>\n",
       "      <th>age</th>\n",
       "      <th>age_o</th>\n",
       "      <th>race</th>\n",
       "      <th>race_o</th>\n",
       "      <th>importance_same_race</th>\n",
       "      <th>importance_same_religion</th>\n",
       "      <th>pref_o_attractive</th>\n",
       "      <th>pref_o_sincere</th>\n",
       "      <th>...</th>\n",
       "      <th>funny_partner</th>\n",
       "      <th>ambition_partner</th>\n",
       "      <th>shared_interests_partner</th>\n",
       "      <th>interests_correlate</th>\n",
       "      <th>expected_happy_with_sd_people</th>\n",
       "      <th>expected_num_interested_in_me</th>\n",
       "      <th>like</th>\n",
       "      <th>guess_prob_liked</th>\n",
       "      <th>met</th>\n",
       "      <th>match</th>\n",
       "    </tr>\n",
       "  </thead>\n",
       "  <tbody>\n",
       "    <tr>\n",
       "      <th>0</th>\n",
       "      <td>0</td>\n",
       "      <td>female</td>\n",
       "      <td>21.0</td>\n",
       "      <td>27.0</td>\n",
       "      <td>Asian/PacificIslander/Asian-American</td>\n",
       "      <td>European/Caucasian-American</td>\n",
       "      <td>2.0</td>\n",
       "      <td>4.0</td>\n",
       "      <td>35.0</td>\n",
       "      <td>20.0</td>\n",
       "      <td>...</td>\n",
       "      <td>7.0</td>\n",
       "      <td>6.0</td>\n",
       "      <td>5.0</td>\n",
       "      <td>0.14</td>\n",
       "      <td>3.0</td>\n",
       "      <td>2.0</td>\n",
       "      <td>7.0</td>\n",
       "      <td>6.0</td>\n",
       "      <td>0.0</td>\n",
       "      <td>0</td>\n",
       "    </tr>\n",
       "    <tr>\n",
       "      <th>1</th>\n",
       "      <td>0</td>\n",
       "      <td>female</td>\n",
       "      <td>21.0</td>\n",
       "      <td>22.0</td>\n",
       "      <td>Asian/PacificIslander/Asian-American</td>\n",
       "      <td>European/Caucasian-American</td>\n",
       "      <td>2.0</td>\n",
       "      <td>4.0</td>\n",
       "      <td>60.0</td>\n",
       "      <td>0.0</td>\n",
       "      <td>...</td>\n",
       "      <td>8.0</td>\n",
       "      <td>5.0</td>\n",
       "      <td>6.0</td>\n",
       "      <td>0.54</td>\n",
       "      <td>3.0</td>\n",
       "      <td>2.0</td>\n",
       "      <td>7.0</td>\n",
       "      <td>5.0</td>\n",
       "      <td>1.0</td>\n",
       "      <td>0</td>\n",
       "    </tr>\n",
       "    <tr>\n",
       "      <th>2</th>\n",
       "      <td>1</td>\n",
       "      <td>female</td>\n",
       "      <td>21.0</td>\n",
       "      <td>22.0</td>\n",
       "      <td>Asian/PacificIslander/Asian-American</td>\n",
       "      <td>Asian/PacificIslander/Asian-American</td>\n",
       "      <td>2.0</td>\n",
       "      <td>4.0</td>\n",
       "      <td>19.0</td>\n",
       "      <td>18.0</td>\n",
       "      <td>...</td>\n",
       "      <td>8.0</td>\n",
       "      <td>5.0</td>\n",
       "      <td>7.0</td>\n",
       "      <td>0.16</td>\n",
       "      <td>3.0</td>\n",
       "      <td>2.0</td>\n",
       "      <td>7.0</td>\n",
       "      <td>NaN</td>\n",
       "      <td>1.0</td>\n",
       "      <td>1</td>\n",
       "    </tr>\n",
       "    <tr>\n",
       "      <th>3</th>\n",
       "      <td>0</td>\n",
       "      <td>female</td>\n",
       "      <td>21.0</td>\n",
       "      <td>23.0</td>\n",
       "      <td>Asian/PacificIslander/Asian-American</td>\n",
       "      <td>European/Caucasian-American</td>\n",
       "      <td>2.0</td>\n",
       "      <td>4.0</td>\n",
       "      <td>30.0</td>\n",
       "      <td>5.0</td>\n",
       "      <td>...</td>\n",
       "      <td>7.0</td>\n",
       "      <td>6.0</td>\n",
       "      <td>8.0</td>\n",
       "      <td>0.61</td>\n",
       "      <td>3.0</td>\n",
       "      <td>2.0</td>\n",
       "      <td>7.0</td>\n",
       "      <td>6.0</td>\n",
       "      <td>0.0</td>\n",
       "      <td>1</td>\n",
       "    </tr>\n",
       "    <tr>\n",
       "      <th>4</th>\n",
       "      <td>0</td>\n",
       "      <td>female</td>\n",
       "      <td>21.0</td>\n",
       "      <td>24.0</td>\n",
       "      <td>Asian/PacificIslander/Asian-American</td>\n",
       "      <td>Latino/HispanicAmerican</td>\n",
       "      <td>2.0</td>\n",
       "      <td>4.0</td>\n",
       "      <td>30.0</td>\n",
       "      <td>10.0</td>\n",
       "      <td>...</td>\n",
       "      <td>7.0</td>\n",
       "      <td>6.0</td>\n",
       "      <td>6.0</td>\n",
       "      <td>0.21</td>\n",
       "      <td>3.0</td>\n",
       "      <td>2.0</td>\n",
       "      <td>6.0</td>\n",
       "      <td>6.0</td>\n",
       "      <td>0.0</td>\n",
       "      <td>1</td>\n",
       "    </tr>\n",
       "  </tbody>\n",
       "</table>\n",
       "<p>5 rows × 39 columns</p>\n",
       "</div>"
      ],
      "text/plain": [
       "   has_null  gender   age  age_o                                  race  \\\n",
       "0         0  female  21.0   27.0  Asian/PacificIslander/Asian-American   \n",
       "1         0  female  21.0   22.0  Asian/PacificIslander/Asian-American   \n",
       "2         1  female  21.0   22.0  Asian/PacificIslander/Asian-American   \n",
       "3         0  female  21.0   23.0  Asian/PacificIslander/Asian-American   \n",
       "4         0  female  21.0   24.0  Asian/PacificIslander/Asian-American   \n",
       "\n",
       "                                 race_o  importance_same_race  \\\n",
       "0           European/Caucasian-American                   2.0   \n",
       "1           European/Caucasian-American                   2.0   \n",
       "2  Asian/PacificIslander/Asian-American                   2.0   \n",
       "3           European/Caucasian-American                   2.0   \n",
       "4               Latino/HispanicAmerican                   2.0   \n",
       "\n",
       "   importance_same_religion  pref_o_attractive  pref_o_sincere  ...  \\\n",
       "0                       4.0               35.0            20.0  ...   \n",
       "1                       4.0               60.0             0.0  ...   \n",
       "2                       4.0               19.0            18.0  ...   \n",
       "3                       4.0               30.0             5.0  ...   \n",
       "4                       4.0               30.0            10.0  ...   \n",
       "\n",
       "   funny_partner  ambition_partner  shared_interests_partner  \\\n",
       "0            7.0               6.0                       5.0   \n",
       "1            8.0               5.0                       6.0   \n",
       "2            8.0               5.0                       7.0   \n",
       "3            7.0               6.0                       8.0   \n",
       "4            7.0               6.0                       6.0   \n",
       "\n",
       "   interests_correlate  expected_happy_with_sd_people  \\\n",
       "0                 0.14                            3.0   \n",
       "1                 0.54                            3.0   \n",
       "2                 0.16                            3.0   \n",
       "3                 0.61                            3.0   \n",
       "4                 0.21                            3.0   \n",
       "\n",
       "   expected_num_interested_in_me  like  guess_prob_liked  met  match  \n",
       "0                            2.0   7.0               6.0  0.0      0  \n",
       "1                            2.0   7.0               5.0  1.0      0  \n",
       "2                            2.0   7.0               NaN  1.0      1  \n",
       "3                            2.0   7.0               6.0  0.0      1  \n",
       "4                            2.0   6.0               6.0  0.0      1  \n",
       "\n",
       "[5 rows x 39 columns]"
      ]
     },
     "execution_count": 3,
     "metadata": {},
     "output_type": "execute_result"
    }
   ],
   "source": [
    "df.head()"
   ]
  },
  {
   "cell_type": "code",
   "execution_count": 4,
   "metadata": {
    "colab": {
     "base_uri": "https://localhost:8080/",
     "height": 357
    },
    "executionInfo": {
     "elapsed": 462,
     "status": "ok",
     "timestamp": 1668495897962,
     "user": {
      "displayName": "도형준",
      "userId": "02502359465021973562"
     },
     "user_tz": -540
    },
    "id": "860Ik_4QDLYo",
    "outputId": "5dce5126-ede8-4f9f-e407-17832fb10197"
   },
   "outputs": [
    {
     "data": {
      "text/html": [
       "<div>\n",
       "<style scoped>\n",
       "    .dataframe tbody tr th:only-of-type {\n",
       "        vertical-align: middle;\n",
       "    }\n",
       "\n",
       "    .dataframe tbody tr th {\n",
       "        vertical-align: top;\n",
       "    }\n",
       "\n",
       "    .dataframe thead th {\n",
       "        text-align: right;\n",
       "    }\n",
       "</style>\n",
       "<table border=\"1\" class=\"dataframe\">\n",
       "  <thead>\n",
       "    <tr style=\"text-align: right;\">\n",
       "      <th></th>\n",
       "      <th>has_null</th>\n",
       "      <th>gender</th>\n",
       "      <th>age</th>\n",
       "      <th>age_o</th>\n",
       "      <th>race</th>\n",
       "      <th>race_o</th>\n",
       "      <th>importance_same_race</th>\n",
       "      <th>importance_same_religion</th>\n",
       "      <th>pref_o_attractive</th>\n",
       "      <th>pref_o_sincere</th>\n",
       "      <th>pref_o_intelligence</th>\n",
       "      <th>pref_o_funny</th>\n",
       "      <th>pref_o_ambitious</th>\n",
       "      <th>pref_o_shared_interests</th>\n",
       "      <th>attractive_o</th>\n",
       "      <th>sincere_o</th>\n",
       "      <th>intelligence_o</th>\n",
       "      <th>funny_o</th>\n",
       "      <th>ambitous_o</th>\n",
       "      <th>shared_interests_o</th>\n",
       "      <th>attractive_important</th>\n",
       "      <th>sincere_important</th>\n",
       "      <th>intellicence_important</th>\n",
       "      <th>funny_important</th>\n",
       "      <th>ambtition_important</th>\n",
       "      <th>shared_interests_important</th>\n",
       "      <th>attractive_partner</th>\n",
       "      <th>sincere_partner</th>\n",
       "      <th>intelligence_partner</th>\n",
       "      <th>funny_partner</th>\n",
       "      <th>ambition_partner</th>\n",
       "      <th>shared_interests_partner</th>\n",
       "      <th>interests_correlate</th>\n",
       "      <th>expected_happy_with_sd_people</th>\n",
       "      <th>expected_num_interested_in_me</th>\n",
       "      <th>like</th>\n",
       "      <th>guess_prob_liked</th>\n",
       "      <th>met</th>\n",
       "      <th>match</th>\n",
       "    </tr>\n",
       "  </thead>\n",
       "  <tbody>\n",
       "    <tr>\n",
       "      <th>0</th>\n",
       "      <td>0</td>\n",
       "      <td>female</td>\n",
       "      <td>21.0</td>\n",
       "      <td>27.0</td>\n",
       "      <td>Asian/PacificIslander/Asian-American</td>\n",
       "      <td>European/Caucasian-American</td>\n",
       "      <td>2.0</td>\n",
       "      <td>4.0</td>\n",
       "      <td>35.0</td>\n",
       "      <td>20.0</td>\n",
       "      <td>20.0</td>\n",
       "      <td>20.0</td>\n",
       "      <td>0.0</td>\n",
       "      <td>5.0</td>\n",
       "      <td>6.0</td>\n",
       "      <td>8.0</td>\n",
       "      <td>8.0</td>\n",
       "      <td>8.0</td>\n",
       "      <td>8.0</td>\n",
       "      <td>6.0</td>\n",
       "      <td>15.0</td>\n",
       "      <td>20.0</td>\n",
       "      <td>20.0</td>\n",
       "      <td>15.0</td>\n",
       "      <td>15.0</td>\n",
       "      <td>15.0</td>\n",
       "      <td>6.0</td>\n",
       "      <td>9.0</td>\n",
       "      <td>7.0</td>\n",
       "      <td>7.0</td>\n",
       "      <td>6.0</td>\n",
       "      <td>5.0</td>\n",
       "      <td>0.14</td>\n",
       "      <td>3.0</td>\n",
       "      <td>2.0</td>\n",
       "      <td>7.0</td>\n",
       "      <td>6.0</td>\n",
       "      <td>0.0</td>\n",
       "      <td>0</td>\n",
       "    </tr>\n",
       "    <tr>\n",
       "      <th>1</th>\n",
       "      <td>0</td>\n",
       "      <td>female</td>\n",
       "      <td>21.0</td>\n",
       "      <td>22.0</td>\n",
       "      <td>Asian/PacificIslander/Asian-American</td>\n",
       "      <td>European/Caucasian-American</td>\n",
       "      <td>2.0</td>\n",
       "      <td>4.0</td>\n",
       "      <td>60.0</td>\n",
       "      <td>0.0</td>\n",
       "      <td>0.0</td>\n",
       "      <td>40.0</td>\n",
       "      <td>0.0</td>\n",
       "      <td>0.0</td>\n",
       "      <td>7.0</td>\n",
       "      <td>8.0</td>\n",
       "      <td>10.0</td>\n",
       "      <td>7.0</td>\n",
       "      <td>7.0</td>\n",
       "      <td>5.0</td>\n",
       "      <td>15.0</td>\n",
       "      <td>20.0</td>\n",
       "      <td>20.0</td>\n",
       "      <td>15.0</td>\n",
       "      <td>15.0</td>\n",
       "      <td>15.0</td>\n",
       "      <td>7.0</td>\n",
       "      <td>8.0</td>\n",
       "      <td>7.0</td>\n",
       "      <td>8.0</td>\n",
       "      <td>5.0</td>\n",
       "      <td>6.0</td>\n",
       "      <td>0.54</td>\n",
       "      <td>3.0</td>\n",
       "      <td>2.0</td>\n",
       "      <td>7.0</td>\n",
       "      <td>5.0</td>\n",
       "      <td>1.0</td>\n",
       "      <td>0</td>\n",
       "    </tr>\n",
       "    <tr>\n",
       "      <th>2</th>\n",
       "      <td>1</td>\n",
       "      <td>female</td>\n",
       "      <td>21.0</td>\n",
       "      <td>22.0</td>\n",
       "      <td>Asian/PacificIslander/Asian-American</td>\n",
       "      <td>Asian/PacificIslander/Asian-American</td>\n",
       "      <td>2.0</td>\n",
       "      <td>4.0</td>\n",
       "      <td>19.0</td>\n",
       "      <td>18.0</td>\n",
       "      <td>19.0</td>\n",
       "      <td>18.0</td>\n",
       "      <td>14.0</td>\n",
       "      <td>12.0</td>\n",
       "      <td>10.0</td>\n",
       "      <td>10.0</td>\n",
       "      <td>10.0</td>\n",
       "      <td>10.0</td>\n",
       "      <td>10.0</td>\n",
       "      <td>10.0</td>\n",
       "      <td>15.0</td>\n",
       "      <td>20.0</td>\n",
       "      <td>20.0</td>\n",
       "      <td>15.0</td>\n",
       "      <td>15.0</td>\n",
       "      <td>15.0</td>\n",
       "      <td>5.0</td>\n",
       "      <td>8.0</td>\n",
       "      <td>9.0</td>\n",
       "      <td>8.0</td>\n",
       "      <td>5.0</td>\n",
       "      <td>7.0</td>\n",
       "      <td>0.16</td>\n",
       "      <td>3.0</td>\n",
       "      <td>2.0</td>\n",
       "      <td>7.0</td>\n",
       "      <td>NaN</td>\n",
       "      <td>1.0</td>\n",
       "      <td>1</td>\n",
       "    </tr>\n",
       "    <tr>\n",
       "      <th>3</th>\n",
       "      <td>0</td>\n",
       "      <td>female</td>\n",
       "      <td>21.0</td>\n",
       "      <td>23.0</td>\n",
       "      <td>Asian/PacificIslander/Asian-American</td>\n",
       "      <td>European/Caucasian-American</td>\n",
       "      <td>2.0</td>\n",
       "      <td>4.0</td>\n",
       "      <td>30.0</td>\n",
       "      <td>5.0</td>\n",
       "      <td>15.0</td>\n",
       "      <td>40.0</td>\n",
       "      <td>5.0</td>\n",
       "      <td>5.0</td>\n",
       "      <td>7.0</td>\n",
       "      <td>8.0</td>\n",
       "      <td>9.0</td>\n",
       "      <td>8.0</td>\n",
       "      <td>9.0</td>\n",
       "      <td>8.0</td>\n",
       "      <td>15.0</td>\n",
       "      <td>20.0</td>\n",
       "      <td>20.0</td>\n",
       "      <td>15.0</td>\n",
       "      <td>15.0</td>\n",
       "      <td>15.0</td>\n",
       "      <td>7.0</td>\n",
       "      <td>6.0</td>\n",
       "      <td>8.0</td>\n",
       "      <td>7.0</td>\n",
       "      <td>6.0</td>\n",
       "      <td>8.0</td>\n",
       "      <td>0.61</td>\n",
       "      <td>3.0</td>\n",
       "      <td>2.0</td>\n",
       "      <td>7.0</td>\n",
       "      <td>6.0</td>\n",
       "      <td>0.0</td>\n",
       "      <td>1</td>\n",
       "    </tr>\n",
       "    <tr>\n",
       "      <th>4</th>\n",
       "      <td>0</td>\n",
       "      <td>female</td>\n",
       "      <td>21.0</td>\n",
       "      <td>24.0</td>\n",
       "      <td>Asian/PacificIslander/Asian-American</td>\n",
       "      <td>Latino/HispanicAmerican</td>\n",
       "      <td>2.0</td>\n",
       "      <td>4.0</td>\n",
       "      <td>30.0</td>\n",
       "      <td>10.0</td>\n",
       "      <td>20.0</td>\n",
       "      <td>10.0</td>\n",
       "      <td>10.0</td>\n",
       "      <td>20.0</td>\n",
       "      <td>8.0</td>\n",
       "      <td>7.0</td>\n",
       "      <td>9.0</td>\n",
       "      <td>6.0</td>\n",
       "      <td>9.0</td>\n",
       "      <td>7.0</td>\n",
       "      <td>15.0</td>\n",
       "      <td>20.0</td>\n",
       "      <td>20.0</td>\n",
       "      <td>15.0</td>\n",
       "      <td>15.0</td>\n",
       "      <td>15.0</td>\n",
       "      <td>5.0</td>\n",
       "      <td>6.0</td>\n",
       "      <td>7.0</td>\n",
       "      <td>7.0</td>\n",
       "      <td>6.0</td>\n",
       "      <td>6.0</td>\n",
       "      <td>0.21</td>\n",
       "      <td>3.0</td>\n",
       "      <td>2.0</td>\n",
       "      <td>6.0</td>\n",
       "      <td>6.0</td>\n",
       "      <td>0.0</td>\n",
       "      <td>1</td>\n",
       "    </tr>\n",
       "  </tbody>\n",
       "</table>\n",
       "</div>"
      ],
      "text/plain": [
       "   has_null  gender   age  age_o                                  race  \\\n",
       "0         0  female  21.0   27.0  Asian/PacificIslander/Asian-American   \n",
       "1         0  female  21.0   22.0  Asian/PacificIslander/Asian-American   \n",
       "2         1  female  21.0   22.0  Asian/PacificIslander/Asian-American   \n",
       "3         0  female  21.0   23.0  Asian/PacificIslander/Asian-American   \n",
       "4         0  female  21.0   24.0  Asian/PacificIslander/Asian-American   \n",
       "\n",
       "                                 race_o  importance_same_race  \\\n",
       "0           European/Caucasian-American                   2.0   \n",
       "1           European/Caucasian-American                   2.0   \n",
       "2  Asian/PacificIslander/Asian-American                   2.0   \n",
       "3           European/Caucasian-American                   2.0   \n",
       "4               Latino/HispanicAmerican                   2.0   \n",
       "\n",
       "   importance_same_religion  pref_o_attractive  pref_o_sincere  \\\n",
       "0                       4.0               35.0            20.0   \n",
       "1                       4.0               60.0             0.0   \n",
       "2                       4.0               19.0            18.0   \n",
       "3                       4.0               30.0             5.0   \n",
       "4                       4.0               30.0            10.0   \n",
       "\n",
       "   pref_o_intelligence  pref_o_funny  pref_o_ambitious  \\\n",
       "0                 20.0          20.0               0.0   \n",
       "1                  0.0          40.0               0.0   \n",
       "2                 19.0          18.0              14.0   \n",
       "3                 15.0          40.0               5.0   \n",
       "4                 20.0          10.0              10.0   \n",
       "\n",
       "   pref_o_shared_interests  attractive_o  sincere_o  intelligence_o  funny_o  \\\n",
       "0                      5.0           6.0        8.0             8.0      8.0   \n",
       "1                      0.0           7.0        8.0            10.0      7.0   \n",
       "2                     12.0          10.0       10.0            10.0     10.0   \n",
       "3                      5.0           7.0        8.0             9.0      8.0   \n",
       "4                     20.0           8.0        7.0             9.0      6.0   \n",
       "\n",
       "   ambitous_o  shared_interests_o  attractive_important  sincere_important  \\\n",
       "0         8.0                 6.0                  15.0               20.0   \n",
       "1         7.0                 5.0                  15.0               20.0   \n",
       "2        10.0                10.0                  15.0               20.0   \n",
       "3         9.0                 8.0                  15.0               20.0   \n",
       "4         9.0                 7.0                  15.0               20.0   \n",
       "\n",
       "   intellicence_important  funny_important  ambtition_important  \\\n",
       "0                    20.0             15.0                 15.0   \n",
       "1                    20.0             15.0                 15.0   \n",
       "2                    20.0             15.0                 15.0   \n",
       "3                    20.0             15.0                 15.0   \n",
       "4                    20.0             15.0                 15.0   \n",
       "\n",
       "   shared_interests_important  attractive_partner  sincere_partner  \\\n",
       "0                        15.0                 6.0              9.0   \n",
       "1                        15.0                 7.0              8.0   \n",
       "2                        15.0                 5.0              8.0   \n",
       "3                        15.0                 7.0              6.0   \n",
       "4                        15.0                 5.0              6.0   \n",
       "\n",
       "   intelligence_partner  funny_partner  ambition_partner  \\\n",
       "0                   7.0            7.0               6.0   \n",
       "1                   7.0            8.0               5.0   \n",
       "2                   9.0            8.0               5.0   \n",
       "3                   8.0            7.0               6.0   \n",
       "4                   7.0            7.0               6.0   \n",
       "\n",
       "   shared_interests_partner  interests_correlate  \\\n",
       "0                       5.0                 0.14   \n",
       "1                       6.0                 0.54   \n",
       "2                       7.0                 0.16   \n",
       "3                       8.0                 0.61   \n",
       "4                       6.0                 0.21   \n",
       "\n",
       "   expected_happy_with_sd_people  expected_num_interested_in_me  like  \\\n",
       "0                            3.0                            2.0   7.0   \n",
       "1                            3.0                            2.0   7.0   \n",
       "2                            3.0                            2.0   7.0   \n",
       "3                            3.0                            2.0   7.0   \n",
       "4                            3.0                            2.0   6.0   \n",
       "\n",
       "   guess_prob_liked  met  match  \n",
       "0               6.0  0.0      0  \n",
       "1               5.0  1.0      0  \n",
       "2               NaN  1.0      1  \n",
       "3               6.0  0.0      1  \n",
       "4               6.0  0.0      1  "
      ]
     },
     "execution_count": 4,
     "metadata": {},
     "output_type": "execute_result"
    }
   ],
   "source": [
    "pd.options.display.max_columns = 40 # 총 40개 컬럼까지 출력되도록 설정\n",
    "df.head()"
   ]
  },
  {
   "cell_type": "code",
   "execution_count": 5,
   "metadata": {
    "colab": {
     "base_uri": "https://localhost:8080/"
    },
    "executionInfo": {
     "elapsed": 10,
     "status": "ok",
     "timestamp": 1668495897963,
     "user": {
      "displayName": "도형준",
      "userId": "02502359465021973562"
     },
     "user_tz": -540
    },
    "id": "qe7NwyiNDWlw",
    "outputId": "30e93547-db16-4718-919d-5914b914dd51"
   },
   "outputs": [
    {
     "name": "stdout",
     "output_type": "stream",
     "text": [
      "<class 'pandas.core.frame.DataFrame'>\n",
      "RangeIndex: 8378 entries, 0 to 8377\n",
      "Data columns (total 39 columns):\n",
      " #   Column                         Non-Null Count  Dtype  \n",
      "---  ------                         --------------  -----  \n",
      " 0   has_null                       8378 non-null   int64  \n",
      " 1   gender                         8378 non-null   object \n",
      " 2   age                            8283 non-null   float64\n",
      " 3   age_o                          8274 non-null   float64\n",
      " 4   race                           8315 non-null   object \n",
      " 5   race_o                         8305 non-null   object \n",
      " 6   importance_same_race           8299 non-null   float64\n",
      " 7   importance_same_religion       8299 non-null   float64\n",
      " 8   pref_o_attractive              8289 non-null   float64\n",
      " 9   pref_o_sincere                 8289 non-null   float64\n",
      " 10  pref_o_intelligence            8289 non-null   float64\n",
      " 11  pref_o_funny                   8280 non-null   float64\n",
      " 12  pref_o_ambitious               8271 non-null   float64\n",
      " 13  pref_o_shared_interests        8249 non-null   float64\n",
      " 14  attractive_o                   8166 non-null   float64\n",
      " 15  sincere_o                      8091 non-null   float64\n",
      " 16  intelligence_o                 8072 non-null   float64\n",
      " 17  funny_o                        8018 non-null   float64\n",
      " 18  ambitous_o                     7656 non-null   float64\n",
      " 19  shared_interests_o             7302 non-null   float64\n",
      " 20  attractive_important           8299 non-null   float64\n",
      " 21  sincere_important              8299 non-null   float64\n",
      " 22  intellicence_important         8299 non-null   float64\n",
      " 23  funny_important                8289 non-null   float64\n",
      " 24  ambtition_important            8279 non-null   float64\n",
      " 25  shared_interests_important     8257 non-null   float64\n",
      " 26  attractive_partner             8176 non-null   float64\n",
      " 27  sincere_partner                8101 non-null   float64\n",
      " 28  intelligence_partner           8082 non-null   float64\n",
      " 29  funny_partner                  8028 non-null   float64\n",
      " 30  ambition_partner               7666 non-null   float64\n",
      " 31  shared_interests_partner       7311 non-null   float64\n",
      " 32  interests_correlate            8220 non-null   float64\n",
      " 33  expected_happy_with_sd_people  8277 non-null   float64\n",
      " 34  expected_num_interested_in_me  1800 non-null   float64\n",
      " 35  like                           8138 non-null   float64\n",
      " 36  guess_prob_liked               8069 non-null   float64\n",
      " 37  met                            8003 non-null   float64\n",
      " 38  match                          8378 non-null   int64  \n",
      "dtypes: float64(34), int64(2), object(3)\n",
      "memory usage: 2.5+ MB\n"
     ]
    }
   ],
   "source": [
    "df.info() # 결측치와 변수 타입"
   ]
  },
  {
   "cell_type": "markdown",
   "metadata": {
    "id": "Eqmp-ib4Dwg3"
   },
   "source": [
    "### 변수 목록"
   ]
  },
  {
   "cell_type": "markdown",
   "metadata": {
    "id": "OwC-qOPcDyGB"
   },
   "source": [
    "* has_null\n",
    "    - 변수 중 Null값이 있는지 여부. 단, 이 데이터는 기존 데이터에서 일부 변수들이 생략된 축소판이기 때문에, 여기서 보이는 Null값 여부와 다소 차이가 있을 수 있음.\n",
    "    - 전반적으로 무응답 항목이 있는지에 대한 정보이므로 그대로 사용\n",
    "* age / age_o : age는 본인 나이이며 age_o는 상대방 나이.\n",
    "* race / race_o : 마찬가지로 본인과 상대의 인종 정보.\n",
    "* importance_same_race / importance_same_religion\n",
    "    * 인종과 종교를 중요시 여기는지에 대한 응답\n",
    "* attractive(매력적인), sincere(성실한), intelligence(지적), funny(재미난), ambitious(야심찬), shared_ interests(공통관심사) : 이 항목들은 4가지 관점에서 평가되어 총 변수가 24(6 × 4)개\n",
    "    * pref_o_xxx( 예 : pref_o_attractive) : 상대방이 xxx 항목을 얼마나 중요하게 생각하는가에 대한 응답\n",
    "    * xxx_o(예: attractive_o) : 상대방이 본인에 대한 xxx 항목을 평가한 항목\n",
    "    * xxx_important(예 : attractive_important) : xxx 항목에 대해 본인이 얼마나 중요하게 생각하는가에 대한 응답\n",
    "    * xxx_partner(예 : attractive_partner) : 본인이 상대방에 대한 xxx 항목을 평가한 항목\n",
    "* interests_correlate : 관심사(취미 등) 연관도\n",
    "* expected_happy_with_sd_people : 스피드 데이팅을 통해 만난 사람과 함께할 때 얼마나 좋을\n",
    "지에 대한 기대치\n",
    "* expected_num_interested_in_me : 얼마나 많은 사람이 나에게 관심을 보일지에 대한 기대치\n",
    "* like : 파트너가 마음에 들었는지 여부\n",
    "* guess_prob_liked : 파트너가 나를 마음에 들어했을지에 대한 예상\n",
    "* met: 파트너를 스피드 데이팅 이벤트 이전에 만난 적이 있는지 여부"
   ]
  },
  {
   "cell_type": "code",
   "execution_count": 6,
   "metadata": {
    "executionInfo": {
     "elapsed": 7,
     "status": "ok",
     "timestamp": 1668495897963,
     "user": {
      "displayName": "도형준",
      "userId": "02502359465021973562"
     },
     "user_tz": -540
    },
    "id": "5PXd5xeMDdrc"
   },
   "outputs": [],
   "source": [
    "pd.options.display.float_format = '{:.2f}'.format # 소수점 제한한"
   ]
  },
  {
   "cell_type": "code",
   "execution_count": 7,
   "metadata": {
    "colab": {
     "base_uri": "https://localhost:8080/",
     "height": 364
    },
    "executionInfo": {
     "elapsed": 7,
     "status": "ok",
     "timestamp": 1668495897963,
     "user": {
      "displayName": "도형준",
      "userId": "02502359465021973562"
     },
     "user_tz": -540
    },
    "id": "o5zIsSS7EBYg",
    "outputId": "d2e52af4-246b-43c6-d253-8d8250a66e6c"
   },
   "outputs": [
    {
     "data": {
      "text/html": [
       "<div>\n",
       "<style scoped>\n",
       "    .dataframe tbody tr th:only-of-type {\n",
       "        vertical-align: middle;\n",
       "    }\n",
       "\n",
       "    .dataframe tbody tr th {\n",
       "        vertical-align: top;\n",
       "    }\n",
       "\n",
       "    .dataframe thead th {\n",
       "        text-align: right;\n",
       "    }\n",
       "</style>\n",
       "<table border=\"1\" class=\"dataframe\">\n",
       "  <thead>\n",
       "    <tr style=\"text-align: right;\">\n",
       "      <th></th>\n",
       "      <th>has_null</th>\n",
       "      <th>age</th>\n",
       "      <th>age_o</th>\n",
       "      <th>importance_same_race</th>\n",
       "      <th>importance_same_religion</th>\n",
       "      <th>pref_o_attractive</th>\n",
       "      <th>pref_o_sincere</th>\n",
       "      <th>pref_o_intelligence</th>\n",
       "      <th>pref_o_funny</th>\n",
       "      <th>pref_o_ambitious</th>\n",
       "      <th>pref_o_shared_interests</th>\n",
       "      <th>attractive_o</th>\n",
       "      <th>sincere_o</th>\n",
       "      <th>intelligence_o</th>\n",
       "      <th>funny_o</th>\n",
       "      <th>ambitous_o</th>\n",
       "      <th>shared_interests_o</th>\n",
       "      <th>attractive_important</th>\n",
       "      <th>sincere_important</th>\n",
       "      <th>intellicence_important</th>\n",
       "      <th>funny_important</th>\n",
       "      <th>ambtition_important</th>\n",
       "      <th>shared_interests_important</th>\n",
       "      <th>attractive_partner</th>\n",
       "      <th>sincere_partner</th>\n",
       "      <th>intelligence_partner</th>\n",
       "      <th>funny_partner</th>\n",
       "      <th>ambition_partner</th>\n",
       "      <th>shared_interests_partner</th>\n",
       "      <th>interests_correlate</th>\n",
       "      <th>expected_happy_with_sd_people</th>\n",
       "      <th>expected_num_interested_in_me</th>\n",
       "      <th>like</th>\n",
       "      <th>guess_prob_liked</th>\n",
       "      <th>met</th>\n",
       "      <th>match</th>\n",
       "    </tr>\n",
       "  </thead>\n",
       "  <tbody>\n",
       "    <tr>\n",
       "      <th>count</th>\n",
       "      <td>8378.00</td>\n",
       "      <td>8283.00</td>\n",
       "      <td>8274.00</td>\n",
       "      <td>8299.00</td>\n",
       "      <td>8299.00</td>\n",
       "      <td>8289.00</td>\n",
       "      <td>8289.00</td>\n",
       "      <td>8289.00</td>\n",
       "      <td>8280.00</td>\n",
       "      <td>8271.00</td>\n",
       "      <td>8249.00</td>\n",
       "      <td>8166.00</td>\n",
       "      <td>8091.00</td>\n",
       "      <td>8072.00</td>\n",
       "      <td>8018.00</td>\n",
       "      <td>7656.00</td>\n",
       "      <td>7302.00</td>\n",
       "      <td>8299.00</td>\n",
       "      <td>8299.00</td>\n",
       "      <td>8299.00</td>\n",
       "      <td>8289.00</td>\n",
       "      <td>8279.00</td>\n",
       "      <td>8257.00</td>\n",
       "      <td>8176.00</td>\n",
       "      <td>8101.00</td>\n",
       "      <td>8082.00</td>\n",
       "      <td>8028.00</td>\n",
       "      <td>7666.00</td>\n",
       "      <td>7311.00</td>\n",
       "      <td>8220.00</td>\n",
       "      <td>8277.00</td>\n",
       "      <td>1800.00</td>\n",
       "      <td>8138.00</td>\n",
       "      <td>8069.00</td>\n",
       "      <td>8003.00</td>\n",
       "      <td>8378.00</td>\n",
       "    </tr>\n",
       "    <tr>\n",
       "      <th>mean</th>\n",
       "      <td>0.87</td>\n",
       "      <td>26.36</td>\n",
       "      <td>26.36</td>\n",
       "      <td>3.78</td>\n",
       "      <td>3.65</td>\n",
       "      <td>22.50</td>\n",
       "      <td>17.40</td>\n",
       "      <td>20.27</td>\n",
       "      <td>17.46</td>\n",
       "      <td>10.69</td>\n",
       "      <td>11.85</td>\n",
       "      <td>6.19</td>\n",
       "      <td>7.18</td>\n",
       "      <td>7.37</td>\n",
       "      <td>6.40</td>\n",
       "      <td>6.78</td>\n",
       "      <td>5.47</td>\n",
       "      <td>22.51</td>\n",
       "      <td>17.40</td>\n",
       "      <td>20.27</td>\n",
       "      <td>17.46</td>\n",
       "      <td>10.68</td>\n",
       "      <td>11.85</td>\n",
       "      <td>6.19</td>\n",
       "      <td>7.18</td>\n",
       "      <td>7.37</td>\n",
       "      <td>6.40</td>\n",
       "      <td>6.78</td>\n",
       "      <td>5.47</td>\n",
       "      <td>0.20</td>\n",
       "      <td>5.53</td>\n",
       "      <td>5.57</td>\n",
       "      <td>6.13</td>\n",
       "      <td>5.21</td>\n",
       "      <td>0.05</td>\n",
       "      <td>0.16</td>\n",
       "    </tr>\n",
       "    <tr>\n",
       "      <th>std</th>\n",
       "      <td>0.33</td>\n",
       "      <td>3.57</td>\n",
       "      <td>3.56</td>\n",
       "      <td>2.85</td>\n",
       "      <td>2.81</td>\n",
       "      <td>12.57</td>\n",
       "      <td>7.04</td>\n",
       "      <td>6.78</td>\n",
       "      <td>6.09</td>\n",
       "      <td>6.13</td>\n",
       "      <td>6.36</td>\n",
       "      <td>1.95</td>\n",
       "      <td>1.74</td>\n",
       "      <td>1.55</td>\n",
       "      <td>1.95</td>\n",
       "      <td>1.79</td>\n",
       "      <td>2.16</td>\n",
       "      <td>12.59</td>\n",
       "      <td>7.05</td>\n",
       "      <td>6.78</td>\n",
       "      <td>6.09</td>\n",
       "      <td>6.12</td>\n",
       "      <td>6.36</td>\n",
       "      <td>1.95</td>\n",
       "      <td>1.74</td>\n",
       "      <td>1.55</td>\n",
       "      <td>1.95</td>\n",
       "      <td>1.79</td>\n",
       "      <td>2.16</td>\n",
       "      <td>0.30</td>\n",
       "      <td>1.73</td>\n",
       "      <td>4.76</td>\n",
       "      <td>1.84</td>\n",
       "      <td>2.13</td>\n",
       "      <td>0.28</td>\n",
       "      <td>0.37</td>\n",
       "    </tr>\n",
       "    <tr>\n",
       "      <th>min</th>\n",
       "      <td>0.00</td>\n",
       "      <td>18.00</td>\n",
       "      <td>18.00</td>\n",
       "      <td>0.00</td>\n",
       "      <td>1.00</td>\n",
       "      <td>0.00</td>\n",
       "      <td>0.00</td>\n",
       "      <td>0.00</td>\n",
       "      <td>0.00</td>\n",
       "      <td>0.00</td>\n",
       "      <td>0.00</td>\n",
       "      <td>0.00</td>\n",
       "      <td>0.00</td>\n",
       "      <td>0.00</td>\n",
       "      <td>0.00</td>\n",
       "      <td>0.00</td>\n",
       "      <td>0.00</td>\n",
       "      <td>0.00</td>\n",
       "      <td>0.00</td>\n",
       "      <td>0.00</td>\n",
       "      <td>0.00</td>\n",
       "      <td>0.00</td>\n",
       "      <td>0.00</td>\n",
       "      <td>0.00</td>\n",
       "      <td>0.00</td>\n",
       "      <td>0.00</td>\n",
       "      <td>0.00</td>\n",
       "      <td>0.00</td>\n",
       "      <td>0.00</td>\n",
       "      <td>-0.83</td>\n",
       "      <td>1.00</td>\n",
       "      <td>0.00</td>\n",
       "      <td>0.00</td>\n",
       "      <td>0.00</td>\n",
       "      <td>0.00</td>\n",
       "      <td>0.00</td>\n",
       "    </tr>\n",
       "    <tr>\n",
       "      <th>25%</th>\n",
       "      <td>1.00</td>\n",
       "      <td>24.00</td>\n",
       "      <td>24.00</td>\n",
       "      <td>1.00</td>\n",
       "      <td>1.00</td>\n",
       "      <td>15.00</td>\n",
       "      <td>15.00</td>\n",
       "      <td>17.39</td>\n",
       "      <td>15.00</td>\n",
       "      <td>5.00</td>\n",
       "      <td>9.52</td>\n",
       "      <td>5.00</td>\n",
       "      <td>6.00</td>\n",
       "      <td>6.00</td>\n",
       "      <td>5.00</td>\n",
       "      <td>6.00</td>\n",
       "      <td>4.00</td>\n",
       "      <td>15.00</td>\n",
       "      <td>15.00</td>\n",
       "      <td>17.39</td>\n",
       "      <td>15.00</td>\n",
       "      <td>5.00</td>\n",
       "      <td>9.52</td>\n",
       "      <td>5.00</td>\n",
       "      <td>6.00</td>\n",
       "      <td>6.00</td>\n",
       "      <td>5.00</td>\n",
       "      <td>6.00</td>\n",
       "      <td>4.00</td>\n",
       "      <td>-0.02</td>\n",
       "      <td>5.00</td>\n",
       "      <td>2.00</td>\n",
       "      <td>5.00</td>\n",
       "      <td>4.00</td>\n",
       "      <td>0.00</td>\n",
       "      <td>0.00</td>\n",
       "    </tr>\n",
       "    <tr>\n",
       "      <th>50%</th>\n",
       "      <td>1.00</td>\n",
       "      <td>26.00</td>\n",
       "      <td>26.00</td>\n",
       "      <td>3.00</td>\n",
       "      <td>3.00</td>\n",
       "      <td>20.00</td>\n",
       "      <td>18.37</td>\n",
       "      <td>20.00</td>\n",
       "      <td>18.00</td>\n",
       "      <td>10.00</td>\n",
       "      <td>10.64</td>\n",
       "      <td>6.00</td>\n",
       "      <td>7.00</td>\n",
       "      <td>7.00</td>\n",
       "      <td>7.00</td>\n",
       "      <td>7.00</td>\n",
       "      <td>6.00</td>\n",
       "      <td>20.00</td>\n",
       "      <td>18.18</td>\n",
       "      <td>20.00</td>\n",
       "      <td>18.00</td>\n",
       "      <td>10.00</td>\n",
       "      <td>10.64</td>\n",
       "      <td>6.00</td>\n",
       "      <td>7.00</td>\n",
       "      <td>7.00</td>\n",
       "      <td>7.00</td>\n",
       "      <td>7.00</td>\n",
       "      <td>6.00</td>\n",
       "      <td>0.21</td>\n",
       "      <td>6.00</td>\n",
       "      <td>4.00</td>\n",
       "      <td>6.00</td>\n",
       "      <td>5.00</td>\n",
       "      <td>0.00</td>\n",
       "      <td>0.00</td>\n",
       "    </tr>\n",
       "    <tr>\n",
       "      <th>75%</th>\n",
       "      <td>1.00</td>\n",
       "      <td>28.00</td>\n",
       "      <td>28.00</td>\n",
       "      <td>6.00</td>\n",
       "      <td>6.00</td>\n",
       "      <td>25.00</td>\n",
       "      <td>20.00</td>\n",
       "      <td>23.81</td>\n",
       "      <td>20.00</td>\n",
       "      <td>15.00</td>\n",
       "      <td>16.00</td>\n",
       "      <td>8.00</td>\n",
       "      <td>8.00</td>\n",
       "      <td>8.00</td>\n",
       "      <td>8.00</td>\n",
       "      <td>8.00</td>\n",
       "      <td>7.00</td>\n",
       "      <td>25.00</td>\n",
       "      <td>20.00</td>\n",
       "      <td>23.81</td>\n",
       "      <td>20.00</td>\n",
       "      <td>15.00</td>\n",
       "      <td>16.00</td>\n",
       "      <td>8.00</td>\n",
       "      <td>8.00</td>\n",
       "      <td>8.00</td>\n",
       "      <td>8.00</td>\n",
       "      <td>8.00</td>\n",
       "      <td>7.00</td>\n",
       "      <td>0.43</td>\n",
       "      <td>7.00</td>\n",
       "      <td>8.00</td>\n",
       "      <td>7.00</td>\n",
       "      <td>7.00</td>\n",
       "      <td>0.00</td>\n",
       "      <td>0.00</td>\n",
       "    </tr>\n",
       "    <tr>\n",
       "      <th>max</th>\n",
       "      <td>1.00</td>\n",
       "      <td>55.00</td>\n",
       "      <td>55.00</td>\n",
       "      <td>10.00</td>\n",
       "      <td>10.00</td>\n",
       "      <td>100.00</td>\n",
       "      <td>60.00</td>\n",
       "      <td>50.00</td>\n",
       "      <td>50.00</td>\n",
       "      <td>53.00</td>\n",
       "      <td>30.00</td>\n",
       "      <td>10.50</td>\n",
       "      <td>10.00</td>\n",
       "      <td>10.00</td>\n",
       "      <td>11.00</td>\n",
       "      <td>10.00</td>\n",
       "      <td>10.00</td>\n",
       "      <td>100.00</td>\n",
       "      <td>60.00</td>\n",
       "      <td>50.00</td>\n",
       "      <td>50.00</td>\n",
       "      <td>53.00</td>\n",
       "      <td>30.00</td>\n",
       "      <td>10.00</td>\n",
       "      <td>10.00</td>\n",
       "      <td>10.00</td>\n",
       "      <td>10.00</td>\n",
       "      <td>10.00</td>\n",
       "      <td>10.00</td>\n",
       "      <td>0.91</td>\n",
       "      <td>10.00</td>\n",
       "      <td>20.00</td>\n",
       "      <td>10.00</td>\n",
       "      <td>10.00</td>\n",
       "      <td>8.00</td>\n",
       "      <td>1.00</td>\n",
       "    </tr>\n",
       "  </tbody>\n",
       "</table>\n",
       "</div>"
      ],
      "text/plain": [
       "       has_null     age   age_o  importance_same_race  \\\n",
       "count   8378.00 8283.00 8274.00               8299.00   \n",
       "mean       0.87   26.36   26.36                  3.78   \n",
       "std        0.33    3.57    3.56                  2.85   \n",
       "min        0.00   18.00   18.00                  0.00   \n",
       "25%        1.00   24.00   24.00                  1.00   \n",
       "50%        1.00   26.00   26.00                  3.00   \n",
       "75%        1.00   28.00   28.00                  6.00   \n",
       "max        1.00   55.00   55.00                 10.00   \n",
       "\n",
       "       importance_same_religion  pref_o_attractive  pref_o_sincere  \\\n",
       "count                   8299.00            8289.00         8289.00   \n",
       "mean                       3.65              22.50           17.40   \n",
       "std                        2.81              12.57            7.04   \n",
       "min                        1.00               0.00            0.00   \n",
       "25%                        1.00              15.00           15.00   \n",
       "50%                        3.00              20.00           18.37   \n",
       "75%                        6.00              25.00           20.00   \n",
       "max                       10.00             100.00           60.00   \n",
       "\n",
       "       pref_o_intelligence  pref_o_funny  pref_o_ambitious  \\\n",
       "count              8289.00       8280.00           8271.00   \n",
       "mean                 20.27         17.46             10.69   \n",
       "std                   6.78          6.09              6.13   \n",
       "min                   0.00          0.00              0.00   \n",
       "25%                  17.39         15.00              5.00   \n",
       "50%                  20.00         18.00             10.00   \n",
       "75%                  23.81         20.00             15.00   \n",
       "max                  50.00         50.00             53.00   \n",
       "\n",
       "       pref_o_shared_interests  attractive_o  sincere_o  intelligence_o  \\\n",
       "count                  8249.00       8166.00    8091.00         8072.00   \n",
       "mean                     11.85          6.19       7.18            7.37   \n",
       "std                       6.36          1.95       1.74            1.55   \n",
       "min                       0.00          0.00       0.00            0.00   \n",
       "25%                       9.52          5.00       6.00            6.00   \n",
       "50%                      10.64          6.00       7.00            7.00   \n",
       "75%                      16.00          8.00       8.00            8.00   \n",
       "max                      30.00         10.50      10.00           10.00   \n",
       "\n",
       "       funny_o  ambitous_o  shared_interests_o  attractive_important  \\\n",
       "count  8018.00     7656.00             7302.00               8299.00   \n",
       "mean      6.40        6.78                5.47                 22.51   \n",
       "std       1.95        1.79                2.16                 12.59   \n",
       "min       0.00        0.00                0.00                  0.00   \n",
       "25%       5.00        6.00                4.00                 15.00   \n",
       "50%       7.00        7.00                6.00                 20.00   \n",
       "75%       8.00        8.00                7.00                 25.00   \n",
       "max      11.00       10.00               10.00                100.00   \n",
       "\n",
       "       sincere_important  intellicence_important  funny_important  \\\n",
       "count            8299.00                 8299.00          8289.00   \n",
       "mean               17.40                   20.27            17.46   \n",
       "std                 7.05                    6.78             6.09   \n",
       "min                 0.00                    0.00             0.00   \n",
       "25%                15.00                   17.39            15.00   \n",
       "50%                18.18                   20.00            18.00   \n",
       "75%                20.00                   23.81            20.00   \n",
       "max                60.00                   50.00            50.00   \n",
       "\n",
       "       ambtition_important  shared_interests_important  attractive_partner  \\\n",
       "count              8279.00                     8257.00             8176.00   \n",
       "mean                 10.68                       11.85                6.19   \n",
       "std                   6.12                        6.36                1.95   \n",
       "min                   0.00                        0.00                0.00   \n",
       "25%                   5.00                        9.52                5.00   \n",
       "50%                  10.00                       10.64                6.00   \n",
       "75%                  15.00                       16.00                8.00   \n",
       "max                  53.00                       30.00               10.00   \n",
       "\n",
       "       sincere_partner  intelligence_partner  funny_partner  ambition_partner  \\\n",
       "count          8101.00               8082.00        8028.00           7666.00   \n",
       "mean              7.18                  7.37           6.40              6.78   \n",
       "std               1.74                  1.55           1.95              1.79   \n",
       "min               0.00                  0.00           0.00              0.00   \n",
       "25%               6.00                  6.00           5.00              6.00   \n",
       "50%               7.00                  7.00           7.00              7.00   \n",
       "75%               8.00                  8.00           8.00              8.00   \n",
       "max              10.00                 10.00          10.00             10.00   \n",
       "\n",
       "       shared_interests_partner  interests_correlate  \\\n",
       "count                   7311.00              8220.00   \n",
       "mean                       5.47                 0.20   \n",
       "std                        2.16                 0.30   \n",
       "min                        0.00                -0.83   \n",
       "25%                        4.00                -0.02   \n",
       "50%                        6.00                 0.21   \n",
       "75%                        7.00                 0.43   \n",
       "max                       10.00                 0.91   \n",
       "\n",
       "       expected_happy_with_sd_people  expected_num_interested_in_me    like  \\\n",
       "count                        8277.00                        1800.00 8138.00   \n",
       "mean                            5.53                           5.57    6.13   \n",
       "std                             1.73                           4.76    1.84   \n",
       "min                             1.00                           0.00    0.00   \n",
       "25%                             5.00                           2.00    5.00   \n",
       "50%                             6.00                           4.00    6.00   \n",
       "75%                             7.00                           8.00    7.00   \n",
       "max                            10.00                          20.00   10.00   \n",
       "\n",
       "       guess_prob_liked     met   match  \n",
       "count           8069.00 8003.00 8378.00  \n",
       "mean               5.21    0.05    0.16  \n",
       "std                2.13    0.28    0.37  \n",
       "min                0.00    0.00    0.00  \n",
       "25%                4.00    0.00    0.00  \n",
       "50%                5.00    0.00    0.00  \n",
       "75%                7.00    0.00    0.00  \n",
       "max               10.00    8.00    1.00  "
      ]
     },
     "execution_count": 7,
     "metadata": {},
     "output_type": "execute_result"
    }
   ],
   "source": [
    "df.describe()"
   ]
  },
  {
   "cell_type": "markdown",
   "metadata": {
    "id": "wpHhsjvpEODS"
   },
   "source": [
    "## 전처리"
   ]
  },
  {
   "cell_type": "markdown",
   "metadata": {
    "id": "ICJpHjhEEPPC"
   },
   "source": [
    "### 결측치"
   ]
  },
  {
   "cell_type": "code",
   "execution_count": 8,
   "metadata": {
    "colab": {
     "base_uri": "https://localhost:8080/"
    },
    "executionInfo": {
     "elapsed": 6,
     "status": "ok",
     "timestamp": 1668495897963,
     "user": {
      "displayName": "도형준",
      "userId": "02502359465021973562"
     },
     "user_tz": -540
    },
    "id": "k2WIpwx2EGWf",
    "outputId": "8c19c91e-397c-4ed8-8c99-6a8fa37b314b"
   },
   "outputs": [
    {
     "data": {
      "text/plain": [
       "expected_num_interested_in_me   0.79\n",
       "shared_interests_o              0.13\n",
       "shared_interests_partner        0.13\n",
       "ambitous_o                      0.09\n",
       "ambition_partner                0.08\n",
       "met                             0.04\n",
       "funny_o                         0.04\n",
       "funny_partner                   0.04\n",
       "guess_prob_liked                0.04\n",
       "intelligence_o                  0.04\n",
       "intelligence_partner            0.04\n",
       "sincere_o                       0.03\n",
       "sincere_partner                 0.03\n",
       "like                            0.03\n",
       "attractive_o                    0.03\n",
       "attractive_partner              0.02\n",
       "interests_correlate             0.02\n",
       "pref_o_shared_interests         0.02\n",
       "shared_interests_important      0.01\n",
       "pref_o_ambitious                0.01\n",
       "age_o                           0.01\n",
       "expected_happy_with_sd_people   0.01\n",
       "ambtition_important             0.01\n",
       "pref_o_funny                    0.01\n",
       "age                             0.01\n",
       "pref_o_sincere                  0.01\n",
       "pref_o_attractive               0.01\n",
       "funny_important                 0.01\n",
       "pref_o_intelligence             0.01\n",
       "attractive_important            0.01\n",
       "intellicence_important          0.01\n",
       "sincere_important               0.01\n",
       "importance_same_religion        0.01\n",
       "importance_same_race            0.01\n",
       "race_o                          0.01\n",
       "race                            0.01\n",
       "has_null                        0.00\n",
       "gender                          0.00\n",
       "match                           0.00\n",
       "dtype: float64"
      ]
     },
     "execution_count": 8,
     "metadata": {},
     "output_type": "execute_result"
    }
   ],
   "source": [
    "df.isna().mean().sort_values(ascending=False)"
   ]
  },
  {
   "cell_type": "code",
   "execution_count": 9,
   "metadata": {
    "executionInfo": {
     "elapsed": 6,
     "status": "ok",
     "timestamp": 1668495897964,
     "user": {
      "displayName": "도형준",
      "userId": "02502359465021973562"
     },
     "user_tz": -540
    },
    "id": "Ok3nQ0QnEVrX"
   },
   "outputs": [],
   "source": [
    "df = df.dropna(\n",
    "    subset=['pref_o_attractive', 'pref_o_sincere', 'pref_o_intelligence',\n",
    "            'pref_o_funny', 'pref_o_ambitious', 'pref_o_shared_interests',\n",
    "            'attractive_important', 'sincere_important', 'intellicence_important',\n",
    "            'funny_important', 'ambtition_important', 'shared_interests_important'])\n",
    "# 일부 변수에서 결측치 제거"
   ]
  },
  {
   "cell_type": "code",
   "execution_count": 10,
   "metadata": {
    "executionInfo": {
     "elapsed": 6,
     "status": "ok",
     "timestamp": 1668495897964,
     "user": {
      "displayName": "도형준",
      "userId": "02502359465021973562"
     },
     "user_tz": -540
    },
    "id": "5Lxdc_VZE75I"
   },
   "outputs": [],
   "source": [
    "df.fillna(-99, inplace=True) # 나머지 결측치 -99 (결측치라는 걸 나타냄)"
   ]
  },
  {
   "cell_type": "code",
   "execution_count": 11,
   "metadata": {},
   "outputs": [
    {
     "data": {
      "text/plain": [
       "has_null                        0.00\n",
       "funny_partner                   0.00\n",
       "intellicence_important          0.00\n",
       "funny_important                 0.00\n",
       "ambtition_important             0.00\n",
       "shared_interests_important      0.00\n",
       "attractive_partner              0.00\n",
       "sincere_partner                 0.00\n",
       "intelligence_partner            0.00\n",
       "ambition_partner                0.00\n",
       "attractive_important            0.00\n",
       "shared_interests_partner        0.00\n",
       "interests_correlate             0.00\n",
       "expected_happy_with_sd_people   0.00\n",
       "expected_num_interested_in_me   0.00\n",
       "like                            0.00\n",
       "guess_prob_liked                0.00\n",
       "met                             0.00\n",
       "sincere_important               0.00\n",
       "shared_interests_o              0.00\n",
       "gender                          0.00\n",
       "pref_o_sincere                  0.00\n",
       "age                             0.00\n",
       "age_o                           0.00\n",
       "race                            0.00\n",
       "race_o                          0.00\n",
       "importance_same_race            0.00\n",
       "importance_same_religion        0.00\n",
       "pref_o_attractive               0.00\n",
       "pref_o_intelligence             0.00\n",
       "ambitous_o                      0.00\n",
       "pref_o_funny                    0.00\n",
       "pref_o_ambitious                0.00\n",
       "pref_o_shared_interests         0.00\n",
       "attractive_o                    0.00\n",
       "sincere_o                       0.00\n",
       "intelligence_o                  0.00\n",
       "funny_o                         0.00\n",
       "match                           0.00\n",
       "dtype: float64"
      ]
     },
     "execution_count": 11,
     "metadata": {},
     "output_type": "execute_result"
    }
   ],
   "source": [
    "df.isna().mean().sort_values(ascending=False)"
   ]
  },
  {
   "cell_type": "markdown",
   "metadata": {
    "id": "-6bRvsEZFbKv"
   },
   "source": [
    "## 피쳐 엔지니어링(Feature Engineering)"
   ]
  },
  {
   "cell_type": "markdown",
   "metadata": {
    "id": "KuwimX6nGB-0"
   },
   "source": [
    "- 피처(Feature) == 독립변수들... / 엔지니어링 -> 가공해서 더 유의미하게 쓰겠다\n",
    "- 나이? 중요도? -> 계산 -> 합쳐주거나, 새로운 변수화"
   ]
  },
  {
   "cell_type": "markdown",
   "metadata": {
    "id": "zVR-YgjjGELW"
   },
   "source": [
    "### 나이"
   ]
  },
  {
   "cell_type": "code",
   "execution_count": 12,
   "metadata": {
    "executionInfo": {
     "elapsed": 5,
     "status": "ok",
     "timestamp": 1668495897964,
     "user": {
      "displayName": "도형준",
      "userId": "02502359465021973562"
     },
     "user_tz": -540
    },
    "id": "azakivtrFW-v"
   },
   "outputs": [],
   "source": [
    "# apply(axis=1)\n",
    "# df.age = 본인의 나이, df.age_o = 상대방 나이\n",
    "def age_gap(x) : # 행 전체\n",
    "    if x['age'] == -99: # 내 나이가 결측치면\n",
    "        return -99 # 나이 차이도 결측치\n",
    "    if x['age_o'] == -99: # 상대방 결측치면\n",
    "        return -99\n",
    "    if x['gender'] == 'female':\n",
    "        return x['age_o'] - x['age'] # 상대방의 나이가 얼마나 더 많은지 (여성)\n",
    "    if x['gender'] == 'male':\n",
    "        return x['age'] - x['age_o'] # 내가 상대방보다 나이가 얼마나 많은지 (남성)"
   ]
  },
  {
   "cell_type": "code",
   "execution_count": 13,
   "metadata": {
    "colab": {
     "base_uri": "https://localhost:8080/"
    },
    "executionInfo": {
     "elapsed": 684,
     "status": "ok",
     "timestamp": 1668495898643,
     "user": {
      "displayName": "도형준",
      "userId": "02502359465021973562"
     },
     "user_tz": -540
    },
    "id": "QtY5V5ikIolK",
    "outputId": "d479edd8-64cb-4454-8d5f-6720ab170f94"
   },
   "outputs": [
    {
     "data": {
      "text/plain": [
       "0   6.00\n",
       "1   1.00\n",
       "2   1.00\n",
       "3   2.00\n",
       "4   3.00\n",
       "Name: age_gap, dtype: float64"
      ]
     },
     "execution_count": 13,
     "metadata": {},
     "output_type": "execute_result"
    }
   ],
   "source": [
    "# 나이 차이 + 성별간의 차이\n",
    "df['age_gap'] = df.apply(age_gap, axis=1)\n",
    "df.age_gap.head()"
   ]
  },
  {
   "cell_type": "code",
   "execution_count": 14,
   "metadata": {
    "colab": {
     "base_uri": "https://localhost:8080/"
    },
    "executionInfo": {
     "elapsed": 5,
     "status": "ok",
     "timestamp": 1668495898643,
     "user": {
      "displayName": "도형준",
      "userId": "02502359465021973562"
     },
     "user_tz": -540
    },
    "id": "hAEkVqKPIpCZ",
    "outputId": "e2590c42-16bb-4106-da6e-a47f91b95981"
   },
   "outputs": [
    {
     "data": {
      "text/plain": [
       "array([ 6.,  1.,  2.,  3.,  4.,  9.,  7.,  0.,  5.,  8., 12., 13., 10.,\n",
       "       17., 16., 11., 14., 18., 15., 19., 20., 22., 28., 32., 99.])"
      ]
     },
     "execution_count": 14,
     "metadata": {},
     "output_type": "execute_result"
    }
   ],
   "source": [
    "# 나이 차이만 (절대값)\n",
    "df['age_gap_abs'] = abs(df.age_gap)\n",
    "df.age_gap_abs.unique()"
   ]
  },
  {
   "cell_type": "markdown",
   "metadata": {
    "id": "uBZfO9d5XpqM"
   },
   "source": [
    "### 인종"
   ]
  },
  {
   "cell_type": "code",
   "execution_count": 15,
   "metadata": {
    "colab": {
     "base_uri": "https://localhost:8080/"
    },
    "executionInfo": {
     "elapsed": 3,
     "status": "ok",
     "timestamp": 1668495898643,
     "user": {
      "displayName": "도형준",
      "userId": "02502359465021973562"
     },
     "user_tz": -540
    },
    "id": "XmxlJ2VvK_Gm",
    "outputId": "ceb8379a-1c7c-4b1c-dc68-1aa7bda52e11"
   },
   "outputs": [
    {
     "data": {
      "text/plain": [
       "array(['Asian/PacificIslander/Asian-American',\n",
       "       'European/Caucasian-American', 'Other', 'Latino/HispanicAmerican',\n",
       "       'Black/AfricanAmerican'], dtype=object)"
      ]
     },
     "execution_count": 15,
     "metadata": {},
     "output_type": "execute_result"
    }
   ],
   "source": [
    "df.race.unique()"
   ]
  },
  {
   "cell_type": "code",
   "execution_count": 16,
   "metadata": {
    "executionInfo": {
     "elapsed": 2,
     "status": "ok",
     "timestamp": 1668495898643,
     "user": {
      "displayName": "도형준",
      "userId": "02502359465021973562"
     },
     "user_tz": -540
    },
    "id": "cJDdladLJnTO"
   },
   "outputs": [],
   "source": [
    "# df.race, df.race_o\n",
    "def same_race(x):\n",
    "    if x.race == -99: return -99\n",
    "    if x.race_o == -99: return -99\n",
    "    if x.race == x.race_o: return 1\n",
    "    return -1"
   ]
  },
  {
   "cell_type": "code",
   "execution_count": 17,
   "metadata": {
    "colab": {
     "base_uri": "https://localhost:8080/"
    },
    "executionInfo": {
     "elapsed": 849,
     "status": "ok",
     "timestamp": 1668495899491,
     "user": {
      "displayName": "도형준",
      "userId": "02502359465021973562"
     },
     "user_tz": -540
    },
    "id": "kSL7lvOGKU-D",
    "outputId": "2d32d0b8-2a0b-459c-844a-46e299b868ca"
   },
   "outputs": [
    {
     "data": {
      "text/plain": [
       "array([-1,  1], dtype=int64)"
      ]
     },
     "execution_count": 17,
     "metadata": {},
     "output_type": "execute_result"
    }
   ],
   "source": [
    "df['same_race'] = df.apply(same_race, axis=1)\n",
    "df.same_race.unique()"
   ]
  },
  {
   "cell_type": "code",
   "execution_count": 18,
   "metadata": {},
   "outputs": [
    {
     "data": {
      "text/plain": [
       "1.00     2749\n",
       "3.00      964\n",
       "2.00      938\n",
       "5.00      644\n",
       "8.00      631\n",
       "7.00      536\n",
       "6.00      516\n",
       "4.00      494\n",
       "9.00      404\n",
       "10.00     246\n",
       "0.00        8\n",
       "Name: importance_same_race, dtype: int64"
      ]
     },
     "execution_count": 18,
     "metadata": {},
     "output_type": "execute_result"
    }
   ],
   "source": [
    "df.importance_same_race.value_counts()"
   ]
  },
  {
   "cell_type": "code",
   "execution_count": 19,
   "metadata": {
    "executionInfo": {
     "elapsed": 1,
     "status": "ok",
     "timestamp": 1668495899491,
     "user": {
      "displayName": "도형준",
      "userId": "02502359465021973562"
     },
     "user_tz": -540
    },
    "id": "eu1JRiKbLE9W"
   },
   "outputs": [],
   "source": [
    "def same_race_point(x): # apply(axis=1)\n",
    "    if x['same_race'] == -99: # 결측치면\n",
    "        return -99 # 결측치로 두고\n",
    "    # 1, -1\n",
    "    return x['same_race'] * x['importance_same_race']"
   ]
  },
  {
   "cell_type": "code",
   "execution_count": 20,
   "metadata": {
    "colab": {
     "base_uri": "https://localhost:8080/"
    },
    "executionInfo": {
     "elapsed": 598,
     "status": "ok",
     "timestamp": 1668495900088,
     "user": {
      "displayName": "도형준",
      "userId": "02502359465021973562"
     },
     "user_tz": -540
    },
    "id": "4-B9I5DOMYW8",
    "outputId": "31ac005f-51f7-43ee-8922-c4ff6f41d00b"
   },
   "outputs": [
    {
     "data": {
      "text/plain": [
       "-1.00     1765\n",
       "1.00       984\n",
       "-3.00      611\n",
       "-2.00      575\n",
       "2.00       363\n",
       "-5.00      354\n",
       "3.00       353\n",
       "8.00       321\n",
       "-6.00      316\n",
       "-7.00      312\n",
       "-8.00      310\n",
       "5.00       290\n",
       "-4.00      272\n",
       "7.00       224\n",
       "4.00       222\n",
       "-9.00      211\n",
       "6.00       200\n",
       "9.00       193\n",
       "10.00      130\n",
       "-10.00     116\n",
       "0.00         8\n",
       "Name: same_race_point, dtype: int64"
      ]
     },
     "execution_count": 20,
     "metadata": {},
     "output_type": "execute_result"
    }
   ],
   "source": [
    "df['same_race_point'] = df.apply(same_race_point, axis=1)\n",
    "df.same_race_point.value_counts()"
   ]
  },
  {
   "cell_type": "code",
   "execution_count": 21,
   "metadata": {
    "colab": {
     "base_uri": "https://localhost:8080/",
     "height": 424
    },
    "executionInfo": {
     "elapsed": 14,
     "status": "ok",
     "timestamp": 1668495900089,
     "user": {
      "displayName": "도형준",
      "userId": "02502359465021973562"
     },
     "user_tz": -540
    },
    "id": "VXGuddR5Mfdo",
    "outputId": "2c7074e5-ca10-40a2-86d4-0831e123e33b"
   },
   "outputs": [
    {
     "data": {
      "text/html": [
       "<div>\n",
       "<style scoped>\n",
       "    .dataframe tbody tr th:only-of-type {\n",
       "        vertical-align: middle;\n",
       "    }\n",
       "\n",
       "    .dataframe tbody tr th {\n",
       "        vertical-align: top;\n",
       "    }\n",
       "\n",
       "    .dataframe thead th {\n",
       "        text-align: right;\n",
       "    }\n",
       "</style>\n",
       "<table border=\"1\" class=\"dataframe\">\n",
       "  <thead>\n",
       "    <tr style=\"text-align: right;\">\n",
       "      <th></th>\n",
       "      <th>race</th>\n",
       "      <th>race_o</th>\n",
       "      <th>same_race</th>\n",
       "      <th>same_race_point</th>\n",
       "      <th>same_race_point</th>\n",
       "    </tr>\n",
       "  </thead>\n",
       "  <tbody>\n",
       "    <tr>\n",
       "      <th>0</th>\n",
       "      <td>Asian/PacificIslander/Asian-American</td>\n",
       "      <td>European/Caucasian-American</td>\n",
       "      <td>-1</td>\n",
       "      <td>-2.00</td>\n",
       "      <td>-2.00</td>\n",
       "    </tr>\n",
       "    <tr>\n",
       "      <th>1</th>\n",
       "      <td>Asian/PacificIslander/Asian-American</td>\n",
       "      <td>European/Caucasian-American</td>\n",
       "      <td>-1</td>\n",
       "      <td>-2.00</td>\n",
       "      <td>-2.00</td>\n",
       "    </tr>\n",
       "    <tr>\n",
       "      <th>2</th>\n",
       "      <td>Asian/PacificIslander/Asian-American</td>\n",
       "      <td>Asian/PacificIslander/Asian-American</td>\n",
       "      <td>1</td>\n",
       "      <td>2.00</td>\n",
       "      <td>2.00</td>\n",
       "    </tr>\n",
       "    <tr>\n",
       "      <th>3</th>\n",
       "      <td>Asian/PacificIslander/Asian-American</td>\n",
       "      <td>European/Caucasian-American</td>\n",
       "      <td>-1</td>\n",
       "      <td>-2.00</td>\n",
       "      <td>-2.00</td>\n",
       "    </tr>\n",
       "    <tr>\n",
       "      <th>4</th>\n",
       "      <td>Asian/PacificIslander/Asian-American</td>\n",
       "      <td>Latino/HispanicAmerican</td>\n",
       "      <td>-1</td>\n",
       "      <td>-2.00</td>\n",
       "      <td>-2.00</td>\n",
       "    </tr>\n",
       "    <tr>\n",
       "      <th>...</th>\n",
       "      <td>...</td>\n",
       "      <td>...</td>\n",
       "      <td>...</td>\n",
       "      <td>...</td>\n",
       "      <td>...</td>\n",
       "    </tr>\n",
       "    <tr>\n",
       "      <th>8372</th>\n",
       "      <td>European/Caucasian-American</td>\n",
       "      <td>European/Caucasian-American</td>\n",
       "      <td>1</td>\n",
       "      <td>1.00</td>\n",
       "      <td>1.00</td>\n",
       "    </tr>\n",
       "    <tr>\n",
       "      <th>8373</th>\n",
       "      <td>European/Caucasian-American</td>\n",
       "      <td>Latino/HispanicAmerican</td>\n",
       "      <td>-1</td>\n",
       "      <td>-1.00</td>\n",
       "      <td>-1.00</td>\n",
       "    </tr>\n",
       "    <tr>\n",
       "      <th>8374</th>\n",
       "      <td>European/Caucasian-American</td>\n",
       "      <td>Other</td>\n",
       "      <td>-1</td>\n",
       "      <td>-1.00</td>\n",
       "      <td>-1.00</td>\n",
       "    </tr>\n",
       "    <tr>\n",
       "      <th>8376</th>\n",
       "      <td>European/Caucasian-American</td>\n",
       "      <td>Asian/PacificIslander/Asian-American</td>\n",
       "      <td>-1</td>\n",
       "      <td>-1.00</td>\n",
       "      <td>-1.00</td>\n",
       "    </tr>\n",
       "    <tr>\n",
       "      <th>8377</th>\n",
       "      <td>European/Caucasian-American</td>\n",
       "      <td>Asian/PacificIslander/Asian-American</td>\n",
       "      <td>-1</td>\n",
       "      <td>-1.00</td>\n",
       "      <td>-1.00</td>\n",
       "    </tr>\n",
       "  </tbody>\n",
       "</table>\n",
       "<p>8130 rows × 5 columns</p>\n",
       "</div>"
      ],
      "text/plain": [
       "                                      race  \\\n",
       "0     Asian/PacificIslander/Asian-American   \n",
       "1     Asian/PacificIslander/Asian-American   \n",
       "2     Asian/PacificIslander/Asian-American   \n",
       "3     Asian/PacificIslander/Asian-American   \n",
       "4     Asian/PacificIslander/Asian-American   \n",
       "...                                    ...   \n",
       "8372           European/Caucasian-American   \n",
       "8373           European/Caucasian-American   \n",
       "8374           European/Caucasian-American   \n",
       "8376           European/Caucasian-American   \n",
       "8377           European/Caucasian-American   \n",
       "\n",
       "                                    race_o  same_race  same_race_point  \\\n",
       "0              European/Caucasian-American         -1            -2.00   \n",
       "1              European/Caucasian-American         -1            -2.00   \n",
       "2     Asian/PacificIslander/Asian-American          1             2.00   \n",
       "3              European/Caucasian-American         -1            -2.00   \n",
       "4                  Latino/HispanicAmerican         -1            -2.00   \n",
       "...                                    ...        ...              ...   \n",
       "8372           European/Caucasian-American          1             1.00   \n",
       "8373               Latino/HispanicAmerican         -1            -1.00   \n",
       "8374                                 Other         -1            -1.00   \n",
       "8376  Asian/PacificIslander/Asian-American         -1            -1.00   \n",
       "8377  Asian/PacificIslander/Asian-American         -1            -1.00   \n",
       "\n",
       "      same_race_point  \n",
       "0               -2.00  \n",
       "1               -2.00  \n",
       "2                2.00  \n",
       "3               -2.00  \n",
       "4               -2.00  \n",
       "...               ...  \n",
       "8372             1.00  \n",
       "8373            -1.00  \n",
       "8374            -1.00  \n",
       "8376            -1.00  \n",
       "8377            -1.00  \n",
       "\n",
       "[8130 rows x 5 columns]"
      ]
     },
     "execution_count": 21,
     "metadata": {},
     "output_type": "execute_result"
    }
   ],
   "source": [
    "df[['race', 'race_o', 'same_race', 'same_race_point', 'same_race_point']]"
   ]
  },
  {
   "cell_type": "markdown",
   "metadata": {
    "id": "tI2uwMr0XukX"
   },
   "source": [
    "### 중요도 + 점수 => 파생변수"
   ]
  },
  {
   "cell_type": "code",
   "execution_count": 22,
   "metadata": {
    "executionInfo": {
     "elapsed": 13,
     "status": "ok",
     "timestamp": 1668495900089,
     "user": {
      "displayName": "도형준",
      "userId": "02502359465021973562"
     },
     "user_tz": -540
    },
    "id": "3SF1KFAdQmvX"
   },
   "outputs": [],
   "source": [
    "# 중요도 * 점수 => 파생변수 (함수)\n",
    "# importance(중요하게 여기는 대상), score(그 대상에 얼마나 점수를 주는지)\n",
    "# -> 칼럼 이름\n",
    "def rating(data, importance, score): # 점수를 부여하는 함수\n",
    "    if data[importance] == -99: return -99 # 결측치\n",
    "    if data[score] == -99: return -99 # 결측치\n",
    "    return data[importance] * data[score] # 중요한 것 * 그것에 대한 점수"
   ]
  },
  {
   "cell_type": "code",
   "execution_count": 23,
   "metadata": {
    "colab": {
     "base_uri": "https://localhost:8080/"
    },
    "executionInfo": {
     "elapsed": 13,
     "status": "ok",
     "timestamp": 1668495900089,
     "user": {
      "displayName": "도형준",
      "userId": "02502359465021973562"
     },
     "user_tz": -540
    },
    "id": "xllYvcwmRtIA",
    "outputId": "a1b2316c-6d66-49fe-ef30-1bbd89eb1ddb"
   },
   "outputs": [
    {
     "data": {
      "text/plain": [
       "Index(['pref_o_attractive', 'pref_o_sincere', 'pref_o_intelligence',\n",
       "       'pref_o_funny', 'pref_o_ambitious', 'pref_o_shared_interests'],\n",
       "      dtype='object')"
      ]
     },
     "execution_count": 23,
     "metadata": {},
     "output_type": "execute_result"
    }
   ],
   "source": [
    "df.columns[8:14] # 상대방의 선호도 (8~13)"
   ]
  },
  {
   "cell_type": "code",
   "execution_count": 24,
   "metadata": {
    "colab": {
     "base_uri": "https://localhost:8080/"
    },
    "executionInfo": {
     "elapsed": 11,
     "status": "ok",
     "timestamp": 1668495900089,
     "user": {
      "displayName": "도형준",
      "userId": "02502359465021973562"
     },
     "user_tz": -540
    },
    "id": "eSLB_GHrSd5v",
    "outputId": "a67c623d-9d0a-40b1-bbb0-58d84713c4fe"
   },
   "outputs": [
    {
     "data": {
      "text/plain": [
       "Index(['attractive_o', 'sincere_o', 'intelligence_o', 'funny_o', 'ambitous_o',\n",
       "       'shared_interests_o'],\n",
       "      dtype='object')"
      ]
     },
     "execution_count": 24,
     "metadata": {},
     "output_type": "execute_result"
    }
   ],
   "source": [
    "df.columns[14:20] # 본인에 대한 상대방의 평가 (14~19) - 상대방이 이 분류에 대해 나를 어떻게 생각하는지"
   ]
  },
  {
   "cell_type": "code",
   "execution_count": 25,
   "metadata": {
    "colab": {
     "base_uri": "https://localhost:8080/"
    },
    "executionInfo": {
     "elapsed": 9,
     "status": "ok",
     "timestamp": 1668495900089,
     "user": {
      "displayName": "도형준",
      "userId": "02502359465021973562"
     },
     "user_tz": -540
    },
    "id": "3jOf3cxQSnre",
    "outputId": "553d74d3-5ba8-4d02-c2df-c198e696e4f5"
   },
   "outputs": [
    {
     "data": {
      "text/plain": [
       "Index(['attractive_important', 'sincere_important', 'intellicence_important',\n",
       "       'funny_important', 'ambtition_important', 'shared_interests_important'],\n",
       "      dtype='object')"
      ]
     },
     "execution_count": 25,
     "metadata": {},
     "output_type": "execute_result"
    }
   ],
   "source": [
    "df.columns[20:26] # 나(본인)의 중요도 - 그 특성에 대한"
   ]
  },
  {
   "cell_type": "code",
   "execution_count": 26,
   "metadata": {
    "colab": {
     "base_uri": "https://localhost:8080/"
    },
    "executionInfo": {
     "elapsed": 7,
     "status": "ok",
     "timestamp": 1668495900089,
     "user": {
      "displayName": "도형준",
      "userId": "02502359465021973562"
     },
     "user_tz": -540
    },
    "id": "6rtH0E37TgJh",
    "outputId": "b1d678be-6525-4687-b70c-16b50407d1dd"
   },
   "outputs": [
    {
     "data": {
      "text/plain": [
       "Index(['attractive_partner', 'sincere_partner', 'intelligence_partner',\n",
       "       'funny_partner', 'ambition_partner', 'shared_interests_partner'],\n",
       "      dtype='object')"
      ]
     },
     "execution_count": 26,
     "metadata": {},
     "output_type": "execute_result"
    }
   ],
   "source": [
    "df.columns[26:32] # 상대방에 대한 본인의 평가"
   ]
  },
  {
   "cell_type": "code",
   "execution_count": 27,
   "metadata": {
    "colab": {
     "base_uri": "https://localhost:8080/"
    },
    "executionInfo": {
     "elapsed": 7,
     "status": "ok",
     "timestamp": 1668495900090,
     "user": {
      "displayName": "도형준",
      "userId": "02502359465021973562"
     },
     "user_tz": -540
    },
    "id": "f96uC5VPTlDt",
    "outputId": "7315a30d-c456-4d4e-b4a0-a4d5c9b23bfc"
   },
   "outputs": [
    {
     "name": "stdout",
     "output_type": "stream",
     "text": [
      "상대방의 선호도 : Index(['pref_o_attractive', 'pref_o_sincere', 'pref_o_intelligence',\n",
      "       'pref_o_funny', 'pref_o_ambitious', 'pref_o_shared_interests'],\n",
      "      dtype='object')\n",
      "본인에 대한 상대방의 평가 : Index(['attractive_o', 'sincere_o', 'intelligence_o', 'funny_o', 'ambitous_o',\n",
      "       'shared_interests_o'],\n",
      "      dtype='object')\n",
      "본인의 선호도 : Index(['attractive_important', 'sincere_important', 'intellicence_important',\n",
      "       'funny_important', 'ambtition_important', 'shared_interests_important'],\n",
      "      dtype='object')\n",
      "상대방에 대한 본인의 평가: Index(['attractive_o', 'sincere_o', 'intelligence_o', 'funny_o', 'ambitous_o',\n",
      "       'shared_interests_o'],\n",
      "      dtype='object')\n"
     ]
    }
   ],
   "source": [
    "print(f\"상대방의 선호도 : {df.columns[8:14]}\")\n",
    "print(f\"본인에 대한 상대방의 평가 : {df.columns[14:20]}\")\n",
    "print(f\"본인의 선호도 : {df.columns[20:26]}\")\n",
    "print(f\"상대방에 대한 본인의 평가: {df.columns[14:20]}\")\n",
    "\n",
    "partner_imp = df.columns[8:14]\n",
    "partner_rate_me = df.columns[14:20]\n",
    "my_imp = df.columns[20:26]\n",
    "my_rate_partner = df.columns[26:32]"
   ]
  },
  {
   "cell_type": "code",
   "execution_count": 28,
   "metadata": {
    "executionInfo": {
     "elapsed": 6,
     "status": "ok",
     "timestamp": 1668495900090,
     "user": {
      "displayName": "도형준",
      "userId": "02502359465021973562"
     },
     "user_tz": -540
    },
    "id": "bg2GHwOiToNU"
   },
   "outputs": [],
   "source": [
    "new_label_partner = ['attrative_p','sincere_partner_p','intelligence_p',\n",
    "                     'funny_p','ambition_p','shared_interests_p']\n",
    "new_label_me = ['attrative_m','sincere_partner_m','intelligence_m',\n",
    "                     'funny_m','ambition_m','shared_interests_m']"
   ]
  },
  {
   "cell_type": "code",
   "execution_count": 29,
   "metadata": {
    "colab": {
     "base_uri": "https://localhost:8080/"
    },
    "executionInfo": {
     "elapsed": 5,
     "status": "ok",
     "timestamp": 1668495900090,
     "user": {
      "displayName": "도형준",
      "userId": "02502359465021973562"
     },
     "user_tz": -540
    },
    "id": "tsrHzk2dURS_",
    "outputId": "0845348e-cf16-4467-f9fc-af20c4c6a6f1"
   },
   "outputs": [
    {
     "name": "stdout",
     "output_type": "stream",
     "text": [
      "attrative_p & pref_o_attractive & attractive_o\n",
      "sincere_partner_p & pref_o_sincere & sincere_o\n",
      "intelligence_p & pref_o_intelligence & intelligence_o\n",
      "funny_p & pref_o_funny & funny_o\n",
      "ambition_p & pref_o_ambitious & ambitous_o\n",
      "shared_interests_p & pref_o_shared_interests & shared_interests_o\n"
     ]
    }
   ],
   "source": [
    "# 평가 점수 x 중요도 => 새로운 라벨\n",
    "for i, j, k in zip(new_label_partner, partner_imp, partner_rate_me):\n",
    "    print(f\"{i} & {j} & {k}\")"
   ]
  },
  {
   "cell_type": "code",
   "execution_count": 30,
   "metadata": {
    "executionInfo": {
     "elapsed": 2263,
     "status": "ok",
     "timestamp": 1668495902349,
     "user": {
      "displayName": "도형준",
      "userId": "02502359465021973562"
     },
     "user_tz": -540
    },
    "id": "cTzx59UfVFvn"
   },
   "outputs": [],
   "source": [
    "# 파트너가 나에게 느끼는 점수 / 상대방의 선호도 / 나에 대한 파트너의 평가\n",
    "for i, j, k in zip(new_label_partner, partner_imp, partner_rate_me):\n",
    "    # i => new_label_partner (새로운 컬럼의 이름) -> df[i]\n",
    "    # j = 상대방의 특정 영역에 대한 선호도 (importance)\n",
    "    # k = 나에 대한 파트너의 평가 (score)\n",
    "    df[i] = df.apply(lambda x: rating(x, j, k), axis=1)"
   ]
  },
  {
   "cell_type": "code",
   "execution_count": 31,
   "metadata": {
    "colab": {
     "base_uri": "https://localhost:8080/"
    },
    "executionInfo": {
     "elapsed": 2,
     "status": "ok",
     "timestamp": 1668495902349,
     "user": {
      "displayName": "도형준",
      "userId": "02502359465021973562"
     },
     "user_tz": -540
    },
    "id": "6IGePF65WXkG",
    "outputId": "17fff5e8-008a-4fee-8399-a54b4a060f57"
   },
   "outputs": [
    {
     "data": {
      "text/plain": [
       "Index(['has_null', 'gender', 'age', 'age_o', 'race', 'race_o',\n",
       "       'importance_same_race', 'importance_same_religion', 'pref_o_attractive',\n",
       "       'pref_o_sincere', 'pref_o_intelligence', 'pref_o_funny',\n",
       "       'pref_o_ambitious', 'pref_o_shared_interests', 'attractive_o',\n",
       "       'sincere_o', 'intelligence_o', 'funny_o', 'ambitous_o',\n",
       "       'shared_interests_o', 'attractive_important', 'sincere_important',\n",
       "       'intellicence_important', 'funny_important', 'ambtition_important',\n",
       "       'shared_interests_important', 'attractive_partner', 'sincere_partner',\n",
       "       'intelligence_partner', 'funny_partner', 'ambition_partner',\n",
       "       'shared_interests_partner', 'interests_correlate',\n",
       "       'expected_happy_with_sd_people', 'expected_num_interested_in_me',\n",
       "       'like', 'guess_prob_liked', 'met', 'match', 'age_gap', 'age_gap_abs',\n",
       "       'same_race', 'same_race_point', 'attrative_p', 'sincere_partner_p',\n",
       "       'intelligence_p', 'funny_p', 'ambition_p', 'shared_interests_p'],\n",
       "      dtype='object')"
      ]
     },
     "execution_count": 31,
     "metadata": {},
     "output_type": "execute_result"
    }
   ],
   "source": [
    "df.columns"
   ]
  },
  {
   "cell_type": "code",
   "execution_count": 32,
   "metadata": {
    "executionInfo": {
     "elapsed": 2167,
     "status": "ok",
     "timestamp": 1668495904515,
     "user": {
      "displayName": "도형준",
      "userId": "02502359465021973562"
     },
     "user_tz": -540
    },
    "id": "7DF46nVkXDK6"
   },
   "outputs": [],
   "source": [
    "# 파트너가 나에게 느끼는 점수 / 상대방의 선호도 / 나에 대한 파트너의 평가\n",
    "for i, j, k in zip(new_label_me, my_imp, my_rate_partner):\n",
    "    # i => new_label_me (새로운 컬럼의 이름) -> df[i]\n",
    "    # j = 나의 상대방 특정 영역에 대한 선호도 (importance)\n",
    "    # k = 상대방에 대한 나의 평가 (score)\n",
    "    df[i] = df.apply(lambda x: rating(x, j, k), axis=1)"
   ]
  },
  {
   "cell_type": "code",
   "execution_count": 33,
   "metadata": {
    "colab": {
     "base_uri": "https://localhost:8080/"
    },
    "executionInfo": {
     "elapsed": 323,
     "status": "ok",
     "timestamp": 1668495904836,
     "user": {
      "displayName": "도형준",
      "userId": "02502359465021973562"
     },
     "user_tz": -540
    },
    "id": "SD-NY41lXEV2",
    "outputId": "04f09f5f-203b-4c96-ef64-157703b7ca9c"
   },
   "outputs": [
    {
     "data": {
      "text/plain": [
       "Index(['has_null', 'gender', 'age', 'age_o', 'race', 'race_o',\n",
       "       'importance_same_race', 'importance_same_religion', 'pref_o_attractive',\n",
       "       'pref_o_sincere', 'pref_o_intelligence', 'pref_o_funny',\n",
       "       'pref_o_ambitious', 'pref_o_shared_interests', 'attractive_o',\n",
       "       'sincere_o', 'intelligence_o', 'funny_o', 'ambitous_o',\n",
       "       'shared_interests_o', 'attractive_important', 'sincere_important',\n",
       "       'intellicence_important', 'funny_important', 'ambtition_important',\n",
       "       'shared_interests_important', 'attractive_partner', 'sincere_partner',\n",
       "       'intelligence_partner', 'funny_partner', 'ambition_partner',\n",
       "       'shared_interests_partner', 'interests_correlate',\n",
       "       'expected_happy_with_sd_people', 'expected_num_interested_in_me',\n",
       "       'like', 'guess_prob_liked', 'met', 'match', 'age_gap', 'age_gap_abs',\n",
       "       'same_race', 'same_race_point', 'attrative_p', 'sincere_partner_p',\n",
       "       'intelligence_p', 'funny_p', 'ambition_p', 'shared_interests_p',\n",
       "       'attrative_m', 'sincere_partner_m', 'intelligence_m', 'funny_m',\n",
       "       'ambition_m', 'shared_interests_m'],\n",
       "      dtype='object')"
      ]
     },
     "execution_count": 33,
     "metadata": {},
     "output_type": "execute_result"
    }
   ],
   "source": [
    "df.columns"
   ]
  },
  {
   "cell_type": "markdown",
   "metadata": {
    "id": "LsqtXYgIXiNd"
   },
   "source": [
    "## 범주형 변수 변환"
   ]
  },
  {
   "cell_type": "code",
   "execution_count": 34,
   "metadata": {
    "colab": {
     "base_uri": "https://localhost:8080/"
    },
    "executionInfo": {
     "elapsed": 7,
     "status": "ok",
     "timestamp": 1668495904836,
     "user": {
      "displayName": "도형준",
      "userId": "02502359465021973562"
     },
     "user_tz": -540
    },
    "id": "qnHbrf38XYZZ",
    "outputId": "48fc1256-be32-4214-c6c0-7ba1ee250ce5"
   },
   "outputs": [
    {
     "name": "stdout",
     "output_type": "stream",
     "text": [
      "<class 'pandas.core.frame.DataFrame'>\n",
      "Int64Index: 8130 entries, 0 to 8377\n",
      "Data columns (total 55 columns):\n",
      " #   Column                         Non-Null Count  Dtype  \n",
      "---  ------                         --------------  -----  \n",
      " 0   has_null                       8130 non-null   int64  \n",
      " 1   gender                         8130 non-null   object \n",
      " 2   age                            8130 non-null   float64\n",
      " 3   age_o                          8130 non-null   float64\n",
      " 4   race                           8130 non-null   object \n",
      " 5   race_o                         8130 non-null   object \n",
      " 6   importance_same_race           8130 non-null   float64\n",
      " 7   importance_same_religion       8130 non-null   float64\n",
      " 8   pref_o_attractive              8130 non-null   float64\n",
      " 9   pref_o_sincere                 8130 non-null   float64\n",
      " 10  pref_o_intelligence            8130 non-null   float64\n",
      " 11  pref_o_funny                   8130 non-null   float64\n",
      " 12  pref_o_ambitious               8130 non-null   float64\n",
      " 13  pref_o_shared_interests        8130 non-null   float64\n",
      " 14  attractive_o                   8130 non-null   float64\n",
      " 15  sincere_o                      8130 non-null   float64\n",
      " 16  intelligence_o                 8130 non-null   float64\n",
      " 17  funny_o                        8130 non-null   float64\n",
      " 18  ambitous_o                     8130 non-null   float64\n",
      " 19  shared_interests_o             8130 non-null   float64\n",
      " 20  attractive_important           8130 non-null   float64\n",
      " 21  sincere_important              8130 non-null   float64\n",
      " 22  intellicence_important         8130 non-null   float64\n",
      " 23  funny_important                8130 non-null   float64\n",
      " 24  ambtition_important            8130 non-null   float64\n",
      " 25  shared_interests_important     8130 non-null   float64\n",
      " 26  attractive_partner             8130 non-null   float64\n",
      " 27  sincere_partner                8130 non-null   float64\n",
      " 28  intelligence_partner           8130 non-null   float64\n",
      " 29  funny_partner                  8130 non-null   float64\n",
      " 30  ambition_partner               8130 non-null   float64\n",
      " 31  shared_interests_partner       8130 non-null   float64\n",
      " 32  interests_correlate            8130 non-null   float64\n",
      " 33  expected_happy_with_sd_people  8130 non-null   float64\n",
      " 34  expected_num_interested_in_me  8130 non-null   float64\n",
      " 35  like                           8130 non-null   float64\n",
      " 36  guess_prob_liked               8130 non-null   float64\n",
      " 37  met                            8130 non-null   float64\n",
      " 38  match                          8130 non-null   int64  \n",
      " 39  age_gap                        8130 non-null   float64\n",
      " 40  age_gap_abs                    8130 non-null   float64\n",
      " 41  same_race                      8130 non-null   int64  \n",
      " 42  same_race_point                8130 non-null   float64\n",
      " 43  attrative_p                    8130 non-null   float64\n",
      " 44  sincere_partner_p              8130 non-null   float64\n",
      " 45  intelligence_p                 8130 non-null   float64\n",
      " 46  funny_p                        8130 non-null   float64\n",
      " 47  ambition_p                     8130 non-null   float64\n",
      " 48  shared_interests_p             8130 non-null   float64\n",
      " 49  attrative_m                    8130 non-null   float64\n",
      " 50  sincere_partner_m              8130 non-null   float64\n",
      " 51  intelligence_m                 8130 non-null   float64\n",
      " 52  funny_m                        8130 non-null   float64\n",
      " 53  ambition_m                     8130 non-null   float64\n",
      " 54  shared_interests_m             8130 non-null   float64\n",
      "dtypes: float64(49), int64(3), object(3)\n",
      "memory usage: 3.5+ MB\n"
     ]
    }
   ],
   "source": [
    "df.info()"
   ]
  },
  {
   "cell_type": "code",
   "execution_count": 35,
   "metadata": {
    "colab": {
     "base_uri": "https://localhost:8080/",
     "height": 175
    },
    "executionInfo": {
     "elapsed": 6,
     "status": "ok",
     "timestamp": 1668495904837,
     "user": {
      "displayName": "도형준",
      "userId": "02502359465021973562"
     },
     "user_tz": -540
    },
    "id": "If2M8P8JX7wc",
    "outputId": "1c93b243-fd70-4ee4-d4aa-b82975015e29"
   },
   "outputs": [
    {
     "data": {
      "text/html": [
       "<div>\n",
       "<style scoped>\n",
       "    .dataframe tbody tr th:only-of-type {\n",
       "        vertical-align: middle;\n",
       "    }\n",
       "\n",
       "    .dataframe tbody tr th {\n",
       "        vertical-align: top;\n",
       "    }\n",
       "\n",
       "    .dataframe thead th {\n",
       "        text-align: right;\n",
       "    }\n",
       "</style>\n",
       "<table border=\"1\" class=\"dataframe\">\n",
       "  <thead>\n",
       "    <tr style=\"text-align: right;\">\n",
       "      <th></th>\n",
       "      <th>gender</th>\n",
       "      <th>race</th>\n",
       "      <th>race_o</th>\n",
       "    </tr>\n",
       "  </thead>\n",
       "  <tbody>\n",
       "    <tr>\n",
       "      <th>count</th>\n",
       "      <td>8130</td>\n",
       "      <td>8130</td>\n",
       "      <td>8130</td>\n",
       "    </tr>\n",
       "    <tr>\n",
       "      <th>unique</th>\n",
       "      <td>2</td>\n",
       "      <td>5</td>\n",
       "      <td>5</td>\n",
       "    </tr>\n",
       "    <tr>\n",
       "      <th>top</th>\n",
       "      <td>female</td>\n",
       "      <td>European/Caucasian-American</td>\n",
       "      <td>European/Caucasian-American</td>\n",
       "    </tr>\n",
       "    <tr>\n",
       "      <th>freq</th>\n",
       "      <td>4065</td>\n",
       "      <td>4629</td>\n",
       "      <td>4629</td>\n",
       "    </tr>\n",
       "  </tbody>\n",
       "</table>\n",
       "</div>"
      ],
      "text/plain": [
       "        gender                         race                       race_o\n",
       "count     8130                         8130                         8130\n",
       "unique       2                            5                            5\n",
       "top     female  European/Caucasian-American  European/Caucasian-American\n",
       "freq      4065                         4629                         4629"
      ]
     },
     "execution_count": 35,
     "metadata": {},
     "output_type": "execute_result"
    }
   ],
   "source": [
    "df.describe(include=['O'])"
   ]
  },
  {
   "cell_type": "code",
   "execution_count": 36,
   "metadata": {
    "colab": {
     "base_uri": "https://localhost:8080/"
    },
    "executionInfo": {
     "elapsed": 5,
     "status": "ok",
     "timestamp": 1668495904837,
     "user": {
      "displayName": "도형준",
      "userId": "02502359465021973562"
     },
     "user_tz": -540
    },
    "id": "g_Eve89vX99i",
    "outputId": "07a36806-e88e-4816-f289-1b302a813d3c"
   },
   "outputs": [
    {
     "name": "stdout",
     "output_type": "stream",
     "text": [
      "<class 'pandas.core.frame.DataFrame'>\n",
      "Int64Index: 8130 entries, 0 to 8377\n",
      "Data columns (total 61 columns):\n",
      " #   Column                              Non-Null Count  Dtype  \n",
      "---  ------                              --------------  -----  \n",
      " 0   has_null                            8130 non-null   int64  \n",
      " 1   age                                 8130 non-null   float64\n",
      " 2   age_o                               8130 non-null   float64\n",
      " 3   importance_same_race                8130 non-null   float64\n",
      " 4   importance_same_religion            8130 non-null   float64\n",
      " 5   pref_o_attractive                   8130 non-null   float64\n",
      " 6   pref_o_sincere                      8130 non-null   float64\n",
      " 7   pref_o_intelligence                 8130 non-null   float64\n",
      " 8   pref_o_funny                        8130 non-null   float64\n",
      " 9   pref_o_ambitious                    8130 non-null   float64\n",
      " 10  pref_o_shared_interests             8130 non-null   float64\n",
      " 11  attractive_o                        8130 non-null   float64\n",
      " 12  sincere_o                           8130 non-null   float64\n",
      " 13  intelligence_o                      8130 non-null   float64\n",
      " 14  funny_o                             8130 non-null   float64\n",
      " 15  ambitous_o                          8130 non-null   float64\n",
      " 16  shared_interests_o                  8130 non-null   float64\n",
      " 17  attractive_important                8130 non-null   float64\n",
      " 18  sincere_important                   8130 non-null   float64\n",
      " 19  intellicence_important              8130 non-null   float64\n",
      " 20  funny_important                     8130 non-null   float64\n",
      " 21  ambtition_important                 8130 non-null   float64\n",
      " 22  shared_interests_important          8130 non-null   float64\n",
      " 23  attractive_partner                  8130 non-null   float64\n",
      " 24  sincere_partner                     8130 non-null   float64\n",
      " 25  intelligence_partner                8130 non-null   float64\n",
      " 26  funny_partner                       8130 non-null   float64\n",
      " 27  ambition_partner                    8130 non-null   float64\n",
      " 28  shared_interests_partner            8130 non-null   float64\n",
      " 29  interests_correlate                 8130 non-null   float64\n",
      " 30  expected_happy_with_sd_people       8130 non-null   float64\n",
      " 31  expected_num_interested_in_me       8130 non-null   float64\n",
      " 32  like                                8130 non-null   float64\n",
      " 33  guess_prob_liked                    8130 non-null   float64\n",
      " 34  met                                 8130 non-null   float64\n",
      " 35  match                               8130 non-null   int64  \n",
      " 36  age_gap                             8130 non-null   float64\n",
      " 37  age_gap_abs                         8130 non-null   float64\n",
      " 38  same_race                           8130 non-null   int64  \n",
      " 39  same_race_point                     8130 non-null   float64\n",
      " 40  attrative_p                         8130 non-null   float64\n",
      " 41  sincere_partner_p                   8130 non-null   float64\n",
      " 42  intelligence_p                      8130 non-null   float64\n",
      " 43  funny_p                             8130 non-null   float64\n",
      " 44  ambition_p                          8130 non-null   float64\n",
      " 45  shared_interests_p                  8130 non-null   float64\n",
      " 46  attrative_m                         8130 non-null   float64\n",
      " 47  sincere_partner_m                   8130 non-null   float64\n",
      " 48  intelligence_m                      8130 non-null   float64\n",
      " 49  funny_m                             8130 non-null   float64\n",
      " 50  ambition_m                          8130 non-null   float64\n",
      " 51  shared_interests_m                  8130 non-null   float64\n",
      " 52  gender_male                         8130 non-null   uint8  \n",
      " 53  race_Black/AfricanAmerican          8130 non-null   uint8  \n",
      " 54  race_European/Caucasian-American    8130 non-null   uint8  \n",
      " 55  race_Latino/HispanicAmerican        8130 non-null   uint8  \n",
      " 56  race_Other                          8130 non-null   uint8  \n",
      " 57  race_o_Black/AfricanAmerican        8130 non-null   uint8  \n",
      " 58  race_o_European/Caucasian-American  8130 non-null   uint8  \n",
      " 59  race_o_Latino/HispanicAmerican      8130 non-null   uint8  \n",
      " 60  race_o_Other                        8130 non-null   uint8  \n",
      "dtypes: float64(49), int64(3), uint8(9)\n",
      "memory usage: 3.4 MB\n"
     ]
    }
   ],
   "source": [
    "df = pd.get_dummies(df, columns=['gender', 'race', 'race_o'], drop_first=True)\n",
    "df.info()"
   ]
  },
  {
   "cell_type": "markdown",
   "metadata": {
    "id": "VRMr-gn_YchF"
   },
   "source": [
    "## 모델링 및 평가"
   ]
  },
  {
   "cell_type": "markdown",
   "metadata": {
    "id": "EtkA6jZbYwnE"
   },
   "source": [
    "## 훈련, 테스트 셋 나누기"
   ]
  },
  {
   "cell_type": "code",
   "execution_count": 37,
   "metadata": {
    "executionInfo": {
     "elapsed": 1784,
     "status": "ok",
     "timestamp": 1668495906618,
     "user": {
      "displayName": "도형준",
      "userId": "02502359465021973562"
     },
     "user_tz": -540
    },
    "id": "lH2kHvehX-0n"
   },
   "outputs": [],
   "source": [
    "from sklearn.model_selection import train_test_split\n",
    "X = df.drop('match', axis=1)\n",
    "y = df.match\n",
    "X_train, X_test, y_train, y_test = train_test_split(X, y,\n",
    "                                                    test_size=0.2, random_state=100)"
   ]
  },
  {
   "cell_type": "markdown",
   "metadata": {
    "id": "DLVQ_OSLY6Uu"
   },
   "source": [
    "### 모델링"
   ]
  },
  {
   "cell_type": "code",
   "execution_count": 38,
   "metadata": {
    "executionInfo": {
     "elapsed": 3,
     "status": "ok",
     "timestamp": 1668495906619,
     "user": {
      "displayName": "도형준",
      "userId": "02502359465021973562"
     },
     "user_tz": -540
    },
    "id": "HP2gVcfrY5_1"
   },
   "outputs": [],
   "source": [
    "import xgboost as xgb\n",
    "# 모델 객체\n",
    "model = xgb.XGBClassifier(n_estimators=500, max_depth=5, random_state=100)"
   ]
  },
  {
   "cell_type": "code",
   "execution_count": 39,
   "metadata": {
    "colab": {
     "base_uri": "https://localhost:8080/"
    },
    "executionInfo": {
     "elapsed": 11125,
     "status": "ok",
     "timestamp": 1668495917742,
     "user": {
      "displayName": "도형준",
      "userId": "02502359465021973562"
     },
     "user_tz": -540
    },
    "id": "oEAr1ESyZKNo",
    "outputId": "c5b17c21-d8b1-4c83-f65b-6a9f4bfb35ea"
   },
   "outputs": [
    {
     "data": {
      "text/plain": [
       "XGBClassifier(base_score=0.5, booster='gbtree', callbacks=None,\n",
       "              colsample_bylevel=1, colsample_bynode=1, colsample_bytree=1,\n",
       "              early_stopping_rounds=None, enable_categorical=False,\n",
       "              eval_metric=None, feature_types=None, gamma=0, gpu_id=-1,\n",
       "              grow_policy='depthwise', importance_type=None,\n",
       "              interaction_constraints='', learning_rate=0.300000012,\n",
       "              max_bin=256, max_cat_threshold=64, max_cat_to_onehot=4,\n",
       "              max_delta_step=0, max_depth=5, max_leaves=0, min_child_weight=1,\n",
       "              missing=nan, monotone_constraints='()', n_estimators=500,\n",
       "              n_jobs=0, num_parallel_tree=1, predictor='auto', random_state=100, ...)"
      ]
     },
     "execution_count": 39,
     "metadata": {},
     "output_type": "execute_result"
    }
   ],
   "source": [
    "model.fit(X_train, y_train)"
   ]
  },
  {
   "cell_type": "code",
   "execution_count": 40,
   "metadata": {
    "executionInfo": {
     "elapsed": 17,
     "status": "ok",
     "timestamp": 1668495917742,
     "user": {
      "displayName": "도형준",
      "userId": "02502359465021973562"
     },
     "user_tz": -540
    },
    "id": "XRssny9waggL"
   },
   "outputs": [],
   "source": [
    "pred = model.predict(X_test)"
   ]
  },
  {
   "cell_type": "code",
   "execution_count": 41,
   "metadata": {
    "executionInfo": {
     "elapsed": 16,
     "status": "ok",
     "timestamp": 1668495917742,
     "user": {
      "displayName": "도형준",
      "userId": "02502359465021973562"
     },
     "user_tz": -540
    },
    "id": "aYx2s-SDZcAk"
   },
   "outputs": [],
   "source": [
    "from sklearn.metrics import accuracy_score, confusion_matrix, classification_report"
   ]
  },
  {
   "cell_type": "code",
   "execution_count": 42,
   "metadata": {
    "colab": {
     "base_uri": "https://localhost:8080/"
    },
    "executionInfo": {
     "elapsed": 16,
     "status": "ok",
     "timestamp": 1668495917742,
     "user": {
      "displayName": "도형준",
      "userId": "02502359465021973562"
     },
     "user_tz": -540
    },
    "id": "ZDKNUrVMaNyY",
    "outputId": "0319ab6f-b7b1-4332-82e2-ecea2cdb080e"
   },
   "outputs": [
    {
     "data": {
      "text/plain": [
       "0.8616236162361623"
      ]
     },
     "execution_count": 42,
     "metadata": {},
     "output_type": "execute_result"
    }
   ],
   "source": [
    "accuracy_score(y_test, pred)"
   ]
  },
  {
   "cell_type": "code",
   "execution_count": 43,
   "metadata": {},
   "outputs": [
    {
     "name": "stdout",
     "output_type": "stream",
     "text": [
      "0.16482164821648215\n"
     ]
    },
    {
     "data": {
      "text/plain": [
       "0.8351783517835178"
      ]
     },
     "execution_count": 43,
     "metadata": {},
     "output_type": "execute_result"
    }
   ],
   "source": [
    "# 매칭 여부\n",
    "print(df.match.mean())\n",
    "1 - df.match.mean() # 데이터가 편향된 상태"
   ]
  },
  {
   "cell_type": "code",
   "execution_count": 44,
   "metadata": {
    "colab": {
     "base_uri": "https://localhost:8080/"
    },
    "executionInfo": {
     "elapsed": 15,
     "status": "ok",
     "timestamp": 1668495917743,
     "user": {
      "displayName": "도형준",
      "userId": "02502359465021973562"
     },
     "user_tz": -540
    },
    "id": "k9XZyYP2aOgm",
    "outputId": "6a8e6d4f-7750-467a-c528-1dad9e49388e"
   },
   "outputs": [
    {
     "name": "stdout",
     "output_type": "stream",
     "text": [
      "[[1291   74]\n",
      " [ 151  110]]\n"
     ]
    },
    {
     "data": {
      "image/png": "[encoded data removed]",
      "text/plain": [
       "<Figure size 432x288 with 2 Axes>"
      ]
     },
     "metadata": {
      "needs_background": "light"
     },
     "output_type": "display_data"
    }
   ],
   "source": [
    "# 오른쪽 위 : 1종 오류 - 실제 틀린데 (0) 맞다고 예측 (1) - 68\n",
    "# 왼쪽 아래 : 2종 오류 - 실제 맞는데 (1) 틀리다고 예측 (0) - 147\n",
    "print(confusion_matrix(y_test, pred))\n",
    "cf_matrix = confusion_matrix(y_test,pred)\n",
    "cf_matrix\n",
    "group_names = ['TN','FP','FN','TP']\n",
    "group_counts = [\"{0:0.0f}\".format(value) for value in\n",
    "                cf_matrix.flatten()]\n",
    "group_percentages = [\"{0:.2%}\".format(value) for value in\n",
    "                     cf_matrix.flatten()/np.sum(cf_matrix)]\n",
    "labels = [f\"{v1}\\n{v2}\\n{v3}\" for v1, v2, v3 in\n",
    "          zip(group_names,group_counts,group_percentages)]\n",
    "labels = np.asarray(labels).reshape(2,2)\n",
    "sns.heatmap(cf_matrix, annot=labels, fmt='', cmap='coolwarm')\n",
    "plt.ylabel('True')\n",
    "plt.xlabel('Predicted')\n",
    "plt.show()\n",
    "# TP(양성을 양성으로 판단)\n",
    "# FN(양성을 음성으로 판단) -> 2종 오류 (맞는데 틀리다고)\n",
    "# FP(음성을 양성으로 판단) -> 1종 오류 (틀린데 맞다고)\n",
    "# TN(음성을 음성으로 판단) "
   ]
  },
  {
   "cell_type": "code",
   "execution_count": 45,
   "metadata": {
    "colab": {
     "base_uri": "https://localhost:8080/"
    },
    "executionInfo": {
     "elapsed": 13,
     "status": "ok",
     "timestamp": 1668495917743,
     "user": {
      "displayName": "도형준",
      "userId": "02502359465021973562"
     },
     "user_tz": -540
    },
    "id": "59ko2_EuaT_i",
    "outputId": "3571e8a2-00d0-45d2-88d7-2504b2f91721"
   },
   "outputs": [
    {
     "name": "stdout",
     "output_type": "stream",
     "text": [
      "              precision    recall  f1-score   support\n",
      "\n",
      "           0       0.90      0.95      0.92      1365\n",
      "           1       0.60      0.42      0.49       261\n",
      "\n",
      "    accuracy                           0.86      1626\n",
      "   macro avg       0.75      0.68      0.71      1626\n",
      "weighted avg       0.85      0.86      0.85      1626\n",
      "\n"
     ]
    }
   ],
   "source": [
    "print(classification_report(y_test, pred))\n",
    "# precision : 정밀도\n",
    "# recall : 재현율\n",
    "# f1-score : F1-점수\n",
    "# support : 인덱스"
   ]
  },
  {
   "cell_type": "markdown",
   "metadata": {},
   "source": [
    "#### 정밀도(precision)\n",
    "* 1로 예측한 경우 중, 얼마만큼이 실제로 1인지를 나타냄<br>\n",
    "$TP\\over(TP+FP)$\n",
    "=\n",
    "$\\frac{양성을 양성으로 판단}{양성을 양성으로 판단 + 1종 오류}$\n",
    "=\n",
    "$\\frac{양성을 양성으로 판단}{양성으로 판단한 수}$\n",
    "> FP가 커질수록 분모가 커지기 때문에 정밀도는 낮아짐 (1종 오류와 관련)"
   ]
  },
  {
   "cell_type": "markdown",
   "metadata": {},
   "source": [
    "#### 재현율(recall)\n",
    "* 실제로 1 중에, 얼마만큼을 1로 예측했는지 나타냄<br>\n",
    "$TP\\over(TP+FN)$\n",
    "=\n",
    "$\\frac{양성을 양성으로 판단}{양성을 양성으로 판단 + 2종 오류}$\n",
    "=\n",
    "$\\frac{양성을 양성으로 판단}{실제로 양성인 수}$\n",
    "> FN가 커질수록 분모가 커지기 때문에 재현율은 낮아짐 (2종 오류와 관련)"
   ]
  },
  {
   "cell_type": "markdown",
   "metadata": {},
   "source": [
    "#### F-1점수(f-score)\n",
    "* 정밀도와 재현율의 조화평균<br>\n",
    "* 조화평균 : 주어진 수들의 역수의 산술평균의 역수\n",
    "    * 예) $H = \\frac{2a_1a_2}{a_1 + a_2}$\n",
    "\n",
    "$2 \\times \\frac{precision \\times recall}{precesion + recall}$\n",
    "=\n",
    "$2 \\times \\frac{정밀도 \\times 재현율}{정밀도 + 재현율}$\n",
    "\n",
    "> 1종 오류가 중요하면 정밀도, 2종 오류가 중요하면 재현율<br>\n",
    "> 딱히 중요한 것 없으면 F1-점수"
   ]
  },
  {
   "cell_type": "markdown",
   "metadata": {
    "id": "WdluZtmjGgBB"
   },
   "source": [
    "## 하이퍼 파라미터 튜닝"
   ]
  },
  {
   "cell_type": "markdown",
   "metadata": {},
   "source": [
    "### 경사하강법\n",
    "* 머신 러닝이 학습시킬 때 최소의 오차를 찾는 방법\n",
    "* 오차 함수에 대한 경사도(미분계수)를 기준으로 매개변수를 반복적으로 이동해가며 최소 오차를 찾음\n",
    "* 매개변수? : 선형 회귀에서의 계수(변수에 대한 기울기 값)에 해당\n",
    "\n",
    "**경사하강법과 보폭**\n",
    "* 경사부스팅의 핵심개념 중 하나로, 모델이 어떻게 최소 오차가 되는 매개변수들을 학습하는지에 대한 방법\n",
    "* 오차식에 대한 미분계수를 통해 매개 변수의 이동 방향과 보폭을 결정합니다\n",
    "* 보폭은 매개변수를 얼만큼씩 이동할지를 의미\n",
    "\n",
    "**미분계수**\n",
    "* 평균변화율에서 x의 증가량을 0으로 가깝게 할 때의 평균변화율\n",
    "* 그래프 상에서 접선의 기울기, 계수"
   ]
  },
  {
   "cell_type": "markdown",
   "metadata": {
    "id": "aecYQ7yqGi6I"
   },
   "source": [
    "### 그리드 서치"
   ]
  },
  {
   "cell_type": "markdown",
   "metadata": {},
   "source": [
    "* learning_rate\n",
    "    * 경사하강법에서 ‘매개변수’를 얼만큼씩 이동해가면서 최소 오차를 찾을지, 그 보폭의 크기를 결정하는 하이퍼파라미터.\n",
    "    * 기본적으로 보폭은 미분계수에 의해 결정되지만, learning_rate를 크게 하면 더 큰 보폭을, 작게 하면 그만큼 작은 보폭으로 움직임.\n",
    "    * learning rate를 우리말로 학습률이라고 함\n",
    "    * 학습률과 보폭 : 학습률은 입력, 보폭은 그 결과. 큰 학습률을 사용하면 결과적으로 보폭도 커짐\n",
    "    * 너무 작은 학습률 -> 상당한 시간이 들고, 오버피팅 문제 일어남\n",
    "    * 너무 큰 학습률 -> 학습이 제대로 안 됨\n",
    "    * 적절한 크기의 학습률을 사용해야만 큰 시간을 들이지 않고 최소 오차 지점을 찾을 수 있음\n",
    "• max_depth : 각 트리의 깊이를 제한\n",
    "• subsample : 모델을 학습시킬 때 일부 데이터만 사용하여 각 트리를 만듦. 0.5를 쓰면 데\n",
    "이터의 절반씩만 랜덤 추출하여 트리를 만듦. 이 또한 오버피팅을 방지하는 데 도움이 됨\n",
    "• n_estimators : 전체 나무의 개수"
   ]
  },
  {
   "cell_type": "code",
   "execution_count": 47,
   "metadata": {
    "executionInfo": {
     "elapsed": 11,
     "status": "ok",
     "timestamp": 1668495917743,
     "user": {
      "displayName": "도형준",
      "userId": "02502359465021973562"
     },
     "user_tz": -540
    },
    "id": "lWChQpy-weC9"
   },
   "outputs": [],
   "source": [
    "parameter = {\n",
    "    'learning_rate': [0.01, 0.1, 0.3], # 경사하강법 : '매개변수' -> 최소오차 -> 보폭 크기\n",
    "    'max_depth': [5, 7, 10], # 트리의 깊이 (오버피팅)\n",
    "    'subsample': [0.5, 0.7, 1], # 추출할 데이터 비율\n",
    "    'n_estimators': [300, 500, 1000] # 트리 개수\n",
    "}"
   ]
  },
  {
   "cell_type": "code",
   "execution_count": 48,
   "metadata": {
    "executionInfo": {
     "elapsed": 10,
     "status": "ok",
     "timestamp": 1668495917743,
     "user": {
      "displayName": "도형준",
      "userId": "02502359465021973562"
     },
     "user_tz": -540
    },
    "id": "28TzK72_xOdG"
   },
   "outputs": [],
   "source": [
    "from sklearn.model_selection import GridSearchCV"
   ]
  },
  {
   "cell_type": "code",
   "execution_count": 49,
   "metadata": {
    "executionInfo": {
     "elapsed": 10,
     "status": "ok",
     "timestamp": 1668495917743,
     "user": {
      "displayName": "도형준",
      "userId": "02502359465021973562"
     },
     "user_tz": -540
    },
    "id": "62JFbLjRxjqj"
   },
   "outputs": [],
   "source": [
    "model = xgb.XGBClassifier()"
   ]
  },
  {
   "cell_type": "code",
   "execution_count": 50,
   "metadata": {
    "executionInfo": {
     "elapsed": 10,
     "status": "ok",
     "timestamp": 1668495917743,
     "user": {
      "displayName": "도형준",
      "userId": "02502359465021973562"
     },
     "user_tz": -540
    },
    "id": "lmbieRe8xnoS"
   },
   "outputs": [],
   "source": [
    "gs_model = GridSearchCV(model, parameter, n_jobs=-1, scoring='f1', cv = 5)"
   ]
  },
  {
   "cell_type": "code",
   "execution_count": 51,
   "metadata": {
    "executionInfo": {
     "elapsed": 10,
     "status": "ok",
     "timestamp": 1668495917743,
     "user": {
      "displayName": "도형준",
      "userId": "02502359465021973562"
     },
     "user_tz": -540
    },
    "id": "Y_W5aVzwx8h0"
   },
   "outputs": [
    {
     "data": {
      "text/plain": [
       "GridSearchCV(cv=5,\n",
       "             estimator=XGBClassifier(base_score=None, booster=None,\n",
       "                                     callbacks=None, colsample_bylevel=None,\n",
       "                                     colsample_bynode=None,\n",
       "                                     colsample_bytree=None,\n",
       "                                     early_stopping_rounds=None,\n",
       "                                     enable_categorical=False, eval_metric=None,\n",
       "                                     feature_types=None, gamma=None,\n",
       "                                     gpu_id=None, grow_policy=None,\n",
       "                                     importance_type=None,\n",
       "                                     interaction_constraints=None,\n",
       "                                     learning_rate=None,...\n",
       "                                     max_cat_to_onehot=None,\n",
       "                                     max_delta_step=None, max_depth=None,\n",
       "                                     max_leaves=None, min_child_weight=None,\n",
       "                                     missing=nan, monotone_constraints=None,\n",
       "                                     n_estimators=100, n_jobs=None,\n",
       "                                     num_parallel_tree=None, predictor=None,\n",
       "                                     random_state=None, ...),\n",
       "             n_jobs=-1,\n",
       "             param_grid={'learning_rate': [0.01, 0.1, 0.3],\n",
       "                         'max_depth': [5, 7, 10],\n",
       "                         'n_estimators': [300, 500, 1000],\n",
       "                         'subsample': [0.5, 0.7, 1]},\n",
       "             scoring='f1')"
      ]
     },
     "execution_count": 51,
     "metadata": {},
     "output_type": "execute_result"
    }
   ],
   "source": [
    "gs_model.fit(X_train, y_train)"
   ]
  },
  {
   "cell_type": "code",
   "execution_count": 52,
   "metadata": {},
   "outputs": [
    {
     "name": "stderr",
     "output_type": "stream",
     "text": [
      "WARNING: Ignoring invalid distribution -lotly (c:\\users\\dhj98\\anaconda3\\lib\\site-packages)\n",
      "WARNING: Ignoring invalid distribution -lotly (c:\\users\\dhj98\\anaconda3\\lib\\site-packages)\n",
      "WARNING: Ignoring invalid distribution -lotly (c:\\users\\dhj98\\anaconda3\\lib\\site-packages)\n",
      "WARNING: Ignoring invalid distribution -lotly (c:\\users\\dhj98\\anaconda3\\lib\\site-packages)\n",
      "WARNING: Ignoring invalid distribution -lotly (c:\\users\\dhj98\\anaconda3\\lib\\site-packages)\n",
      "WARNING: Ignoring invalid distribution -lotly (c:\\users\\dhj98\\anaconda3\\lib\\site-packages)\n"
     ]
    },
    {
     "data": {
      "text/plain": [
       "['gs_model.pkl']"
      ]
     },
     "execution_count": 52,
     "metadata": {},
     "output_type": "execute_result"
    }
   ],
   "source": [
    "!pip install mlxtend --quiet\n",
    "\n",
    "import joblib\n",
    "joblib.dump(gs_model, 'gs_model.pkl')"
   ]
  },
  {
   "cell_type": "code",
   "execution_count": 53,
   "metadata": {
    "executionInfo": {
     "elapsed": 11,
     "status": "ok",
     "timestamp": 1668495917744,
     "user": {
      "displayName": "도형준",
      "userId": "02502359465021973562"
     },
     "user_tz": -540
    },
    "id": "XzvqjCqY6Ath"
   },
   "outputs": [
    {
     "data": {
      "text/plain": [
       "{'learning_rate': 0.3, 'max_depth': 5, 'n_estimators': 1000, 'subsample': 0.5}"
      ]
     },
     "execution_count": 53,
     "metadata": {},
     "output_type": "execute_result"
    }
   ],
   "source": [
    "gs_model.best_params_"
   ]
  },
  {
   "cell_type": "code",
   "execution_count": 54,
   "metadata": {
    "executionInfo": {
     "elapsed": 11,
     "status": "ok",
     "timestamp": 1668495917744,
     "user": {
      "displayName": "도형준",
      "userId": "02502359465021973562"
     },
     "user_tz": -540
    },
    "id": "78AUzjSF6bDp"
   },
   "outputs": [],
   "source": [
    "pred = gs_model.predict(X_test)"
   ]
  },
  {
   "cell_type": "code",
   "execution_count": 58,
   "metadata": {
    "executionInfo": {
     "elapsed": 11,
     "status": "ok",
     "timestamp": 1668495917744,
     "user": {
      "displayName": "도형준",
      "userId": "02502359465021973562"
     },
     "user_tz": -540
    },
    "id": "XMkblb1C6yuG"
   },
   "outputs": [
    {
     "name": "stdout",
     "output_type": "stream",
     "text": [
      "accuracy_score : 0.8610086100861009\n",
      "              precision    recall  f1-score   support\n",
      "\n",
      "           0       0.90      0.94      0.92      1365\n",
      "           1       0.59      0.44      0.50       261\n",
      "\n",
      "    accuracy                           0.86      1626\n",
      "   macro avg       0.74      0.69      0.71      1626\n",
      "weighted avg       0.85      0.86      0.85      1626\n",
      "\n"
     ]
    }
   ],
   "source": [
    "print(f\"accuracy_score : {accuracy_score(y_test, pred)}\")\n",
    "print(classification_report(y_test, pred))"
   ]
  },
  {
   "cell_type": "markdown",
   "metadata": {},
   "source": [
    "#### 변수의 영향력 -> 중요 변수 확인"
   ]
  },
  {
   "cell_type": "code",
   "execution_count": 59,
   "metadata": {
    "colab": {
     "base_uri": "https://localhost:8080/"
    },
    "executionInfo": {
     "elapsed": 22188,
     "status": "ok",
     "timestamp": 1668495939921,
     "user": {
      "displayName": "도형준",
      "userId": "02502359465021973562"
     },
     "user_tz": -540
    },
    "id": "FuZ16nE27adI",
    "outputId": "b24ed482-edb2-4214-96a9-27d865fca0cf"
   },
   "outputs": [
    {
     "data": {
      "text/plain": [
       "XGBClassifier(base_score=0.5, booster='gbtree', callbacks=None,\n",
       "              colsample_bylevel=1, colsample_bynode=1, colsample_bytree=1,\n",
       "              early_stopping_rounds=None, enable_categorical=False,\n",
       "              eval_metric=None, feature_types=None, gamma=0, gpu_id=-1,\n",
       "              grow_policy='depthwise', importance_type=None,\n",
       "              interaction_constraints='', learning_rate=0.3, max_bin=256,\n",
       "              max_cat_threshold=64, max_cat_to_onehot=4, max_delta_step=0,\n",
       "              max_depth=5, max_leaves=0, min_child_weight=1, missing=nan,\n",
       "              monotone_constraints='()', n_estimators=1000, n_jobs=0,\n",
       "              num_parallel_tree=1, predictor='auto', random_state=100, ...)"
      ]
     },
     "execution_count": 59,
     "metadata": {},
     "output_type": "execute_result"
    }
   ],
   "source": [
    "model = xgb.XGBClassifier(learning_rate=0.3, max_depth=5, \n",
    "                          n_estimators= 1000, subsample=0.5, random_state=100)\n",
    "model.fit(X_train, y_train)"
   ]
  },
  {
   "cell_type": "code",
   "execution_count": 60,
   "metadata": {
    "colab": {
     "base_uri": "https://localhost:8080/"
    },
    "executionInfo": {
     "elapsed": 14,
     "status": "ok",
     "timestamp": 1668495939922,
     "user": {
      "displayName": "도형준",
      "userId": "02502359465021973562"
     },
     "user_tz": -540
    },
    "id": "vG3Dkqew71do",
    "outputId": "3f2c2c18-ece4-483e-e070-a20d167c2e76"
   },
   "outputs": [
    {
     "data": {
      "text/plain": [
       "array([0.02178125, 0.01137641, 0.00998134, 0.00984809, 0.01060789,\n",
       "       0.01359383, 0.01065769, 0.01713986, 0.01186322, 0.01206678,\n",
       "       0.01331671, 0.04854793, 0.01233603, 0.01430371, 0.02732428,\n",
       "       0.01440853, 0.02333124, 0.01437325, 0.01104851, 0.01472254,\n",
       "       0.00973702, 0.01481564, 0.01001215, 0.02409385, 0.01538233,\n",
       "       0.01472   , 0.02749153, 0.01478216, 0.01670052, 0.01100918,\n",
       "       0.0106856 , 0.02170104, 0.04928579, 0.01951623, 0.03824322,\n",
       "       0.01167233, 0.01354653, 0.01223037, 0.01456301, 0.0113123 ,\n",
       "       0.01188446, 0.01298039, 0.01511253, 0.01037562, 0.01001647,\n",
       "       0.01314105, 0.01188815, 0.01242248, 0.01119815, 0.01119024,\n",
       "       0.0116582 , 0.00895496, 0.01707343, 0.01282681, 0.03765631,\n",
       "       0.0283299 , 0.03117039, 0.01136704, 0.02328539, 0.0133381 ],\n",
       "      dtype=float32)"
      ]
     },
     "execution_count": 60,
     "metadata": {},
     "output_type": "execute_result"
    }
   ],
   "source": [
    "# 중요한 변수\n",
    "model.feature_importances_"
   ]
  },
  {
   "cell_type": "code",
   "execution_count": 61,
   "metadata": {
    "executionInfo": {
     "elapsed": 13,
     "status": "ok",
     "timestamp": 1668495939922,
     "user": {
      "displayName": "도형준",
      "userId": "02502359465021973562"
     },
     "user_tz": -540
    },
    "id": "PVJCkjw88Axh"
   },
   "outputs": [],
   "source": [
    "feature_imp = pd.DataFrame({'features': X_train.columns, 'values': model.feature_importances_})"
   ]
  },
  {
   "cell_type": "code",
   "execution_count": 62,
   "metadata": {
    "colab": {
     "base_uri": "https://localhost:8080/",
     "height": 206
    },
    "executionInfo": {
     "elapsed": 13,
     "status": "ok",
     "timestamp": 1668495939923,
     "user": {
      "displayName": "도형준",
      "userId": "02502359465021973562"
     },
     "user_tz": -540
    },
    "id": "hhy4lpfy8O0B",
    "outputId": "ef292381-4d7b-4a8b-aaea-b3720297aab9"
   },
   "outputs": [
    {
     "data": {
      "text/html": [
       "<div>\n",
       "<style scoped>\n",
       "    .dataframe tbody tr th:only-of-type {\n",
       "        vertical-align: middle;\n",
       "    }\n",
       "\n",
       "    .dataframe tbody tr th {\n",
       "        vertical-align: top;\n",
       "    }\n",
       "\n",
       "    .dataframe thead th {\n",
       "        text-align: right;\n",
       "    }\n",
       "</style>\n",
       "<table border=\"1\" class=\"dataframe\">\n",
       "  <thead>\n",
       "    <tr style=\"text-align: right;\">\n",
       "      <th></th>\n",
       "      <th>features</th>\n",
       "      <th>values</th>\n",
       "    </tr>\n",
       "  </thead>\n",
       "  <tbody>\n",
       "    <tr>\n",
       "      <th>0</th>\n",
       "      <td>has_null</td>\n",
       "      <td>0.021781</td>\n",
       "    </tr>\n",
       "    <tr>\n",
       "      <th>1</th>\n",
       "      <td>age</td>\n",
       "      <td>0.011376</td>\n",
       "    </tr>\n",
       "    <tr>\n",
       "      <th>2</th>\n",
       "      <td>age_o</td>\n",
       "      <td>0.009981</td>\n",
       "    </tr>\n",
       "    <tr>\n",
       "      <th>3</th>\n",
       "      <td>importance_same_race</td>\n",
       "      <td>0.009848</td>\n",
       "    </tr>\n",
       "    <tr>\n",
       "      <th>4</th>\n",
       "      <td>importance_same_religion</td>\n",
       "      <td>0.010608</td>\n",
       "    </tr>\n",
       "  </tbody>\n",
       "</table>\n",
       "</div>"
      ],
      "text/plain": [
       "                   features   values\n",
       "0                  has_null 0.021781\n",
       "1                       age 0.011376\n",
       "2                     age_o 0.009981\n",
       "3      importance_same_race 0.009848\n",
       "4  importance_same_religion 0.010608"
      ]
     },
     "execution_count": 62,
     "metadata": {},
     "output_type": "execute_result"
    }
   ],
   "source": [
    "pd.options.display.float_format = '{:.6f}'.format\n",
    "feature_imp.head()"
   ]
  },
  {
   "cell_type": "code",
   "execution_count": 66,
   "metadata": {
    "colab": {
     "base_uri": "https://localhost:8080/",
     "height": 424
    },
    "executionInfo": {
     "elapsed": 13,
     "status": "ok",
     "timestamp": 1668495939923,
     "user": {
      "displayName": "도형준",
      "userId": "02502359465021973562"
     },
     "user_tz": -540
    },
    "id": "tl2DUHNb8bQ4",
    "outputId": "12d1617d-55d5-4ecb-fe48-335b783bd0b1"
   },
   "outputs": [
    {
     "data": {
      "text/html": [
       "<div>\n",
       "<style scoped>\n",
       "    .dataframe tbody tr th:only-of-type {\n",
       "        vertical-align: middle;\n",
       "    }\n",
       "\n",
       "    .dataframe tbody tr th {\n",
       "        vertical-align: top;\n",
       "    }\n",
       "\n",
       "    .dataframe thead th {\n",
       "        text-align: right;\n",
       "    }\n",
       "</style>\n",
       "<table border=\"1\" class=\"dataframe\">\n",
       "  <thead>\n",
       "    <tr style=\"text-align: right;\">\n",
       "      <th></th>\n",
       "      <th>features</th>\n",
       "      <th>values</th>\n",
       "    </tr>\n",
       "  </thead>\n",
       "  <tbody>\n",
       "    <tr>\n",
       "      <th>32</th>\n",
       "      <td>like</td>\n",
       "      <td>0.049286</td>\n",
       "    </tr>\n",
       "    <tr>\n",
       "      <th>11</th>\n",
       "      <td>attractive_o</td>\n",
       "      <td>0.048548</td>\n",
       "    </tr>\n",
       "    <tr>\n",
       "      <th>34</th>\n",
       "      <td>met</td>\n",
       "      <td>0.038243</td>\n",
       "    </tr>\n",
       "    <tr>\n",
       "      <th>54</th>\n",
       "      <td>race_Latino/HispanicAmerican</td>\n",
       "      <td>0.037656</td>\n",
       "    </tr>\n",
       "    <tr>\n",
       "      <th>56</th>\n",
       "      <td>race_o_Black/AfricanAmerican</td>\n",
       "      <td>0.031170</td>\n",
       "    </tr>\n",
       "  </tbody>\n",
       "</table>\n",
       "</div>"
      ],
      "text/plain": [
       "                        features   values\n",
       "32                          like 0.049286\n",
       "11                  attractive_o 0.048548\n",
       "34                           met 0.038243\n",
       "54  race_Latino/HispanicAmerican 0.037656\n",
       "56  race_o_Black/AfricanAmerican 0.031170"
      ]
     },
     "execution_count": 66,
     "metadata": {},
     "output_type": "execute_result"
    }
   ],
   "source": [
    "feature_imp.sort_values(by='values', ascending=False).head()"
   ]
  },
  {
   "cell_type": "code",
   "execution_count": 64,
   "metadata": {
    "colab": {
     "base_uri": "https://localhost:8080/",
     "height": 305
    },
    "executionInfo": {
     "elapsed": 3484,
     "status": "ok",
     "timestamp": 1668496063118,
     "user": {
      "displayName": "도형준",
      "userId": "02502359465021973562"
     },
     "user_tz": -540
    },
    "id": "X1Wjufhf8yIf",
    "outputId": "a2ff2eb4-38ab-4313-b0b5-c3e6e27ef20b"
   },
   "outputs": [
    {
     "data": {
      "text/plain": [
       "<AxesSubplot:>"
      ]
     },
     "execution_count": 64,
     "metadata": {},
     "output_type": "execute_result"
    },
    {
     "data": {
      "text/plain": [
       "<Figure size 7200x14400 with 0 Axes>"
      ]
     },
     "metadata": {},
     "output_type": "display_data"
    },
    {
     "data": {
      "image/png": "[encoded data removed]",
      "text/plain": [
       "<Figure size 432x288 with 1 Axes>"
      ]
     },
     "metadata": {
      "needs_background": "light"
     },
     "output_type": "display_data"
    }
   ],
   "source": [
    "plt.figure(figsize=(100, 200))\n",
    "feature_imp.sort_values(by='values', ascending=True).plot(kind='bar')"
   ]
  },
  {
   "cell_type": "code",
   "execution_count": 65,
   "metadata": {
    "colab": {
     "base_uri": "https://localhost:8080/",
     "height": 497
    },
    "executionInfo": {
     "elapsed": 1187,
     "status": "ok",
     "timestamp": 1668496076742,
     "user": {
      "displayName": "도형준",
      "userId": "02502359465021973562"
     },
     "user_tz": -540
    },
    "id": "wh76WuC-9TWR",
    "outputId": "914c098f-3b97-466d-84b1-eedcb0e5bc89"
   },
   "outputs": [
    {
     "data": {
      "text/plain": [
       "<AxesSubplot:xlabel='values', ylabel='features'>"
      ]
     },
     "execution_count": 65,
     "metadata": {},
     "output_type": "execute_result"
    },
    {
     "data": {
      "image/png": "[encoded data removed]",
      "text/plain": [
       "<Figure size 1440x720 with 1 Axes>"
      ]
     },
     "metadata": {
      "needs_background": "light"
     },
     "output_type": "display_data"
    }
   ],
   "source": [
    "plt.figure(figsize=(20, 10))\n",
    "sns.barplot(x='values', y='features',\n",
    "            data=feature_imp.sort_values(by='values', ascending=False).head(10))"
   ]
  }
 ],
 "metadata": {
  "colab": {
   "authorship_tag": "ABX9TyPP1Ny3BxqFk5e4A49E3rRF",
   "provenance": []
  },
  "kernelspec": {
   "display_name": "Python 3 (ipykernel)",
   "language": "python",
   "name": "python3"
  },
  "language_info": {
   "codemirror_mode": {
    "name": "ipython",
    "version": 3
   },
   "file_extension": ".py",
   "mimetype": "text/x-python",
   "name": "python",
   "nbconvert_exporter": "python",
   "pygments_lexer": "ipython3",
   "version": "3.9.12"
  },
  "varInspector": {
   "cols": {
    "lenName": 16,
    "lenType": 16,
    "lenVar": 40
   },
   "kernels_config": {
    "python": {
     "delete_cmd_postfix": "",
     "delete_cmd_prefix": "del ",
     "library": "var_list.py",
     "varRefreshCmd": "print(var_dic_list())"
    },
    "r": {
     "delete_cmd_postfix": ") ",
     "delete_cmd_prefix": "rm(",
     "library": "var_list.r",
     "varRefreshCmd": "cat(var_dic_list()) "
    }
   },
   "types_to_exclude": [
    "module",
    "function",
    "builtin_function_or_method",
    "instance",
    "_Feature"
   ],
   "window_display": false
  }
 },
 "nbformat": 4,
 "nbformat_minor": 1
}
